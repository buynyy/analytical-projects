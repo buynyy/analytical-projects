{
 "cells": [
  {
   "cell_type": "markdown",
   "metadata": {
    "toc": true
   },
   "source": [
    "<h1>Table of Contents<span class=\"tocSkip\"></span></h1>\n",
    "<div class=\"toc\"><ul class=\"toc-item\"><li><span><a href=\"#Project-Description\" data-toc-modified-id=\"Project-Description-1\"><span class=\"toc-item-num\">1&nbsp;&nbsp;</span>Project Description</a></span></li><li><span><a href=\"#Imports\" data-toc-modified-id=\"Imports-2\"><span class=\"toc-item-num\">2&nbsp;&nbsp;</span>Imports</a></span></li><li><span><a href=\"#Dataset-Loading-&amp;-Exploration\" data-toc-modified-id=\"Dataset-Loading-&amp;-Exploration-3\"><span class=\"toc-item-num\">3&nbsp;&nbsp;</span>Dataset Loading &amp; Exploration</a></span><ul class=\"toc-item\"><li><span><a href=\"#Conclusions-1.0\" data-toc-modified-id=\"Conclusions-1.0-3.1\"><span class=\"toc-item-num\">3.1&nbsp;&nbsp;</span>Conclusions 1.0</a></span></li></ul></li><li><span><a href=\"#Data-Preproessing\" data-toc-modified-id=\"Data-Preproessing-4\"><span class=\"toc-item-num\">4&nbsp;&nbsp;</span>Data Preproessing</a></span><ul class=\"toc-item\"><li><span><a href=\"#Check-for-Duplicates\" data-toc-modified-id=\"Check-for-Duplicates-4.1\"><span class=\"toc-item-num\">4.1&nbsp;&nbsp;</span>Check for Duplicates</a></span></li><li><span><a href=\"#text-field\" data-toc-modified-id=\"text-field-4.2\"><span class=\"toc-item-num\">4.2&nbsp;&nbsp;</span><code>text</code> field</a></span><ul class=\"toc-item\"><li><span><a href=\"#Text-Cleaning\" data-toc-modified-id=\"Text-Cleaning-4.2.1\"><span class=\"toc-item-num\">4.2.1&nbsp;&nbsp;</span>Text Cleaning</a></span></li><li><span><a href=\"#Lowercase\" data-toc-modified-id=\"Lowercase-4.2.2\"><span class=\"toc-item-num\">4.2.2&nbsp;&nbsp;</span>Lowercase</a></span></li><li><span><a href=\"#Samples-Formation\" data-toc-modified-id=\"Samples-Formation-4.2.3\"><span class=\"toc-item-num\">4.2.3&nbsp;&nbsp;</span>Samples Formation</a></span></li><li><span><a href=\"#Stemming-&amp;-Format-Setting\" data-toc-modified-id=\"Stemming-&amp;-Format-Setting-4.2.4\"><span class=\"toc-item-num\">4.2.4&nbsp;&nbsp;</span>Stemming &amp; Format Setting</a></span></li><li><span><a href=\"#Stopword-Elimination-&amp;-TF-IDF-Calculation\" data-toc-modified-id=\"Stopword-Elimination-&amp;-TF-IDF-Calculation-4.2.5\"><span class=\"toc-item-num\">4.2.5&nbsp;&nbsp;</span>Stopword Elimination &amp; TF-IDF Calculation</a></span></li></ul></li></ul></li><li><span><a href=\"#Model-Training-|-Cross-validation\" data-toc-modified-id=\"Model-Training-|-Cross-validation-5\"><span class=\"toc-item-num\">5&nbsp;&nbsp;</span>Model Training | Cross-validation</a></span><ul class=\"toc-item\"><li><span><a href=\"#DecisionTreeClassifier\" data-toc-modified-id=\"DecisionTreeClassifier-5.1\"><span class=\"toc-item-num\">5.1&nbsp;&nbsp;</span>DecisionTreeClassifier</a></span></li><li><span><a href=\"#RandomForestClassifier\" data-toc-modified-id=\"RandomForestClassifier-5.2\"><span class=\"toc-item-num\">5.2&nbsp;&nbsp;</span>RandomForestClassifier</a></span></li><li><span><a href=\"#LogisticRegression\" data-toc-modified-id=\"LogisticRegression-5.3\"><span class=\"toc-item-num\">5.3&nbsp;&nbsp;</span>LogisticRegression</a></span></li></ul></li><li><span><a href=\"#Models-Analysis\" data-toc-modified-id=\"Models-Analysis-6\"><span class=\"toc-item-num\">6&nbsp;&nbsp;</span>Models Analysis</a></span><ul class=\"toc-item\"><li><span><a href=\"#Model-Testing\" data-toc-modified-id=\"Model-Testing-6.1\"><span class=\"toc-item-num\">6.1&nbsp;&nbsp;</span>Model Testing</a></span></li></ul></li><li><span><a href=\"#Conclusions\" data-toc-modified-id=\"Conclusions-7\"><span class=\"toc-item-num\">7&nbsp;&nbsp;</span>Conclusions</a></span></li></ul></div>"
   ]
  },
  {
   "cell_type": "markdown",
   "metadata": {},
   "source": [
    "# Toxic Comments Classification"
   ]
  },
  {
   "cell_type": "markdown",
   "metadata": {},
   "source": [
    "## Project Description"
   ]
  },
  {
   "cell_type": "markdown",
   "metadata": {},
   "source": [
    "Online store \"Magazinchik Wik\" launches a new service. Now users can edit and supplement product descriptions. That is, clients propose their edits and comment on the changes of others. The store needs a tool that will look for toxic comments and submit them for moderation.\n",
    "\n",
    "Train the model to classify comments into positive and negative. At your disposal is a dataset with markup on the toxicity of edits.\n",
    "\n",
    "**Build a model with a quality metric *F1* of at least 0.75.**\n",
    "\n",
    "---\n",
    "\n",
    "**Instructions for the implementation of the project:**\n",
    "\n",
    "1. Download and prepare data.\n",
    "2. Train different models.\n",
    "3. Draw conclusions.\n",
    "\n",
    "**Data Description**\n",
    "\n",
    "The data is in the `toxic_comments.csv` file. The *text* column contains the text of the comment, and *toxic* is the target attribute."
   ]
  },
  {
   "cell_type": "markdown",
   "metadata": {},
   "source": [
    "## Imports"
   ]
  },
  {
   "cell_type": "code",
   "execution_count": 2,
   "metadata": {},
   "outputs": [
    {
     "name": "stderr",
     "output_type": "stream",
     "text": [
      "[nltk_data] Downloading package stopwords to /home/jovyan/nltk_data...\n",
      "[nltk_data]   Package stopwords is already up-to-date!\n"
     ]
    }
   ],
   "source": [
    "import pandas as pd\n",
    "import numpy as np\n",
    "from pymystem3 import Mystem\n",
    "import re\n",
    "from tqdm import notebook\n",
    "import nltk\n",
    "nltk.download('stopwords')\n",
    "from nltk.stem import WordNetLemmatizer\n",
    "from nltk.stem.snowball import SnowballStemmer\n",
    "from sklearn.feature_extraction.text import TfidfVectorizer\n",
    "from nltk.corpus import stopwords as nltk_stopwords\n",
    "from sklearn.model_selection import train_test_split\n",
    "from sklearn.linear_model import LogisticRegression\n",
    "from sklearn.tree import DecisionTreeClassifier\n",
    "from sklearn.ensemble import RandomForestClassifier\n",
    "from sklearn.metrics import f1_score\n",
    "from sklearn.model_selection import cross_val_score"
   ]
  },
  {
   "cell_type": "markdown",
   "metadata": {},
   "source": [
    "## Dataset Loading & Exploration"
   ]
  },
  {
   "cell_type": "code",
   "execution_count": 3,
   "metadata": {},
   "outputs": [
    {
     "data": {
      "text/html": [
       "<div>\n",
       "<style scoped>\n",
       "    .dataframe tbody tr th:only-of-type {\n",
       "        vertical-align: middle;\n",
       "    }\n",
       "\n",
       "    .dataframe tbody tr th {\n",
       "        vertical-align: top;\n",
       "    }\n",
       "\n",
       "    .dataframe thead th {\n",
       "        text-align: right;\n",
       "    }\n",
       "</style>\n",
       "<table border=\"1\" class=\"dataframe\">\n",
       "  <thead>\n",
       "    <tr style=\"text-align: right;\">\n",
       "      <th></th>\n",
       "      <th>Unnamed: 0</th>\n",
       "      <th>text</th>\n",
       "      <th>toxic</th>\n",
       "    </tr>\n",
       "  </thead>\n",
       "  <tbody>\n",
       "    <tr>\n",
       "      <th>159282</th>\n",
       "      <td>159441</td>\n",
       "      <td>\"\\nNo he did not, read it again (I would have ...</td>\n",
       "      <td>0</td>\n",
       "    </tr>\n",
       "    <tr>\n",
       "      <th>159283</th>\n",
       "      <td>159442</td>\n",
       "      <td>\"\\n Auto guides and the motoring press are not...</td>\n",
       "      <td>0</td>\n",
       "    </tr>\n",
       "    <tr>\n",
       "      <th>159284</th>\n",
       "      <td>159443</td>\n",
       "      <td>\"\\nplease identify what part of BLP applies be...</td>\n",
       "      <td>0</td>\n",
       "    </tr>\n",
       "    <tr>\n",
       "      <th>159285</th>\n",
       "      <td>159444</td>\n",
       "      <td>Catalan independentism is the social movement ...</td>\n",
       "      <td>0</td>\n",
       "    </tr>\n",
       "    <tr>\n",
       "      <th>159286</th>\n",
       "      <td>159445</td>\n",
       "      <td>The numbers in parentheses are the additional ...</td>\n",
       "      <td>0</td>\n",
       "    </tr>\n",
       "    <tr>\n",
       "      <th>159287</th>\n",
       "      <td>159446</td>\n",
       "      <td>\":::::And for the second time of asking, when ...</td>\n",
       "      <td>0</td>\n",
       "    </tr>\n",
       "    <tr>\n",
       "      <th>159288</th>\n",
       "      <td>159447</td>\n",
       "      <td>You should be ashamed of yourself \\n\\nThat is ...</td>\n",
       "      <td>0</td>\n",
       "    </tr>\n",
       "    <tr>\n",
       "      <th>159289</th>\n",
       "      <td>159448</td>\n",
       "      <td>Spitzer \\n\\nUmm, theres no actual article for ...</td>\n",
       "      <td>0</td>\n",
       "    </tr>\n",
       "    <tr>\n",
       "      <th>159290</th>\n",
       "      <td>159449</td>\n",
       "      <td>And it looks like it was actually you who put ...</td>\n",
       "      <td>0</td>\n",
       "    </tr>\n",
       "    <tr>\n",
       "      <th>159291</th>\n",
       "      <td>159450</td>\n",
       "      <td>\"\\nAnd ... I really don't think you understand...</td>\n",
       "      <td>0</td>\n",
       "    </tr>\n",
       "  </tbody>\n",
       "</table>\n",
       "</div>"
      ],
      "text/plain": [
       "        Unnamed: 0                                               text  toxic\n",
       "159282      159441  \"\\nNo he did not, read it again (I would have ...      0\n",
       "159283      159442  \"\\n Auto guides and the motoring press are not...      0\n",
       "159284      159443  \"\\nplease identify what part of BLP applies be...      0\n",
       "159285      159444  Catalan independentism is the social movement ...      0\n",
       "159286      159445  The numbers in parentheses are the additional ...      0\n",
       "159287      159446  \":::::And for the second time of asking, when ...      0\n",
       "159288      159447  You should be ashamed of yourself \\n\\nThat is ...      0\n",
       "159289      159448  Spitzer \\n\\nUmm, theres no actual article for ...      0\n",
       "159290      159449  And it looks like it was actually you who put ...      0\n",
       "159291      159450  \"\\nAnd ... I really don't think you understand...      0"
      ]
     },
     "metadata": {},
     "output_type": "display_data"
    },
    {
     "name": "stdout",
     "output_type": "stream",
     "text": [
      "<class 'pandas.core.frame.DataFrame'>\n",
      "RangeIndex: 159292 entries, 0 to 159291\n",
      "Data columns (total 3 columns):\n",
      " #   Column      Non-Null Count   Dtype \n",
      "---  ------      --------------   ----- \n",
      " 0   Unnamed: 0  159292 non-null  int64 \n",
      " 1   text        159292 non-null  object\n",
      " 2   toxic       159292 non-null  int64 \n",
      "dtypes: int64(2), object(1)\n",
      "memory usage: 3.6+ MB\n"
     ]
    },
    {
     "data": {
      "text/plain": [
       "None"
      ]
     },
     "metadata": {},
     "output_type": "display_data"
    },
    {
     "data": {
      "text/html": [
       "<div>\n",
       "<style scoped>\n",
       "    .dataframe tbody tr th:only-of-type {\n",
       "        vertical-align: middle;\n",
       "    }\n",
       "\n",
       "    .dataframe tbody tr th {\n",
       "        vertical-align: top;\n",
       "    }\n",
       "\n",
       "    .dataframe thead th {\n",
       "        text-align: right;\n",
       "    }\n",
       "</style>\n",
       "<table border=\"1\" class=\"dataframe\">\n",
       "  <thead>\n",
       "    <tr style=\"text-align: right;\">\n",
       "      <th></th>\n",
       "      <th>Unnamed: 0</th>\n",
       "      <th>toxic</th>\n",
       "    </tr>\n",
       "  </thead>\n",
       "  <tbody>\n",
       "    <tr>\n",
       "      <th>count</th>\n",
       "      <td>159292.000000</td>\n",
       "      <td>159292.000000</td>\n",
       "    </tr>\n",
       "    <tr>\n",
       "      <th>mean</th>\n",
       "      <td>79725.697242</td>\n",
       "      <td>0.101612</td>\n",
       "    </tr>\n",
       "    <tr>\n",
       "      <th>std</th>\n",
       "      <td>46028.837471</td>\n",
       "      <td>0.302139</td>\n",
       "    </tr>\n",
       "    <tr>\n",
       "      <th>min</th>\n",
       "      <td>0.000000</td>\n",
       "      <td>0.000000</td>\n",
       "    </tr>\n",
       "    <tr>\n",
       "      <th>25%</th>\n",
       "      <td>39872.750000</td>\n",
       "      <td>0.000000</td>\n",
       "    </tr>\n",
       "    <tr>\n",
       "      <th>50%</th>\n",
       "      <td>79721.500000</td>\n",
       "      <td>0.000000</td>\n",
       "    </tr>\n",
       "    <tr>\n",
       "      <th>75%</th>\n",
       "      <td>119573.250000</td>\n",
       "      <td>0.000000</td>\n",
       "    </tr>\n",
       "    <tr>\n",
       "      <th>max</th>\n",
       "      <td>159450.000000</td>\n",
       "      <td>1.000000</td>\n",
       "    </tr>\n",
       "  </tbody>\n",
       "</table>\n",
       "</div>"
      ],
      "text/plain": [
       "          Unnamed: 0          toxic\n",
       "count  159292.000000  159292.000000\n",
       "mean    79725.697242       0.101612\n",
       "std     46028.837471       0.302139\n",
       "min         0.000000       0.000000\n",
       "25%     39872.750000       0.000000\n",
       "50%     79721.500000       0.000000\n",
       "75%    119573.250000       0.000000\n",
       "max    159450.000000       1.000000"
      ]
     },
     "metadata": {},
     "output_type": "display_data"
    }
   ],
   "source": [
    "df = pd.read_csv('/datasets/toxic_comments.csv')\n",
    "\n",
    "display(df.tail(10))\n",
    "display(df.info())\n",
    "display(df.describe())"
   ]
  },
  {
   "cell_type": "markdown",
   "metadata": {},
   "source": [
    "### Conclusions 1.0"
   ]
  },
  {
   "cell_type": "markdown",
   "metadata": {},
   "source": [
    "- Dataset contains only 2 fields:\n",
    "    - `text` - client comment\n",
    "    - `toxic` - a characteristic of a comment that reflects the \"toxicity\" of a text message\n",
    "    \n",
    "    \n",
    "- Comments language - English\n",
    "\n",
    "\n",
    "- There are no gaps in the data\n",
    "\n",
    "\n",
    "- Need to check for duplicates\n",
    "\n",
    "\n",
    "- It is required to divide the samples into training and test\n",
    "\n",
    "\n",
    "- The `text` field must be properly processed before training:\n",
    "    - convert texts to Unicode format (U)\n",
    "    - remove extra characters\n",
    "    - convert all words of the message to lowercase\n",
    "    - exclude stop words from learning\n",
    "    - perform lemmatization"
   ]
  },
  {
   "cell_type": "markdown",
   "metadata": {},
   "source": [
    "## Data Preproessing"
   ]
  },
  {
   "cell_type": "markdown",
   "metadata": {},
   "source": [
    "### Check for Duplicates"
   ]
  },
  {
   "cell_type": "code",
   "execution_count": 4,
   "metadata": {},
   "outputs": [
    {
     "name": "stdout",
     "output_type": "stream",
     "text": [
      "Число дубликатов: 0\n"
     ]
    }
   ],
   "source": [
    "print('Число дубликатов:', df.duplicated().sum())"
   ]
  },
  {
   "cell_type": "markdown",
   "metadata": {},
   "source": [
    "###  `text` field"
   ]
  },
  {
   "cell_type": "markdown",
   "metadata": {},
   "source": [
    "#### Text Cleaning"
   ]
  },
  {
   "cell_type": "markdown",
   "metadata": {},
   "source": [
    "We will leave in each of the comments only characters containing Latin and spaces"
   ]
  },
  {
   "cell_type": "code",
   "execution_count": 5,
   "metadata": {},
   "outputs": [],
   "source": [
    "# Function for text cleaning\n",
    "\n",
    "def clean_text(text):\n",
    "    \n",
    "    clean_1 = re.sub(r'[^a-zA-Z ]', ' ', text) \n",
    "    clean_2 = ' '.join(clean_1.split())\n",
    "    \n",
    "    return clean_2"
   ]
  },
  {
   "cell_type": "code",
   "execution_count": 6,
   "metadata": {},
   "outputs": [
    {
     "data": {
      "text/html": [
       "<div>\n",
       "<style scoped>\n",
       "    .dataframe tbody tr th:only-of-type {\n",
       "        vertical-align: middle;\n",
       "    }\n",
       "\n",
       "    .dataframe tbody tr th {\n",
       "        vertical-align: top;\n",
       "    }\n",
       "\n",
       "    .dataframe thead th {\n",
       "        text-align: right;\n",
       "    }\n",
       "</style>\n",
       "<table border=\"1\" class=\"dataframe\">\n",
       "  <thead>\n",
       "    <tr style=\"text-align: right;\">\n",
       "      <th></th>\n",
       "      <th>text</th>\n",
       "      <th>toxic</th>\n",
       "      <th>text_clean</th>\n",
       "    </tr>\n",
       "  </thead>\n",
       "  <tbody>\n",
       "    <tr>\n",
       "      <td>0</td>\n",
       "      <td>Explanation\\nWhy the edits made under my usern...</td>\n",
       "      <td>0</td>\n",
       "      <td>Explanation Why the edits made under my userna...</td>\n",
       "    </tr>\n",
       "    <tr>\n",
       "      <td>1</td>\n",
       "      <td>D'aww! He matches this background colour I'm s...</td>\n",
       "      <td>0</td>\n",
       "      <td>D aww He matches this background colour I m se...</td>\n",
       "    </tr>\n",
       "    <tr>\n",
       "      <td>2</td>\n",
       "      <td>Hey man, I'm really not trying to edit war. It...</td>\n",
       "      <td>0</td>\n",
       "      <td>Hey man I m really not trying to edit war It s...</td>\n",
       "    </tr>\n",
       "    <tr>\n",
       "      <td>3</td>\n",
       "      <td>\"\\nMore\\nI can't make any real suggestions on ...</td>\n",
       "      <td>0</td>\n",
       "      <td>More I can t make any real suggestions on impr...</td>\n",
       "    </tr>\n",
       "    <tr>\n",
       "      <td>4</td>\n",
       "      <td>You, sir, are my hero. Any chance you remember...</td>\n",
       "      <td>0</td>\n",
       "      <td>You sir are my hero Any chance you remember wh...</td>\n",
       "    </tr>\n",
       "  </tbody>\n",
       "</table>\n",
       "</div>"
      ],
      "text/plain": [
       "                                                text  toxic  \\\n",
       "0  Explanation\\nWhy the edits made under my usern...      0   \n",
       "1  D'aww! He matches this background colour I'm s...      0   \n",
       "2  Hey man, I'm really not trying to edit war. It...      0   \n",
       "3  \"\\nMore\\nI can't make any real suggestions on ...      0   \n",
       "4  You, sir, are my hero. Any chance you remember...      0   \n",
       "\n",
       "                                          text_clean  \n",
       "0  Explanation Why the edits made under my userna...  \n",
       "1  D aww He matches this background colour I m se...  \n",
       "2  Hey man I m really not trying to edit war It s...  \n",
       "3  More I can t make any real suggestions on impr...  \n",
       "4  You sir are my hero Any chance you remember wh...  "
      ]
     },
     "execution_count": 6,
     "metadata": {},
     "output_type": "execute_result"
    }
   ],
   "source": [
    "df['text_clean'] = df['text'].apply(lambda x: clean_text(x))\n",
    "                                    \n",
    "df.head(5)"
   ]
  },
  {
   "cell_type": "markdown",
   "metadata": {},
   "source": [
    "#### Lowercase"
   ]
  },
  {
   "cell_type": "code",
   "execution_count": 7,
   "metadata": {
    "scrolled": true
   },
   "outputs": [
    {
     "data": {
      "text/html": [
       "<div>\n",
       "<style scoped>\n",
       "    .dataframe tbody tr th:only-of-type {\n",
       "        vertical-align: middle;\n",
       "    }\n",
       "\n",
       "    .dataframe tbody tr th {\n",
       "        vertical-align: top;\n",
       "    }\n",
       "\n",
       "    .dataframe thead th {\n",
       "        text-align: right;\n",
       "    }\n",
       "</style>\n",
       "<table border=\"1\" class=\"dataframe\">\n",
       "  <thead>\n",
       "    <tr style=\"text-align: right;\">\n",
       "      <th></th>\n",
       "      <th>text</th>\n",
       "      <th>toxic</th>\n",
       "      <th>text_clean</th>\n",
       "    </tr>\n",
       "  </thead>\n",
       "  <tbody>\n",
       "    <tr>\n",
       "      <td>0</td>\n",
       "      <td>Explanation\\nWhy the edits made under my usern...</td>\n",
       "      <td>0</td>\n",
       "      <td>explanation why the edits made under my userna...</td>\n",
       "    </tr>\n",
       "    <tr>\n",
       "      <td>1</td>\n",
       "      <td>D'aww! He matches this background colour I'm s...</td>\n",
       "      <td>0</td>\n",
       "      <td>d aww he matches this background colour i m se...</td>\n",
       "    </tr>\n",
       "    <tr>\n",
       "      <td>2</td>\n",
       "      <td>Hey man, I'm really not trying to edit war. It...</td>\n",
       "      <td>0</td>\n",
       "      <td>hey man i m really not trying to edit war it s...</td>\n",
       "    </tr>\n",
       "    <tr>\n",
       "      <td>3</td>\n",
       "      <td>\"\\nMore\\nI can't make any real suggestions on ...</td>\n",
       "      <td>0</td>\n",
       "      <td>more i can t make any real suggestions on impr...</td>\n",
       "    </tr>\n",
       "    <tr>\n",
       "      <td>4</td>\n",
       "      <td>You, sir, are my hero. Any chance you remember...</td>\n",
       "      <td>0</td>\n",
       "      <td>you sir are my hero any chance you remember wh...</td>\n",
       "    </tr>\n",
       "  </tbody>\n",
       "</table>\n",
       "</div>"
      ],
      "text/plain": [
       "                                                text  toxic  \\\n",
       "0  Explanation\\nWhy the edits made under my usern...      0   \n",
       "1  D'aww! He matches this background colour I'm s...      0   \n",
       "2  Hey man, I'm really not trying to edit war. It...      0   \n",
       "3  \"\\nMore\\nI can't make any real suggestions on ...      0   \n",
       "4  You, sir, are my hero. Any chance you remember...      0   \n",
       "\n",
       "                                          text_clean  \n",
       "0  explanation why the edits made under my userna...  \n",
       "1  d aww he matches this background colour i m se...  \n",
       "2  hey man i m really not trying to edit war it s...  \n",
       "3  more i can t make any real suggestions on impr...  \n",
       "4  you sir are my hero any chance you remember wh...  "
      ]
     },
     "execution_count": 7,
     "metadata": {},
     "output_type": "execute_result"
    }
   ],
   "source": [
    "df['text_clean'] = df['text_clean'].apply(lambda x: x.lower())\n",
    "\n",
    "df.head(5)"
   ]
  },
  {
   "cell_type": "markdown",
   "metadata": {},
   "source": [
    "#### Samples Formation"
   ]
  },
  {
   "cell_type": "code",
   "execution_count": 8,
   "metadata": {},
   "outputs": [],
   "source": [
    "features = df['text_clean']\n",
    "target = df['toxic']\n",
    "\n",
    "features_train, features_test, target_train, target_test = \\\n",
    "        train_test_split(features, target, test_size=0.1, random_state=12345)"
   ]
  },
  {
   "cell_type": "markdown",
   "metadata": {},
   "source": [
    "#### Stemming & Format Setting"
   ]
  },
  {
   "cell_type": "code",
   "execution_count": 11,
   "metadata": {},
   "outputs": [],
   "source": [
    "stemmer = SnowballStemmer('english')"
   ]
  },
  {
   "cell_type": "code",
   "execution_count": 12,
   "metadata": {
    "scrolled": true
   },
   "outputs": [
    {
     "data": {
      "application/vnd.jupyter.widget-view+json": {
       "model_id": "559f1191d11a4872855d822dd0788bad",
       "version_major": 2,
       "version_minor": 0
      },
      "text/plain": [
       "HBox(children=(HTML(value=''), FloatProgress(value=0.0, max=143613.0), HTML(value='')))"
      ]
     },
     "metadata": {},
     "output_type": "display_data"
    },
    {
     "name": "stdout",
     "output_type": "stream",
     "text": [
      "\n"
     ]
    }
   ],
   "source": [
    "comments_train = features_train.values.astype('U')\n",
    "\n",
    "for i in notebook.tqdm(range(len(comments_train))):\n",
    "    words = nltk.word_tokenize(comments_train[i])\n",
    "    comments_train[i] = ' '.join([stemmer.stem(w) for w in words])"
   ]
  },
  {
   "cell_type": "code",
   "execution_count": 13,
   "metadata": {},
   "outputs": [
    {
     "data": {
      "application/vnd.jupyter.widget-view+json": {
       "model_id": "56422b72327b41c9a4cc9aa94b148f0b",
       "version_major": 2,
       "version_minor": 0
      },
      "text/plain": [
       "HBox(children=(HTML(value=''), FloatProgress(value=0.0, max=15958.0), HTML(value='')))"
      ]
     },
     "metadata": {},
     "output_type": "display_data"
    },
    {
     "name": "stdout",
     "output_type": "stream",
     "text": [
      "\n"
     ]
    }
   ],
   "source": [
    "comments_test = features_test.values.astype('U')\n",
    "\n",
    "for i in notebook.tqdm(range(len(comments_test))):\n",
    "    words = nltk.word_tokenize(comments_test[i])\n",
    "    comments_test[i] = ' '.join([stemmer.stem(w) for w in words])"
   ]
  },
  {
   "cell_type": "markdown",
   "metadata": {},
   "source": [
    "#### Stopword Elimination & TF-IDF Calculation"
   ]
  },
  {
   "cell_type": "code",
   "execution_count": 14,
   "metadata": {},
   "outputs": [
    {
     "name": "stdout",
     "output_type": "stream",
     "text": [
      "CPU times: user 4 µs, sys: 0 ns, total: 4 µs\n",
      "Wall time: 8.58 µs\n"
     ]
    }
   ],
   "source": [
    "%time\n",
    "\n",
    "stopwords = set(nltk_stopwords.words('english'))\n",
    "\n",
    "tf_idf_count = TfidfVectorizer(stop_words=stopwords)\n",
    "tf_idf_value = tf_idf_count.fit(comments_train)\n",
    "\n",
    "train_features = tf_idf_value.transform(comments_train)\n",
    "test_features= tf_idf_value.transform(comments_test)"
   ]
  },
  {
   "cell_type": "markdown",
   "metadata": {},
   "source": [
    "## Model Training | Cross-validation"
   ]
  },
  {
   "cell_type": "markdown",
   "metadata": {},
   "source": [
    "### DecisionTreeClassifier"
   ]
  },
  {
   "cell_type": "code",
   "execution_count": 15,
   "metadata": {},
   "outputs": [
    {
     "data": {
      "application/vnd.jupyter.widget-view+json": {
       "model_id": "adcadb180e0a42ab939a41b2ae97cd9a",
       "version_major": 2,
       "version_minor": 0
      },
      "text/plain": [
       "HBox(children=(HTML(value=''), FloatProgress(value=0.0, max=5.0), HTML(value='')))"
      ]
     },
     "metadata": {},
     "output_type": "display_data"
    },
    {
     "name": "stdout",
     "output_type": "stream",
     "text": [
      "\n",
      "\u001b[1mModel: \u001b[0mDecisionTreeClassifier\n",
      "\u001b[1mF1-score: \u001b[0m 0.6527422531088689\n",
      "max_depth: 61\n"
     ]
    }
   ],
   "source": [
    "best_model_cross_tree = None\n",
    "best_depth_cross_tree = 0\n",
    "best_f1_cross_tree = 0.5\n",
    "\n",
    "for depth in notebook.tqdm(range(1, 101, 20)):\n",
    "    \n",
    "    model_cross_tree = DecisionTreeClassifier(random_state=12345, class_weight = 'balanced',\\\n",
    "                                              max_depth=depth)\n",
    "    \n",
    "    mean_f1_tree = cross_val_score(model_cross_tree, train_features, target_train, cv=5, \\\n",
    "                                          scoring='f1').mean()\n",
    "    \n",
    "    if mean_f1_tree > best_f1_cross_tree:\n",
    "        best_model_cross_tree = model_cross_tree\n",
    "        best_depth_cross_tree = depth\n",
    "        best_f1_cross_tree = mean_f1_tree\n",
    "        \n",
    "print('\\033[1m' + 'Model: ' + '\\033[0m' + type(best_model_cross_tree).__name__ )\n",
    "print('\\033[1m' + 'F1-score: ' + '\\033[0m', best_f1_cross_tree) \n",
    "print('max_depth:', best_depth_cross_tree)"
   ]
  },
  {
   "cell_type": "markdown",
   "metadata": {},
   "source": [
    "### RandomForestClassifier"
   ]
  },
  {
   "cell_type": "code",
   "execution_count": 17,
   "metadata": {},
   "outputs": [
    {
     "data": {
      "application/vnd.jupyter.widget-view+json": {
       "model_id": "6f86edb02a12423ba3f38464af34550c",
       "version_major": 2,
       "version_minor": 0
      },
      "text/plain": [
       "HBox(children=(HTML(value=''), FloatProgress(value=0.0, max=10.0), HTML(value='')))"
      ]
     },
     "metadata": {},
     "output_type": "display_data"
    },
    {
     "name": "stdout",
     "output_type": "stream",
     "text": [
      "\n",
      "\u001b[1mModel: \u001b[0mNoneType\n",
      "\u001b[1mF1-score: \u001b[0m 0.6527422531088689\n",
      "n_estimators: 0\n",
      "max_depth: 0\n"
     ]
    }
   ],
   "source": [
    "best_model_cross_forest = None\n",
    "best_est_cross_forest = 0\n",
    "best_depth_cross_forest = 0\n",
    "best_f1_cross_forest = best_f1_cross_tree\n",
    "\n",
    "for est in notebook.tqdm(range(1, 11, 1)):\n",
    "    for depth in range (1, 101, 20):\n",
    "        \n",
    "        model_cross_forest = RandomForestClassifier(random_state=12345, class_weight = 'balanced',\\\n",
    "                                              n_estimators=est, max_depth=depth) \n",
    "        \n",
    "        mean_f1_forest = cross_val_score(model_cross_forest, train_features, target_train, cv=5, \\\n",
    "                                          scoring='f1').mean()\n",
    "        if mean_f1_forest > best_f1_cross_forest:\n",
    "            best_model_cross_forest = model_cross_forest\n",
    "            best_est_cross_forest = est\n",
    "            best_depth_cross_forest = depth\n",
    "            best_f1_cross_forest = mean_f1_forest\n",
    "        \n",
    "print('\\033[1m' + 'Model: ' + '\\033[0m' + type(best_model_cross_forest).__name__ )\n",
    "print('\\033[1m' + 'F1-score: ' + '\\033[0m', best_f1_cross_forest) \n",
    "print('n_estimators:', best_est_cross_forest)\n",
    "print('max_depth:', best_depth_cross_forest)\n"
   ]
  },
  {
   "cell_type": "markdown",
   "metadata": {},
   "source": [
    "### LogisticRegression"
   ]
  },
  {
   "cell_type": "code",
   "execution_count": 20,
   "metadata": {
    "scrolled": false
   },
   "outputs": [
    {
     "data": {
      "application/vnd.jupyter.widget-view+json": {
       "model_id": "9286140f13334582b542f26a96f2482e",
       "version_major": 2,
       "version_minor": 0
      },
      "text/plain": [
       "HBox(children=(HTML(value=''), FloatProgress(value=0.0, max=18.0), HTML(value='')))"
      ]
     },
     "metadata": {},
     "output_type": "display_data"
    },
    {
     "name": "stderr",
     "output_type": "stream",
     "text": [
      "/opt/conda/lib/python3.7/site-packages/sklearn/linear_model/logistic.py:432: FutureWarning: Default solver will be changed to 'lbfgs' in 0.22. Specify a solver to silence this warning.\n",
      "  FutureWarning)\n",
      "/opt/conda/lib/python3.7/site-packages/sklearn/linear_model/logistic.py:432: FutureWarning: Default solver will be changed to 'lbfgs' in 0.22. Specify a solver to silence this warning.\n",
      "  FutureWarning)\n",
      "/opt/conda/lib/python3.7/site-packages/sklearn/linear_model/logistic.py:432: FutureWarning: Default solver will be changed to 'lbfgs' in 0.22. Specify a solver to silence this warning.\n",
      "  FutureWarning)\n",
      "/opt/conda/lib/python3.7/site-packages/sklearn/linear_model/logistic.py:432: FutureWarning: Default solver will be changed to 'lbfgs' in 0.22. Specify a solver to silence this warning.\n",
      "  FutureWarning)\n",
      "/opt/conda/lib/python3.7/site-packages/sklearn/linear_model/logistic.py:432: FutureWarning: Default solver will be changed to 'lbfgs' in 0.22. Specify a solver to silence this warning.\n",
      "  FutureWarning)\n",
      "/opt/conda/lib/python3.7/site-packages/sklearn/linear_model/logistic.py:432: FutureWarning: Default solver will be changed to 'lbfgs' in 0.22. Specify a solver to silence this warning.\n",
      "  FutureWarning)\n",
      "/opt/conda/lib/python3.7/site-packages/sklearn/linear_model/logistic.py:432: FutureWarning: Default solver will be changed to 'lbfgs' in 0.22. Specify a solver to silence this warning.\n",
      "  FutureWarning)\n",
      "/opt/conda/lib/python3.7/site-packages/sklearn/linear_model/logistic.py:432: FutureWarning: Default solver will be changed to 'lbfgs' in 0.22. Specify a solver to silence this warning.\n",
      "  FutureWarning)\n",
      "/opt/conda/lib/python3.7/site-packages/sklearn/linear_model/logistic.py:432: FutureWarning: Default solver will be changed to 'lbfgs' in 0.22. Specify a solver to silence this warning.\n",
      "  FutureWarning)\n",
      "/opt/conda/lib/python3.7/site-packages/sklearn/linear_model/logistic.py:432: FutureWarning: Default solver will be changed to 'lbfgs' in 0.22. Specify a solver to silence this warning.\n",
      "  FutureWarning)\n",
      "/opt/conda/lib/python3.7/site-packages/sklearn/linear_model/logistic.py:432: FutureWarning: Default solver will be changed to 'lbfgs' in 0.22. Specify a solver to silence this warning.\n",
      "  FutureWarning)\n",
      "/opt/conda/lib/python3.7/site-packages/sklearn/linear_model/logistic.py:432: FutureWarning: Default solver will be changed to 'lbfgs' in 0.22. Specify a solver to silence this warning.\n",
      "  FutureWarning)\n",
      "/opt/conda/lib/python3.7/site-packages/sklearn/linear_model/logistic.py:432: FutureWarning: Default solver will be changed to 'lbfgs' in 0.22. Specify a solver to silence this warning.\n",
      "  FutureWarning)\n",
      "/opt/conda/lib/python3.7/site-packages/sklearn/linear_model/logistic.py:432: FutureWarning: Default solver will be changed to 'lbfgs' in 0.22. Specify a solver to silence this warning.\n",
      "  FutureWarning)\n",
      "/opt/conda/lib/python3.7/site-packages/sklearn/linear_model/logistic.py:432: FutureWarning: Default solver will be changed to 'lbfgs' in 0.22. Specify a solver to silence this warning.\n",
      "  FutureWarning)\n",
      "/opt/conda/lib/python3.7/site-packages/sklearn/linear_model/logistic.py:432: FutureWarning: Default solver will be changed to 'lbfgs' in 0.22. Specify a solver to silence this warning.\n",
      "  FutureWarning)\n",
      "/opt/conda/lib/python3.7/site-packages/sklearn/linear_model/logistic.py:432: FutureWarning: Default solver will be changed to 'lbfgs' in 0.22. Specify a solver to silence this warning.\n",
      "  FutureWarning)\n",
      "/opt/conda/lib/python3.7/site-packages/sklearn/linear_model/logistic.py:432: FutureWarning: Default solver will be changed to 'lbfgs' in 0.22. Specify a solver to silence this warning.\n",
      "  FutureWarning)\n"
     ]
    },
    {
     "name": "stdout",
     "output_type": "stream",
     "text": [
      "\n",
      "\u001b[1mModel: \u001b[0mLogisticRegression\n",
      "\u001b[1mF1-score: \u001b[0m 0.7651641772954468\n",
      "C: 6.0\n"
     ]
    }
   ],
   "source": [
    "best_model_cross_logit = None\n",
    "best_C_cross_logit = 0\n",
    "best_f1_cross_logit = best_f1_cross_tree\n",
    "\n",
    "for c in notebook.tqdm(np.arange(1, 10, 0.5)):\n",
    "    \n",
    "    model_cross_logit = LogisticRegression(random_state=12345, class_weight = 'balanced', C=c)\n",
    "    \n",
    "    mean_f1_logit = cross_val_score(model_cross_logit, train_features, target_train, cv=5, \\\n",
    "                                          scoring='f1').mean()\n",
    "    \n",
    "    if mean_f1_logit > best_f1_cross_logit:\n",
    "        best_model_cross_logit = model_cross_logit\n",
    "        best_C_cross_logit = c\n",
    "        best_f1_cross_logit = mean_f1_logit\n",
    "        \n",
    "print('\\033[1m' + 'Model: ' + '\\033[0m' + type(model_cross_logit).__name__ )\n",
    "print('\\033[1m' + 'F1-score: ' + '\\033[0m', best_f1_cross_logit) \n",
    "print('C:', best_C_cross_logit)"
   ]
  },
  {
   "cell_type": "markdown",
   "metadata": {},
   "source": [
    "## Models Analysis"
   ]
  },
  {
   "cell_type": "code",
   "execution_count": 25,
   "metadata": {},
   "outputs": [
    {
     "data": {
      "text/html": [
       "<div>\n",
       "<style scoped>\n",
       "    .dataframe tbody tr th:only-of-type {\n",
       "        vertical-align: middle;\n",
       "    }\n",
       "\n",
       "    .dataframe tbody tr th {\n",
       "        vertical-align: top;\n",
       "    }\n",
       "\n",
       "    .dataframe thead th {\n",
       "        text-align: right;\n",
       "    }\n",
       "</style>\n",
       "<table border=\"1\" class=\"dataframe\">\n",
       "  <thead>\n",
       "    <tr style=\"text-align: right;\">\n",
       "      <th></th>\n",
       "      <th>Model for Cross Valid</th>\n",
       "      <th>F1-score</th>\n",
       "    </tr>\n",
       "  </thead>\n",
       "  <tbody>\n",
       "    <tr>\n",
       "      <td>2</td>\n",
       "      <td>LogisticRegression</td>\n",
       "      <td>0.77</td>\n",
       "    </tr>\n",
       "    <tr>\n",
       "      <td>0</td>\n",
       "      <td>DecisionTreeClassifier</td>\n",
       "      <td>0.65</td>\n",
       "    </tr>\n",
       "    <tr>\n",
       "      <td>1</td>\n",
       "      <td>RandomForestClassifier</td>\n",
       "      <td>0.65</td>\n",
       "    </tr>\n",
       "  </tbody>\n",
       "</table>\n",
       "</div>"
      ],
      "text/plain": [
       "    Model for Cross Valid  F1-score\n",
       "2      LogisticRegression      0.77\n",
       "0  DecisionTreeClassifier      0.65\n",
       "1  RandomForestClassifier      0.65"
      ]
     },
     "execution_count": 25,
     "metadata": {},
     "output_type": "execute_result"
    }
   ],
   "source": [
    "models_cross = ['DecisionTreeClassifier', 'RandomForestClassifier', 'LogisticRegression']\n",
    "f1_results_cross = [best_f1_cross_tree.round(2), best_f1_cross_forest.round(2), \\\n",
    "                    best_f1_cross_logit.round(2)]\n",
    "\n",
    "pd.DataFrame({'Model for Cross Valid': models_cross, \\\n",
    "              'F1-score': f1_results_cross}).sort_values(by='F1-score', ascending=False)"
   ]
  },
  {
   "cell_type": "markdown",
   "metadata": {},
   "source": [
    "### Model Testing"
   ]
  },
  {
   "cell_type": "markdown",
   "metadata": {},
   "source": [
    "Let's take the model with the best performance on the validation set - Logistic Regression with parameter C = 6 and check the model on the test set"
   ]
  },
  {
   "cell_type": "code",
   "execution_count": 22,
   "metadata": {},
   "outputs": [
    {
     "name": "stdout",
     "output_type": "stream",
     "text": [
      "CPU times: user 5 µs, sys: 1e+03 ns, total: 6 µs\n",
      "Wall time: 9.06 µs\n",
      "F1-score на тестовой выборке: 0.76\n"
     ]
    }
   ],
   "source": [
    "%time\n",
    "\n",
    "model_check = LogisticRegression(random_state=12345, class_weight = 'balanced', C=6)\n",
    "\n",
    "model_check.fit(train_features, target_train)\n",
    "predicted_test = model_check.predict(test_features)\n",
    "f1_test_logit = f1_score(predicted_test, target_test)\n",
    "\n",
    "print('F1-score на тестовой выборке:', f1_test_logit.round(2))"
   ]
  },
  {
   "cell_type": "markdown",
   "metadata": {},
   "source": [
    "## Conclusions"
   ]
  },
  {
   "cell_type": "markdown",
   "metadata": {},
   "source": [
    "* The best result in terms of the metric (F1-score) was shown by the **Logitic Regression** model when setting the internal parameter **`class_weight` = balanced** - class balance\n",
    "\n",
    "\n",
    "* Both models **DecisionTreeClassifier** and **RandomForestClassifier** did NOT pass the set condition **F1-score >= 0.75**\n",
    "\n",
    "\n",
    "* Other recommendations:\n",
    "    1. It is worth trying more complex models based on gradient boosting - perhaps they will be able to show the result better than simple models\n",
    "    \n",
    "    2. One could also try other text message lemmatization libraries that work more accurately"
   ]
  },
  {
   "cell_type": "code",
   "execution_count": null,
   "metadata": {},
   "outputs": [],
   "source": []
  }
 ],
 "metadata": {
  "ExecuteTimeLog": [
   {
    "duration": 789,
    "start_time": "2021-09-05T19:07:03.024Z"
   },
   {
    "duration": 10294,
    "start_time": "2021-09-05T19:08:05.830Z"
   },
   {
    "duration": 462,
    "start_time": "2021-09-05T19:24:52.371Z"
   },
   {
    "duration": 377,
    "start_time": "2021-09-05T19:25:24.447Z"
   },
   {
    "duration": 386,
    "start_time": "2021-09-05T19:27:02.074Z"
   },
   {
    "duration": 142,
    "start_time": "2021-09-05T19:27:25.253Z"
   },
   {
    "duration": 366,
    "start_time": "2021-09-05T19:27:28.324Z"
   },
   {
    "duration": 403,
    "start_time": "2021-09-05T19:36:30.164Z"
   },
   {
    "duration": 12,
    "start_time": "2021-09-05T19:42:15.029Z"
   },
   {
    "duration": 4,
    "start_time": "2021-09-05T19:42:59.274Z"
   },
   {
    "duration": 6,
    "start_time": "2021-09-05T19:45:35.276Z"
   },
   {
    "duration": 5,
    "start_time": "2021-09-05T19:45:42.035Z"
   },
   {
    "duration": 126,
    "start_time": "2021-09-05T19:46:03.445Z"
   },
   {
    "duration": 5244,
    "start_time": "2021-09-05T19:46:09.957Z"
   },
   {
    "duration": 384,
    "start_time": "2021-09-05T19:49:12.259Z"
   },
   {
    "duration": 366,
    "start_time": "2021-09-05T19:49:19.323Z"
   },
   {
    "duration": 303,
    "start_time": "2021-09-05T19:49:33.600Z"
   },
   {
    "duration": 283,
    "start_time": "2021-09-05T19:49:46.500Z"
   },
   {
    "duration": 3,
    "start_time": "2021-09-05T19:49:59.377Z"
   },
   {
    "duration": 838,
    "start_time": "2021-09-05T19:49:59.387Z"
   },
   {
    "duration": 394,
    "start_time": "2021-09-05T19:50:00.227Z"
   },
   {
    "duration": 4,
    "start_time": "2021-09-05T19:50:03.906Z"
   },
   {
    "duration": 2947,
    "start_time": "2021-09-05T19:50:05.100Z"
   },
   {
    "duration": 196,
    "start_time": "2021-09-05T19:50:11.369Z"
   },
   {
    "duration": 78,
    "start_time": "2021-09-05T19:52:59.846Z"
   },
   {
    "duration": 3,
    "start_time": "2021-09-05T19:54:49.780Z"
   },
   {
    "duration": 4,
    "start_time": "2021-09-05T19:57:33.347Z"
   },
   {
    "duration": 6,
    "start_time": "2021-09-05T19:58:13.282Z"
   },
   {
    "duration": 379,
    "start_time": "2021-09-05T19:58:32.254Z"
   },
   {
    "duration": 5,
    "start_time": "2021-09-05T19:58:36.319Z"
   },
   {
    "duration": 385,
    "start_time": "2021-09-05T20:00:02.268Z"
   },
   {
    "duration": 6,
    "start_time": "2021-09-05T20:00:07.491Z"
   },
   {
    "duration": 150345,
    "start_time": "2021-09-05T20:00:46.053Z"
   },
   {
    "duration": 144,
    "start_time": "2021-09-05T20:04:16.409Z"
   },
   {
    "duration": 137,
    "start_time": "2021-09-05T20:04:31.351Z"
   },
   {
    "duration": 20862,
    "start_time": "2021-09-05T20:04:40.827Z"
   },
   {
    "duration": 16,
    "start_time": "2021-09-05T20:05:09.772Z"
   },
   {
    "duration": 10986,
    "start_time": "2021-09-05T20:08:00.016Z"
   },
   {
    "duration": 426,
    "start_time": "2021-09-05T20:10:20.234Z"
   },
   {
    "duration": 6240,
    "start_time": "2021-09-05T20:13:48.480Z"
   },
   {
    "duration": 11883,
    "start_time": "2021-09-05T20:14:20.257Z"
   },
   {
    "duration": 26,
    "start_time": "2021-09-05T20:14:37.649Z"
   },
   {
    "duration": 12213,
    "start_time": "2021-09-05T20:16:36.749Z"
   },
   {
    "duration": 6,
    "start_time": "2021-09-05T20:16:51.179Z"
   },
   {
    "duration": 11,
    "start_time": "2021-09-05T20:18:04.712Z"
   },
   {
    "duration": 2306,
    "start_time": "2021-09-05T20:23:14.237Z"
   },
   {
    "duration": 5,
    "start_time": "2021-09-05T20:25:53.654Z"
   },
   {
    "duration": 2382,
    "start_time": "2021-09-05T20:26:00.025Z"
   },
   {
    "duration": 58,
    "start_time": "2021-09-05T20:26:07.430Z"
   },
   {
    "duration": 11,
    "start_time": "2021-09-05T20:27:22.519Z"
   },
   {
    "duration": 2019,
    "start_time": "2021-09-05T20:27:45.060Z"
   },
   {
    "duration": 5,
    "start_time": "2021-09-05T20:27:58.680Z"
   },
   {
    "duration": 23850,
    "start_time": "2021-09-05T20:28:01.488Z"
   },
   {
    "duration": 47938,
    "start_time": "2021-09-05T20:28:37.417Z"
   },
   {
    "duration": 389,
    "start_time": "2021-09-05T20:30:15.301Z"
   },
   {
    "duration": 397,
    "start_time": "2021-09-05T20:30:28.455Z"
   },
   {
    "duration": 404,
    "start_time": "2021-09-05T20:30:39.736Z"
   },
   {
    "duration": 159,
    "start_time": "2021-09-05T20:31:53.016Z"
   },
   {
    "duration": 7,
    "start_time": "2021-09-05T20:32:15.331Z"
   },
   {
    "duration": 6,
    "start_time": "2021-09-05T20:32:25.177Z"
   },
   {
    "duration": 91,
    "start_time": "2021-09-05T20:32:58.530Z"
   },
   {
    "duration": 8,
    "start_time": "2021-09-05T20:33:05.594Z"
   },
   {
    "duration": 386,
    "start_time": "2021-09-05T20:34:27.595Z"
   },
   {
    "duration": 6,
    "start_time": "2021-09-05T20:34:34.558Z"
   },
   {
    "duration": 1849,
    "start_time": "2021-09-05T20:35:45.067Z"
   },
   {
    "duration": 144,
    "start_time": "2021-09-05T20:35:55.004Z"
   },
   {
    "duration": 11,
    "start_time": "2021-09-05T20:35:57.607Z"
   },
   {
    "duration": 7,
    "start_time": "2021-09-05T20:36:36.944Z"
   },
   {
    "duration": 11,
    "start_time": "2021-09-05T20:36:39.159Z"
   },
   {
    "duration": 456,
    "start_time": "2021-09-05T20:42:43.918Z"
   },
   {
    "duration": 2894,
    "start_time": "2021-09-05T20:42:47.977Z"
   },
   {
    "duration": 1016,
    "start_time": "2021-09-05T20:44:13.704Z"
   },
   {
    "duration": 4,
    "start_time": "2021-09-05T20:44:31.056Z"
   },
   {
    "duration": 3641,
    "start_time": "2021-09-05T20:44:59.698Z"
   },
   {
    "duration": 10558,
    "start_time": "2021-09-05T20:45:04.699Z"
   },
   {
    "duration": 292,
    "start_time": "2021-09-05T20:45:18.995Z"
   },
   {
    "duration": 5,
    "start_time": "2021-09-05T20:45:21.007Z"
   },
   {
    "duration": 2856,
    "start_time": "2021-09-05T20:45:21.903Z"
   },
   {
    "duration": 229,
    "start_time": "2021-09-05T20:45:28.389Z"
   },
   {
    "duration": 3149,
    "start_time": "2021-09-05T20:45:46.734Z"
   },
   {
    "duration": 1446,
    "start_time": "2021-09-05T20:46:01.429Z"
   },
   {
    "duration": 1006,
    "start_time": "2021-09-05T20:46:32.207Z"
   },
   {
    "duration": 2445,
    "start_time": "2021-09-05T20:47:02.172Z"
   },
   {
    "duration": 6,
    "start_time": "2021-09-05T20:47:07.409Z"
   },
   {
    "duration": 3300,
    "start_time": "2021-09-05T20:49:20.281Z"
   },
   {
    "duration": 10799,
    "start_time": "2021-09-05T20:49:32.347Z"
   },
   {
    "duration": 296,
    "start_time": "2021-09-05T20:50:17.731Z"
   },
   {
    "duration": 5,
    "start_time": "2021-09-05T20:50:20.272Z"
   },
   {
    "duration": 2926,
    "start_time": "2021-09-05T20:50:21.064Z"
   },
   {
    "duration": 221,
    "start_time": "2021-09-05T20:50:27.903Z"
   },
   {
    "duration": 5,
    "start_time": "2021-09-05T20:50:33.481Z"
   },
   {
    "duration": 566,
    "start_time": "2021-09-05T20:51:36.457Z"
   },
   {
    "duration": 4,
    "start_time": "2021-09-05T20:51:46.221Z"
   },
   {
    "duration": 390,
    "start_time": "2021-09-05T20:51:50.788Z"
   },
   {
    "duration": 4,
    "start_time": "2021-09-05T20:52:14.954Z"
   },
   {
    "duration": 459,
    "start_time": "2021-09-05T20:52:18.154Z"
   },
   {
    "duration": 4,
    "start_time": "2021-09-05T20:52:37.088Z"
   },
   {
    "duration": 2378,
    "start_time": "2021-09-05T20:52:44.148Z"
   },
   {
    "duration": 12,
    "start_time": "2021-09-05T20:52:51.354Z"
   },
   {
    "duration": 1608,
    "start_time": "2021-09-05T20:56:00.651Z"
   },
   {
    "duration": 869,
    "start_time": "2021-09-05T20:56:03.577Z"
   },
   {
    "duration": 292,
    "start_time": "2021-09-05T20:56:07.697Z"
   },
   {
    "duration": 4,
    "start_time": "2021-09-05T20:56:10.541Z"
   },
   {
    "duration": 4,
    "start_time": "2021-09-05T20:56:13.788Z"
   },
   {
    "duration": 2812,
    "start_time": "2021-09-05T20:56:15.409Z"
   },
   {
    "duration": 218,
    "start_time": "2021-09-05T20:56:21.176Z"
   },
   {
    "duration": 4,
    "start_time": "2021-09-05T20:57:02.983Z"
   },
   {
    "duration": 5,
    "start_time": "2021-09-05T20:58:22.534Z"
   },
   {
    "duration": 4,
    "start_time": "2021-09-05T20:59:06.952Z"
   },
   {
    "duration": 7,
    "start_time": "2021-09-05T20:59:24.062Z"
   },
   {
    "duration": 558,
    "start_time": "2021-09-05T21:00:00.078Z"
   },
   {
    "duration": 2273,
    "start_time": "2021-09-05T21:00:06.943Z"
   },
   {
    "duration": 5,
    "start_time": "2021-09-05T21:00:12.682Z"
   },
   {
    "duration": 7,
    "start_time": "2021-09-05T21:00:43.352Z"
   },
   {
    "duration": 414,
    "start_time": "2021-09-05T21:01:52.262Z"
   },
   {
    "duration": 7,
    "start_time": "2021-09-05T21:02:32.383Z"
   },
   {
    "duration": 4,
    "start_time": "2021-09-05T21:04:40.441Z"
   },
   {
    "duration": 11,
    "start_time": "2021-09-05T21:04:49.371Z"
   },
   {
    "duration": 27,
    "start_time": "2021-09-05T21:04:53.774Z"
   },
   {
    "duration": 694,
    "start_time": "2021-09-05T21:08:27.358Z"
   },
   {
    "duration": 446,
    "start_time": "2021-09-05T21:08:57.102Z"
   },
   {
    "duration": 9,
    "start_time": "2021-09-05T21:09:02.994Z"
   },
   {
    "duration": 9,
    "start_time": "2021-09-05T21:09:47.877Z"
   },
   {
    "duration": 5,
    "start_time": "2021-09-05T21:11:10.179Z"
   },
   {
    "duration": 8,
    "start_time": "2021-09-05T21:11:19.469Z"
   },
   {
    "duration": 14,
    "start_time": "2021-09-05T21:11:23.701Z"
   },
   {
    "duration": 5,
    "start_time": "2021-09-05T21:13:31.893Z"
   },
   {
    "duration": 1228,
    "start_time": "2021-09-05T21:13:35.142Z"
   },
   {
    "duration": 5,
    "start_time": "2021-09-05T21:15:07.176Z"
   },
   {
    "duration": 1041,
    "start_time": "2021-09-05T21:15:10.659Z"
   },
   {
    "duration": 5,
    "start_time": "2021-09-05T21:17:12.654Z"
   },
   {
    "duration": 14,
    "start_time": "2021-09-05T21:17:24.838Z"
   },
   {
    "duration": 6,
    "start_time": "2021-09-05T21:17:49.625Z"
   },
   {
    "duration": 1024,
    "start_time": "2021-09-05T21:17:50.149Z"
   },
   {
    "duration": 4,
    "start_time": "2021-09-05T21:18:01.494Z"
   },
   {
    "duration": 12,
    "start_time": "2021-09-05T21:18:01.828Z"
   },
   {
    "duration": 1506,
    "start_time": "2021-09-05T21:20:40.597Z"
   },
   {
    "duration": 10,
    "start_time": "2021-09-05T21:21:10.064Z"
   },
   {
    "duration": 1218,
    "start_time": "2021-09-05T21:21:17.577Z"
   },
   {
    "duration": 398,
    "start_time": "2021-09-05T21:22:13.647Z"
   },
   {
    "duration": 138,
    "start_time": "2021-09-05T21:22:18.669Z"
   },
   {
    "duration": 5,
    "start_time": "2021-09-05T21:22:26.685Z"
   },
   {
    "duration": 14,
    "start_time": "2021-09-05T21:22:29.324Z"
   },
   {
    "duration": 669,
    "start_time": "2021-09-05T21:28:55.286Z"
   },
   {
    "duration": 5,
    "start_time": "2021-09-05T21:29:01.595Z"
   },
   {
    "duration": 13,
    "start_time": "2021-09-05T21:29:03.296Z"
   },
   {
    "duration": 5,
    "start_time": "2021-09-05T21:30:29.079Z"
   },
   {
    "duration": 15,
    "start_time": "2021-09-05T21:30:37.485Z"
   },
   {
    "duration": 72,
    "start_time": "2021-09-05T21:45:34.709Z"
   },
   {
    "duration": 8,
    "start_time": "2021-09-05T21:45:38.475Z"
   },
   {
    "duration": 2881,
    "start_time": "2021-09-05T21:48:15.469Z"
   },
   {
    "duration": 9,
    "start_time": "2021-09-05T21:48:23.107Z"
   },
   {
    "duration": 3425,
    "start_time": "2021-09-05T21:48:50.452Z"
   },
   {
    "duration": -19,
    "start_time": "2021-09-05T21:48:53.899Z"
   },
   {
    "duration": 3266,
    "start_time": "2021-09-05T21:49:27.296Z"
   },
   {
    "duration": 3237,
    "start_time": "2021-09-05T21:49:53.089Z"
   },
   {
    "duration": -32,
    "start_time": "2021-09-05T21:49:56.361Z"
   },
   {
    "duration": 5,
    "start_time": "2021-09-05T21:51:16.143Z"
   },
   {
    "duration": 8,
    "start_time": "2021-09-05T21:51:42.644Z"
   },
   {
    "duration": 426,
    "start_time": "2021-09-05T21:52:00.748Z"
   },
   {
    "duration": 7,
    "start_time": "2021-09-05T21:52:46.145Z"
   },
   {
    "duration": 5,
    "start_time": "2021-09-05T21:53:10.044Z"
   },
   {
    "duration": 810,
    "start_time": "2021-09-05T21:53:11.316Z"
   },
   {
    "duration": 281,
    "start_time": "2021-09-05T21:53:19.857Z"
   },
   {
    "duration": 4,
    "start_time": "2021-09-05T21:53:22.711Z"
   },
   {
    "duration": 2917,
    "start_time": "2021-09-05T21:53:25.636Z"
   },
   {
    "duration": 208,
    "start_time": "2021-09-05T21:53:33.515Z"
   },
   {
    "duration": 8,
    "start_time": "2021-09-05T21:53:47.103Z"
   },
   {
    "duration": 6,
    "start_time": "2021-09-05T21:54:16.266Z"
   },
   {
    "duration": 422,
    "start_time": "2021-09-05T21:54:21.524Z"
   },
   {
    "duration": 65,
    "start_time": "2021-09-05T21:55:07.043Z"
   },
   {
    "duration": 11,
    "start_time": "2021-09-05T21:55:10.129Z"
   },
   {
    "duration": 13165,
    "start_time": "2021-09-05T22:01:36.856Z"
   },
   {
    "duration": 7,
    "start_time": "2021-09-05T22:01:56.827Z"
   },
   {
    "duration": 9,
    "start_time": "2021-09-05T22:02:21.203Z"
   },
   {
    "duration": 10,
    "start_time": "2021-09-05T22:02:25.224Z"
   },
   {
    "duration": 8,
    "start_time": "2021-09-05T22:02:47.210Z"
   },
   {
    "duration": 394,
    "start_time": "2021-09-05T22:03:04.615Z"
   },
   {
    "duration": 5,
    "start_time": "2021-09-05T22:04:22.275Z"
   },
   {
    "duration": 9,
    "start_time": "2021-09-05T22:04:25.955Z"
   },
   {
    "duration": 7,
    "start_time": "2021-09-05T22:04:53.932Z"
   },
   {
    "duration": 15,
    "start_time": "2021-09-05T22:04:56.187Z"
   },
   {
    "duration": 12,
    "start_time": "2021-09-05T22:05:49.382Z"
   },
   {
    "duration": 6,
    "start_time": "2021-09-05T22:06:45.595Z"
   },
   {
    "duration": 4,
    "start_time": "2021-09-05T22:08:07.116Z"
   },
   {
    "duration": 7,
    "start_time": "2021-09-05T22:08:13.537Z"
   },
   {
    "duration": 4,
    "start_time": "2021-09-05T22:09:04.230Z"
   },
   {
    "duration": 847,
    "start_time": "2021-09-05T22:09:05.130Z"
   },
   {
    "duration": 280,
    "start_time": "2021-09-05T22:09:08.489Z"
   },
   {
    "duration": 5,
    "start_time": "2021-09-05T22:09:10.822Z"
   },
   {
    "duration": 2786,
    "start_time": "2021-09-05T22:09:13.024Z"
   },
   {
    "duration": 216,
    "start_time": "2021-09-05T22:09:18.270Z"
   },
   {
    "duration": 9,
    "start_time": "2021-09-05T22:09:33.415Z"
   },
   {
    "duration": 5,
    "start_time": "2021-09-05T22:09:46.909Z"
   },
   {
    "duration": 10,
    "start_time": "2021-09-05T22:09:47.823Z"
   },
   {
    "duration": 4,
    "start_time": "2021-09-05T22:09:54.478Z"
   },
   {
    "duration": 9401,
    "start_time": "2021-09-05T22:12:07.125Z"
   },
   {
    "duration": 84,
    "start_time": "2021-09-05T22:12:38.063Z"
   },
   {
    "duration": 4,
    "start_time": "2021-09-05T22:13:25.564Z"
   },
   {
    "duration": 5,
    "start_time": "2021-09-05T22:13:56.753Z"
   },
   {
    "duration": 37701,
    "start_time": "2021-09-05T22:15:00.870Z"
   },
   {
    "duration": 1164628,
    "start_time": "2021-09-05T22:15:52.385Z"
   },
   {
    "duration": 270376,
    "start_time": "2021-09-05T22:41:33.702Z"
   },
   {
    "duration": 18191,
    "start_time": "2021-09-05T22:46:50.361Z"
   },
   {
    "duration": 428421,
    "start_time": "2021-09-05T23:03:07.158Z"
   },
   {
    "duration": 4,
    "start_time": "2021-09-05T23:10:19.554Z"
   },
   {
    "duration": 5,
    "start_time": "2021-09-05T23:12:31.848Z"
   },
   {
    "duration": 120,
    "start_time": "2021-09-05T23:13:29.382Z"
   },
   {
    "duration": 670891,
    "start_time": "2021-09-05T23:13:33.390Z"
   },
   {
    "duration": 22,
    "start_time": "2021-09-05T23:24:50.292Z"
   },
   {
    "duration": 16,
    "start_time": "2021-09-05T23:26:22.718Z"
   },
   {
    "duration": 4,
    "start_time": "2021-09-05T23:26:42.621Z"
   },
   {
    "duration": 928,
    "start_time": "2021-09-05T23:26:43.402Z"
   },
   {
    "duration": 286,
    "start_time": "2021-09-05T23:26:47.687Z"
   },
   {
    "duration": 4,
    "start_time": "2021-09-05T23:26:49.709Z"
   },
   {
    "duration": 2762,
    "start_time": "2021-09-05T23:26:52.302Z"
   },
   {
    "duration": 354,
    "start_time": "2021-09-05T23:26:55.068Z"
   },
   {
    "duration": 5,
    "start_time": "2021-09-05T23:28:39.323Z"
   },
   {
    "duration": 6,
    "start_time": "2021-09-05T23:30:09.870Z"
   },
   {
    "duration": 9479,
    "start_time": "2021-09-05T23:30:48.243Z"
   },
   {
    "duration": 60,
    "start_time": "2021-09-05T23:31:09.513Z"
   },
   {
    "duration": 9,
    "start_time": "2021-09-05T23:31:13.726Z"
   },
   {
    "duration": 5,
    "start_time": "2021-09-05T23:31:38.880Z"
   },
   {
    "duration": 4983,
    "start_time": "2021-09-05T23:32:06.127Z"
   },
   {
    "duration": 4,
    "start_time": "2021-09-05T23:32:38.290Z"
   },
   {
    "duration": 53,
    "start_time": "2021-09-05T23:33:08.419Z"
   },
   {
    "duration": 6,
    "start_time": "2021-09-05T23:33:11.393Z"
   },
   {
    "duration": 5,
    "start_time": "2021-09-05T23:33:41.806Z"
   },
   {
    "duration": 6,
    "start_time": "2021-09-05T23:33:52.662Z"
   },
   {
    "duration": 420,
    "start_time": "2021-09-05T23:34:35.098Z"
   },
   {
    "duration": 393,
    "start_time": "2021-09-05T23:34:57.011Z"
   },
   {
    "duration": 391,
    "start_time": "2021-09-05T23:34:58.981Z"
   },
   {
    "duration": 980,
    "start_time": "2021-09-05T23:35:09.897Z"
   },
   {
    "duration": 6,
    "start_time": "2021-09-05T23:35:32.144Z"
   },
   {
    "duration": 7,
    "start_time": "2021-09-05T23:35:35.070Z"
   },
   {
    "duration": 6,
    "start_time": "2021-09-05T23:35:42.726Z"
   },
   {
    "duration": 57,
    "start_time": "2021-09-05T23:35:48.205Z"
   },
   {
    "duration": 9,
    "start_time": "2021-09-05T23:35:54.050Z"
   },
   {
    "duration": 4,
    "start_time": "2021-09-05T23:37:09.700Z"
   },
   {
    "duration": 48,
    "start_time": "2021-09-05T23:37:19.599Z"
   },
   {
    "duration": 5,
    "start_time": "2021-09-05T23:37:21.761Z"
   },
   {
    "duration": 4,
    "start_time": "2021-09-05T23:40:00.966Z"
   },
   {
    "duration": 7,
    "start_time": "2021-09-05T23:41:41.441Z"
   },
   {
    "duration": 54,
    "start_time": "2021-09-05T23:42:25.221Z"
   },
   {
    "duration": 12,
    "start_time": "2021-09-05T23:42:31.616Z"
   },
   {
    "duration": 70,
    "start_time": "2021-09-05T23:42:40.081Z"
   },
   {
    "duration": 16,
    "start_time": "2021-09-05T23:42:40.981Z"
   },
   {
    "duration": 443,
    "start_time": "2021-09-05T23:42:56.135Z"
   },
   {
    "duration": 423,
    "start_time": "2021-09-05T23:43:07.447Z"
   },
   {
    "duration": 415,
    "start_time": "2021-09-05T23:46:25.678Z"
   },
   {
    "duration": 425,
    "start_time": "2021-09-05T23:46:52.185Z"
   },
   {
    "duration": 4,
    "start_time": "2021-09-05T23:47:21.920Z"
   },
   {
    "duration": 15870,
    "start_time": "2021-09-05T23:48:42.554Z"
   },
   {
    "duration": 21,
    "start_time": "2021-09-05T23:49:01.697Z"
   },
   {
    "duration": 6,
    "start_time": "2021-09-05T23:50:01.503Z"
   },
   {
    "duration": 14907,
    "start_time": "2021-09-05T23:50:04.081Z"
   },
   {
    "duration": 4,
    "start_time": "2021-09-05T23:52:29.365Z"
   },
   {
    "duration": 49,
    "start_time": "2021-09-05T23:53:21.767Z"
   },
   {
    "duration": 5,
    "start_time": "2021-09-05T23:53:23.978Z"
   },
   {
    "duration": 263258,
    "start_time": "2021-09-05T23:54:28.504Z"
   },
   {
    "duration": 6,
    "start_time": "2021-09-05T23:58:55.931Z"
   },
   {
    "duration": 6,
    "start_time": "2021-09-06T00:00:02.841Z"
   },
   {
    "duration": 5,
    "start_time": "2021-09-06T00:00:17.477Z"
   },
   {
    "duration": 6,
    "start_time": "2021-09-06T00:00:40.526Z"
   },
   {
    "duration": 113,
    "start_time": "2021-09-06T00:03:28.508Z"
   },
   {
    "duration": 108,
    "start_time": "2021-09-06T00:03:41.415Z"
   },
   {
    "duration": 19201,
    "start_time": "2021-09-06T00:05:10.061Z"
   },
   {
    "duration": 5334,
    "start_time": "2021-09-06T00:06:00.828Z"
   },
   {
    "duration": 1874,
    "start_time": "2021-09-06T00:06:10.949Z"
   },
   {
    "duration": 1946,
    "start_time": "2021-09-06T00:06:49.862Z"
   },
   {
    "duration": 474,
    "start_time": "2021-09-06T00:08:00.257Z"
   },
   {
    "duration": 469,
    "start_time": "2021-09-06T00:08:10.389Z"
   },
   {
    "duration": 13730,
    "start_time": "2021-09-06T00:08:20.840Z"
   },
   {
    "duration": 6,
    "start_time": "2021-09-06T00:09:40.716Z"
   },
   {
    "duration": 5,
    "start_time": "2021-09-06T00:09:54.630Z"
   },
   {
    "duration": 6,
    "start_time": "2021-09-06T00:10:07.010Z"
   },
   {
    "duration": 6,
    "start_time": "2021-09-06T00:10:09.826Z"
   },
   {
    "duration": 5,
    "start_time": "2021-09-06T00:10:14.934Z"
   },
   {
    "duration": 5,
    "start_time": "2021-09-06T00:10:18.870Z"
   },
   {
    "duration": 10527,
    "start_time": "2021-09-06T00:10:19.753Z"
   },
   {
    "duration": 287,
    "start_time": "2021-09-06T00:10:34.541Z"
   },
   {
    "duration": 4,
    "start_time": "2021-09-06T00:10:36.033Z"
   },
   {
    "duration": 2777,
    "start_time": "2021-09-06T00:10:37.125Z"
   },
   {
    "duration": 200,
    "start_time": "2021-09-06T00:10:41.943Z"
   },
   {
    "duration": 4,
    "start_time": "2021-09-06T00:10:48.620Z"
   },
   {
    "duration": 5,
    "start_time": "2021-09-06T00:10:51.140Z"
   },
   {
    "duration": 10,
    "start_time": "2021-09-06T00:10:54.054Z"
   },
   {
    "duration": 6,
    "start_time": "2021-09-06T00:10:55.353Z"
   },
   {
    "duration": 5,
    "start_time": "2021-09-06T00:11:26.161Z"
   },
   {
    "duration": 402,
    "start_time": "2021-09-06T00:11:32.336Z"
   },
   {
    "duration": 378,
    "start_time": "2021-09-06T00:11:52.243Z"
   },
   {
    "duration": 388,
    "start_time": "2021-09-06T00:11:52.686Z"
   },
   {
    "duration": 5,
    "start_time": "2021-09-06T00:14:07.800Z"
   },
   {
    "duration": 6,
    "start_time": "2021-09-06T00:15:06.874Z"
   },
   {
    "duration": 13,
    "start_time": "2021-09-06T00:15:10.614Z"
   },
   {
    "duration": 6,
    "start_time": "2021-09-06T00:15:14.977Z"
   },
   {
    "duration": 4,
    "start_time": "2021-09-06T00:16:31.573Z"
   },
   {
    "duration": 690,
    "start_time": "2021-09-06T00:16:43.695Z"
   },
   {
    "duration": 5,
    "start_time": "2021-09-06T00:17:05.229Z"
   },
   {
    "duration": 424,
    "start_time": "2021-09-06T00:17:13.045Z"
   },
   {
    "duration": 11,
    "start_time": "2021-09-06T00:17:21.225Z"
   },
   {
    "duration": 8,
    "start_time": "2021-09-06T00:17:33.613Z"
   },
   {
    "duration": 382,
    "start_time": "2021-09-06T00:17:42.420Z"
   },
   {
    "duration": 368,
    "start_time": "2021-09-06T00:17:44.150Z"
   },
   {
    "duration": 371,
    "start_time": "2021-09-06T00:17:47.794Z"
   },
   {
    "duration": 3335,
    "start_time": "2021-09-06T00:20:46.832Z"
   },
   {
    "duration": 10272,
    "start_time": "2021-09-06T00:20:51.760Z"
   },
   {
    "duration": 5,
    "start_time": "2021-09-06T00:21:07.559Z"
   },
   {
    "duration": 855,
    "start_time": "2021-09-06T00:21:07.570Z"
   },
   {
    "duration": 288,
    "start_time": "2021-09-06T00:21:08.428Z"
   },
   {
    "duration": 5,
    "start_time": "2021-09-06T00:21:08.719Z"
   },
   {
    "duration": 2824,
    "start_time": "2021-09-06T00:21:08.726Z"
   },
   {
    "duration": 223,
    "start_time": "2021-09-06T00:21:11.553Z"
   },
   {
    "duration": 18393,
    "start_time": "2021-09-06T00:21:16.797Z"
   },
   {
    "duration": 3201,
    "start_time": "2021-09-06T00:22:08.961Z"
   },
   {
    "duration": 10061,
    "start_time": "2021-09-06T00:22:12.164Z"
   },
   {
    "duration": 302,
    "start_time": "2021-09-06T00:22:22.227Z"
   },
   {
    "duration": 3,
    "start_time": "2021-09-06T00:22:22.533Z"
   },
   {
    "duration": 2873,
    "start_time": "2021-09-06T00:22:22.539Z"
   },
   {
    "duration": 227,
    "start_time": "2021-09-06T00:22:25.416Z"
   },
   {
    "duration": 3562,
    "start_time": "2021-09-06T00:23:12.994Z"
   },
   {
    "duration": 10289,
    "start_time": "2021-09-06T00:23:16.559Z"
   },
   {
    "duration": 300,
    "start_time": "2021-09-06T00:23:26.851Z"
   },
   {
    "duration": 4,
    "start_time": "2021-09-06T00:23:27.154Z"
   },
   {
    "duration": 2800,
    "start_time": "2021-09-06T00:23:27.160Z"
   },
   {
    "duration": 238,
    "start_time": "2021-09-06T00:23:29.963Z"
   },
   {
    "duration": 2,
    "start_time": "2021-09-06T00:23:30.203Z"
   },
   {
    "duration": 27,
    "start_time": "2021-09-06T00:23:30.208Z"
   },
   {
    "duration": 7443,
    "start_time": "2021-09-06T00:23:30.237Z"
   },
   {
    "duration": -233,
    "start_time": "2021-09-06T00:23:37.916Z"
   },
   {
    "duration": 1663,
    "start_time": "2021-09-06T00:23:52.614Z"
   },
   {
    "duration": 858,
    "start_time": "2021-09-06T00:23:54.280Z"
   },
   {
    "duration": 297,
    "start_time": "2021-09-06T00:23:55.141Z"
   },
   {
    "duration": 4,
    "start_time": "2021-09-06T00:23:55.441Z"
   },
   {
    "duration": 2788,
    "start_time": "2021-09-06T00:23:55.448Z"
   },
   {
    "duration": 231,
    "start_time": "2021-09-06T00:23:58.239Z"
   },
   {
    "duration": 251230,
    "start_time": "2021-09-06T00:24:05.406Z"
   },
   {
    "duration": 5,
    "start_time": "2021-09-06T00:28:35.913Z"
   },
   {
    "duration": 301,
    "start_time": "2021-09-06T00:32:50.988Z"
   },
   {
    "duration": 647,
    "start_time": "2021-09-06T00:34:14.022Z"
   },
   {
    "duration": 403,
    "start_time": "2021-09-06T00:35:27.571Z"
   },
   {
    "duration": 418,
    "start_time": "2021-09-06T00:35:33.678Z"
   },
   {
    "duration": 5,
    "start_time": "2021-09-06T00:35:58.528Z"
   },
   {
    "duration": 12937,
    "start_time": "2021-09-06T00:36:40.299Z"
   },
   {
    "duration": 6,
    "start_time": "2021-09-06T00:38:24.993Z"
   },
   {
    "duration": 862,
    "start_time": "2021-09-06T00:38:25.008Z"
   },
   {
    "duration": 305,
    "start_time": "2021-09-06T00:38:25.873Z"
   },
   {
    "duration": 4,
    "start_time": "2021-09-06T00:38:26.182Z"
   },
   {
    "duration": 2751,
    "start_time": "2021-09-06T00:38:26.189Z"
   },
   {
    "duration": 210,
    "start_time": "2021-09-06T00:38:28.943Z"
   },
   {
    "duration": 4,
    "start_time": "2021-09-06T00:39:48.722Z"
   },
   {
    "duration": 6,
    "start_time": "2021-09-06T00:40:34.689Z"
   },
   {
    "duration": 35,
    "start_time": "2021-09-06T00:42:08.996Z"
   },
   {
    "duration": 7,
    "start_time": "2021-09-06T00:42:40.842Z"
   },
   {
    "duration": 3579,
    "start_time": "2021-09-06T00:45:03.961Z"
   },
   {
    "duration": 10058,
    "start_time": "2021-09-06T00:45:07.543Z"
   },
   {
    "duration": 291,
    "start_time": "2021-09-06T00:45:17.617Z"
   },
   {
    "duration": 8,
    "start_time": "2021-09-06T00:45:17.911Z"
   },
   {
    "duration": 2799,
    "start_time": "2021-09-06T00:45:17.921Z"
   },
   {
    "duration": 236,
    "start_time": "2021-09-06T00:45:20.723Z"
   },
   {
    "duration": 35,
    "start_time": "2021-09-06T00:45:20.962Z"
   },
   {
    "duration": 126101,
    "start_time": "2021-09-06T00:47:06.670Z"
   },
   {
    "duration": 6,
    "start_time": "2021-09-06T00:49:45.843Z"
   },
   {
    "duration": 849,
    "start_time": "2021-09-06T00:49:45.858Z"
   },
   {
    "duration": 298,
    "start_time": "2021-09-06T00:49:46.710Z"
   },
   {
    "duration": 5,
    "start_time": "2021-09-06T00:49:47.017Z"
   },
   {
    "duration": 2898,
    "start_time": "2021-09-06T00:49:47.026Z"
   },
   {
    "duration": 217,
    "start_time": "2021-09-06T00:49:49.927Z"
   },
   {
    "duration": 83,
    "start_time": "2021-09-06T00:49:50.148Z"
   },
   {
    "duration": 4,
    "start_time": "2021-09-06T00:49:50.233Z"
   },
   {
    "duration": 17,
    "start_time": "2021-09-06T00:49:50.240Z"
   },
   {
    "duration": 4,
    "start_time": "2021-09-06T00:49:52.817Z"
   },
   {
    "duration": 3269,
    "start_time": "2021-09-06T00:50:13.238Z"
   },
   {
    "duration": 10026,
    "start_time": "2021-09-06T00:50:16.510Z"
   },
   {
    "duration": 307,
    "start_time": "2021-09-06T00:50:26.539Z"
   },
   {
    "duration": 4,
    "start_time": "2021-09-06T00:50:26.849Z"
   },
   {
    "duration": 2789,
    "start_time": "2021-09-06T00:50:26.856Z"
   },
   {
    "duration": 235,
    "start_time": "2021-09-06T00:50:29.648Z"
   },
   {
    "duration": 45,
    "start_time": "2021-09-06T00:50:29.886Z"
   },
   {
    "duration": 3,
    "start_time": "2021-09-06T00:50:29.935Z"
   },
   {
    "duration": 31,
    "start_time": "2021-09-06T00:50:29.940Z"
   },
   {
    "duration": 4,
    "start_time": "2021-09-06T00:50:33.738Z"
   },
   {
    "duration": 200343,
    "start_time": "2021-09-06T00:50:34.920Z"
   },
   {
    "duration": 50409,
    "start_time": "2021-09-06T00:53:57.020Z"
   },
   {
    "duration": 10499,
    "start_time": "2021-09-06T00:55:37.626Z"
   },
   {
    "duration": 10869,
    "start_time": "2021-09-06T00:58:41.302Z"
   },
   {
    "duration": 23671,
    "start_time": "2021-09-06T00:59:31.976Z"
   },
   {
    "duration": 35,
    "start_time": "2021-09-06T01:03:15.867Z"
   },
   {
    "duration": 7,
    "start_time": "2021-09-06T01:04:32.448Z"
   },
   {
    "duration": 589525,
    "start_time": "2021-09-06T01:10:59.477Z"
   },
   {
    "duration": 226077,
    "start_time": "2021-09-06T01:23:11.157Z"
   },
   {
    "duration": 14776,
    "start_time": "2021-09-06T01:28:05.408Z"
   },
   {
    "duration": 14866,
    "start_time": "2021-09-06T01:28:53.617Z"
   },
   {
    "duration": 637028,
    "start_time": "2021-09-06T01:30:29.279Z"
   },
   {
    "duration": 39781,
    "start_time": "2021-09-06T01:41:18.767Z"
   },
   {
    "duration": 601990,
    "start_time": "2021-09-06T01:42:02.076Z"
   },
   {
    "duration": 401,
    "start_time": "2021-09-06T01:52:12.399Z"
   },
   {
    "duration": 14,
    "start_time": "2021-09-06T01:52:21.000Z"
   },
   {
    "duration": 14,
    "start_time": "2021-09-06T01:52:34.497Z"
   },
   {
    "duration": 14,
    "start_time": "2021-09-06T01:52:56.317Z"
   },
   {
    "duration": 1865,
    "start_time": "2021-09-06T10:11:46.932Z"
   },
   {
    "duration": 891,
    "start_time": "2021-09-06T10:11:52.416Z"
   },
   {
    "duration": 288,
    "start_time": "2021-09-06T10:12:00.092Z"
   },
   {
    "duration": 4,
    "start_time": "2021-09-06T10:12:02.560Z"
   },
   {
    "duration": 3047,
    "start_time": "2021-09-06T10:12:04.809Z"
   },
   {
    "duration": 239,
    "start_time": "2021-09-06T10:12:10.176Z"
   },
   {
    "duration": 33,
    "start_time": "2021-09-06T10:12:12.580Z"
   },
   {
    "duration": 39,
    "start_time": "2021-09-06T10:12:21.023Z"
   },
   {
    "duration": 3,
    "start_time": "2021-09-06T10:12:24.324Z"
   },
   {
    "duration": 3,
    "start_time": "2021-09-06T10:12:24.638Z"
   },
   {
    "duration": 4,
    "start_time": "2021-09-06T10:13:10.943Z"
   },
   {
    "duration": 258430,
    "start_time": "2021-09-06T10:13:12.596Z"
   },
   {
    "duration": 27831,
    "start_time": "2021-09-06T10:20:05.698Z"
   },
   {
    "duration": 27084,
    "start_time": "2021-09-06T10:20:37.212Z"
   },
   {
    "duration": 6,
    "start_time": "2021-09-06T10:23:13.770Z"
   },
   {
    "duration": 6,
    "start_time": "2021-09-06T10:23:54.073Z"
   },
   {
    "duration": 505,
    "start_time": "2021-09-06T10:34:39.890Z"
   },
   {
    "duration": 10,
    "start_time": "2021-09-06T10:35:00.573Z"
   },
   {
    "duration": 1883,
    "start_time": "2021-09-06T10:36:17.340Z"
   },
   {
    "duration": 919,
    "start_time": "2021-09-06T10:36:21.950Z"
   },
   {
    "duration": 357,
    "start_time": "2021-09-06T10:36:25.875Z"
   },
   {
    "duration": 4,
    "start_time": "2021-09-06T10:36:28.985Z"
   },
   {
    "duration": 3378,
    "start_time": "2021-09-06T10:36:29.300Z"
   },
   {
    "duration": 270,
    "start_time": "2021-09-06T10:36:34.963Z"
   },
   {
    "duration": 42,
    "start_time": "2021-09-06T10:36:36.668Z"
   },
   {
    "duration": 4,
    "start_time": "2021-09-06T10:36:39.884Z"
   },
   {
    "duration": 266297,
    "start_time": "2021-09-06T10:36:40.280Z"
   },
   {
    "duration": 32818,
    "start_time": "2021-09-06T10:41:12.038Z"
   },
   {
    "duration": 36545,
    "start_time": "2021-09-06T10:41:47.490Z"
   },
   {
    "duration": 4,
    "start_time": "2021-09-06T10:42:39.597Z"
   },
   {
    "duration": 904816,
    "start_time": "2021-09-06T10:42:50.383Z"
   },
   {
    "duration": 213940,
    "start_time": "2021-09-06T11:14:54.758Z"
   },
   {
    "duration": 1876,
    "start_time": "2021-09-06T11:21:38.573Z"
   },
   {
    "duration": 7,
    "start_time": "2021-09-06T11:21:47.591Z"
   },
   {
    "duration": 889,
    "start_time": "2021-09-06T11:21:47.604Z"
   },
   {
    "duration": 321,
    "start_time": "2021-09-06T11:21:48.496Z"
   },
   {
    "duration": 4,
    "start_time": "2021-09-06T11:21:48.820Z"
   },
   {
    "duration": 3095,
    "start_time": "2021-09-06T11:21:48.827Z"
   },
   {
    "duration": 229,
    "start_time": "2021-09-06T11:21:51.924Z"
   },
   {
    "duration": 40,
    "start_time": "2021-09-06T11:21:52.155Z"
   },
   {
    "duration": 2,
    "start_time": "2021-09-06T11:21:52.198Z"
   },
   {
    "duration": 9,
    "start_time": "2021-09-06T11:21:52.203Z"
   },
   {
    "duration": 6,
    "start_time": "2021-09-06T11:21:52.214Z"
   },
   {
    "duration": 263579,
    "start_time": "2021-09-06T11:21:52.223Z"
   },
   {
    "duration": 27943,
    "start_time": "2021-09-06T11:26:15.804Z"
   },
   {
    "duration": 30797,
    "start_time": "2021-09-06T11:26:43.750Z"
   },
   {
    "duration": 1495891,
    "start_time": "2021-09-06T11:28:12.778Z"
   },
   {
    "duration": 2504880,
    "start_time": "2021-09-06T11:55:50.297Z"
   },
   {
    "duration": 2242917,
    "start_time": "2021-09-06T12:37:58.305Z"
   },
   {
    "duration": 812,
    "start_time": "2021-09-06T13:27:02.629Z"
   },
   {
    "duration": 196,
    "start_time": "2021-09-06T13:27:18.405Z"
   },
   {
    "duration": 1971867,
    "start_time": "2021-09-06T13:27:25.754Z"
   },
   {
    "duration": 24285,
    "start_time": "2021-09-06T14:08:57.902Z"
   },
   {
    "duration": 23835,
    "start_time": "2021-09-06T14:09:31.099Z"
   },
   {
    "duration": 6,
    "start_time": "2021-09-06T14:10:13.815Z"
   },
   {
    "duration": 455,
    "start_time": "2021-09-06T14:11:59.929Z"
   },
   {
    "duration": 16,
    "start_time": "2021-09-06T14:12:08.852Z"
   },
   {
    "duration": 50,
    "start_time": "2022-11-14T04:58:16.625Z"
   },
   {
    "duration": 1563,
    "start_time": "2022-11-14T04:58:20.362Z"
   },
   {
    "duration": 2382,
    "start_time": "2022-11-14T04:58:35.471Z"
   }
  ],
  "kernelspec": {
   "display_name": "Python 3 (ipykernel)",
   "language": "python",
   "name": "python3"
  },
  "language_info": {
   "codemirror_mode": {
    "name": "ipython",
    "version": 3
   },
   "file_extension": ".py",
   "mimetype": "text/x-python",
   "name": "python",
   "nbconvert_exporter": "python",
   "pygments_lexer": "ipython3",
   "version": "3.9.5"
  },
  "toc": {
   "base_numbering": 1,
   "nav_menu": {},
   "number_sections": true,
   "sideBar": true,
   "skip_h1_title": true,
   "title_cell": "Table of Contents",
   "title_sidebar": "Contents",
   "toc_cell": true,
   "toc_position": {
    "height": "calc(100% - 180px)",
    "left": "10px",
    "top": "150px",
    "width": "238px"
   },
   "toc_section_display": true,
   "toc_window_display": true
  }
 },
 "nbformat": 4,
 "nbformat_minor": 2
}
