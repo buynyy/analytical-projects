{
 "cells": [
  {
   "cell_type": "markdown",
   "metadata": {},
   "source": [
    "# Steel Temperature Forecast"
   ]
  },
  {
   "cell_type": "markdown",
   "metadata": {},
   "source": [
    "## Project Description"
   ]
  },
  {
   "cell_type": "markdown",
   "metadata": {},
   "source": [
    "In order to optimize production costs, the metallurgical plant \"Tak Zakalaem Stal\" Ltd. wants to reduce electricity consumption at the steel processing stage. It is required to build a model that predicts the temperature of the steel"
   ]
  },
  {
   "cell_type": "markdown",
   "metadata": {},
   "source": [
    "### Steel Processing Stage "
   ]
  },
  {
   "cell_type": "markdown",
   "metadata": {},
   "source": [
    "Steel is processed in a metal ladle with a capacity of about 100 tons. In order for the ladle to withstand high temperatures, it is lined with refractory bricks from the inside. Molten steel is poured into a ladle and heated to the desired temperature with graphite electrodes. They are installed in the lid of the bucket.\n",
    "\n",
    "Sulfur is removed from the alloy (desulfurization), the chemical composition is corrected by mixing with additions, and samples are taken. Steel is alloyed. Its composition is changed by feeding pieces of alloy from a bunker for bulk materials or wire through a special tribe apparatus.\n",
    "\n",
    "Before feeding the alloying additives for the first time, the temperature of the steel is measured and its chemical analysis is carried out. Then the temperature is raised for several minutes, alloying materials are added and the alloy is purged with an inert gas. Then it is stirred and measured again. This cycle is repeated until the target chemical composition and optimum melting temperature are reached.\n",
    "\n",
    "After that the molten steel is taken to finish the metal or to enter the continuous casting machine. From there, the finished product comes out in the form of slab blanks"
   ]
  },
  {
   "cell_type": "markdown",
   "metadata": {},
   "source": [
    "## Imports"
   ]
  },
  {
   "cell_type": "code",
   "execution_count": 65,
   "metadata": {},
   "outputs": [],
   "source": [
    "import pandas as pd\n",
    "import matplotlib.pyplot as plt \n",
    "import seaborn as sns\n",
    "import numpy as np\n",
    "from sklearn.preprocessing import StandardScaler\n",
    "from sklearn.model_selection import train_test_split, GridSearchCV\n",
    "from sklearn.linear_model import LinearRegression\n",
    "from sklearn.metrics import mean_absolute_error\n",
    "from sklearn.tree import DecisionTreeRegressor\n",
    "from sklearn.ensemble import RandomForestRegressor\n",
    "from lightgbm import LGBMRegressor\n",
    "from catboost import CatBoostRegressor\n",
    "from sklearn.dummy import DummyRegressor\n",
    "\n",
    "import warnings\n",
    "from IPython.display import display\n",
    "from functools import reduce\n",
    "import time"
   ]
  },
  {
   "cell_type": "markdown",
   "metadata": {},
   "source": [
    "## Explaratory Data Analysis"
   ]
  },
  {
   "cell_type": "markdown",
   "metadata": {},
   "source": [
    "### Data Description"
   ]
  },
  {
   "cell_type": "markdown",
   "metadata": {},
   "source": [
    "- `data_arc.csv` - electrode data;\n",
    "\n",
    "\n",
    "- `data_bulk.csv` - data on the supply of bulk materials (*volume*);\n",
    "\n",
    "\n",
    "- `data_bulk_time.csv` - data on the supply of bulk materials (*time*);\n",
    "\n",
    "\n",
    "- `data_gas.csv` - data on alloy gas purge;\n",
    "\n",
    "\n",
    "- `data_temp.csv` - temperature measurement results;\n",
    "\n",
    "\n",
    "- `data_wire.csv` - data on wire materials (*volume*);\n",
    "\n",
    "\n",
    "- `data_wire_time.csv` - data on wire materials (*time*)."
   ]
  },
  {
   "cell_type": "markdown",
   "metadata": {},
   "source": [
    "### Datasets Loading & Exploration"
   ]
  },
  {
   "cell_type": "code",
   "execution_count": 66,
   "metadata": {
    "scrolled": true
   },
   "outputs": [
    {
     "name": "stdout",
     "output_type": "stream",
     "text": [
      "\u001b[1mdata_arc\u001b[0m\n"
     ]
    },
    {
     "data": {
      "text/html": [
       "<div>\n",
       "<style scoped>\n",
       "    .dataframe tbody tr th:only-of-type {\n",
       "        vertical-align: middle;\n",
       "    }\n",
       "\n",
       "    .dataframe tbody tr th {\n",
       "        vertical-align: top;\n",
       "    }\n",
       "\n",
       "    .dataframe thead th {\n",
       "        text-align: right;\n",
       "    }\n",
       "</style>\n",
       "<table border=\"1\" class=\"dataframe\">\n",
       "  <thead>\n",
       "    <tr style=\"text-align: right;\">\n",
       "      <th></th>\n",
       "      <th>key</th>\n",
       "      <th>Начало нагрева дугой</th>\n",
       "      <th>Конец нагрева дугой</th>\n",
       "      <th>Активная мощность</th>\n",
       "      <th>Реактивная мощность</th>\n",
       "    </tr>\n",
       "  </thead>\n",
       "  <tbody>\n",
       "    <tr>\n",
       "      <th>0</th>\n",
       "      <td>1</td>\n",
       "      <td>2019-05-03 11:02:14</td>\n",
       "      <td>2019-05-03 11:06:02</td>\n",
       "      <td>0.976059</td>\n",
       "      <td>0.687084</td>\n",
       "    </tr>\n",
       "    <tr>\n",
       "      <th>1</th>\n",
       "      <td>1</td>\n",
       "      <td>2019-05-03 11:07:28</td>\n",
       "      <td>2019-05-03 11:10:33</td>\n",
       "      <td>0.805607</td>\n",
       "      <td>0.520285</td>\n",
       "    </tr>\n",
       "    <tr>\n",
       "      <th>2</th>\n",
       "      <td>1</td>\n",
       "      <td>2019-05-03 11:11:44</td>\n",
       "      <td>2019-05-03 11:14:36</td>\n",
       "      <td>0.744363</td>\n",
       "      <td>0.498805</td>\n",
       "    </tr>\n",
       "    <tr>\n",
       "      <th>3</th>\n",
       "      <td>1</td>\n",
       "      <td>2019-05-03 11:18:14</td>\n",
       "      <td>2019-05-03 11:24:19</td>\n",
       "      <td>1.659363</td>\n",
       "      <td>1.062669</td>\n",
       "    </tr>\n",
       "    <tr>\n",
       "      <th>4</th>\n",
       "      <td>1</td>\n",
       "      <td>2019-05-03 11:26:09</td>\n",
       "      <td>2019-05-03 11:28:37</td>\n",
       "      <td>0.692755</td>\n",
       "      <td>0.414397</td>\n",
       "    </tr>\n",
       "    <tr>\n",
       "      <th>5</th>\n",
       "      <td>2</td>\n",
       "      <td>2019-05-03 11:34:14</td>\n",
       "      <td>2019-05-03 11:36:31</td>\n",
       "      <td>0.438063</td>\n",
       "      <td>0.283043</td>\n",
       "    </tr>\n",
       "  </tbody>\n",
       "</table>\n",
       "</div>"
      ],
      "text/plain": [
       "   key Начало нагрева дугой  Конец нагрева дугой  Активная мощность  \\\n",
       "0    1  2019-05-03 11:02:14  2019-05-03 11:06:02           0.976059   \n",
       "1    1  2019-05-03 11:07:28  2019-05-03 11:10:33           0.805607   \n",
       "2    1  2019-05-03 11:11:44  2019-05-03 11:14:36           0.744363   \n",
       "3    1  2019-05-03 11:18:14  2019-05-03 11:24:19           1.659363   \n",
       "4    1  2019-05-03 11:26:09  2019-05-03 11:28:37           0.692755   \n",
       "5    2  2019-05-03 11:34:14  2019-05-03 11:36:31           0.438063   \n",
       "\n",
       "   Реактивная мощность  \n",
       "0             0.687084  \n",
       "1             0.520285  \n",
       "2             0.498805  \n",
       "3             1.062669  \n",
       "4             0.414397  \n",
       "5             0.283043  "
      ]
     },
     "metadata": {},
     "output_type": "display_data"
    },
    {
     "name": "stdout",
     "output_type": "stream",
     "text": [
      "<class 'pandas.core.frame.DataFrame'>\n",
      "RangeIndex: 14876 entries, 0 to 14875\n",
      "Data columns (total 5 columns):\n",
      " #   Column                Non-Null Count  Dtype  \n",
      "---  ------                --------------  -----  \n",
      " 0   key                   14876 non-null  int64  \n",
      " 1   Начало нагрева дугой  14876 non-null  object \n",
      " 2   Конец нагрева дугой   14876 non-null  object \n",
      " 3   Активная мощность     14876 non-null  float64\n",
      " 4   Реактивная мощность   14876 non-null  float64\n",
      "dtypes: float64(2), int64(1), object(2)\n",
      "memory usage: 581.2+ KB\n"
     ]
    },
    {
     "data": {
      "text/plain": [
       "None"
      ]
     },
     "metadata": {},
     "output_type": "display_data"
    },
    {
     "data": {
      "text/html": [
       "<div>\n",
       "<style scoped>\n",
       "    .dataframe tbody tr th:only-of-type {\n",
       "        vertical-align: middle;\n",
       "    }\n",
       "\n",
       "    .dataframe tbody tr th {\n",
       "        vertical-align: top;\n",
       "    }\n",
       "\n",
       "    .dataframe thead th {\n",
       "        text-align: right;\n",
       "    }\n",
       "</style>\n",
       "<table border=\"1\" class=\"dataframe\">\n",
       "  <thead>\n",
       "    <tr style=\"text-align: right;\">\n",
       "      <th></th>\n",
       "      <th>key</th>\n",
       "      <th>Активная мощность</th>\n",
       "      <th>Реактивная мощность</th>\n",
       "    </tr>\n",
       "  </thead>\n",
       "  <tbody>\n",
       "    <tr>\n",
       "      <th>count</th>\n",
       "      <td>14876.000000</td>\n",
       "      <td>14876.000000</td>\n",
       "      <td>14876.000000</td>\n",
       "    </tr>\n",
       "    <tr>\n",
       "      <th>mean</th>\n",
       "      <td>1615.220422</td>\n",
       "      <td>0.670441</td>\n",
       "      <td>0.452592</td>\n",
       "    </tr>\n",
       "    <tr>\n",
       "      <th>std</th>\n",
       "      <td>934.571502</td>\n",
       "      <td>0.408159</td>\n",
       "      <td>5.878702</td>\n",
       "    </tr>\n",
       "    <tr>\n",
       "      <th>min</th>\n",
       "      <td>1.000000</td>\n",
       "      <td>0.030002</td>\n",
       "      <td>-715.504924</td>\n",
       "    </tr>\n",
       "    <tr>\n",
       "      <th>25%</th>\n",
       "      <td>806.000000</td>\n",
       "      <td>0.395297</td>\n",
       "      <td>0.290991</td>\n",
       "    </tr>\n",
       "    <tr>\n",
       "      <th>50%</th>\n",
       "      <td>1617.000000</td>\n",
       "      <td>0.555517</td>\n",
       "      <td>0.415962</td>\n",
       "    </tr>\n",
       "    <tr>\n",
       "      <th>75%</th>\n",
       "      <td>2429.000000</td>\n",
       "      <td>0.857034</td>\n",
       "      <td>0.637371</td>\n",
       "    </tr>\n",
       "    <tr>\n",
       "      <th>max</th>\n",
       "      <td>3241.000000</td>\n",
       "      <td>3.731596</td>\n",
       "      <td>2.676388</td>\n",
       "    </tr>\n",
       "  </tbody>\n",
       "</table>\n",
       "</div>"
      ],
      "text/plain": [
       "                key  Активная мощность  Реактивная мощность\n",
       "count  14876.000000       14876.000000         14876.000000\n",
       "mean    1615.220422           0.670441             0.452592\n",
       "std      934.571502           0.408159             5.878702\n",
       "min        1.000000           0.030002          -715.504924\n",
       "25%      806.000000           0.395297             0.290991\n",
       "50%     1617.000000           0.555517             0.415962\n",
       "75%     2429.000000           0.857034             0.637371\n",
       "max     3241.000000           3.731596             2.676388"
      ]
     },
     "metadata": {},
     "output_type": "display_data"
    },
    {
     "name": "stdout",
     "output_type": "stream",
     "text": [
      "__________________________________________________________________________________\n",
      " \n",
      "\u001b[1mdata_bulk\u001b[0m\n"
     ]
    },
    {
     "data": {
      "text/html": [
       "<div>\n",
       "<style scoped>\n",
       "    .dataframe tbody tr th:only-of-type {\n",
       "        vertical-align: middle;\n",
       "    }\n",
       "\n",
       "    .dataframe tbody tr th {\n",
       "        vertical-align: top;\n",
       "    }\n",
       "\n",
       "    .dataframe thead th {\n",
       "        text-align: right;\n",
       "    }\n",
       "</style>\n",
       "<table border=\"1\" class=\"dataframe\">\n",
       "  <thead>\n",
       "    <tr style=\"text-align: right;\">\n",
       "      <th></th>\n",
       "      <th>key</th>\n",
       "      <th>Bulk 1</th>\n",
       "      <th>Bulk 2</th>\n",
       "      <th>Bulk 3</th>\n",
       "      <th>Bulk 4</th>\n",
       "      <th>Bulk 5</th>\n",
       "      <th>Bulk 6</th>\n",
       "      <th>Bulk 7</th>\n",
       "      <th>Bulk 8</th>\n",
       "      <th>Bulk 9</th>\n",
       "      <th>Bulk 10</th>\n",
       "      <th>Bulk 11</th>\n",
       "      <th>Bulk 12</th>\n",
       "      <th>Bulk 13</th>\n",
       "      <th>Bulk 14</th>\n",
       "      <th>Bulk 15</th>\n",
       "    </tr>\n",
       "  </thead>\n",
       "  <tbody>\n",
       "    <tr>\n",
       "      <th>0</th>\n",
       "      <td>1</td>\n",
       "      <td>NaN</td>\n",
       "      <td>NaN</td>\n",
       "      <td>NaN</td>\n",
       "      <td>43.0</td>\n",
       "      <td>NaN</td>\n",
       "      <td>NaN</td>\n",
       "      <td>NaN</td>\n",
       "      <td>NaN</td>\n",
       "      <td>NaN</td>\n",
       "      <td>NaN</td>\n",
       "      <td>NaN</td>\n",
       "      <td>206.0</td>\n",
       "      <td>NaN</td>\n",
       "      <td>150.0</td>\n",
       "      <td>154.0</td>\n",
       "    </tr>\n",
       "    <tr>\n",
       "      <th>1</th>\n",
       "      <td>2</td>\n",
       "      <td>NaN</td>\n",
       "      <td>NaN</td>\n",
       "      <td>NaN</td>\n",
       "      <td>73.0</td>\n",
       "      <td>NaN</td>\n",
       "      <td>NaN</td>\n",
       "      <td>NaN</td>\n",
       "      <td>NaN</td>\n",
       "      <td>NaN</td>\n",
       "      <td>NaN</td>\n",
       "      <td>NaN</td>\n",
       "      <td>206.0</td>\n",
       "      <td>NaN</td>\n",
       "      <td>149.0</td>\n",
       "      <td>154.0</td>\n",
       "    </tr>\n",
       "    <tr>\n",
       "      <th>2</th>\n",
       "      <td>3</td>\n",
       "      <td>NaN</td>\n",
       "      <td>NaN</td>\n",
       "      <td>NaN</td>\n",
       "      <td>34.0</td>\n",
       "      <td>NaN</td>\n",
       "      <td>NaN</td>\n",
       "      <td>NaN</td>\n",
       "      <td>NaN</td>\n",
       "      <td>NaN</td>\n",
       "      <td>NaN</td>\n",
       "      <td>NaN</td>\n",
       "      <td>205.0</td>\n",
       "      <td>NaN</td>\n",
       "      <td>152.0</td>\n",
       "      <td>153.0</td>\n",
       "    </tr>\n",
       "    <tr>\n",
       "      <th>3</th>\n",
       "      <td>4</td>\n",
       "      <td>NaN</td>\n",
       "      <td>NaN</td>\n",
       "      <td>NaN</td>\n",
       "      <td>81.0</td>\n",
       "      <td>NaN</td>\n",
       "      <td>NaN</td>\n",
       "      <td>NaN</td>\n",
       "      <td>NaN</td>\n",
       "      <td>NaN</td>\n",
       "      <td>NaN</td>\n",
       "      <td>NaN</td>\n",
       "      <td>207.0</td>\n",
       "      <td>NaN</td>\n",
       "      <td>153.0</td>\n",
       "      <td>154.0</td>\n",
       "    </tr>\n",
       "    <tr>\n",
       "      <th>4</th>\n",
       "      <td>5</td>\n",
       "      <td>NaN</td>\n",
       "      <td>NaN</td>\n",
       "      <td>NaN</td>\n",
       "      <td>78.0</td>\n",
       "      <td>NaN</td>\n",
       "      <td>NaN</td>\n",
       "      <td>NaN</td>\n",
       "      <td>NaN</td>\n",
       "      <td>NaN</td>\n",
       "      <td>NaN</td>\n",
       "      <td>NaN</td>\n",
       "      <td>203.0</td>\n",
       "      <td>NaN</td>\n",
       "      <td>151.0</td>\n",
       "      <td>152.0</td>\n",
       "    </tr>\n",
       "    <tr>\n",
       "      <th>5</th>\n",
       "      <td>6</td>\n",
       "      <td>NaN</td>\n",
       "      <td>NaN</td>\n",
       "      <td>NaN</td>\n",
       "      <td>117.0</td>\n",
       "      <td>NaN</td>\n",
       "      <td>NaN</td>\n",
       "      <td>NaN</td>\n",
       "      <td>NaN</td>\n",
       "      <td>NaN</td>\n",
       "      <td>NaN</td>\n",
       "      <td>NaN</td>\n",
       "      <td>204.0</td>\n",
       "      <td>NaN</td>\n",
       "      <td>201.0</td>\n",
       "      <td>154.0</td>\n",
       "    </tr>\n",
       "  </tbody>\n",
       "</table>\n",
       "</div>"
      ],
      "text/plain": [
       "   key  Bulk 1  Bulk 2  Bulk 3  Bulk 4  Bulk 5  Bulk 6  Bulk 7  Bulk 8  \\\n",
       "0    1     NaN     NaN     NaN    43.0     NaN     NaN     NaN     NaN   \n",
       "1    2     NaN     NaN     NaN    73.0     NaN     NaN     NaN     NaN   \n",
       "2    3     NaN     NaN     NaN    34.0     NaN     NaN     NaN     NaN   \n",
       "3    4     NaN     NaN     NaN    81.0     NaN     NaN     NaN     NaN   \n",
       "4    5     NaN     NaN     NaN    78.0     NaN     NaN     NaN     NaN   \n",
       "5    6     NaN     NaN     NaN   117.0     NaN     NaN     NaN     NaN   \n",
       "\n",
       "   Bulk 9  Bulk 10  Bulk 11  Bulk 12  Bulk 13  Bulk 14  Bulk 15  \n",
       "0     NaN      NaN      NaN    206.0      NaN    150.0    154.0  \n",
       "1     NaN      NaN      NaN    206.0      NaN    149.0    154.0  \n",
       "2     NaN      NaN      NaN    205.0      NaN    152.0    153.0  \n",
       "3     NaN      NaN      NaN    207.0      NaN    153.0    154.0  \n",
       "4     NaN      NaN      NaN    203.0      NaN    151.0    152.0  \n",
       "5     NaN      NaN      NaN    204.0      NaN    201.0    154.0  "
      ]
     },
     "metadata": {},
     "output_type": "display_data"
    },
    {
     "name": "stdout",
     "output_type": "stream",
     "text": [
      "<class 'pandas.core.frame.DataFrame'>\n",
      "RangeIndex: 3129 entries, 0 to 3128\n",
      "Data columns (total 16 columns):\n",
      " #   Column   Non-Null Count  Dtype  \n",
      "---  ------   --------------  -----  \n",
      " 0   key      3129 non-null   int64  \n",
      " 1   Bulk 1   252 non-null    float64\n",
      " 2   Bulk 2   22 non-null     float64\n",
      " 3   Bulk 3   1298 non-null   float64\n",
      " 4   Bulk 4   1014 non-null   float64\n",
      " 5   Bulk 5   77 non-null     float64\n",
      " 6   Bulk 6   576 non-null    float64\n",
      " 7   Bulk 7   25 non-null     float64\n",
      " 8   Bulk 8   1 non-null      float64\n",
      " 9   Bulk 9   19 non-null     float64\n",
      " 10  Bulk 10  176 non-null    float64\n",
      " 11  Bulk 11  177 non-null    float64\n",
      " 12  Bulk 12  2450 non-null   float64\n",
      " 13  Bulk 13  18 non-null     float64\n",
      " 14  Bulk 14  2806 non-null   float64\n",
      " 15  Bulk 15  2248 non-null   float64\n",
      "dtypes: float64(15), int64(1)\n",
      "memory usage: 391.2 KB\n"
     ]
    },
    {
     "data": {
      "text/plain": [
       "None"
      ]
     },
     "metadata": {},
     "output_type": "display_data"
    },
    {
     "data": {
      "text/html": [
       "<div>\n",
       "<style scoped>\n",
       "    .dataframe tbody tr th:only-of-type {\n",
       "        vertical-align: middle;\n",
       "    }\n",
       "\n",
       "    .dataframe tbody tr th {\n",
       "        vertical-align: top;\n",
       "    }\n",
       "\n",
       "    .dataframe thead th {\n",
       "        text-align: right;\n",
       "    }\n",
       "</style>\n",
       "<table border=\"1\" class=\"dataframe\">\n",
       "  <thead>\n",
       "    <tr style=\"text-align: right;\">\n",
       "      <th></th>\n",
       "      <th>key</th>\n",
       "      <th>Bulk 1</th>\n",
       "      <th>Bulk 2</th>\n",
       "      <th>Bulk 3</th>\n",
       "      <th>Bulk 4</th>\n",
       "      <th>Bulk 5</th>\n",
       "      <th>Bulk 6</th>\n",
       "      <th>Bulk 7</th>\n",
       "      <th>Bulk 8</th>\n",
       "      <th>Bulk 9</th>\n",
       "      <th>Bulk 10</th>\n",
       "      <th>Bulk 11</th>\n",
       "      <th>Bulk 12</th>\n",
       "      <th>Bulk 13</th>\n",
       "      <th>Bulk 14</th>\n",
       "      <th>Bulk 15</th>\n",
       "    </tr>\n",
       "  </thead>\n",
       "  <tbody>\n",
       "    <tr>\n",
       "      <th>count</th>\n",
       "      <td>3129.000000</td>\n",
       "      <td>252.000000</td>\n",
       "      <td>22.000000</td>\n",
       "      <td>1298.000000</td>\n",
       "      <td>1014.000000</td>\n",
       "      <td>77.000000</td>\n",
       "      <td>576.000000</td>\n",
       "      <td>25.000000</td>\n",
       "      <td>1.0</td>\n",
       "      <td>19.000000</td>\n",
       "      <td>176.000000</td>\n",
       "      <td>177.000000</td>\n",
       "      <td>2450.000000</td>\n",
       "      <td>18.000000</td>\n",
       "      <td>2806.000000</td>\n",
       "      <td>2248.000000</td>\n",
       "    </tr>\n",
       "    <tr>\n",
       "      <th>mean</th>\n",
       "      <td>1624.383509</td>\n",
       "      <td>39.242063</td>\n",
       "      <td>253.045455</td>\n",
       "      <td>113.879045</td>\n",
       "      <td>104.394477</td>\n",
       "      <td>107.025974</td>\n",
       "      <td>118.925347</td>\n",
       "      <td>305.600000</td>\n",
       "      <td>49.0</td>\n",
       "      <td>76.315789</td>\n",
       "      <td>83.284091</td>\n",
       "      <td>76.819209</td>\n",
       "      <td>260.471020</td>\n",
       "      <td>181.111111</td>\n",
       "      <td>170.284747</td>\n",
       "      <td>160.513345</td>\n",
       "    </tr>\n",
       "    <tr>\n",
       "      <th>std</th>\n",
       "      <td>933.337642</td>\n",
       "      <td>18.277654</td>\n",
       "      <td>21.180578</td>\n",
       "      <td>75.483494</td>\n",
       "      <td>48.184126</td>\n",
       "      <td>81.790646</td>\n",
       "      <td>72.057776</td>\n",
       "      <td>191.022904</td>\n",
       "      <td>NaN</td>\n",
       "      <td>21.720581</td>\n",
       "      <td>26.060347</td>\n",
       "      <td>59.655365</td>\n",
       "      <td>120.649269</td>\n",
       "      <td>46.088009</td>\n",
       "      <td>65.868652</td>\n",
       "      <td>51.765319</td>\n",
       "    </tr>\n",
       "    <tr>\n",
       "      <th>min</th>\n",
       "      <td>1.000000</td>\n",
       "      <td>10.000000</td>\n",
       "      <td>228.000000</td>\n",
       "      <td>6.000000</td>\n",
       "      <td>12.000000</td>\n",
       "      <td>11.000000</td>\n",
       "      <td>17.000000</td>\n",
       "      <td>47.000000</td>\n",
       "      <td>49.0</td>\n",
       "      <td>63.000000</td>\n",
       "      <td>24.000000</td>\n",
       "      <td>8.000000</td>\n",
       "      <td>53.000000</td>\n",
       "      <td>151.000000</td>\n",
       "      <td>16.000000</td>\n",
       "      <td>1.000000</td>\n",
       "    </tr>\n",
       "    <tr>\n",
       "      <th>25%</th>\n",
       "      <td>816.000000</td>\n",
       "      <td>27.000000</td>\n",
       "      <td>242.000000</td>\n",
       "      <td>58.000000</td>\n",
       "      <td>72.000000</td>\n",
       "      <td>70.000000</td>\n",
       "      <td>69.750000</td>\n",
       "      <td>155.000000</td>\n",
       "      <td>49.0</td>\n",
       "      <td>66.000000</td>\n",
       "      <td>64.000000</td>\n",
       "      <td>25.000000</td>\n",
       "      <td>204.000000</td>\n",
       "      <td>153.250000</td>\n",
       "      <td>119.000000</td>\n",
       "      <td>105.000000</td>\n",
       "    </tr>\n",
       "    <tr>\n",
       "      <th>50%</th>\n",
       "      <td>1622.000000</td>\n",
       "      <td>31.000000</td>\n",
       "      <td>251.500000</td>\n",
       "      <td>97.500000</td>\n",
       "      <td>102.000000</td>\n",
       "      <td>86.000000</td>\n",
       "      <td>100.000000</td>\n",
       "      <td>298.000000</td>\n",
       "      <td>49.0</td>\n",
       "      <td>68.000000</td>\n",
       "      <td>86.500000</td>\n",
       "      <td>64.000000</td>\n",
       "      <td>208.000000</td>\n",
       "      <td>155.500000</td>\n",
       "      <td>151.000000</td>\n",
       "      <td>160.000000</td>\n",
       "    </tr>\n",
       "    <tr>\n",
       "      <th>75%</th>\n",
       "      <td>2431.000000</td>\n",
       "      <td>46.000000</td>\n",
       "      <td>257.750000</td>\n",
       "      <td>152.000000</td>\n",
       "      <td>133.000000</td>\n",
       "      <td>132.000000</td>\n",
       "      <td>157.000000</td>\n",
       "      <td>406.000000</td>\n",
       "      <td>49.0</td>\n",
       "      <td>70.500000</td>\n",
       "      <td>102.000000</td>\n",
       "      <td>106.000000</td>\n",
       "      <td>316.000000</td>\n",
       "      <td>203.500000</td>\n",
       "      <td>205.750000</td>\n",
       "      <td>205.000000</td>\n",
       "    </tr>\n",
       "    <tr>\n",
       "      <th>max</th>\n",
       "      <td>3241.000000</td>\n",
       "      <td>185.000000</td>\n",
       "      <td>325.000000</td>\n",
       "      <td>454.000000</td>\n",
       "      <td>281.000000</td>\n",
       "      <td>603.000000</td>\n",
       "      <td>503.000000</td>\n",
       "      <td>772.000000</td>\n",
       "      <td>49.0</td>\n",
       "      <td>147.000000</td>\n",
       "      <td>159.000000</td>\n",
       "      <td>313.000000</td>\n",
       "      <td>1849.000000</td>\n",
       "      <td>305.000000</td>\n",
       "      <td>636.000000</td>\n",
       "      <td>405.000000</td>\n",
       "    </tr>\n",
       "  </tbody>\n",
       "</table>\n",
       "</div>"
      ],
      "text/plain": [
       "               key      Bulk 1      Bulk 2       Bulk 3       Bulk 4  \\\n",
       "count  3129.000000  252.000000   22.000000  1298.000000  1014.000000   \n",
       "mean   1624.383509   39.242063  253.045455   113.879045   104.394477   \n",
       "std     933.337642   18.277654   21.180578    75.483494    48.184126   \n",
       "min       1.000000   10.000000  228.000000     6.000000    12.000000   \n",
       "25%     816.000000   27.000000  242.000000    58.000000    72.000000   \n",
       "50%    1622.000000   31.000000  251.500000    97.500000   102.000000   \n",
       "75%    2431.000000   46.000000  257.750000   152.000000   133.000000   \n",
       "max    3241.000000  185.000000  325.000000   454.000000   281.000000   \n",
       "\n",
       "           Bulk 5      Bulk 6      Bulk 7  Bulk 8      Bulk 9     Bulk 10  \\\n",
       "count   77.000000  576.000000   25.000000     1.0   19.000000  176.000000   \n",
       "mean   107.025974  118.925347  305.600000    49.0   76.315789   83.284091   \n",
       "std     81.790646   72.057776  191.022904     NaN   21.720581   26.060347   \n",
       "min     11.000000   17.000000   47.000000    49.0   63.000000   24.000000   \n",
       "25%     70.000000   69.750000  155.000000    49.0   66.000000   64.000000   \n",
       "50%     86.000000  100.000000  298.000000    49.0   68.000000   86.500000   \n",
       "75%    132.000000  157.000000  406.000000    49.0   70.500000  102.000000   \n",
       "max    603.000000  503.000000  772.000000    49.0  147.000000  159.000000   \n",
       "\n",
       "          Bulk 11      Bulk 12     Bulk 13      Bulk 14      Bulk 15  \n",
       "count  177.000000  2450.000000   18.000000  2806.000000  2248.000000  \n",
       "mean    76.819209   260.471020  181.111111   170.284747   160.513345  \n",
       "std     59.655365   120.649269   46.088009    65.868652    51.765319  \n",
       "min      8.000000    53.000000  151.000000    16.000000     1.000000  \n",
       "25%     25.000000   204.000000  153.250000   119.000000   105.000000  \n",
       "50%     64.000000   208.000000  155.500000   151.000000   160.000000  \n",
       "75%    106.000000   316.000000  203.500000   205.750000   205.000000  \n",
       "max    313.000000  1849.000000  305.000000   636.000000   405.000000  "
      ]
     },
     "metadata": {},
     "output_type": "display_data"
    },
    {
     "name": "stdout",
     "output_type": "stream",
     "text": [
      "__________________________________________________________________________________\n",
      " \n",
      "\u001b[1mdata_bulk_time\u001b[0m\n"
     ]
    },
    {
     "data": {
      "text/html": [
       "<div>\n",
       "<style scoped>\n",
       "    .dataframe tbody tr th:only-of-type {\n",
       "        vertical-align: middle;\n",
       "    }\n",
       "\n",
       "    .dataframe tbody tr th {\n",
       "        vertical-align: top;\n",
       "    }\n",
       "\n",
       "    .dataframe thead th {\n",
       "        text-align: right;\n",
       "    }\n",
       "</style>\n",
       "<table border=\"1\" class=\"dataframe\">\n",
       "  <thead>\n",
       "    <tr style=\"text-align: right;\">\n",
       "      <th></th>\n",
       "      <th>key</th>\n",
       "      <th>Bulk 1</th>\n",
       "      <th>Bulk 2</th>\n",
       "      <th>Bulk 3</th>\n",
       "      <th>Bulk 4</th>\n",
       "      <th>Bulk 5</th>\n",
       "      <th>Bulk 6</th>\n",
       "      <th>Bulk 7</th>\n",
       "      <th>Bulk 8</th>\n",
       "      <th>Bulk 9</th>\n",
       "      <th>Bulk 10</th>\n",
       "      <th>Bulk 11</th>\n",
       "      <th>Bulk 12</th>\n",
       "      <th>Bulk 13</th>\n",
       "      <th>Bulk 14</th>\n",
       "      <th>Bulk 15</th>\n",
       "    </tr>\n",
       "  </thead>\n",
       "  <tbody>\n",
       "    <tr>\n",
       "      <th>0</th>\n",
       "      <td>1</td>\n",
       "      <td>NaN</td>\n",
       "      <td>NaN</td>\n",
       "      <td>NaN</td>\n",
       "      <td>2019-05-03 11:21:30</td>\n",
       "      <td>NaN</td>\n",
       "      <td>NaN</td>\n",
       "      <td>NaN</td>\n",
       "      <td>NaN</td>\n",
       "      <td>NaN</td>\n",
       "      <td>NaN</td>\n",
       "      <td>NaN</td>\n",
       "      <td>2019-05-03 11:03:52</td>\n",
       "      <td>NaN</td>\n",
       "      <td>2019-05-03 11:03:52</td>\n",
       "      <td>2019-05-03 11:03:52</td>\n",
       "    </tr>\n",
       "    <tr>\n",
       "      <th>1</th>\n",
       "      <td>2</td>\n",
       "      <td>NaN</td>\n",
       "      <td>NaN</td>\n",
       "      <td>NaN</td>\n",
       "      <td>2019-05-03 11:46:38</td>\n",
       "      <td>NaN</td>\n",
       "      <td>NaN</td>\n",
       "      <td>NaN</td>\n",
       "      <td>NaN</td>\n",
       "      <td>NaN</td>\n",
       "      <td>NaN</td>\n",
       "      <td>NaN</td>\n",
       "      <td>2019-05-03 11:40:20</td>\n",
       "      <td>NaN</td>\n",
       "      <td>2019-05-03 11:40:20</td>\n",
       "      <td>2019-05-03 11:40:20</td>\n",
       "    </tr>\n",
       "    <tr>\n",
       "      <th>2</th>\n",
       "      <td>3</td>\n",
       "      <td>NaN</td>\n",
       "      <td>NaN</td>\n",
       "      <td>NaN</td>\n",
       "      <td>2019-05-03 12:31:06</td>\n",
       "      <td>NaN</td>\n",
       "      <td>NaN</td>\n",
       "      <td>NaN</td>\n",
       "      <td>NaN</td>\n",
       "      <td>NaN</td>\n",
       "      <td>NaN</td>\n",
       "      <td>NaN</td>\n",
       "      <td>2019-05-03 12:09:40</td>\n",
       "      <td>NaN</td>\n",
       "      <td>2019-05-03 12:09:40</td>\n",
       "      <td>2019-05-03 12:09:40</td>\n",
       "    </tr>\n",
       "    <tr>\n",
       "      <th>3</th>\n",
       "      <td>4</td>\n",
       "      <td>NaN</td>\n",
       "      <td>NaN</td>\n",
       "      <td>NaN</td>\n",
       "      <td>2019-05-03 12:48:43</td>\n",
       "      <td>NaN</td>\n",
       "      <td>NaN</td>\n",
       "      <td>NaN</td>\n",
       "      <td>NaN</td>\n",
       "      <td>NaN</td>\n",
       "      <td>NaN</td>\n",
       "      <td>NaN</td>\n",
       "      <td>2019-05-03 12:41:24</td>\n",
       "      <td>NaN</td>\n",
       "      <td>2019-05-03 12:41:24</td>\n",
       "      <td>2019-05-03 12:41:24</td>\n",
       "    </tr>\n",
       "    <tr>\n",
       "      <th>4</th>\n",
       "      <td>5</td>\n",
       "      <td>NaN</td>\n",
       "      <td>NaN</td>\n",
       "      <td>NaN</td>\n",
       "      <td>2019-05-03 13:18:50</td>\n",
       "      <td>NaN</td>\n",
       "      <td>NaN</td>\n",
       "      <td>NaN</td>\n",
       "      <td>NaN</td>\n",
       "      <td>NaN</td>\n",
       "      <td>NaN</td>\n",
       "      <td>NaN</td>\n",
       "      <td>2019-05-03 13:12:56</td>\n",
       "      <td>NaN</td>\n",
       "      <td>2019-05-03 13:12:56</td>\n",
       "      <td>2019-05-03 13:12:56</td>\n",
       "    </tr>\n",
       "    <tr>\n",
       "      <th>5</th>\n",
       "      <td>6</td>\n",
       "      <td>NaN</td>\n",
       "      <td>NaN</td>\n",
       "      <td>NaN</td>\n",
       "      <td>2019-05-03 13:59:24</td>\n",
       "      <td>NaN</td>\n",
       "      <td>NaN</td>\n",
       "      <td>NaN</td>\n",
       "      <td>NaN</td>\n",
       "      <td>NaN</td>\n",
       "      <td>NaN</td>\n",
       "      <td>NaN</td>\n",
       "      <td>2019-05-03 13:53:27</td>\n",
       "      <td>NaN</td>\n",
       "      <td>2019-05-03 13:53:27</td>\n",
       "      <td>2019-05-03 13:53:27</td>\n",
       "    </tr>\n",
       "  </tbody>\n",
       "</table>\n",
       "</div>"
      ],
      "text/plain": [
       "   key Bulk 1 Bulk 2 Bulk 3               Bulk 4 Bulk 5 Bulk 6 Bulk 7 Bulk 8  \\\n",
       "0    1    NaN    NaN    NaN  2019-05-03 11:21:30    NaN    NaN    NaN    NaN   \n",
       "1    2    NaN    NaN    NaN  2019-05-03 11:46:38    NaN    NaN    NaN    NaN   \n",
       "2    3    NaN    NaN    NaN  2019-05-03 12:31:06    NaN    NaN    NaN    NaN   \n",
       "3    4    NaN    NaN    NaN  2019-05-03 12:48:43    NaN    NaN    NaN    NaN   \n",
       "4    5    NaN    NaN    NaN  2019-05-03 13:18:50    NaN    NaN    NaN    NaN   \n",
       "5    6    NaN    NaN    NaN  2019-05-03 13:59:24    NaN    NaN    NaN    NaN   \n",
       "\n",
       "  Bulk 9 Bulk 10 Bulk 11              Bulk 12 Bulk 13              Bulk 14  \\\n",
       "0    NaN     NaN     NaN  2019-05-03 11:03:52     NaN  2019-05-03 11:03:52   \n",
       "1    NaN     NaN     NaN  2019-05-03 11:40:20     NaN  2019-05-03 11:40:20   \n",
       "2    NaN     NaN     NaN  2019-05-03 12:09:40     NaN  2019-05-03 12:09:40   \n",
       "3    NaN     NaN     NaN  2019-05-03 12:41:24     NaN  2019-05-03 12:41:24   \n",
       "4    NaN     NaN     NaN  2019-05-03 13:12:56     NaN  2019-05-03 13:12:56   \n",
       "5    NaN     NaN     NaN  2019-05-03 13:53:27     NaN  2019-05-03 13:53:27   \n",
       "\n",
       "               Bulk 15  \n",
       "0  2019-05-03 11:03:52  \n",
       "1  2019-05-03 11:40:20  \n",
       "2  2019-05-03 12:09:40  \n",
       "3  2019-05-03 12:41:24  \n",
       "4  2019-05-03 13:12:56  \n",
       "5  2019-05-03 13:53:27  "
      ]
     },
     "metadata": {},
     "output_type": "display_data"
    },
    {
     "name": "stdout",
     "output_type": "stream",
     "text": [
      "<class 'pandas.core.frame.DataFrame'>\n",
      "RangeIndex: 3129 entries, 0 to 3128\n",
      "Data columns (total 16 columns):\n",
      " #   Column   Non-Null Count  Dtype \n",
      "---  ------   --------------  ----- \n",
      " 0   key      3129 non-null   int64 \n",
      " 1   Bulk 1   252 non-null    object\n",
      " 2   Bulk 2   22 non-null     object\n",
      " 3   Bulk 3   1298 non-null   object\n",
      " 4   Bulk 4   1014 non-null   object\n",
      " 5   Bulk 5   77 non-null     object\n",
      " 6   Bulk 6   576 non-null    object\n",
      " 7   Bulk 7   25 non-null     object\n",
      " 8   Bulk 8   1 non-null      object\n",
      " 9   Bulk 9   19 non-null     object\n",
      " 10  Bulk 10  176 non-null    object\n",
      " 11  Bulk 11  177 non-null    object\n",
      " 12  Bulk 12  2450 non-null   object\n",
      " 13  Bulk 13  18 non-null     object\n",
      " 14  Bulk 14  2806 non-null   object\n",
      " 15  Bulk 15  2248 non-null   object\n",
      "dtypes: int64(1), object(15)\n",
      "memory usage: 391.2+ KB\n"
     ]
    },
    {
     "data": {
      "text/plain": [
       "None"
      ]
     },
     "metadata": {},
     "output_type": "display_data"
    },
    {
     "data": {
      "text/html": [
       "<div>\n",
       "<style scoped>\n",
       "    .dataframe tbody tr th:only-of-type {\n",
       "        vertical-align: middle;\n",
       "    }\n",
       "\n",
       "    .dataframe tbody tr th {\n",
       "        vertical-align: top;\n",
       "    }\n",
       "\n",
       "    .dataframe thead th {\n",
       "        text-align: right;\n",
       "    }\n",
       "</style>\n",
       "<table border=\"1\" class=\"dataframe\">\n",
       "  <thead>\n",
       "    <tr style=\"text-align: right;\">\n",
       "      <th></th>\n",
       "      <th>key</th>\n",
       "    </tr>\n",
       "  </thead>\n",
       "  <tbody>\n",
       "    <tr>\n",
       "      <th>count</th>\n",
       "      <td>3129.000000</td>\n",
       "    </tr>\n",
       "    <tr>\n",
       "      <th>mean</th>\n",
       "      <td>1624.383509</td>\n",
       "    </tr>\n",
       "    <tr>\n",
       "      <th>std</th>\n",
       "      <td>933.337642</td>\n",
       "    </tr>\n",
       "    <tr>\n",
       "      <th>min</th>\n",
       "      <td>1.000000</td>\n",
       "    </tr>\n",
       "    <tr>\n",
       "      <th>25%</th>\n",
       "      <td>816.000000</td>\n",
       "    </tr>\n",
       "    <tr>\n",
       "      <th>50%</th>\n",
       "      <td>1622.000000</td>\n",
       "    </tr>\n",
       "    <tr>\n",
       "      <th>75%</th>\n",
       "      <td>2431.000000</td>\n",
       "    </tr>\n",
       "    <tr>\n",
       "      <th>max</th>\n",
       "      <td>3241.000000</td>\n",
       "    </tr>\n",
       "  </tbody>\n",
       "</table>\n",
       "</div>"
      ],
      "text/plain": [
       "               key\n",
       "count  3129.000000\n",
       "mean   1624.383509\n",
       "std     933.337642\n",
       "min       1.000000\n",
       "25%     816.000000\n",
       "50%    1622.000000\n",
       "75%    2431.000000\n",
       "max    3241.000000"
      ]
     },
     "metadata": {},
     "output_type": "display_data"
    },
    {
     "name": "stdout",
     "output_type": "stream",
     "text": [
      "__________________________________________________________________________________\n",
      " \n",
      "\u001b[1mdata_gas\u001b[0m\n"
     ]
    },
    {
     "data": {
      "text/html": [
       "<div>\n",
       "<style scoped>\n",
       "    .dataframe tbody tr th:only-of-type {\n",
       "        vertical-align: middle;\n",
       "    }\n",
       "\n",
       "    .dataframe tbody tr th {\n",
       "        vertical-align: top;\n",
       "    }\n",
       "\n",
       "    .dataframe thead th {\n",
       "        text-align: right;\n",
       "    }\n",
       "</style>\n",
       "<table border=\"1\" class=\"dataframe\">\n",
       "  <thead>\n",
       "    <tr style=\"text-align: right;\">\n",
       "      <th></th>\n",
       "      <th>key</th>\n",
       "      <th>Газ 1</th>\n",
       "    </tr>\n",
       "  </thead>\n",
       "  <tbody>\n",
       "    <tr>\n",
       "      <th>0</th>\n",
       "      <td>1</td>\n",
       "      <td>29.749986</td>\n",
       "    </tr>\n",
       "    <tr>\n",
       "      <th>1</th>\n",
       "      <td>2</td>\n",
       "      <td>12.555561</td>\n",
       "    </tr>\n",
       "    <tr>\n",
       "      <th>2</th>\n",
       "      <td>3</td>\n",
       "      <td>28.554793</td>\n",
       "    </tr>\n",
       "    <tr>\n",
       "      <th>3</th>\n",
       "      <td>4</td>\n",
       "      <td>18.841219</td>\n",
       "    </tr>\n",
       "    <tr>\n",
       "      <th>4</th>\n",
       "      <td>5</td>\n",
       "      <td>5.413692</td>\n",
       "    </tr>\n",
       "    <tr>\n",
       "      <th>5</th>\n",
       "      <td>6</td>\n",
       "      <td>11.273392</td>\n",
       "    </tr>\n",
       "  </tbody>\n",
       "</table>\n",
       "</div>"
      ],
      "text/plain": [
       "   key      Газ 1\n",
       "0    1  29.749986\n",
       "1    2  12.555561\n",
       "2    3  28.554793\n",
       "3    4  18.841219\n",
       "4    5   5.413692\n",
       "5    6  11.273392"
      ]
     },
     "metadata": {},
     "output_type": "display_data"
    },
    {
     "name": "stdout",
     "output_type": "stream",
     "text": [
      "<class 'pandas.core.frame.DataFrame'>\n",
      "RangeIndex: 3239 entries, 0 to 3238\n",
      "Data columns (total 2 columns):\n",
      " #   Column  Non-Null Count  Dtype  \n",
      "---  ------  --------------  -----  \n",
      " 0   key     3239 non-null   int64  \n",
      " 1   Газ 1   3239 non-null   float64\n",
      "dtypes: float64(1), int64(1)\n",
      "memory usage: 50.7 KB\n"
     ]
    },
    {
     "data": {
      "text/plain": [
       "None"
      ]
     },
     "metadata": {},
     "output_type": "display_data"
    },
    {
     "data": {
      "text/html": [
       "<div>\n",
       "<style scoped>\n",
       "    .dataframe tbody tr th:only-of-type {\n",
       "        vertical-align: middle;\n",
       "    }\n",
       "\n",
       "    .dataframe tbody tr th {\n",
       "        vertical-align: top;\n",
       "    }\n",
       "\n",
       "    .dataframe thead th {\n",
       "        text-align: right;\n",
       "    }\n",
       "</style>\n",
       "<table border=\"1\" class=\"dataframe\">\n",
       "  <thead>\n",
       "    <tr style=\"text-align: right;\">\n",
       "      <th></th>\n",
       "      <th>key</th>\n",
       "      <th>Газ 1</th>\n",
       "    </tr>\n",
       "  </thead>\n",
       "  <tbody>\n",
       "    <tr>\n",
       "      <th>count</th>\n",
       "      <td>3239.000000</td>\n",
       "      <td>3239.000000</td>\n",
       "    </tr>\n",
       "    <tr>\n",
       "      <th>mean</th>\n",
       "      <td>1621.861377</td>\n",
       "      <td>11.002062</td>\n",
       "    </tr>\n",
       "    <tr>\n",
       "      <th>std</th>\n",
       "      <td>935.386334</td>\n",
       "      <td>6.220327</td>\n",
       "    </tr>\n",
       "    <tr>\n",
       "      <th>min</th>\n",
       "      <td>1.000000</td>\n",
       "      <td>0.008399</td>\n",
       "    </tr>\n",
       "    <tr>\n",
       "      <th>25%</th>\n",
       "      <td>812.500000</td>\n",
       "      <td>7.043089</td>\n",
       "    </tr>\n",
       "    <tr>\n",
       "      <th>50%</th>\n",
       "      <td>1622.000000</td>\n",
       "      <td>9.836267</td>\n",
       "    </tr>\n",
       "    <tr>\n",
       "      <th>75%</th>\n",
       "      <td>2431.500000</td>\n",
       "      <td>13.769915</td>\n",
       "    </tr>\n",
       "    <tr>\n",
       "      <th>max</th>\n",
       "      <td>3241.000000</td>\n",
       "      <td>77.995040</td>\n",
       "    </tr>\n",
       "  </tbody>\n",
       "</table>\n",
       "</div>"
      ],
      "text/plain": [
       "               key        Газ 1\n",
       "count  3239.000000  3239.000000\n",
       "mean   1621.861377    11.002062\n",
       "std     935.386334     6.220327\n",
       "min       1.000000     0.008399\n",
       "25%     812.500000     7.043089\n",
       "50%    1622.000000     9.836267\n",
       "75%    2431.500000    13.769915\n",
       "max    3241.000000    77.995040"
      ]
     },
     "metadata": {},
     "output_type": "display_data"
    },
    {
     "name": "stdout",
     "output_type": "stream",
     "text": [
      "__________________________________________________________________________________\n",
      " \n",
      "\u001b[1mdata_temp\u001b[0m\n"
     ]
    },
    {
     "data": {
      "text/html": [
       "<div>\n",
       "<style scoped>\n",
       "    .dataframe tbody tr th:only-of-type {\n",
       "        vertical-align: middle;\n",
       "    }\n",
       "\n",
       "    .dataframe tbody tr th {\n",
       "        vertical-align: top;\n",
       "    }\n",
       "\n",
       "    .dataframe thead th {\n",
       "        text-align: right;\n",
       "    }\n",
       "</style>\n",
       "<table border=\"1\" class=\"dataframe\">\n",
       "  <thead>\n",
       "    <tr style=\"text-align: right;\">\n",
       "      <th></th>\n",
       "      <th>key</th>\n",
       "      <th>Время замера</th>\n",
       "      <th>Температура</th>\n",
       "    </tr>\n",
       "  </thead>\n",
       "  <tbody>\n",
       "    <tr>\n",
       "      <th>0</th>\n",
       "      <td>1</td>\n",
       "      <td>2019-05-03 11:16:18</td>\n",
       "      <td>1571.0</td>\n",
       "    </tr>\n",
       "    <tr>\n",
       "      <th>1</th>\n",
       "      <td>1</td>\n",
       "      <td>2019-05-03 11:25:53</td>\n",
       "      <td>1604.0</td>\n",
       "    </tr>\n",
       "    <tr>\n",
       "      <th>2</th>\n",
       "      <td>1</td>\n",
       "      <td>2019-05-03 11:29:11</td>\n",
       "      <td>1618.0</td>\n",
       "    </tr>\n",
       "    <tr>\n",
       "      <th>3</th>\n",
       "      <td>1</td>\n",
       "      <td>2019-05-03 11:30:01</td>\n",
       "      <td>1601.0</td>\n",
       "    </tr>\n",
       "    <tr>\n",
       "      <th>4</th>\n",
       "      <td>1</td>\n",
       "      <td>2019-05-03 11:30:39</td>\n",
       "      <td>1613.0</td>\n",
       "    </tr>\n",
       "    <tr>\n",
       "      <th>5</th>\n",
       "      <td>2</td>\n",
       "      <td>2019-05-03 11:37:27</td>\n",
       "      <td>1581.0</td>\n",
       "    </tr>\n",
       "  </tbody>\n",
       "</table>\n",
       "</div>"
      ],
      "text/plain": [
       "   key         Время замера  Температура\n",
       "0    1  2019-05-03 11:16:18       1571.0\n",
       "1    1  2019-05-03 11:25:53       1604.0\n",
       "2    1  2019-05-03 11:29:11       1618.0\n",
       "3    1  2019-05-03 11:30:01       1601.0\n",
       "4    1  2019-05-03 11:30:39       1613.0\n",
       "5    2  2019-05-03 11:37:27       1581.0"
      ]
     },
     "metadata": {},
     "output_type": "display_data"
    },
    {
     "name": "stdout",
     "output_type": "stream",
     "text": [
      "<class 'pandas.core.frame.DataFrame'>\n",
      "RangeIndex: 15907 entries, 0 to 15906\n",
      "Data columns (total 3 columns):\n",
      " #   Column        Non-Null Count  Dtype  \n",
      "---  ------        --------------  -----  \n",
      " 0   key           15907 non-null  int64  \n",
      " 1   Время замера  15907 non-null  object \n",
      " 2   Температура   13006 non-null  float64\n",
      "dtypes: float64(1), int64(1), object(1)\n",
      "memory usage: 372.9+ KB\n"
     ]
    },
    {
     "data": {
      "text/plain": [
       "None"
      ]
     },
     "metadata": {},
     "output_type": "display_data"
    },
    {
     "data": {
      "text/html": [
       "<div>\n",
       "<style scoped>\n",
       "    .dataframe tbody tr th:only-of-type {\n",
       "        vertical-align: middle;\n",
       "    }\n",
       "\n",
       "    .dataframe tbody tr th {\n",
       "        vertical-align: top;\n",
       "    }\n",
       "\n",
       "    .dataframe thead th {\n",
       "        text-align: right;\n",
       "    }\n",
       "</style>\n",
       "<table border=\"1\" class=\"dataframe\">\n",
       "  <thead>\n",
       "    <tr style=\"text-align: right;\">\n",
       "      <th></th>\n",
       "      <th>key</th>\n",
       "      <th>Температура</th>\n",
       "    </tr>\n",
       "  </thead>\n",
       "  <tbody>\n",
       "    <tr>\n",
       "      <th>count</th>\n",
       "      <td>15907.000000</td>\n",
       "      <td>13006.000000</td>\n",
       "    </tr>\n",
       "    <tr>\n",
       "      <th>mean</th>\n",
       "      <td>1607.880870</td>\n",
       "      <td>1591.840920</td>\n",
       "    </tr>\n",
       "    <tr>\n",
       "      <th>std</th>\n",
       "      <td>942.212073</td>\n",
       "      <td>21.375851</td>\n",
       "    </tr>\n",
       "    <tr>\n",
       "      <th>min</th>\n",
       "      <td>1.000000</td>\n",
       "      <td>1191.000000</td>\n",
       "    </tr>\n",
       "    <tr>\n",
       "      <th>25%</th>\n",
       "      <td>790.000000</td>\n",
       "      <td>1581.000000</td>\n",
       "    </tr>\n",
       "    <tr>\n",
       "      <th>50%</th>\n",
       "      <td>1618.000000</td>\n",
       "      <td>1591.000000</td>\n",
       "    </tr>\n",
       "    <tr>\n",
       "      <th>75%</th>\n",
       "      <td>2427.000000</td>\n",
       "      <td>1601.000000</td>\n",
       "    </tr>\n",
       "    <tr>\n",
       "      <th>max</th>\n",
       "      <td>3241.000000</td>\n",
       "      <td>1705.000000</td>\n",
       "    </tr>\n",
       "  </tbody>\n",
       "</table>\n",
       "</div>"
      ],
      "text/plain": [
       "                key   Температура\n",
       "count  15907.000000  13006.000000\n",
       "mean    1607.880870   1591.840920\n",
       "std      942.212073     21.375851\n",
       "min        1.000000   1191.000000\n",
       "25%      790.000000   1581.000000\n",
       "50%     1618.000000   1591.000000\n",
       "75%     2427.000000   1601.000000\n",
       "max     3241.000000   1705.000000"
      ]
     },
     "metadata": {},
     "output_type": "display_data"
    },
    {
     "name": "stdout",
     "output_type": "stream",
     "text": [
      "__________________________________________________________________________________\n",
      " \n",
      "\u001b[1mdata_wire\u001b[0m\n"
     ]
    },
    {
     "data": {
      "text/html": [
       "<div>\n",
       "<style scoped>\n",
       "    .dataframe tbody tr th:only-of-type {\n",
       "        vertical-align: middle;\n",
       "    }\n",
       "\n",
       "    .dataframe tbody tr th {\n",
       "        vertical-align: top;\n",
       "    }\n",
       "\n",
       "    .dataframe thead th {\n",
       "        text-align: right;\n",
       "    }\n",
       "</style>\n",
       "<table border=\"1\" class=\"dataframe\">\n",
       "  <thead>\n",
       "    <tr style=\"text-align: right;\">\n",
       "      <th></th>\n",
       "      <th>key</th>\n",
       "      <th>Wire 1</th>\n",
       "      <th>Wire 2</th>\n",
       "      <th>Wire 3</th>\n",
       "      <th>Wire 4</th>\n",
       "      <th>Wire 5</th>\n",
       "      <th>Wire 6</th>\n",
       "      <th>Wire 7</th>\n",
       "      <th>Wire 8</th>\n",
       "      <th>Wire 9</th>\n",
       "    </tr>\n",
       "  </thead>\n",
       "  <tbody>\n",
       "    <tr>\n",
       "      <th>0</th>\n",
       "      <td>1</td>\n",
       "      <td>60.059998</td>\n",
       "      <td>NaN</td>\n",
       "      <td>NaN</td>\n",
       "      <td>NaN</td>\n",
       "      <td>NaN</td>\n",
       "      <td>NaN</td>\n",
       "      <td>NaN</td>\n",
       "      <td>NaN</td>\n",
       "      <td>NaN</td>\n",
       "    </tr>\n",
       "    <tr>\n",
       "      <th>1</th>\n",
       "      <td>2</td>\n",
       "      <td>96.052315</td>\n",
       "      <td>NaN</td>\n",
       "      <td>NaN</td>\n",
       "      <td>NaN</td>\n",
       "      <td>NaN</td>\n",
       "      <td>NaN</td>\n",
       "      <td>NaN</td>\n",
       "      <td>NaN</td>\n",
       "      <td>NaN</td>\n",
       "    </tr>\n",
       "    <tr>\n",
       "      <th>2</th>\n",
       "      <td>3</td>\n",
       "      <td>91.160157</td>\n",
       "      <td>NaN</td>\n",
       "      <td>NaN</td>\n",
       "      <td>NaN</td>\n",
       "      <td>NaN</td>\n",
       "      <td>NaN</td>\n",
       "      <td>NaN</td>\n",
       "      <td>NaN</td>\n",
       "      <td>NaN</td>\n",
       "    </tr>\n",
       "    <tr>\n",
       "      <th>3</th>\n",
       "      <td>4</td>\n",
       "      <td>89.063515</td>\n",
       "      <td>NaN</td>\n",
       "      <td>NaN</td>\n",
       "      <td>NaN</td>\n",
       "      <td>NaN</td>\n",
       "      <td>NaN</td>\n",
       "      <td>NaN</td>\n",
       "      <td>NaN</td>\n",
       "      <td>NaN</td>\n",
       "    </tr>\n",
       "    <tr>\n",
       "      <th>4</th>\n",
       "      <td>5</td>\n",
       "      <td>89.238236</td>\n",
       "      <td>9.11456</td>\n",
       "      <td>NaN</td>\n",
       "      <td>NaN</td>\n",
       "      <td>NaN</td>\n",
       "      <td>NaN</td>\n",
       "      <td>NaN</td>\n",
       "      <td>NaN</td>\n",
       "      <td>NaN</td>\n",
       "    </tr>\n",
       "    <tr>\n",
       "      <th>5</th>\n",
       "      <td>6</td>\n",
       "      <td>99.109917</td>\n",
       "      <td>9.11456</td>\n",
       "      <td>NaN</td>\n",
       "      <td>NaN</td>\n",
       "      <td>NaN</td>\n",
       "      <td>NaN</td>\n",
       "      <td>NaN</td>\n",
       "      <td>NaN</td>\n",
       "      <td>NaN</td>\n",
       "    </tr>\n",
       "  </tbody>\n",
       "</table>\n",
       "</div>"
      ],
      "text/plain": [
       "   key     Wire 1   Wire 2  Wire 3  Wire 4  Wire 5  Wire 6  Wire 7  Wire 8  \\\n",
       "0    1  60.059998      NaN     NaN     NaN     NaN     NaN     NaN     NaN   \n",
       "1    2  96.052315      NaN     NaN     NaN     NaN     NaN     NaN     NaN   \n",
       "2    3  91.160157      NaN     NaN     NaN     NaN     NaN     NaN     NaN   \n",
       "3    4  89.063515      NaN     NaN     NaN     NaN     NaN     NaN     NaN   \n",
       "4    5  89.238236  9.11456     NaN     NaN     NaN     NaN     NaN     NaN   \n",
       "5    6  99.109917  9.11456     NaN     NaN     NaN     NaN     NaN     NaN   \n",
       "\n",
       "   Wire 9  \n",
       "0     NaN  \n",
       "1     NaN  \n",
       "2     NaN  \n",
       "3     NaN  \n",
       "4     NaN  \n",
       "5     NaN  "
      ]
     },
     "metadata": {},
     "output_type": "display_data"
    },
    {
     "name": "stdout",
     "output_type": "stream",
     "text": [
      "<class 'pandas.core.frame.DataFrame'>\n",
      "RangeIndex: 3081 entries, 0 to 3080\n",
      "Data columns (total 10 columns):\n",
      " #   Column  Non-Null Count  Dtype  \n",
      "---  ------  --------------  -----  \n",
      " 0   key     3081 non-null   int64  \n",
      " 1   Wire 1  3055 non-null   float64\n",
      " 2   Wire 2  1079 non-null   float64\n",
      " 3   Wire 3  63 non-null     float64\n",
      " 4   Wire 4  14 non-null     float64\n",
      " 5   Wire 5  1 non-null      float64\n",
      " 6   Wire 6  73 non-null     float64\n",
      " 7   Wire 7  11 non-null     float64\n",
      " 8   Wire 8  19 non-null     float64\n",
      " 9   Wire 9  29 non-null     float64\n",
      "dtypes: float64(9), int64(1)\n",
      "memory usage: 240.8 KB\n"
     ]
    },
    {
     "data": {
      "text/plain": [
       "None"
      ]
     },
     "metadata": {},
     "output_type": "display_data"
    },
    {
     "data": {
      "text/html": [
       "<div>\n",
       "<style scoped>\n",
       "    .dataframe tbody tr th:only-of-type {\n",
       "        vertical-align: middle;\n",
       "    }\n",
       "\n",
       "    .dataframe tbody tr th {\n",
       "        vertical-align: top;\n",
       "    }\n",
       "\n",
       "    .dataframe thead th {\n",
       "        text-align: right;\n",
       "    }\n",
       "</style>\n",
       "<table border=\"1\" class=\"dataframe\">\n",
       "  <thead>\n",
       "    <tr style=\"text-align: right;\">\n",
       "      <th></th>\n",
       "      <th>key</th>\n",
       "      <th>Wire 1</th>\n",
       "      <th>Wire 2</th>\n",
       "      <th>Wire 3</th>\n",
       "      <th>Wire 4</th>\n",
       "      <th>Wire 5</th>\n",
       "      <th>Wire 6</th>\n",
       "      <th>Wire 7</th>\n",
       "      <th>Wire 8</th>\n",
       "      <th>Wire 9</th>\n",
       "    </tr>\n",
       "  </thead>\n",
       "  <tbody>\n",
       "    <tr>\n",
       "      <th>count</th>\n",
       "      <td>3081.000000</td>\n",
       "      <td>3055.000000</td>\n",
       "      <td>1079.000000</td>\n",
       "      <td>63.000000</td>\n",
       "      <td>14.000000</td>\n",
       "      <td>1.000</td>\n",
       "      <td>73.000000</td>\n",
       "      <td>11.000000</td>\n",
       "      <td>19.000000</td>\n",
       "      <td>29.000000</td>\n",
       "    </tr>\n",
       "    <tr>\n",
       "      <th>mean</th>\n",
       "      <td>1623.426485</td>\n",
       "      <td>100.895853</td>\n",
       "      <td>50.577323</td>\n",
       "      <td>189.482681</td>\n",
       "      <td>57.442841</td>\n",
       "      <td>15.132</td>\n",
       "      <td>48.016974</td>\n",
       "      <td>10.039007</td>\n",
       "      <td>53.625193</td>\n",
       "      <td>34.155752</td>\n",
       "    </tr>\n",
       "    <tr>\n",
       "      <th>std</th>\n",
       "      <td>932.996726</td>\n",
       "      <td>42.012518</td>\n",
       "      <td>39.320216</td>\n",
       "      <td>99.513444</td>\n",
       "      <td>28.824667</td>\n",
       "      <td>NaN</td>\n",
       "      <td>33.919845</td>\n",
       "      <td>8.610584</td>\n",
       "      <td>16.881728</td>\n",
       "      <td>19.931616</td>\n",
       "    </tr>\n",
       "    <tr>\n",
       "      <th>min</th>\n",
       "      <td>1.000000</td>\n",
       "      <td>1.918800</td>\n",
       "      <td>0.030160</td>\n",
       "      <td>0.144144</td>\n",
       "      <td>24.148801</td>\n",
       "      <td>15.132</td>\n",
       "      <td>0.034320</td>\n",
       "      <td>0.234208</td>\n",
       "      <td>45.076721</td>\n",
       "      <td>4.622800</td>\n",
       "    </tr>\n",
       "    <tr>\n",
       "      <th>25%</th>\n",
       "      <td>823.000000</td>\n",
       "      <td>72.115684</td>\n",
       "      <td>20.193680</td>\n",
       "      <td>95.135044</td>\n",
       "      <td>40.807002</td>\n",
       "      <td>15.132</td>\n",
       "      <td>25.053600</td>\n",
       "      <td>6.762756</td>\n",
       "      <td>46.094879</td>\n",
       "      <td>22.058401</td>\n",
       "    </tr>\n",
       "    <tr>\n",
       "      <th>50%</th>\n",
       "      <td>1619.000000</td>\n",
       "      <td>100.158234</td>\n",
       "      <td>40.142956</td>\n",
       "      <td>235.194977</td>\n",
       "      <td>45.234282</td>\n",
       "      <td>15.132</td>\n",
       "      <td>42.076324</td>\n",
       "      <td>9.017009</td>\n",
       "      <td>46.279999</td>\n",
       "      <td>30.066399</td>\n",
       "    </tr>\n",
       "    <tr>\n",
       "      <th>75%</th>\n",
       "      <td>2434.000000</td>\n",
       "      <td>126.060483</td>\n",
       "      <td>70.227558</td>\n",
       "      <td>276.252014</td>\n",
       "      <td>76.124619</td>\n",
       "      <td>15.132</td>\n",
       "      <td>64.212723</td>\n",
       "      <td>11.886057</td>\n",
       "      <td>48.089603</td>\n",
       "      <td>43.862003</td>\n",
       "    </tr>\n",
       "    <tr>\n",
       "      <th>max</th>\n",
       "      <td>3241.000000</td>\n",
       "      <td>330.314424</td>\n",
       "      <td>282.780152</td>\n",
       "      <td>385.008668</td>\n",
       "      <td>113.231044</td>\n",
       "      <td>15.132</td>\n",
       "      <td>180.454575</td>\n",
       "      <td>32.847674</td>\n",
       "      <td>102.762401</td>\n",
       "      <td>90.053604</td>\n",
       "    </tr>\n",
       "  </tbody>\n",
       "</table>\n",
       "</div>"
      ],
      "text/plain": [
       "               key       Wire 1       Wire 2      Wire 3      Wire 4  Wire 5  \\\n",
       "count  3081.000000  3055.000000  1079.000000   63.000000   14.000000   1.000   \n",
       "mean   1623.426485   100.895853    50.577323  189.482681   57.442841  15.132   \n",
       "std     932.996726    42.012518    39.320216   99.513444   28.824667     NaN   \n",
       "min       1.000000     1.918800     0.030160    0.144144   24.148801  15.132   \n",
       "25%     823.000000    72.115684    20.193680   95.135044   40.807002  15.132   \n",
       "50%    1619.000000   100.158234    40.142956  235.194977   45.234282  15.132   \n",
       "75%    2434.000000   126.060483    70.227558  276.252014   76.124619  15.132   \n",
       "max    3241.000000   330.314424   282.780152  385.008668  113.231044  15.132   \n",
       "\n",
       "           Wire 6     Wire 7      Wire 8     Wire 9  \n",
       "count   73.000000  11.000000   19.000000  29.000000  \n",
       "mean    48.016974  10.039007   53.625193  34.155752  \n",
       "std     33.919845   8.610584   16.881728  19.931616  \n",
       "min      0.034320   0.234208   45.076721   4.622800  \n",
       "25%     25.053600   6.762756   46.094879  22.058401  \n",
       "50%     42.076324   9.017009   46.279999  30.066399  \n",
       "75%     64.212723  11.886057   48.089603  43.862003  \n",
       "max    180.454575  32.847674  102.762401  90.053604  "
      ]
     },
     "metadata": {},
     "output_type": "display_data"
    },
    {
     "name": "stdout",
     "output_type": "stream",
     "text": [
      "__________________________________________________________________________________\n",
      " \n",
      "\u001b[1mdata_wire_time\u001b[0m\n"
     ]
    },
    {
     "data": {
      "text/html": [
       "<div>\n",
       "<style scoped>\n",
       "    .dataframe tbody tr th:only-of-type {\n",
       "        vertical-align: middle;\n",
       "    }\n",
       "\n",
       "    .dataframe tbody tr th {\n",
       "        vertical-align: top;\n",
       "    }\n",
       "\n",
       "    .dataframe thead th {\n",
       "        text-align: right;\n",
       "    }\n",
       "</style>\n",
       "<table border=\"1\" class=\"dataframe\">\n",
       "  <thead>\n",
       "    <tr style=\"text-align: right;\">\n",
       "      <th></th>\n",
       "      <th>key</th>\n",
       "      <th>Wire 1</th>\n",
       "      <th>Wire 2</th>\n",
       "      <th>Wire 3</th>\n",
       "      <th>Wire 4</th>\n",
       "      <th>Wire 5</th>\n",
       "      <th>Wire 6</th>\n",
       "      <th>Wire 7</th>\n",
       "      <th>Wire 8</th>\n",
       "      <th>Wire 9</th>\n",
       "    </tr>\n",
       "  </thead>\n",
       "  <tbody>\n",
       "    <tr>\n",
       "      <th>0</th>\n",
       "      <td>1</td>\n",
       "      <td>2019-05-03 11:11:41</td>\n",
       "      <td>NaN</td>\n",
       "      <td>NaN</td>\n",
       "      <td>NaN</td>\n",
       "      <td>NaN</td>\n",
       "      <td>NaN</td>\n",
       "      <td>NaN</td>\n",
       "      <td>NaN</td>\n",
       "      <td>NaN</td>\n",
       "    </tr>\n",
       "    <tr>\n",
       "      <th>1</th>\n",
       "      <td>2</td>\n",
       "      <td>2019-05-03 11:46:10</td>\n",
       "      <td>NaN</td>\n",
       "      <td>NaN</td>\n",
       "      <td>NaN</td>\n",
       "      <td>NaN</td>\n",
       "      <td>NaN</td>\n",
       "      <td>NaN</td>\n",
       "      <td>NaN</td>\n",
       "      <td>NaN</td>\n",
       "    </tr>\n",
       "    <tr>\n",
       "      <th>2</th>\n",
       "      <td>3</td>\n",
       "      <td>2019-05-03 12:13:47</td>\n",
       "      <td>NaN</td>\n",
       "      <td>NaN</td>\n",
       "      <td>NaN</td>\n",
       "      <td>NaN</td>\n",
       "      <td>NaN</td>\n",
       "      <td>NaN</td>\n",
       "      <td>NaN</td>\n",
       "      <td>NaN</td>\n",
       "    </tr>\n",
       "    <tr>\n",
       "      <th>3</th>\n",
       "      <td>4</td>\n",
       "      <td>2019-05-03 12:48:05</td>\n",
       "      <td>NaN</td>\n",
       "      <td>NaN</td>\n",
       "      <td>NaN</td>\n",
       "      <td>NaN</td>\n",
       "      <td>NaN</td>\n",
       "      <td>NaN</td>\n",
       "      <td>NaN</td>\n",
       "      <td>NaN</td>\n",
       "    </tr>\n",
       "    <tr>\n",
       "      <th>4</th>\n",
       "      <td>5</td>\n",
       "      <td>2019-05-03 13:18:15</td>\n",
       "      <td>2019-05-03 13:32:06</td>\n",
       "      <td>NaN</td>\n",
       "      <td>NaN</td>\n",
       "      <td>NaN</td>\n",
       "      <td>NaN</td>\n",
       "      <td>NaN</td>\n",
       "      <td>NaN</td>\n",
       "      <td>NaN</td>\n",
       "    </tr>\n",
       "    <tr>\n",
       "      <th>5</th>\n",
       "      <td>6</td>\n",
       "      <td>2019-05-03 13:59:02</td>\n",
       "      <td>2019-05-03 13:59:54</td>\n",
       "      <td>NaN</td>\n",
       "      <td>NaN</td>\n",
       "      <td>NaN</td>\n",
       "      <td>NaN</td>\n",
       "      <td>NaN</td>\n",
       "      <td>NaN</td>\n",
       "      <td>NaN</td>\n",
       "    </tr>\n",
       "  </tbody>\n",
       "</table>\n",
       "</div>"
      ],
      "text/plain": [
       "   key               Wire 1               Wire 2 Wire 3 Wire 4 Wire 5 Wire 6  \\\n",
       "0    1  2019-05-03 11:11:41                  NaN    NaN    NaN    NaN    NaN   \n",
       "1    2  2019-05-03 11:46:10                  NaN    NaN    NaN    NaN    NaN   \n",
       "2    3  2019-05-03 12:13:47                  NaN    NaN    NaN    NaN    NaN   \n",
       "3    4  2019-05-03 12:48:05                  NaN    NaN    NaN    NaN    NaN   \n",
       "4    5  2019-05-03 13:18:15  2019-05-03 13:32:06    NaN    NaN    NaN    NaN   \n",
       "5    6  2019-05-03 13:59:02  2019-05-03 13:59:54    NaN    NaN    NaN    NaN   \n",
       "\n",
       "  Wire 7 Wire 8 Wire 9  \n",
       "0    NaN    NaN    NaN  \n",
       "1    NaN    NaN    NaN  \n",
       "2    NaN    NaN    NaN  \n",
       "3    NaN    NaN    NaN  \n",
       "4    NaN    NaN    NaN  \n",
       "5    NaN    NaN    NaN  "
      ]
     },
     "metadata": {},
     "output_type": "display_data"
    },
    {
     "name": "stdout",
     "output_type": "stream",
     "text": [
      "<class 'pandas.core.frame.DataFrame'>\n",
      "RangeIndex: 3081 entries, 0 to 3080\n",
      "Data columns (total 10 columns):\n",
      " #   Column  Non-Null Count  Dtype \n",
      "---  ------  --------------  ----- \n",
      " 0   key     3081 non-null   int64 \n",
      " 1   Wire 1  3055 non-null   object\n",
      " 2   Wire 2  1079 non-null   object\n",
      " 3   Wire 3  63 non-null     object\n",
      " 4   Wire 4  14 non-null     object\n",
      " 5   Wire 5  1 non-null      object\n",
      " 6   Wire 6  73 non-null     object\n",
      " 7   Wire 7  11 non-null     object\n",
      " 8   Wire 8  19 non-null     object\n",
      " 9   Wire 9  29 non-null     object\n",
      "dtypes: int64(1), object(9)\n",
      "memory usage: 240.8+ KB\n"
     ]
    },
    {
     "data": {
      "text/plain": [
       "None"
      ]
     },
     "metadata": {},
     "output_type": "display_data"
    },
    {
     "data": {
      "text/html": [
       "<div>\n",
       "<style scoped>\n",
       "    .dataframe tbody tr th:only-of-type {\n",
       "        vertical-align: middle;\n",
       "    }\n",
       "\n",
       "    .dataframe tbody tr th {\n",
       "        vertical-align: top;\n",
       "    }\n",
       "\n",
       "    .dataframe thead th {\n",
       "        text-align: right;\n",
       "    }\n",
       "</style>\n",
       "<table border=\"1\" class=\"dataframe\">\n",
       "  <thead>\n",
       "    <tr style=\"text-align: right;\">\n",
       "      <th></th>\n",
       "      <th>key</th>\n",
       "    </tr>\n",
       "  </thead>\n",
       "  <tbody>\n",
       "    <tr>\n",
       "      <th>count</th>\n",
       "      <td>3081.000000</td>\n",
       "    </tr>\n",
       "    <tr>\n",
       "      <th>mean</th>\n",
       "      <td>1623.426485</td>\n",
       "    </tr>\n",
       "    <tr>\n",
       "      <th>std</th>\n",
       "      <td>932.996726</td>\n",
       "    </tr>\n",
       "    <tr>\n",
       "      <th>min</th>\n",
       "      <td>1.000000</td>\n",
       "    </tr>\n",
       "    <tr>\n",
       "      <th>25%</th>\n",
       "      <td>823.000000</td>\n",
       "    </tr>\n",
       "    <tr>\n",
       "      <th>50%</th>\n",
       "      <td>1619.000000</td>\n",
       "    </tr>\n",
       "    <tr>\n",
       "      <th>75%</th>\n",
       "      <td>2434.000000</td>\n",
       "    </tr>\n",
       "    <tr>\n",
       "      <th>max</th>\n",
       "      <td>3241.000000</td>\n",
       "    </tr>\n",
       "  </tbody>\n",
       "</table>\n",
       "</div>"
      ],
      "text/plain": [
       "               key\n",
       "count  3081.000000\n",
       "mean   1623.426485\n",
       "std     932.996726\n",
       "min       1.000000\n",
       "25%     823.000000\n",
       "50%    1619.000000\n",
       "75%    2434.000000\n",
       "max    3241.000000"
      ]
     },
     "metadata": {},
     "output_type": "display_data"
    },
    {
     "name": "stdout",
     "output_type": "stream",
     "text": [
      "__________________________________________________________________________________\n",
      " \n"
     ]
    }
   ],
   "source": [
    "data_arc = pd.read_csv('/datasets/final_steel/data_arc.csv')\n",
    "data_bulk = pd.read_csv('/datasets/final_steel/data_bulk.csv')\n",
    "data_bulk_time = pd.read_csv('/datasets/final_steel/data_bulk_time.csv')\n",
    "data_gas = pd.read_csv('/datasets/final_steel/data_gas.csv')\n",
    "data_temp = pd.read_csv('/datasets/final_steel/data_temp.csv')\n",
    "data_wire = pd.read_csv('/datasets/final_steel/data_wire.csv')\n",
    "data_wire_time = pd.read_csv('/datasets/final_steel/data_wire_time.csv')\n",
    "\n",
    "data_arc.name = 'data_arc'\n",
    "data_bulk.name = 'data_bulk'\n",
    "data_bulk_time.name = 'data_bulk_time'\n",
    "data_gas.name = 'data_gas'\n",
    "data_temp.name = 'data_temp'\n",
    "data_wire.name = 'data_wire'\n",
    "data_wire_time.name = 'data_wire_time'\n",
    "\n",
    "dfs = [data_arc, data_bulk, data_bulk_time, data_gas, data_temp, data_wire, data_wire_time]\n",
    "\n",
    "for df in dfs:\n",
    "    print('\\033[1m' + df.name + '\\033[0m')\n",
    "    display(df.head(6))\n",
    "    display(df.info())\n",
    "    display(df.describe())\n",
    "    print('__________________________________________________________________________________')\n",
    "    print(' ')"
   ]
  },
  {
   "cell_type": "markdown",
   "metadata": {},
   "source": [
    "### Conclusions 1.0"
   ]
  },
  {
   "cell_type": "markdown",
   "metadata": {},
   "source": [
    "After the initial data analysis, the following list can be distinguished for data preprocessing stage:\n",
    "\n",
    "1. **`data_arc`**\n",
    "\n",
    "    - **`Arc heating start`**, **`Arc heating end`** / convert to date-time format\n",
    "    - **`Reactive power`**, **`Reactive power`** / study distributions, outliers, check for potential multicollinearity problem\n",
    "   \n",
    "   \n",
    "2. **`data_bulk`**, **`data_wire`**\n",
    "\n",
    "    - Determine the nature of multiple missing values\n",
    "    \n",
    "    \n",
    "3. **`data_bulk_time`**, **`data_wire_time`**\n",
    "\n",
    "    - Convert to date-time format\n",
    "    \n",
    "    \n",
    "4. **`data_gas`**\n",
    "\n",
    "    - Study distribution\n",
    "    \n",
    "    \n",
    "5. **`data_temp`**\n",
    "\n",
    "    - There are missing values in **`Temperature`**\n",
    "    - **`Temperature`** / explore distributions, outliers\n",
    "    \n",
    "------\n",
    "\n",
    "6. Check **if timeline is correct**\n",
    "\n",
    "\n",
    "The processing cycle includes numerous heatings of the steel using the electrodes. It should be checked whether the temperature measurements and the initial and final heatings by the arc are correctly placed on the time scale. Perhaps there are such batches where temperature measurements began long before the first arc heating - which may indicate incorrect data in the dataframe\n",
    "\n",
    "7. Determine the **target and features** that will be used to train potential models for steel temperature prediction"
   ]
  },
  {
   "cell_type": "markdown",
   "metadata": {},
   "source": [
    "### Function for Distribution Study"
   ]
  },
  {
   "cell_type": "code",
   "execution_count": 67,
   "metadata": {},
   "outputs": [],
   "source": [
    "def dist_graph(df, field):\n",
    "\n",
    "    f, (ax_box, ax_hist) = plt.subplots(2, sharex=True, gridspec_kw={'height_ratios': (0.2, 0.8)}, figsize=(15, 7))\n",
    "\n",
    "    sns.boxplot(df[field], ax=ax_box, color='mediumslateblue')\n",
    "    sns.distplot(df[field], bins=50, ax=ax_hist, kde=False, color='midnightblue', label = field)\n",
    "    \n",
    "\n",
    "\n",
    "    mean = df[field].mean()\n",
    "    plt.axvline(mean, 0, 1, color='red', label='mean')\n",
    "\n",
    "    ax_box.set(yticks=[])\n",
    "    ax_box.set(xlabel=None)\n",
    "    ax_box.axes.set_title(field + ' | Распределение', fontsize=18)\n",
    "    ax_hist.set_xlabel(field, fontsize=12)\n",
    "    sns.despine(ax=ax_hist)\n",
    "    sns.despine(ax=ax_box, left=True)\n",
    "    plt.legend(fontsize=14)"
   ]
  },
  {
   "cell_type": "markdown",
   "metadata": {},
   "source": [
    "### `data_arc`"
   ]
  },
  {
   "cell_type": "markdown",
   "metadata": {},
   "source": [
    "#### Date Format"
   ]
  },
  {
   "cell_type": "code",
   "execution_count": 68,
   "metadata": {},
   "outputs": [
    {
     "name": "stdout",
     "output_type": "stream",
     "text": [
      "<class 'pandas.core.frame.DataFrame'>\n",
      "RangeIndex: 14876 entries, 0 to 14875\n",
      "Data columns (total 5 columns):\n",
      " #   Column                Non-Null Count  Dtype         \n",
      "---  ------                --------------  -----         \n",
      " 0   key                   14876 non-null  int64         \n",
      " 1   Начало нагрева дугой  14876 non-null  datetime64[ns]\n",
      " 2   Конец нагрева дугой   14876 non-null  datetime64[ns]\n",
      " 3   Активная мощность     14876 non-null  float64       \n",
      " 4   Реактивная мощность   14876 non-null  float64       \n",
      "dtypes: datetime64[ns](2), float64(2), int64(1)\n",
      "memory usage: 581.2 KB\n"
     ]
    }
   ],
   "source": [
    "data_arc['Начало нагрева дугой'] = pd.to_datetime(data_arc['Начало нагрева дугой'], format='%Y-%m-%dT%H:%M:%S')\n",
    "data_arc['Конец нагрева дугой'] = pd.to_datetime(data_arc['Конец нагрева дугой'], format='%Y-%m-%dT%H:%M:%S')\n",
    "\n",
    "# Check \n",
    "data_arc.info()"
   ]
  },
  {
   "cell_type": "markdown",
   "metadata": {},
   "source": [
    "#### Power | Distribution"
   ]
  },
  {
   "cell_type": "code",
   "execution_count": 69,
   "metadata": {
    "scrolled": false
   },
   "outputs": [
    {
     "data": {
      "image/png": "[encoded data removed]",
      "text/plain": [
       "<Figure size 1080x504 with 2 Axes>"
      ]
     },
     "metadata": {
      "needs_background": "light"
     },
     "output_type": "display_data"
    }
   ],
   "source": [
    "warnings.simplefilter(action='ignore', category=FutureWarning)\n",
    "\n",
    "dist_graph(data_arc, 'Активная мощность')"
   ]
  },
  {
   "cell_type": "markdown",
   "metadata": {},
   "source": [
    "* The distribution of **`Активной мощности`** **skewed right**\n",
    "\n",
    "\n",
    "* Values range from 0 to 4\n",
    "\n",
    "\n",
    "* We are not getting rid of anomalies by defining statistical outliers (**Q1 - 1.5IQR** AND **Q3 + 1.5IQR**) at this stage. By doing so, we are going to lose a lot of data from the right side. Moreover, in order to make a correct conclusion about anomalies for such a value, one will need to get an expert opinion on the matter."
   ]
  },
  {
   "cell_type": "code",
   "execution_count": 70,
   "metadata": {},
   "outputs": [
    {
     "data": {
      "image/png": "[encoded data removed]",
      "text/plain": [
       "<Figure size 1080x504 with 2 Axes>"
      ]
     },
     "metadata": {
      "needs_background": "light"
     },
     "output_type": "display_data"
    }
   ],
   "source": [
    "dist_graph(data_arc, 'Реактивная мощность')"
   ]
  },
  {
   "cell_type": "markdown",
   "metadata": {},
   "source": [
    "It can be seen that there is 1 left outlier in the data, which is very different from the rest of the data. Since there is only one, we can remove one batch entirely, which will not affect our data (distributions) and models training."
   ]
  },
  {
   "cell_type": "code",
   "execution_count": 71,
   "metadata": {
    "scrolled": false
   },
   "outputs": [
    {
     "data": {
      "text/html": [
       "<div>\n",
       "<style scoped>\n",
       "    .dataframe tbody tr th:only-of-type {\n",
       "        vertical-align: middle;\n",
       "    }\n",
       "\n",
       "    .dataframe tbody tr th {\n",
       "        vertical-align: top;\n",
       "    }\n",
       "\n",
       "    .dataframe thead th {\n",
       "        text-align: right;\n",
       "    }\n",
       "</style>\n",
       "<table border=\"1\" class=\"dataframe\">\n",
       "  <thead>\n",
       "    <tr style=\"text-align: right;\">\n",
       "      <th></th>\n",
       "      <th>key</th>\n",
       "      <th>Начало нагрева дугой</th>\n",
       "      <th>Конец нагрева дугой</th>\n",
       "      <th>Активная мощность</th>\n",
       "      <th>Реактивная мощность</th>\n",
       "    </tr>\n",
       "  </thead>\n",
       "  <tbody>\n",
       "  </tbody>\n",
       "</table>\n",
       "</div>"
      ],
      "text/plain": [
       "Empty DataFrame\n",
       "Columns: [key, Начало нагрева дугой, Конец нагрева дугой, Активная мощность, Реактивная мощность]\n",
       "Index: []"
      ]
     },
     "metadata": {},
     "output_type": "display_data"
    },
    {
     "data": {
      "text/html": [
       "<div>\n",
       "<style scoped>\n",
       "    .dataframe tbody tr th:only-of-type {\n",
       "        vertical-align: middle;\n",
       "    }\n",
       "\n",
       "    .dataframe tbody tr th {\n",
       "        vertical-align: top;\n",
       "    }\n",
       "\n",
       "    .dataframe thead th {\n",
       "        text-align: right;\n",
       "    }\n",
       "</style>\n",
       "<table border=\"1\" class=\"dataframe\">\n",
       "  <thead>\n",
       "    <tr style=\"text-align: right;\">\n",
       "      <th></th>\n",
       "      <th>key</th>\n",
       "      <th>Bulk 1</th>\n",
       "      <th>Bulk 2</th>\n",
       "      <th>Bulk 3</th>\n",
       "      <th>Bulk 4</th>\n",
       "      <th>Bulk 5</th>\n",
       "      <th>Bulk 6</th>\n",
       "      <th>Bulk 7</th>\n",
       "      <th>Bulk 8</th>\n",
       "      <th>Bulk 9</th>\n",
       "      <th>Bulk 10</th>\n",
       "      <th>Bulk 11</th>\n",
       "      <th>Bulk 12</th>\n",
       "      <th>Bulk 13</th>\n",
       "      <th>Bulk 14</th>\n",
       "      <th>Bulk 15</th>\n",
       "    </tr>\n",
       "  </thead>\n",
       "  <tbody>\n",
       "  </tbody>\n",
       "</table>\n",
       "</div>"
      ],
      "text/plain": [
       "Empty DataFrame\n",
       "Columns: [key, Bulk 1, Bulk 2, Bulk 3, Bulk 4, Bulk 5, Bulk 6, Bulk 7, Bulk 8, Bulk 9, Bulk 10, Bulk 11, Bulk 12, Bulk 13, Bulk 14, Bulk 15]\n",
       "Index: []"
      ]
     },
     "metadata": {},
     "output_type": "display_data"
    },
    {
     "data": {
      "text/html": [
       "<div>\n",
       "<style scoped>\n",
       "    .dataframe tbody tr th:only-of-type {\n",
       "        vertical-align: middle;\n",
       "    }\n",
       "\n",
       "    .dataframe tbody tr th {\n",
       "        vertical-align: top;\n",
       "    }\n",
       "\n",
       "    .dataframe thead th {\n",
       "        text-align: right;\n",
       "    }\n",
       "</style>\n",
       "<table border=\"1\" class=\"dataframe\">\n",
       "  <thead>\n",
       "    <tr style=\"text-align: right;\">\n",
       "      <th></th>\n",
       "      <th>key</th>\n",
       "      <th>Bulk 1</th>\n",
       "      <th>Bulk 2</th>\n",
       "      <th>Bulk 3</th>\n",
       "      <th>Bulk 4</th>\n",
       "      <th>Bulk 5</th>\n",
       "      <th>Bulk 6</th>\n",
       "      <th>Bulk 7</th>\n",
       "      <th>Bulk 8</th>\n",
       "      <th>Bulk 9</th>\n",
       "      <th>Bulk 10</th>\n",
       "      <th>Bulk 11</th>\n",
       "      <th>Bulk 12</th>\n",
       "      <th>Bulk 13</th>\n",
       "      <th>Bulk 14</th>\n",
       "      <th>Bulk 15</th>\n",
       "    </tr>\n",
       "  </thead>\n",
       "  <tbody>\n",
       "  </tbody>\n",
       "</table>\n",
       "</div>"
      ],
      "text/plain": [
       "Empty DataFrame\n",
       "Columns: [key, Bulk 1, Bulk 2, Bulk 3, Bulk 4, Bulk 5, Bulk 6, Bulk 7, Bulk 8, Bulk 9, Bulk 10, Bulk 11, Bulk 12, Bulk 13, Bulk 14, Bulk 15]\n",
       "Index: []"
      ]
     },
     "metadata": {},
     "output_type": "display_data"
    },
    {
     "data": {
      "text/html": [
       "<div>\n",
       "<style scoped>\n",
       "    .dataframe tbody tr th:only-of-type {\n",
       "        vertical-align: middle;\n",
       "    }\n",
       "\n",
       "    .dataframe tbody tr th {\n",
       "        vertical-align: top;\n",
       "    }\n",
       "\n",
       "    .dataframe thead th {\n",
       "        text-align: right;\n",
       "    }\n",
       "</style>\n",
       "<table border=\"1\" class=\"dataframe\">\n",
       "  <thead>\n",
       "    <tr style=\"text-align: right;\">\n",
       "      <th></th>\n",
       "      <th>key</th>\n",
       "      <th>Газ 1</th>\n",
       "    </tr>\n",
       "  </thead>\n",
       "  <tbody>\n",
       "  </tbody>\n",
       "</table>\n",
       "</div>"
      ],
      "text/plain": [
       "Empty DataFrame\n",
       "Columns: [key, Газ 1]\n",
       "Index: []"
      ]
     },
     "metadata": {},
     "output_type": "display_data"
    },
    {
     "data": {
      "text/html": [
       "<div>\n",
       "<style scoped>\n",
       "    .dataframe tbody tr th:only-of-type {\n",
       "        vertical-align: middle;\n",
       "    }\n",
       "\n",
       "    .dataframe tbody tr th {\n",
       "        vertical-align: top;\n",
       "    }\n",
       "\n",
       "    .dataframe thead th {\n",
       "        text-align: right;\n",
       "    }\n",
       "</style>\n",
       "<table border=\"1\" class=\"dataframe\">\n",
       "  <thead>\n",
       "    <tr style=\"text-align: right;\">\n",
       "      <th></th>\n",
       "      <th>key</th>\n",
       "      <th>Время замера</th>\n",
       "      <th>Температура</th>\n",
       "    </tr>\n",
       "  </thead>\n",
       "  <tbody>\n",
       "  </tbody>\n",
       "</table>\n",
       "</div>"
      ],
      "text/plain": [
       "Empty DataFrame\n",
       "Columns: [key, Время замера, Температура]\n",
       "Index: []"
      ]
     },
     "metadata": {},
     "output_type": "display_data"
    },
    {
     "data": {
      "text/html": [
       "<div>\n",
       "<style scoped>\n",
       "    .dataframe tbody tr th:only-of-type {\n",
       "        vertical-align: middle;\n",
       "    }\n",
       "\n",
       "    .dataframe tbody tr th {\n",
       "        vertical-align: top;\n",
       "    }\n",
       "\n",
       "    .dataframe thead th {\n",
       "        text-align: right;\n",
       "    }\n",
       "</style>\n",
       "<table border=\"1\" class=\"dataframe\">\n",
       "  <thead>\n",
       "    <tr style=\"text-align: right;\">\n",
       "      <th></th>\n",
       "      <th>key</th>\n",
       "      <th>Wire 1</th>\n",
       "      <th>Wire 2</th>\n",
       "      <th>Wire 3</th>\n",
       "      <th>Wire 4</th>\n",
       "      <th>Wire 5</th>\n",
       "      <th>Wire 6</th>\n",
       "      <th>Wire 7</th>\n",
       "      <th>Wire 8</th>\n",
       "      <th>Wire 9</th>\n",
       "    </tr>\n",
       "  </thead>\n",
       "  <tbody>\n",
       "  </tbody>\n",
       "</table>\n",
       "</div>"
      ],
      "text/plain": [
       "Empty DataFrame\n",
       "Columns: [key, Wire 1, Wire 2, Wire 3, Wire 4, Wire 5, Wire 6, Wire 7, Wire 8, Wire 9]\n",
       "Index: []"
      ]
     },
     "metadata": {},
     "output_type": "display_data"
    },
    {
     "data": {
      "text/html": [
       "<div>\n",
       "<style scoped>\n",
       "    .dataframe tbody tr th:only-of-type {\n",
       "        vertical-align: middle;\n",
       "    }\n",
       "\n",
       "    .dataframe tbody tr th {\n",
       "        vertical-align: top;\n",
       "    }\n",
       "\n",
       "    .dataframe thead th {\n",
       "        text-align: right;\n",
       "    }\n",
       "</style>\n",
       "<table border=\"1\" class=\"dataframe\">\n",
       "  <thead>\n",
       "    <tr style=\"text-align: right;\">\n",
       "      <th></th>\n",
       "      <th>key</th>\n",
       "      <th>Wire 1</th>\n",
       "      <th>Wire 2</th>\n",
       "      <th>Wire 3</th>\n",
       "      <th>Wire 4</th>\n",
       "      <th>Wire 5</th>\n",
       "      <th>Wire 6</th>\n",
       "      <th>Wire 7</th>\n",
       "      <th>Wire 8</th>\n",
       "      <th>Wire 9</th>\n",
       "    </tr>\n",
       "  </thead>\n",
       "  <tbody>\n",
       "  </tbody>\n",
       "</table>\n",
       "</div>"
      ],
      "text/plain": [
       "Empty DataFrame\n",
       "Columns: [key, Wire 1, Wire 2, Wire 3, Wire 4, Wire 5, Wire 6, Wire 7, Wire 8, Wire 9]\n",
       "Index: []"
      ]
     },
     "metadata": {},
     "output_type": "display_data"
    },
    {
     "data": {
      "text/html": [
       "<div>\n",
       "<style scoped>\n",
       "    .dataframe tbody tr th:only-of-type {\n",
       "        vertical-align: middle;\n",
       "    }\n",
       "\n",
       "    .dataframe tbody tr th {\n",
       "        vertical-align: top;\n",
       "    }\n",
       "\n",
       "    .dataframe thead th {\n",
       "        text-align: right;\n",
       "    }\n",
       "</style>\n",
       "<table border=\"1\" class=\"dataframe\">\n",
       "  <thead>\n",
       "    <tr style=\"text-align: right;\">\n",
       "      <th></th>\n",
       "      <th>key</th>\n",
       "      <th>Начало нагрева дугой</th>\n",
       "      <th>Конец нагрева дугой</th>\n",
       "      <th>Активная мощность</th>\n",
       "      <th>Реактивная мощность</th>\n",
       "    </tr>\n",
       "  </thead>\n",
       "  <tbody>\n",
       "  </tbody>\n",
       "</table>\n",
       "</div>"
      ],
      "text/plain": [
       "Empty DataFrame\n",
       "Columns: [key, Начало нагрева дугой, Конец нагрева дугой, Активная мощность, Реактивная мощность]\n",
       "Index: []"
      ]
     },
     "metadata": {},
     "output_type": "display_data"
    }
   ],
   "source": [
    "# Let's see which batch contains this value of Реактивная Мощность\n",
    "\n",
    "delete_cond = data_arc['Реактивная мощность'].min()\n",
    "delete_key = data_arc[data_arc['Реактивная мощность'] == delete_cond]['key'].item()\n",
    "\n",
    "\n",
    "# Remove this batch from each dataframe in the list\n",
    "\n",
    "dfs = [df[(df['key'] != delete_key)] for df in dfs]\n",
    "\n",
    "# Delete this batch from each dataframe separately\n",
    "\n",
    "data_arc = data_arc[data_arc['key'] != delete_key]\n",
    "data_bulk = data_bulk[data_bulk['key'] != delete_key]\n",
    "data_bulk_time = data_bulk_time[data_bulk_time['key'] != delete_key]\n",
    "data_gas = data_gas[data_gas['key'] != delete_key]\n",
    "data_temp = data_temp[data_temp['key'] != delete_key]\n",
    "data_wire = data_wire[data_wire['key'] != delete_key]\n",
    "data_wire_time = data_wire_time[data_wire_time['key'] != delete_key]\n",
    "\n",
    "\n",
    "# List check\n",
    "\n",
    "for df in dfs:\n",
    "    display(df[df['key'] == delete_key])\n",
    "\n",
    "# Checking each datafra,e separately\n",
    "\n",
    "display(data_arc[data_arc['key'] == delete_key])"
   ]
  },
  {
   "cell_type": "markdown",
   "metadata": {},
   "source": [
    "Let's display once again the distribution of **`Реактивная мощность`**"
   ]
  },
  {
   "cell_type": "code",
   "execution_count": 72,
   "metadata": {
    "scrolled": false
   },
   "outputs": [
    {
     "data": {
      "image/png": "[encoded data removed]",
      "text/plain": [
       "<Figure size 1080x504 with 2 Axes>"
      ]
     },
     "metadata": {
      "needs_background": "light"
     },
     "output_type": "display_data"
    }
   ],
   "source": [
    "dist_graph(data_arc, 'Реактивная мощность')"
   ]
  },
  {
   "cell_type": "markdown",
   "metadata": {},
   "source": [
    "We see a similar result for **`Реактивная мощность`**\n",
    "\n",
    "* Distribution is skewed to the right\n",
    "\n",
    "\n",
    "* Values range from 0 to 3\n",
    "\n",
    "\n",
    "* We are again not going to get rid of the anomalies (statistically) for the same reasons"
   ]
  },
  {
   "cell_type": "markdown",
   "metadata": {},
   "source": [
    "#### Check for multicollinearity"
   ]
  },
  {
   "cell_type": "code",
   "execution_count": 73,
   "metadata": {},
   "outputs": [
    {
     "data": {
      "text/plain": [
       "Text(0.8, 0.2, 'Pearson Correlation Coefficient = 0.96')"
      ]
     },
     "execution_count": 73,
     "metadata": {},
     "output_type": "execute_result"
    },
    {
     "data": {
      "image/png": "[encoded data removed]",
      "text/plain": [
       "<Figure size 576x576 with 1 Axes>"
      ]
     },
     "metadata": {
      "needs_background": "light"
     },
     "output_type": "display_data"
    }
   ],
   "source": [
    "sns.lmplot(x='Активная мощность', y='Реактивная мощность', data=data_arc, height=8, line_kws={'color': 'red'})\n",
    "\n",
    "# plt.rcParams['figure.figsize'] = [17,5]\n",
    "plt.title('Зависимость Активной от Реактивной мощности', fontsize=18)\n",
    "plt.figtext(.8, .2, \"Pearson Correlation Coefficient = \" + \\\n",
    "            str(round(data_arc['Активная мощность'].corr(data_arc['Реактивная мощность']), 2)), fontsize=12)"
   ]
  },
  {
   "cell_type": "markdown",
   "metadata": {},
   "source": [
    "Thus, we can observe a **strong positive linear relationship** between 2 features: **`Активная мощность`, `Реактивная мощность`**\n",
    "\n",
    "This fact gives rise to the problem of **multicollinearity**. Predictions may turn out to be inaccurate - it will be difficult to interpret the influence of certain factors on the target.\n",
    "\n",
    "To avoid the identified problem, instead of using 2 features or only 1 of them while forming the training sample - we will form a new feature. We will calculate  **`Полная мощность`** (*Apparent Power*), which is the square root of the sum of the squares of 2 given powers (*Active Power*, *Reactive Power*)."
   ]
  },
  {
   "cell_type": "markdown",
   "metadata": {},
   "source": [
    "**Полная мощность** formula:\n",
    "\n",
    "$ S = \\sqrt{(P^{2} + Q^{2})} $\n",
    "\n",
    "\n",
    "$ S $ - Apparent Power,\n",
    "$ P $ - Active Power,\n",
    "$ Q $ - Reactive Power"
   ]
  },
  {
   "cell_type": "markdown",
   "metadata": {},
   "source": [
    "### `data_bulk`,  `data_wire`"
   ]
  },
  {
   "cell_type": "markdown",
   "metadata": {},
   "source": [
    "#### Missing Values"
   ]
  },
  {
   "cell_type": "code",
   "execution_count": 74,
   "metadata": {},
   "outputs": [
    {
     "name": "stdout",
     "output_type": "stream",
     "text": [
      "<class 'pandas.core.frame.DataFrame'>\n",
      "Int64Index: 3128 entries, 0 to 3128\n",
      "Data columns (total 16 columns):\n",
      " #   Column   Non-Null Count  Dtype  \n",
      "---  ------   --------------  -----  \n",
      " 0   key      3128 non-null   int64  \n",
      " 1   Bulk 1   252 non-null    float64\n",
      " 2   Bulk 2   22 non-null     float64\n",
      " 3   Bulk 3   1298 non-null   float64\n",
      " 4   Bulk 4   1014 non-null   float64\n",
      " 5   Bulk 5   77 non-null     float64\n",
      " 6   Bulk 6   575 non-null    float64\n",
      " 7   Bulk 7   25 non-null     float64\n",
      " 8   Bulk 8   1 non-null      float64\n",
      " 9   Bulk 9   19 non-null     float64\n",
      " 10  Bulk 10  176 non-null    float64\n",
      " 11  Bulk 11  177 non-null    float64\n",
      " 12  Bulk 12  2450 non-null   float64\n",
      " 13  Bulk 13  18 non-null     float64\n",
      " 14  Bulk 14  2805 non-null   float64\n",
      " 15  Bulk 15  2248 non-null   float64\n",
      "dtypes: float64(15), int64(1)\n",
      "memory usage: 415.4 KB\n",
      "<class 'pandas.core.frame.DataFrame'>\n",
      "Int64Index: 3080 entries, 0 to 3080\n",
      "Data columns (total 10 columns):\n",
      " #   Column  Non-Null Count  Dtype  \n",
      "---  ------  --------------  -----  \n",
      " 0   key     3080 non-null   int64  \n",
      " 1   Wire 1  3054 non-null   float64\n",
      " 2   Wire 2  1079 non-null   float64\n",
      " 3   Wire 3  63 non-null     float64\n",
      " 4   Wire 4  14 non-null     float64\n",
      " 5   Wire 5  1 non-null      float64\n",
      " 6   Wire 6  73 non-null     float64\n",
      " 7   Wire 7  11 non-null     float64\n",
      " 8   Wire 8  19 non-null     float64\n",
      " 9   Wire 9  29 non-null     float64\n",
      "dtypes: float64(9), int64(1)\n",
      "memory usage: 264.7 KB\n"
     ]
    },
    {
     "data": {
      "text/plain": [
       "(None, None)"
      ]
     },
     "execution_count": 74,
     "metadata": {},
     "output_type": "execute_result"
    }
   ],
   "source": [
    "data_bulk.info(), data_wire.info()"
   ]
  },
  {
   "cell_type": "markdown",
   "metadata": {},
   "source": [
    "We see that there is a huge number of **None-values** in 2 datasets.\n",
    "\n",
    "We will leave these gaps blank, since it is the None value that indicates to us some of the alloying additives were not used in the steel processing cycle."
   ]
  },
  {
   "cell_type": "markdown",
   "metadata": {},
   "source": [
    "### `data_bulk_time`, `data_wire_time`"
   ]
  },
  {
   "cell_type": "markdown",
   "metadata": {},
   "source": [
    "#### Date Format"
   ]
  },
  {
   "cell_type": "code",
   "execution_count": 75,
   "metadata": {},
   "outputs": [
    {
     "name": "stdout",
     "output_type": "stream",
     "text": [
      "<class 'pandas.core.frame.DataFrame'>\n",
      "Int64Index: 3128 entries, 0 to 3128\n",
      "Data columns (total 16 columns):\n",
      " #   Column   Non-Null Count  Dtype         \n",
      "---  ------   --------------  -----         \n",
      " 0   key      3128 non-null   int64         \n",
      " 1   Bulk 1   252 non-null    datetime64[ns]\n",
      " 2   Bulk 2   22 non-null     datetime64[ns]\n",
      " 3   Bulk 3   1298 non-null   datetime64[ns]\n",
      " 4   Bulk 4   1014 non-null   datetime64[ns]\n",
      " 5   Bulk 5   77 non-null     datetime64[ns]\n",
      " 6   Bulk 6   575 non-null    datetime64[ns]\n",
      " 7   Bulk 7   25 non-null     datetime64[ns]\n",
      " 8   Bulk 8   1 non-null      datetime64[ns]\n",
      " 9   Bulk 9   19 non-null     datetime64[ns]\n",
      " 10  Bulk 10  176 non-null    datetime64[ns]\n",
      " 11  Bulk 11  177 non-null    datetime64[ns]\n",
      " 12  Bulk 12  2450 non-null   datetime64[ns]\n",
      " 13  Bulk 13  18 non-null     datetime64[ns]\n",
      " 14  Bulk 14  2805 non-null   datetime64[ns]\n",
      " 15  Bulk 15  2248 non-null   datetime64[ns]\n",
      "dtypes: datetime64[ns](15), int64(1)\n",
      "memory usage: 415.4 KB\n",
      "<class 'pandas.core.frame.DataFrame'>\n",
      "Int64Index: 3080 entries, 0 to 3080\n",
      "Data columns (total 10 columns):\n",
      " #   Column  Non-Null Count  Dtype         \n",
      "---  ------  --------------  -----         \n",
      " 0   key     3080 non-null   int64         \n",
      " 1   Wire 1  3054 non-null   datetime64[ns]\n",
      " 2   Wire 2  1079 non-null   datetime64[ns]\n",
      " 3   Wire 3  63 non-null     datetime64[ns]\n",
      " 4   Wire 4  14 non-null     datetime64[ns]\n",
      " 5   Wire 5  1 non-null      datetime64[ns]\n",
      " 6   Wire 6  73 non-null     datetime64[ns]\n",
      " 7   Wire 7  11 non-null     datetime64[ns]\n",
      " 8   Wire 8  19 non-null     datetime64[ns]\n",
      " 9   Wire 9  29 non-null     datetime64[ns]\n",
      "dtypes: datetime64[ns](9), int64(1)\n",
      "memory usage: 264.7 KB\n"
     ]
    }
   ],
   "source": [
    "data_bulk_time.loc[:, data_bulk_time.columns != 'key'] = \\\n",
    "    data_bulk_time.loc[:, data_bulk_time.columns != 'key'].apply(pd.to_datetime, format='%Y-%m-%dT%H:%M:%S')\n",
    "\n",
    "data_wire_time.loc[:, data_wire_time.columns != 'key'] = \\\n",
    "    data_wire_time.loc[:, data_wire_time.columns != 'key'].apply(pd.to_datetime, format='%Y-%m-%dT%H:%M:%S')\n",
    "\n",
    "data_bulk_time.info()\n",
    "data_wire_time.info()"
   ]
  },
  {
   "cell_type": "markdown",
   "metadata": {},
   "source": [
    "### `data_gas`"
   ]
  },
  {
   "cell_type": "markdown",
   "metadata": {},
   "source": [
    "#### Distribution"
   ]
  },
  {
   "cell_type": "code",
   "execution_count": 76,
   "metadata": {
    "scrolled": false
   },
   "outputs": [
    {
     "data": {
      "image/png": "[encoded data removed]",
      "text/plain": [
       "<Figure size 1080x504 with 2 Axes>"
      ]
     },
     "metadata": {
      "needs_background": "light"
     },
     "output_type": "display_data"
    }
   ],
   "source": [
    "dist_graph(data_gas, 'Газ 1')"
   ]
  },
  {
   "cell_type": "markdown",
   "metadata": {},
   "source": [
    "* The distribution looks quite **symmetric** (median and mean are almost the same)\n",
    "\n",
    "\n",
    "* Nevertheless, we can observe a **long tail on the right side** (a big number of **right outlayers**) - we will not remove them, since this issue requires expert evaluation and it would be incorrect to remove them statistically from the business point of view"
   ]
  },
  {
   "cell_type": "markdown",
   "metadata": {},
   "source": [
    "### `data_temp`"
   ]
  },
  {
   "cell_type": "markdown",
   "metadata": {},
   "source": [
    "#### Date Format"
   ]
  },
  {
   "cell_type": "code",
   "execution_count": 77,
   "metadata": {},
   "outputs": [],
   "source": [
    "data_temp['Время замера'] = pd.to_datetime(data_temp['Время замера'], format='%Y-%m-%dT%H:%M:%S')"
   ]
  },
  {
   "cell_type": "markdown",
   "metadata": {},
   "source": [
    "#### Missing Values"
   ]
  },
  {
   "cell_type": "code",
   "execution_count": 78,
   "metadata": {},
   "outputs": [
    {
     "name": "stdout",
     "output_type": "stream",
     "text": [
      "<class 'pandas.core.frame.DataFrame'>\n",
      "Int64Index: 15903 entries, 0 to 15906\n",
      "Data columns (total 3 columns):\n",
      " #   Column        Non-Null Count  Dtype         \n",
      "---  ------        --------------  -----         \n",
      " 0   key           15903 non-null  int64         \n",
      " 1   Время замера  15903 non-null  datetime64[ns]\n",
      " 2   Температура   13002 non-null  float64       \n",
      "dtypes: datetime64[ns](1), float64(1), int64(1)\n",
      "memory usage: 497.0 KB\n"
     ]
    }
   ],
   "source": [
    "data_temp.info()"
   ]
  },
  {
   "cell_type": "code",
   "execution_count": 79,
   "metadata": {
    "scrolled": true
   },
   "outputs": [
    {
     "data": {
      "text/plain": [
       "1513    16\n",
       "44      16\n",
       "46      16\n",
       "1214    16\n",
       "1689    15\n",
       "        ..\n",
       "2876     2\n",
       "1211     2\n",
       "776      2\n",
       "279      1\n",
       "195      1\n",
       "Name: key, Length: 3215, dtype: int64"
      ]
     },
     "execution_count": 79,
     "metadata": {},
     "output_type": "execute_result"
    }
   ],
   "source": [
    "data_temp['key'].value_counts().sort_values(ascending=False)"
   ]
  },
  {
   "cell_type": "markdown",
   "metadata": {},
   "source": [
    "Let's take a closer look at the batches: **2500, 195, 279**"
   ]
  },
  {
   "cell_type": "code",
   "execution_count": 80,
   "metadata": {
    "scrolled": true
   },
   "outputs": [
    {
     "data": {
      "text/html": [
       "<div>\n",
       "<style scoped>\n",
       "    .dataframe tbody tr th:only-of-type {\n",
       "        vertical-align: middle;\n",
       "    }\n",
       "\n",
       "    .dataframe tbody tr th {\n",
       "        vertical-align: top;\n",
       "    }\n",
       "\n",
       "    .dataframe thead th {\n",
       "        text-align: right;\n",
       "    }\n",
       "</style>\n",
       "<table border=\"1\" class=\"dataframe\">\n",
       "  <thead>\n",
       "    <tr style=\"text-align: right;\">\n",
       "      <th></th>\n",
       "      <th>key</th>\n",
       "      <th>Время замера</th>\n",
       "      <th>Температура</th>\n",
       "    </tr>\n",
       "  </thead>\n",
       "  <tbody>\n",
       "    <tr>\n",
       "      <th>12267</th>\n",
       "      <td>2500</td>\n",
       "      <td>2019-08-06 03:11:31</td>\n",
       "      <td>1539.0</td>\n",
       "    </tr>\n",
       "    <tr>\n",
       "      <th>12268</th>\n",
       "      <td>2500</td>\n",
       "      <td>2019-08-06 03:24:43</td>\n",
       "      <td>NaN</td>\n",
       "    </tr>\n",
       "    <tr>\n",
       "      <th>12269</th>\n",
       "      <td>2500</td>\n",
       "      <td>2019-08-06 03:25:16</td>\n",
       "      <td>NaN</td>\n",
       "    </tr>\n",
       "    <tr>\n",
       "      <th>12270</th>\n",
       "      <td>2500</td>\n",
       "      <td>2019-08-06 03:28:21</td>\n",
       "      <td>NaN</td>\n",
       "    </tr>\n",
       "  </tbody>\n",
       "</table>\n",
       "</div>"
      ],
      "text/plain": [
       "        key        Время замера  Температура\n",
       "12267  2500 2019-08-06 03:11:31       1539.0\n",
       "12268  2500 2019-08-06 03:24:43          NaN\n",
       "12269  2500 2019-08-06 03:25:16          NaN\n",
       "12270  2500 2019-08-06 03:28:21          NaN"
      ]
     },
     "metadata": {},
     "output_type": "display_data"
    },
    {
     "data": {
      "text/html": [
       "<div>\n",
       "<style scoped>\n",
       "    .dataframe tbody tr th:only-of-type {\n",
       "        vertical-align: middle;\n",
       "    }\n",
       "\n",
       "    .dataframe tbody tr th {\n",
       "        vertical-align: top;\n",
       "    }\n",
       "\n",
       "    .dataframe thead th {\n",
       "        text-align: right;\n",
       "    }\n",
       "</style>\n",
       "<table border=\"1\" class=\"dataframe\">\n",
       "  <thead>\n",
       "    <tr style=\"text-align: right;\">\n",
       "      <th></th>\n",
       "      <th>key</th>\n",
       "      <th>Время замера</th>\n",
       "      <th>Температура</th>\n",
       "    </tr>\n",
       "  </thead>\n",
       "  <tbody>\n",
       "    <tr>\n",
       "      <th>1100</th>\n",
       "      <td>195</td>\n",
       "      <td>2019-05-10 14:10:23</td>\n",
       "      <td>1583.0</td>\n",
       "    </tr>\n",
       "  </tbody>\n",
       "</table>\n",
       "</div>"
      ],
      "text/plain": [
       "      key        Время замера  Температура\n",
       "1100  195 2019-05-10 14:10:23       1583.0"
      ]
     },
     "metadata": {},
     "output_type": "display_data"
    },
    {
     "data": {
      "text/html": [
       "<div>\n",
       "<style scoped>\n",
       "    .dataframe tbody tr th:only-of-type {\n",
       "        vertical-align: middle;\n",
       "    }\n",
       "\n",
       "    .dataframe tbody tr th {\n",
       "        vertical-align: top;\n",
       "    }\n",
       "\n",
       "    .dataframe thead th {\n",
       "        text-align: right;\n",
       "    }\n",
       "</style>\n",
       "<table border=\"1\" class=\"dataframe\">\n",
       "  <thead>\n",
       "    <tr style=\"text-align: right;\">\n",
       "      <th></th>\n",
       "      <th>key</th>\n",
       "      <th>Время замера</th>\n",
       "      <th>Температура</th>\n",
       "    </tr>\n",
       "  </thead>\n",
       "  <tbody>\n",
       "    <tr>\n",
       "      <th>1554</th>\n",
       "      <td>279</td>\n",
       "      <td>2019-05-13 23:07:28</td>\n",
       "      <td>1603.0</td>\n",
       "    </tr>\n",
       "  </tbody>\n",
       "</table>\n",
       "</div>"
      ],
      "text/plain": [
       "      key        Время замера  Температура\n",
       "1554  279 2019-05-13 23:07:28       1603.0"
      ]
     },
     "metadata": {},
     "output_type": "display_data"
    }
   ],
   "source": [
    "display(data_temp[data_temp['key'] == 2500],data_temp[data_temp['key'] == 195],data_temp[data_temp['key'] == 279])"
   ]
  },
  {
   "cell_type": "markdown",
   "metadata": {},
   "source": [
    "### Conclusions 2.0"
   ]
  },
  {
   "cell_type": "markdown",
   "metadata": {},
   "source": [
    "* The dataframe contains the target that we are going to predict - **`Температура`** (*temperature*). **The target feature is precisely the final temperature measurement** of the steel alloy after all the manipulations performed with it\n",
    "\n",
    "\n",
    "* Features for the model training consist of: **initial temperature measurement** (before all stages of the processing cycle); **steel processing time** - the difference between the initial and final batch temperature measurements\n",
    "\n",
    "----------\n",
    "\n",
    "**Problems:**\n",
    "\n",
    "1. For some batches, there is only 1 temperature measurement. There are only 2 such batches - we will delete the entire batches, since they do not have the initial and target features. Batches' numbers have already been obtained above: **195, 279**\n",
    "\n",
    "\n",
    "2. Some batches may not have a final temperature measurement. For example, batch 2500 (see above) - we will delete the entire batches, since they do not have a target feature. We can't find a replacement for them\n",
    "\n",
    "\n",
    "3. It is possible that for some features the initial and final temperature measurements may coincide. We can potentially run into a problem of target leakage - additional verification is required"
   ]
  },
  {
   "cell_type": "markdown",
   "metadata": {},
   "source": [
    "#### Problem 2 "
   ]
  },
  {
   "cell_type": "code",
   "execution_count": 81,
   "metadata": {
    "scrolled": true
   },
   "outputs": [],
   "source": [
    "# Let's create a table with the first and final time of temperature measurement\n",
    "\n",
    "data_temp_min = pd.pivot_table(data_temp, values='Время замера', index='key', aggfunc='min')\n",
    "data_temp_max = pd.pivot_table(data_temp, values='Время замера', index='key', aggfunc='max')\n",
    "\n",
    "data_temp_min_and_max = pd.concat([data_temp_min, data_temp_max]).sort_values('key')\n",
    "\n",
    "\n",
    "# Combine the resulting table with the original INNER method to find all batches with gaps\n",
    "\n",
    "data_temp_problem2 = pd.merge(data_temp_min_and_max, data_temp, on=['key', 'Время замера'], how='inner')\n",
    "\n",
    "\n",
    "# Let's find the batches of interest\n",
    "\n",
    "data_temp_keys_problem2 = data_temp_problem2[data_temp_problem2['Температура'].isnull()]['key'].values"
   ]
  },
  {
   "cell_type": "markdown",
   "metadata": {},
   "source": [
    "#### Problem 3"
   ]
  },
  {
   "cell_type": "code",
   "execution_count": 82,
   "metadata": {},
   "outputs": [],
   "source": [
    "data_temp_min_add = pd.merge(data_temp_min, data_temp, on=['key', 'Время замера'], how='inner')\n",
    "data_temp_max_add = pd.merge(data_temp_max, data_temp, on=['key', 'Время замера'], how='inner')\n",
    "\n",
    "data_temp_problem3 = pd.merge(data_temp_min_add, data_temp_max_add, on=['key'], how='inner', \\\n",
    "                              suffixes=('_min', '_max'))\n",
    "data_temp_problem3['same_temp'] = np.where((data_temp_problem3['Температура_min'] == \\\n",
    "                                            data_temp_problem3['Температура_max']), 1, 0)\n",
    "\n",
    "data_temp_keys_problem3 = data_temp_problem3[data_temp_problem3['same_temp'] == 1]['key'].values"
   ]
  },
  {
   "cell_type": "code",
   "execution_count": 83,
   "metadata": {},
   "outputs": [
    {
     "data": {
      "text/html": [
       "<div>\n",
       "<style scoped>\n",
       "    .dataframe tbody tr th:only-of-type {\n",
       "        vertical-align: middle;\n",
       "    }\n",
       "\n",
       "    .dataframe tbody tr th {\n",
       "        vertical-align: top;\n",
       "    }\n",
       "\n",
       "    .dataframe thead th {\n",
       "        text-align: right;\n",
       "    }\n",
       "</style>\n",
       "<table border=\"1\" class=\"dataframe\">\n",
       "  <thead>\n",
       "    <tr style=\"text-align: right;\">\n",
       "      <th></th>\n",
       "      <th>key</th>\n",
       "      <th>Время замера_min</th>\n",
       "      <th>Температура_min</th>\n",
       "      <th>Время замера_max</th>\n",
       "      <th>Температура_max</th>\n",
       "      <th>same_temp</th>\n",
       "    </tr>\n",
       "  </thead>\n",
       "  <tbody>\n",
       "    <tr>\n",
       "      <th>0</th>\n",
       "      <td>1</td>\n",
       "      <td>2019-05-03 11:16:18</td>\n",
       "      <td>1571.0</td>\n",
       "      <td>2019-05-03 11:30:39</td>\n",
       "      <td>1613.0</td>\n",
       "      <td>0</td>\n",
       "    </tr>\n",
       "    <tr>\n",
       "      <th>1</th>\n",
       "      <td>2</td>\n",
       "      <td>2019-05-03 11:37:27</td>\n",
       "      <td>1581.0</td>\n",
       "      <td>2019-05-03 11:59:12</td>\n",
       "      <td>1602.0</td>\n",
       "      <td>0</td>\n",
       "    </tr>\n",
       "    <tr>\n",
       "      <th>2</th>\n",
       "      <td>3</td>\n",
       "      <td>2019-05-03 12:13:17</td>\n",
       "      <td>1596.0</td>\n",
       "      <td>2019-05-03 12:34:57</td>\n",
       "      <td>1599.0</td>\n",
       "      <td>0</td>\n",
       "    </tr>\n",
       "    <tr>\n",
       "      <th>3</th>\n",
       "      <td>4</td>\n",
       "      <td>2019-05-03 12:52:57</td>\n",
       "      <td>1601.0</td>\n",
       "      <td>2019-05-03 12:59:25</td>\n",
       "      <td>1625.0</td>\n",
       "      <td>0</td>\n",
       "    </tr>\n",
       "    <tr>\n",
       "      <th>4</th>\n",
       "      <td>5</td>\n",
       "      <td>2019-05-03 13:23:19</td>\n",
       "      <td>1576.0</td>\n",
       "      <td>2019-05-03 13:36:01</td>\n",
       "      <td>1602.0</td>\n",
       "      <td>0</td>\n",
       "    </tr>\n",
       "    <tr>\n",
       "      <th>...</th>\n",
       "      <td>...</td>\n",
       "      <td>...</td>\n",
       "      <td>...</td>\n",
       "      <td>...</td>\n",
       "      <td>...</td>\n",
       "      <td>...</td>\n",
       "    </tr>\n",
       "    <tr>\n",
       "      <th>3210</th>\n",
       "      <td>3237</td>\n",
       "      <td>2019-08-31 22:44:04</td>\n",
       "      <td>1569.0</td>\n",
       "      <td>2019-08-31 23:05:43</td>\n",
       "      <td>NaN</td>\n",
       "      <td>0</td>\n",
       "    </tr>\n",
       "    <tr>\n",
       "      <th>3211</th>\n",
       "      <td>3238</td>\n",
       "      <td>2019-08-31 23:30:31</td>\n",
       "      <td>1584.0</td>\n",
       "      <td>2019-08-31 23:43:00</td>\n",
       "      <td>NaN</td>\n",
       "      <td>0</td>\n",
       "    </tr>\n",
       "    <tr>\n",
       "      <th>3212</th>\n",
       "      <td>3239</td>\n",
       "      <td>2019-09-01 01:31:47</td>\n",
       "      <td>1598.0</td>\n",
       "      <td>2019-09-01 02:24:15</td>\n",
       "      <td>NaN</td>\n",
       "      <td>0</td>\n",
       "    </tr>\n",
       "    <tr>\n",
       "      <th>3213</th>\n",
       "      <td>3240</td>\n",
       "      <td>2019-09-01 02:39:01</td>\n",
       "      <td>1617.0</td>\n",
       "      <td>2019-09-01 03:35:16</td>\n",
       "      <td>NaN</td>\n",
       "      <td>0</td>\n",
       "    </tr>\n",
       "    <tr>\n",
       "      <th>3214</th>\n",
       "      <td>3241</td>\n",
       "      <td>2019-09-01 04:03:30</td>\n",
       "      <td>1586.0</td>\n",
       "      <td>2019-09-01 04:38:08</td>\n",
       "      <td>NaN</td>\n",
       "      <td>0</td>\n",
       "    </tr>\n",
       "  </tbody>\n",
       "</table>\n",
       "<p>3215 rows × 6 columns</p>\n",
       "</div>"
      ],
      "text/plain": [
       "       key    Время замера_min  Температура_min    Время замера_max  \\\n",
       "0        1 2019-05-03 11:16:18           1571.0 2019-05-03 11:30:39   \n",
       "1        2 2019-05-03 11:37:27           1581.0 2019-05-03 11:59:12   \n",
       "2        3 2019-05-03 12:13:17           1596.0 2019-05-03 12:34:57   \n",
       "3        4 2019-05-03 12:52:57           1601.0 2019-05-03 12:59:25   \n",
       "4        5 2019-05-03 13:23:19           1576.0 2019-05-03 13:36:01   \n",
       "...    ...                 ...              ...                 ...   \n",
       "3210  3237 2019-08-31 22:44:04           1569.0 2019-08-31 23:05:43   \n",
       "3211  3238 2019-08-31 23:30:31           1584.0 2019-08-31 23:43:00   \n",
       "3212  3239 2019-09-01 01:31:47           1598.0 2019-09-01 02:24:15   \n",
       "3213  3240 2019-09-01 02:39:01           1617.0 2019-09-01 03:35:16   \n",
       "3214  3241 2019-09-01 04:03:30           1586.0 2019-09-01 04:38:08   \n",
       "\n",
       "      Температура_max  same_temp  \n",
       "0              1613.0          0  \n",
       "1              1602.0          0  \n",
       "2              1599.0          0  \n",
       "3              1625.0          0  \n",
       "4              1602.0          0  \n",
       "...               ...        ...  \n",
       "3210              NaN          0  \n",
       "3211              NaN          0  \n",
       "3212              NaN          0  \n",
       "3213              NaN          0  \n",
       "3214              NaN          0  \n",
       "\n",
       "[3215 rows x 6 columns]"
      ]
     },
     "execution_count": 83,
     "metadata": {},
     "output_type": "execute_result"
    }
   ],
   "source": [
    "data_temp_problem3"
   ]
  },
  {
   "cell_type": "code",
   "execution_count": 84,
   "metadata": {},
   "outputs": [
    {
     "name": "stdout",
     "output_type": "stream",
     "text": [
      "% партий на удаление: 24.35%\n"
     ]
    }
   ],
   "source": [
    "# Thus, we have got the batches to exclude:\n",
    "\n",
    "keys_to_exclude = np.concatenate((data_temp_keys_problem2, data_temp_keys_problem3), axis=None)\n",
    "\n",
    "print('% партий на удаление: {:.2%}'.format(len(keys_to_exclude) / len(data_temp['key'].unique())))"
   ]
  },
  {
   "cell_type": "code",
   "execution_count": 85,
   "metadata": {
    "scrolled": true
   },
   "outputs": [
    {
     "name": "stdout",
     "output_type": "stream",
     "text": [
      "<class 'pandas.core.frame.DataFrame'>\n",
      "Int64Index: 12057 entries, 0 to 12266\n",
      "Data columns (total 3 columns):\n",
      " #   Column        Non-Null Count  Dtype         \n",
      "---  ------        --------------  -----         \n",
      " 0   key           12057 non-null  int64         \n",
      " 1   Время замера  12057 non-null  datetime64[ns]\n",
      " 2   Температура   12057 non-null  float64       \n",
      "dtypes: datetime64[ns](1), float64(1), int64(1)\n",
      "memory usage: 376.8 KB\n",
      "\n",
      "Оставшееся число партий: 2432\n"
     ]
    }
   ],
   "source": [
    "# Remove all batches that are not included in the training set \n",
    "\n",
    "keys_to_exclude = keys_to_exclude.tolist()\n",
    "\n",
    "data_temp = data_temp[~data_temp['key'].isin(keys_to_exclude)]\n",
    "\n",
    "data_temp.info(),\n",
    "print()\n",
    "print('Оставшееся число партий: {:.0f}'.format(len(data_temp['key'].unique())))"
   ]
  },
  {
   "cell_type": "markdown",
   "metadata": {},
   "source": [
    "### Target Distribution"
   ]
  },
  {
   "cell_type": "code",
   "execution_count": 86,
   "metadata": {},
   "outputs": [
    {
     "data": {
      "image/png": "[encoded data removed]",
      "text/plain": [
       "<Figure size 1080x504 with 2 Axes>"
      ]
     },
     "metadata": {
      "needs_background": "light"
     },
     "output_type": "display_data"
    }
   ],
   "source": [
    "dist_graph(data_temp, 'Температура')"
   ]
  },
  {
   "cell_type": "markdown",
   "metadata": {},
   "source": [
    "Изучив распределение доступных данных о температуре можно сказать:\n",
    "\n",
    "* Распределение симметрично\n",
    "\n",
    "\n",
    "* Есть 5 левых аутлайеров со значением температуры меньшее 1500. Так как температура плавления стали составляет выше 1450 - удалим данные выбросы, так как значения некорректны "
   ]
  },
  {
   "cell_type": "code",
   "execution_count": 87,
   "metadata": {
    "scrolled": true
   },
   "outputs": [
    {
     "data": {
      "text/html": [
       "<div>\n",
       "<style scoped>\n",
       "    .dataframe tbody tr th:only-of-type {\n",
       "        vertical-align: middle;\n",
       "    }\n",
       "\n",
       "    .dataframe tbody tr th {\n",
       "        vertical-align: top;\n",
       "    }\n",
       "\n",
       "    .dataframe thead th {\n",
       "        text-align: right;\n",
       "    }\n",
       "</style>\n",
       "<table border=\"1\" class=\"dataframe\">\n",
       "  <thead>\n",
       "    <tr style=\"text-align: right;\">\n",
       "      <th></th>\n",
       "      <th>key</th>\n",
       "      <th>Время замера</th>\n",
       "      <th>Температура</th>\n",
       "    </tr>\n",
       "  </thead>\n",
       "  <tbody>\n",
       "    <tr>\n",
       "      <th>4350</th>\n",
       "      <td>867</td>\n",
       "      <td>2019-06-04 14:21:00</td>\n",
       "      <td>1191.0</td>\n",
       "    </tr>\n",
       "    <tr>\n",
       "      <th>4351</th>\n",
       "      <td>867</td>\n",
       "      <td>2019-06-04 14:29:35</td>\n",
       "      <td>1575.0</td>\n",
       "    </tr>\n",
       "    <tr>\n",
       "      <th>4352</th>\n",
       "      <td>867</td>\n",
       "      <td>2019-06-04 14:30:29</td>\n",
       "      <td>1576.0</td>\n",
       "    </tr>\n",
       "    <tr>\n",
       "      <th>4353</th>\n",
       "      <td>867</td>\n",
       "      <td>2019-06-04 14:43:10</td>\n",
       "      <td>1571.0</td>\n",
       "    </tr>\n",
       "    <tr>\n",
       "      <th>4354</th>\n",
       "      <td>867</td>\n",
       "      <td>2019-06-04 14:52:54</td>\n",
       "      <td>1600.0</td>\n",
       "    </tr>\n",
       "    <tr>\n",
       "      <th>4355</th>\n",
       "      <td>867</td>\n",
       "      <td>2019-06-04 14:57:17</td>\n",
       "      <td>1599.0</td>\n",
       "    </tr>\n",
       "    <tr>\n",
       "      <th>5978</th>\n",
       "      <td>1214</td>\n",
       "      <td>2019-06-16 05:32:00</td>\n",
       "      <td>1208.0</td>\n",
       "    </tr>\n",
       "    <tr>\n",
       "      <th>5979</th>\n",
       "      <td>1214</td>\n",
       "      <td>2019-06-16 05:49:01</td>\n",
       "      <td>1608.0</td>\n",
       "    </tr>\n",
       "    <tr>\n",
       "      <th>5980</th>\n",
       "      <td>1214</td>\n",
       "      <td>2019-06-16 05:51:28</td>\n",
       "      <td>1608.0</td>\n",
       "    </tr>\n",
       "    <tr>\n",
       "      <th>5981</th>\n",
       "      <td>1214</td>\n",
       "      <td>2019-06-16 05:51:38</td>\n",
       "      <td>1608.0</td>\n",
       "    </tr>\n",
       "    <tr>\n",
       "      <th>5982</th>\n",
       "      <td>1214</td>\n",
       "      <td>2019-06-16 05:52:41</td>\n",
       "      <td>1608.0</td>\n",
       "    </tr>\n",
       "    <tr>\n",
       "      <th>5983</th>\n",
       "      <td>1214</td>\n",
       "      <td>2019-06-16 05:53:03</td>\n",
       "      <td>1608.0</td>\n",
       "    </tr>\n",
       "    <tr>\n",
       "      <th>5984</th>\n",
       "      <td>1214</td>\n",
       "      <td>2019-06-16 05:53:13</td>\n",
       "      <td>1608.0</td>\n",
       "    </tr>\n",
       "    <tr>\n",
       "      <th>5985</th>\n",
       "      <td>1214</td>\n",
       "      <td>2019-06-16 05:54:48</td>\n",
       "      <td>1604.0</td>\n",
       "    </tr>\n",
       "    <tr>\n",
       "      <th>5986</th>\n",
       "      <td>1214</td>\n",
       "      <td>2019-06-16 05:57:21</td>\n",
       "      <td>1604.0</td>\n",
       "    </tr>\n",
       "    <tr>\n",
       "      <th>5987</th>\n",
       "      <td>1214</td>\n",
       "      <td>2019-06-16 06:00:25</td>\n",
       "      <td>1604.0</td>\n",
       "    </tr>\n",
       "    <tr>\n",
       "      <th>5988</th>\n",
       "      <td>1214</td>\n",
       "      <td>2019-06-16 06:06:12</td>\n",
       "      <td>1600.0</td>\n",
       "    </tr>\n",
       "    <tr>\n",
       "      <th>5989</th>\n",
       "      <td>1214</td>\n",
       "      <td>2019-06-16 06:07:28</td>\n",
       "      <td>1596.0</td>\n",
       "    </tr>\n",
       "    <tr>\n",
       "      <th>5990</th>\n",
       "      <td>1214</td>\n",
       "      <td>2019-06-16 06:08:28</td>\n",
       "      <td>1596.0</td>\n",
       "    </tr>\n",
       "    <tr>\n",
       "      <th>5991</th>\n",
       "      <td>1214</td>\n",
       "      <td>2019-06-16 06:09:10</td>\n",
       "      <td>1603.0</td>\n",
       "    </tr>\n",
       "    <tr>\n",
       "      <th>5992</th>\n",
       "      <td>1214</td>\n",
       "      <td>2019-06-16 06:12:25</td>\n",
       "      <td>1591.0</td>\n",
       "    </tr>\n",
       "    <tr>\n",
       "      <th>5993</th>\n",
       "      <td>1214</td>\n",
       "      <td>2019-06-16 06:14:45</td>\n",
       "      <td>1591.0</td>\n",
       "    </tr>\n",
       "    <tr>\n",
       "      <th>7958</th>\n",
       "      <td>1619</td>\n",
       "      <td>2019-06-30 11:03:54</td>\n",
       "      <td>1218.0</td>\n",
       "    </tr>\n",
       "    <tr>\n",
       "      <th>7959</th>\n",
       "      <td>1619</td>\n",
       "      <td>2019-06-30 11:04:39</td>\n",
       "      <td>1623.0</td>\n",
       "    </tr>\n",
       "    <tr>\n",
       "      <th>7960</th>\n",
       "      <td>1619</td>\n",
       "      <td>2019-06-30 11:10:01</td>\n",
       "      <td>1611.0</td>\n",
       "    </tr>\n",
       "    <tr>\n",
       "      <th>7961</th>\n",
       "      <td>1619</td>\n",
       "      <td>2019-06-30 11:16:03</td>\n",
       "      <td>1603.0</td>\n",
       "    </tr>\n",
       "    <tr>\n",
       "      <th>7962</th>\n",
       "      <td>1619</td>\n",
       "      <td>2019-06-30 11:21:54</td>\n",
       "      <td>1590.0</td>\n",
       "    </tr>\n",
       "    <tr>\n",
       "      <th>8907</th>\n",
       "      <td>1818</td>\n",
       "      <td>2019-07-07 00:00:14</td>\n",
       "      <td>1627.0</td>\n",
       "    </tr>\n",
       "    <tr>\n",
       "      <th>8908</th>\n",
       "      <td>1818</td>\n",
       "      <td>2019-07-07 00:13:02</td>\n",
       "      <td>1650.0</td>\n",
       "    </tr>\n",
       "    <tr>\n",
       "      <th>8909</th>\n",
       "      <td>1818</td>\n",
       "      <td>2019-07-07 00:25:28</td>\n",
       "      <td>1650.0</td>\n",
       "    </tr>\n",
       "    <tr>\n",
       "      <th>8910</th>\n",
       "      <td>1818</td>\n",
       "      <td>2019-07-07 00:26:03</td>\n",
       "      <td>1650.0</td>\n",
       "    </tr>\n",
       "    <tr>\n",
       "      <th>8911</th>\n",
       "      <td>1818</td>\n",
       "      <td>2019-07-07 00:26:42</td>\n",
       "      <td>1650.0</td>\n",
       "    </tr>\n",
       "    <tr>\n",
       "      <th>8912</th>\n",
       "      <td>1818</td>\n",
       "      <td>2019-07-07 00:27:23</td>\n",
       "      <td>1663.0</td>\n",
       "    </tr>\n",
       "    <tr>\n",
       "      <th>8913</th>\n",
       "      <td>1818</td>\n",
       "      <td>2019-07-07 00:30:49</td>\n",
       "      <td>1383.0</td>\n",
       "    </tr>\n",
       "    <tr>\n",
       "      <th>8914</th>\n",
       "      <td>1818</td>\n",
       "      <td>2019-07-07 00:31:40</td>\n",
       "      <td>1383.0</td>\n",
       "    </tr>\n",
       "    <tr>\n",
       "      <th>8915</th>\n",
       "      <td>1818</td>\n",
       "      <td>2019-07-07 00:32:55</td>\n",
       "      <td>1680.0</td>\n",
       "    </tr>\n",
       "    <tr>\n",
       "      <th>8916</th>\n",
       "      <td>1818</td>\n",
       "      <td>2019-07-07 00:36:11</td>\n",
       "      <td>1667.0</td>\n",
       "    </tr>\n",
       "    <tr>\n",
       "      <th>8917</th>\n",
       "      <td>1818</td>\n",
       "      <td>2019-07-07 00:36:45</td>\n",
       "      <td>1667.0</td>\n",
       "    </tr>\n",
       "    <tr>\n",
       "      <th>8918</th>\n",
       "      <td>1818</td>\n",
       "      <td>2019-07-07 00:38:50</td>\n",
       "      <td>1671.0</td>\n",
       "    </tr>\n",
       "    <tr>\n",
       "      <th>10127</th>\n",
       "      <td>2052</td>\n",
       "      <td>2019-07-21 14:51:40</td>\n",
       "      <td>1227.0</td>\n",
       "    </tr>\n",
       "    <tr>\n",
       "      <th>10128</th>\n",
       "      <td>2052</td>\n",
       "      <td>2019-07-21 14:52:21</td>\n",
       "      <td>1592.0</td>\n",
       "    </tr>\n",
       "    <tr>\n",
       "      <th>10129</th>\n",
       "      <td>2052</td>\n",
       "      <td>2019-07-21 15:06:31</td>\n",
       "      <td>1590.0</td>\n",
       "    </tr>\n",
       "    <tr>\n",
       "      <th>10130</th>\n",
       "      <td>2052</td>\n",
       "      <td>2019-07-21 15:15:24</td>\n",
       "      <td>1591.0</td>\n",
       "    </tr>\n",
       "    <tr>\n",
       "      <th>10131</th>\n",
       "      <td>2052</td>\n",
       "      <td>2019-07-21 15:24:06</td>\n",
       "      <td>1592.0</td>\n",
       "    </tr>\n",
       "  </tbody>\n",
       "</table>\n",
       "</div>"
      ],
      "text/plain": [
       "        key        Время замера  Температура\n",
       "4350    867 2019-06-04 14:21:00       1191.0\n",
       "4351    867 2019-06-04 14:29:35       1575.0\n",
       "4352    867 2019-06-04 14:30:29       1576.0\n",
       "4353    867 2019-06-04 14:43:10       1571.0\n",
       "4354    867 2019-06-04 14:52:54       1600.0\n",
       "4355    867 2019-06-04 14:57:17       1599.0\n",
       "5978   1214 2019-06-16 05:32:00       1208.0\n",
       "5979   1214 2019-06-16 05:49:01       1608.0\n",
       "5980   1214 2019-06-16 05:51:28       1608.0\n",
       "5981   1214 2019-06-16 05:51:38       1608.0\n",
       "5982   1214 2019-06-16 05:52:41       1608.0\n",
       "5983   1214 2019-06-16 05:53:03       1608.0\n",
       "5984   1214 2019-06-16 05:53:13       1608.0\n",
       "5985   1214 2019-06-16 05:54:48       1604.0\n",
       "5986   1214 2019-06-16 05:57:21       1604.0\n",
       "5987   1214 2019-06-16 06:00:25       1604.0\n",
       "5988   1214 2019-06-16 06:06:12       1600.0\n",
       "5989   1214 2019-06-16 06:07:28       1596.0\n",
       "5990   1214 2019-06-16 06:08:28       1596.0\n",
       "5991   1214 2019-06-16 06:09:10       1603.0\n",
       "5992   1214 2019-06-16 06:12:25       1591.0\n",
       "5993   1214 2019-06-16 06:14:45       1591.0\n",
       "7958   1619 2019-06-30 11:03:54       1218.0\n",
       "7959   1619 2019-06-30 11:04:39       1623.0\n",
       "7960   1619 2019-06-30 11:10:01       1611.0\n",
       "7961   1619 2019-06-30 11:16:03       1603.0\n",
       "7962   1619 2019-06-30 11:21:54       1590.0\n",
       "8907   1818 2019-07-07 00:00:14       1627.0\n",
       "8908   1818 2019-07-07 00:13:02       1650.0\n",
       "8909   1818 2019-07-07 00:25:28       1650.0\n",
       "8910   1818 2019-07-07 00:26:03       1650.0\n",
       "8911   1818 2019-07-07 00:26:42       1650.0\n",
       "8912   1818 2019-07-07 00:27:23       1663.0\n",
       "8913   1818 2019-07-07 00:30:49       1383.0\n",
       "8914   1818 2019-07-07 00:31:40       1383.0\n",
       "8915   1818 2019-07-07 00:32:55       1680.0\n",
       "8916   1818 2019-07-07 00:36:11       1667.0\n",
       "8917   1818 2019-07-07 00:36:45       1667.0\n",
       "8918   1818 2019-07-07 00:38:50       1671.0\n",
       "10127  2052 2019-07-21 14:51:40       1227.0\n",
       "10128  2052 2019-07-21 14:52:21       1592.0\n",
       "10129  2052 2019-07-21 15:06:31       1590.0\n",
       "10130  2052 2019-07-21 15:15:24       1591.0\n",
       "10131  2052 2019-07-21 15:24:06       1592.0"
      ]
     },
     "execution_count": 87,
     "metadata": {},
     "output_type": "execute_result"
    }
   ],
   "source": [
    "# Вщглянем более детально на партии, содержащие такую низкую температуру\n",
    "\n",
    "low_temp_key = data_temp[data_temp['Температура'] <= 1450]['key'].values.tolist()\n",
    "\n",
    "data_temp[data_temp['key'].isin(low_temp_key)]"
   ]
  },
  {
   "cell_type": "markdown",
   "metadata": {},
   "source": [
    "Во всех партиях, за исключением 1818, низкая температура приходится на 1-2 измерения - не будем удалять такие партии, поскольку в целом такое имеет место быть. В ковш может подаваться не до конца расплавленная сталь на начальном этапе - и только похже ковш начинают разогревать дальше и температура сплава повышается.\n",
    "\n",
    "Но и 1818 партию мы тоже трогать не будем, поскольку низкая температура в ней возникает не на первом и последнем замерах (которые важны для нас с точки зрения обучающией выборки). Поскольку промежуточные замеры как признаки мы не будем забирать - оставим данную партию в наших данных"
   ]
  },
  {
   "cell_type": "markdown",
   "metadata": {},
   "source": [
    "### Batches Timeline"
   ]
  },
  {
   "cell_type": "markdown",
   "metadata": {},
   "source": [
    "At this stage, we will see how the events of feeding of the alloying materials (bulk materials and wire) fit into the interval between the initial and final measurements of the alloy temperature"
   ]
  },
  {
   "cell_type": "code",
   "execution_count": 88,
   "metadata": {},
   "outputs": [],
   "source": [
    "data_bulk_time['bulk_min'] = data_bulk_time.loc[:, data_bulk_time.columns != 'key'].min(axis=1)\n",
    "data_bulk_time['bulk_max'] = data_bulk_time.loc[:, data_bulk_time.columns != 'key'].max(axis=1)\n",
    "\n",
    "data_wire_time['wire_min'] = data_wire_time.loc[:, data_wire_time.columns != 'key'].min(axis=1)\n",
    "data_wire_time['wire_max'] = data_wire_time.loc[:, data_wire_time.columns != 'key'].max(axis=1)\n",
    "\n",
    "bulk_wire = pd.merge(data_wire_time[['key','wire_min', 'wire_max']], data_bulk_time[['key','bulk_min', 'bulk_max']],\n",
    "                    on='key', how='outer')\n",
    "\n",
    "data_temp_min = pd.pivot_table(data_temp, values='Время замера', index='key', aggfunc='min')\n",
    "data_temp_max = pd.pivot_table(data_temp, values='Время замера', index='key', aggfunc='max')\n",
    "time_problem = pd.merge(data_temp_min, data_temp_max, on=['key'], how='inner', suffixes=('_min', '_max'))\n",
    "\n",
    "problem_time = pd.merge(time_problem, bulk_wire, \\\n",
    "                        on=['key'], how='inner', suffixes=('_min', '_max'))"
   ]
  },
  {
   "cell_type": "code",
   "execution_count": 89,
   "metadata": {
    "scrolled": true
   },
   "outputs": [
    {
     "data": {
      "text/html": [
       "<div>\n",
       "<style scoped>\n",
       "    .dataframe tbody tr th:only-of-type {\n",
       "        vertical-align: middle;\n",
       "    }\n",
       "\n",
       "    .dataframe tbody tr th {\n",
       "        vertical-align: top;\n",
       "    }\n",
       "\n",
       "    .dataframe thead th {\n",
       "        text-align: right;\n",
       "    }\n",
       "</style>\n",
       "<table border=\"1\" class=\"dataframe\">\n",
       "  <thead>\n",
       "    <tr style=\"text-align: right;\">\n",
       "      <th></th>\n",
       "      <th>key</th>\n",
       "      <th>Время замера_min</th>\n",
       "      <th>Время замера_max</th>\n",
       "      <th>wire_min</th>\n",
       "      <th>wire_max</th>\n",
       "      <th>bulk_min</th>\n",
       "      <th>bulk_max</th>\n",
       "    </tr>\n",
       "  </thead>\n",
       "  <tbody>\n",
       "    <tr>\n",
       "      <th>0</th>\n",
       "      <td>1</td>\n",
       "      <td>2019-05-03 11:16:18</td>\n",
       "      <td>2019-05-03 11:30:39</td>\n",
       "      <td>2019-05-03 11:11:41</td>\n",
       "      <td>2019-05-03 11:11:41</td>\n",
       "      <td>2019-05-03 11:03:52</td>\n",
       "      <td>2019-05-03 11:21:30</td>\n",
       "    </tr>\n",
       "    <tr>\n",
       "      <th>2</th>\n",
       "      <td>3</td>\n",
       "      <td>2019-05-03 12:13:17</td>\n",
       "      <td>2019-05-03 12:34:57</td>\n",
       "      <td>2019-05-03 12:13:47</td>\n",
       "      <td>2019-05-03 12:13:47</td>\n",
       "      <td>2019-05-03 12:09:40</td>\n",
       "      <td>2019-05-03 12:31:06</td>\n",
       "    </tr>\n",
       "    <tr>\n",
       "      <th>3</th>\n",
       "      <td>4</td>\n",
       "      <td>2019-05-03 12:52:57</td>\n",
       "      <td>2019-05-03 12:59:25</td>\n",
       "      <td>2019-05-03 12:48:05</td>\n",
       "      <td>2019-05-03 12:48:05</td>\n",
       "      <td>2019-05-03 12:41:24</td>\n",
       "      <td>2019-05-03 12:48:43</td>\n",
       "    </tr>\n",
       "    <tr>\n",
       "      <th>4</th>\n",
       "      <td>5</td>\n",
       "      <td>2019-05-03 13:23:19</td>\n",
       "      <td>2019-05-03 13:36:01</td>\n",
       "      <td>2019-05-03 13:18:15</td>\n",
       "      <td>2019-05-03 13:32:06</td>\n",
       "      <td>2019-05-03 13:12:56</td>\n",
       "      <td>2019-05-03 13:18:50</td>\n",
       "    </tr>\n",
       "    <tr>\n",
       "      <th>7</th>\n",
       "      <td>8</td>\n",
       "      <td>2019-05-03 15:07:18</td>\n",
       "      <td>2019-05-03 15:22:52</td>\n",
       "      <td>2019-05-03 15:03:42</td>\n",
       "      <td>2019-05-03 15:03:42</td>\n",
       "      <td>2019-05-03 14:55:46</td>\n",
       "      <td>2019-05-03 15:04:05</td>\n",
       "    </tr>\n",
       "    <tr>\n",
       "      <th>...</th>\n",
       "      <td>...</td>\n",
       "      <td>...</td>\n",
       "      <td>...</td>\n",
       "      <td>...</td>\n",
       "      <td>...</td>\n",
       "      <td>...</td>\n",
       "      <td>...</td>\n",
       "    </tr>\n",
       "    <tr>\n",
       "      <th>2399</th>\n",
       "      <td>2494</td>\n",
       "      <td>2019-08-06 00:12:55</td>\n",
       "      <td>2019-08-06 00:23:21</td>\n",
       "      <td>2019-08-06 00:12:37</td>\n",
       "      <td>2019-08-06 00:12:37</td>\n",
       "      <td>2019-08-06 00:07:25</td>\n",
       "      <td>2019-08-06 00:12:53</td>\n",
       "    </tr>\n",
       "    <tr>\n",
       "      <th>2400</th>\n",
       "      <td>2495</td>\n",
       "      <td>2019-08-06 00:35:45</td>\n",
       "      <td>2019-08-06 00:54:42</td>\n",
       "      <td>2019-08-06 00:36:13</td>\n",
       "      <td>2019-08-06 00:36:13</td>\n",
       "      <td>2019-08-06 00:32:18</td>\n",
       "      <td>2019-08-06 00:49:21</td>\n",
       "    </tr>\n",
       "    <tr>\n",
       "      <th>2402</th>\n",
       "      <td>2497</td>\n",
       "      <td>2019-08-06 01:41:53</td>\n",
       "      <td>2019-08-06 01:53:50</td>\n",
       "      <td>2019-08-06 01:42:27</td>\n",
       "      <td>2019-08-06 01:42:51</td>\n",
       "      <td>2019-08-06 01:38:53</td>\n",
       "      <td>2019-08-06 01:43:02</td>\n",
       "    </tr>\n",
       "    <tr>\n",
       "      <th>2403</th>\n",
       "      <td>2498</td>\n",
       "      <td>2019-08-06 02:03:49</td>\n",
       "      <td>2019-08-06 02:25:31</td>\n",
       "      <td>2019-08-06 02:04:20</td>\n",
       "      <td>2019-08-06 02:04:20</td>\n",
       "      <td>2019-08-06 01:59:25</td>\n",
       "      <td>2019-08-06 02:05:26</td>\n",
       "    </tr>\n",
       "    <tr>\n",
       "      <th>2404</th>\n",
       "      <td>2499</td>\n",
       "      <td>2019-08-06 02:40:25</td>\n",
       "      <td>2019-08-06 03:00:28</td>\n",
       "      <td>2019-08-06 02:39:57</td>\n",
       "      <td>2019-08-06 02:41:06</td>\n",
       "      <td>2019-08-06 02:35:52</td>\n",
       "      <td>2019-08-06 02:40:36</td>\n",
       "    </tr>\n",
       "  </tbody>\n",
       "</table>\n",
       "<p>412 rows × 7 columns</p>\n",
       "</div>"
      ],
      "text/plain": [
       "       key    Время замера_min    Время замера_max            wire_min  \\\n",
       "0        1 2019-05-03 11:16:18 2019-05-03 11:30:39 2019-05-03 11:11:41   \n",
       "2        3 2019-05-03 12:13:17 2019-05-03 12:34:57 2019-05-03 12:13:47   \n",
       "3        4 2019-05-03 12:52:57 2019-05-03 12:59:25 2019-05-03 12:48:05   \n",
       "4        5 2019-05-03 13:23:19 2019-05-03 13:36:01 2019-05-03 13:18:15   \n",
       "7        8 2019-05-03 15:07:18 2019-05-03 15:22:52 2019-05-03 15:03:42   \n",
       "...    ...                 ...                 ...                 ...   \n",
       "2399  2494 2019-08-06 00:12:55 2019-08-06 00:23:21 2019-08-06 00:12:37   \n",
       "2400  2495 2019-08-06 00:35:45 2019-08-06 00:54:42 2019-08-06 00:36:13   \n",
       "2402  2497 2019-08-06 01:41:53 2019-08-06 01:53:50 2019-08-06 01:42:27   \n",
       "2403  2498 2019-08-06 02:03:49 2019-08-06 02:25:31 2019-08-06 02:04:20   \n",
       "2404  2499 2019-08-06 02:40:25 2019-08-06 03:00:28 2019-08-06 02:39:57   \n",
       "\n",
       "                wire_max            bulk_min            bulk_max  \n",
       "0    2019-05-03 11:11:41 2019-05-03 11:03:52 2019-05-03 11:21:30  \n",
       "2    2019-05-03 12:13:47 2019-05-03 12:09:40 2019-05-03 12:31:06  \n",
       "3    2019-05-03 12:48:05 2019-05-03 12:41:24 2019-05-03 12:48:43  \n",
       "4    2019-05-03 13:32:06 2019-05-03 13:12:56 2019-05-03 13:18:50  \n",
       "7    2019-05-03 15:03:42 2019-05-03 14:55:46 2019-05-03 15:04:05  \n",
       "...                  ...                 ...                 ...  \n",
       "2399 2019-08-06 00:12:37 2019-08-06 00:07:25 2019-08-06 00:12:53  \n",
       "2400 2019-08-06 00:36:13 2019-08-06 00:32:18 2019-08-06 00:49:21  \n",
       "2402 2019-08-06 01:42:51 2019-08-06 01:38:53 2019-08-06 01:43:02  \n",
       "2403 2019-08-06 02:04:20 2019-08-06 01:59:25 2019-08-06 02:05:26  \n",
       "2404 2019-08-06 02:41:06 2019-08-06 02:35:52 2019-08-06 02:40:36  \n",
       "\n",
       "[412 rows x 7 columns]"
      ]
     },
     "metadata": {},
     "output_type": "display_data"
    },
    {
     "data": {
      "text/html": [
       "<div>\n",
       "<style scoped>\n",
       "    .dataframe tbody tr th:only-of-type {\n",
       "        vertical-align: middle;\n",
       "    }\n",
       "\n",
       "    .dataframe tbody tr th {\n",
       "        vertical-align: top;\n",
       "    }\n",
       "\n",
       "    .dataframe thead th {\n",
       "        text-align: right;\n",
       "    }\n",
       "</style>\n",
       "<table border=\"1\" class=\"dataframe\">\n",
       "  <thead>\n",
       "    <tr style=\"text-align: right;\">\n",
       "      <th></th>\n",
       "      <th>key</th>\n",
       "      <th>Время замера_min</th>\n",
       "      <th>Время замера_max</th>\n",
       "      <th>wire_min</th>\n",
       "      <th>wire_max</th>\n",
       "      <th>bulk_min</th>\n",
       "      <th>bulk_max</th>\n",
       "    </tr>\n",
       "  </thead>\n",
       "  <tbody>\n",
       "    <tr>\n",
       "      <th>1195</th>\n",
       "      <td>1244</td>\n",
       "      <td>2019-06-17 08:32:36</td>\n",
       "      <td>2019-06-17 08:45:16</td>\n",
       "      <td>2019-06-17 08:33:55</td>\n",
       "      <td>2019-06-17 08:49:29</td>\n",
       "      <td>2019-06-17 08:49:23</td>\n",
       "      <td>2019-06-17 08:49:23</td>\n",
       "    </tr>\n",
       "    <tr>\n",
       "      <th>1264</th>\n",
       "      <td>1316</td>\n",
       "      <td>2019-06-19 17:21:09</td>\n",
       "      <td>2019-06-19 17:34:42</td>\n",
       "      <td>2019-06-19 17:23:55</td>\n",
       "      <td>2019-06-19 17:23:55</td>\n",
       "      <td>2019-06-19 17:35:26</td>\n",
       "      <td>2019-06-19 17:35:26</td>\n",
       "    </tr>\n",
       "    <tr>\n",
       "      <th>1437</th>\n",
       "      <td>1493</td>\n",
       "      <td>2019-06-26 05:52:05</td>\n",
       "      <td>2019-06-26 06:47:47</td>\n",
       "      <td>2019-06-26 06:37:40</td>\n",
       "      <td>2019-06-26 06:37:40</td>\n",
       "      <td>2019-06-26 05:56:51</td>\n",
       "      <td>2019-06-26 06:51:49</td>\n",
       "    </tr>\n",
       "    <tr>\n",
       "      <th>1449</th>\n",
       "      <td>1505</td>\n",
       "      <td>2019-06-26 14:08:27</td>\n",
       "      <td>2019-06-26 14:14:29</td>\n",
       "      <td>2019-06-26 14:14:50</td>\n",
       "      <td>2019-06-26 14:18:01</td>\n",
       "      <td>2019-06-26 14:17:30</td>\n",
       "      <td>2019-06-26 14:17:30</td>\n",
       "    </tr>\n",
       "    <tr>\n",
       "      <th>1492</th>\n",
       "      <td>1549</td>\n",
       "      <td>2019-06-28 05:14:29</td>\n",
       "      <td>2019-06-28 05:32:46</td>\n",
       "      <td>2019-06-28 05:21:40</td>\n",
       "      <td>2019-06-28 05:21:40</td>\n",
       "      <td>2019-06-28 05:17:08</td>\n",
       "      <td>2019-06-28 05:33:18</td>\n",
       "    </tr>\n",
       "    <tr>\n",
       "      <th>1809</th>\n",
       "      <td>1873</td>\n",
       "      <td>2019-07-08 21:36:22</td>\n",
       "      <td>2019-07-08 22:09:51</td>\n",
       "      <td>2019-07-08 22:00:47</td>\n",
       "      <td>2019-07-08 22:00:47</td>\n",
       "      <td>2019-07-08 21:39:55</td>\n",
       "      <td>2019-07-08 22:13:14</td>\n",
       "    </tr>\n",
       "    <tr>\n",
       "      <th>2060</th>\n",
       "      <td>2137</td>\n",
       "      <td>2019-07-24 15:51:39</td>\n",
       "      <td>2019-07-24 16:53:42</td>\n",
       "      <td>2019-07-24 16:33:10</td>\n",
       "      <td>2019-07-24 16:35:46</td>\n",
       "      <td>2019-07-24 16:24:28</td>\n",
       "      <td>2019-07-24 16:53:54</td>\n",
       "    </tr>\n",
       "    <tr>\n",
       "      <th>2330</th>\n",
       "      <td>2421</td>\n",
       "      <td>2019-08-03 08:46:50</td>\n",
       "      <td>2019-08-03 09:06:23</td>\n",
       "      <td>2019-08-03 08:51:33</td>\n",
       "      <td>2019-08-03 08:54:27</td>\n",
       "      <td>2019-08-03 08:49:32</td>\n",
       "      <td>2019-08-03 09:06:24</td>\n",
       "    </tr>\n",
       "  </tbody>\n",
       "</table>\n",
       "</div>"
      ],
      "text/plain": [
       "       key    Время замера_min    Время замера_max            wire_min  \\\n",
       "1195  1244 2019-06-17 08:32:36 2019-06-17 08:45:16 2019-06-17 08:33:55   \n",
       "1264  1316 2019-06-19 17:21:09 2019-06-19 17:34:42 2019-06-19 17:23:55   \n",
       "1437  1493 2019-06-26 05:52:05 2019-06-26 06:47:47 2019-06-26 06:37:40   \n",
       "1449  1505 2019-06-26 14:08:27 2019-06-26 14:14:29 2019-06-26 14:14:50   \n",
       "1492  1549 2019-06-28 05:14:29 2019-06-28 05:32:46 2019-06-28 05:21:40   \n",
       "1809  1873 2019-07-08 21:36:22 2019-07-08 22:09:51 2019-07-08 22:00:47   \n",
       "2060  2137 2019-07-24 15:51:39 2019-07-24 16:53:42 2019-07-24 16:33:10   \n",
       "2330  2421 2019-08-03 08:46:50 2019-08-03 09:06:23 2019-08-03 08:51:33   \n",
       "\n",
       "                wire_max            bulk_min            bulk_max  \n",
       "1195 2019-06-17 08:49:29 2019-06-17 08:49:23 2019-06-17 08:49:23  \n",
       "1264 2019-06-19 17:23:55 2019-06-19 17:35:26 2019-06-19 17:35:26  \n",
       "1437 2019-06-26 06:37:40 2019-06-26 05:56:51 2019-06-26 06:51:49  \n",
       "1449 2019-06-26 14:18:01 2019-06-26 14:17:30 2019-06-26 14:17:30  \n",
       "1492 2019-06-28 05:21:40 2019-06-28 05:17:08 2019-06-28 05:33:18  \n",
       "1809 2019-07-08 22:00:47 2019-07-08 21:39:55 2019-07-08 22:13:14  \n",
       "2060 2019-07-24 16:35:46 2019-07-24 16:24:28 2019-07-24 16:53:54  \n",
       "2330 2019-08-03 08:54:27 2019-08-03 08:49:32 2019-08-03 09:06:24  "
      ]
     },
     "metadata": {},
     "output_type": "display_data"
    }
   ],
   "source": [
    "display(problem_time[(problem_time['wire_min'] < problem_time['Время замера_min']) | \\\n",
    "             (problem_time['bulk_min'] < problem_time['Время замера_min'])])\n",
    "\n",
    "display(problem_time[(problem_time['wire_max'] > problem_time['Время замера_max']) | \\\n",
    "             (problem_time['bulk_max'] > problem_time['Время замера_max'])])"
   ]
  },
  {
   "cell_type": "markdown",
   "metadata": {},
   "source": [
    "As we can see, there are quite a lot of such values. Let's fing all the batches that do not fit into the timeline of the data_temp table and delete them to keep the data correct"
   ]
  },
  {
   "cell_type": "code",
   "execution_count": 90,
   "metadata": {
    "scrolled": true
   },
   "outputs": [
    {
     "name": "stdout",
     "output_type": "stream",
     "text": [
      "Удалено партий: 420\n",
      "%: 17.27%\n"
     ]
    }
   ],
   "source": [
    "# search for batches\n",
    "\n",
    "keys_delete_min = problem_time[(problem_time['wire_min'] < problem_time['Время замера_min']) | \\\n",
    "                               (problem_time['bulk_min'] < problem_time['Время замера_min'])]['key'].unique().tolist()\n",
    "\n",
    "keys_delete_max = problem_time[(problem_time['wire_max'] > problem_time['Время замера_max']) | \\\n",
    "                               (problem_time['bulk_max'] > problem_time['Время замера_max'])]['key'].unique().tolist()\n",
    "\n",
    "\n",
    "# remove the batches\n",
    "\n",
    "print('Удалено партий: {:}'.format((len(keys_delete_min) + len(keys_delete_max))))\n",
    "print('%: {:.2%}'.format((len(keys_delete_min) + len(keys_delete_max)) / len(data_temp['key'].unique())))\n",
    "\n",
    "data_temp = data_temp[~data_temp['key'].isin(keys_delete_min)]\n",
    "data_temp = data_temp[~data_temp['key'].isin(keys_delete_max)]"
   ]
  },
  {
   "cell_type": "markdown",
   "metadata": {},
   "source": [
    "The same problem can occur for the electrode table **`data_arc`**. Let's check if there are also batches for which heating with electrodes starts before temperature measurement (or vice versa)."
   ]
  },
  {
   "cell_type": "code",
   "execution_count": 91,
   "metadata": {
    "scrolled": true
   },
   "outputs": [
    {
     "data": {
      "text/html": [
       "<div>\n",
       "<style scoped>\n",
       "    .dataframe tbody tr th:only-of-type {\n",
       "        vertical-align: middle;\n",
       "    }\n",
       "\n",
       "    .dataframe tbody tr th {\n",
       "        vertical-align: top;\n",
       "    }\n",
       "\n",
       "    .dataframe thead th {\n",
       "        text-align: right;\n",
       "    }\n",
       "</style>\n",
       "<table border=\"1\" class=\"dataframe\">\n",
       "  <thead>\n",
       "    <tr style=\"text-align: right;\">\n",
       "      <th></th>\n",
       "      <th>Время замера_min</th>\n",
       "      <th>Время замера_max</th>\n",
       "      <th>Начало нагрева дугой</th>\n",
       "      <th>Конец нагрева дугой</th>\n",
       "    </tr>\n",
       "    <tr>\n",
       "      <th>key</th>\n",
       "      <th></th>\n",
       "      <th></th>\n",
       "      <th></th>\n",
       "      <th></th>\n",
       "    </tr>\n",
       "  </thead>\n",
       "  <tbody>\n",
       "    <tr>\n",
       "      <th>49</th>\n",
       "      <td>2019-05-05 03:50:08</td>\n",
       "      <td>2019-05-05 04:27:11</td>\n",
       "      <td>2019-05-05 03:45:43</td>\n",
       "      <td>2019-05-05 03:47:49</td>\n",
       "    </tr>\n",
       "    <tr>\n",
       "      <th>246</th>\n",
       "      <td>2019-05-12 10:54:47</td>\n",
       "      <td>2019-05-12 11:09:43</td>\n",
       "      <td>2019-05-12 10:50:13</td>\n",
       "      <td>2019-05-12 10:52:22</td>\n",
       "    </tr>\n",
       "    <tr>\n",
       "      <th>247</th>\n",
       "      <td>2019-05-12 11:56:26</td>\n",
       "      <td>2019-05-12 12:18:22</td>\n",
       "      <td>2019-05-12 11:51:14</td>\n",
       "      <td>2019-05-12 11:54:29</td>\n",
       "    </tr>\n",
       "    <tr>\n",
       "      <th>248</th>\n",
       "      <td>2019-05-12 12:58:56</td>\n",
       "      <td>2019-05-12 13:13:28</td>\n",
       "      <td>2019-05-12 12:53:51</td>\n",
       "      <td>2019-05-12 12:55:58</td>\n",
       "    </tr>\n",
       "    <tr>\n",
       "      <th>269</th>\n",
       "      <td>2019-05-13 10:42:47</td>\n",
       "      <td>2019-05-13 10:51:01</td>\n",
       "      <td>2019-05-13 10:37:00</td>\n",
       "      <td>2019-05-13 10:39:09</td>\n",
       "    </tr>\n",
       "    <tr>\n",
       "      <th>343</th>\n",
       "      <td>2019-05-16 04:24:32</td>\n",
       "      <td>2019-05-16 04:37:43</td>\n",
       "      <td>2019-05-16 04:21:00</td>\n",
       "      <td>2019-05-16 04:23:48</td>\n",
       "    </tr>\n",
       "    <tr>\n",
       "      <th>530</th>\n",
       "      <td>2019-05-22 22:53:46</td>\n",
       "      <td>2019-05-22 23:09:00</td>\n",
       "      <td>2019-05-22 22:48:30</td>\n",
       "      <td>2019-05-22 22:52:31</td>\n",
       "    </tr>\n",
       "    <tr>\n",
       "      <th>556</th>\n",
       "      <td>2019-05-24 01:22:16</td>\n",
       "      <td>2019-05-24 01:33:24</td>\n",
       "      <td>2019-05-24 01:19:05</td>\n",
       "      <td>2019-05-24 01:21:10</td>\n",
       "    </tr>\n",
       "    <tr>\n",
       "      <th>614</th>\n",
       "      <td>2019-05-26 00:13:20</td>\n",
       "      <td>2019-05-26 00:32:40</td>\n",
       "      <td>2019-05-26 00:10:01</td>\n",
       "      <td>2019-05-26 00:12:13</td>\n",
       "    </tr>\n",
       "    <tr>\n",
       "      <th>661</th>\n",
       "      <td>2019-05-27 18:03:47</td>\n",
       "      <td>2019-05-27 18:30:33</td>\n",
       "      <td>2019-05-27 18:00:40</td>\n",
       "      <td>2019-05-27 18:02:44</td>\n",
       "    </tr>\n",
       "    <tr>\n",
       "      <th>732</th>\n",
       "      <td>2019-05-30 09:57:52</td>\n",
       "      <td>2019-05-30 10:07:59</td>\n",
       "      <td>2019-05-30 09:54:19</td>\n",
       "      <td>2019-05-30 09:57:09</td>\n",
       "    </tr>\n",
       "    <tr>\n",
       "      <th>883</th>\n",
       "      <td>2019-06-05 01:53:14</td>\n",
       "      <td>2019-06-05 02:03:36</td>\n",
       "      <td>2019-06-05 01:41:11</td>\n",
       "      <td>2019-06-05 01:51:18</td>\n",
       "    </tr>\n",
       "    <tr>\n",
       "      <th>977</th>\n",
       "      <td>2019-06-08 06:16:11</td>\n",
       "      <td>2019-06-08 06:20:07</td>\n",
       "      <td>2019-06-08 06:11:12</td>\n",
       "      <td>2019-06-08 06:12:09</td>\n",
       "    </tr>\n",
       "    <tr>\n",
       "      <th>1169</th>\n",
       "      <td>2019-06-14 20:23:11</td>\n",
       "      <td>2019-06-14 20:35:42</td>\n",
       "      <td>2019-06-14 20:19:14</td>\n",
       "      <td>2019-06-14 20:22:14</td>\n",
       "    </tr>\n",
       "    <tr>\n",
       "      <th>1268</th>\n",
       "      <td>2019-06-18 04:12:27</td>\n",
       "      <td>2019-06-18 04:35:04</td>\n",
       "      <td>2019-06-18 04:09:14</td>\n",
       "      <td>2019-06-18 04:11:31</td>\n",
       "    </tr>\n",
       "    <tr>\n",
       "      <th>1281</th>\n",
       "      <td>2019-06-18 14:41:47</td>\n",
       "      <td>2019-06-18 14:57:56</td>\n",
       "      <td>2019-06-18 14:37:38</td>\n",
       "      <td>2019-06-18 14:39:50</td>\n",
       "    </tr>\n",
       "    <tr>\n",
       "      <th>1369</th>\n",
       "      <td>2019-06-21 19:35:56</td>\n",
       "      <td>2019-06-21 19:47:59</td>\n",
       "      <td>2019-06-21 19:31:19</td>\n",
       "      <td>2019-06-21 19:33:18</td>\n",
       "    </tr>\n",
       "    <tr>\n",
       "      <th>1449</th>\n",
       "      <td>2019-06-24 12:40:26</td>\n",
       "      <td>2019-06-24 13:05:01</td>\n",
       "      <td>2019-06-24 12:37:28</td>\n",
       "      <td>2019-06-24 12:39:42</td>\n",
       "    </tr>\n",
       "    <tr>\n",
       "      <th>1535</th>\n",
       "      <td>2019-06-27 21:11:10</td>\n",
       "      <td>2019-06-27 21:35:53</td>\n",
       "      <td>2019-06-27 21:06:34</td>\n",
       "      <td>2019-06-27 21:09:41</td>\n",
       "    </tr>\n",
       "    <tr>\n",
       "      <th>1568</th>\n",
       "      <td>2019-06-28 21:07:26</td>\n",
       "      <td>2019-06-28 21:14:52</td>\n",
       "      <td>2019-06-28 21:03:27</td>\n",
       "      <td>2019-06-28 21:06:42</td>\n",
       "    </tr>\n",
       "    <tr>\n",
       "      <th>1766</th>\n",
       "      <td>2019-07-05 05:16:18</td>\n",
       "      <td>2019-07-05 05:55:39</td>\n",
       "      <td>2019-07-05 05:14:35</td>\n",
       "      <td>2019-07-05 05:15:39</td>\n",
       "    </tr>\n",
       "    <tr>\n",
       "      <th>1911</th>\n",
       "      <td>2019-07-15 13:41:46</td>\n",
       "      <td>2019-07-15 13:48:15</td>\n",
       "      <td>2019-07-15 13:38:46</td>\n",
       "      <td>2019-07-15 13:40:50</td>\n",
       "    </tr>\n",
       "    <tr>\n",
       "      <th>1914</th>\n",
       "      <td>2019-07-15 18:35:31</td>\n",
       "      <td>2019-07-15 18:57:36</td>\n",
       "      <td>2019-07-15 18:32:52</td>\n",
       "      <td>2019-07-15 18:34:43</td>\n",
       "    </tr>\n",
       "    <tr>\n",
       "      <th>1962</th>\n",
       "      <td>2019-07-18 06:53:18</td>\n",
       "      <td>2019-07-18 07:13:31</td>\n",
       "      <td>2019-07-18 06:46:09</td>\n",
       "      <td>2019-07-18 06:52:27</td>\n",
       "    </tr>\n",
       "    <tr>\n",
       "      <th>1974</th>\n",
       "      <td>2019-07-18 16:29:00</td>\n",
       "      <td>2019-07-18 16:42:17</td>\n",
       "      <td>2019-07-18 16:26:08</td>\n",
       "      <td>2019-07-18 16:28:05</td>\n",
       "    </tr>\n",
       "    <tr>\n",
       "      <th>1988</th>\n",
       "      <td>2019-07-19 07:23:43</td>\n",
       "      <td>2019-07-19 07:53:39</td>\n",
       "      <td>2019-07-19 07:20:11</td>\n",
       "      <td>2019-07-19 07:21:58</td>\n",
       "    </tr>\n",
       "    <tr>\n",
       "      <th>2025</th>\n",
       "      <td>2019-07-20 17:30:27</td>\n",
       "      <td>2019-07-20 17:50:12</td>\n",
       "      <td>2019-07-20 17:24:06</td>\n",
       "      <td>2019-07-20 17:28:09</td>\n",
       "    </tr>\n",
       "    <tr>\n",
       "      <th>2112</th>\n",
       "      <td>2019-07-23 22:21:06</td>\n",
       "      <td>2019-07-23 22:36:59</td>\n",
       "      <td>2019-07-23 22:18:00</td>\n",
       "      <td>2019-07-23 22:20:05</td>\n",
       "    </tr>\n",
       "    <tr>\n",
       "      <th>2179</th>\n",
       "      <td>2019-07-25 23:18:34</td>\n",
       "      <td>2019-07-25 23:50:25</td>\n",
       "      <td>2019-07-25 23:14:56</td>\n",
       "      <td>2019-07-25 23:17:13</td>\n",
       "    </tr>\n",
       "    <tr>\n",
       "      <th>2194</th>\n",
       "      <td>2019-07-26 09:09:57</td>\n",
       "      <td>2019-07-26 09:16:02</td>\n",
       "      <td>2019-07-26 09:03:27</td>\n",
       "      <td>2019-07-26 09:06:20</td>\n",
       "    </tr>\n",
       "    <tr>\n",
       "      <th>2472</th>\n",
       "      <td>2019-08-05 03:48:28</td>\n",
       "      <td>2019-08-05 04:21:08</td>\n",
       "      <td>2019-08-05 03:44:57</td>\n",
       "      <td>2019-08-05 03:47:38</td>\n",
       "    </tr>\n",
       "  </tbody>\n",
       "</table>\n",
       "</div>"
      ],
      "text/plain": [
       "        Время замера_min    Время замера_max Начало нагрева дугой  \\\n",
       "key                                                                 \n",
       "49   2019-05-05 03:50:08 2019-05-05 04:27:11  2019-05-05 03:45:43   \n",
       "246  2019-05-12 10:54:47 2019-05-12 11:09:43  2019-05-12 10:50:13   \n",
       "247  2019-05-12 11:56:26 2019-05-12 12:18:22  2019-05-12 11:51:14   \n",
       "248  2019-05-12 12:58:56 2019-05-12 13:13:28  2019-05-12 12:53:51   \n",
       "269  2019-05-13 10:42:47 2019-05-13 10:51:01  2019-05-13 10:37:00   \n",
       "343  2019-05-16 04:24:32 2019-05-16 04:37:43  2019-05-16 04:21:00   \n",
       "530  2019-05-22 22:53:46 2019-05-22 23:09:00  2019-05-22 22:48:30   \n",
       "556  2019-05-24 01:22:16 2019-05-24 01:33:24  2019-05-24 01:19:05   \n",
       "614  2019-05-26 00:13:20 2019-05-26 00:32:40  2019-05-26 00:10:01   \n",
       "661  2019-05-27 18:03:47 2019-05-27 18:30:33  2019-05-27 18:00:40   \n",
       "732  2019-05-30 09:57:52 2019-05-30 10:07:59  2019-05-30 09:54:19   \n",
       "883  2019-06-05 01:53:14 2019-06-05 02:03:36  2019-06-05 01:41:11   \n",
       "977  2019-06-08 06:16:11 2019-06-08 06:20:07  2019-06-08 06:11:12   \n",
       "1169 2019-06-14 20:23:11 2019-06-14 20:35:42  2019-06-14 20:19:14   \n",
       "1268 2019-06-18 04:12:27 2019-06-18 04:35:04  2019-06-18 04:09:14   \n",
       "1281 2019-06-18 14:41:47 2019-06-18 14:57:56  2019-06-18 14:37:38   \n",
       "1369 2019-06-21 19:35:56 2019-06-21 19:47:59  2019-06-21 19:31:19   \n",
       "1449 2019-06-24 12:40:26 2019-06-24 13:05:01  2019-06-24 12:37:28   \n",
       "1535 2019-06-27 21:11:10 2019-06-27 21:35:53  2019-06-27 21:06:34   \n",
       "1568 2019-06-28 21:07:26 2019-06-28 21:14:52  2019-06-28 21:03:27   \n",
       "1766 2019-07-05 05:16:18 2019-07-05 05:55:39  2019-07-05 05:14:35   \n",
       "1911 2019-07-15 13:41:46 2019-07-15 13:48:15  2019-07-15 13:38:46   \n",
       "1914 2019-07-15 18:35:31 2019-07-15 18:57:36  2019-07-15 18:32:52   \n",
       "1962 2019-07-18 06:53:18 2019-07-18 07:13:31  2019-07-18 06:46:09   \n",
       "1974 2019-07-18 16:29:00 2019-07-18 16:42:17  2019-07-18 16:26:08   \n",
       "1988 2019-07-19 07:23:43 2019-07-19 07:53:39  2019-07-19 07:20:11   \n",
       "2025 2019-07-20 17:30:27 2019-07-20 17:50:12  2019-07-20 17:24:06   \n",
       "2112 2019-07-23 22:21:06 2019-07-23 22:36:59  2019-07-23 22:18:00   \n",
       "2179 2019-07-25 23:18:34 2019-07-25 23:50:25  2019-07-25 23:14:56   \n",
       "2194 2019-07-26 09:09:57 2019-07-26 09:16:02  2019-07-26 09:03:27   \n",
       "2472 2019-08-05 03:48:28 2019-08-05 04:21:08  2019-08-05 03:44:57   \n",
       "\n",
       "     Конец нагрева дугой  \n",
       "key                       \n",
       "49   2019-05-05 03:47:49  \n",
       "246  2019-05-12 10:52:22  \n",
       "247  2019-05-12 11:54:29  \n",
       "248  2019-05-12 12:55:58  \n",
       "269  2019-05-13 10:39:09  \n",
       "343  2019-05-16 04:23:48  \n",
       "530  2019-05-22 22:52:31  \n",
       "556  2019-05-24 01:21:10  \n",
       "614  2019-05-26 00:12:13  \n",
       "661  2019-05-27 18:02:44  \n",
       "732  2019-05-30 09:57:09  \n",
       "883  2019-06-05 01:51:18  \n",
       "977  2019-06-08 06:12:09  \n",
       "1169 2019-06-14 20:22:14  \n",
       "1268 2019-06-18 04:11:31  \n",
       "1281 2019-06-18 14:39:50  \n",
       "1369 2019-06-21 19:33:18  \n",
       "1449 2019-06-24 12:39:42  \n",
       "1535 2019-06-27 21:09:41  \n",
       "1568 2019-06-28 21:06:42  \n",
       "1766 2019-07-05 05:15:39  \n",
       "1911 2019-07-15 13:40:50  \n",
       "1914 2019-07-15 18:34:43  \n",
       "1962 2019-07-18 06:52:27  \n",
       "1974 2019-07-18 16:28:05  \n",
       "1988 2019-07-19 07:21:58  \n",
       "2025 2019-07-20 17:28:09  \n",
       "2112 2019-07-23 22:20:05  \n",
       "2179 2019-07-25 23:17:13  \n",
       "2194 2019-07-26 09:06:20  \n",
       "2472 2019-08-05 03:47:38  "
      ]
     },
     "metadata": {},
     "output_type": "display_data"
    },
    {
     "data": {
      "text/html": [
       "<div>\n",
       "<style scoped>\n",
       "    .dataframe tbody tr th:only-of-type {\n",
       "        vertical-align: middle;\n",
       "    }\n",
       "\n",
       "    .dataframe tbody tr th {\n",
       "        vertical-align: top;\n",
       "    }\n",
       "\n",
       "    .dataframe thead th {\n",
       "        text-align: right;\n",
       "    }\n",
       "</style>\n",
       "<table border=\"1\" class=\"dataframe\">\n",
       "  <thead>\n",
       "    <tr style=\"text-align: right;\">\n",
       "      <th></th>\n",
       "      <th>Время замера_min</th>\n",
       "      <th>Время замера_max</th>\n",
       "      <th>Начало нагрева дугой</th>\n",
       "      <th>Конец нагрева дугой</th>\n",
       "    </tr>\n",
       "    <tr>\n",
       "      <th>key</th>\n",
       "      <th></th>\n",
       "      <th></th>\n",
       "      <th></th>\n",
       "      <th></th>\n",
       "    </tr>\n",
       "  </thead>\n",
       "  <tbody>\n",
       "  </tbody>\n",
       "</table>\n",
       "</div>"
      ],
      "text/plain": [
       "Empty DataFrame\n",
       "Columns: [Время замера_min, Время замера_max, Начало нагрева дугой, Конец нагрева дугой]\n",
       "Index: []"
      ]
     },
     "metadata": {},
     "output_type": "display_data"
    }
   ],
   "source": [
    "data_arc_min = pd.pivot_table(data_arc, values='Начало нагрева дугой', index='key', aggfunc='min')\n",
    "data_arc_max = pd.pivot_table(data_arc, values='Конец нагрева дугой', index='key', aggfunc='max')\n",
    "\n",
    "arc_time_problem = pd.merge(data_arc_min, data_arc_max, on=['key'], how='inner', suffixes=('_min', '_max'))\n",
    "\n",
    "problem_time = pd.merge(time_problem, arc_time_problem, \\\n",
    "                        on=['key'], how='inner', suffixes=('_min', '_max'))\n",
    "\n",
    "display(problem_time[problem_time['Конец нагрева дугой'] < problem_time['Время замера_min']])\n",
    "\n",
    "display(problem_time[problem_time['Начало нагрева дугой'] > problem_time['Время замера_max']])"
   ]
  },
  {
   "cell_type": "code",
   "execution_count": 92,
   "metadata": {},
   "outputs": [
    {
     "name": "stdout",
     "output_type": "stream",
     "text": [
      "Удалено партий: 31\n",
      "%: 1.54%\n"
     ]
    }
   ],
   "source": [
    "# search for batches \n",
    "\n",
    "keys_arc_delete = problem_time[(problem_time['Конец нагрева дугой'] < problem_time['Время замера_min']) | \\\n",
    "                    (problem_time['Начало нагрева дугой'] > problem_time['Время замера_max'])].index.tolist()\n",
    "\n",
    "\n",
    "# remove the batches\n",
    "\n",
    "print('Удалено партий: {:}'.format(len(keys_arc_delete)))\n",
    "print('%: {:.2%}'.format(len(keys_arc_delete) / len(data_temp['key'].unique())))\n",
    "\n",
    "data_temp = data_temp[~data_temp['key'].isin(keys_arc_delete)]"
   ]
  },
  {
   "cell_type": "markdown",
   "metadata": {},
   "source": [
    "## Project Plan"
   ]
  },
  {
   "cell_type": "markdown",
   "metadata": {},
   "source": [
    "**1) Formation of features and training set:**\n",
    "\n",
    " - **target**: final temperature measurement (*time*) within the batch\n",
    "    \n",
    "    \n",
    "  - **features**:\n",
    "      1. initial temperature measurement\n",
    "      2. apparent power (sq. root of sum of squares of given powers)\n",
    "      3. steel processing cycle time (difference between the initial and final temperature measurements of the alloy (including in min & in sec)\n",
    "      4. Aggregated number of alloying bulk materials per batch (*average*)\n",
    "      5. Aggregate number of alloying wire by batch (*average*)\n",
    "      6. The volume of the gas used\n",
    "      7. Total operating time of heating elements (electrodes)\n",
    "      8. Total number of electrode heatings within one batch (*number of times*)\n",
    "      \n",
    "The training dataframe will be grouped by batches (key) - all batch values will be taken completely from the **data_temp** table.\n",
    "\n",
    "(Also formation of test and validation samples)\n",
    "\n",
    "**2) Training and modeling stage**:\n",
    "\n",
    "Both simple models (*LinearRegression*, *DecisionTreeRegressor*, *RandomForestRegressor*) and more complex ones (Gradient Boosting models: *LGBM*, *CatBoost*) will be considered.\n",
    "\n",
    "**3) Checking factors for multicollinearity**\n",
    "\n",
    "**4) Choosing the best model based on the MAE metric**\n",
    "\n",
    "**5) Sanity check**\n",
    "    \n",
    "**6) Feature Importance Analysis**"
   ]
  },
  {
   "cell_type": "markdown",
   "metadata": {},
   "source": [
    "## Training Sample Formation | Features Generation"
   ]
  },
  {
   "cell_type": "markdown",
   "metadata": {},
   "source": [
    "As noted earlier in the project plan, the final dataframe (training sample) will be grouped by batches ( `key` ) - all batch values will be taken completely from the **data_temp** table, since it contains information about which objects have the target."
   ]
  },
  {
   "cell_type": "markdown",
   "metadata": {},
   "source": [
    "### Features Generation"
   ]
  },
  {
   "cell_type": "markdown",
   "metadata": {},
   "source": [
    "* **initial temperature measurement** / `data_temp`\n",
    "* **time of steel processing cycle** (*min*) / `data_temp`\n",
    "* **apparent power** / `data_arc`\n",
    "* **total operating time of heating elements (electrodes) work** (*min*) / `data_arc`\n",
    "* **total number of electrode heatings within one batch** (*number of times*) / `data_arc`\n",
    "* **aggregated number of alloying bulk materials by batch** (*sum*) / `data_bulk`\n",
    "* **aggregated number of alloy wire per batch** (*sum*) / `data_wire`\n",
    "* **volume of used gas** / `data_gas`"
   ]
  },
  {
   "cell_type": "markdown",
   "metadata": {},
   "source": [
    "#### Initial Temperature Measurement "
   ]
  },
  {
   "cell_type": "code",
   "execution_count": 93,
   "metadata": {},
   "outputs": [
    {
     "data": {
      "text/html": [
       "<div>\n",
       "<style scoped>\n",
       "    .dataframe tbody tr th:only-of-type {\n",
       "        vertical-align: middle;\n",
       "    }\n",
       "\n",
       "    .dataframe tbody tr th {\n",
       "        vertical-align: top;\n",
       "    }\n",
       "\n",
       "    .dataframe thead th {\n",
       "        text-align: right;\n",
       "    }\n",
       "</style>\n",
       "<table border=\"1\" class=\"dataframe\">\n",
       "  <thead>\n",
       "    <tr style=\"text-align: right;\">\n",
       "      <th></th>\n",
       "      <th>key</th>\n",
       "      <th>temp_start</th>\n",
       "    </tr>\n",
       "  </thead>\n",
       "  <tbody>\n",
       "    <tr>\n",
       "      <th>0</th>\n",
       "      <td>2</td>\n",
       "      <td>1581.0</td>\n",
       "    </tr>\n",
       "    <tr>\n",
       "      <th>1</th>\n",
       "      <td>6</td>\n",
       "      <td>1543.0</td>\n",
       "    </tr>\n",
       "    <tr>\n",
       "      <th>2</th>\n",
       "      <td>7</td>\n",
       "      <td>1586.0</td>\n",
       "    </tr>\n",
       "    <tr>\n",
       "      <th>3</th>\n",
       "      <td>9</td>\n",
       "      <td>1587.0</td>\n",
       "    </tr>\n",
       "    <tr>\n",
       "      <th>4</th>\n",
       "      <td>10</td>\n",
       "      <td>1574.0</td>\n",
       "    </tr>\n",
       "  </tbody>\n",
       "</table>\n",
       "</div>"
      ],
      "text/plain": [
       "   key  temp_start\n",
       "0    2      1581.0\n",
       "1    6      1543.0\n",
       "2    7      1586.0\n",
       "3    9      1587.0\n",
       "4   10      1574.0"
      ]
     },
     "execution_count": 93,
     "metadata": {},
     "output_type": "execute_result"
    }
   ],
   "source": [
    "data_temp_min = pd.pivot_table(data_temp, values='Время замера', index='key', aggfunc='min')\n",
    "data_temp_mintemp = pd.merge(data_temp_min, data_temp, on=['key', 'Время замера'], how='inner')\n",
    "\n",
    "feature_data_temp_temp_start = data_temp_mintemp[['key', 'Температура']].rename(columns={'Температура':'temp_start'})\n",
    "feature_data_temp_temp_start.head(5)"
   ]
  },
  {
   "cell_type": "markdown",
   "metadata": {},
   "source": [
    "#### Time of Steel Processing Cycle"
   ]
  },
  {
   "cell_type": "code",
   "execution_count": 94,
   "metadata": {},
   "outputs": [
    {
     "data": {
      "text/html": [
       "<div>\n",
       "<style scoped>\n",
       "    .dataframe tbody tr th:only-of-type {\n",
       "        vertical-align: middle;\n",
       "    }\n",
       "\n",
       "    .dataframe tbody tr th {\n",
       "        vertical-align: top;\n",
       "    }\n",
       "\n",
       "    .dataframe thead th {\n",
       "        text-align: right;\n",
       "    }\n",
       "</style>\n",
       "<table border=\"1\" class=\"dataframe\">\n",
       "  <thead>\n",
       "    <tr style=\"text-align: right;\">\n",
       "      <th></th>\n",
       "      <th>key</th>\n",
       "      <th>time_cycle</th>\n",
       "    </tr>\n",
       "  </thead>\n",
       "  <tbody>\n",
       "    <tr>\n",
       "      <th>0</th>\n",
       "      <td>2</td>\n",
       "      <td>21.750000</td>\n",
       "    </tr>\n",
       "    <tr>\n",
       "      <th>1</th>\n",
       "      <td>6</td>\n",
       "      <td>23.083333</td>\n",
       "    </tr>\n",
       "    <tr>\n",
       "      <th>2</th>\n",
       "      <td>7</td>\n",
       "      <td>22.900000</td>\n",
       "    </tr>\n",
       "    <tr>\n",
       "      <th>3</th>\n",
       "      <td>9</td>\n",
       "      <td>24.216667</td>\n",
       "    </tr>\n",
       "    <tr>\n",
       "      <th>4</th>\n",
       "      <td>10</td>\n",
       "      <td>21.650000</td>\n",
       "    </tr>\n",
       "  </tbody>\n",
       "</table>\n",
       "</div>"
      ],
      "text/plain": [
       "   key  time_cycle\n",
       "0    2   21.750000\n",
       "1    6   23.083333\n",
       "2    7   22.900000\n",
       "3    9   24.216667\n",
       "4   10   21.650000"
      ]
     },
     "execution_count": 94,
     "metadata": {},
     "output_type": "execute_result"
    }
   ],
   "source": [
    "data_temp_max = pd.pivot_table(data_temp, values='Время замера', index='key', aggfunc='max')\n",
    "data_temp_min_max = pd.merge(data_temp_min, data_temp_max, how='inner', on='key', suffixes=('_min', '_max'))\n",
    "\n",
    "data_temp_min_max['time_cycle'] = \\\n",
    "    (data_temp_min_max['Время замера_max'] - data_temp_min_max['Время замера_min']) / pd.Timedelta(minutes=1)\n",
    "\n",
    "data_temp_min_max.reset_index(level=0, inplace=True)\n",
    "# data_temp_min_max.head(10)\n",
    "\n",
    "feature_data_temp_time_cycle = data_temp_min_max[['key', 'time_cycle']]\n",
    "feature_data_temp_time_cycle.head(5)"
   ]
  },
  {
   "cell_type": "markdown",
   "metadata": {},
   "source": [
    "#### Apparent Power"
   ]
  },
  {
   "cell_type": "code",
   "execution_count": 95,
   "metadata": {},
   "outputs": [
    {
     "data": {
      "text/html": [
       "<div>\n",
       "<style scoped>\n",
       "    .dataframe tbody tr th:only-of-type {\n",
       "        vertical-align: middle;\n",
       "    }\n",
       "\n",
       "    .dataframe tbody tr th {\n",
       "        vertical-align: top;\n",
       "    }\n",
       "\n",
       "    .dataframe thead th {\n",
       "        text-align: right;\n",
       "    }\n",
       "</style>\n",
       "<table border=\"1\" class=\"dataframe\">\n",
       "  <thead>\n",
       "    <tr style=\"text-align: right;\">\n",
       "      <th></th>\n",
       "      <th>key</th>\n",
       "      <th>apparent_power</th>\n",
       "    </tr>\n",
       "  </thead>\n",
       "  <tbody>\n",
       "    <tr>\n",
       "      <th>0</th>\n",
       "      <td>1</td>\n",
       "      <td>1.193639</td>\n",
       "    </tr>\n",
       "    <tr>\n",
       "      <th>1</th>\n",
       "      <td>1</td>\n",
       "      <td>0.959010</td>\n",
       "    </tr>\n",
       "    <tr>\n",
       "      <th>2</th>\n",
       "      <td>1</td>\n",
       "      <td>0.896038</td>\n",
       "    </tr>\n",
       "    <tr>\n",
       "      <th>3</th>\n",
       "      <td>1</td>\n",
       "      <td>1.970470</td>\n",
       "    </tr>\n",
       "    <tr>\n",
       "      <th>4</th>\n",
       "      <td>1</td>\n",
       "      <td>0.807239</td>\n",
       "    </tr>\n",
       "  </tbody>\n",
       "</table>\n",
       "</div>"
      ],
      "text/plain": [
       "   key  apparent_power\n",
       "0    1        1.193639\n",
       "1    1        0.959010\n",
       "2    1        0.896038\n",
       "3    1        1.970470\n",
       "4    1        0.807239"
      ]
     },
     "execution_count": 95,
     "metadata": {},
     "output_type": "execute_result"
    }
   ],
   "source": [
    "data_arc['apparent_power'] = (data_arc['Активная мощность'] ** 2 + data_arc['Реактивная мощность'] ** 2).apply(np.sqrt)\n",
    "\n",
    "feature_data_arc_apparent_power_pre = data_arc[['key', 'apparent_power']]\n",
    "feature_data_arc_apparent_power_pre.head(5)"
   ]
  },
  {
   "cell_type": "code",
   "execution_count": 96,
   "metadata": {
    "scrolled": false
   },
   "outputs": [
    {
     "data": {
      "text/html": [
       "<div>\n",
       "<style scoped>\n",
       "    .dataframe tbody tr th:only-of-type {\n",
       "        vertical-align: middle;\n",
       "    }\n",
       "\n",
       "    .dataframe tbody tr th {\n",
       "        vertical-align: top;\n",
       "    }\n",
       "\n",
       "    .dataframe thead th {\n",
       "        text-align: right;\n",
       "    }\n",
       "</style>\n",
       "<table border=\"1\" class=\"dataframe\">\n",
       "  <thead>\n",
       "    <tr style=\"text-align: right;\">\n",
       "      <th></th>\n",
       "      <th>key</th>\n",
       "      <th>apparent_power</th>\n",
       "    </tr>\n",
       "  </thead>\n",
       "  <tbody>\n",
       "    <tr>\n",
       "      <th>0</th>\n",
       "      <td>1</td>\n",
       "      <td>5.826395</td>\n",
       "    </tr>\n",
       "    <tr>\n",
       "      <th>1</th>\n",
       "      <td>2</td>\n",
       "      <td>3.649216</td>\n",
       "    </tr>\n",
       "    <tr>\n",
       "      <th>2</th>\n",
       "      <td>3</td>\n",
       "      <td>2.989534</td>\n",
       "    </tr>\n",
       "    <tr>\n",
       "      <th>3</th>\n",
       "      <td>4</td>\n",
       "      <td>3.814962</td>\n",
       "    </tr>\n",
       "    <tr>\n",
       "      <th>4</th>\n",
       "      <td>5</td>\n",
       "      <td>4.035758</td>\n",
       "    </tr>\n",
       "  </tbody>\n",
       "</table>\n",
       "</div>"
      ],
      "text/plain": [
       "   key  apparent_power\n",
       "0    1        5.826395\n",
       "1    2        3.649216\n",
       "2    3        2.989534\n",
       "3    4        3.814962\n",
       "4    5        4.035758"
      ]
     },
     "execution_count": 96,
     "metadata": {},
     "output_type": "execute_result"
    }
   ],
   "source": [
    "#  Take the sum of apparent power within batch\n",
    "\n",
    "feature_data_arc_apparent_power = pd.pivot_table(data=feature_data_arc_apparent_power_pre, values='apparent_power', \\\n",
    "                                                 index='key', aggfunc='sum')\n",
    "feature_data_arc_apparent_power.reset_index(level=0, inplace=True)\n",
    "\n",
    "feature_data_arc_apparent_power.head(5)"
   ]
  },
  {
   "cell_type": "markdown",
   "metadata": {},
   "source": [
    "#### Total Operating Time of Heating Elements (electrodes) Work"
   ]
  },
  {
   "cell_type": "code",
   "execution_count": 97,
   "metadata": {},
   "outputs": [
    {
     "data": {
      "text/html": [
       "<div>\n",
       "<style scoped>\n",
       "    .dataframe tbody tr th:only-of-type {\n",
       "        vertical-align: middle;\n",
       "    }\n",
       "\n",
       "    .dataframe tbody tr th {\n",
       "        vertical-align: top;\n",
       "    }\n",
       "\n",
       "    .dataframe thead th {\n",
       "        text-align: right;\n",
       "    }\n",
       "</style>\n",
       "<table border=\"1\" class=\"dataframe\">\n",
       "  <thead>\n",
       "    <tr style=\"text-align: right;\">\n",
       "      <th></th>\n",
       "      <th>key</th>\n",
       "      <th>electrode_time</th>\n",
       "    </tr>\n",
       "  </thead>\n",
       "  <tbody>\n",
       "    <tr>\n",
       "      <th>0</th>\n",
       "      <td>1</td>\n",
       "      <td>26.383333</td>\n",
       "    </tr>\n",
       "    <tr>\n",
       "      <th>1</th>\n",
       "      <td>2</td>\n",
       "      <td>19.066667</td>\n",
       "    </tr>\n",
       "    <tr>\n",
       "      <th>2</th>\n",
       "      <td>3</td>\n",
       "      <td>25.416667</td>\n",
       "    </tr>\n",
       "    <tr>\n",
       "      <th>3</th>\n",
       "      <td>4</td>\n",
       "      <td>18.216667</td>\n",
       "    </tr>\n",
       "    <tr>\n",
       "      <th>4</th>\n",
       "      <td>5</td>\n",
       "      <td>22.700000</td>\n",
       "    </tr>\n",
       "  </tbody>\n",
       "</table>\n",
       "</div>"
      ],
      "text/plain": [
       "   key  electrode_time\n",
       "0    1       26.383333\n",
       "1    2       19.066667\n",
       "2    3       25.416667\n",
       "3    4       18.216667\n",
       "4    5       22.700000"
      ]
     },
     "execution_count": 97,
     "metadata": {},
     "output_type": "execute_result"
    }
   ],
   "source": [
    "data_arc_min = pd.pivot_table(data_arc, values='Начало нагрева дугой', index='key', aggfunc='min')\n",
    "data_arc_max = pd.pivot_table(data_arc, values='Конец нагрева дугой', index='key', aggfunc='max')\n",
    "\n",
    "data_arc_min_max = pd.merge(data_arc_max, data_arc_min, on='key', how='inner')\n",
    "\n",
    "data_arc_min_max['electrode_time'] = \\\n",
    "    (data_arc_min_max['Конец нагрева дугой'] - data_arc_min_max['Начало нагрева дугой']) / pd.Timedelta(minutes=1)\n",
    "\n",
    "data_arc_min_max.reset_index(level=0, inplace=True)\n",
    "feature_data_arc_electrode_time = data_arc_min_max[['key','electrode_time']]\n",
    "\n",
    "feature_data_arc_electrode_time.head(5)"
   ]
  },
  {
   "cell_type": "markdown",
   "metadata": {},
   "source": [
    "#### Total Number of Electrode Heatings within one Batch "
   ]
  },
  {
   "cell_type": "code",
   "execution_count": 98,
   "metadata": {},
   "outputs": [
    {
     "data": {
      "text/html": [
       "<div>\n",
       "<style scoped>\n",
       "    .dataframe tbody tr th:only-of-type {\n",
       "        vertical-align: middle;\n",
       "    }\n",
       "\n",
       "    .dataframe tbody tr th {\n",
       "        vertical-align: top;\n",
       "    }\n",
       "\n",
       "    .dataframe thead th {\n",
       "        text-align: right;\n",
       "    }\n",
       "</style>\n",
       "<table border=\"1\" class=\"dataframe\">\n",
       "  <thead>\n",
       "    <tr style=\"text-align: right;\">\n",
       "      <th></th>\n",
       "      <th>key</th>\n",
       "      <th>electrode_count</th>\n",
       "    </tr>\n",
       "  </thead>\n",
       "  <tbody>\n",
       "    <tr>\n",
       "      <th>0</th>\n",
       "      <td>1</td>\n",
       "      <td>5</td>\n",
       "    </tr>\n",
       "    <tr>\n",
       "      <th>1</th>\n",
       "      <td>2</td>\n",
       "      <td>4</td>\n",
       "    </tr>\n",
       "    <tr>\n",
       "      <th>2</th>\n",
       "      <td>3</td>\n",
       "      <td>5</td>\n",
       "    </tr>\n",
       "    <tr>\n",
       "      <th>3</th>\n",
       "      <td>4</td>\n",
       "      <td>4</td>\n",
       "    </tr>\n",
       "    <tr>\n",
       "      <th>4</th>\n",
       "      <td>5</td>\n",
       "      <td>4</td>\n",
       "    </tr>\n",
       "  </tbody>\n",
       "</table>\n",
       "</div>"
      ],
      "text/plain": [
       "   key  electrode_count\n",
       "0    1                5\n",
       "1    2                4\n",
       "2    3                5\n",
       "3    4                4\n",
       "4    5                4"
      ]
     },
     "execution_count": 98,
     "metadata": {},
     "output_type": "execute_result"
    }
   ],
   "source": [
    "data_arc_count = pd.pivot_table(data_arc, values='Конец нагрева дугой', index='key', aggfunc='count')\n",
    "data_arc_count.reset_index(level=0, inplace=True)\n",
    "\n",
    "feature_data_arc_electrode_count = \\\n",
    "    data_arc_count[['key', 'Конец нагрева дугой']].rename(columns={'Конец нагрева дугой':'electrode_count'})\n",
    "\n",
    "feature_data_arc_electrode_count.head(5)"
   ]
  },
  {
   "cell_type": "markdown",
   "metadata": {},
   "source": [
    "#### Aggregated Number of Alloying Bulk Materials by Batch "
   ]
  },
  {
   "cell_type": "code",
   "execution_count": 99,
   "metadata": {},
   "outputs": [
    {
     "data": {
      "text/html": [
       "<div>\n",
       "<style scoped>\n",
       "    .dataframe tbody tr th:only-of-type {\n",
       "        vertical-align: middle;\n",
       "    }\n",
       "\n",
       "    .dataframe tbody tr th {\n",
       "        vertical-align: top;\n",
       "    }\n",
       "\n",
       "    .dataframe thead th {\n",
       "        text-align: right;\n",
       "    }\n",
       "</style>\n",
       "<table border=\"1\" class=\"dataframe\">\n",
       "  <thead>\n",
       "    <tr style=\"text-align: right;\">\n",
       "      <th></th>\n",
       "      <th>key</th>\n",
       "      <th>bulk</th>\n",
       "    </tr>\n",
       "  </thead>\n",
       "  <tbody>\n",
       "    <tr>\n",
       "      <th>0</th>\n",
       "      <td>1</td>\n",
       "      <td>553.0</td>\n",
       "    </tr>\n",
       "    <tr>\n",
       "      <th>1</th>\n",
       "      <td>2</td>\n",
       "      <td>582.0</td>\n",
       "    </tr>\n",
       "    <tr>\n",
       "      <th>2</th>\n",
       "      <td>3</td>\n",
       "      <td>544.0</td>\n",
       "    </tr>\n",
       "    <tr>\n",
       "      <th>3</th>\n",
       "      <td>4</td>\n",
       "      <td>595.0</td>\n",
       "    </tr>\n",
       "    <tr>\n",
       "      <th>4</th>\n",
       "      <td>5</td>\n",
       "      <td>584.0</td>\n",
       "    </tr>\n",
       "  </tbody>\n",
       "</table>\n",
       "</div>"
      ],
      "text/plain": [
       "   key   bulk\n",
       "0    1  553.0\n",
       "1    2  582.0\n",
       "2    3  544.0\n",
       "3    4  595.0\n",
       "4    5  584.0"
      ]
     },
     "execution_count": 99,
     "metadata": {},
     "output_type": "execute_result"
    }
   ],
   "source": [
    "data_bulk['bulk'] = data_bulk.loc[:, data_bulk.columns != 'key'].sum(axis=1)\n",
    "\n",
    "feature_data_bulk_bulk = data_bulk[['key', 'bulk']]\n",
    "\n",
    "feature_data_bulk_bulk.head(5)"
   ]
  },
  {
   "cell_type": "markdown",
   "metadata": {},
   "source": [
    "#### Aggregated Number of Alloy Wire per Batch"
   ]
  },
  {
   "cell_type": "code",
   "execution_count": 100,
   "metadata": {},
   "outputs": [
    {
     "data": {
      "text/html": [
       "<div>\n",
       "<style scoped>\n",
       "    .dataframe tbody tr th:only-of-type {\n",
       "        vertical-align: middle;\n",
       "    }\n",
       "\n",
       "    .dataframe tbody tr th {\n",
       "        vertical-align: top;\n",
       "    }\n",
       "\n",
       "    .dataframe thead th {\n",
       "        text-align: right;\n",
       "    }\n",
       "</style>\n",
       "<table border=\"1\" class=\"dataframe\">\n",
       "  <thead>\n",
       "    <tr style=\"text-align: right;\">\n",
       "      <th></th>\n",
       "      <th>key</th>\n",
       "      <th>wire</th>\n",
       "    </tr>\n",
       "  </thead>\n",
       "  <tbody>\n",
       "    <tr>\n",
       "      <th>0</th>\n",
       "      <td>1</td>\n",
       "      <td>60.059998</td>\n",
       "    </tr>\n",
       "    <tr>\n",
       "      <th>1</th>\n",
       "      <td>2</td>\n",
       "      <td>96.052315</td>\n",
       "    </tr>\n",
       "    <tr>\n",
       "      <th>2</th>\n",
       "      <td>3</td>\n",
       "      <td>91.160157</td>\n",
       "    </tr>\n",
       "    <tr>\n",
       "      <th>3</th>\n",
       "      <td>4</td>\n",
       "      <td>89.063515</td>\n",
       "    </tr>\n",
       "    <tr>\n",
       "      <th>4</th>\n",
       "      <td>5</td>\n",
       "      <td>98.352796</td>\n",
       "    </tr>\n",
       "  </tbody>\n",
       "</table>\n",
       "</div>"
      ],
      "text/plain": [
       "   key       wire\n",
       "0    1  60.059998\n",
       "1    2  96.052315\n",
       "2    3  91.160157\n",
       "3    4  89.063515\n",
       "4    5  98.352796"
      ]
     },
     "execution_count": 100,
     "metadata": {},
     "output_type": "execute_result"
    }
   ],
   "source": [
    "data_wire['wire'] = data_wire.loc[:, data_wire.columns != 'key'].sum(axis=1)\n",
    "\n",
    "feature_data_wire_wire = data_wire[['key', 'wire']]\n",
    "\n",
    "feature_data_wire_wire.head(5)"
   ]
  },
  {
   "cell_type": "markdown",
   "metadata": {},
   "source": [
    "#### Volume of Used Gas"
   ]
  },
  {
   "cell_type": "code",
   "execution_count": 101,
   "metadata": {},
   "outputs": [
    {
     "data": {
      "text/html": [
       "<div>\n",
       "<style scoped>\n",
       "    .dataframe tbody tr th:only-of-type {\n",
       "        vertical-align: middle;\n",
       "    }\n",
       "\n",
       "    .dataframe tbody tr th {\n",
       "        vertical-align: top;\n",
       "    }\n",
       "\n",
       "    .dataframe thead th {\n",
       "        text-align: right;\n",
       "    }\n",
       "</style>\n",
       "<table border=\"1\" class=\"dataframe\">\n",
       "  <thead>\n",
       "    <tr style=\"text-align: right;\">\n",
       "      <th></th>\n",
       "      <th>key</th>\n",
       "      <th>gas</th>\n",
       "    </tr>\n",
       "  </thead>\n",
       "  <tbody>\n",
       "    <tr>\n",
       "      <th>0</th>\n",
       "      <td>1</td>\n",
       "      <td>29.749986</td>\n",
       "    </tr>\n",
       "    <tr>\n",
       "      <th>1</th>\n",
       "      <td>2</td>\n",
       "      <td>12.555561</td>\n",
       "    </tr>\n",
       "    <tr>\n",
       "      <th>2</th>\n",
       "      <td>3</td>\n",
       "      <td>28.554793</td>\n",
       "    </tr>\n",
       "    <tr>\n",
       "      <th>3</th>\n",
       "      <td>4</td>\n",
       "      <td>18.841219</td>\n",
       "    </tr>\n",
       "    <tr>\n",
       "      <th>4</th>\n",
       "      <td>5</td>\n",
       "      <td>5.413692</td>\n",
       "    </tr>\n",
       "  </tbody>\n",
       "</table>\n",
       "</div>"
      ],
      "text/plain": [
       "   key        gas\n",
       "0    1  29.749986\n",
       "1    2  12.555561\n",
       "2    3  28.554793\n",
       "3    4  18.841219\n",
       "4    5   5.413692"
      ]
     },
     "execution_count": 101,
     "metadata": {},
     "output_type": "execute_result"
    }
   ],
   "source": [
    "feature_data_gas_gas = data_gas[['key', 'Газ 1']].rename(columns={'Газ 1':'gas'})\n",
    "\n",
    "feature_data_gas_gas.head(5)"
   ]
  },
  {
   "cell_type": "markdown",
   "metadata": {},
   "source": [
    "### Target"
   ]
  },
  {
   "cell_type": "markdown",
   "metadata": {},
   "source": [
    "The target variable for model forecast is the final temperature measurement for the batch after the end of the entire steel processing cycle - available in the **`data_temp`** table"
   ]
  },
  {
   "cell_type": "code",
   "execution_count": 102,
   "metadata": {
    "scrolled": true
   },
   "outputs": [
    {
     "data": {
      "text/html": [
       "<div>\n",
       "<style scoped>\n",
       "    .dataframe tbody tr th:only-of-type {\n",
       "        vertical-align: middle;\n",
       "    }\n",
       "\n",
       "    .dataframe tbody tr th {\n",
       "        vertical-align: top;\n",
       "    }\n",
       "\n",
       "    .dataframe thead th {\n",
       "        text-align: right;\n",
       "    }\n",
       "</style>\n",
       "<table border=\"1\" class=\"dataframe\">\n",
       "  <thead>\n",
       "    <tr style=\"text-align: right;\">\n",
       "      <th></th>\n",
       "      <th>key</th>\n",
       "      <th>temp_end</th>\n",
       "    </tr>\n",
       "  </thead>\n",
       "  <tbody>\n",
       "    <tr>\n",
       "      <th>0</th>\n",
       "      <td>2</td>\n",
       "      <td>1602.0</td>\n",
       "    </tr>\n",
       "    <tr>\n",
       "      <th>1</th>\n",
       "      <td>6</td>\n",
       "      <td>1596.0</td>\n",
       "    </tr>\n",
       "    <tr>\n",
       "      <th>2</th>\n",
       "      <td>7</td>\n",
       "      <td>1599.0</td>\n",
       "    </tr>\n",
       "    <tr>\n",
       "      <th>3</th>\n",
       "      <td>9</td>\n",
       "      <td>1592.0</td>\n",
       "    </tr>\n",
       "    <tr>\n",
       "      <th>4</th>\n",
       "      <td>10</td>\n",
       "      <td>1593.0</td>\n",
       "    </tr>\n",
       "  </tbody>\n",
       "</table>\n",
       "</div>"
      ],
      "text/plain": [
       "   key  temp_end\n",
       "0    2    1602.0\n",
       "1    6    1596.0\n",
       "2    7    1599.0\n",
       "3    9    1592.0\n",
       "4   10    1593.0"
      ]
     },
     "execution_count": 102,
     "metadata": {},
     "output_type": "execute_result"
    }
   ],
   "source": [
    "data_temp_max = pd.pivot_table(data_temp, values='Время замера', index='key', aggfunc='max')\n",
    "data_temp_maxtemp = pd.merge(data_temp_max, data_temp, on=['key', 'Время замера'], how='inner')\n",
    "\n",
    "feature_data_temp_temp_end = data_temp_maxtemp[['key', 'Температура']].rename(columns={'Температура':'temp_end'})\n",
    "feature_data_temp_temp_end.head(5)"
   ]
  },
  {
   "cell_type": "markdown",
   "metadata": {},
   "source": [
    "### Training Sample"
   ]
  },
  {
   "cell_type": "markdown",
   "metadata": {},
   "source": [
    "The training dataframe will be grouped by batches (key) - all of the batch values will be taken from the **data_temp** table"
   ]
  },
  {
   "cell_type": "code",
   "execution_count": 103,
   "metadata": {},
   "outputs": [
    {
     "data": {
      "text/html": [
       "<div>\n",
       "<style scoped>\n",
       "    .dataframe tbody tr th:only-of-type {\n",
       "        vertical-align: middle;\n",
       "    }\n",
       "\n",
       "    .dataframe tbody tr th {\n",
       "        vertical-align: top;\n",
       "    }\n",
       "\n",
       "    .dataframe thead th {\n",
       "        text-align: right;\n",
       "    }\n",
       "</style>\n",
       "<table border=\"1\" class=\"dataframe\">\n",
       "  <thead>\n",
       "    <tr style=\"text-align: right;\">\n",
       "      <th></th>\n",
       "      <th>temp_end</th>\n",
       "      <th>temp_start</th>\n",
       "      <th>time_cycle</th>\n",
       "      <th>apparent_power</th>\n",
       "      <th>electrode_time</th>\n",
       "      <th>electrode_count</th>\n",
       "      <th>bulk</th>\n",
       "      <th>wire</th>\n",
       "      <th>gas</th>\n",
       "    </tr>\n",
       "    <tr>\n",
       "      <th>key</th>\n",
       "      <th></th>\n",
       "      <th></th>\n",
       "      <th></th>\n",
       "      <th></th>\n",
       "      <th></th>\n",
       "      <th></th>\n",
       "      <th></th>\n",
       "      <th></th>\n",
       "      <th></th>\n",
       "    </tr>\n",
       "  </thead>\n",
       "  <tbody>\n",
       "    <tr>\n",
       "      <th>2</th>\n",
       "      <td>1602.0</td>\n",
       "      <td>1581.0</td>\n",
       "      <td>21.750000</td>\n",
       "      <td>3.649216</td>\n",
       "      <td>19.066667</td>\n",
       "      <td>4</td>\n",
       "      <td>582.0</td>\n",
       "      <td>96.052315</td>\n",
       "      <td>12.555561</td>\n",
       "    </tr>\n",
       "    <tr>\n",
       "      <th>6</th>\n",
       "      <td>1596.0</td>\n",
       "      <td>1543.0</td>\n",
       "      <td>23.083333</td>\n",
       "      <td>4.786837</td>\n",
       "      <td>22.550000</td>\n",
       "      <td>4</td>\n",
       "      <td>676.0</td>\n",
       "      <td>108.224477</td>\n",
       "      <td>11.273392</td>\n",
       "    </tr>\n",
       "    <tr>\n",
       "      <th>7</th>\n",
       "      <td>1599.0</td>\n",
       "      <td>1586.0</td>\n",
       "      <td>22.900000</td>\n",
       "      <td>2.987777</td>\n",
       "      <td>24.483333</td>\n",
       "      <td>4</td>\n",
       "      <td>627.0</td>\n",
       "      <td>98.061600</td>\n",
       "      <td>9.836267</td>\n",
       "    </tr>\n",
       "    <tr>\n",
       "      <th>9</th>\n",
       "      <td>1592.0</td>\n",
       "      <td>1587.0</td>\n",
       "      <td>24.216667</td>\n",
       "      <td>2.555348</td>\n",
       "      <td>26.100000</td>\n",
       "      <td>5</td>\n",
       "      <td>526.0</td>\n",
       "      <td>122.536960</td>\n",
       "      <td>8.216623</td>\n",
       "    </tr>\n",
       "    <tr>\n",
       "      <th>10</th>\n",
       "      <td>1593.0</td>\n",
       "      <td>1574.0</td>\n",
       "      <td>21.650000</td>\n",
       "      <td>3.851739</td>\n",
       "      <td>23.700000</td>\n",
       "      <td>6</td>\n",
       "      <td>509.0</td>\n",
       "      <td>93.620796</td>\n",
       "      <td>6.529891</td>\n",
       "    </tr>\n",
       "    <tr>\n",
       "      <th>11</th>\n",
       "      <td>1597.0</td>\n",
       "      <td>1616.0</td>\n",
       "      <td>33.083333</td>\n",
       "      <td>2.863314</td>\n",
       "      <td>39.883333</td>\n",
       "      <td>5</td>\n",
       "      <td>579.0</td>\n",
       "      <td>99.197281</td>\n",
       "      <td>3.639128</td>\n",
       "    </tr>\n",
       "    <tr>\n",
       "      <th>12</th>\n",
       "      <td>1591.0</td>\n",
       "      <td>1606.0</td>\n",
       "      <td>32.150000</td>\n",
       "      <td>3.350069</td>\n",
       "      <td>34.050000</td>\n",
       "      <td>4</td>\n",
       "      <td>1307.0</td>\n",
       "      <td>153.578873</td>\n",
       "      <td>11.026259</td>\n",
       "    </tr>\n",
       "    <tr>\n",
       "      <th>13</th>\n",
       "      <td>1619.0</td>\n",
       "      <td>1596.0</td>\n",
       "      <td>27.266667</td>\n",
       "      <td>5.138650</td>\n",
       "      <td>30.333333</td>\n",
       "      <td>6</td>\n",
       "      <td>837.0</td>\n",
       "      <td>129.685923</td>\n",
       "      <td>11.443643</td>\n",
       "    </tr>\n",
       "    <tr>\n",
       "      <th>14</th>\n",
       "      <td>1606.0</td>\n",
       "      <td>1583.0</td>\n",
       "      <td>37.666667</td>\n",
       "      <td>5.690572</td>\n",
       "      <td>41.033333</td>\n",
       "      <td>6</td>\n",
       "      <td>630.0</td>\n",
       "      <td>158.077919</td>\n",
       "      <td>5.098945</td>\n",
       "    </tr>\n",
       "    <tr>\n",
       "      <th>15</th>\n",
       "      <td>1598.0</td>\n",
       "      <td>1605.0</td>\n",
       "      <td>34.350000</td>\n",
       "      <td>2.982811</td>\n",
       "      <td>36.583333</td>\n",
       "      <td>5</td>\n",
       "      <td>531.0</td>\n",
       "      <td>123.381439</td>\n",
       "      <td>11.085451</td>\n",
       "    </tr>\n",
       "  </tbody>\n",
       "</table>\n",
       "</div>"
      ],
      "text/plain": [
       "     temp_end  temp_start  time_cycle  apparent_power  electrode_time  \\\n",
       "key                                                                     \n",
       "2      1602.0      1581.0   21.750000        3.649216       19.066667   \n",
       "6      1596.0      1543.0   23.083333        4.786837       22.550000   \n",
       "7      1599.0      1586.0   22.900000        2.987777       24.483333   \n",
       "9      1592.0      1587.0   24.216667        2.555348       26.100000   \n",
       "10     1593.0      1574.0   21.650000        3.851739       23.700000   \n",
       "11     1597.0      1616.0   33.083333        2.863314       39.883333   \n",
       "12     1591.0      1606.0   32.150000        3.350069       34.050000   \n",
       "13     1619.0      1596.0   27.266667        5.138650       30.333333   \n",
       "14     1606.0      1583.0   37.666667        5.690572       41.033333   \n",
       "15     1598.0      1605.0   34.350000        2.982811       36.583333   \n",
       "\n",
       "     electrode_count    bulk        wire        gas  \n",
       "key                                                  \n",
       "2                  4   582.0   96.052315  12.555561  \n",
       "6                  4   676.0  108.224477  11.273392  \n",
       "7                  4   627.0   98.061600   9.836267  \n",
       "9                  5   526.0  122.536960   8.216623  \n",
       "10                 6   509.0   93.620796   6.529891  \n",
       "11                 5   579.0   99.197281   3.639128  \n",
       "12                 4  1307.0  153.578873  11.026259  \n",
       "13                 6   837.0  129.685923  11.443643  \n",
       "14                 6   630.0  158.077919   5.098945  \n",
       "15                 5   531.0  123.381439  11.085451  "
      ]
     },
     "execution_count": 103,
     "metadata": {},
     "output_type": "execute_result"
    }
   ],
   "source": [
    "data_frames = [feature_data_temp_temp_end, feature_data_temp_temp_start, feature_data_temp_time_cycle, \\\n",
    "                 feature_data_arc_apparent_power, feature_data_arc_electrode_time, \\\n",
    "                 feature_data_arc_electrode_count, feature_data_bulk_bulk, feature_data_wire_wire, \\\n",
    "                 feature_data_gas_gas]\n",
    "\n",
    "data = reduce(lambda left,right: pd.merge(left,right,on=['key'],\n",
    "                                            how='left'), data_frames)\n",
    "data.set_index('key', inplace=True)\n",
    "\n",
    "data.head(10)"
   ]
  },
  {
   "cell_type": "code",
   "execution_count": 104,
   "metadata": {
    "scrolled": true
   },
   "outputs": [
    {
     "name": "stdout",
     "output_type": "stream",
     "text": [
      "<class 'pandas.core.frame.DataFrame'>\n",
      "Int64Index: 1988 entries, 2 to 2496\n",
      "Data columns (total 9 columns):\n",
      " #   Column           Non-Null Count  Dtype  \n",
      "---  ------           --------------  -----  \n",
      " 0   temp_end         1988 non-null   float64\n",
      " 1   temp_start       1988 non-null   float64\n",
      " 2   time_cycle       1988 non-null   float64\n",
      " 3   apparent_power   1988 non-null   float64\n",
      " 4   electrode_time   1988 non-null   float64\n",
      " 5   electrode_count  1988 non-null   int64  \n",
      " 6   bulk             1929 non-null   float64\n",
      " 7   wire             1895 non-null   float64\n",
      " 8   gas              1986 non-null   float64\n",
      "dtypes: float64(8), int64(1)\n",
      "memory usage: 155.3 KB\n"
     ]
    }
   ],
   "source": [
    "data.info()"
   ]
  },
  {
   "cell_type": "markdown",
   "metadata": {},
   "source": [
    "#### Missing Values"
   ]
  },
  {
   "cell_type": "markdown",
   "metadata": {},
   "source": [
    "We see there are gaps for the fields `bulk`, `wire`"
   ]
  },
  {
   "cell_type": "markdown",
   "metadata": {},
   "source": [
    "Let's replace fields' missing values with 0"
   ]
  },
  {
   "cell_type": "code",
   "execution_count": 105,
   "metadata": {},
   "outputs": [
    {
     "name": "stdout",
     "output_type": "stream",
     "text": [
      "<class 'pandas.core.frame.DataFrame'>\n",
      "Int64Index: 1988 entries, 2 to 2496\n",
      "Data columns (total 9 columns):\n",
      " #   Column           Non-Null Count  Dtype  \n",
      "---  ------           --------------  -----  \n",
      " 0   temp_end         1988 non-null   float64\n",
      " 1   temp_start       1988 non-null   float64\n",
      " 2   time_cycle       1988 non-null   float64\n",
      " 3   apparent_power   1988 non-null   float64\n",
      " 4   electrode_time   1988 non-null   float64\n",
      " 5   electrode_count  1988 non-null   int64  \n",
      " 6   bulk             1988 non-null   float64\n",
      " 7   wire             1988 non-null   float64\n",
      " 8   gas              1988 non-null   float64\n",
      "dtypes: float64(8), int64(1)\n",
      "memory usage: 155.3 KB\n"
     ]
    }
   ],
   "source": [
    "data = data.fillna(0)\n",
    "\n",
    "data.info()"
   ]
  },
  {
   "cell_type": "markdown",
   "metadata": {},
   "source": [
    "#### Checking Factors for Multicollinearity"
   ]
  },
  {
   "cell_type": "markdown",
   "metadata": {},
   "source": [
    "In order to avoid the problem of multicollinearity, which can make our forecasts inaccurate and the model useless, we will check the factors for multicollinearity"
   ]
  },
  {
   "cell_type": "code",
   "execution_count": 106,
   "metadata": {},
   "outputs": [
    {
     "data": {
      "text/plain": [
       "Text(0.5, 1.0, 'Корреляция между факторами')"
      ]
     },
     "execution_count": 106,
     "metadata": {},
     "output_type": "execute_result"
    },
    {
     "data": {
      "image/png": "[encoded data removed]",
      "text/plain": [
       "<Figure size 3240x1512 with 2 Axes>"
      ]
     },
     "metadata": {
      "needs_background": "light"
     },
     "output_type": "display_data"
    }
   ],
   "source": [
    "fig, ax = plt.subplots(figsize=(45,21))   \n",
    "a = sns.heatmap(data.corr(), annot=True, cmap='YlGnBu', linewidths=0.5, annot_kws={\"size\":30})\n",
    "\n",
    "a.set_xticklabels(a.get_xticklabels(), fontsize=23, weight='bold')\n",
    "a.set_yticklabels(a.get_yticklabels(), fontsize=23, weight='bold', rotation=0)\n",
    "cax = plt.gcf().axes[-1]\n",
    "cax.tick_params(labelsize=30)\n",
    "plt.title('Корреляция между факторами', pad=30, fontsize=40, weight='bold')"
   ]
  },
  {
   "cell_type": "markdown",
   "metadata": {},
   "source": [
    "Thus, we can observe a high correlation for factors:\n",
    "\n",
    "* **`electrode_time`** and **`time_cycle`** *>90%*\n",
    "\n",
    "Which is reasonable. After all, the time frame between the start and the end will practically coincide and differ by only a few minutes. Let's take the time of the whole cycle: **`time_cycle`**\n",
    "\n",
    "---\n",
    "\n",
    "* **`electrode_count`** and **`apparent_power`** *>70%*\n",
    "\n",
    "Let's take apparent power: **`apparent_power`**"
   ]
  },
  {
   "cell_type": "code",
   "execution_count": 107,
   "metadata": {},
   "outputs": [
    {
     "name": "stdout",
     "output_type": "stream",
     "text": [
      "<class 'pandas.core.frame.DataFrame'>\n",
      "Int64Index: 1988 entries, 2 to 2496\n",
      "Data columns (total 7 columns):\n",
      " #   Column          Non-Null Count  Dtype  \n",
      "---  ------          --------------  -----  \n",
      " 0   temp_end        1988 non-null   float64\n",
      " 1   temp_start      1988 non-null   float64\n",
      " 2   time_cycle      1988 non-null   float64\n",
      " 3   apparent_power  1988 non-null   float64\n",
      " 4   bulk            1988 non-null   float64\n",
      " 5   wire            1988 non-null   float64\n",
      " 6   gas             1988 non-null   float64\n",
      "dtypes: float64(7)\n",
      "memory usage: 124.2 KB\n"
     ]
    }
   ],
   "source": [
    "# Get rid of problematic fields\n",
    "\n",
    "data.drop(['electrode_time', 'electrode_count'], axis=1, inplace=True)\n",
    "\n",
    "data.info()"
   ]
  },
  {
   "cell_type": "markdown",
   "metadata": {},
   "source": [
    "Finally, the final training sample is ready. Further, also when dividing the data into samples, we will standardize the data."
   ]
  },
  {
   "cell_type": "markdown",
   "metadata": {},
   "source": [
    "## Samples"
   ]
  },
  {
   "cell_type": "markdown",
   "metadata": {},
   "source": [
    "### Samples Formation"
   ]
  },
  {
   "cell_type": "markdown",
   "metadata": {},
   "source": [
    "There is no prepared separate test set. This means that the data needs to be divided into **three parts**: training, validation and test. The sizes of the test and validation sets are usually equal. Let's split the initial data in the ratio **3:1:1**"
   ]
  },
  {
   "cell_type": "code",
   "execution_count": 108,
   "metadata": {},
   "outputs": [
    {
     "name": "stdout",
     "output_type": "stream",
     "text": [
      "Обучающая выборка : 0.6\n",
      "Тестовая выборка : 0.2\n",
      "Валидационнная выборка : 0.2\n"
     ]
    }
   ],
   "source": [
    "# Let's first divide our initial dataset into a training sample [train] and a sample allocated for \n",
    "# test and validation [add]\n",
    "train, add = train_test_split(data, test_size=0.4, random_state=12345)\n",
    "\n",
    "# Divide the remaining dataset into validation [valid] and test [test] samples\n",
    "test, valid = train_test_split(add, test_size=0.5, random_state=12345)\n",
    "\n",
    "\n",
    "# Check if we have correctly divided our samples according to our preferences\n",
    "samples = [train, test, valid]\n",
    "train.name = 'Обучающая выборка'\n",
    "test.name = 'Тестовая выборка'\n",
    "valid.name = 'Валидационнная выборка'\n",
    "\n",
    "for df in samples:\n",
    "    print(df.name, ': {:2}'.format(round(df.shape[0] / data.shape[0], 2)))"
   ]
  },
  {
   "cell_type": "markdown",
   "metadata": {},
   "source": [
    "### Feature Extraction for Training"
   ]
  },
  {
   "cell_type": "code",
   "execution_count": 109,
   "metadata": {},
   "outputs": [],
   "source": [
    "# Training sample\n",
    "features_train = train.drop(['temp_end'], axis=1)\n",
    "target_train = train['temp_end']\n",
    "\n",
    "# Test sample\n",
    "features_test = test.drop(['temp_end'], axis=1)\n",
    "target_test = test['temp_end']\n",
    "\n",
    "# Validation sample\n",
    "features_valid = valid.drop(['temp_end'], axis=1)\n",
    "target_valid = valid['temp_end']"
   ]
  },
  {
   "cell_type": "markdown",
   "metadata": {},
   "source": [
    "### Feature Scaling"
   ]
  },
  {
   "cell_type": "markdown",
   "metadata": {},
   "source": [
    "Obviously, the dimensions of such fields as `temp_start` and `apparent_power` or `gas` (etc.) will be very different. Without feature scaling, we might run into a problem - algorithms might decide that higher values might have more effect than smaller values - hence deciding that some features are even more important than others. Although in reality this is not the case at all. We scale our features to avoid this trap.\n",
    "\n",
    "Let's use the standardization method."
   ]
  },
  {
   "cell_type": "code",
   "execution_count": 110,
   "metadata": {},
   "outputs": [],
   "source": [
    "numeric = ['temp_start', 'time_cycle', 'apparent_power', 'bulk', 'wire', 'gas']\n",
    "\n",
    "scaler = StandardScaler()\n",
    "scaler.fit(features_train[numeric])\n",
    "\n",
    "features_train[numeric] = scaler.transform(features_train[numeric])\n",
    "features_valid[numeric] = scaler.transform(features_valid[numeric])\n",
    "features_test[numeric] = scaler.transform(features_test[numeric])"
   ]
  },
  {
   "cell_type": "markdown",
   "metadata": {},
   "source": [
    "## Model Training "
   ]
  },
  {
   "cell_type": "markdown",
   "metadata": {},
   "source": [
    "### Function for generating a table with results"
   ]
  },
  {
   "cell_type": "code",
   "execution_count": 111,
   "metadata": {},
   "outputs": [],
   "source": [
    "results = pd.DataFrame(columns = ['Model', 'MAE', 'Learning Time', 'Prediction Time'])\n",
    "\n",
    "def fill_result(model, mae, learn_time, pred_time):\n",
    "    \n",
    "    global results\n",
    "    results = results.append({'Model': model, \\\n",
    "                              'MAE': mae, \\\n",
    "                              'Learning Time': learn_time, \\\n",
    "                              'Prediction Time': pred_time}, ignore_index=True)\n",
    "    \n",
    "    return results"
   ]
  },
  {
   "cell_type": "markdown",
   "metadata": {},
   "source": [
    "### Simple Models"
   ]
  },
  {
   "cell_type": "markdown",
   "metadata": {},
   "source": [
    "#### Linear Regression"
   ]
  },
  {
   "cell_type": "code",
   "execution_count": 112,
   "metadata": {
    "scrolled": true
   },
   "outputs": [
    {
     "data": {
      "text/html": [
       "<div>\n",
       "<style scoped>\n",
       "    .dataframe tbody tr th:only-of-type {\n",
       "        vertical-align: middle;\n",
       "    }\n",
       "\n",
       "    .dataframe tbody tr th {\n",
       "        vertical-align: top;\n",
       "    }\n",
       "\n",
       "    .dataframe thead th {\n",
       "        text-align: right;\n",
       "    }\n",
       "</style>\n",
       "<table border=\"1\" class=\"dataframe\">\n",
       "  <thead>\n",
       "    <tr style=\"text-align: right;\">\n",
       "      <th></th>\n",
       "      <th>Model</th>\n",
       "      <th>MAE</th>\n",
       "      <th>Learning Time</th>\n",
       "      <th>Prediction Time</th>\n",
       "    </tr>\n",
       "  </thead>\n",
       "  <tbody>\n",
       "    <tr>\n",
       "      <th>0</th>\n",
       "      <td>LinearRegression</td>\n",
       "      <td>8.212323</td>\n",
       "      <td>0.002907</td>\n",
       "      <td>0.001665</td>\n",
       "    </tr>\n",
       "  </tbody>\n",
       "</table>\n",
       "</div>"
      ],
      "text/plain": [
       "              Model       MAE  Learning Time  Prediction Time\n",
       "0  LinearRegression  8.212323       0.002907         0.001665"
      ]
     },
     "execution_count": 112,
     "metadata": {},
     "output_type": "execute_result"
    }
   ],
   "source": [
    "model_reg = LinearRegression()\n",
    "\n",
    "learn_start = time.time()\n",
    "model_reg.fit(features_train, target_train)\n",
    "learn_dur = time.time() - learn_start\n",
    "\n",
    "predict_start = time.time()\n",
    "predicted_valid = model_reg.predict(features_valid)\n",
    "predict_dur = time.time() - predict_start\n",
    "\n",
    "mae_reg = mean_absolute_error(target_valid, predicted_valid)\n",
    "\n",
    "fill_result(type(model_reg).__name__, mae_reg, learn_dur, predict_dur)"
   ]
  },
  {
   "cell_type": "markdown",
   "metadata": {},
   "source": [
    "#### Decision Tree"
   ]
  },
  {
   "cell_type": "markdown",
   "metadata": {},
   "source": [
    "###### Parameters Tuning"
   ]
  },
  {
   "cell_type": "code",
   "execution_count": 113,
   "metadata": {},
   "outputs": [],
   "source": [
    "params_tree = {'max_depth': range(1, 101, 10),\n",
    "              'min_samples_leaf': range (1,8),\n",
    "              'min_samples_split': range (2,10,2),\n",
    "              'criterion': ['mae']}"
   ]
  },
  {
   "cell_type": "markdown",
   "metadata": {},
   "source": [
    "###### Training"
   ]
  },
  {
   "cell_type": "code",
   "execution_count": 114,
   "metadata": {},
   "outputs": [
    {
     "data": {
      "text/html": [
       "<div>\n",
       "<style scoped>\n",
       "    .dataframe tbody tr th:only-of-type {\n",
       "        vertical-align: middle;\n",
       "    }\n",
       "\n",
       "    .dataframe tbody tr th {\n",
       "        vertical-align: top;\n",
       "    }\n",
       "\n",
       "    .dataframe thead th {\n",
       "        text-align: right;\n",
       "    }\n",
       "</style>\n",
       "<table border=\"1\" class=\"dataframe\">\n",
       "  <thead>\n",
       "    <tr style=\"text-align: right;\">\n",
       "      <th></th>\n",
       "      <th>Model</th>\n",
       "      <th>MAE</th>\n",
       "      <th>Learning Time</th>\n",
       "      <th>Prediction Time</th>\n",
       "    </tr>\n",
       "  </thead>\n",
       "  <tbody>\n",
       "    <tr>\n",
       "      <th>0</th>\n",
       "      <td>LinearRegression</td>\n",
       "      <td>8.212323</td>\n",
       "      <td>0.002907</td>\n",
       "      <td>0.001665</td>\n",
       "    </tr>\n",
       "    <tr>\n",
       "      <th>1</th>\n",
       "      <td>DecisionTreeRegressor</td>\n",
       "      <td>7.434673</td>\n",
       "      <td>76.857587</td>\n",
       "      <td>0.001792</td>\n",
       "    </tr>\n",
       "  </tbody>\n",
       "</table>\n",
       "</div>"
      ],
      "text/plain": [
       "                   Model       MAE  Learning Time  Prediction Time\n",
       "0       LinearRegression  8.212323       0.002907         0.001665\n",
       "1  DecisionTreeRegressor  7.434673      76.857587         0.001792"
      ]
     },
     "execution_count": 114,
     "metadata": {},
     "output_type": "execute_result"
    }
   ],
   "source": [
    "model_tree = DecisionTreeRegressor(random_state=12345) \n",
    "\n",
    "grid_cv_tree = GridSearchCV(estimator = model_tree,\n",
    "                            param_grid = params_tree,\n",
    "                            scoring = 'neg_mean_absolute_error',\n",
    "                            cv = 5)\n",
    "\n",
    "learn_start = time.time()\n",
    "grid_cv_tree.fit(features_train, target_train)\n",
    "learn_dur = time.time() - learn_start\n",
    "\n",
    "predict_start = time.time()\n",
    "predicted_valid = grid_cv_tree.best_estimator_.predict(features_valid)\n",
    "predict_dur = time.time() - predict_start\n",
    "\n",
    "mae_tree = mean_absolute_error(target_valid, predicted_valid)\n",
    "\n",
    "fill_result(type(grid_cv_tree.best_estimator_).__name__, mae_tree, learn_dur, predict_dur)"
   ]
  },
  {
   "cell_type": "code",
   "execution_count": 115,
   "metadata": {},
   "outputs": [
    {
     "data": {
      "text/plain": [
       "{'criterion': 'mae',\n",
       " 'max_depth': 11,\n",
       " 'min_samples_leaf': 7,\n",
       " 'min_samples_split': 2}"
      ]
     },
     "execution_count": 115,
     "metadata": {},
     "output_type": "execute_result"
    }
   ],
   "source": [
    "grid_cv_tree.best_params_"
   ]
  },
  {
   "cell_type": "markdown",
   "metadata": {},
   "source": [
    "#### Random Forest params"
   ]
  },
  {
   "cell_type": "markdown",
   "metadata": {},
   "source": [
    "###### Parameters Tuning"
   ]
  },
  {
   "cell_type": "code",
   "execution_count": 116,
   "metadata": {},
   "outputs": [],
   "source": [
    "params_forest = {'max_depth': range(1, 21, 5),\n",
    "                 'n_estimators': range(1, 31, 4),\n",
    "                 'criterion': ['mae']}"
   ]
  },
  {
   "cell_type": "markdown",
   "metadata": {},
   "source": [
    "###### Training"
   ]
  },
  {
   "cell_type": "code",
   "execution_count": 117,
   "metadata": {
    "scrolled": true
   },
   "outputs": [
    {
     "data": {
      "text/html": [
       "<div>\n",
       "<style scoped>\n",
       "    .dataframe tbody tr th:only-of-type {\n",
       "        vertical-align: middle;\n",
       "    }\n",
       "\n",
       "    .dataframe tbody tr th {\n",
       "        vertical-align: top;\n",
       "    }\n",
       "\n",
       "    .dataframe thead th {\n",
       "        text-align: right;\n",
       "    }\n",
       "</style>\n",
       "<table border=\"1\" class=\"dataframe\">\n",
       "  <thead>\n",
       "    <tr style=\"text-align: right;\">\n",
       "      <th></th>\n",
       "      <th>Model</th>\n",
       "      <th>MAE</th>\n",
       "      <th>Learning Time</th>\n",
       "      <th>Prediction Time</th>\n",
       "    </tr>\n",
       "  </thead>\n",
       "  <tbody>\n",
       "    <tr>\n",
       "      <th>0</th>\n",
       "      <td>LinearRegression</td>\n",
       "      <td>8.212323</td>\n",
       "      <td>0.002907</td>\n",
       "      <td>0.001665</td>\n",
       "    </tr>\n",
       "    <tr>\n",
       "      <th>1</th>\n",
       "      <td>DecisionTreeRegressor</td>\n",
       "      <td>7.434673</td>\n",
       "      <td>76.857587</td>\n",
       "      <td>0.001792</td>\n",
       "    </tr>\n",
       "    <tr>\n",
       "      <th>2</th>\n",
       "      <td>RandomForestRegressor</td>\n",
       "      <td>6.574171</td>\n",
       "      <td>53.751332</td>\n",
       "      <td>0.005184</td>\n",
       "    </tr>\n",
       "  </tbody>\n",
       "</table>\n",
       "</div>"
      ],
      "text/plain": [
       "                   Model       MAE  Learning Time  Prediction Time\n",
       "0       LinearRegression  8.212323       0.002907         0.001665\n",
       "1  DecisionTreeRegressor  7.434673      76.857587         0.001792\n",
       "2  RandomForestRegressor  6.574171      53.751332         0.005184"
      ]
     },
     "execution_count": 117,
     "metadata": {},
     "output_type": "execute_result"
    }
   ],
   "source": [
    "model_forest = RandomForestRegressor(random_state=12345) \n",
    "\n",
    "grid_cv_forest = GridSearchCV(estimator = model_forest,\n",
    "                              param_grid = params_forest,\n",
    "                              scoring = 'neg_mean_absolute_error',\n",
    "                              cv = 5)\n",
    "\n",
    "learn_start = time.time()\n",
    "grid_cv_forest.fit(features_train, target_train)\n",
    "learn_dur = time.time() - learn_start\n",
    "\n",
    "predict_start = time.time()\n",
    "predicted_valid = grid_cv_forest.best_estimator_.predict(features_valid)\n",
    "predict_dur = time.time() - predict_start\n",
    "\n",
    "mae_forest = mean_absolute_error(target_valid, predicted_valid)\n",
    "\n",
    "fill_result(type(grid_cv_forest.best_estimator_).__name__, mae_forest, learn_dur, predict_dur)"
   ]
  },
  {
   "cell_type": "code",
   "execution_count": 118,
   "metadata": {},
   "outputs": [
    {
     "data": {
      "text/plain": [
       "{'criterion': 'mae', 'max_depth': 11, 'n_estimators': 25}"
      ]
     },
     "execution_count": 118,
     "metadata": {},
     "output_type": "execute_result"
    }
   ],
   "source": [
    "grid_cv_forest.best_params_"
   ]
  },
  {
   "cell_type": "markdown",
   "metadata": {},
   "source": [
    "### More Complex Models"
   ]
  },
  {
   "cell_type": "markdown",
   "metadata": {},
   "source": [
    "#### LGBMRegressor"
   ]
  },
  {
   "cell_type": "markdown",
   "metadata": {},
   "source": [
    "###### Parameters Tuning"
   ]
  },
  {
   "cell_type": "code",
   "execution_count": 119,
   "metadata": {},
   "outputs": [],
   "source": [
    "params_lgbm = {'learning_rate': np.arange(0.01, 0.51, 0.05),\n",
    "               'n_estimators': range(1, 301, 50)}"
   ]
  },
  {
   "cell_type": "markdown",
   "metadata": {},
   "source": [
    "###### Training"
   ]
  },
  {
   "cell_type": "code",
   "execution_count": 120,
   "metadata": {
    "scrolled": false
   },
   "outputs": [
    {
     "data": {
      "text/html": [
       "<div>\n",
       "<style scoped>\n",
       "    .dataframe tbody tr th:only-of-type {\n",
       "        vertical-align: middle;\n",
       "    }\n",
       "\n",
       "    .dataframe tbody tr th {\n",
       "        vertical-align: top;\n",
       "    }\n",
       "\n",
       "    .dataframe thead th {\n",
       "        text-align: right;\n",
       "    }\n",
       "</style>\n",
       "<table border=\"1\" class=\"dataframe\">\n",
       "  <thead>\n",
       "    <tr style=\"text-align: right;\">\n",
       "      <th></th>\n",
       "      <th>Model</th>\n",
       "      <th>MAE</th>\n",
       "      <th>Learning Time</th>\n",
       "      <th>Prediction Time</th>\n",
       "    </tr>\n",
       "  </thead>\n",
       "  <tbody>\n",
       "    <tr>\n",
       "      <th>0</th>\n",
       "      <td>LinearRegression</td>\n",
       "      <td>8.212323</td>\n",
       "      <td>0.002907</td>\n",
       "      <td>0.001665</td>\n",
       "    </tr>\n",
       "    <tr>\n",
       "      <th>1</th>\n",
       "      <td>DecisionTreeRegressor</td>\n",
       "      <td>7.434673</td>\n",
       "      <td>76.857587</td>\n",
       "      <td>0.001792</td>\n",
       "    </tr>\n",
       "    <tr>\n",
       "      <th>2</th>\n",
       "      <td>RandomForestRegressor</td>\n",
       "      <td>6.574171</td>\n",
       "      <td>53.751332</td>\n",
       "      <td>0.005184</td>\n",
       "    </tr>\n",
       "    <tr>\n",
       "      <th>3</th>\n",
       "      <td>LGBMRegressor</td>\n",
       "      <td>6.604579</td>\n",
       "      <td>375.417538</td>\n",
       "      <td>0.003046</td>\n",
       "    </tr>\n",
       "  </tbody>\n",
       "</table>\n",
       "</div>"
      ],
      "text/plain": [
       "                   Model       MAE  Learning Time  Prediction Time\n",
       "0       LinearRegression  8.212323       0.002907         0.001665\n",
       "1  DecisionTreeRegressor  7.434673      76.857587         0.001792\n",
       "2  RandomForestRegressor  6.574171      53.751332         0.005184\n",
       "3          LGBMRegressor  6.604579     375.417538         0.003046"
      ]
     },
     "execution_count": 120,
     "metadata": {},
     "output_type": "execute_result"
    }
   ],
   "source": [
    "model_lgbm = LGBMRegressor(random_state=12345)\n",
    "\n",
    "grid_cv_lgbm = GridSearchCV(estimator = model_lgbm,\n",
    "                              param_grid = params_lgbm,\n",
    "                              scoring = 'neg_mean_absolute_error',\n",
    "                              cv = 5)\n",
    "\n",
    "learn_start = time.time()\n",
    "grid_cv_lgbm.fit(features_train, target_train)\n",
    "learn_dur = time.time() - learn_start\n",
    "\n",
    "predict_start = time.time()\n",
    "predicted_valid = grid_cv_lgbm.best_estimator_.predict(features_valid)\n",
    "predict_dur = time.time() - predict_start\n",
    "\n",
    "mae_lgbm = mean_absolute_error(target_valid, predicted_valid)\n",
    "\n",
    "fill_result(type(grid_cv_lgbm.best_estimator_).__name__, mae_lgbm, learn_dur, predict_dur)"
   ]
  },
  {
   "cell_type": "code",
   "execution_count": 121,
   "metadata": {
    "scrolled": true
   },
   "outputs": [
    {
     "data": {
      "text/plain": [
       "{'learning_rate': 0.060000000000000005, 'n_estimators': 101}"
      ]
     },
     "execution_count": 121,
     "metadata": {},
     "output_type": "execute_result"
    }
   ],
   "source": [
    "grid_cv_lgbm.best_params_"
   ]
  },
  {
   "cell_type": "markdown",
   "metadata": {},
   "source": [
    "#### CatBoostRegressor"
   ]
  },
  {
   "cell_type": "markdown",
   "metadata": {},
   "source": [
    "###### Parameters Tuning"
   ]
  },
  {
   "cell_type": "code",
   "execution_count": 122,
   "metadata": {},
   "outputs": [],
   "source": [
    "params_cat = {'learning_rate': [0.1, 0.15, 0.2, 0.25],\n",
    "              'iterations': [200,300,400,500]}"
   ]
  },
  {
   "cell_type": "markdown",
   "metadata": {},
   "source": [
    "###### Training"
   ]
  },
  {
   "cell_type": "code",
   "execution_count": 123,
   "metadata": {
    "scrolled": true
   },
   "outputs": [],
   "source": [
    "model_cat = CatBoostRegressor(random_state=12345, verbose=False)\n",
    "\n",
    "grid_cv_cat = GridSearchCV(estimator = model_cat,\n",
    "                              param_grid = params_cat,\n",
    "                              scoring = 'neg_mean_absolute_error',\n",
    "                              cv = 5)\n",
    "\n",
    "learn_start = time.time()\n",
    "grid_cv_cat.fit(features_train, target_train)\n",
    "learn_dur = time.time() - learn_start\n",
    "\n",
    "predict_start = time.time()\n",
    "predicted_valid = grid_cv_cat.best_estimator_.predict(features_valid)\n",
    "predict_dur = time.time() - predict_start\n",
    "\n",
    "mae_cat = mean_absolute_error(target_valid, predicted_valid)"
   ]
  },
  {
   "cell_type": "code",
   "execution_count": 124,
   "metadata": {},
   "outputs": [
    {
     "data": {
      "text/html": [
       "<div>\n",
       "<style scoped>\n",
       "    .dataframe tbody tr th:only-of-type {\n",
       "        vertical-align: middle;\n",
       "    }\n",
       "\n",
       "    .dataframe tbody tr th {\n",
       "        vertical-align: top;\n",
       "    }\n",
       "\n",
       "    .dataframe thead th {\n",
       "        text-align: right;\n",
       "    }\n",
       "</style>\n",
       "<table border=\"1\" class=\"dataframe\">\n",
       "  <thead>\n",
       "    <tr style=\"text-align: right;\">\n",
       "      <th></th>\n",
       "      <th>Model</th>\n",
       "      <th>MAE</th>\n",
       "      <th>Learning Time</th>\n",
       "      <th>Prediction Time</th>\n",
       "    </tr>\n",
       "  </thead>\n",
       "  <tbody>\n",
       "    <tr>\n",
       "      <th>0</th>\n",
       "      <td>LinearRegression</td>\n",
       "      <td>8.212323</td>\n",
       "      <td>0.002907</td>\n",
       "      <td>0.001665</td>\n",
       "    </tr>\n",
       "    <tr>\n",
       "      <th>1</th>\n",
       "      <td>DecisionTreeRegressor</td>\n",
       "      <td>7.434673</td>\n",
       "      <td>76.857587</td>\n",
       "      <td>0.001792</td>\n",
       "    </tr>\n",
       "    <tr>\n",
       "      <th>2</th>\n",
       "      <td>RandomForestRegressor</td>\n",
       "      <td>6.574171</td>\n",
       "      <td>53.751332</td>\n",
       "      <td>0.005184</td>\n",
       "    </tr>\n",
       "    <tr>\n",
       "      <th>3</th>\n",
       "      <td>LGBMRegressor</td>\n",
       "      <td>6.604579</td>\n",
       "      <td>375.417538</td>\n",
       "      <td>0.003046</td>\n",
       "    </tr>\n",
       "    <tr>\n",
       "      <th>4</th>\n",
       "      <td>CatBoostRegressor</td>\n",
       "      <td>6.281229</td>\n",
       "      <td>96.229257</td>\n",
       "      <td>0.001455</td>\n",
       "    </tr>\n",
       "  </tbody>\n",
       "</table>\n",
       "</div>"
      ],
      "text/plain": [
       "                   Model       MAE  Learning Time  Prediction Time\n",
       "0       LinearRegression  8.212323       0.002907         0.001665\n",
       "1  DecisionTreeRegressor  7.434673      76.857587         0.001792\n",
       "2  RandomForestRegressor  6.574171      53.751332         0.005184\n",
       "3          LGBMRegressor  6.604579     375.417538         0.003046\n",
       "4      CatBoostRegressor  6.281229      96.229257         0.001455"
      ]
     },
     "execution_count": 124,
     "metadata": {},
     "output_type": "execute_result"
    }
   ],
   "source": [
    "fill_result(type(grid_cv_cat.best_estimator_).__name__, mae_cat, learn_dur, predict_dur)"
   ]
  },
  {
   "cell_type": "code",
   "execution_count": 125,
   "metadata": {},
   "outputs": [
    {
     "data": {
      "text/plain": [
       "{'iterations': 200, 'learning_rate': 0.2}"
      ]
     },
     "execution_count": 125,
     "metadata": {},
     "output_type": "execute_result"
    }
   ],
   "source": [
    "grid_cv_cat.best_params_"
   ]
  },
  {
   "cell_type": "markdown",
   "metadata": {},
   "source": [
    "### Conclusion"
   ]
  },
  {
   "cell_type": "markdown",
   "metadata": {},
   "source": [
    "Therefore, it can be seen that the best result among the studied models was given by the **CatBoostRegressor** model with the following parameters:\n",
    "\n",
    "* **`iterations` = 200**\n",
    "\n",
    "* **`learning_rate` = 0.1**\n",
    "\n",
    "---\n",
    "\n",
    "On average, the model is wrong by 6 degrees - **MAE on the validation set** is **6.28**"
   ]
  },
  {
   "cell_type": "markdown",
   "metadata": {},
   "source": [
    "### Analysis of the Selected Model"
   ]
  },
  {
   "cell_type": "markdown",
   "metadata": {},
   "source": [
    "#### Model Check on a Test Set"
   ]
  },
  {
   "cell_type": "code",
   "execution_count": 126,
   "metadata": {
    "scrolled": true
   },
   "outputs": [
    {
     "name": "stdout",
     "output_type": "stream",
     "text": [
      "CatBoostRegressor | MAE | Тестовая выборка: 6.675280\n"
     ]
    }
   ],
   "source": [
    "predicted_test = grid_cv_cat.best_estimator_.predict(features_test)\n",
    "mae_test = mean_absolute_error(target_test, predicted_test)\n",
    "\n",
    "print('CatBoostRegressor | MAE | Тестовая выборка: {:2f}'.format(mae_test))"
   ]
  },
  {
   "cell_type": "markdown",
   "metadata": {},
   "source": [
    "#### Model Sanity Check"
   ]
  },
  {
   "cell_type": "code",
   "execution_count": 127,
   "metadata": {},
   "outputs": [
    {
     "name": "stdout",
     "output_type": "stream",
     "text": [
      "MAE константной модели: 10.321608040201005\n"
     ]
    }
   ],
   "source": [
    "dummy_regressor = DummyRegressor(strategy=\"median\") \n",
    "\n",
    "dummy_regressor.fit(features_train, target_train)\n",
    "dummy_predicted = dummy_regressor.predict(features_test)\n",
    "mae_dummy = mean_absolute_error(target_test, dummy_predicted)\n",
    "\n",
    "print('MAE константной модели:', mae_dummy)"
   ]
  },
  {
   "cell_type": "markdown",
   "metadata": {},
   "source": [
    "Model passed **Sanity Check**"
   ]
  },
  {
   "cell_type": "markdown",
   "metadata": {},
   "source": [
    "#### Feature Importance Analysis"
   ]
  },
  {
   "cell_type": "code",
   "execution_count": 128,
   "metadata": {
    "scrolled": false
   },
   "outputs": [
    {
     "data": {
      "text/plain": [
       "Text(0.5, 1.0, 'Анализ важности признаков модели')"
      ]
     },
     "execution_count": 128,
     "metadata": {},
     "output_type": "execute_result"
    },
    {
     "data": {
      "image/png": "[encoded data removed]",
      "text/plain": [
       "<Figure size 2160x1008 with 1 Axes>"
      ]
     },
     "metadata": {
      "needs_background": "light"
     },
     "output_type": "display_data"
    }
   ],
   "source": [
    "feature_importance =pd.DataFrame({'feature':features_train.columns,\n",
    "                                  'importance': grid_cv_cat.best_estimator_.feature_importances_}\\\n",
    "                                ).sort_values('importance', ascending=False)\n",
    "\n",
    "fig, ax = plt.subplots(figsize=(30,14))\n",
    "a = sns.barplot(x='importance', y='feature', data=feature_importance, palette=sns.color_palette(\"coolwarm\"))\n",
    "\n",
    "plt.xticks(fontsize=20)\n",
    "plt.yticks(fontsize=20)\n",
    "plt.xlabel('importance', size=24, weight='bold')\n",
    "plt.ylabel('features', size=24, labelpad=30, weight='bold')\n",
    "plt.title('Анализ важности признаков модели', pad=30, fontsize=30, weight='bold')"
   ]
  },
  {
   "cell_type": "markdown",
   "metadata": {},
   "source": [
    "Thus, we can see that the model considered the amount of alloying wire **`wire` to be the most important feature**. Whereas the **most useless** features for learning turned out to be the value of **added gas `gas`** and **number of alloying bulk materials `bulk`**"
   ]
  },
  {
   "cell_type": "markdown",
   "metadata": {},
   "source": [
    "## Report"
   ]
  },
  {
   "cell_type": "markdown",
   "metadata": {},
   "source": [
    "In this project, data from the steel processing cycle was analyzed (including temperature measurements, power used, data on heating electrodes and the amount of alloying materials used and gas that changes the chemical composition of the steel and its temperature). The main objective of the project was to create a model capable of predicting the steel temperature at the final measurement after the entire cycle.\n",
    "\n",
    "---"
   ]
  },
  {
   "cell_type": "markdown",
   "metadata": {},
   "source": [
    "**Project plan** was as follows:\n",
    "    \n",
    "1) Examining available data\n",
    "\n",
    "2) Data processing \n",
    "\n",
    "3) Consultation with the team leader on the process of completing the task / clarification of questions\n",
    "\n",
    "4) Formation of features of the model and training sample\n",
    "\n",
    "5) Study of simple and more complex models (with the selection of acceptable parameters)\n",
    "\n",
    "6) Analysis of the resulting model (checking on a test sample, sanity check, feature importance)\n",
    "\n",
    "*Each of the main stages of the project was completed*\n",
    "\n",
    "----"
   ]
  },
  {
   "cell_type": "markdown",
   "metadata": {},
   "source": [
    "**Final model**:\n",
    "\n",
    "- **`CatBoostRegressor`**\n",
    "\n",
    "\n",
    "**Parameters**:\n",
    "\n",
    "- **`iterations`** = 200\n",
    "\n",
    "\n",
    "- **`learning_rate`** = 0.1\n",
    "\n",
    "\n",
    "**Model quality**:\n",
    "\n",
    "- **MAE** | *Test sample* = 6.6753"
   ]
  },
  {
   "cell_type": "code",
   "execution_count": null,
   "metadata": {},
   "outputs": [],
   "source": []
  }
 ],
 "metadata": {
  "ExecuteTimeLog": [
   {
    "duration": 207,
    "start_time": "2021-10-19T10:47:30.901Z"
   },
   {
    "duration": 548,
    "start_time": "2021-10-19T10:47:36.443Z"
   },
   {
    "duration": 71,
    "start_time": "2021-10-19T10:48:46.160Z"
   },
   {
    "duration": 20,
    "start_time": "2021-10-19T10:48:47.812Z"
   },
   {
    "duration": 8,
    "start_time": "2021-10-19T10:49:54.088Z"
   },
   {
    "duration": 126,
    "start_time": "2021-10-19T10:51:03.218Z"
   },
   {
    "duration": 20,
    "start_time": "2021-10-19T10:51:07.106Z"
   },
   {
    "duration": 187,
    "start_time": "2021-10-19T10:52:19.950Z"
   },
   {
    "duration": 170,
    "start_time": "2021-10-19T10:52:22.268Z"
   },
   {
    "duration": 19,
    "start_time": "2021-10-19T10:52:23.314Z"
   },
   {
    "duration": 228,
    "start_time": "2021-10-19T10:54:09.658Z"
   },
   {
    "duration": 8,
    "start_time": "2021-10-19T10:54:12.853Z"
   },
   {
    "duration": 180,
    "start_time": "2021-10-19T10:54:17.199Z"
   },
   {
    "duration": 153,
    "start_time": "2021-10-19T10:54:25.788Z"
   },
   {
    "duration": 10,
    "start_time": "2021-10-19T10:54:26.435Z"
   },
   {
    "duration": 408,
    "start_time": "2021-10-19T16:05:14.878Z"
   },
   {
    "duration": 712,
    "start_time": "2021-10-19T16:05:29.051Z"
   },
   {
    "duration": 346,
    "start_time": "2021-10-19T16:05:31.812Z"
   },
   {
    "duration": 23,
    "start_time": "2021-10-19T16:05:40.491Z"
   },
   {
    "duration": 26,
    "start_time": "2021-10-19T16:07:08.160Z"
   },
   {
    "duration": 364,
    "start_time": "2021-10-19T16:08:02.698Z"
   },
   {
    "duration": 29,
    "start_time": "2021-10-19T16:08:07.323Z"
   },
   {
    "duration": 25,
    "start_time": "2021-10-19T16:09:21.179Z"
   },
   {
    "duration": 24,
    "start_time": "2021-10-19T16:10:35.645Z"
   },
   {
    "duration": 10,
    "start_time": "2021-10-19T16:10:56.969Z"
   },
   {
    "duration": 7,
    "start_time": "2021-10-19T16:11:25.278Z"
   },
   {
    "duration": 7,
    "start_time": "2021-10-19T16:11:30.018Z"
   },
   {
    "duration": 24,
    "start_time": "2021-10-19T16:11:35.499Z"
   },
   {
    "duration": 14,
    "start_time": "2021-10-19T16:11:39.754Z"
   },
   {
    "duration": 10,
    "start_time": "2021-10-19T16:12:42.388Z"
   },
   {
    "duration": 11,
    "start_time": "2021-10-19T16:12:57.154Z"
   },
   {
    "duration": 14,
    "start_time": "2021-10-19T16:13:11.762Z"
   },
   {
    "duration": 11,
    "start_time": "2021-10-19T16:13:55.354Z"
   },
   {
    "duration": 10,
    "start_time": "2021-10-19T16:15:20.699Z"
   },
   {
    "duration": 12,
    "start_time": "2021-10-19T16:16:10.841Z"
   },
   {
    "duration": 26,
    "start_time": "2021-10-19T16:16:36.778Z"
   },
   {
    "duration": 24,
    "start_time": "2021-10-19T16:16:44.492Z"
   },
   {
    "duration": 24,
    "start_time": "2021-10-19T16:17:27.559Z"
   },
   {
    "duration": 13,
    "start_time": "2021-10-19T16:17:32.934Z"
   },
   {
    "duration": 23,
    "start_time": "2021-10-19T16:17:39.227Z"
   },
   {
    "duration": 10,
    "start_time": "2021-10-19T16:19:03.191Z"
   },
   {
    "duration": 11,
    "start_time": "2021-10-19T16:19:06.955Z"
   },
   {
    "duration": 16,
    "start_time": "2021-10-19T16:19:10.858Z"
   },
   {
    "duration": 19,
    "start_time": "2021-10-19T16:19:58.026Z"
   },
   {
    "duration": 11,
    "start_time": "2021-10-19T17:33:08.680Z"
   },
   {
    "duration": 10,
    "start_time": "2021-10-19T17:33:16.828Z"
   },
   {
    "duration": 11,
    "start_time": "2021-10-19T17:33:23.795Z"
   },
   {
    "duration": 10,
    "start_time": "2021-10-19T17:34:22.554Z"
   },
   {
    "duration": 13,
    "start_time": "2021-10-19T17:34:34.522Z"
   },
   {
    "duration": 12,
    "start_time": "2021-10-19T17:36:02.448Z"
   },
   {
    "duration": 506,
    "start_time": "2021-10-21T11:16:40.942Z"
   },
   {
    "duration": 482,
    "start_time": "2021-10-21T11:16:44.166Z"
   },
   {
    "duration": 471,
    "start_time": "2021-10-21T11:17:25.622Z"
   },
   {
    "duration": 464,
    "start_time": "2021-10-21T11:17:32.232Z"
   },
   {
    "duration": 9,
    "start_time": "2021-10-21T11:27:27.616Z"
   },
   {
    "duration": 31,
    "start_time": "2021-10-21T11:35:17.453Z"
   },
   {
    "duration": 33,
    "start_time": "2021-10-21T11:35:30.730Z"
   },
   {
    "duration": 3,
    "start_time": "2021-10-21T11:35:39.035Z"
   },
   {
    "duration": 14,
    "start_time": "2021-10-21T11:36:06.207Z"
   },
   {
    "duration": 15,
    "start_time": "2021-10-21T14:19:39.734Z"
   },
   {
    "duration": 567,
    "start_time": "2021-10-21T14:25:08.459Z"
   },
   {
    "duration": 3379,
    "start_time": "2021-10-21T14:25:47.888Z"
   },
   {
    "duration": 14,
    "start_time": "2021-10-21T14:26:29.628Z"
   },
   {
    "duration": 5141,
    "start_time": "2021-10-21T14:26:43.008Z"
   },
   {
    "duration": 15,
    "start_time": "2021-10-21T14:26:51.358Z"
   },
   {
    "duration": 1459,
    "start_time": "2021-10-21T14:27:02.186Z"
   },
   {
    "duration": 1530,
    "start_time": "2021-10-21T14:32:33.823Z"
   },
   {
    "duration": 8,
    "start_time": "2021-10-21T14:35:45.716Z"
   },
   {
    "duration": 889,
    "start_time": "2021-10-21T14:36:10.675Z"
   },
   {
    "duration": 5,
    "start_time": "2021-10-21T14:36:17.550Z"
   },
   {
    "duration": 596,
    "start_time": "2021-10-21T14:36:17.964Z"
   },
   {
    "duration": 623,
    "start_time": "2021-10-21T14:37:33.400Z"
   },
   {
    "duration": 7,
    "start_time": "2021-10-21T14:43:33.512Z"
   },
   {
    "duration": 5,
    "start_time": "2021-10-21T14:48:30.406Z"
   },
   {
    "duration": 190,
    "start_time": "2021-10-21T14:48:53.297Z"
   },
   {
    "duration": 65,
    "start_time": "2021-10-21T14:49:09.144Z"
   },
   {
    "duration": 9,
    "start_time": "2021-10-21T14:49:50.080Z"
   },
   {
    "duration": 5,
    "start_time": "2021-10-21T14:50:11.873Z"
   },
   {
    "duration": 4,
    "start_time": "2021-10-21T14:50:15.283Z"
   },
   {
    "duration": 5,
    "start_time": "2021-10-21T14:50:18.675Z"
   },
   {
    "duration": 4,
    "start_time": "2021-10-21T14:50:19.175Z"
   },
   {
    "duration": 6,
    "start_time": "2021-10-21T14:51:14.604Z"
   },
   {
    "duration": 4,
    "start_time": "2021-10-21T14:51:16.338Z"
   },
   {
    "duration": 6,
    "start_time": "2021-10-21T14:51:27.495Z"
   },
   {
    "duration": 4,
    "start_time": "2021-10-21T14:51:27.783Z"
   },
   {
    "duration": 2,
    "start_time": "2021-10-21T14:52:20.547Z"
   },
   {
    "duration": 6,
    "start_time": "2021-10-21T14:52:25.042Z"
   },
   {
    "duration": 4,
    "start_time": "2021-10-21T14:52:25.760Z"
   },
   {
    "duration": 4,
    "start_time": "2021-10-21T14:52:45.933Z"
   },
   {
    "duration": 3,
    "start_time": "2021-10-21T14:55:44.781Z"
   },
   {
    "duration": 60,
    "start_time": "2021-10-21T14:56:08.211Z"
   },
   {
    "duration": 13,
    "start_time": "2021-10-21T14:56:22.300Z"
   },
   {
    "duration": 49,
    "start_time": "2021-10-21T14:56:31.967Z"
   },
   {
    "duration": 41,
    "start_time": "2021-10-21T14:59:55.927Z"
   },
   {
    "duration": 67,
    "start_time": "2021-10-21T15:00:11.706Z"
   },
   {
    "duration": 11,
    "start_time": "2021-10-21T15:00:14.104Z"
   },
   {
    "duration": 10,
    "start_time": "2021-10-21T15:01:28.446Z"
   },
   {
    "duration": 11,
    "start_time": "2021-10-21T15:01:33.946Z"
   },
   {
    "duration": 11,
    "start_time": "2021-10-21T15:05:55.509Z"
   },
   {
    "duration": 3,
    "start_time": "2021-10-21T15:06:43.533Z"
   },
   {
    "duration": 5,
    "start_time": "2021-10-21T15:07:43.293Z"
   },
   {
    "duration": 9,
    "start_time": "2021-10-21T15:07:54.406Z"
   },
   {
    "duration": 10,
    "start_time": "2021-10-21T15:07:57.935Z"
   },
   {
    "duration": 8,
    "start_time": "2021-10-21T15:12:19.180Z"
   },
   {
    "duration": 3,
    "start_time": "2021-10-21T15:12:30.856Z"
   },
   {
    "duration": 10,
    "start_time": "2021-10-21T15:12:55.147Z"
   },
   {
    "duration": 51,
    "start_time": "2021-10-21T15:13:33.626Z"
   },
   {
    "duration": 57,
    "start_time": "2021-10-21T15:14:21.621Z"
   },
   {
    "duration": 703,
    "start_time": "2021-10-21T15:15:02.870Z"
   },
   {
    "duration": 1503,
    "start_time": "2021-10-21T15:21:00.521Z"
   },
   {
    "duration": 173,
    "start_time": "2021-10-21T15:21:53.854Z"
   },
   {
    "duration": 288,
    "start_time": "2021-10-21T15:22:39.585Z"
   },
   {
    "duration": 1835,
    "start_time": "2021-10-21T15:27:57.731Z"
   },
   {
    "duration": 1666,
    "start_time": "2021-10-21T15:28:51.562Z"
   },
   {
    "duration": 1790,
    "start_time": "2021-10-21T15:29:08.333Z"
   },
   {
    "duration": 1634,
    "start_time": "2021-10-21T15:29:25.757Z"
   },
   {
    "duration": 1598,
    "start_time": "2021-10-21T15:29:37.639Z"
   },
   {
    "duration": 1625,
    "start_time": "2021-10-21T15:29:58.860Z"
   },
   {
    "duration": 1659,
    "start_time": "2021-10-21T15:30:06.706Z"
   },
   {
    "duration": 1686,
    "start_time": "2021-10-21T15:30:12.475Z"
   },
   {
    "duration": 1629,
    "start_time": "2021-10-21T15:31:38.805Z"
   },
   {
    "duration": 1669,
    "start_time": "2021-10-21T15:31:44.292Z"
   },
   {
    "duration": 1632,
    "start_time": "2021-10-21T15:31:49.213Z"
   },
   {
    "duration": 1720,
    "start_time": "2021-10-21T15:31:56.031Z"
   },
   {
    "duration": 1573,
    "start_time": "2021-10-21T15:32:08.763Z"
   },
   {
    "duration": 172,
    "start_time": "2021-10-21T15:39:55.875Z"
   },
   {
    "duration": 12,
    "start_time": "2021-10-21T15:40:04.828Z"
   },
   {
    "duration": 6,
    "start_time": "2021-10-21T15:41:13.303Z"
   },
   {
    "duration": 16,
    "start_time": "2021-10-21T15:41:18.393Z"
   },
   {
    "duration": 14,
    "start_time": "2021-10-21T15:41:24.605Z"
   },
   {
    "duration": 11,
    "start_time": "2021-10-21T15:43:08.578Z"
   },
   {
    "duration": 173,
    "start_time": "2021-10-21T15:50:16.544Z"
   },
   {
    "duration": 4,
    "start_time": "2021-10-21T15:50:26.652Z"
   },
   {
    "duration": 104,
    "start_time": "2021-10-21T15:51:22.798Z"
   },
   {
    "duration": 5,
    "start_time": "2021-10-21T15:51:44.766Z"
   },
   {
    "duration": 5,
    "start_time": "2021-10-21T15:52:01.155Z"
   },
   {
    "duration": 4,
    "start_time": "2021-10-21T15:52:33.870Z"
   },
   {
    "duration": 5,
    "start_time": "2021-10-21T15:53:13.420Z"
   },
   {
    "duration": 245,
    "start_time": "2021-10-21T15:56:09.987Z"
   },
   {
    "duration": 34,
    "start_time": "2021-10-21T15:56:36.718Z"
   },
   {
    "duration": 33,
    "start_time": "2021-10-21T15:56:45.486Z"
   },
   {
    "duration": 55,
    "start_time": "2021-10-21T15:57:54.168Z"
   },
   {
    "duration": 8,
    "start_time": "2021-10-21T15:58:05.672Z"
   },
   {
    "duration": 7,
    "start_time": "2021-10-21T15:58:15.307Z"
   },
   {
    "duration": 6,
    "start_time": "2021-10-21T15:58:21.006Z"
   },
   {
    "duration": 13,
    "start_time": "2021-10-21T18:42:45.547Z"
   },
   {
    "duration": 219,
    "start_time": "2021-10-21T18:43:05.394Z"
   },
   {
    "duration": 1174,
    "start_time": "2021-10-21T18:43:43.383Z"
   },
   {
    "duration": 1615,
    "start_time": "2021-10-21T18:43:44.559Z"
   },
   {
    "duration": 363,
    "start_time": "2021-10-21T18:43:45.814Z"
   },
   {
    "duration": 355,
    "start_time": "2021-10-21T18:43:45.823Z"
   },
   {
    "duration": 353,
    "start_time": "2021-10-21T18:43:45.826Z"
   },
   {
    "duration": 352,
    "start_time": "2021-10-21T18:43:45.828Z"
   },
   {
    "duration": 347,
    "start_time": "2021-10-21T18:43:45.834Z"
   },
   {
    "duration": 340,
    "start_time": "2021-10-21T18:43:45.841Z"
   },
   {
    "duration": 339,
    "start_time": "2021-10-21T18:43:45.843Z"
   },
   {
    "duration": 3,
    "start_time": "2021-10-21T18:44:20.030Z"
   },
   {
    "duration": 522,
    "start_time": "2021-10-21T18:44:20.035Z"
   },
   {
    "duration": 33,
    "start_time": "2021-10-21T18:44:20.559Z"
   },
   {
    "duration": 18,
    "start_time": "2021-10-21T18:44:20.594Z"
   },
   {
    "duration": 649,
    "start_time": "2021-10-21T18:44:20.613Z"
   },
   {
    "duration": 601,
    "start_time": "2021-10-21T18:44:21.263Z"
   },
   {
    "duration": 65,
    "start_time": "2021-10-21T18:44:21.866Z"
   },
   {
    "duration": 638,
    "start_time": "2021-10-21T18:44:21.933Z"
   },
   {
    "duration": 1633,
    "start_time": "2021-10-21T18:44:22.573Z"
   },
   {
    "duration": 10,
    "start_time": "2021-10-21T18:51:47.591Z"
   },
   {
    "duration": 7,
    "start_time": "2021-10-21T18:52:05.721Z"
   },
   {
    "duration": 10,
    "start_time": "2021-10-21T18:56:37.318Z"
   },
   {
    "duration": 129,
    "start_time": "2021-10-21T19:06:19.369Z"
   },
   {
    "duration": 5,
    "start_time": "2021-10-21T19:06:24.601Z"
   },
   {
    "duration": 850,
    "start_time": "2021-10-21T19:07:33.080Z"
   },
   {
    "duration": 5,
    "start_time": "2021-10-21T19:08:52.967Z"
   },
   {
    "duration": 667,
    "start_time": "2021-10-21T19:08:56.463Z"
   },
   {
    "duration": 6,
    "start_time": "2021-10-21T19:09:14.507Z"
   },
   {
    "duration": 588,
    "start_time": "2021-10-21T19:09:16.585Z"
   },
   {
    "duration": 4,
    "start_time": "2021-10-21T19:10:21.549Z"
   },
   {
    "duration": 908,
    "start_time": "2021-10-21T19:10:24.505Z"
   },
   {
    "duration": 6,
    "start_time": "2021-10-21T19:10:37.213Z"
   },
   {
    "duration": 709,
    "start_time": "2021-10-21T19:10:39.096Z"
   },
   {
    "duration": 6,
    "start_time": "2021-10-21T19:11:49.488Z"
   },
   {
    "duration": 730,
    "start_time": "2021-10-21T19:11:51.956Z"
   },
   {
    "duration": 5,
    "start_time": "2021-10-21T19:12:12.430Z"
   },
   {
    "duration": 638,
    "start_time": "2021-10-21T19:12:16.476Z"
   },
   {
    "duration": 5,
    "start_time": "2021-10-21T19:13:04.363Z"
   },
   {
    "duration": 655,
    "start_time": "2021-10-21T19:13:07.236Z"
   },
   {
    "duration": 5,
    "start_time": "2021-10-21T19:13:29.001Z"
   },
   {
    "duration": 657,
    "start_time": "2021-10-21T19:13:32.129Z"
   },
   {
    "duration": 6,
    "start_time": "2021-10-21T19:13:54.828Z"
   },
   {
    "duration": 610,
    "start_time": "2021-10-21T19:13:56.904Z"
   },
   {
    "duration": 5,
    "start_time": "2021-10-21T19:14:12.525Z"
   },
   {
    "duration": 613,
    "start_time": "2021-10-21T19:14:15.493Z"
   },
   {
    "duration": 5,
    "start_time": "2021-10-21T19:14:37.039Z"
   },
   {
    "duration": 733,
    "start_time": "2021-10-21T19:14:39.113Z"
   },
   {
    "duration": 611,
    "start_time": "2021-10-21T19:15:03.307Z"
   },
   {
    "duration": 612,
    "start_time": "2021-10-21T19:15:12.084Z"
   },
   {
    "duration": 1807,
    "start_time": "2021-10-21T19:16:42.854Z"
   },
   {
    "duration": 1581,
    "start_time": "2021-10-21T19:17:22.451Z"
   },
   {
    "duration": 1535,
    "start_time": "2021-10-21T19:17:30.296Z"
   },
   {
    "duration": 1518,
    "start_time": "2021-10-21T19:17:53.330Z"
   },
   {
    "duration": 1498,
    "start_time": "2021-10-21T19:18:04.161Z"
   },
   {
    "duration": 5,
    "start_time": "2021-10-21T19:18:24.997Z"
   },
   {
    "duration": 719,
    "start_time": "2021-10-21T19:18:27.789Z"
   },
   {
    "duration": 5,
    "start_time": "2021-10-21T19:18:41.317Z"
   },
   {
    "duration": 622,
    "start_time": "2021-10-21T19:18:43.371Z"
   },
   {
    "duration": 3,
    "start_time": "2021-10-21T19:19:02.348Z"
   },
   {
    "duration": 450,
    "start_time": "2021-10-21T19:19:02.354Z"
   },
   {
    "duration": 5,
    "start_time": "2021-10-21T19:19:02.805Z"
   },
   {
    "duration": 19,
    "start_time": "2021-10-21T19:19:02.813Z"
   },
   {
    "duration": 652,
    "start_time": "2021-10-21T19:19:02.835Z"
   },
   {
    "duration": 606,
    "start_time": "2021-10-21T19:19:03.492Z"
   },
   {
    "duration": 51,
    "start_time": "2021-10-21T19:19:04.100Z"
   },
   {
    "duration": 631,
    "start_time": "2021-10-21T19:19:04.153Z"
   },
   {
    "duration": 1626,
    "start_time": "2021-10-21T19:19:04.785Z"
   },
   {
    "duration": 13,
    "start_time": "2021-10-21T19:33:46.332Z"
   },
   {
    "duration": 10,
    "start_time": "2021-10-21T19:34:37.249Z"
   },
   {
    "duration": 163,
    "start_time": "2021-10-21T19:35:47.895Z"
   },
   {
    "duration": 45,
    "start_time": "2021-10-21T19:36:08.680Z"
   },
   {
    "duration": 46,
    "start_time": "2021-10-21T19:36:11.683Z"
   },
   {
    "duration": 48,
    "start_time": "2021-10-21T19:36:20.387Z"
   },
   {
    "duration": 3,
    "start_time": "2021-10-21T19:36:34.848Z"
   },
   {
    "duration": 482,
    "start_time": "2021-10-21T19:36:34.855Z"
   },
   {
    "duration": 5,
    "start_time": "2021-10-21T19:36:35.339Z"
   },
   {
    "duration": 19,
    "start_time": "2021-10-21T19:36:35.347Z"
   },
   {
    "duration": 634,
    "start_time": "2021-10-21T19:36:35.391Z"
   },
   {
    "duration": 672,
    "start_time": "2021-10-21T19:36:36.026Z"
   },
   {
    "duration": 54,
    "start_time": "2021-10-21T19:36:36.700Z"
   },
   {
    "duration": 652,
    "start_time": "2021-10-21T19:36:36.755Z"
   },
   {
    "duration": 1549,
    "start_time": "2021-10-21T19:36:37.409Z"
   },
   {
    "duration": 11,
    "start_time": "2021-10-21T19:36:38.960Z"
   },
   {
    "duration": 63,
    "start_time": "2021-10-21T19:36:44.668Z"
   },
   {
    "duration": 45,
    "start_time": "2021-10-21T19:40:28.933Z"
   },
   {
    "duration": 157,
    "start_time": "2021-10-21T19:41:18.115Z"
   },
   {
    "duration": 4669,
    "start_time": "2021-10-21T19:42:36.859Z"
   },
   {
    "duration": 697,
    "start_time": "2021-10-21T19:42:44.199Z"
   },
   {
    "duration": 8,
    "start_time": "2021-10-21T19:48:59.536Z"
   },
   {
    "duration": 6,
    "start_time": "2021-10-21T19:49:28.272Z"
   },
   {
    "duration": 5,
    "start_time": "2021-10-21T19:49:41.657Z"
   },
   {
    "duration": 7,
    "start_time": "2021-10-21T19:49:52.893Z"
   },
   {
    "duration": 9,
    "start_time": "2021-10-21T19:50:22.552Z"
   },
   {
    "duration": 8,
    "start_time": "2021-10-21T19:50:30.405Z"
   },
   {
    "duration": 9,
    "start_time": "2021-10-21T19:50:33.818Z"
   },
   {
    "duration": 9,
    "start_time": "2021-10-21T19:50:40.001Z"
   },
   {
    "duration": 7,
    "start_time": "2021-10-21T19:51:02.903Z"
   },
   {
    "duration": 10,
    "start_time": "2021-10-21T19:55:56.313Z"
   },
   {
    "duration": 10,
    "start_time": "2021-10-21T19:56:02.073Z"
   },
   {
    "duration": 13,
    "start_time": "2021-10-21T19:56:06.734Z"
   },
   {
    "duration": 17,
    "start_time": "2021-10-21T19:56:17.931Z"
   },
   {
    "duration": 18,
    "start_time": "2021-10-21T19:56:32.949Z"
   },
   {
    "duration": 18,
    "start_time": "2021-10-21T19:56:38.065Z"
   },
   {
    "duration": 10,
    "start_time": "2021-10-21T19:56:48.802Z"
   },
   {
    "duration": 10,
    "start_time": "2021-10-21T19:56:57.621Z"
   },
   {
    "duration": 10,
    "start_time": "2021-10-21T19:57:08.680Z"
   },
   {
    "duration": 10,
    "start_time": "2021-10-21T19:57:22.674Z"
   },
   {
    "duration": 8,
    "start_time": "2021-10-21T19:57:24.715Z"
   },
   {
    "duration": 9,
    "start_time": "2021-10-21T19:57:34.357Z"
   },
   {
    "duration": 10,
    "start_time": "2021-10-21T19:57:41.092Z"
   },
   {
    "duration": 10,
    "start_time": "2021-10-21T19:57:49.453Z"
   },
   {
    "duration": 17,
    "start_time": "2021-10-21T19:59:45.270Z"
   },
   {
    "duration": 7,
    "start_time": "2021-10-21T20:00:31.195Z"
   },
   {
    "duration": 177,
    "start_time": "2021-10-21T20:00:38.537Z"
   },
   {
    "duration": 7,
    "start_time": "2021-10-21T20:00:43.970Z"
   },
   {
    "duration": 16,
    "start_time": "2021-10-21T20:00:54.720Z"
   },
   {
    "duration": 8,
    "start_time": "2021-10-21T20:15:22.109Z"
   },
   {
    "duration": 10,
    "start_time": "2021-10-21T20:15:34.018Z"
   },
   {
    "duration": 9,
    "start_time": "2021-10-21T20:19:29.212Z"
   },
   {
    "duration": 8,
    "start_time": "2021-10-21T20:19:35.575Z"
   },
   {
    "duration": 1303,
    "start_time": "2021-10-21T20:35:26.617Z"
   },
   {
    "duration": 571,
    "start_time": "2021-10-21T20:36:42.302Z"
   },
   {
    "duration": 996,
    "start_time": "2021-10-21T20:37:09.329Z"
   },
   {
    "duration": 506,
    "start_time": "2021-10-21T20:37:48.159Z"
   },
   {
    "duration": 1017,
    "start_time": "2021-10-21T20:41:14.785Z"
   },
   {
    "duration": 8,
    "start_time": "2021-10-21T20:43:45.658Z"
   },
   {
    "duration": 980,
    "start_time": "2021-10-21T20:43:53.832Z"
   },
   {
    "duration": 8,
    "start_time": "2021-10-21T20:43:55.659Z"
   },
   {
    "duration": 1063,
    "start_time": "2021-10-21T20:44:14.220Z"
   },
   {
    "duration": 202,
    "start_time": "2021-10-21T20:46:47.810Z"
   },
   {
    "duration": 27,
    "start_time": "2021-10-21T20:47:59.995Z"
   },
   {
    "duration": 21,
    "start_time": "2021-10-21T20:51:02.410Z"
   },
   {
    "duration": 16,
    "start_time": "2021-10-21T20:51:16.614Z"
   },
   {
    "duration": 7,
    "start_time": "2021-10-21T20:52:19.108Z"
   },
   {
    "duration": 874,
    "start_time": "2021-10-21T20:52:31.303Z"
   },
   {
    "duration": 6,
    "start_time": "2021-10-21T20:52:38.270Z"
   },
   {
    "duration": 8,
    "start_time": "2021-10-21T20:53:06.533Z"
   },
   {
    "duration": 7,
    "start_time": "2021-10-21T20:56:16.217Z"
   },
   {
    "duration": 9,
    "start_time": "2021-10-21T20:56:41.824Z"
   },
   {
    "duration": 7,
    "start_time": "2021-10-21T20:57:11.723Z"
   },
   {
    "duration": 8,
    "start_time": "2021-10-21T20:59:15.462Z"
   },
   {
    "duration": 14,
    "start_time": "2021-10-21T20:59:19.896Z"
   },
   {
    "duration": 4196,
    "start_time": "2021-10-21T20:59:47.725Z"
   },
   {
    "duration": 12,
    "start_time": "2021-10-21T21:00:01.585Z"
   },
   {
    "duration": 11,
    "start_time": "2021-10-21T21:00:12.550Z"
   },
   {
    "duration": 11,
    "start_time": "2021-10-21T21:00:38.418Z"
   },
   {
    "duration": 9,
    "start_time": "2021-10-21T21:00:59.525Z"
   },
   {
    "duration": 8,
    "start_time": "2021-10-21T21:01:29.871Z"
   },
   {
    "duration": 12,
    "start_time": "2021-10-21T21:07:07.625Z"
   },
   {
    "duration": 11,
    "start_time": "2021-10-21T21:07:11.732Z"
   },
   {
    "duration": 13,
    "start_time": "2021-10-21T21:07:19.574Z"
   },
   {
    "duration": 15,
    "start_time": "2021-10-21T21:07:20.034Z"
   },
   {
    "duration": 57,
    "start_time": "2021-10-21T21:09:09.739Z"
   },
   {
    "duration": 171,
    "start_time": "2021-10-21T21:09:16.716Z"
   },
   {
    "duration": 8,
    "start_time": "2021-10-21T21:09:44.844Z"
   },
   {
    "duration": 10,
    "start_time": "2021-10-21T21:09:52.100Z"
   },
   {
    "duration": 18,
    "start_time": "2021-10-21T21:11:48.395Z"
   },
   {
    "duration": 32,
    "start_time": "2021-10-21T21:12:28.882Z"
   },
   {
    "duration": 3,
    "start_time": "2021-10-21T21:17:06.180Z"
   },
   {
    "duration": 54,
    "start_time": "2021-10-21T21:17:18.831Z"
   },
   {
    "duration": 27,
    "start_time": "2021-10-21T21:17:49.742Z"
   },
   {
    "duration": 37,
    "start_time": "2021-10-21T21:17:54.660Z"
   },
   {
    "duration": 39,
    "start_time": "2021-10-21T21:18:02.934Z"
   },
   {
    "duration": 36,
    "start_time": "2021-10-21T21:18:22.770Z"
   },
   {
    "duration": 28,
    "start_time": "2021-10-21T21:18:36.429Z"
   },
   {
    "duration": 16,
    "start_time": "2021-10-21T21:18:50.857Z"
   },
   {
    "duration": 8,
    "start_time": "2021-10-21T21:19:15.324Z"
   },
   {
    "duration": 5,
    "start_time": "2021-10-21T21:19:20.839Z"
   },
   {
    "duration": 990,
    "start_time": "2021-10-21T21:21:45.696Z"
   },
   {
    "duration": 5,
    "start_time": "2021-10-21T21:24:55.204Z"
   },
   {
    "duration": 4,
    "start_time": "2021-10-21T21:24:57.423Z"
   },
   {
    "duration": 987,
    "start_time": "2021-10-21T21:25:37.762Z"
   },
   {
    "duration": 26,
    "start_time": "2021-10-21T21:25:46.413Z"
   },
   {
    "duration": 3,
    "start_time": "2021-10-21T21:25:59.862Z"
   },
   {
    "duration": 5,
    "start_time": "2021-10-21T21:26:00.660Z"
   },
   {
    "duration": 171,
    "start_time": "2021-10-21T21:26:05.310Z"
   },
   {
    "duration": 4,
    "start_time": "2021-10-21T21:27:29.661Z"
   },
   {
    "duration": 5,
    "start_time": "2021-10-21T21:28:50.833Z"
   },
   {
    "duration": 5,
    "start_time": "2021-10-21T21:28:54.944Z"
   },
   {
    "duration": 173,
    "start_time": "2021-10-21T21:28:59.842Z"
   },
   {
    "duration": 4,
    "start_time": "2021-10-21T21:29:07.743Z"
   },
   {
    "duration": 12,
    "start_time": "2021-10-21T21:34:27.232Z"
   },
   {
    "duration": 3,
    "start_time": "2021-10-21T21:34:36.240Z"
   },
   {
    "duration": 3,
    "start_time": "2021-10-21T21:34:44.514Z"
   },
   {
    "duration": 5,
    "start_time": "2021-10-21T21:34:49.952Z"
   },
   {
    "duration": 6,
    "start_time": "2021-10-21T21:34:52.718Z"
   },
   {
    "duration": 12,
    "start_time": "2021-10-21T21:35:01.480Z"
   },
   {
    "duration": 208,
    "start_time": "2021-10-21T21:35:08.066Z"
   },
   {
    "duration": 3,
    "start_time": "2021-10-21T21:35:50.263Z"
   },
   {
    "duration": 431,
    "start_time": "2021-10-21T21:35:50.270Z"
   },
   {
    "duration": 5,
    "start_time": "2021-10-21T21:35:50.703Z"
   },
   {
    "duration": 19,
    "start_time": "2021-10-21T21:35:50.710Z"
   },
   {
    "duration": 647,
    "start_time": "2021-10-21T21:35:50.730Z"
   },
   {
    "duration": 719,
    "start_time": "2021-10-21T21:35:51.379Z"
   },
   {
    "duration": 52,
    "start_time": "2021-10-21T21:35:52.100Z"
   },
   {
    "duration": 629,
    "start_time": "2021-10-21T21:35:52.154Z"
   },
   {
    "duration": 1557,
    "start_time": "2021-10-21T21:35:52.785Z"
   },
   {
    "duration": 11,
    "start_time": "2021-10-21T21:35:54.344Z"
   },
   {
    "duration": 80,
    "start_time": "2021-10-21T21:35:54.356Z"
   },
   {
    "duration": 638,
    "start_time": "2021-10-21T21:35:54.437Z"
   },
   {
    "duration": 15,
    "start_time": "2021-10-21T21:35:55.077Z"
   },
   {
    "duration": 6,
    "start_time": "2021-10-21T21:35:55.093Z"
   },
   {
    "duration": 15,
    "start_time": "2021-10-21T21:35:55.101Z"
   },
   {
    "duration": 1017,
    "start_time": "2021-10-21T21:35:55.118Z"
   },
   {
    "duration": 24,
    "start_time": "2021-10-21T21:35:56.136Z"
   },
   {
    "duration": 174,
    "start_time": "2021-10-21T21:36:33.267Z"
   },
   {
    "duration": 3,
    "start_time": "2021-10-21T21:36:43.197Z"
   },
   {
    "duration": 446,
    "start_time": "2021-10-21T21:36:43.204Z"
   },
   {
    "duration": 5,
    "start_time": "2021-10-21T21:36:43.652Z"
   },
   {
    "duration": 44,
    "start_time": "2021-10-21T21:36:43.659Z"
   },
   {
    "duration": 647,
    "start_time": "2021-10-21T21:36:43.705Z"
   },
   {
    "duration": 637,
    "start_time": "2021-10-21T21:36:44.354Z"
   },
   {
    "duration": 199,
    "start_time": "2021-10-21T21:36:44.993Z"
   },
   {
    "duration": 626,
    "start_time": "2021-10-21T21:36:45.194Z"
   },
   {
    "duration": 1515,
    "start_time": "2021-10-21T21:36:45.822Z"
   },
   {
    "duration": 11,
    "start_time": "2021-10-21T21:36:47.339Z"
   },
   {
    "duration": 84,
    "start_time": "2021-10-21T21:36:47.352Z"
   },
   {
    "duration": 639,
    "start_time": "2021-10-21T21:36:47.438Z"
   },
   {
    "duration": 15,
    "start_time": "2021-10-21T21:36:48.079Z"
   },
   {
    "duration": 8,
    "start_time": "2021-10-21T21:36:48.096Z"
   },
   {
    "duration": 17,
    "start_time": "2021-10-21T21:36:48.106Z"
   },
   {
    "duration": 1027,
    "start_time": "2021-10-21T21:36:48.125Z"
   },
   {
    "duration": 25,
    "start_time": "2021-10-21T21:36:49.154Z"
   },
   {
    "duration": 3,
    "start_time": "2021-10-21T21:36:53.115Z"
   },
   {
    "duration": 12,
    "start_time": "2021-10-21T21:36:55.041Z"
   },
   {
    "duration": 212,
    "start_time": "2021-10-21T21:37:28.419Z"
   },
   {
    "duration": 4,
    "start_time": "2021-10-21T21:37:36.462Z"
   },
   {
    "duration": 10,
    "start_time": "2021-10-21T21:38:09.038Z"
   },
   {
    "duration": 10,
    "start_time": "2021-10-21T21:38:23.487Z"
   },
   {
    "duration": 4,
    "start_time": "2021-10-21T21:40:09.244Z"
   },
   {
    "duration": 3,
    "start_time": "2021-10-21T21:40:22.286Z"
   },
   {
    "duration": 456,
    "start_time": "2021-10-21T21:40:22.294Z"
   },
   {
    "duration": 6,
    "start_time": "2021-10-21T21:40:22.752Z"
   },
   {
    "duration": 46,
    "start_time": "2021-10-21T21:40:22.761Z"
   },
   {
    "duration": 682,
    "start_time": "2021-10-21T21:40:22.809Z"
   },
   {
    "duration": 610,
    "start_time": "2021-10-21T21:40:23.493Z"
   },
   {
    "duration": 54,
    "start_time": "2021-10-21T21:40:24.105Z"
   },
   {
    "duration": 648,
    "start_time": "2021-10-21T21:40:24.160Z"
   },
   {
    "duration": 1684,
    "start_time": "2021-10-21T21:40:24.810Z"
   },
   {
    "duration": 11,
    "start_time": "2021-10-21T21:40:26.496Z"
   },
   {
    "duration": 87,
    "start_time": "2021-10-21T21:40:26.508Z"
   },
   {
    "duration": 612,
    "start_time": "2021-10-21T21:40:26.597Z"
   },
   {
    "duration": 9,
    "start_time": "2021-10-21T21:40:27.212Z"
   },
   {
    "duration": 12,
    "start_time": "2021-10-21T21:40:27.223Z"
   },
   {
    "duration": 26,
    "start_time": "2021-10-21T21:40:27.237Z"
   },
   {
    "duration": 1057,
    "start_time": "2021-10-21T21:40:27.265Z"
   },
   {
    "duration": 24,
    "start_time": "2021-10-21T21:40:28.324Z"
   },
   {
    "duration": 7,
    "start_time": "2021-10-21T21:40:30.010Z"
   },
   {
    "duration": 12,
    "start_time": "2021-10-21T21:40:31.764Z"
   },
   {
    "duration": 3,
    "start_time": "2021-10-21T21:41:19.138Z"
   },
   {
    "duration": 464,
    "start_time": "2021-10-21T21:41:19.142Z"
   },
   {
    "duration": 5,
    "start_time": "2021-10-21T21:41:19.608Z"
   },
   {
    "duration": 19,
    "start_time": "2021-10-21T21:41:19.615Z"
   },
   {
    "duration": 683,
    "start_time": "2021-10-21T21:41:19.635Z"
   },
   {
    "duration": 658,
    "start_time": "2021-10-21T21:41:20.319Z"
   },
   {
    "duration": 61,
    "start_time": "2021-10-21T21:41:20.978Z"
   },
   {
    "duration": 647,
    "start_time": "2021-10-21T21:41:21.040Z"
   },
   {
    "duration": 1549,
    "start_time": "2021-10-21T21:41:21.693Z"
   },
   {
    "duration": 11,
    "start_time": "2021-10-21T21:41:23.244Z"
   },
   {
    "duration": 86,
    "start_time": "2021-10-21T21:41:23.257Z"
   },
   {
    "duration": 769,
    "start_time": "2021-10-21T21:41:23.345Z"
   },
   {
    "duration": 7,
    "start_time": "2021-10-21T21:41:24.116Z"
   },
   {
    "duration": 8,
    "start_time": "2021-10-21T21:41:24.125Z"
   },
   {
    "duration": 18,
    "start_time": "2021-10-21T21:41:24.135Z"
   },
   {
    "duration": 1038,
    "start_time": "2021-10-21T21:41:24.155Z"
   },
   {
    "duration": 26,
    "start_time": "2021-10-21T21:41:25.195Z"
   },
   {
    "duration": 4,
    "start_time": "2021-10-21T21:41:25.223Z"
   },
   {
    "duration": 11,
    "start_time": "2021-10-21T21:41:26.483Z"
   },
   {
    "duration": 3,
    "start_time": "2021-10-21T21:41:34.716Z"
   },
   {
    "duration": 475,
    "start_time": "2021-10-21T21:41:34.724Z"
   },
   {
    "duration": 6,
    "start_time": "2021-10-21T21:41:35.201Z"
   },
   {
    "duration": 18,
    "start_time": "2021-10-21T21:41:35.209Z"
   },
   {
    "duration": 662,
    "start_time": "2021-10-21T21:41:35.229Z"
   },
   {
    "duration": 615,
    "start_time": "2021-10-21T21:41:35.893Z"
   },
   {
    "duration": 54,
    "start_time": "2021-10-21T21:41:36.509Z"
   },
   {
    "duration": 604,
    "start_time": "2021-10-21T21:41:36.592Z"
   },
   {
    "duration": 1537,
    "start_time": "2021-10-21T21:41:37.198Z"
   },
   {
    "duration": 11,
    "start_time": "2021-10-21T21:41:38.737Z"
   },
   {
    "duration": 82,
    "start_time": "2021-10-21T21:41:38.750Z"
   },
   {
    "duration": 629,
    "start_time": "2021-10-21T21:41:38.833Z"
   },
   {
    "duration": 8,
    "start_time": "2021-10-21T21:41:39.463Z"
   },
   {
    "duration": 23,
    "start_time": "2021-10-21T21:41:39.473Z"
   },
   {
    "duration": 17,
    "start_time": "2021-10-21T21:41:39.497Z"
   },
   {
    "duration": 1000,
    "start_time": "2021-10-21T21:41:39.515Z"
   },
   {
    "duration": 26,
    "start_time": "2021-10-21T21:41:40.516Z"
   },
   {
    "duration": 5,
    "start_time": "2021-10-21T21:41:40.543Z"
   },
   {
    "duration": 9,
    "start_time": "2021-10-21T21:41:44.191Z"
   },
   {
    "duration": 11,
    "start_time": "2021-10-21T21:42:27.225Z"
   },
   {
    "duration": 7,
    "start_time": "2021-10-21T21:43:18.482Z"
   },
   {
    "duration": 751,
    "start_time": "2021-10-21T21:44:17.382Z"
   },
   {
    "duration": 632,
    "start_time": "2021-10-21T21:48:00.740Z"
   },
   {
    "duration": 3,
    "start_time": "2021-10-21T21:48:19.878Z"
   },
   {
    "duration": 439,
    "start_time": "2021-10-21T21:48:19.885Z"
   },
   {
    "duration": 4,
    "start_time": "2021-10-21T21:48:20.326Z"
   },
   {
    "duration": 19,
    "start_time": "2021-10-21T21:48:20.332Z"
   },
   {
    "duration": 639,
    "start_time": "2021-10-21T21:48:20.352Z"
   },
   {
    "duration": 604,
    "start_time": "2021-10-21T21:48:20.993Z"
   },
   {
    "duration": 53,
    "start_time": "2021-10-21T21:48:21.599Z"
   },
   {
    "duration": 632,
    "start_time": "2021-10-21T21:48:21.653Z"
   },
   {
    "duration": 1568,
    "start_time": "2021-10-21T21:48:22.287Z"
   },
   {
    "duration": 12,
    "start_time": "2021-10-21T21:48:23.856Z"
   },
   {
    "duration": 87,
    "start_time": "2021-10-21T21:48:23.870Z"
   },
   {
    "duration": 640,
    "start_time": "2021-10-21T21:48:23.959Z"
   },
   {
    "duration": 1028,
    "start_time": "2021-10-21T21:48:24.601Z"
   },
   {
    "duration": 8,
    "start_time": "2021-10-21T21:49:15.492Z"
   },
   {
    "duration": 6,
    "start_time": "2021-10-21T21:49:28.282Z"
   },
   {
    "duration": 4,
    "start_time": "2021-10-21T21:50:02.509Z"
   },
   {
    "duration": 5,
    "start_time": "2021-10-21T21:50:05.063Z"
   },
   {
    "duration": 13,
    "start_time": "2021-10-21T21:50:42.958Z"
   },
   {
    "duration": 4,
    "start_time": "2021-10-21T21:51:50.029Z"
   },
   {
    "duration": 429,
    "start_time": "2021-10-21T21:51:50.036Z"
   },
   {
    "duration": 5,
    "start_time": "2021-10-21T21:51:50.491Z"
   },
   {
    "duration": 21,
    "start_time": "2021-10-21T21:51:50.498Z"
   },
   {
    "duration": 657,
    "start_time": "2021-10-21T21:51:50.521Z"
   },
   {
    "duration": 612,
    "start_time": "2021-10-21T21:51:51.179Z"
   },
   {
    "duration": 56,
    "start_time": "2021-10-21T21:51:51.793Z"
   },
   {
    "duration": 625,
    "start_time": "2021-10-21T21:51:51.851Z"
   },
   {
    "duration": 1488,
    "start_time": "2021-10-21T21:51:52.478Z"
   },
   {
    "duration": 23,
    "start_time": "2021-10-21T21:51:53.969Z"
   },
   {
    "duration": 69,
    "start_time": "2021-10-21T21:51:53.994Z"
   },
   {
    "duration": 614,
    "start_time": "2021-10-21T21:51:54.064Z"
   },
   {
    "duration": 16,
    "start_time": "2021-10-21T21:51:54.679Z"
   },
   {
    "duration": 9,
    "start_time": "2021-10-21T21:51:54.696Z"
   },
   {
    "duration": 17,
    "start_time": "2021-10-21T21:51:54.707Z"
   },
   {
    "duration": 1036,
    "start_time": "2021-10-21T21:51:54.725Z"
   },
   {
    "duration": 29,
    "start_time": "2021-10-21T21:51:55.762Z"
   },
   {
    "duration": 3,
    "start_time": "2021-10-21T21:51:55.793Z"
   },
   {
    "duration": 9,
    "start_time": "2021-10-21T21:51:55.798Z"
   },
   {
    "duration": 734,
    "start_time": "2021-10-21T21:52:18.586Z"
   },
   {
    "duration": 6,
    "start_time": "2021-10-21T21:52:22.916Z"
   },
   {
    "duration": 13,
    "start_time": "2021-10-21T21:52:24.867Z"
   },
   {
    "duration": 4,
    "start_time": "2021-10-21T22:04:50.644Z"
   },
   {
    "duration": 17,
    "start_time": "2021-10-21T22:04:54.492Z"
   },
   {
    "duration": 5,
    "start_time": "2021-10-21T22:07:06.810Z"
   },
   {
    "duration": 21,
    "start_time": "2021-10-21T22:07:09.432Z"
   },
   {
    "duration": 22,
    "start_time": "2021-10-21T22:07:59.697Z"
   },
   {
    "duration": 23,
    "start_time": "2021-10-21T22:08:03.995Z"
   },
   {
    "duration": 21,
    "start_time": "2021-10-21T22:08:28.153Z"
   },
   {
    "duration": 21,
    "start_time": "2021-10-21T22:08:41.604Z"
   },
   {
    "duration": 112,
    "start_time": "2021-10-21T22:08:47.540Z"
   },
   {
    "duration": 21,
    "start_time": "2021-10-21T22:08:53.169Z"
   },
   {
    "duration": 21,
    "start_time": "2021-10-21T22:08:56.711Z"
   },
   {
    "duration": 117,
    "start_time": "2021-10-21T22:10:46.429Z"
   },
   {
    "duration": 24,
    "start_time": "2021-10-21T22:11:05.432Z"
   },
   {
    "duration": 66,
    "start_time": "2021-10-21T22:11:50.487Z"
   },
   {
    "duration": 7,
    "start_time": "2021-10-21T22:12:17.442Z"
   },
   {
    "duration": 7,
    "start_time": "2021-10-21T22:12:29.680Z"
   },
   {
    "duration": 7,
    "start_time": "2021-10-21T22:12:39.324Z"
   },
   {
    "duration": 21,
    "start_time": "2021-10-21T22:12:45.318Z"
   },
   {
    "duration": 22,
    "start_time": "2021-10-21T22:13:02.245Z"
   },
   {
    "duration": 12,
    "start_time": "2021-10-21T22:14:23.142Z"
   },
   {
    "duration": 11,
    "start_time": "2021-10-21T22:14:36.473Z"
   },
   {
    "duration": 12,
    "start_time": "2021-10-21T22:15:11.497Z"
   },
   {
    "duration": 8,
    "start_time": "2021-10-21T22:15:17.684Z"
   },
   {
    "duration": 15,
    "start_time": "2021-10-21T22:15:27.059Z"
   },
   {
    "duration": 9,
    "start_time": "2021-10-21T22:17:07.583Z"
   },
   {
    "duration": 8,
    "start_time": "2021-10-21T22:18:37.014Z"
   },
   {
    "duration": 9,
    "start_time": "2021-10-21T22:18:39.827Z"
   },
   {
    "duration": 181,
    "start_time": "2021-10-21T22:22:34.978Z"
   },
   {
    "duration": 190,
    "start_time": "2021-10-21T22:22:44.354Z"
   },
   {
    "duration": 759,
    "start_time": "2021-10-21T22:23:13.332Z"
   },
   {
    "duration": 15,
    "start_time": "2021-10-21T22:23:17.856Z"
   },
   {
    "duration": 847,
    "start_time": "2021-10-21T22:26:46.873Z"
   },
   {
    "duration": 8,
    "start_time": "2021-10-21T22:27:08.303Z"
   },
   {
    "duration": 3,
    "start_time": "2021-10-21T22:28:22.452Z"
   },
   {
    "duration": 454,
    "start_time": "2021-10-21T22:28:22.461Z"
   },
   {
    "duration": 5,
    "start_time": "2021-10-21T22:28:22.916Z"
   },
   {
    "duration": 21,
    "start_time": "2021-10-21T22:28:22.923Z"
   },
   {
    "duration": 671,
    "start_time": "2021-10-21T22:28:22.945Z"
   },
   {
    "duration": 696,
    "start_time": "2021-10-21T22:28:23.618Z"
   },
   {
    "duration": 77,
    "start_time": "2021-10-21T22:28:24.315Z"
   },
   {
    "duration": 631,
    "start_time": "2021-10-21T22:28:24.394Z"
   },
   {
    "duration": 1551,
    "start_time": "2021-10-21T22:28:25.027Z"
   },
   {
    "duration": 16,
    "start_time": "2021-10-21T22:28:26.580Z"
   },
   {
    "duration": 71,
    "start_time": "2021-10-21T22:28:26.597Z"
   },
   {
    "duration": 781,
    "start_time": "2021-10-21T22:28:26.669Z"
   },
   {
    "duration": 61,
    "start_time": "2021-10-21T22:28:52.775Z"
   },
   {
    "duration": 8,
    "start_time": "2021-10-21T22:28:55.950Z"
   },
   {
    "duration": 7,
    "start_time": "2021-10-21T22:28:58.465Z"
   },
   {
    "duration": 8,
    "start_time": "2021-10-21T22:29:07.271Z"
   },
   {
    "duration": 19,
    "start_time": "2021-10-21T22:29:09.690Z"
   },
   {
    "duration": 25,
    "start_time": "2021-10-21T22:29:14.079Z"
   },
   {
    "duration": 14,
    "start_time": "2021-10-21T22:29:15.413Z"
   },
   {
    "duration": 25,
    "start_time": "2021-10-21T22:29:26.667Z"
   },
   {
    "duration": 4,
    "start_time": "2021-10-21T22:29:31.886Z"
   },
   {
    "duration": 11,
    "start_time": "2021-10-21T22:29:33.647Z"
   },
   {
    "duration": 621,
    "start_time": "2021-10-21T22:29:35.625Z"
   },
   {
    "duration": 13,
    "start_time": "2021-10-21T22:29:41.788Z"
   },
   {
    "duration": 38,
    "start_time": "2021-10-21T22:29:49.389Z"
   },
   {
    "duration": 22,
    "start_time": "2021-10-21T22:29:50.041Z"
   },
   {
    "duration": 15,
    "start_time": "2021-10-21T22:35:52.637Z"
   },
   {
    "duration": 25,
    "start_time": "2021-10-21T22:36:17.549Z"
   },
   {
    "duration": 2305,
    "start_time": "2021-10-22T07:55:38.837Z"
   },
   {
    "duration": 642,
    "start_time": "2021-10-22T07:55:41.495Z"
   },
   {
    "duration": 8,
    "start_time": "2021-10-22T07:55:44.755Z"
   },
   {
    "duration": 24,
    "start_time": "2021-10-22T07:55:46.349Z"
   },
   {
    "duration": 956,
    "start_time": "2021-10-22T07:55:46.730Z"
   },
   {
    "duration": 949,
    "start_time": "2021-10-22T07:57:16.091Z"
   },
   {
    "duration": 85,
    "start_time": "2021-10-22T07:57:19.826Z"
   },
   {
    "duration": 977,
    "start_time": "2021-10-22T07:57:21.765Z"
   },
   {
    "duration": 2324,
    "start_time": "2021-10-22T07:57:27.914Z"
   },
   {
    "duration": 20,
    "start_time": "2021-10-22T07:58:08.799Z"
   },
   {
    "duration": 178,
    "start_time": "2021-10-22T07:58:16.255Z"
   },
   {
    "duration": 964,
    "start_time": "2021-10-22T07:58:19.381Z"
   },
   {
    "duration": 11,
    "start_time": "2021-10-22T07:58:20.524Z"
   },
   {
    "duration": 10,
    "start_time": "2021-10-22T07:58:20.911Z"
   },
   {
    "duration": 12,
    "start_time": "2021-10-22T07:58:21.105Z"
   },
   {
    "duration": 28,
    "start_time": "2021-10-22T07:58:21.470Z"
   },
   {
    "duration": 38,
    "start_time": "2021-10-22T07:58:22.490Z"
   },
   {
    "duration": 35,
    "start_time": "2021-10-22T07:58:22.830Z"
   },
   {
    "duration": 7,
    "start_time": "2021-10-22T07:58:23.005Z"
   },
   {
    "duration": 15,
    "start_time": "2021-10-22T07:58:23.500Z"
   },
   {
    "duration": 925,
    "start_time": "2021-10-22T07:58:23.830Z"
   },
   {
    "duration": 28,
    "start_time": "2021-10-22T07:58:24.757Z"
   },
   {
    "duration": 56,
    "start_time": "2021-10-22T07:58:24.989Z"
   },
   {
    "duration": 38,
    "start_time": "2021-10-22T07:58:25.157Z"
   },
   {
    "duration": 1702,
    "start_time": "2021-10-24T20:22:49.289Z"
   },
   {
    "duration": 665,
    "start_time": "2021-10-24T20:22:50.993Z"
   },
   {
    "duration": 8,
    "start_time": "2021-10-24T20:22:51.682Z"
   },
   {
    "duration": 23,
    "start_time": "2021-10-24T20:22:51.692Z"
   },
   {
    "duration": 1011,
    "start_time": "2021-10-24T20:22:51.717Z"
   },
   {
    "duration": 967,
    "start_time": "2021-10-24T20:22:52.731Z"
   },
   {
    "duration": 108,
    "start_time": "2021-10-24T20:22:53.701Z"
   },
   {
    "duration": 941,
    "start_time": "2021-10-24T20:22:53.813Z"
   },
   {
    "duration": 2204,
    "start_time": "2021-10-24T20:22:54.757Z"
   },
   {
    "duration": 29,
    "start_time": "2021-10-24T20:22:56.963Z"
   },
   {
    "duration": 202,
    "start_time": "2021-10-24T20:22:56.994Z"
   },
   {
    "duration": 963,
    "start_time": "2021-10-24T20:22:57.198Z"
   },
   {
    "duration": 19,
    "start_time": "2021-10-24T20:22:58.163Z"
   },
   {
    "duration": 12,
    "start_time": "2021-10-24T20:22:58.184Z"
   },
   {
    "duration": 12,
    "start_time": "2021-10-24T20:22:58.199Z"
   },
   {
    "duration": 75,
    "start_time": "2021-10-24T20:22:58.213Z"
   },
   {
    "duration": 40,
    "start_time": "2021-10-24T20:22:58.291Z"
   },
   {
    "duration": 65,
    "start_time": "2021-10-24T20:22:58.333Z"
   },
   {
    "duration": 7,
    "start_time": "2021-10-24T20:22:58.401Z"
   },
   {
    "duration": 16,
    "start_time": "2021-10-24T20:22:58.410Z"
   },
   {
    "duration": 964,
    "start_time": "2021-10-24T20:22:58.430Z"
   },
   {
    "duration": 22,
    "start_time": "2021-10-24T20:22:59.397Z"
   },
   {
    "duration": 83,
    "start_time": "2021-10-24T20:22:59.423Z"
   },
   {
    "duration": 40,
    "start_time": "2021-10-24T20:22:59.508Z"
   },
   {
    "duration": 28,
    "start_time": "2021-10-24T20:25:01.862Z"
   },
   {
    "duration": 22,
    "start_time": "2021-10-24T20:25:22.968Z"
   },
   {
    "duration": 18,
    "start_time": "2021-10-24T20:25:50.882Z"
   },
   {
    "duration": 13,
    "start_time": "2021-10-24T20:26:10.566Z"
   },
   {
    "duration": 15,
    "start_time": "2021-10-24T20:26:39.150Z"
   },
   {
    "duration": 20,
    "start_time": "2021-10-24T20:26:46.663Z"
   },
   {
    "duration": 7,
    "start_time": "2021-10-24T20:29:43.918Z"
   },
   {
    "duration": 7,
    "start_time": "2021-10-24T20:29:48.301Z"
   },
   {
    "duration": 7,
    "start_time": "2021-10-24T20:29:53.389Z"
   },
   {
    "duration": 7,
    "start_time": "2021-10-24T20:29:54.269Z"
   },
   {
    "duration": 8,
    "start_time": "2021-10-24T20:30:06.972Z"
   },
   {
    "duration": 8,
    "start_time": "2021-10-24T20:30:11.538Z"
   },
   {
    "duration": 6,
    "start_time": "2021-10-24T20:30:14.086Z"
   },
   {
    "duration": 7,
    "start_time": "2021-10-24T20:30:21.661Z"
   },
   {
    "duration": 7,
    "start_time": "2021-10-24T20:30:22.546Z"
   },
   {
    "duration": 8,
    "start_time": "2021-10-24T20:30:31.900Z"
   },
   {
    "duration": 7,
    "start_time": "2021-10-24T20:30:32.502Z"
   },
   {
    "duration": 472,
    "start_time": "2021-10-24T20:30:36.646Z"
   },
   {
    "duration": 6,
    "start_time": "2021-10-24T20:30:37.192Z"
   },
   {
    "duration": 8,
    "start_time": "2021-10-24T20:30:44.590Z"
   },
   {
    "duration": 7,
    "start_time": "2021-10-24T20:30:45.082Z"
   },
   {
    "duration": 9,
    "start_time": "2021-10-24T20:30:58.020Z"
   },
   {
    "duration": 14,
    "start_time": "2021-10-24T20:30:58.475Z"
   },
   {
    "duration": 12,
    "start_time": "2021-10-24T20:33:19.925Z"
   },
   {
    "duration": 13,
    "start_time": "2021-10-24T20:33:22.345Z"
   },
   {
    "duration": 6,
    "start_time": "2021-10-24T20:33:25.659Z"
   },
   {
    "duration": 13,
    "start_time": "2021-10-24T20:33:29.832Z"
   },
   {
    "duration": 19,
    "start_time": "2021-10-24T20:36:18.837Z"
   },
   {
    "duration": 5,
    "start_time": "2021-10-24T20:36:28.986Z"
   },
   {
    "duration": 6,
    "start_time": "2021-10-24T20:36:34.667Z"
   },
   {
    "duration": 6,
    "start_time": "2021-10-24T20:36:46.385Z"
   },
   {
    "duration": 6,
    "start_time": "2021-10-24T20:37:07.162Z"
   },
   {
    "duration": 4,
    "start_time": "2021-10-24T20:38:34.320Z"
   },
   {
    "duration": 657,
    "start_time": "2021-10-24T20:38:34.327Z"
   },
   {
    "duration": 8,
    "start_time": "2021-10-24T20:38:34.988Z"
   },
   {
    "duration": 25,
    "start_time": "2021-10-24T20:38:34.999Z"
   },
   {
    "duration": 1005,
    "start_time": "2021-10-24T20:38:35.027Z"
   },
   {
    "duration": 934,
    "start_time": "2021-10-24T20:38:36.035Z"
   },
   {
    "duration": 120,
    "start_time": "2021-10-24T20:38:36.974Z"
   },
   {
    "duration": 971,
    "start_time": "2021-10-24T20:38:37.097Z"
   },
   {
    "duration": 2262,
    "start_time": "2021-10-24T20:38:38.071Z"
   },
   {
    "duration": 16,
    "start_time": "2021-10-24T20:38:40.336Z"
   },
   {
    "duration": 247,
    "start_time": "2021-10-24T20:38:40.355Z"
   },
   {
    "duration": 948,
    "start_time": "2021-10-24T20:38:40.605Z"
   },
   {
    "duration": 10,
    "start_time": "2021-10-24T20:38:41.555Z"
   },
   {
    "duration": 22,
    "start_time": "2021-10-24T20:38:41.568Z"
   },
   {
    "duration": 21,
    "start_time": "2021-10-24T20:38:41.592Z"
   },
   {
    "duration": 30,
    "start_time": "2021-10-24T20:38:41.615Z"
   },
   {
    "duration": 65,
    "start_time": "2021-10-24T20:38:41.648Z"
   },
   {
    "duration": 34,
    "start_time": "2021-10-24T20:38:41.716Z"
   },
   {
    "duration": 28,
    "start_time": "2021-10-24T20:38:41.754Z"
   },
   {
    "duration": 13,
    "start_time": "2021-10-24T20:38:41.785Z"
   },
   {
    "duration": 955,
    "start_time": "2021-10-24T20:38:41.801Z"
   },
   {
    "duration": 28,
    "start_time": "2021-10-24T20:38:42.759Z"
   },
   {
    "duration": 56,
    "start_time": "2021-10-24T20:38:42.790Z"
   },
   {
    "duration": 64,
    "start_time": "2021-10-24T20:38:42.849Z"
   },
   {
    "duration": 20,
    "start_time": "2021-10-24T20:38:45.477Z"
   },
   {
    "duration": 19,
    "start_time": "2021-10-24T20:38:53.148Z"
   },
   {
    "duration": 20,
    "start_time": "2021-10-24T20:38:55.673Z"
   },
   {
    "duration": 21,
    "start_time": "2021-10-24T20:39:33.736Z"
   },
   {
    "duration": 5,
    "start_time": "2021-10-24T20:39:39.293Z"
   },
   {
    "duration": 715,
    "start_time": "2021-10-24T20:39:39.300Z"
   },
   {
    "duration": 8,
    "start_time": "2021-10-24T20:39:40.019Z"
   },
   {
    "duration": 59,
    "start_time": "2021-10-24T20:39:40.030Z"
   },
   {
    "duration": 1182,
    "start_time": "2021-10-24T20:39:40.093Z"
   },
   {
    "duration": 1168,
    "start_time": "2021-10-24T20:39:41.278Z"
   },
   {
    "duration": 133,
    "start_time": "2021-10-24T20:39:42.449Z"
   },
   {
    "duration": 1057,
    "start_time": "2021-10-24T20:39:42.587Z"
   },
   {
    "duration": 2396,
    "start_time": "2021-10-24T20:39:43.647Z"
   },
   {
    "duration": 37,
    "start_time": "2021-10-24T20:39:46.045Z"
   },
   {
    "duration": 243,
    "start_time": "2021-10-24T20:39:46.085Z"
   },
   {
    "duration": 976,
    "start_time": "2021-10-24T20:39:46.330Z"
   },
   {
    "duration": 10,
    "start_time": "2021-10-24T20:39:47.309Z"
   },
   {
    "duration": 13,
    "start_time": "2021-10-24T20:39:47.322Z"
   },
   {
    "duration": 10,
    "start_time": "2021-10-24T20:39:47.338Z"
   },
   {
    "duration": 37,
    "start_time": "2021-10-24T20:39:47.384Z"
   },
   {
    "duration": 78,
    "start_time": "2021-10-24T20:39:47.425Z"
   },
   {
    "duration": 40,
    "start_time": "2021-10-24T20:39:47.506Z"
   },
   {
    "duration": 7,
    "start_time": "2021-10-24T20:39:47.548Z"
   },
   {
    "duration": 38,
    "start_time": "2021-10-24T20:39:47.558Z"
   },
   {
    "duration": 977,
    "start_time": "2021-10-24T20:39:47.599Z"
   },
   {
    "duration": 25,
    "start_time": "2021-10-24T20:39:48.583Z"
   },
   {
    "duration": 82,
    "start_time": "2021-10-24T20:39:48.613Z"
   },
   {
    "duration": 40,
    "start_time": "2021-10-24T20:39:48.698Z"
   },
   {
    "duration": 19,
    "start_time": "2021-10-24T20:39:50.865Z"
   },
   {
    "duration": 6,
    "start_time": "2021-10-24T20:40:23.638Z"
   },
   {
    "duration": 9,
    "start_time": "2021-10-24T20:50:42.372Z"
   },
   {
    "duration": 11,
    "start_time": "2021-10-24T20:51:35.158Z"
   },
   {
    "duration": 19,
    "start_time": "2021-10-24T20:53:06.563Z"
   },
   {
    "duration": 19,
    "start_time": "2021-10-24T20:53:45.661Z"
   },
   {
    "duration": 15,
    "start_time": "2021-10-24T21:03:08.122Z"
   },
   {
    "duration": 16,
    "start_time": "2021-10-24T21:03:26.832Z"
   },
   {
    "duration": 14,
    "start_time": "2021-10-24T21:03:29.962Z"
   },
   {
    "duration": 25,
    "start_time": "2021-10-24T21:03:47.127Z"
   },
   {
    "duration": 31,
    "start_time": "2021-10-24T21:09:03.907Z"
   },
   {
    "duration": 16,
    "start_time": "2021-10-24T21:09:06.219Z"
   },
   {
    "duration": 34,
    "start_time": "2021-10-24T21:09:49.246Z"
   },
   {
    "duration": 18,
    "start_time": "2021-10-24T21:09:53.588Z"
   },
   {
    "duration": 28,
    "start_time": "2021-10-24T21:11:01.836Z"
   },
   {
    "duration": 55,
    "start_time": "2021-10-24T21:13:12.833Z"
   },
   {
    "duration": 7775,
    "start_time": "2021-10-24T21:16:16.874Z"
   },
   {
    "duration": 276,
    "start_time": "2021-10-24T21:16:41.868Z"
   },
   {
    "duration": 17,
    "start_time": "2021-10-24T21:16:49.935Z"
   },
   {
    "duration": 15118,
    "start_time": "2021-10-24T21:17:19.013Z"
   },
   {
    "duration": 4620,
    "start_time": "2021-10-24T21:17:37.122Z"
   },
   {
    "duration": 5239,
    "start_time": "2021-10-24T21:17:43.292Z"
   },
   {
    "duration": 10,
    "start_time": "2021-10-24T21:17:50.403Z"
   },
   {
    "duration": 10,
    "start_time": "2021-10-24T21:18:03.481Z"
   },
   {
    "duration": 13,
    "start_time": "2021-10-24T21:18:09.958Z"
   },
   {
    "duration": 119,
    "start_time": "2021-10-24T21:28:32.810Z"
   },
   {
    "duration": 2522,
    "start_time": "2021-10-24T21:28:37.828Z"
   },
   {
    "duration": 1645,
    "start_time": "2021-10-24T21:28:48.696Z"
   },
   {
    "duration": 24,
    "start_time": "2021-10-24T21:31:13.506Z"
   },
   {
    "duration": 22,
    "start_time": "2021-10-24T21:33:20.527Z"
   },
   {
    "duration": 16,
    "start_time": "2021-10-24T21:33:24.104Z"
   },
   {
    "duration": 17,
    "start_time": "2021-10-24T21:33:38.707Z"
   },
   {
    "duration": 15,
    "start_time": "2021-10-24T21:35:06.476Z"
   },
   {
    "duration": 31,
    "start_time": "2021-10-24T21:35:28.371Z"
   },
   {
    "duration": 29,
    "start_time": "2021-10-24T21:37:05.901Z"
   },
   {
    "duration": 25,
    "start_time": "2021-10-24T21:39:12.720Z"
   },
   {
    "duration": 22,
    "start_time": "2021-10-24T21:39:49.486Z"
   },
   {
    "duration": 20,
    "start_time": "2021-10-24T21:40:00.321Z"
   },
   {
    "duration": 26,
    "start_time": "2021-10-24T21:40:44.177Z"
   },
   {
    "duration": 26,
    "start_time": "2021-10-24T21:41:08.697Z"
   },
   {
    "duration": 30,
    "start_time": "2021-10-24T21:44:49.158Z"
   },
   {
    "duration": 319,
    "start_time": "2021-10-24T21:47:42.133Z"
   },
   {
    "duration": 25,
    "start_time": "2021-10-24T21:48:32.413Z"
   },
   {
    "duration": 28,
    "start_time": "2021-10-24T21:48:38.436Z"
   },
   {
    "duration": 6,
    "start_time": "2021-10-24T21:48:57.999Z"
   },
   {
    "duration": 6,
    "start_time": "2021-10-24T21:49:07.276Z"
   },
   {
    "duration": 5,
    "start_time": "2021-10-24T21:50:16.751Z"
   },
   {
    "duration": 17,
    "start_time": "2021-10-24T21:50:18.919Z"
   },
   {
    "duration": 33,
    "start_time": "2021-10-24T21:50:40.142Z"
   },
   {
    "duration": 33,
    "start_time": "2021-10-24T21:50:53.998Z"
   },
   {
    "duration": 17,
    "start_time": "2021-10-24T22:51:49.666Z"
   },
   {
    "duration": 12,
    "start_time": "2021-10-24T22:56:41.655Z"
   },
   {
    "duration": 19,
    "start_time": "2021-10-24T22:56:44.563Z"
   },
   {
    "duration": 6,
    "start_time": "2021-10-24T22:57:58.100Z"
   },
   {
    "duration": 21,
    "start_time": "2021-10-24T22:57:58.740Z"
   },
   {
    "duration": 7,
    "start_time": "2021-10-24T22:58:47.707Z"
   },
   {
    "duration": 21,
    "start_time": "2021-10-24T22:58:49.365Z"
   },
   {
    "duration": 16,
    "start_time": "2021-10-24T22:59:47.808Z"
   },
   {
    "duration": 1516,
    "start_time": "2021-10-25T19:25:09.942Z"
   },
   {
    "duration": 687,
    "start_time": "2021-10-25T19:25:11.461Z"
   },
   {
    "duration": 32,
    "start_time": "2021-10-25T19:25:12.151Z"
   },
   {
    "duration": 22,
    "start_time": "2021-10-25T19:25:12.186Z"
   },
   {
    "duration": 966,
    "start_time": "2021-10-25T19:25:12.211Z"
   },
   {
    "duration": 978,
    "start_time": "2021-10-25T19:25:13.182Z"
   },
   {
    "duration": 89,
    "start_time": "2021-10-25T19:25:14.163Z"
   },
   {
    "duration": 1089,
    "start_time": "2021-10-25T19:25:14.256Z"
   },
   {
    "duration": 2167,
    "start_time": "2021-10-25T19:25:15.348Z"
   },
   {
    "duration": 27,
    "start_time": "2021-10-25T19:25:17.518Z"
   },
   {
    "duration": 247,
    "start_time": "2021-10-25T19:25:17.548Z"
   },
   {
    "duration": 946,
    "start_time": "2021-10-25T19:25:17.797Z"
   },
   {
    "duration": 10,
    "start_time": "2021-10-25T19:25:18.746Z"
   },
   {
    "duration": 28,
    "start_time": "2021-10-25T19:25:18.759Z"
   },
   {
    "duration": 10,
    "start_time": "2021-10-25T19:25:18.789Z"
   },
   {
    "duration": 27,
    "start_time": "2021-10-25T19:25:18.801Z"
   },
   {
    "duration": 79,
    "start_time": "2021-10-25T19:25:18.830Z"
   },
   {
    "duration": 33,
    "start_time": "2021-10-25T19:25:18.912Z"
   },
   {
    "duration": 53,
    "start_time": "2021-10-25T19:25:18.947Z"
   },
   {
    "duration": 6,
    "start_time": "2021-10-25T19:25:19.002Z"
   },
   {
    "duration": 12,
    "start_time": "2021-10-25T19:25:19.010Z"
   },
   {
    "duration": 950,
    "start_time": "2021-10-25T19:25:19.024Z"
   },
   {
    "duration": 19,
    "start_time": "2021-10-25T19:25:19.983Z"
   },
   {
    "duration": 77,
    "start_time": "2021-10-25T19:25:20.005Z"
   },
   {
    "duration": 37,
    "start_time": "2021-10-25T19:25:20.084Z"
   },
   {
    "duration": 17,
    "start_time": "2021-10-25T19:25:20.124Z"
   },
   {
    "duration": 113,
    "start_time": "2021-10-25T19:25:20.143Z"
   },
   {
    "duration": 28,
    "start_time": "2021-10-25T19:25:20.259Z"
   },
   {
    "duration": 30,
    "start_time": "2021-10-25T19:25:20.290Z"
   },
   {
    "duration": 29,
    "start_time": "2021-10-25T19:25:20.322Z"
   },
   {
    "duration": 47,
    "start_time": "2021-10-25T19:25:20.353Z"
   },
   {
    "duration": 18,
    "start_time": "2021-10-25T19:25:20.402Z"
   },
   {
    "duration": 17,
    "start_time": "2021-10-25T20:05:29.645Z"
   },
   {
    "duration": 1481,
    "start_time": "2021-10-25T20:06:17.470Z"
   },
   {
    "duration": 18,
    "start_time": "2021-10-25T20:07:00.377Z"
   },
   {
    "duration": 20,
    "start_time": "2021-10-25T20:07:29.840Z"
   },
   {
    "duration": 18,
    "start_time": "2021-10-25T20:08:14.548Z"
   },
   {
    "duration": 19,
    "start_time": "2021-10-25T20:08:56.334Z"
   },
   {
    "duration": 23,
    "start_time": "2021-10-25T20:10:13.808Z"
   },
   {
    "duration": 30,
    "start_time": "2021-10-25T20:10:26.441Z"
   },
   {
    "duration": 30,
    "start_time": "2021-10-25T20:10:32.796Z"
   },
   {
    "duration": 6,
    "start_time": "2021-10-25T20:11:15.136Z"
   },
   {
    "duration": 27,
    "start_time": "2021-10-25T20:11:25.448Z"
   },
   {
    "duration": 16,
    "start_time": "2021-10-25T20:11:29.389Z"
   },
   {
    "duration": 29,
    "start_time": "2021-10-25T20:11:46.971Z"
   },
   {
    "duration": 15,
    "start_time": "2021-10-25T20:11:47.603Z"
   },
   {
    "duration": 30,
    "start_time": "2021-10-25T20:14:06.718Z"
   },
   {
    "duration": 21,
    "start_time": "2021-10-25T20:14:07.897Z"
   },
   {
    "duration": 330,
    "start_time": "2021-10-25T20:15:10.933Z"
   },
   {
    "duration": 31,
    "start_time": "2021-10-25T20:15:27.646Z"
   },
   {
    "duration": 7,
    "start_time": "2021-10-25T20:15:30.352Z"
   },
   {
    "duration": 339,
    "start_time": "2021-10-25T20:16:06.999Z"
   },
   {
    "duration": 37,
    "start_time": "2021-10-25T20:17:30.033Z"
   },
   {
    "duration": 18,
    "start_time": "2021-10-25T20:17:36.577Z"
   },
   {
    "duration": 42,
    "start_time": "2021-10-25T20:17:46.584Z"
   },
   {
    "duration": 298,
    "start_time": "2021-10-25T20:19:11.027Z"
   },
   {
    "duration": 16,
    "start_time": "2021-10-25T20:19:26.591Z"
   },
   {
    "duration": 15,
    "start_time": "2021-10-25T20:19:29.852Z"
   },
   {
    "duration": 13,
    "start_time": "2021-10-25T20:19:55.179Z"
   },
   {
    "duration": 11,
    "start_time": "2021-10-25T20:19:55.774Z"
   },
   {
    "duration": 14,
    "start_time": "2021-10-25T20:20:17.684Z"
   },
   {
    "duration": 15,
    "start_time": "2021-10-25T20:20:24.937Z"
   },
   {
    "duration": 26,
    "start_time": "2021-10-25T20:21:50.829Z"
   },
   {
    "duration": 28,
    "start_time": "2021-10-25T20:22:38.728Z"
   },
   {
    "duration": 288,
    "start_time": "2021-10-25T20:23:33.296Z"
   },
   {
    "duration": 7,
    "start_time": "2021-10-25T20:23:39.923Z"
   },
   {
    "duration": 30,
    "start_time": "2021-10-25T20:23:44.354Z"
   },
   {
    "duration": 113,
    "start_time": "2021-10-25T20:26:42.918Z"
   },
   {
    "duration": 8,
    "start_time": "2021-10-25T20:27:10.926Z"
   },
   {
    "duration": 30,
    "start_time": "2021-10-25T20:27:16.503Z"
   },
   {
    "duration": 16,
    "start_time": "2021-10-25T20:28:48.853Z"
   },
   {
    "duration": 4,
    "start_time": "2021-10-25T20:29:00.143Z"
   },
   {
    "duration": 642,
    "start_time": "2021-10-25T20:29:00.153Z"
   },
   {
    "duration": 9,
    "start_time": "2021-10-25T20:29:00.799Z"
   },
   {
    "duration": 26,
    "start_time": "2021-10-25T20:29:00.813Z"
   },
   {
    "duration": 1023,
    "start_time": "2021-10-25T20:29:00.843Z"
   },
   {
    "duration": 997,
    "start_time": "2021-10-25T20:29:01.869Z"
   },
   {
    "duration": 238,
    "start_time": "2021-10-25T20:29:02.869Z"
   },
   {
    "duration": 1067,
    "start_time": "2021-10-25T20:29:03.110Z"
   },
   {
    "duration": 2185,
    "start_time": "2021-10-25T20:29:04.181Z"
   },
   {
    "duration": 26,
    "start_time": "2021-10-25T20:29:06.370Z"
   },
   {
    "duration": 134,
    "start_time": "2021-10-25T20:29:06.399Z"
   },
   {
    "duration": 1006,
    "start_time": "2021-10-25T20:29:06.535Z"
   },
   {
    "duration": 10,
    "start_time": "2021-10-25T20:29:07.543Z"
   },
   {
    "duration": 27,
    "start_time": "2021-10-25T20:29:07.555Z"
   },
   {
    "duration": 11,
    "start_time": "2021-10-25T20:29:07.584Z"
   },
   {
    "duration": 26,
    "start_time": "2021-10-25T20:29:07.597Z"
   },
   {
    "duration": 71,
    "start_time": "2021-10-25T20:29:07.626Z"
   },
   {
    "duration": 33,
    "start_time": "2021-10-25T20:29:07.700Z"
   },
   {
    "duration": 23,
    "start_time": "2021-10-25T20:29:07.736Z"
   },
   {
    "duration": 6,
    "start_time": "2021-10-25T20:29:07.782Z"
   },
   {
    "duration": 12,
    "start_time": "2021-10-25T20:29:07.790Z"
   },
   {
    "duration": 922,
    "start_time": "2021-10-25T20:29:07.805Z"
   },
   {
    "duration": 20,
    "start_time": "2021-10-25T20:29:08.729Z"
   },
   {
    "duration": 77,
    "start_time": "2021-10-25T20:29:08.751Z"
   },
   {
    "duration": 53,
    "start_time": "2021-10-25T20:29:08.831Z"
   },
   {
    "duration": 19,
    "start_time": "2021-10-25T20:29:08.886Z"
   },
   {
    "duration": 85,
    "start_time": "2021-10-25T20:29:08.907Z"
   },
   {
    "duration": 12,
    "start_time": "2021-10-25T20:29:08.997Z"
   },
   {
    "duration": 32,
    "start_time": "2021-10-25T20:29:09.012Z"
   },
   {
    "duration": 58,
    "start_time": "2021-10-25T20:29:09.047Z"
   },
   {
    "duration": 14,
    "start_time": "2021-10-25T20:29:09.107Z"
   },
   {
    "duration": 18,
    "start_time": "2021-10-25T20:29:09.123Z"
   },
   {
    "duration": 71,
    "start_time": "2021-10-25T20:29:09.143Z"
   },
   {
    "duration": 21,
    "start_time": "2021-10-25T20:29:09.217Z"
   },
   {
    "duration": 13,
    "start_time": "2021-10-25T20:29:09.240Z"
   },
   {
    "duration": 15,
    "start_time": "2021-10-25T20:30:18.905Z"
   },
   {
    "duration": 22,
    "start_time": "2021-10-25T20:30:23.862Z"
   },
   {
    "duration": 13,
    "start_time": "2021-10-25T20:31:12.113Z"
   },
   {
    "duration": 100,
    "start_time": "2021-10-25T20:31:28.119Z"
   },
   {
    "duration": 6,
    "start_time": "2021-10-25T20:31:32.777Z"
   },
   {
    "duration": 13,
    "start_time": "2021-10-25T20:32:26.128Z"
   },
   {
    "duration": 18,
    "start_time": "2021-10-25T20:35:24.615Z"
   },
   {
    "duration": 302,
    "start_time": "2021-10-25T20:36:03.331Z"
   },
   {
    "duration": 21,
    "start_time": "2021-10-25T20:36:13.488Z"
   },
   {
    "duration": 25,
    "start_time": "2021-10-25T20:36:36.929Z"
   },
   {
    "duration": 29,
    "start_time": "2021-10-25T20:38:00.002Z"
   },
   {
    "duration": 32,
    "start_time": "2021-10-25T20:39:29.948Z"
   },
   {
    "duration": 8,
    "start_time": "2021-10-25T20:40:43.825Z"
   },
   {
    "duration": 16,
    "start_time": "2021-10-25T20:40:45.573Z"
   },
   {
    "duration": 4,
    "start_time": "2021-10-25T20:42:30.445Z"
   },
   {
    "duration": 660,
    "start_time": "2021-10-25T20:42:30.456Z"
   },
   {
    "duration": 8,
    "start_time": "2021-10-25T20:42:31.119Z"
   },
   {
    "duration": 58,
    "start_time": "2021-10-25T20:42:31.130Z"
   },
   {
    "duration": 986,
    "start_time": "2021-10-25T20:42:31.191Z"
   },
   {
    "duration": 966,
    "start_time": "2021-10-25T20:42:32.183Z"
   },
   {
    "duration": 237,
    "start_time": "2021-10-25T20:42:33.151Z"
   },
   {
    "duration": 950,
    "start_time": "2021-10-25T20:42:33.390Z"
   },
   {
    "duration": 2207,
    "start_time": "2021-10-25T20:42:34.343Z"
   },
   {
    "duration": 32,
    "start_time": "2021-10-25T20:42:36.554Z"
   },
   {
    "duration": 132,
    "start_time": "2021-10-25T20:42:36.589Z"
   },
   {
    "duration": 962,
    "start_time": "2021-10-25T20:42:36.724Z"
   },
   {
    "duration": 15,
    "start_time": "2021-10-25T20:42:37.689Z"
   },
   {
    "duration": 10,
    "start_time": "2021-10-25T20:42:37.706Z"
   },
   {
    "duration": 9,
    "start_time": "2021-10-25T20:42:37.719Z"
   },
   {
    "duration": 64,
    "start_time": "2021-10-25T20:42:37.730Z"
   },
   {
    "duration": 37,
    "start_time": "2021-10-25T20:42:37.796Z"
   },
   {
    "duration": 68,
    "start_time": "2021-10-25T20:42:37.835Z"
   },
   {
    "duration": 24,
    "start_time": "2021-10-25T20:42:37.907Z"
   },
   {
    "duration": 8,
    "start_time": "2021-10-25T20:42:37.934Z"
   },
   {
    "duration": 39,
    "start_time": "2021-10-25T20:42:37.945Z"
   },
   {
    "duration": 944,
    "start_time": "2021-10-25T20:42:37.986Z"
   },
   {
    "duration": 21,
    "start_time": "2021-10-25T20:42:38.933Z"
   },
   {
    "duration": 76,
    "start_time": "2021-10-25T20:42:38.957Z"
   },
   {
    "duration": 66,
    "start_time": "2021-10-25T20:42:39.036Z"
   },
   {
    "duration": 20,
    "start_time": "2021-10-25T20:42:39.105Z"
   },
   {
    "duration": 78,
    "start_time": "2021-10-25T20:42:39.128Z"
   },
   {
    "duration": 13,
    "start_time": "2021-10-25T20:42:39.211Z"
   },
   {
    "duration": 59,
    "start_time": "2021-10-25T20:42:39.227Z"
   },
   {
    "duration": 31,
    "start_time": "2021-10-25T20:42:39.288Z"
   },
   {
    "duration": 13,
    "start_time": "2021-10-25T20:42:39.322Z"
   },
   {
    "duration": 51,
    "start_time": "2021-10-25T20:42:39.339Z"
   },
   {
    "duration": 45,
    "start_time": "2021-10-25T20:42:39.393Z"
   },
   {
    "duration": 53,
    "start_time": "2021-10-25T20:42:39.441Z"
   },
   {
    "duration": 17,
    "start_time": "2021-10-25T20:42:39.498Z"
   },
   {
    "duration": 16,
    "start_time": "2021-10-25T20:42:39.518Z"
   },
   {
    "duration": 51,
    "start_time": "2021-10-25T20:42:39.537Z"
   },
   {
    "duration": 32,
    "start_time": "2021-10-25T20:42:39.591Z"
   },
   {
    "duration": 323,
    "start_time": "2021-10-25T20:45:36.286Z"
   },
   {
    "duration": 4,
    "start_time": "2021-10-25T20:46:10.135Z"
   },
   {
    "duration": 67,
    "start_time": "2021-10-25T20:46:14.149Z"
   },
   {
    "duration": 13,
    "start_time": "2021-10-25T20:46:42.286Z"
   },
   {
    "duration": 12,
    "start_time": "2021-10-25T20:46:47.352Z"
   },
   {
    "duration": 12,
    "start_time": "2021-10-25T20:46:51.958Z"
   },
   {
    "duration": 4,
    "start_time": "2021-10-25T20:47:08.832Z"
   },
   {
    "duration": 610,
    "start_time": "2021-10-25T20:47:08.839Z"
   },
   {
    "duration": 8,
    "start_time": "2021-10-25T20:47:09.451Z"
   },
   {
    "duration": 22,
    "start_time": "2021-10-25T20:47:09.483Z"
   },
   {
    "duration": 994,
    "start_time": "2021-10-25T20:47:09.507Z"
   },
   {
    "duration": 989,
    "start_time": "2021-10-25T20:47:10.504Z"
   },
   {
    "duration": 224,
    "start_time": "2021-10-25T20:47:11.497Z"
   },
   {
    "duration": 988,
    "start_time": "2021-10-25T20:47:11.724Z"
   },
   {
    "duration": 2431,
    "start_time": "2021-10-25T20:47:12.715Z"
   },
   {
    "duration": 17,
    "start_time": "2021-10-25T20:47:15.148Z"
   },
   {
    "duration": 229,
    "start_time": "2021-10-25T20:47:15.167Z"
   },
   {
    "duration": 1036,
    "start_time": "2021-10-25T20:47:15.399Z"
   },
   {
    "duration": 11,
    "start_time": "2021-10-25T20:47:16.437Z"
   },
   {
    "duration": 15,
    "start_time": "2021-10-25T20:47:16.451Z"
   },
   {
    "duration": 24,
    "start_time": "2021-10-25T20:47:16.468Z"
   },
   {
    "duration": 28,
    "start_time": "2021-10-25T20:47:16.494Z"
   },
   {
    "duration": 74,
    "start_time": "2021-10-25T20:47:16.524Z"
   },
   {
    "duration": 35,
    "start_time": "2021-10-25T20:47:16.601Z"
   },
   {
    "duration": 42,
    "start_time": "2021-10-25T20:47:16.641Z"
   },
   {
    "duration": 6,
    "start_time": "2021-10-25T20:47:16.686Z"
   },
   {
    "duration": 17,
    "start_time": "2021-10-25T20:47:16.694Z"
   },
   {
    "duration": 979,
    "start_time": "2021-10-25T20:47:16.713Z"
   },
   {
    "duration": 20,
    "start_time": "2021-10-25T20:47:17.694Z"
   },
   {
    "duration": 76,
    "start_time": "2021-10-25T20:47:17.716Z"
   },
   {
    "duration": 37,
    "start_time": "2021-10-25T20:47:17.795Z"
   },
   {
    "duration": 19,
    "start_time": "2021-10-25T20:47:17.834Z"
   },
   {
    "duration": 55,
    "start_time": "2021-10-25T20:47:17.881Z"
   },
   {
    "duration": 11,
    "start_time": "2021-10-25T20:47:17.939Z"
   },
   {
    "duration": 57,
    "start_time": "2021-10-25T20:47:17.952Z"
   },
   {
    "duration": 31,
    "start_time": "2021-10-25T20:47:18.012Z"
   },
   {
    "duration": 46,
    "start_time": "2021-10-25T20:47:18.046Z"
   },
   {
    "duration": 21,
    "start_time": "2021-10-25T20:47:18.094Z"
   },
   {
    "duration": 76,
    "start_time": "2021-10-25T20:47:18.118Z"
   },
   {
    "duration": 22,
    "start_time": "2021-10-25T20:47:18.196Z"
   },
   {
    "duration": 15,
    "start_time": "2021-10-25T20:47:18.220Z"
   },
   {
    "duration": 44,
    "start_time": "2021-10-25T20:47:18.237Z"
   },
   {
    "duration": 12,
    "start_time": "2021-10-25T20:47:18.284Z"
   },
   {
    "duration": 29,
    "start_time": "2021-10-25T20:47:18.298Z"
   },
   {
    "duration": 60,
    "start_time": "2021-10-25T20:47:20.930Z"
   },
   {
    "duration": 4,
    "start_time": "2021-10-25T20:48:10.285Z"
   },
   {
    "duration": 637,
    "start_time": "2021-10-25T20:48:10.299Z"
   },
   {
    "duration": 8,
    "start_time": "2021-10-25T20:48:10.938Z"
   },
   {
    "duration": 52,
    "start_time": "2021-10-25T20:48:10.949Z"
   },
   {
    "duration": 1001,
    "start_time": "2021-10-25T20:48:11.004Z"
   },
   {
    "duration": 965,
    "start_time": "2021-10-25T20:48:12.007Z"
   },
   {
    "duration": 228,
    "start_time": "2021-10-25T20:48:12.982Z"
   },
   {
    "duration": 973,
    "start_time": "2021-10-25T20:48:13.213Z"
   },
   {
    "duration": 2357,
    "start_time": "2021-10-25T20:48:14.192Z"
   },
   {
    "duration": 30,
    "start_time": "2021-10-25T20:48:16.553Z"
   },
   {
    "duration": 126,
    "start_time": "2021-10-25T20:48:16.585Z"
   },
   {
    "duration": 998,
    "start_time": "2021-10-25T20:48:16.713Z"
   },
   {
    "duration": 11,
    "start_time": "2021-10-25T20:48:17.713Z"
   },
   {
    "duration": 21,
    "start_time": "2021-10-25T20:48:17.726Z"
   },
   {
    "duration": 10,
    "start_time": "2021-10-25T20:48:17.749Z"
   },
   {
    "duration": 27,
    "start_time": "2021-10-25T20:48:17.782Z"
   },
   {
    "duration": 36,
    "start_time": "2021-10-25T20:48:17.811Z"
   },
   {
    "duration": 61,
    "start_time": "2021-10-25T20:48:17.849Z"
   },
   {
    "duration": 24,
    "start_time": "2021-10-25T20:48:17.913Z"
   },
   {
    "duration": 6,
    "start_time": "2021-10-25T20:48:17.939Z"
   },
   {
    "duration": 43,
    "start_time": "2021-10-25T20:48:17.948Z"
   },
   {
    "duration": 978,
    "start_time": "2021-10-25T20:48:17.993Z"
   },
   {
    "duration": 23,
    "start_time": "2021-10-25T20:48:18.974Z"
   },
   {
    "duration": 56,
    "start_time": "2021-10-25T20:48:19.002Z"
   },
   {
    "duration": 56,
    "start_time": "2021-10-25T20:48:19.061Z"
   },
   {
    "duration": 22,
    "start_time": "2021-10-25T20:48:19.120Z"
   },
   {
    "duration": 102,
    "start_time": "2021-10-25T20:48:19.145Z"
   },
   {
    "duration": 37,
    "start_time": "2021-10-25T20:48:19.251Z"
   },
   {
    "duration": 34,
    "start_time": "2021-10-25T20:48:19.291Z"
   },
   {
    "duration": 57,
    "start_time": "2021-10-25T20:48:19.329Z"
   },
   {
    "duration": 23,
    "start_time": "2021-10-25T20:48:19.389Z"
   },
   {
    "duration": 23,
    "start_time": "2021-10-25T20:48:19.414Z"
   },
   {
    "duration": 80,
    "start_time": "2021-10-25T20:48:19.439Z"
   },
   {
    "duration": 32,
    "start_time": "2021-10-25T20:48:19.522Z"
   },
   {
    "duration": 40,
    "start_time": "2021-10-25T20:48:19.557Z"
   },
   {
    "duration": 21,
    "start_time": "2021-10-25T20:48:19.600Z"
   },
   {
    "duration": 15,
    "start_time": "2021-10-25T20:48:19.624Z"
   },
   {
    "duration": 63,
    "start_time": "2021-10-25T20:48:19.642Z"
   },
   {
    "duration": 61,
    "start_time": "2021-10-25T20:48:21.109Z"
   },
   {
    "duration": 10,
    "start_time": "2021-10-25T20:50:15.947Z"
   },
   {
    "duration": 5,
    "start_time": "2021-10-25T20:50:57.646Z"
   },
   {
    "duration": 6,
    "start_time": "2021-10-25T20:51:10.606Z"
   },
   {
    "duration": 4,
    "start_time": "2021-10-25T20:51:20.709Z"
   },
   {
    "duration": 609,
    "start_time": "2021-10-25T20:51:20.718Z"
   },
   {
    "duration": 8,
    "start_time": "2021-10-25T20:51:21.330Z"
   },
   {
    "duration": 57,
    "start_time": "2021-10-25T20:51:21.340Z"
   },
   {
    "duration": 943,
    "start_time": "2021-10-25T20:51:21.400Z"
   },
   {
    "duration": 946,
    "start_time": "2021-10-25T20:51:22.345Z"
   },
   {
    "duration": 223,
    "start_time": "2021-10-25T20:51:23.293Z"
   },
   {
    "duration": 1052,
    "start_time": "2021-10-25T20:51:23.518Z"
   },
   {
    "duration": 2186,
    "start_time": "2021-10-25T20:51:24.573Z"
   },
   {
    "duration": 28,
    "start_time": "2021-10-25T20:51:26.763Z"
   },
   {
    "duration": 138,
    "start_time": "2021-10-25T20:51:26.795Z"
   },
   {
    "duration": 1028,
    "start_time": "2021-10-25T20:51:26.936Z"
   },
   {
    "duration": 19,
    "start_time": "2021-10-25T20:51:27.966Z"
   },
   {
    "duration": 17,
    "start_time": "2021-10-25T20:51:27.987Z"
   },
   {
    "duration": 11,
    "start_time": "2021-10-25T20:51:28.007Z"
   },
   {
    "duration": 30,
    "start_time": "2021-10-25T20:51:28.021Z"
   },
   {
    "duration": 67,
    "start_time": "2021-10-25T20:51:28.053Z"
   },
   {
    "duration": 60,
    "start_time": "2021-10-25T20:51:28.122Z"
   },
   {
    "duration": 26,
    "start_time": "2021-10-25T20:51:28.184Z"
   },
   {
    "duration": 7,
    "start_time": "2021-10-25T20:51:28.213Z"
   },
   {
    "duration": 16,
    "start_time": "2021-10-25T20:51:28.223Z"
   },
   {
    "duration": 968,
    "start_time": "2021-10-25T20:51:28.242Z"
   },
   {
    "duration": 20,
    "start_time": "2021-10-25T20:51:29.213Z"
   },
   {
    "duration": 80,
    "start_time": "2021-10-25T20:51:29.235Z"
   },
   {
    "duration": 40,
    "start_time": "2021-10-25T20:51:29.317Z"
   },
   {
    "duration": 41,
    "start_time": "2021-10-25T20:51:29.360Z"
   },
   {
    "duration": 55,
    "start_time": "2021-10-25T20:51:29.403Z"
   },
   {
    "duration": 13,
    "start_time": "2021-10-25T20:51:29.485Z"
   },
   {
    "duration": 34,
    "start_time": "2021-10-25T20:51:29.500Z"
   },
   {
    "duration": 59,
    "start_time": "2021-10-25T20:51:29.536Z"
   },
   {
    "duration": 17,
    "start_time": "2021-10-25T20:51:29.597Z"
   },
   {
    "duration": 26,
    "start_time": "2021-10-25T20:51:29.616Z"
   },
   {
    "duration": 64,
    "start_time": "2021-10-25T20:51:29.644Z"
   },
   {
    "duration": 21,
    "start_time": "2021-10-25T20:51:29.711Z"
   },
   {
    "duration": 15,
    "start_time": "2021-10-25T20:51:29.734Z"
   },
   {
    "duration": 38,
    "start_time": "2021-10-25T20:51:29.751Z"
   },
   {
    "duration": 12,
    "start_time": "2021-10-25T20:51:29.791Z"
   },
   {
    "duration": 32,
    "start_time": "2021-10-25T20:51:29.805Z"
   },
   {
    "duration": 62,
    "start_time": "2021-10-25T20:51:37.402Z"
   },
   {
    "duration": 11,
    "start_time": "2021-10-25T20:51:40.219Z"
   },
   {
    "duration": 25,
    "start_time": "2021-10-25T20:52:45.861Z"
   },
   {
    "duration": 9,
    "start_time": "2021-10-25T20:53:04.166Z"
   },
   {
    "duration": 319,
    "start_time": "2021-10-25T20:53:07.168Z"
   },
   {
    "duration": 9,
    "start_time": "2021-10-25T20:53:10.809Z"
   },
   {
    "duration": 7,
    "start_time": "2021-10-25T20:56:08.398Z"
   },
   {
    "duration": 25,
    "start_time": "2021-10-25T20:57:09.691Z"
   },
   {
    "duration": 4,
    "start_time": "2021-10-25T20:57:19.153Z"
   },
   {
    "duration": 10,
    "start_time": "2021-10-25T20:57:24.021Z"
   },
   {
    "duration": 41270,
    "start_time": "2021-10-25T21:03:15.733Z"
   },
   {
    "duration": 37975,
    "start_time": "2021-10-25T21:04:02.622Z"
   },
   {
    "duration": 36672,
    "start_time": "2021-10-25T21:04:44.910Z"
   },
   {
    "duration": 48549,
    "start_time": "2021-10-25T21:05:57.835Z"
   },
   {
    "duration": 564,
    "start_time": "2021-10-25T21:09:30.728Z"
   },
   {
    "duration": 918,
    "start_time": "2021-10-25T21:09:44.454Z"
   },
   {
    "duration": 636,
    "start_time": "2021-10-25T21:10:01.749Z"
   },
   {
    "duration": 510,
    "start_time": "2021-10-25T21:11:45.939Z"
   },
   {
    "duration": 753,
    "start_time": "2021-10-25T21:12:02.856Z"
   },
   {
    "duration": 490,
    "start_time": "2021-10-25T21:12:20.466Z"
   },
   {
    "duration": 472,
    "start_time": "2021-10-25T21:12:57.865Z"
   },
   {
    "duration": 502,
    "start_time": "2021-10-25T21:14:24.801Z"
   },
   {
    "duration": 439,
    "start_time": "2021-10-25T21:14:42.987Z"
   },
   {
    "duration": 515,
    "start_time": "2021-10-25T21:14:49.953Z"
   },
   {
    "duration": 493,
    "start_time": "2021-10-25T21:15:39.895Z"
   },
   {
    "duration": 497,
    "start_time": "2021-10-25T21:16:03.799Z"
   },
   {
    "duration": 542,
    "start_time": "2021-10-25T21:17:13.654Z"
   },
   {
    "duration": 335,
    "start_time": "2021-10-25T21:17:30.662Z"
   },
   {
    "duration": 483,
    "start_time": "2021-10-25T21:17:49.386Z"
   },
   {
    "duration": 486,
    "start_time": "2021-10-25T21:19:19.315Z"
   },
   {
    "duration": 492,
    "start_time": "2021-10-25T21:20:10.137Z"
   },
   {
    "duration": 497,
    "start_time": "2021-10-25T21:20:29.831Z"
   },
   {
    "duration": 324,
    "start_time": "2021-10-25T21:21:09.577Z"
   },
   {
    "duration": 332,
    "start_time": "2021-10-25T21:21:17.546Z"
   },
   {
    "duration": 488,
    "start_time": "2021-10-25T21:21:21.419Z"
   },
   {
    "duration": 481,
    "start_time": "2021-10-25T21:21:28.864Z"
   },
   {
    "duration": 461,
    "start_time": "2021-10-25T21:21:53.185Z"
   },
   {
    "duration": 611,
    "start_time": "2021-10-25T21:22:42.401Z"
   },
   {
    "duration": 746,
    "start_time": "2021-10-25T21:22:52.181Z"
   },
   {
    "duration": 715,
    "start_time": "2021-10-25T21:23:13.174Z"
   },
   {
    "duration": 620,
    "start_time": "2021-10-25T21:23:23.805Z"
   },
   {
    "duration": 694,
    "start_time": "2021-10-25T21:23:29.025Z"
   },
   {
    "duration": 590,
    "start_time": "2021-10-25T21:23:35.838Z"
   },
   {
    "duration": 629,
    "start_time": "2021-10-25T21:23:40.407Z"
   },
   {
    "duration": 659,
    "start_time": "2021-10-25T21:23:45.499Z"
   },
   {
    "duration": 639,
    "start_time": "2021-10-25T21:25:11.079Z"
   },
   {
    "duration": 646,
    "start_time": "2021-10-25T21:25:19.475Z"
   },
   {
    "duration": 687,
    "start_time": "2021-10-25T21:25:25.107Z"
   },
   {
    "duration": 728,
    "start_time": "2021-10-25T21:25:31.557Z"
   },
   {
    "duration": 1440,
    "start_time": "2021-10-25T21:25:43.248Z"
   },
   {
    "duration": 1035,
    "start_time": "2021-10-25T21:26:02.147Z"
   },
   {
    "duration": 786,
    "start_time": "2021-10-25T21:26:36.423Z"
   },
   {
    "duration": 1135,
    "start_time": "2021-10-25T21:29:03.761Z"
   },
   {
    "duration": 835,
    "start_time": "2021-10-25T21:29:12.040Z"
   },
   {
    "duration": 808,
    "start_time": "2021-10-25T21:29:18.294Z"
   },
   {
    "duration": 841,
    "start_time": "2021-10-25T21:29:23.720Z"
   },
   {
    "duration": 778,
    "start_time": "2021-10-25T21:29:30.589Z"
   },
   {
    "duration": 858,
    "start_time": "2021-10-25T21:29:38.946Z"
   },
   {
    "duration": 813,
    "start_time": "2021-10-25T21:29:48.510Z"
   },
   {
    "duration": 880,
    "start_time": "2021-10-25T21:29:56.025Z"
   },
   {
    "duration": 873,
    "start_time": "2021-10-25T21:30:00.935Z"
   },
   {
    "duration": 862,
    "start_time": "2021-10-25T21:30:04.531Z"
   },
   {
    "duration": 949,
    "start_time": "2021-10-25T21:30:10.036Z"
   },
   {
    "duration": 815,
    "start_time": "2021-10-25T21:30:19.285Z"
   },
   {
    "duration": 864,
    "start_time": "2021-10-25T21:30:24.045Z"
   },
   {
    "duration": 832,
    "start_time": "2021-10-25T21:30:30.997Z"
   },
   {
    "duration": 815,
    "start_time": "2021-10-25T21:30:35.795Z"
   },
   {
    "duration": 807,
    "start_time": "2021-10-25T21:30:44.199Z"
   },
   {
    "duration": 1345,
    "start_time": "2021-10-25T21:30:56.854Z"
   },
   {
    "duration": 1324,
    "start_time": "2021-10-25T21:31:04.121Z"
   },
   {
    "duration": 1275,
    "start_time": "2021-10-25T21:31:15.377Z"
   },
   {
    "duration": 1282,
    "start_time": "2021-10-25T21:31:21.745Z"
   },
   {
    "duration": 1278,
    "start_time": "2021-10-25T21:31:30.640Z"
   },
   {
    "duration": 1310,
    "start_time": "2021-10-25T21:31:36.273Z"
   },
   {
    "duration": 1408,
    "start_time": "2021-10-25T21:31:41.245Z"
   },
   {
    "duration": 1248,
    "start_time": "2021-10-25T21:31:47.499Z"
   },
   {
    "duration": 1206,
    "start_time": "2021-10-25T21:31:54.069Z"
   },
   {
    "duration": 1311,
    "start_time": "2021-10-25T21:32:00.881Z"
   },
   {
    "duration": 1439,
    "start_time": "2021-10-25T21:32:11.359Z"
   },
   {
    "duration": 1329,
    "start_time": "2021-10-25T21:32:20.956Z"
   },
   {
    "duration": 1370,
    "start_time": "2021-10-25T21:32:32.420Z"
   },
   {
    "duration": 1299,
    "start_time": "2021-10-25T21:32:40.778Z"
   },
   {
    "duration": 1381,
    "start_time": "2021-10-25T21:32:54.027Z"
   },
   {
    "duration": 1362,
    "start_time": "2021-10-25T21:34:40.040Z"
   },
   {
    "duration": 1299,
    "start_time": "2021-10-25T21:34:49.400Z"
   },
   {
    "duration": 1337,
    "start_time": "2021-10-25T21:34:54.864Z"
   },
   {
    "duration": 1357,
    "start_time": "2021-10-25T21:35:12.242Z"
   },
   {
    "duration": 1456,
    "start_time": "2021-10-25T21:35:29.652Z"
   },
   {
    "duration": 810,
    "start_time": "2021-10-25T21:35:39.096Z"
   },
   {
    "duration": 1672,
    "start_time": "2021-10-25T21:35:51.911Z"
   },
   {
    "duration": 2060,
    "start_time": "2021-10-25T21:36:01.901Z"
   },
   {
    "duration": 2309,
    "start_time": "2021-10-25T21:36:17.477Z"
   },
   {
    "duration": 2200,
    "start_time": "2021-10-25T21:36:25.362Z"
   },
   {
    "duration": 2103,
    "start_time": "2021-10-25T21:36:31.859Z"
   },
   {
    "duration": 2065,
    "start_time": "2021-10-25T21:36:39.386Z"
   },
   {
    "duration": 2112,
    "start_time": "2021-10-25T21:36:50.518Z"
   },
   {
    "duration": 2011,
    "start_time": "2021-10-25T21:36:59.165Z"
   },
   {
    "duration": 2014,
    "start_time": "2021-10-25T21:37:05.383Z"
   },
   {
    "duration": 2296,
    "start_time": "2021-10-25T21:37:13.469Z"
   },
   {
    "duration": 2074,
    "start_time": "2021-10-25T21:37:24.432Z"
   },
   {
    "duration": 2625,
    "start_time": "2021-10-25T21:37:30.208Z"
   },
   {
    "duration": 2136,
    "start_time": "2021-10-25T21:37:43.141Z"
   },
   {
    "duration": 2242,
    "start_time": "2021-10-25T21:39:12.958Z"
   },
   {
    "duration": 2169,
    "start_time": "2021-10-25T21:39:22.695Z"
   },
   {
    "duration": 2111,
    "start_time": "2021-10-25T21:40:06.705Z"
   },
   {
    "duration": 2127,
    "start_time": "2021-10-25T21:40:19.708Z"
   },
   {
    "duration": 2125,
    "start_time": "2021-10-25T21:44:29.932Z"
   },
   {
    "duration": 2106,
    "start_time": "2021-10-25T21:45:41.927Z"
   },
   {
    "duration": 2112,
    "start_time": "2021-10-25T21:45:48.755Z"
   },
   {
    "duration": 2145,
    "start_time": "2021-10-25T21:46:16.919Z"
   },
   {
    "duration": 5,
    "start_time": "2021-10-25T21:48:10.322Z"
   },
   {
    "duration": 309,
    "start_time": "2021-10-25T21:59:05.122Z"
   },
   {
    "duration": 295,
    "start_time": "2021-10-25T21:59:18.760Z"
   },
   {
    "duration": 4,
    "start_time": "2021-10-25T21:59:24.308Z"
   },
   {
    "duration": 1514,
    "start_time": "2021-10-25T21:59:24.319Z"
   },
   {
    "duration": 9,
    "start_time": "2021-10-25T21:59:25.835Z"
   },
   {
    "duration": 59,
    "start_time": "2021-10-25T21:59:25.848Z"
   },
   {
    "duration": 1173,
    "start_time": "2021-10-25T21:59:25.909Z"
   },
   {
    "duration": 1108,
    "start_time": "2021-10-25T21:59:27.084Z"
   },
   {
    "duration": 111,
    "start_time": "2021-10-25T21:59:28.195Z"
   },
   {
    "duration": 1065,
    "start_time": "2021-10-25T21:59:28.308Z"
   },
   {
    "duration": 2569,
    "start_time": "2021-10-25T21:59:29.383Z"
   },
   {
    "duration": 30,
    "start_time": "2021-10-25T21:59:31.955Z"
   },
   {
    "duration": 131,
    "start_time": "2021-10-25T21:59:31.988Z"
   },
   {
    "duration": 1105,
    "start_time": "2021-10-25T21:59:32.122Z"
   },
   {
    "duration": 11,
    "start_time": "2021-10-25T21:59:33.229Z"
   },
   {
    "duration": 14,
    "start_time": "2021-10-25T21:59:33.242Z"
   },
   {
    "duration": 31,
    "start_time": "2021-10-25T21:59:33.258Z"
   },
   {
    "duration": 28,
    "start_time": "2021-10-25T21:59:33.292Z"
   },
   {
    "duration": 75,
    "start_time": "2021-10-25T21:59:33.322Z"
   },
   {
    "duration": 34,
    "start_time": "2021-10-25T21:59:33.399Z"
   },
   {
    "duration": 24,
    "start_time": "2021-10-25T21:59:33.435Z"
   },
   {
    "duration": 23,
    "start_time": "2021-10-25T21:59:33.462Z"
   },
   {
    "duration": 13,
    "start_time": "2021-10-25T21:59:33.488Z"
   },
   {
    "duration": 1081,
    "start_time": "2021-10-25T21:59:33.503Z"
   },
   {
    "duration": 19,
    "start_time": "2021-10-25T21:59:34.587Z"
   },
   {
    "duration": 75,
    "start_time": "2021-10-25T21:59:34.611Z"
   },
   {
    "duration": 37,
    "start_time": "2021-10-25T21:59:34.689Z"
   },
   {
    "duration": 18,
    "start_time": "2021-10-25T21:59:34.728Z"
   },
   {
    "duration": 82,
    "start_time": "2021-10-25T21:59:34.749Z"
   },
   {
    "duration": 11,
    "start_time": "2021-10-25T21:59:34.834Z"
   },
   {
    "duration": 60,
    "start_time": "2021-10-25T21:59:34.847Z"
   },
   {
    "duration": 31,
    "start_time": "2021-10-25T21:59:34.910Z"
   },
   {
    "duration": 15,
    "start_time": "2021-10-25T21:59:34.944Z"
   },
   {
    "duration": 20,
    "start_time": "2021-10-25T21:59:34.983Z"
   },
   {
    "duration": 42,
    "start_time": "2021-10-25T21:59:35.006Z"
   },
   {
    "duration": 53,
    "start_time": "2021-10-25T21:59:35.050Z"
   },
   {
    "duration": 14,
    "start_time": "2021-10-25T21:59:35.106Z"
   },
   {
    "duration": 14,
    "start_time": "2021-10-25T21:59:35.123Z"
   },
   {
    "duration": 45,
    "start_time": "2021-10-25T21:59:35.139Z"
   },
   {
    "duration": 32,
    "start_time": "2021-10-25T21:59:35.187Z"
   },
   {
    "duration": 87,
    "start_time": "2021-10-25T21:59:35.221Z"
   },
   {
    "duration": 8,
    "start_time": "2021-10-25T21:59:35.310Z"
   },
   {
    "duration": 6,
    "start_time": "2021-10-25T21:59:35.321Z"
   },
   {
    "duration": 10,
    "start_time": "2021-10-25T21:59:35.330Z"
   },
   {
    "duration": 2156,
    "start_time": "2021-10-25T21:59:35.342Z"
   },
   {
    "duration": 11,
    "start_time": "2021-10-25T21:59:44.095Z"
   },
   {
    "duration": 14,
    "start_time": "2021-10-25T21:59:53.075Z"
   },
   {
    "duration": 2350,
    "start_time": "2021-10-25T22:01:59.414Z"
   },
   {
    "duration": 2427,
    "start_time": "2021-10-25T22:02:51.729Z"
   },
   {
    "duration": 2310,
    "start_time": "2021-10-25T22:02:57.880Z"
   },
   {
    "duration": 2457,
    "start_time": "2021-10-25T22:03:04.280Z"
   },
   {
    "duration": 4,
    "start_time": "2021-10-25T22:03:23.605Z"
   },
   {
    "duration": 645,
    "start_time": "2021-10-25T22:03:23.615Z"
   },
   {
    "duration": 8,
    "start_time": "2021-10-25T22:03:24.282Z"
   },
   {
    "duration": 24,
    "start_time": "2021-10-25T22:03:24.293Z"
   },
   {
    "duration": 1100,
    "start_time": "2021-10-25T22:03:24.319Z"
   },
   {
    "duration": 1088,
    "start_time": "2021-10-25T22:03:25.422Z"
   },
   {
    "duration": 101,
    "start_time": "2021-10-25T22:03:26.512Z"
   },
   {
    "duration": 1086,
    "start_time": "2021-10-25T22:03:26.615Z"
   },
   {
    "duration": 2377,
    "start_time": "2021-10-25T22:03:27.704Z"
   },
   {
    "duration": 17,
    "start_time": "2021-10-25T22:03:30.084Z"
   },
   {
    "duration": 131,
    "start_time": "2021-10-25T22:03:30.104Z"
   },
   {
    "duration": 1066,
    "start_time": "2021-10-25T22:03:30.238Z"
   },
   {
    "duration": 10,
    "start_time": "2021-10-25T22:03:31.307Z"
   },
   {
    "duration": 15,
    "start_time": "2021-10-25T22:03:31.320Z"
   },
   {
    "duration": 10,
    "start_time": "2021-10-25T22:03:31.338Z"
   },
   {
    "duration": 52,
    "start_time": "2021-10-25T22:03:31.351Z"
   },
   {
    "duration": 39,
    "start_time": "2021-10-25T22:03:31.406Z"
   },
   {
    "duration": 76,
    "start_time": "2021-10-25T22:03:31.447Z"
   },
   {
    "duration": 25,
    "start_time": "2021-10-25T22:03:31.526Z"
   },
   {
    "duration": 32,
    "start_time": "2021-10-25T22:03:31.553Z"
   },
   {
    "duration": 17,
    "start_time": "2021-10-25T22:03:31.587Z"
   },
   {
    "duration": 1111,
    "start_time": "2021-10-25T22:03:31.607Z"
   },
   {
    "duration": 19,
    "start_time": "2021-10-25T22:03:32.720Z"
   },
   {
    "duration": 79,
    "start_time": "2021-10-25T22:03:32.744Z"
   },
   {
    "duration": 38,
    "start_time": "2021-10-25T22:03:32.826Z"
   },
   {
    "duration": 19,
    "start_time": "2021-10-25T22:03:32.882Z"
   },
   {
    "duration": 55,
    "start_time": "2021-10-25T22:03:32.904Z"
   },
   {
    "duration": 29,
    "start_time": "2021-10-25T22:03:32.961Z"
   },
   {
    "duration": 34,
    "start_time": "2021-10-25T22:03:32.993Z"
   },
   {
    "duration": 67,
    "start_time": "2021-10-25T22:03:33.029Z"
   },
   {
    "duration": 16,
    "start_time": "2021-10-25T22:03:33.098Z"
   },
   {
    "duration": 26,
    "start_time": "2021-10-25T22:03:33.117Z"
   },
   {
    "duration": 69,
    "start_time": "2021-10-25T22:03:33.146Z"
   },
   {
    "duration": 25,
    "start_time": "2021-10-25T22:03:33.218Z"
   },
   {
    "duration": 50,
    "start_time": "2021-10-25T22:03:33.245Z"
   },
   {
    "duration": 17,
    "start_time": "2021-10-25T22:03:33.298Z"
   },
   {
    "duration": 13,
    "start_time": "2021-10-25T22:03:33.318Z"
   },
   {
    "duration": 71,
    "start_time": "2021-10-25T22:03:33.333Z"
   },
   {
    "duration": 76,
    "start_time": "2021-10-25T22:03:33.406Z"
   },
   {
    "duration": 10,
    "start_time": "2021-10-25T22:03:33.484Z"
   },
   {
    "duration": 8,
    "start_time": "2021-10-25T22:03:33.496Z"
   },
   {
    "duration": 17,
    "start_time": "2021-10-25T22:03:33.506Z"
   },
   {
    "duration": 2637,
    "start_time": "2021-10-25T22:03:36.252Z"
   },
   {
    "duration": 2703,
    "start_time": "2021-10-25T22:04:48.118Z"
   },
   {
    "duration": 2549,
    "start_time": "2021-10-25T22:04:58.475Z"
   },
   {
    "duration": 2694,
    "start_time": "2021-10-25T22:05:07.113Z"
   },
   {
    "duration": 11,
    "start_time": "2021-10-25T22:05:24.336Z"
   },
   {
    "duration": 15,
    "start_time": "2021-10-25T22:05:26.013Z"
   },
   {
    "duration": 33,
    "start_time": "2021-10-25T22:19:21.776Z"
   },
   {
    "duration": 4,
    "start_time": "2021-10-25T22:19:31.114Z"
   },
   {
    "duration": 2405,
    "start_time": "2021-10-25T22:29:32.341Z"
   },
   {
    "duration": 2512,
    "start_time": "2021-10-25T22:29:44.222Z"
   },
   {
    "duration": 2417,
    "start_time": "2021-10-25T22:29:54.524Z"
   },
   {
    "duration": 2380,
    "start_time": "2021-10-25T22:30:08.774Z"
   },
   {
    "duration": 2385,
    "start_time": "2021-10-25T22:30:18.063Z"
   },
   {
    "duration": 2547,
    "start_time": "2021-10-25T22:34:11.704Z"
   },
   {
    "duration": 15,
    "start_time": "2021-10-25T22:36:43.102Z"
   },
   {
    "duration": 270,
    "start_time": "2021-10-25T22:46:34.794Z"
   },
   {
    "duration": 19,
    "start_time": "2021-10-25T22:46:51.826Z"
   },
   {
    "duration": 11,
    "start_time": "2021-10-25T22:46:55.391Z"
   },
   {
    "duration": 12,
    "start_time": "2021-10-25T22:47:26.886Z"
   },
   {
    "duration": 5,
    "start_time": "2021-10-25T22:47:42.385Z"
   },
   {
    "duration": 18,
    "start_time": "2021-10-25T22:50:27.920Z"
   },
   {
    "duration": 10,
    "start_time": "2021-10-25T22:50:55.003Z"
   },
   {
    "duration": 17,
    "start_time": "2021-10-25T22:50:58.544Z"
   },
   {
    "duration": 7,
    "start_time": "2021-10-25T22:51:02.765Z"
   },
   {
    "duration": 10,
    "start_time": "2021-10-25T22:53:16.434Z"
   },
   {
    "duration": 6,
    "start_time": "2021-10-25T22:53:19.611Z"
   },
   {
    "duration": 6,
    "start_time": "2021-10-25T22:53:27.897Z"
   },
   {
    "duration": 19,
    "start_time": "2021-10-25T22:54:17.528Z"
   },
   {
    "duration": 5,
    "start_time": "2021-10-25T22:54:57.729Z"
   },
   {
    "duration": 613,
    "start_time": "2021-10-25T22:54:57.739Z"
   },
   {
    "duration": 27,
    "start_time": "2021-10-25T22:54:58.355Z"
   },
   {
    "duration": 24,
    "start_time": "2021-10-25T22:54:58.385Z"
   },
   {
    "duration": 1132,
    "start_time": "2021-10-25T22:54:58.412Z"
   },
   {
    "duration": 1111,
    "start_time": "2021-10-25T22:54:59.547Z"
   },
   {
    "duration": 129,
    "start_time": "2021-10-25T22:55:00.660Z"
   },
   {
    "duration": 1078,
    "start_time": "2021-10-25T22:55:00.792Z"
   },
   {
    "duration": 2326,
    "start_time": "2021-10-25T22:55:01.882Z"
   },
   {
    "duration": 18,
    "start_time": "2021-10-25T22:55:04.211Z"
   },
   {
    "duration": 132,
    "start_time": "2021-10-25T22:55:04.231Z"
   },
   {
    "duration": 1112,
    "start_time": "2021-10-25T22:55:04.365Z"
   },
   {
    "duration": 11,
    "start_time": "2021-10-25T22:55:05.482Z"
   },
   {
    "duration": 12,
    "start_time": "2021-10-25T22:55:05.495Z"
   },
   {
    "duration": 12,
    "start_time": "2021-10-25T22:55:05.509Z"
   },
   {
    "duration": 60,
    "start_time": "2021-10-25T22:55:05.524Z"
   },
   {
    "duration": 39,
    "start_time": "2021-10-25T22:55:05.586Z"
   },
   {
    "duration": 54,
    "start_time": "2021-10-25T22:55:05.628Z"
   },
   {
    "duration": 24,
    "start_time": "2021-10-25T22:55:05.685Z"
   },
   {
    "duration": 9,
    "start_time": "2021-10-25T22:55:05.711Z"
   },
   {
    "duration": 16,
    "start_time": "2021-10-25T22:55:05.722Z"
   },
   {
    "duration": 1115,
    "start_time": "2021-10-25T22:55:05.741Z"
   },
   {
    "duration": 32,
    "start_time": "2021-10-25T22:55:06.858Z"
   },
   {
    "duration": 54,
    "start_time": "2021-10-25T22:55:06.895Z"
   },
   {
    "duration": 56,
    "start_time": "2021-10-25T22:55:06.952Z"
   },
   {
    "duration": 19,
    "start_time": "2021-10-25T22:55:07.010Z"
   },
   {
    "duration": 79,
    "start_time": "2021-10-25T22:55:07.031Z"
   },
   {
    "duration": 13,
    "start_time": "2021-10-25T22:55:07.112Z"
   },
   {
    "duration": 60,
    "start_time": "2021-10-25T22:55:07.128Z"
   },
   {
    "duration": 33,
    "start_time": "2021-10-25T22:55:07.191Z"
   },
   {
    "duration": 16,
    "start_time": "2021-10-25T22:55:07.227Z"
   },
   {
    "duration": 55,
    "start_time": "2021-10-25T22:55:07.246Z"
   },
   {
    "duration": 44,
    "start_time": "2021-10-25T22:55:07.304Z"
   },
   {
    "duration": 25,
    "start_time": "2021-10-25T22:55:07.383Z"
   },
   {
    "duration": 17,
    "start_time": "2021-10-25T22:55:07.411Z"
   },
   {
    "duration": 54,
    "start_time": "2021-10-25T22:55:07.430Z"
   },
   {
    "duration": 13,
    "start_time": "2021-10-25T22:55:07.487Z"
   },
   {
    "duration": 32,
    "start_time": "2021-10-25T22:55:07.503Z"
   },
   {
    "duration": 98,
    "start_time": "2021-10-25T22:55:07.538Z"
   },
   {
    "duration": 12,
    "start_time": "2021-10-25T22:55:07.639Z"
   },
   {
    "duration": 28,
    "start_time": "2021-10-25T22:55:07.654Z"
   },
   {
    "duration": 16,
    "start_time": "2021-10-25T22:55:07.685Z"
   },
   {
    "duration": 2619,
    "start_time": "2021-10-25T22:55:07.704Z"
   },
   {
    "duration": 10,
    "start_time": "2021-10-25T22:55:10.325Z"
   },
   {
    "duration": 16,
    "start_time": "2021-10-25T22:55:10.337Z"
   },
   {
    "duration": 33,
    "start_time": "2021-10-25T22:55:10.356Z"
   },
   {
    "duration": 18,
    "start_time": "2021-10-25T22:55:15.690Z"
   },
   {
    "duration": 17,
    "start_time": "2021-10-25T22:55:18.336Z"
   },
   {
    "duration": 17,
    "start_time": "2021-10-25T22:56:57.531Z"
   },
   {
    "duration": 18,
    "start_time": "2021-10-25T22:57:01.650Z"
   },
   {
    "duration": 8,
    "start_time": "2021-10-25T22:58:51.166Z"
   },
   {
    "duration": 1526,
    "start_time": "2021-10-26T13:24:53.906Z"
   },
   {
    "duration": 651,
    "start_time": "2021-10-26T13:24:55.435Z"
   },
   {
    "duration": 8,
    "start_time": "2021-10-26T13:24:56.090Z"
   },
   {
    "duration": 29,
    "start_time": "2021-10-26T13:24:56.131Z"
   },
   {
    "duration": 949,
    "start_time": "2021-10-26T13:24:56.162Z"
   },
   {
    "duration": 979,
    "start_time": "2021-10-26T13:24:57.115Z"
   },
   {
    "duration": 138,
    "start_time": "2021-10-26T13:24:58.097Z"
   },
   {
    "duration": 957,
    "start_time": "2021-10-26T13:24:58.240Z"
   },
   {
    "duration": 2263,
    "start_time": "2021-10-26T13:24:59.200Z"
   },
   {
    "duration": 17,
    "start_time": "2021-10-26T13:25:01.465Z"
   },
   {
    "duration": 129,
    "start_time": "2021-10-26T13:25:01.485Z"
   },
   {
    "duration": 961,
    "start_time": "2021-10-26T13:25:01.617Z"
   },
   {
    "duration": 11,
    "start_time": "2021-10-26T13:25:02.581Z"
   },
   {
    "duration": 18,
    "start_time": "2021-10-26T13:25:02.594Z"
   },
   {
    "duration": 24,
    "start_time": "2021-10-26T13:25:02.614Z"
   },
   {
    "duration": 37,
    "start_time": "2021-10-26T13:25:02.640Z"
   },
   {
    "duration": 63,
    "start_time": "2021-10-26T13:25:02.680Z"
   },
   {
    "duration": 35,
    "start_time": "2021-10-26T13:25:02.745Z"
   },
   {
    "duration": 25,
    "start_time": "2021-10-26T13:25:02.782Z"
   },
   {
    "duration": 23,
    "start_time": "2021-10-26T13:25:02.809Z"
   },
   {
    "duration": 16,
    "start_time": "2021-10-26T13:25:02.834Z"
   },
   {
    "duration": 944,
    "start_time": "2021-10-26T13:25:02.853Z"
   },
   {
    "duration": 28,
    "start_time": "2021-10-26T13:25:03.802Z"
   },
   {
    "duration": 56,
    "start_time": "2021-10-26T13:25:03.833Z"
   },
   {
    "duration": 59,
    "start_time": "2021-10-26T13:25:03.892Z"
   },
   {
    "duration": 17,
    "start_time": "2021-10-26T13:25:03.953Z"
   },
   {
    "duration": 75,
    "start_time": "2021-10-26T13:25:03.973Z"
   },
   {
    "duration": 12,
    "start_time": "2021-10-26T13:25:04.050Z"
   },
   {
    "duration": 43,
    "start_time": "2021-10-26T13:25:04.064Z"
   },
   {
    "duration": 46,
    "start_time": "2021-10-26T13:25:04.109Z"
   },
   {
    "duration": 18,
    "start_time": "2021-10-26T13:25:04.157Z"
   },
   {
    "duration": 51,
    "start_time": "2021-10-26T13:25:04.178Z"
   },
   {
    "duration": 41,
    "start_time": "2021-10-26T13:25:04.231Z"
   },
   {
    "duration": 20,
    "start_time": "2021-10-26T13:25:04.275Z"
   },
   {
    "duration": 38,
    "start_time": "2021-10-26T13:25:04.298Z"
   },
   {
    "duration": 14,
    "start_time": "2021-10-26T13:25:04.338Z"
   },
   {
    "duration": 11,
    "start_time": "2021-10-26T13:25:04.354Z"
   },
   {
    "duration": 66,
    "start_time": "2021-10-26T13:25:04.367Z"
   },
   {
    "duration": 59,
    "start_time": "2021-10-26T13:25:04.435Z"
   },
   {
    "duration": 10,
    "start_time": "2021-10-26T13:25:04.496Z"
   },
   {
    "duration": 7,
    "start_time": "2021-10-26T13:25:04.529Z"
   },
   {
    "duration": 11,
    "start_time": "2021-10-26T13:25:04.538Z"
   },
   {
    "duration": 2636,
    "start_time": "2021-10-26T13:25:04.552Z"
   },
   {
    "duration": 11,
    "start_time": "2021-10-26T13:25:07.190Z"
   },
   {
    "duration": 32,
    "start_time": "2021-10-26T13:25:07.203Z"
   },
   {
    "duration": 8,
    "start_time": "2021-10-26T13:25:07.237Z"
   },
   {
    "duration": 22,
    "start_time": "2021-10-26T13:25:07.248Z"
   },
   {
    "duration": 1552,
    "start_time": "2021-10-26T20:18:06.788Z"
   },
   {
    "duration": 676,
    "start_time": "2021-10-26T20:18:08.342Z"
   },
   {
    "duration": 8,
    "start_time": "2021-10-26T20:18:09.021Z"
   },
   {
    "duration": 27,
    "start_time": "2021-10-26T20:18:09.032Z"
   },
   {
    "duration": 1038,
    "start_time": "2021-10-26T20:18:09.062Z"
   },
   {
    "duration": 990,
    "start_time": "2021-10-26T20:18:10.102Z"
   },
   {
    "duration": 120,
    "start_time": "2021-10-26T20:18:11.094Z"
   },
   {
    "duration": 976,
    "start_time": "2021-10-26T20:18:11.218Z"
   },
   {
    "duration": 2427,
    "start_time": "2021-10-26T20:18:12.197Z"
   },
   {
    "duration": 18,
    "start_time": "2021-10-26T20:18:14.626Z"
   },
   {
    "duration": 140,
    "start_time": "2021-10-26T20:18:14.646Z"
   },
   {
    "duration": 993,
    "start_time": "2021-10-26T20:18:14.788Z"
   },
   {
    "duration": 16,
    "start_time": "2021-10-26T20:18:15.784Z"
   },
   {
    "duration": 14,
    "start_time": "2021-10-26T20:18:15.803Z"
   },
   {
    "duration": 11,
    "start_time": "2021-10-26T20:18:15.819Z"
   },
   {
    "duration": 31,
    "start_time": "2021-10-26T20:18:15.832Z"
   },
   {
    "duration": 67,
    "start_time": "2021-10-26T20:18:15.865Z"
   },
   {
    "duration": 34,
    "start_time": "2021-10-26T20:18:15.935Z"
   },
   {
    "duration": 47,
    "start_time": "2021-10-26T20:18:15.971Z"
   },
   {
    "duration": 13,
    "start_time": "2021-10-26T20:18:16.020Z"
   },
   {
    "duration": 19,
    "start_time": "2021-10-26T20:18:16.035Z"
   },
   {
    "duration": 963,
    "start_time": "2021-10-26T20:18:16.057Z"
   },
   {
    "duration": 26,
    "start_time": "2021-10-26T20:18:17.026Z"
   },
   {
    "duration": 81,
    "start_time": "2021-10-26T20:18:17.056Z"
   },
   {
    "duration": 37,
    "start_time": "2021-10-26T20:18:17.140Z"
   },
   {
    "duration": 34,
    "start_time": "2021-10-26T20:18:17.180Z"
   },
   {
    "duration": 53,
    "start_time": "2021-10-26T20:18:17.217Z"
   },
   {
    "duration": 37,
    "start_time": "2021-10-26T20:18:17.273Z"
   },
   {
    "duration": 38,
    "start_time": "2021-10-26T20:18:17.313Z"
   },
   {
    "duration": 52,
    "start_time": "2021-10-26T20:18:17.354Z"
   },
   {
    "duration": 20,
    "start_time": "2021-10-26T20:18:17.408Z"
   },
   {
    "duration": 20,
    "start_time": "2021-10-26T20:18:17.431Z"
   },
   {
    "duration": 72,
    "start_time": "2021-10-26T20:18:17.453Z"
   },
   {
    "duration": 23,
    "start_time": "2021-10-26T20:18:17.528Z"
   },
   {
    "duration": 17,
    "start_time": "2021-10-26T20:18:17.554Z"
   },
   {
    "duration": 17,
    "start_time": "2021-10-26T20:18:17.600Z"
   },
   {
    "duration": 13,
    "start_time": "2021-10-26T20:18:17.619Z"
   },
   {
    "duration": 30,
    "start_time": "2021-10-26T20:18:17.634Z"
   },
   {
    "duration": 98,
    "start_time": "2021-10-26T20:18:17.666Z"
   },
   {
    "duration": 11,
    "start_time": "2021-10-26T20:18:17.766Z"
   },
   {
    "duration": 10,
    "start_time": "2021-10-26T20:18:17.814Z"
   },
   {
    "duration": 2797,
    "start_time": "2021-10-26T20:18:17.827Z"
   },
   {
    "duration": 11,
    "start_time": "2021-10-26T20:18:20.626Z"
   },
   {
    "duration": 13,
    "start_time": "2021-10-26T20:18:20.639Z"
   },
   {
    "duration": 8,
    "start_time": "2021-10-26T20:18:20.655Z"
   },
   {
    "duration": 18,
    "start_time": "2021-10-26T20:18:20.702Z"
   },
   {
    "duration": 24,
    "start_time": "2021-10-26T20:29:07.192Z"
   },
   {
    "duration": 5,
    "start_time": "2021-10-26T20:30:42.356Z"
   },
   {
    "duration": 514,
    "start_time": "2021-10-26T20:31:49.648Z"
   },
   {
    "duration": 5,
    "start_time": "2021-10-26T20:32:06.832Z"
   },
   {
    "duration": 15,
    "start_time": "2021-10-26T20:32:09.588Z"
   },
   {
    "duration": 5,
    "start_time": "2021-10-26T20:41:24.612Z"
   },
   {
    "duration": 9,
    "start_time": "2021-10-26T20:41:29.913Z"
   },
   {
    "duration": 9,
    "start_time": "2021-10-26T20:42:52.171Z"
   },
   {
    "duration": 9,
    "start_time": "2021-10-26T20:42:52.663Z"
   },
   {
    "duration": 9,
    "start_time": "2021-10-26T20:47:05.920Z"
   },
   {
    "duration": 829,
    "start_time": "2021-10-26T20:48:34.984Z"
   },
   {
    "duration": 9,
    "start_time": "2021-10-26T20:48:52.768Z"
   },
   {
    "duration": 763,
    "start_time": "2021-10-26T20:48:55.011Z"
   },
   {
    "duration": 10,
    "start_time": "2021-10-26T20:49:07.728Z"
   },
   {
    "duration": 14,
    "start_time": "2021-10-26T20:49:10.507Z"
   },
   {
    "duration": 13,
    "start_time": "2021-10-26T20:49:15.141Z"
   },
   {
    "duration": 411,
    "start_time": "2021-10-26T20:50:30.315Z"
   },
   {
    "duration": 11,
    "start_time": "2021-10-26T20:51:23.178Z"
   },
   {
    "duration": 706,
    "start_time": "2021-10-26T20:51:25.538Z"
   },
   {
    "duration": 9,
    "start_time": "2021-10-26T20:51:42.343Z"
   },
   {
    "duration": 725,
    "start_time": "2021-10-26T20:51:45.474Z"
   },
   {
    "duration": 9,
    "start_time": "2021-10-26T20:53:39.344Z"
   },
   {
    "duration": 5,
    "start_time": "2021-10-26T20:53:41.956Z"
   },
   {
    "duration": 357,
    "start_time": "2021-10-26T20:53:48.206Z"
   },
   {
    "duration": 351,
    "start_time": "2021-10-26T20:53:54.376Z"
   },
   {
    "duration": 6,
    "start_time": "2021-10-26T20:53:57.880Z"
   },
   {
    "duration": 6,
    "start_time": "2021-10-26T20:54:06.144Z"
   },
   {
    "duration": 10,
    "start_time": "2021-10-26T20:54:56.719Z"
   },
   {
    "duration": 736,
    "start_time": "2021-10-26T20:55:02.110Z"
   },
   {
    "duration": 10,
    "start_time": "2021-10-26T20:55:35.013Z"
   },
   {
    "duration": 13,
    "start_time": "2021-10-26T20:55:38.460Z"
   },
   {
    "duration": 14,
    "start_time": "2021-10-26T20:55:42.956Z"
   },
   {
    "duration": 9,
    "start_time": "2021-10-26T21:02:24.465Z"
   },
   {
    "duration": 9,
    "start_time": "2021-10-26T21:02:30.296Z"
   },
   {
    "duration": 732,
    "start_time": "2021-10-26T21:02:33.206Z"
   },
   {
    "duration": 108,
    "start_time": "2021-10-26T21:02:40.225Z"
   },
   {
    "duration": 13,
    "start_time": "2021-10-26T21:02:42.464Z"
   },
   {
    "duration": 115,
    "start_time": "2021-10-26T21:03:54.774Z"
   },
   {
    "duration": 10,
    "start_time": "2021-10-26T21:04:19.681Z"
   },
   {
    "duration": 16,
    "start_time": "2021-10-26T21:04:22.764Z"
   },
   {
    "duration": 6,
    "start_time": "2021-10-26T21:10:00.459Z"
   },
   {
    "duration": 35,
    "start_time": "2021-10-26T21:11:48.808Z"
   },
   {
    "duration": 5,
    "start_time": "2021-10-26T21:18:29.166Z"
   },
   {
    "duration": 144,
    "start_time": "2021-10-26T21:20:17.750Z"
   },
   {
    "duration": 5,
    "start_time": "2021-10-26T21:20:22.253Z"
   },
   {
    "duration": 4,
    "start_time": "2021-10-26T21:20:26.597Z"
   },
   {
    "duration": 4,
    "start_time": "2021-10-26T21:33:52.258Z"
   },
   {
    "duration": 4,
    "start_time": "2021-10-26T21:39:03.593Z"
   },
   {
    "duration": 4,
    "start_time": "2021-10-26T21:41:26.581Z"
   },
   {
    "duration": 401,
    "start_time": "2021-10-26T21:41:39.446Z"
   },
   {
    "duration": 4,
    "start_time": "2021-10-26T21:43:17.240Z"
   },
   {
    "duration": 104968,
    "start_time": "2021-10-26T21:43:18.510Z"
   },
   {
    "duration": 5,
    "start_time": "2021-10-26T21:45:43.981Z"
   },
   {
    "duration": 5,
    "start_time": "2021-10-26T21:46:16.817Z"
   },
   {
    "duration": 5,
    "start_time": "2021-10-26T21:46:42.490Z"
   },
   {
    "duration": 8,
    "start_time": "2021-10-26T21:47:15.005Z"
   },
   {
    "duration": 17,
    "start_time": "2021-10-26T21:48:31.640Z"
   },
   {
    "duration": 4,
    "start_time": "2021-10-26T21:50:16.775Z"
   },
   {
    "duration": 6,
    "start_time": "2021-10-26T21:52:42.102Z"
   },
   {
    "duration": 4,
    "start_time": "2021-10-26T21:54:08.774Z"
   },
   {
    "duration": 4062111,
    "start_time": "2021-10-26T21:54:11.798Z"
   },
   {
    "duration": 5,
    "start_time": "2021-10-26T23:03:08.951Z"
   },
   {
    "duration": 7,
    "start_time": "2021-10-26T23:03:18.633Z"
   },
   {
    "duration": 4,
    "start_time": "2021-10-26T23:03:23.090Z"
   },
   {
    "duration": 114756,
    "start_time": "2021-10-26T23:03:25.872Z"
   },
   {
    "duration": 6,
    "start_time": "2021-10-26T23:06:21.227Z"
   },
   {
    "duration": 5,
    "start_time": "2021-10-26T23:07:06.892Z"
   },
   {
    "duration": 6325,
    "start_time": "2021-10-26T23:07:25.836Z"
   },
   {
    "duration": 5,
    "start_time": "2021-10-26T23:07:34.275Z"
   },
   {
    "duration": 57683,
    "start_time": "2021-10-26T23:07:36.497Z"
   },
   {
    "duration": -107,
    "start_time": "2021-10-26T23:08:34.290Z"
   },
   {
    "duration": 363,
    "start_time": "2021-10-26T23:08:49.688Z"
   },
   {
    "duration": 984,
    "start_time": "2021-10-26T23:09:16.386Z"
   },
   {
    "duration": 1456438,
    "start_time": "2021-10-26T23:09:26.194Z"
   },
   {
    "duration": 4,
    "start_time": "2021-10-26T23:34:06.799Z"
   },
   {
    "duration": 374726,
    "start_time": "2021-10-26T23:34:11.328Z"
   },
   {
    "duration": 5,
    "start_time": "2021-10-26T23:40:45.695Z"
   },
   {
    "duration": 4,
    "start_time": "2021-10-26T23:42:36.623Z"
   },
   {
    "duration": 5,
    "start_time": "2021-10-26T23:42:43.369Z"
   },
   {
    "duration": 6,
    "start_time": "2021-10-26T23:42:51.432Z"
   },
   {
    "duration": 4,
    "start_time": "2021-10-26T23:43:10.936Z"
   },
   {
    "duration": 75601,
    "start_time": "2021-10-26T23:43:16.009Z"
   },
   {
    "duration": 6,
    "start_time": "2021-10-26T23:44:41.640Z"
   },
   {
    "duration": 6,
    "start_time": "2021-10-26T23:45:13.655Z"
   },
   {
    "duration": 5,
    "start_time": "2021-10-26T23:46:21.509Z"
   },
   {
    "duration": 754738,
    "start_time": "2021-10-26T23:46:26.055Z"
   },
   {
    "duration": 4,
    "start_time": "2021-10-26T23:59:22.489Z"
   },
   {
    "duration": 88994,
    "start_time": "2021-10-26T23:59:23.730Z"
   },
   {
    "duration": 7,
    "start_time": "2021-10-27T00:01:16.249Z"
   },
   {
    "duration": 6,
    "start_time": "2021-10-27T00:02:06.479Z"
   },
   {
    "duration": 5,
    "start_time": "2021-10-27T00:02:44.863Z"
   },
   {
    "duration": 672,
    "start_time": "2021-10-27T00:02:44.877Z"
   },
   {
    "duration": 8,
    "start_time": "2021-10-27T00:02:45.552Z"
   },
   {
    "duration": 56,
    "start_time": "2021-10-27T00:02:45.563Z"
   },
   {
    "duration": 1091,
    "start_time": "2021-10-27T00:02:45.621Z"
   },
   {
    "duration": 970,
    "start_time": "2021-10-27T00:02:46.715Z"
   },
   {
    "duration": 122,
    "start_time": "2021-10-27T00:02:47.688Z"
   },
   {
    "duration": 974,
    "start_time": "2021-10-27T00:02:47.813Z"
   },
   {
    "duration": 2313,
    "start_time": "2021-10-27T00:02:48.791Z"
   },
   {
    "duration": 20,
    "start_time": "2021-10-27T00:02:51.110Z"
   },
   {
    "duration": 146,
    "start_time": "2021-10-27T00:02:51.134Z"
   },
   {
    "duration": 1129,
    "start_time": "2021-10-27T00:02:51.283Z"
   },
   {
    "duration": 11,
    "start_time": "2021-10-27T00:02:52.415Z"
   },
   {
    "duration": 12,
    "start_time": "2021-10-27T00:02:52.429Z"
   },
   {
    "duration": 10,
    "start_time": "2021-10-27T00:02:52.443Z"
   },
   {
    "duration": 64,
    "start_time": "2021-10-27T00:02:52.456Z"
   },
   {
    "duration": 39,
    "start_time": "2021-10-27T00:02:52.523Z"
   },
   {
    "duration": 60,
    "start_time": "2021-10-27T00:02:52.565Z"
   },
   {
    "duration": 25,
    "start_time": "2021-10-27T00:02:52.628Z"
   },
   {
    "duration": 7,
    "start_time": "2021-10-27T00:02:52.656Z"
   },
   {
    "duration": 47,
    "start_time": "2021-10-27T00:02:52.666Z"
   },
   {
    "duration": 978,
    "start_time": "2021-10-27T00:02:52.715Z"
   },
   {
    "duration": 20,
    "start_time": "2021-10-27T00:02:53.700Z"
   },
   {
    "duration": 109,
    "start_time": "2021-10-27T00:02:53.723Z"
   },
   {
    "duration": 43,
    "start_time": "2021-10-27T00:02:53.835Z"
   },
   {
    "duration": 36,
    "start_time": "2021-10-27T00:02:53.880Z"
   },
   {
    "duration": 82,
    "start_time": "2021-10-27T00:02:53.919Z"
   },
   {
    "duration": 12,
    "start_time": "2021-10-27T00:02:54.007Z"
   },
   {
    "duration": 39,
    "start_time": "2021-10-27T00:02:54.023Z"
   },
   {
    "duration": 67,
    "start_time": "2021-10-27T00:02:54.065Z"
   },
   {
    "duration": 19,
    "start_time": "2021-10-27T00:02:54.135Z"
   },
   {
    "duration": 62,
    "start_time": "2021-10-27T00:02:54.157Z"
   },
   {
    "duration": 51,
    "start_time": "2021-10-27T00:02:54.222Z"
   },
   {
    "duration": 45,
    "start_time": "2021-10-27T00:02:54.276Z"
   },
   {
    "duration": 15,
    "start_time": "2021-10-27T00:02:54.324Z"
   },
   {
    "duration": 15,
    "start_time": "2021-10-27T00:02:54.341Z"
   },
   {
    "duration": 54,
    "start_time": "2021-10-27T00:02:54.359Z"
   },
   {
    "duration": 31,
    "start_time": "2021-10-27T00:02:54.416Z"
   },
   {
    "duration": 88,
    "start_time": "2021-10-27T00:02:54.450Z"
   },
   {
    "duration": 9,
    "start_time": "2021-10-27T00:02:54.541Z"
   },
   {
    "duration": 9,
    "start_time": "2021-10-27T00:02:54.553Z"
   },
   {
    "duration": 3217,
    "start_time": "2021-10-27T00:02:54.565Z"
   },
   {
    "duration": 22,
    "start_time": "2021-10-27T00:02:57.785Z"
   },
   {
    "duration": 17,
    "start_time": "2021-10-27T00:02:57.810Z"
   },
   {
    "duration": 24,
    "start_time": "2021-10-27T00:02:57.829Z"
   },
   {
    "duration": 44,
    "start_time": "2021-10-27T00:02:57.856Z"
   },
   {
    "duration": 9,
    "start_time": "2021-10-27T00:02:57.903Z"
   },
   {
    "duration": 43,
    "start_time": "2021-10-27T00:02:57.914Z"
   },
   {
    "duration": 3,
    "start_time": "2021-10-27T00:02:57.959Z"
   },
   {
    "duration": 24,
    "start_time": "2021-10-27T00:02:57.964Z"
   },
   {
    "duration": 115931,
    "start_time": "2021-10-27T00:02:57.991Z"
   },
   {
    "duration": 15,
    "start_time": "2021-10-27T00:04:53.925Z"
   },
   {
    "duration": 22,
    "start_time": "2021-10-27T00:04:53.942Z"
   },
   {
    "duration": 12,
    "start_time": "2021-10-27T00:04:53.967Z"
   },
   {
    "duration": 18,
    "start_time": "2021-10-27T00:04:53.982Z"
   },
   {
    "duration": 74394,
    "start_time": "2021-10-27T00:04:54.003Z"
   },
   {
    "duration": 6,
    "start_time": "2021-10-27T00:06:58.863Z"
   },
   {
    "duration": 645,
    "start_time": "2021-10-27T00:06:58.872Z"
   },
   {
    "duration": 8,
    "start_time": "2021-10-27T00:06:59.520Z"
   },
   {
    "duration": 27,
    "start_time": "2021-10-27T00:06:59.530Z"
   },
   {
    "duration": 1082,
    "start_time": "2021-10-27T00:06:59.560Z"
   },
   {
    "duration": 974,
    "start_time": "2021-10-27T00:07:00.645Z"
   },
   {
    "duration": 233,
    "start_time": "2021-10-27T00:07:01.622Z"
   },
   {
    "duration": 1047,
    "start_time": "2021-10-27T00:07:01.860Z"
   },
   {
    "duration": 2203,
    "start_time": "2021-10-27T00:07:02.911Z"
   },
   {
    "duration": 19,
    "start_time": "2021-10-27T00:07:05.116Z"
   },
   {
    "duration": 142,
    "start_time": "2021-10-27T00:07:05.137Z"
   },
   {
    "duration": 998,
    "start_time": "2021-10-27T00:07:05.282Z"
   },
   {
    "duration": 23,
    "start_time": "2021-10-27T00:07:06.283Z"
   },
   {
    "duration": 9,
    "start_time": "2021-10-27T00:07:06.309Z"
   },
   {
    "duration": 15,
    "start_time": "2021-10-27T00:07:06.320Z"
   },
   {
    "duration": 29,
    "start_time": "2021-10-27T00:07:06.338Z"
   },
   {
    "duration": 39,
    "start_time": "2021-10-27T00:07:06.400Z"
   },
   {
    "duration": 34,
    "start_time": "2021-10-27T00:07:06.442Z"
   },
   {
    "duration": 45,
    "start_time": "2021-10-27T00:07:06.478Z"
   },
   {
    "duration": 10,
    "start_time": "2021-10-27T00:07:06.526Z"
   },
   {
    "duration": 13,
    "start_time": "2021-10-27T00:07:06.538Z"
   },
   {
    "duration": 1028,
    "start_time": "2021-10-27T00:07:06.554Z"
   },
   {
    "duration": 27,
    "start_time": "2021-10-27T00:07:07.588Z"
   },
   {
    "duration": 58,
    "start_time": "2021-10-27T00:07:07.619Z"
   },
   {
    "duration": 58,
    "start_time": "2021-10-27T00:07:07.679Z"
   },
   {
    "duration": 22,
    "start_time": "2021-10-27T00:07:07.740Z"
   },
   {
    "duration": 87,
    "start_time": "2021-10-27T00:07:07.764Z"
   },
   {
    "duration": 13,
    "start_time": "2021-10-27T00:07:07.854Z"
   },
   {
    "duration": 57,
    "start_time": "2021-10-27T00:07:07.870Z"
   },
   {
    "duration": 34,
    "start_time": "2021-10-27T00:07:07.930Z"
   },
   {
    "duration": 43,
    "start_time": "2021-10-27T00:07:07.967Z"
   },
   {
    "duration": 21,
    "start_time": "2021-10-27T00:07:08.013Z"
   },
   {
    "duration": 70,
    "start_time": "2021-10-27T00:07:08.037Z"
   },
   {
    "duration": 22,
    "start_time": "2021-10-27T00:07:08.110Z"
   },
   {
    "duration": 15,
    "start_time": "2021-10-27T00:07:08.134Z"
   },
   {
    "duration": 15,
    "start_time": "2021-10-27T00:07:08.151Z"
   },
   {
    "duration": 13,
    "start_time": "2021-10-27T00:07:08.201Z"
   },
   {
    "duration": 34,
    "start_time": "2021-10-27T00:07:08.217Z"
   },
   {
    "duration": 95,
    "start_time": "2021-10-27T00:07:08.254Z"
   },
   {
    "duration": 10,
    "start_time": "2021-10-27T00:07:08.351Z"
   },
   {
    "duration": 10,
    "start_time": "2021-10-27T00:07:08.364Z"
   },
   {
    "duration": 2589,
    "start_time": "2021-10-27T00:07:08.376Z"
   },
   {
    "duration": 10,
    "start_time": "2021-10-27T00:07:10.968Z"
   },
   {
    "duration": 13,
    "start_time": "2021-10-27T00:07:11.000Z"
   },
   {
    "duration": 10,
    "start_time": "2021-10-27T00:07:11.015Z"
   },
   {
    "duration": 20,
    "start_time": "2021-10-27T00:07:11.028Z"
   },
   {
    "duration": 9,
    "start_time": "2021-10-27T00:07:11.050Z"
   },
   {
    "duration": 55,
    "start_time": "2021-10-27T00:07:11.061Z"
   },
   {
    "duration": 3,
    "start_time": "2021-10-27T00:07:11.118Z"
   },
   {
    "duration": 7,
    "start_time": "2021-10-27T00:07:11.123Z"
   },
   {
    "duration": 105186,
    "start_time": "2021-10-27T00:07:11.132Z"
   },
   {
    "duration": 5,
    "start_time": "2021-10-27T00:08:56.320Z"
   },
   {
    "duration": 19,
    "start_time": "2021-10-27T00:08:56.327Z"
   },
   {
    "duration": 74717,
    "start_time": "2021-10-27T00:08:56.348Z"
   },
   {
    "duration": 6,
    "start_time": "2021-10-27T00:11:04.942Z"
   },
   {
    "duration": 22,
    "start_time": "2021-10-27T00:13:25.636Z"
   },
   {
    "duration": 4,
    "start_time": "2021-10-27T00:14:56.101Z"
   },
   {
    "duration": 4,
    "start_time": "2021-10-27T00:16:06.584Z"
   },
   {
    "duration": 329414,
    "start_time": "2021-10-27T00:18:55.303Z"
   },
   {
    "duration": 6,
    "start_time": "2021-10-27T00:24:54.152Z"
   },
   {
    "duration": 6,
    "start_time": "2021-10-27T00:25:22.526Z"
   },
   {
    "duration": 4,
    "start_time": "2021-10-27T00:25:39.407Z"
   },
   {
    "duration": 411881,
    "start_time": "2021-10-27T00:25:40.526Z"
   },
   {
    "duration": 6,
    "start_time": "2021-10-27T00:32:51.014Z"
   },
   {
    "duration": 5,
    "start_time": "2021-10-27T00:33:56.191Z"
   },
   {
    "duration": 2246,
    "start_time": "2021-10-27T09:35:07.064Z"
   },
   {
    "duration": 488,
    "start_time": "2021-10-27T09:35:09.312Z"
   },
   {
    "duration": 6,
    "start_time": "2021-10-27T09:35:09.802Z"
   },
   {
    "duration": 37,
    "start_time": "2021-10-27T09:35:09.809Z"
   },
   {
    "duration": 638,
    "start_time": "2021-10-27T09:35:09.848Z"
   },
   {
    "duration": 657,
    "start_time": "2021-10-27T09:35:10.489Z"
   },
   {
    "duration": 57,
    "start_time": "2021-10-27T09:35:11.149Z"
   },
   {
    "duration": 824,
    "start_time": "2021-10-27T09:35:11.208Z"
   },
   {
    "duration": 1734,
    "start_time": "2021-10-27T09:35:12.035Z"
   },
   {
    "duration": 11,
    "start_time": "2021-10-27T09:35:13.771Z"
   },
   {
    "duration": 90,
    "start_time": "2021-10-27T09:35:13.784Z"
   },
   {
    "duration": 699,
    "start_time": "2021-10-27T09:35:13.875Z"
   },
   {
    "duration": 8,
    "start_time": "2021-10-27T09:35:14.575Z"
   },
   {
    "duration": 29,
    "start_time": "2021-10-27T09:35:14.585Z"
   },
   {
    "duration": 23,
    "start_time": "2021-10-27T09:35:14.616Z"
   },
   {
    "duration": 38,
    "start_time": "2021-10-27T09:35:14.641Z"
   },
   {
    "duration": 27,
    "start_time": "2021-10-27T09:35:14.681Z"
   },
   {
    "duration": 23,
    "start_time": "2021-10-27T09:35:14.710Z"
   },
   {
    "duration": 32,
    "start_time": "2021-10-27T09:35:14.735Z"
   },
   {
    "duration": 17,
    "start_time": "2021-10-27T09:35:14.769Z"
   },
   {
    "duration": 24,
    "start_time": "2021-10-27T09:35:14.788Z"
   },
   {
    "duration": 630,
    "start_time": "2021-10-27T09:35:14.814Z"
   },
   {
    "duration": 15,
    "start_time": "2021-10-27T09:35:15.449Z"
   },
   {
    "duration": 62,
    "start_time": "2021-10-27T09:35:15.466Z"
   },
   {
    "duration": 84,
    "start_time": "2021-10-27T09:35:15.542Z"
   },
   {
    "duration": 27,
    "start_time": "2021-10-27T09:35:15.628Z"
   },
   {
    "duration": 104,
    "start_time": "2021-10-27T09:35:15.658Z"
   },
   {
    "duration": 12,
    "start_time": "2021-10-27T09:35:15.765Z"
   },
   {
    "duration": 68,
    "start_time": "2021-10-27T09:35:15.779Z"
   },
   {
    "duration": 73,
    "start_time": "2021-10-27T09:35:15.850Z"
   },
   {
    "duration": 25,
    "start_time": "2021-10-27T09:35:15.928Z"
   },
   {
    "duration": 17,
    "start_time": "2021-10-27T09:35:15.957Z"
   },
   {
    "duration": 36,
    "start_time": "2021-10-27T09:35:15.975Z"
   },
   {
    "duration": 14,
    "start_time": "2021-10-27T09:35:16.013Z"
   },
   {
    "duration": 28,
    "start_time": "2021-10-27T09:35:16.028Z"
   },
   {
    "duration": 27,
    "start_time": "2021-10-27T09:35:16.059Z"
   },
   {
    "duration": 20,
    "start_time": "2021-10-27T09:35:16.088Z"
   },
   {
    "duration": 22,
    "start_time": "2021-10-27T09:35:16.110Z"
   },
   {
    "duration": 55,
    "start_time": "2021-10-27T09:35:16.134Z"
   },
   {
    "duration": 6,
    "start_time": "2021-10-27T09:35:16.191Z"
   },
   {
    "duration": 17,
    "start_time": "2021-10-27T09:35:16.199Z"
   },
   {
    "duration": 1703,
    "start_time": "2021-10-27T09:35:16.217Z"
   },
   {
    "duration": 7,
    "start_time": "2021-10-27T09:35:17.922Z"
   },
   {
    "duration": 11,
    "start_time": "2021-10-27T09:35:17.945Z"
   },
   {
    "duration": 11,
    "start_time": "2021-10-27T09:35:17.958Z"
   },
   {
    "duration": 16,
    "start_time": "2021-10-27T09:35:17.971Z"
   },
   {
    "duration": 5,
    "start_time": "2021-10-27T09:35:17.989Z"
   },
   {
    "duration": 19,
    "start_time": "2021-10-27T09:35:17.996Z"
   },
   {
    "duration": 2,
    "start_time": "2021-10-27T09:35:18.017Z"
   },
   {
    "duration": 4,
    "start_time": "2021-10-27T09:35:18.045Z"
   },
   {
    "duration": 79766,
    "start_time": "2021-10-27T09:35:18.052Z"
   },
   {
    "duration": 4,
    "start_time": "2021-10-27T09:36:37.820Z"
   },
   {
    "duration": 20,
    "start_time": "2021-10-27T09:36:37.825Z"
   },
   {
    "duration": 59300,
    "start_time": "2021-10-27T09:36:37.847Z"
   },
   {
    "duration": 3,
    "start_time": "2021-10-27T09:37:37.149Z"
   },
   {
    "duration": 319407,
    "start_time": "2021-10-27T09:37:37.154Z"
   },
   {
    "duration": 4,
    "start_time": "2021-10-27T09:42:56.563Z"
   },
   {
    "duration": 3,
    "start_time": "2021-10-27T09:43:06.926Z"
   },
   {
    "duration": 320845,
    "start_time": "2021-10-27T09:43:07.324Z"
   },
   {
    "duration": 539,
    "start_time": "2021-10-27T09:58:10.766Z"
   },
   {
    "duration": 25,
    "start_time": "2021-10-27T09:58:24.039Z"
   },
   {
    "duration": 1934,
    "start_time": "2021-10-27T09:58:27.894Z"
   },
   {
    "duration": 3,
    "start_time": "2021-10-27T09:59:28.103Z"
   },
   {
    "duration": 23,
    "start_time": "2021-10-27T10:20:08.324Z"
   },
   {
    "duration": 102,
    "start_time": "2021-10-27T10:20:41.315Z"
   },
   {
    "duration": 3,
    "start_time": "2021-10-27T10:20:46.819Z"
   },
   {
    "duration": 676145,
    "start_time": "2021-10-27T10:20:47.289Z"
   },
   {
    "duration": 4,
    "start_time": "2021-10-27T10:32:29.654Z"
   },
   {
    "duration": 4,
    "start_time": "2021-10-27T10:32:35.587Z"
   },
   {
    "duration": 4,
    "start_time": "2021-10-27T10:32:59.483Z"
   },
   {
    "duration": 469,
    "start_time": "2021-10-27T10:32:59.493Z"
   },
   {
    "duration": 6,
    "start_time": "2021-10-27T10:32:59.964Z"
   },
   {
    "duration": 18,
    "start_time": "2021-10-27T10:32:59.972Z"
   },
   {
    "duration": 671,
    "start_time": "2021-10-27T10:32:59.992Z"
   },
   {
    "duration": 672,
    "start_time": "2021-10-27T10:33:00.665Z"
   },
   {
    "duration": 71,
    "start_time": "2021-10-27T10:33:01.338Z"
   },
   {
    "duration": 649,
    "start_time": "2021-10-27T10:33:01.411Z"
   },
   {
    "duration": 1587,
    "start_time": "2021-10-27T10:33:02.064Z"
   },
   {
    "duration": 16,
    "start_time": "2021-10-27T10:33:03.655Z"
   },
   {
    "duration": 92,
    "start_time": "2021-10-27T10:33:03.673Z"
   },
   {
    "duration": 593,
    "start_time": "2021-10-27T10:33:03.767Z"
   },
   {
    "duration": 11,
    "start_time": "2021-10-27T10:33:04.362Z"
   },
   {
    "duration": 12,
    "start_time": "2021-10-27T10:33:04.375Z"
   },
   {
    "duration": 8,
    "start_time": "2021-10-27T10:33:04.388Z"
   },
   {
    "duration": 17,
    "start_time": "2021-10-27T10:33:04.397Z"
   },
   {
    "duration": 52,
    "start_time": "2021-10-27T10:33:04.416Z"
   },
   {
    "duration": 21,
    "start_time": "2021-10-27T10:33:04.470Z"
   },
   {
    "duration": 23,
    "start_time": "2021-10-27T10:33:04.493Z"
   },
   {
    "duration": 30,
    "start_time": "2021-10-27T10:33:04.518Z"
   },
   {
    "duration": 29,
    "start_time": "2021-10-27T10:33:04.550Z"
   },
   {
    "duration": 720,
    "start_time": "2021-10-27T10:33:04.580Z"
   },
   {
    "duration": 13,
    "start_time": "2021-10-27T10:33:05.301Z"
   },
   {
    "duration": 55,
    "start_time": "2021-10-27T10:33:05.317Z"
   },
   {
    "duration": 23,
    "start_time": "2021-10-27T10:33:05.375Z"
   },
   {
    "duration": 12,
    "start_time": "2021-10-27T10:33:05.400Z"
   },
   {
    "duration": 61,
    "start_time": "2021-10-27T10:33:05.414Z"
   },
   {
    "duration": 9,
    "start_time": "2021-10-27T10:33:05.476Z"
   },
   {
    "duration": 32,
    "start_time": "2021-10-27T10:33:05.486Z"
   },
   {
    "duration": 41,
    "start_time": "2021-10-27T10:33:05.520Z"
   },
   {
    "duration": 13,
    "start_time": "2021-10-27T10:33:05.563Z"
   },
   {
    "duration": 21,
    "start_time": "2021-10-27T10:33:05.579Z"
   },
   {
    "duration": 45,
    "start_time": "2021-10-27T10:33:05.602Z"
   },
   {
    "duration": 16,
    "start_time": "2021-10-27T10:33:05.649Z"
   },
   {
    "duration": 11,
    "start_time": "2021-10-27T10:33:05.667Z"
   },
   {
    "duration": 19,
    "start_time": "2021-10-27T10:33:05.679Z"
   },
   {
    "duration": 11,
    "start_time": "2021-10-27T10:33:05.700Z"
   },
   {
    "duration": 46,
    "start_time": "2021-10-27T10:33:05.713Z"
   },
   {
    "duration": 50,
    "start_time": "2021-10-27T10:33:05.761Z"
   },
   {
    "duration": 6,
    "start_time": "2021-10-27T10:33:05.813Z"
   },
   {
    "duration": 31,
    "start_time": "2021-10-27T10:33:05.821Z"
   },
   {
    "duration": 1631,
    "start_time": "2021-10-27T10:33:05.854Z"
   },
   {
    "duration": 7,
    "start_time": "2021-10-27T10:33:07.487Z"
   },
   {
    "duration": 8,
    "start_time": "2021-10-27T10:33:07.496Z"
   },
   {
    "duration": 7,
    "start_time": "2021-10-27T10:33:07.506Z"
   },
   {
    "duration": 49,
    "start_time": "2021-10-27T10:33:07.514Z"
   },
   {
    "duration": 7,
    "start_time": "2021-10-27T10:33:07.565Z"
   },
   {
    "duration": 17,
    "start_time": "2021-10-27T10:33:07.574Z"
   },
   {
    "duration": 3,
    "start_time": "2021-10-27T10:33:07.593Z"
   },
   {
    "duration": 5,
    "start_time": "2021-10-27T10:33:07.598Z"
   },
   {
    "duration": 79390,
    "start_time": "2021-10-27T10:33:07.604Z"
   },
   {
    "duration": 3,
    "start_time": "2021-10-27T10:34:26.996Z"
   },
   {
    "duration": 34,
    "start_time": "2021-10-27T10:34:27.001Z"
   },
   {
    "duration": 54597,
    "start_time": "2021-10-27T10:34:27.037Z"
   },
   {
    "duration": 12,
    "start_time": "2021-10-27T10:35:21.636Z"
   },
   {
    "duration": 1138269,
    "start_time": "2021-10-27T10:35:21.650Z"
   },
   {
    "duration": -97,
    "start_time": "2021-10-27T10:54:20.018Z"
   },
   {
    "duration": -105,
    "start_time": "2021-10-27T10:54:20.027Z"
   },
   {
    "duration": 3,
    "start_time": "2021-10-27T10:54:26.219Z"
   },
   {
    "duration": 267140,
    "start_time": "2021-10-27T10:54:26.623Z"
   },
   {
    "duration": 3,
    "start_time": "2021-10-27T10:59:03.382Z"
   },
   {
    "duration": 4,
    "start_time": "2021-10-27T10:59:32.567Z"
   },
   {
    "duration": 1036627,
    "start_time": "2021-10-27T10:59:33.435Z"
   },
   {
    "duration": 4,
    "start_time": "2021-10-27T11:17:28.011Z"
   },
   {
    "duration": 3,
    "start_time": "2021-10-27T11:18:12.181Z"
   },
   {
    "duration": 3,
    "start_time": "2021-10-27T11:18:21.050Z"
   },
   {
    "duration": 255299,
    "start_time": "2021-10-27T11:18:24.126Z"
   },
   {
    "duration": 4,
    "start_time": "2021-10-27T11:23:39.938Z"
   },
   {
    "duration": 3,
    "start_time": "2021-10-27T11:24:18.406Z"
   },
   {
    "duration": 4,
    "start_time": "2021-10-27T11:24:30.312Z"
   },
   {
    "duration": 4,
    "start_time": "2021-10-27T11:25:14.300Z"
   },
   {
    "duration": 4,
    "start_time": "2021-10-27T11:25:23.788Z"
   },
   {
    "duration": 3,
    "start_time": "2021-10-27T11:25:37.724Z"
   },
   {
    "duration": 712864,
    "start_time": "2021-10-27T11:25:42.893Z"
   },
   {
    "duration": 4,
    "start_time": "2021-10-27T11:41:15.685Z"
   },
   {
    "duration": 3,
    "start_time": "2021-10-27T11:42:17.705Z"
   },
   {
    "duration": 5,
    "start_time": "2021-10-27T11:42:24.091Z"
   },
   {
    "duration": 4,
    "start_time": "2021-10-27T11:43:18.335Z"
   },
   {
    "duration": 4,
    "start_time": "2021-10-27T11:43:28.533Z"
   },
   {
    "duration": 4,
    "start_time": "2021-10-27T11:43:31.403Z"
   },
   {
    "duration": 4,
    "start_time": "2021-10-27T11:43:44.552Z"
   },
   {
    "duration": 3,
    "start_time": "2021-10-27T11:43:47.579Z"
   },
   {
    "duration": 1384159,
    "start_time": "2021-10-27T11:43:52.883Z"
   },
   {
    "duration": 3,
    "start_time": "2021-10-27T12:08:33.440Z"
   },
   {
    "duration": 1302,
    "start_time": "2021-10-27T19:41:24.128Z"
   },
   {
    "duration": 590,
    "start_time": "2021-10-27T19:41:25.433Z"
   },
   {
    "duration": 6,
    "start_time": "2021-10-27T19:41:26.025Z"
   },
   {
    "duration": 43,
    "start_time": "2021-10-27T19:41:26.032Z"
   },
   {
    "duration": 646,
    "start_time": "2021-10-27T19:41:26.077Z"
   },
   {
    "duration": 633,
    "start_time": "2021-10-27T19:41:26.724Z"
   },
   {
    "duration": 150,
    "start_time": "2021-10-27T19:41:27.359Z"
   },
   {
    "duration": 695,
    "start_time": "2021-10-27T19:41:27.511Z"
   },
   {
    "duration": 1666,
    "start_time": "2021-10-27T19:41:28.209Z"
   },
   {
    "duration": 11,
    "start_time": "2021-10-27T19:41:29.877Z"
   },
   {
    "duration": 86,
    "start_time": "2021-10-27T19:41:29.890Z"
   },
   {
    "duration": 638,
    "start_time": "2021-10-27T19:41:29.978Z"
   },
   {
    "duration": 9,
    "start_time": "2021-10-27T19:41:30.618Z"
   },
   {
    "duration": 34,
    "start_time": "2021-10-27T19:41:30.630Z"
   },
   {
    "duration": 18,
    "start_time": "2021-10-27T19:41:30.667Z"
   },
   {
    "duration": 40,
    "start_time": "2021-10-27T19:41:30.687Z"
   },
   {
    "duration": 27,
    "start_time": "2021-10-27T19:41:30.728Z"
   },
   {
    "duration": 24,
    "start_time": "2021-10-27T19:41:30.757Z"
   },
   {
    "duration": 17,
    "start_time": "2021-10-27T19:41:30.783Z"
   },
   {
    "duration": 23,
    "start_time": "2021-10-27T19:41:30.802Z"
   },
   {
    "duration": 13,
    "start_time": "2021-10-27T19:41:30.827Z"
   },
   {
    "duration": 610,
    "start_time": "2021-10-27T19:41:30.842Z"
   },
   {
    "duration": 20,
    "start_time": "2021-10-27T19:41:31.456Z"
   },
   {
    "duration": 55,
    "start_time": "2021-10-27T19:41:31.478Z"
   },
   {
    "duration": 34,
    "start_time": "2021-10-27T19:41:31.535Z"
   },
   {
    "duration": 13,
    "start_time": "2021-10-27T19:41:31.571Z"
   },
   {
    "duration": 40,
    "start_time": "2021-10-27T19:41:31.586Z"
   },
   {
    "duration": 8,
    "start_time": "2021-10-27T19:41:31.629Z"
   },
   {
    "duration": 21,
    "start_time": "2021-10-27T19:41:31.664Z"
   },
   {
    "duration": 22,
    "start_time": "2021-10-27T19:41:31.687Z"
   },
   {
    "duration": 14,
    "start_time": "2021-10-27T19:41:31.711Z"
   },
   {
    "duration": 39,
    "start_time": "2021-10-27T19:41:31.727Z"
   },
   {
    "duration": 28,
    "start_time": "2021-10-27T19:41:31.768Z"
   },
   {
    "duration": 16,
    "start_time": "2021-10-27T19:41:31.798Z"
   },
   {
    "duration": 12,
    "start_time": "2021-10-27T19:41:31.815Z"
   },
   {
    "duration": 40,
    "start_time": "2021-10-27T19:41:31.828Z"
   },
   {
    "duration": 9,
    "start_time": "2021-10-27T19:41:31.869Z"
   },
   {
    "duration": 23,
    "start_time": "2021-10-27T19:41:31.880Z"
   },
   {
    "duration": 64,
    "start_time": "2021-10-27T19:41:31.904Z"
   },
   {
    "duration": 7,
    "start_time": "2021-10-27T19:41:31.970Z"
   },
   {
    "duration": 10,
    "start_time": "2021-10-27T19:41:31.978Z"
   },
   {
    "duration": 1617,
    "start_time": "2021-10-27T19:41:31.990Z"
   },
   {
    "duration": 11,
    "start_time": "2021-10-27T19:41:33.609Z"
   },
   {
    "duration": 15,
    "start_time": "2021-10-27T19:41:33.623Z"
   },
   {
    "duration": 29,
    "start_time": "2021-10-27T19:41:33.640Z"
   },
   {
    "duration": 18,
    "start_time": "2021-10-27T19:41:33.671Z"
   },
   {
    "duration": 11,
    "start_time": "2021-10-27T19:41:33.691Z"
   },
   {
    "duration": 19,
    "start_time": "2021-10-27T19:41:33.703Z"
   },
   {
    "duration": 3,
    "start_time": "2021-10-27T19:41:33.724Z"
   },
   {
    "duration": 6,
    "start_time": "2021-10-27T19:41:33.729Z"
   },
   {
    "duration": 76579,
    "start_time": "2021-10-27T19:41:33.737Z"
   },
   {
    "duration": 4,
    "start_time": "2021-10-27T19:42:50.318Z"
   },
   {
    "duration": 8,
    "start_time": "2021-10-27T19:42:50.324Z"
   },
   {
    "duration": 52902,
    "start_time": "2021-10-27T19:42:50.334Z"
   },
   {
    "duration": 3,
    "start_time": "2021-10-27T19:43:43.238Z"
   },
   {
    "duration": 373623,
    "start_time": "2021-10-27T19:43:43.242Z"
   },
   {
    "duration": 4,
    "start_time": "2021-10-27T19:49:56.867Z"
   },
   {
    "duration": 13,
    "start_time": "2021-10-27T19:49:56.873Z"
   },
   {
    "duration": 9,
    "start_time": "2021-10-27T19:49:56.888Z"
   },
   {
    "duration": 1176594,
    "start_time": "2021-10-27T19:49:56.899Z"
   },
   {
    "duration": 11,
    "start_time": "2021-10-27T20:09:33.494Z"
   },
   {
    "duration": 6,
    "start_time": "2021-10-27T20:09:33.507Z"
   },
   {
    "duration": 4,
    "start_time": "2021-10-27T20:11:19.535Z"
   },
   {
    "duration": 3,
    "start_time": "2021-10-27T20:14:52.174Z"
   },
   {
    "duration": 309172,
    "start_time": "2021-10-27T20:16:12.787Z"
   },
   {
    "duration": 3,
    "start_time": "2021-10-27T20:21:25.363Z"
   },
   {
    "duration": 51612,
    "start_time": "2021-10-27T20:21:37.974Z"
   },
   {
    "duration": 5,
    "start_time": "2021-10-27T20:22:45.044Z"
   },
   {
    "duration": 4,
    "start_time": "2021-10-27T20:23:13.295Z"
   },
   {
    "duration": 20,
    "start_time": "2021-10-27T20:29:45.053Z"
   },
   {
    "duration": 17,
    "start_time": "2021-10-27T20:30:47.421Z"
   },
   {
    "duration": 4,
    "start_time": "2021-10-27T20:32:25.558Z"
   },
   {
    "duration": 4,
    "start_time": "2021-10-27T20:32:50.605Z"
   },
   {
    "duration": 4,
    "start_time": "2021-10-27T20:32:56.350Z"
   },
   {
    "duration": 3,
    "start_time": "2021-10-27T20:33:03.867Z"
   },
   {
    "duration": 3,
    "start_time": "2021-10-27T20:33:08.175Z"
   },
   {
    "duration": 3,
    "start_time": "2021-10-27T20:33:11.205Z"
   },
   {
    "duration": 790750,
    "start_time": "2021-10-27T20:33:24.193Z"
   },
   {
    "duration": 4,
    "start_time": "2021-10-27T21:07:57.349Z"
   },
   {
    "duration": 7,
    "start_time": "2021-10-27T21:08:23.500Z"
   },
   {
    "duration": 3,
    "start_time": "2021-10-27T21:09:22.608Z"
   },
   {
    "duration": 50041,
    "start_time": "2021-10-27T21:09:25.668Z"
   },
   {
    "duration": 4,
    "start_time": "2021-10-27T21:10:18.609Z"
   },
   {
    "duration": 17,
    "start_time": "2021-10-27T21:10:28.443Z"
   },
   {
    "duration": 11,
    "start_time": "2021-10-27T21:10:43.420Z"
   },
   {
    "duration": 4,
    "start_time": "2021-10-27T21:11:06.718Z"
   },
   {
    "duration": 6,
    "start_time": "2021-10-27T21:11:08.203Z"
   },
   {
    "duration": 3,
    "start_time": "2021-10-27T21:11:24.281Z"
   },
   {
    "duration": 20855,
    "start_time": "2021-10-27T21:11:28.825Z"
   },
   {
    "duration": 9,
    "start_time": "2021-10-27T21:11:56.262Z"
   },
   {
    "duration": 6,
    "start_time": "2021-10-27T21:11:57.854Z"
   },
   {
    "duration": 2,
    "start_time": "2021-10-27T21:12:37.775Z"
   },
   {
    "duration": 215739,
    "start_time": "2021-10-27T21:12:41.838Z"
   },
   {
    "duration": 4,
    "start_time": "2021-10-27T21:16:25.585Z"
   },
   {
    "duration": 6,
    "start_time": "2021-10-27T21:16:27.199Z"
   },
   {
    "duration": 4,
    "start_time": "2021-10-27T21:16:52.212Z"
   },
   {
    "duration": 4,
    "start_time": "2021-10-27T21:18:20.243Z"
   },
   {
    "duration": 4,
    "start_time": "2021-10-27T21:18:33.103Z"
   },
   {
    "duration": 3,
    "start_time": "2021-10-27T21:18:38.952Z"
   },
   {
    "duration": 817703,
    "start_time": "2021-10-27T21:19:05.265Z"
   },
   {
    "duration": 4,
    "start_time": "2021-10-27T21:32:50.763Z"
   },
   {
    "duration": 7,
    "start_time": "2021-10-27T21:32:54.043Z"
   },
   {
    "duration": 4,
    "start_time": "2021-10-27T21:33:07.727Z"
   },
   {
    "duration": 3,
    "start_time": "2021-10-27T21:33:36.694Z"
   },
   {
    "duration": 279477,
    "start_time": "2021-10-27T21:33:44.184Z"
   },
   {
    "duration": 4,
    "start_time": "2021-10-27T21:39:09.423Z"
   },
   {
    "duration": 7,
    "start_time": "2021-10-27T21:39:11.544Z"
   },
   {
    "duration": 3,
    "start_time": "2021-10-27T21:39:18.477Z"
   },
   {
    "duration": 4,
    "start_time": "2021-10-27T21:40:57.998Z"
   },
   {
    "duration": 473,
    "start_time": "2021-10-27T21:40:58.007Z"
   },
   {
    "duration": 5,
    "start_time": "2021-10-27T21:40:58.481Z"
   },
   {
    "duration": 25,
    "start_time": "2021-10-27T21:40:58.488Z"
   },
   {
    "duration": 633,
    "start_time": "2021-10-27T21:40:58.515Z"
   },
   {
    "duration": 615,
    "start_time": "2021-10-27T21:40:59.151Z"
   },
   {
    "duration": 61,
    "start_time": "2021-10-27T21:40:59.768Z"
   },
   {
    "duration": 684,
    "start_time": "2021-10-27T21:40:59.831Z"
   },
   {
    "duration": 1645,
    "start_time": "2021-10-27T21:41:00.518Z"
   },
   {
    "duration": 12,
    "start_time": "2021-10-27T21:41:02.166Z"
   },
   {
    "duration": 89,
    "start_time": "2021-10-27T21:41:02.179Z"
   },
   {
    "duration": 594,
    "start_time": "2021-10-27T21:41:02.269Z"
   },
   {
    "duration": 7,
    "start_time": "2021-10-27T21:41:02.865Z"
   },
   {
    "duration": 11,
    "start_time": "2021-10-27T21:41:02.874Z"
   },
   {
    "duration": 6,
    "start_time": "2021-10-27T21:41:02.887Z"
   },
   {
    "duration": 18,
    "start_time": "2021-10-27T21:41:02.895Z"
   },
   {
    "duration": 165,
    "start_time": "2021-10-27T21:41:02.915Z"
   },
   {
    "duration": 22,
    "start_time": "2021-10-27T21:41:03.081Z"
   },
   {
    "duration": 16,
    "start_time": "2021-10-27T21:41:03.104Z"
   },
   {
    "duration": 3,
    "start_time": "2021-10-27T21:41:03.122Z"
   },
   {
    "duration": 10,
    "start_time": "2021-10-27T21:41:03.127Z"
   },
   {
    "duration": 575,
    "start_time": "2021-10-27T21:41:03.164Z"
   },
   {
    "duration": 14,
    "start_time": "2021-10-27T21:41:03.741Z"
   },
   {
    "duration": 38,
    "start_time": "2021-10-27T21:41:03.766Z"
   },
   {
    "duration": 25,
    "start_time": "2021-10-27T21:41:03.806Z"
   },
   {
    "duration": 37,
    "start_time": "2021-10-27T21:41:03.833Z"
   },
   {
    "duration": 36,
    "start_time": "2021-10-27T21:41:03.872Z"
   },
   {
    "duration": 9,
    "start_time": "2021-10-27T21:41:03.910Z"
   },
   {
    "duration": 44,
    "start_time": "2021-10-27T21:41:03.921Z"
   },
   {
    "duration": 22,
    "start_time": "2021-10-27T21:41:03.966Z"
   },
   {
    "duration": 10,
    "start_time": "2021-10-27T21:41:03.990Z"
   },
   {
    "duration": 15,
    "start_time": "2021-10-27T21:41:04.002Z"
   },
   {
    "duration": 56,
    "start_time": "2021-10-27T21:41:04.018Z"
   },
   {
    "duration": 14,
    "start_time": "2021-10-27T21:41:04.076Z"
   },
   {
    "duration": 10,
    "start_time": "2021-10-27T21:41:04.092Z"
   },
   {
    "duration": 10,
    "start_time": "2021-10-27T21:41:04.104Z"
   },
   {
    "duration": 8,
    "start_time": "2021-10-27T21:41:04.116Z"
   },
   {
    "duration": 53,
    "start_time": "2021-10-27T21:41:04.125Z"
   },
   {
    "duration": 38,
    "start_time": "2021-10-27T21:41:04.179Z"
   },
   {
    "duration": 7,
    "start_time": "2021-10-27T21:41:04.219Z"
   },
   {
    "duration": 8,
    "start_time": "2021-10-27T21:41:04.227Z"
   },
   {
    "duration": 1668,
    "start_time": "2021-10-27T21:41:04.263Z"
   },
   {
    "duration": 7,
    "start_time": "2021-10-27T21:41:05.933Z"
   },
   {
    "duration": 27,
    "start_time": "2021-10-27T21:41:05.942Z"
   },
   {
    "duration": 7,
    "start_time": "2021-10-27T21:41:05.971Z"
   },
   {
    "duration": 17,
    "start_time": "2021-10-27T21:41:05.979Z"
   },
   {
    "duration": 6,
    "start_time": "2021-10-27T21:41:05.998Z"
   },
   {
    "duration": 21,
    "start_time": "2021-10-27T21:41:06.005Z"
   },
   {
    "duration": 2,
    "start_time": "2021-10-27T21:41:06.028Z"
   },
   {
    "duration": 7,
    "start_time": "2021-10-27T21:41:06.032Z"
   },
   {
    "duration": 76632,
    "start_time": "2021-10-27T21:41:06.041Z"
   },
   {
    "duration": 4,
    "start_time": "2021-10-27T21:42:22.676Z"
   },
   {
    "duration": 10,
    "start_time": "2021-10-27T21:42:22.682Z"
   },
   {
    "duration": 51121,
    "start_time": "2021-10-27T21:42:22.693Z"
   },
   {
    "duration": 3,
    "start_time": "2021-10-27T21:43:13.816Z"
   },
   {
    "duration": 367658,
    "start_time": "2021-10-27T21:43:13.821Z"
   },
   {
    "duration": 3,
    "start_time": "2021-10-27T21:49:21.481Z"
   },
   {
    "duration": 79,
    "start_time": "2021-10-27T21:49:21.486Z"
   },
   {
    "duration": 277221,
    "start_time": "2021-10-27T21:49:21.567Z"
   },
   {
    "duration": 11,
    "start_time": "2021-10-27T21:53:58.790Z"
   },
   {
    "duration": 6,
    "start_time": "2021-10-27T21:53:58.802Z"
   },
   {
    "duration": 7,
    "start_time": "2021-10-27T21:53:58.810Z"
   },
   {
    "duration": 4,
    "start_time": "2021-10-27T22:08:31.984Z"
   },
   {
    "duration": 5,
    "start_time": "2021-10-27T22:10:28.871Z"
   },
   {
    "duration": 6,
    "start_time": "2021-10-27T22:11:11.006Z"
   },
   {
    "duration": 6,
    "start_time": "2021-10-27T22:11:25.654Z"
   },
   {
    "duration": 4,
    "start_time": "2021-10-27T22:15:55.406Z"
   },
   {
    "duration": 92,
    "start_time": "2021-10-27T22:17:04.271Z"
   },
   {
    "duration": 276,
    "start_time": "2021-10-27T22:17:28.451Z"
   },
   {
    "duration": 240,
    "start_time": "2021-10-27T22:17:46.246Z"
   },
   {
    "duration": 233,
    "start_time": "2021-10-27T22:17:49.366Z"
   },
   {
    "duration": 4,
    "start_time": "2021-10-27T22:18:32.633Z"
   },
   {
    "duration": 9,
    "start_time": "2021-10-27T22:18:40.527Z"
   },
   {
    "duration": 9,
    "start_time": "2021-10-27T22:19:02.561Z"
   },
   {
    "duration": 5,
    "start_time": "2021-10-27T22:23:11.332Z"
   },
   {
    "duration": 243,
    "start_time": "2021-10-27T22:23:27.542Z"
   },
   {
    "duration": 234,
    "start_time": "2021-10-27T22:24:04.185Z"
   },
   {
    "duration": 375,
    "start_time": "2021-10-27T22:24:22.521Z"
   },
   {
    "duration": 637,
    "start_time": "2021-10-27T22:25:19.011Z"
   },
   {
    "duration": 163,
    "start_time": "2021-10-27T22:25:45.209Z"
   },
   {
    "duration": 257,
    "start_time": "2021-10-27T22:30:03.720Z"
   },
   {
    "duration": 288,
    "start_time": "2021-10-27T22:30:13.030Z"
   },
   {
    "duration": 2333,
    "start_time": "2021-10-27T22:32:15.455Z"
   },
   {
    "duration": 1051,
    "start_time": "2021-10-27T22:32:32.943Z"
   },
   {
    "duration": 1041,
    "start_time": "2021-10-27T22:32:53.774Z"
   },
   {
    "duration": 1045,
    "start_time": "2021-10-27T22:32:59.421Z"
   },
   {
    "duration": 1041,
    "start_time": "2021-10-27T22:33:17.443Z"
   },
   {
    "duration": 742,
    "start_time": "2021-10-27T22:33:25.125Z"
   },
   {
    "duration": 567,
    "start_time": "2021-10-27T22:33:31.401Z"
   },
   {
    "duration": 422,
    "start_time": "2021-10-27T22:33:38.626Z"
   },
   {
    "duration": 340,
    "start_time": "2021-10-27T22:33:42.347Z"
   },
   {
    "duration": 435,
    "start_time": "2021-10-27T22:33:45.194Z"
   },
   {
    "duration": 428,
    "start_time": "2021-10-27T22:33:54.104Z"
   },
   {
    "duration": 431,
    "start_time": "2021-10-27T22:34:00.998Z"
   },
   {
    "duration": 535,
    "start_time": "2021-10-27T22:34:57.223Z"
   },
   {
    "duration": 426,
    "start_time": "2021-10-27T22:35:03.312Z"
   },
   {
    "duration": 411,
    "start_time": "2021-10-27T22:35:17.822Z"
   },
   {
    "duration": 419,
    "start_time": "2021-10-27T22:35:21.932Z"
   },
   {
    "duration": 418,
    "start_time": "2021-10-27T22:37:15.484Z"
   },
   {
    "duration": 410,
    "start_time": "2021-10-27T22:37:27.668Z"
   },
   {
    "duration": 453,
    "start_time": "2021-10-27T22:37:34.456Z"
   },
   {
    "duration": 453,
    "start_time": "2021-10-27T22:37:38.661Z"
   },
   {
    "duration": 472,
    "start_time": "2021-10-27T22:37:42.764Z"
   },
   {
    "duration": 460,
    "start_time": "2021-10-27T22:37:46.177Z"
   },
   {
    "duration": 443,
    "start_time": "2021-10-27T22:37:49.788Z"
   },
   {
    "duration": 847,
    "start_time": "2021-10-27T22:38:00.138Z"
   },
   {
    "duration": 449,
    "start_time": "2021-10-27T22:39:17.222Z"
   },
   {
    "duration": 448,
    "start_time": "2021-10-27T22:39:24.780Z"
   },
   {
    "duration": 438,
    "start_time": "2021-10-27T22:39:28.632Z"
   },
   {
    "duration": 530,
    "start_time": "2021-10-27T22:39:48.941Z"
   },
   {
    "duration": 496,
    "start_time": "2021-10-27T22:40:57.989Z"
   },
   {
    "duration": 459,
    "start_time": "2021-10-27T22:41:07.171Z"
   },
   {
    "duration": 497,
    "start_time": "2021-10-27T22:41:25.974Z"
   },
   {
    "duration": 659,
    "start_time": "2021-10-27T22:41:31.709Z"
   },
   {
    "duration": 525,
    "start_time": "2021-10-27T22:41:36.423Z"
   },
   {
    "duration": 566,
    "start_time": "2021-10-27T22:41:41.062Z"
   },
   {
    "duration": 624,
    "start_time": "2021-10-27T22:41:46.330Z"
   },
   {
    "duration": 568,
    "start_time": "2021-10-27T22:42:05.976Z"
   },
   {
    "duration": 574,
    "start_time": "2021-10-27T22:42:18.734Z"
   },
   {
    "duration": 566,
    "start_time": "2021-10-27T22:42:26.743Z"
   },
   {
    "duration": 672,
    "start_time": "2021-10-27T22:43:00.846Z"
   },
   {
    "duration": 558,
    "start_time": "2021-10-27T22:43:27.200Z"
   },
   {
    "duration": 189,
    "start_time": "2021-10-27T22:43:31.941Z"
   },
   {
    "duration": 564,
    "start_time": "2021-10-27T22:43:38.701Z"
   },
   {
    "duration": 786,
    "start_time": "2021-10-27T22:44:22.725Z"
   },
   {
    "duration": 773,
    "start_time": "2021-10-27T22:44:32.796Z"
   },
   {
    "duration": 781,
    "start_time": "2021-10-27T22:45:19.695Z"
   },
   {
    "duration": 568,
    "start_time": "2021-10-27T22:45:40.350Z"
   },
   {
    "duration": 581,
    "start_time": "2021-10-27T22:46:10.466Z"
   },
   {
    "duration": 740,
    "start_time": "2021-10-27T22:46:24.453Z"
   },
   {
    "duration": 566,
    "start_time": "2021-10-27T22:46:37.781Z"
   },
   {
    "duration": 569,
    "start_time": "2021-10-27T22:46:46.587Z"
   },
   {
    "duration": 577,
    "start_time": "2021-10-27T22:46:58.451Z"
   },
   {
    "duration": 763,
    "start_time": "2021-10-27T22:47:27.188Z"
   },
   {
    "duration": 581,
    "start_time": "2021-10-27T22:47:32.565Z"
   },
   {
    "duration": 939,
    "start_time": "2021-10-27T22:47:48.389Z"
   },
   {
    "duration": 739,
    "start_time": "2021-10-27T22:47:58.199Z"
   },
   {
    "duration": 744,
    "start_time": "2021-10-27T22:48:10.432Z"
   },
   {
    "duration": 569,
    "start_time": "2021-10-27T22:48:17.402Z"
   },
   {
    "duration": 746,
    "start_time": "2021-10-27T22:48:35.648Z"
   },
   {
    "duration": 580,
    "start_time": "2021-10-27T22:48:57.498Z"
   },
   {
    "duration": 583,
    "start_time": "2021-10-27T22:49:40.799Z"
   },
   {
    "duration": 87,
    "start_time": "2021-10-27T22:50:14.548Z"
   },
   {
    "duration": 592,
    "start_time": "2021-10-27T22:50:19.260Z"
   },
   {
    "duration": 556,
    "start_time": "2021-10-27T22:50:26.872Z"
   },
   {
    "duration": 583,
    "start_time": "2021-10-27T22:50:44.205Z"
   },
   {
    "duration": 4,
    "start_time": "2021-10-27T23:01:05.808Z"
   },
   {
    "duration": 8,
    "start_time": "2021-10-27T23:02:19.161Z"
   },
   {
    "duration": 4,
    "start_time": "2021-10-27T23:05:38.565Z"
   },
   {
    "duration": 4,
    "start_time": "2021-10-27T23:05:56.897Z"
   },
   {
    "duration": 4,
    "start_time": "2021-10-27T23:06:11.895Z"
   },
   {
    "duration": 6,
    "start_time": "2021-10-27T23:06:20.667Z"
   },
   {
    "duration": 4,
    "start_time": "2021-10-27T23:06:58.301Z"
   },
   {
    "duration": 1544,
    "start_time": "2021-10-28T08:37:48.175Z"
   },
   {
    "duration": 686,
    "start_time": "2021-10-28T08:37:49.990Z"
   },
   {
    "duration": 11,
    "start_time": "2021-10-28T08:37:53.216Z"
   },
   {
    "duration": 21,
    "start_time": "2021-10-28T08:37:54.613Z"
   },
   {
    "duration": 971,
    "start_time": "2021-10-28T08:37:54.978Z"
   },
   {
    "duration": 968,
    "start_time": "2021-10-28T08:37:55.957Z"
   },
   {
    "duration": 168,
    "start_time": "2021-10-28T08:37:56.929Z"
   },
   {
    "duration": 1005,
    "start_time": "2021-10-28T08:37:57.099Z"
   },
   {
    "duration": 2201,
    "start_time": "2021-10-28T08:37:58.107Z"
   },
   {
    "duration": 17,
    "start_time": "2021-10-28T08:38:00.311Z"
   },
   {
    "duration": 112,
    "start_time": "2021-10-28T08:38:00.589Z"
   },
   {
    "duration": 905,
    "start_time": "2021-10-28T08:38:01.939Z"
   },
   {
    "duration": 11,
    "start_time": "2021-10-28T08:38:02.913Z"
   },
   {
    "duration": 9,
    "start_time": "2021-10-28T08:38:03.856Z"
   },
   {
    "duration": 10,
    "start_time": "2021-10-28T08:38:04.093Z"
   },
   {
    "duration": 27,
    "start_time": "2021-10-28T08:38:04.465Z"
   },
   {
    "duration": 37,
    "start_time": "2021-10-28T08:38:06.162Z"
   },
   {
    "duration": 34,
    "start_time": "2021-10-28T08:38:06.570Z"
   },
   {
    "duration": 25,
    "start_time": "2021-10-28T08:38:06.731Z"
   },
   {
    "duration": 7,
    "start_time": "2021-10-28T08:38:06.931Z"
   },
   {
    "duration": 12,
    "start_time": "2021-10-28T08:38:07.112Z"
   },
   {
    "duration": 949,
    "start_time": "2021-10-28T08:38:07.455Z"
   },
   {
    "duration": 20,
    "start_time": "2021-10-28T08:38:08.406Z"
   },
   {
    "duration": 52,
    "start_time": "2021-10-28T08:38:10.802Z"
   },
   {
    "duration": 39,
    "start_time": "2021-10-28T08:38:11.040Z"
   },
   {
    "duration": 19,
    "start_time": "2021-10-28T08:38:11.585Z"
   },
   {
    "duration": 51,
    "start_time": "2021-10-28T08:38:12.044Z"
   },
   {
    "duration": 13,
    "start_time": "2021-10-28T08:38:12.514Z"
   },
   {
    "duration": 30,
    "start_time": "2021-10-28T09:00:53.890Z"
   },
   {
    "duration": 31,
    "start_time": "2021-10-28T09:00:56.627Z"
   },
   {
    "duration": 21,
    "start_time": "2021-10-28T09:00:59.020Z"
   },
   {
    "duration": 20,
    "start_time": "2021-10-28T09:01:00.769Z"
   },
   {
    "duration": 40,
    "start_time": "2021-10-28T09:01:01.378Z"
   },
   {
    "duration": 29,
    "start_time": "2021-10-28T09:01:02.018Z"
   },
   {
    "duration": 16,
    "start_time": "2021-10-28T09:01:02.598Z"
   },
   {
    "duration": 15,
    "start_time": "2021-10-28T09:01:03.062Z"
   },
   {
    "duration": 15,
    "start_time": "2021-10-28T09:01:03.673Z"
   },
   {
    "duration": 30,
    "start_time": "2021-10-28T09:01:05.396Z"
   },
   {
    "duration": 61,
    "start_time": "2021-10-28T09:01:06.236Z"
   },
   {
    "duration": 10,
    "start_time": "2021-10-28T09:01:06.407Z"
   },
   {
    "duration": 10,
    "start_time": "2021-10-28T09:01:07.141Z"
   },
   {
    "duration": 2528,
    "start_time": "2021-10-28T09:01:07.659Z"
   },
   {
    "duration": 11,
    "start_time": "2021-10-28T09:01:10.190Z"
   },
   {
    "duration": 13,
    "start_time": "2021-10-28T09:01:11.165Z"
   },
   {
    "duration": 8,
    "start_time": "2021-10-28T09:01:11.531Z"
   },
   {
    "duration": 17,
    "start_time": "2021-10-28T09:01:12.046Z"
   },
   {
    "duration": 8,
    "start_time": "2021-10-28T09:01:12.629Z"
   },
   {
    "duration": 20,
    "start_time": "2021-10-28T09:01:13.337Z"
   },
   {
    "duration": 4,
    "start_time": "2021-10-28T09:01:15.326Z"
   },
   {
    "duration": 110065,
    "start_time": "2021-10-28T09:01:16.033Z"
   },
   {
    "duration": 6,
    "start_time": "2021-10-28T09:03:06.101Z"
   },
   {
    "duration": 9,
    "start_time": "2021-10-28T09:03:06.111Z"
   },
   {
    "duration": 73111,
    "start_time": "2021-10-28T09:03:06.123Z"
   },
   {
    "duration": 5,
    "start_time": "2021-10-28T09:04:19.236Z"
   },
   {
    "duration": 22,
    "start_time": "2021-10-28T09:04:19.243Z"
   },
   {
    "duration": 906895,
    "start_time": "2021-10-28T09:04:19.267Z"
   },
   {
    "duration": 5,
    "start_time": "2021-10-28T09:19:26.166Z"
   },
   {
    "duration": 9,
    "start_time": "2021-10-28T09:19:26.173Z"
   },
   {
    "duration": 391131,
    "start_time": "2021-10-28T09:19:26.184Z"
   },
   {
    "duration": 16,
    "start_time": "2021-10-28T09:25:57.317Z"
   },
   {
    "duration": 13,
    "start_time": "2021-10-28T09:25:57.335Z"
   },
   {
    "duration": 10,
    "start_time": "2021-10-28T09:25:57.351Z"
   },
   {
    "duration": 7,
    "start_time": "2021-10-28T09:25:57.364Z"
   },
   {
    "duration": 1056,
    "start_time": "2021-10-28T09:25:57.373Z"
   },
   {
    "duration": 91,
    "start_time": "2022-11-12T20:12:57.288Z"
   },
   {
    "duration": 2180,
    "start_time": "2022-11-12T20:13:23.511Z"
   },
   {
    "duration": 2041,
    "start_time": "2022-11-12T20:14:25.000Z"
   },
   {
    "duration": 1011,
    "start_time": "2022-11-12T20:14:31.099Z"
   },
   {
    "duration": 6,
    "start_time": "2022-11-12T20:14:44.101Z"
   },
   {
    "duration": 526,
    "start_time": "2022-11-12T20:14:47.720Z"
   },
   {
    "duration": 568,
    "start_time": "2022-11-12T21:17:05.908Z"
   },
   {
    "duration": 485,
    "start_time": "2022-11-12T21:17:20.628Z"
   },
   {
    "duration": 546,
    "start_time": "2022-11-12T21:17:39.767Z"
   },
   {
    "duration": 485,
    "start_time": "2022-11-12T21:17:57.331Z"
   },
   {
    "duration": 186,
    "start_time": "2022-11-12T22:03:44.507Z"
   },
   {
    "duration": 4,
    "start_time": "2022-11-12T22:03:49.413Z"
   },
   {
    "duration": 16,
    "start_time": "2022-11-12T22:03:50.668Z"
   },
   {
    "duration": 4,
    "start_time": "2022-11-12T22:04:03.172Z"
   },
   {
    "duration": 582,
    "start_time": "2022-11-12T22:04:03.181Z"
   },
   {
    "duration": 6,
    "start_time": "2022-11-12T22:04:03.765Z"
   },
   {
    "duration": 35,
    "start_time": "2022-11-12T22:04:03.773Z"
   },
   {
    "duration": 497,
    "start_time": "2022-11-12T22:04:03.811Z"
   },
   {
    "duration": 503,
    "start_time": "2022-11-12T22:04:04.310Z"
   },
   {
    "duration": 186,
    "start_time": "2022-11-12T22:04:04.815Z"
   },
   {
    "duration": 559,
    "start_time": "2022-11-12T22:04:05.003Z"
   },
   {
    "duration": 2293,
    "start_time": "2022-11-12T22:04:05.563Z"
   },
   {
    "duration": 22,
    "start_time": "2022-11-12T22:04:07.859Z"
   },
   {
    "duration": 96,
    "start_time": "2022-11-12T22:04:07.885Z"
   },
   {
    "duration": 771,
    "start_time": "2022-11-12T22:04:07.983Z"
   },
   {
    "duration": 8,
    "start_time": "2022-11-12T22:04:08.756Z"
   },
   {
    "duration": 18,
    "start_time": "2022-11-12T22:04:08.766Z"
   },
   {
    "duration": 7,
    "start_time": "2022-11-12T22:04:08.786Z"
   },
   {
    "duration": 85,
    "start_time": "2022-11-12T22:04:08.795Z"
   },
   {
    "duration": 81,
    "start_time": "2022-11-12T22:04:08.883Z"
   },
   {
    "duration": 30,
    "start_time": "2022-11-12T22:04:08.967Z"
   },
   {
    "duration": 24,
    "start_time": "2022-11-12T22:04:09.052Z"
   },
   {
    "duration": 5,
    "start_time": "2022-11-12T22:04:09.078Z"
   },
   {
    "duration": 71,
    "start_time": "2022-11-12T22:04:09.085Z"
   },
   {
    "duration": 930,
    "start_time": "2022-11-12T22:04:09.158Z"
   },
   {
    "duration": 68,
    "start_time": "2022-11-12T22:04:10.090Z"
   },
   {
    "duration": 101,
    "start_time": "2022-11-12T22:04:10.160Z"
   },
   {
    "duration": 29,
    "start_time": "2022-11-12T22:04:10.263Z"
   },
   {
    "duration": 66,
    "start_time": "2022-11-12T22:04:10.294Z"
   },
   {
    "duration": 98,
    "start_time": "2022-11-12T22:04:10.362Z"
   },
   {
    "duration": 8,
    "start_time": "2022-11-12T22:04:10.462Z"
   },
   {
    "duration": 80,
    "start_time": "2022-11-12T22:04:10.474Z"
   },
   {
    "duration": 22,
    "start_time": "2022-11-12T22:04:10.556Z"
   },
   {
    "duration": 13,
    "start_time": "2022-11-12T22:04:10.580Z"
   },
   {
    "duration": 86,
    "start_time": "2022-11-12T22:04:10.595Z"
   },
   {
    "duration": 34,
    "start_time": "2022-11-12T22:04:10.683Z"
   },
   {
    "duration": 46,
    "start_time": "2022-11-12T22:04:10.718Z"
   },
   {
    "duration": 11,
    "start_time": "2022-11-12T22:04:10.766Z"
   },
   {
    "duration": 13,
    "start_time": "2022-11-12T22:04:10.779Z"
   },
   {
    "duration": 12,
    "start_time": "2022-11-12T22:04:10.794Z"
   },
   {
    "duration": 26,
    "start_time": "2022-11-12T22:04:10.808Z"
   },
   {
    "duration": 59,
    "start_time": "2022-11-12T22:04:10.836Z"
   },
   {
    "duration": 12,
    "start_time": "2022-11-12T22:04:10.897Z"
   },
   {
    "duration": 23,
    "start_time": "2022-11-12T22:04:10.911Z"
   },
   {
    "duration": 1562,
    "start_time": "2022-11-12T22:04:10.936Z"
   },
   {
    "duration": 15,
    "start_time": "2022-11-12T22:04:12.501Z"
   },
   {
    "duration": 36,
    "start_time": "2022-11-12T22:04:12.518Z"
   },
   {
    "duration": 8,
    "start_time": "2022-11-12T22:04:12.556Z"
   },
   {
    "duration": 24,
    "start_time": "2022-11-12T22:04:12.567Z"
   },
   {
    "duration": 7,
    "start_time": "2022-11-12T22:04:12.593Z"
   },
   {
    "duration": 22,
    "start_time": "2022-11-12T22:04:12.602Z"
   },
   {
    "duration": 26,
    "start_time": "2022-11-12T22:04:12.626Z"
   },
   {
    "duration": 84247,
    "start_time": "2022-11-12T22:04:12.655Z"
   },
   {
    "duration": 5,
    "start_time": "2022-11-12T22:05:36.903Z"
   },
   {
    "duration": 5,
    "start_time": "2022-11-12T22:05:36.909Z"
   },
   {
    "duration": 61865,
    "start_time": "2022-11-12T22:05:36.916Z"
   },
   {
    "duration": 5,
    "start_time": "2022-11-12T22:06:38.783Z"
   },
   {
    "duration": 9,
    "start_time": "2022-11-12T22:06:38.789Z"
   },
   {
    "duration": 1735,
    "start_time": "2022-11-13T06:05:54.912Z"
   },
   {
    "duration": 752,
    "start_time": "2022-11-13T06:05:56.650Z"
   },
   {
    "duration": 6,
    "start_time": "2022-11-13T06:05:57.403Z"
   },
   {
    "duration": 23,
    "start_time": "2022-11-13T06:05:57.411Z"
   },
   {
    "duration": 502,
    "start_time": "2022-11-13T06:05:57.436Z"
   },
   {
    "duration": 534,
    "start_time": "2022-11-13T06:05:57.941Z"
   },
   {
    "duration": 56,
    "start_time": "2022-11-13T06:05:58.478Z"
   },
   {
    "duration": 444,
    "start_time": "2022-11-13T06:05:58.536Z"
   },
   {
    "duration": 1144,
    "start_time": "2022-11-13T06:05:58.982Z"
   },
   {
    "duration": 21,
    "start_time": "2022-11-13T06:06:00.128Z"
   },
   {
    "duration": 71,
    "start_time": "2022-11-13T06:06:00.151Z"
   },
   {
    "duration": 458,
    "start_time": "2022-11-13T06:06:00.224Z"
   },
   {
    "duration": 9,
    "start_time": "2022-11-13T06:06:00.685Z"
   },
   {
    "duration": 55,
    "start_time": "2022-11-13T06:06:00.696Z"
   },
   {
    "duration": 21,
    "start_time": "2022-11-13T06:06:00.753Z"
   },
   {
    "duration": 29,
    "start_time": "2022-11-13T06:06:00.776Z"
   },
   {
    "duration": 27,
    "start_time": "2022-11-13T06:06:00.807Z"
   },
   {
    "duration": 23,
    "start_time": "2022-11-13T06:06:00.836Z"
   },
   {
    "duration": 33,
    "start_time": "2022-11-13T06:06:00.861Z"
   },
   {
    "duration": 20,
    "start_time": "2022-11-13T06:06:00.895Z"
   },
   {
    "duration": 55,
    "start_time": "2022-11-13T06:06:00.917Z"
   },
   {
    "duration": 515,
    "start_time": "2022-11-13T06:06:00.974Z"
   },
   {
    "duration": 15,
    "start_time": "2022-11-13T06:06:01.491Z"
   },
   {
    "duration": 49,
    "start_time": "2022-11-13T06:06:01.507Z"
   },
   {
    "duration": 35,
    "start_time": "2022-11-13T06:06:01.558Z"
   },
   {
    "duration": 11,
    "start_time": "2022-11-13T06:06:01.595Z"
   },
   {
    "duration": 58,
    "start_time": "2022-11-13T06:06:01.608Z"
   },
   {
    "duration": 13,
    "start_time": "2022-11-13T06:06:01.670Z"
   },
   {
    "duration": 71,
    "start_time": "2022-11-13T06:06:01.684Z"
   },
   {
    "duration": 20,
    "start_time": "2022-11-13T06:06:01.757Z"
   },
   {
    "duration": 11,
    "start_time": "2022-11-13T06:06:01.779Z"
   },
   {
    "duration": 18,
    "start_time": "2022-11-13T06:06:01.792Z"
   },
   {
    "duration": 27,
    "start_time": "2022-11-13T06:06:01.812Z"
   },
   {
    "duration": 44,
    "start_time": "2022-11-13T06:06:01.840Z"
   },
   {
    "duration": 11,
    "start_time": "2022-11-13T06:06:01.886Z"
   },
   {
    "duration": 10,
    "start_time": "2022-11-13T06:06:01.898Z"
   },
   {
    "duration": 8,
    "start_time": "2022-11-13T06:06:01.910Z"
   },
   {
    "duration": 31,
    "start_time": "2022-11-13T06:06:01.919Z"
   },
   {
    "duration": 58,
    "start_time": "2022-11-13T06:06:01.951Z"
   },
   {
    "duration": 13,
    "start_time": "2022-11-13T06:06:02.010Z"
   },
   {
    "duration": 17,
    "start_time": "2022-11-13T06:06:02.025Z"
   },
   {
    "duration": 1197,
    "start_time": "2022-11-13T06:06:02.044Z"
   },
   {
    "duration": 11,
    "start_time": "2022-11-13T06:06:03.243Z"
   },
   {
    "duration": 26,
    "start_time": "2022-11-13T06:06:03.256Z"
   },
   {
    "duration": 5,
    "start_time": "2022-11-13T06:06:03.284Z"
   },
   {
    "duration": 19,
    "start_time": "2022-11-13T06:06:03.291Z"
   },
   {
    "duration": 6,
    "start_time": "2022-11-13T06:06:03.312Z"
   },
   {
    "duration": 21,
    "start_time": "2022-11-13T06:06:03.320Z"
   },
   {
    "duration": 8,
    "start_time": "2022-11-13T06:06:03.343Z"
   },
   {
    "duration": 77817,
    "start_time": "2022-11-13T06:06:03.377Z"
   },
   {
    "duration": 5,
    "start_time": "2022-11-13T06:07:21.196Z"
   },
   {
    "duration": 13,
    "start_time": "2022-11-13T06:07:21.202Z"
   },
   {
    "duration": 53171,
    "start_time": "2022-11-13T06:07:21.217Z"
   },
   {
    "duration": 5,
    "start_time": "2022-11-13T06:08:14.390Z"
   },
   {
    "duration": 5,
    "start_time": "2022-11-13T06:08:14.397Z"
   },
   {
    "duration": 308777,
    "start_time": "2022-11-13T06:08:14.404Z"
   },
   {
    "duration": 4,
    "start_time": "2022-11-13T06:13:23.182Z"
   },
   {
    "duration": 5,
    "start_time": "2022-11-13T06:13:23.188Z"
   },
   {
    "duration": 97630,
    "start_time": "2022-11-13T06:13:23.194Z"
   },
   {
    "duration": 15,
    "start_time": "2022-11-13T06:15:00.825Z"
   },
   {
    "duration": 8,
    "start_time": "2022-11-13T06:15:00.843Z"
   },
   {
    "duration": 13,
    "start_time": "2022-11-13T06:15:00.853Z"
   },
   {
    "duration": 13,
    "start_time": "2022-11-13T06:15:00.868Z"
   },
   {
    "duration": 347,
    "start_time": "2022-11-13T06:15:00.883Z"
   },
   {
    "duration": 5,
    "start_time": "2022-11-13T06:16:56.958Z"
   },
   {
    "duration": 524,
    "start_time": "2022-11-13T06:16:56.964Z"
   },
   {
    "duration": 5,
    "start_time": "2022-11-13T06:16:57.490Z"
   },
   {
    "duration": 24,
    "start_time": "2022-11-13T06:16:57.496Z"
   },
   {
    "duration": 484,
    "start_time": "2022-11-13T06:16:57.522Z"
   },
   {
    "duration": 495,
    "start_time": "2022-11-13T06:16:58.008Z"
   },
   {
    "duration": 79,
    "start_time": "2022-11-13T06:16:58.505Z"
   },
   {
    "duration": 440,
    "start_time": "2022-11-13T06:16:58.585Z"
   },
   {
    "duration": 1170,
    "start_time": "2022-11-13T06:16:59.028Z"
   },
   {
    "duration": 22,
    "start_time": "2022-11-13T06:17:00.200Z"
   },
   {
    "duration": 99,
    "start_time": "2022-11-13T06:17:00.226Z"
   },
   {
    "duration": 554,
    "start_time": "2022-11-13T06:17:00.327Z"
   },
   {
    "duration": 8,
    "start_time": "2022-11-13T06:17:00.884Z"
   },
   {
    "duration": 50,
    "start_time": "2022-11-13T06:17:00.894Z"
   },
   {
    "duration": 27,
    "start_time": "2022-11-13T06:17:00.946Z"
   },
   {
    "duration": 31,
    "start_time": "2022-11-13T06:17:00.975Z"
   },
   {
    "duration": 52,
    "start_time": "2022-11-13T06:17:01.008Z"
   },
   {
    "duration": 117,
    "start_time": "2022-11-13T06:17:01.063Z"
   },
   {
    "duration": 18,
    "start_time": "2022-11-13T06:17:01.182Z"
   },
   {
    "duration": 29,
    "start_time": "2022-11-13T06:17:01.202Z"
   },
   {
    "duration": 43,
    "start_time": "2022-11-13T06:17:01.233Z"
   },
   {
    "duration": 424,
    "start_time": "2022-11-13T06:17:01.278Z"
   },
   {
    "duration": 17,
    "start_time": "2022-11-13T06:17:01.704Z"
   },
   {
    "duration": 61,
    "start_time": "2022-11-13T06:17:01.724Z"
   },
   {
    "duration": 30,
    "start_time": "2022-11-13T06:17:01.787Z"
   },
   {
    "duration": 14,
    "start_time": "2022-11-13T06:17:01.819Z"
   },
   {
    "duration": 62,
    "start_time": "2022-11-13T06:17:01.834Z"
   },
   {
    "duration": 9,
    "start_time": "2022-11-13T06:17:01.898Z"
   },
   {
    "duration": 22,
    "start_time": "2022-11-13T06:17:01.911Z"
   },
   {
    "duration": 48,
    "start_time": "2022-11-13T06:17:01.935Z"
   },
   {
    "duration": 13,
    "start_time": "2022-11-13T06:17:01.985Z"
   },
   {
    "duration": 23,
    "start_time": "2022-11-13T06:17:02.000Z"
   },
   {
    "duration": 31,
    "start_time": "2022-11-13T06:17:02.025Z"
   },
   {
    "duration": 34,
    "start_time": "2022-11-13T06:17:02.058Z"
   },
   {
    "duration": 25,
    "start_time": "2022-11-13T06:17:02.094Z"
   },
   {
    "duration": 12,
    "start_time": "2022-11-13T06:17:02.121Z"
   },
   {
    "duration": 9,
    "start_time": "2022-11-13T06:17:02.135Z"
   },
   {
    "duration": 40,
    "start_time": "2022-11-13T06:17:02.146Z"
   },
   {
    "duration": 42,
    "start_time": "2022-11-13T06:17:02.188Z"
   },
   {
    "duration": 13,
    "start_time": "2022-11-13T06:17:02.232Z"
   },
   {
    "duration": 39,
    "start_time": "2022-11-13T06:17:02.247Z"
   },
   {
    "duration": 1166,
    "start_time": "2022-11-13T06:17:02.288Z"
   },
   {
    "duration": 22,
    "start_time": "2022-11-13T06:17:03.456Z"
   },
   {
    "duration": 8,
    "start_time": "2022-11-13T06:17:03.480Z"
   },
   {
    "duration": 23,
    "start_time": "2022-11-13T06:17:03.489Z"
   },
   {
    "duration": 21,
    "start_time": "2022-11-13T06:17:03.514Z"
   },
   {
    "duration": 32,
    "start_time": "2022-11-13T06:17:03.537Z"
   },
   {
    "duration": 28,
    "start_time": "2022-11-13T06:17:03.571Z"
   },
   {
    "duration": 33,
    "start_time": "2022-11-13T06:17:03.601Z"
   },
   {
    "duration": 76899,
    "start_time": "2022-11-13T06:17:03.636Z"
   },
   {
    "duration": 5,
    "start_time": "2022-11-13T06:18:20.537Z"
   },
   {
    "duration": 10,
    "start_time": "2022-11-13T06:18:20.544Z"
   },
   {
    "duration": 53773,
    "start_time": "2022-11-13T06:18:20.556Z"
   },
   {
    "duration": 4,
    "start_time": "2022-11-13T06:19:14.331Z"
   },
   {
    "duration": 11,
    "start_time": "2022-11-13T06:19:14.337Z"
   },
   {
    "duration": 375448,
    "start_time": "2022-11-13T06:19:14.349Z"
   },
   {
    "duration": 5,
    "start_time": "2022-11-13T06:25:29.798Z"
   },
   {
    "duration": 73,
    "start_time": "2022-11-13T06:25:29.805Z"
   },
   {
    "duration": 96238,
    "start_time": "2022-11-13T06:25:29.880Z"
   },
   {
    "duration": 14,
    "start_time": "2022-11-13T06:27:06.119Z"
   },
   {
    "duration": 23,
    "start_time": "2022-11-13T06:27:06.134Z"
   },
   {
    "duration": 8,
    "start_time": "2022-11-13T06:27:06.159Z"
   },
   {
    "duration": 8,
    "start_time": "2022-11-13T06:27:06.169Z"
   },
   {
    "duration": 324,
    "start_time": "2022-11-13T06:27:06.179Z"
   }
  ],
  "kernelspec": {
   "display_name": "Python 3 (ipykernel)",
   "language": "python",
   "name": "python3"
  },
  "language_info": {
   "codemirror_mode": {
    "name": "ipython",
    "version": 3
   },
   "file_extension": ".py",
   "mimetype": "text/x-python",
   "name": "python",
   "nbconvert_exporter": "python",
   "pygments_lexer": "ipython3",
   "version": "3.9.5"
  },
  "toc": {
   "base_numbering": 1,
   "nav_menu": {},
   "number_sections": true,
   "sideBar": true,
   "skip_h1_title": true,
   "title_cell": "Table of Contents",
   "title_sidebar": "Contents",
   "toc_cell": false,
   "toc_position": {
    "height": "calc(100% - 180px)",
    "left": "10px",
    "top": "150px",
    "width": "256.188px"
   },
   "toc_section_display": true,
   "toc_window_display": true
  }
 },
 "nbformat": 4,
 "nbformat_minor": 2
}
