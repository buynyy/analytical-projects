{
 "cells": [
  {
   "cell_type": "markdown",
   "metadata": {
    "toc": true
   },
   "source": [
    "<h1>Table of Contents<span class=\"tocSkip\"></span></h1>\n",
    "<div class=\"toc\"><ul class=\"toc-item\"><li><span><a href=\"#Project-Description\" data-toc-modified-id=\"Project-Description-1\"><span class=\"toc-item-num\">1&nbsp;&nbsp;</span>Project Description</a></span></li><li><span><a href=\"#Imports\" data-toc-modified-id=\"Imports-2\"><span class=\"toc-item-num\">2&nbsp;&nbsp;</span>Imports</a></span></li><li><span><a href=\"#Dataset-Loading-&amp;-Exploration\" data-toc-modified-id=\"Dataset-Loading-&amp;-Exploration-3\"><span class=\"toc-item-num\">3&nbsp;&nbsp;</span>Dataset Loading &amp; Exploration</a></span><ul class=\"toc-item\"><li><span><a href=\"#Detected-Problems\" data-toc-modified-id=\"Detected-Problems-3.1\"><span class=\"toc-item-num\">3.1&nbsp;&nbsp;</span>Detected Problems</a></span><ul class=\"toc-item\"><li><span><a href=\"#Column-names\" data-toc-modified-id=\"Column-names-3.1.1\"><span class=\"toc-item-num\">3.1.1&nbsp;&nbsp;</span>Column names</a></span></li><li><span><a href=\"#Gaps-in-tenure\" data-toc-modified-id=\"Gaps-in-tenure-3.1.2\"><span class=\"toc-item-num\">3.1.2&nbsp;&nbsp;</span>Gaps in tenure</a></span></li><li><span><a href=\"#Check-for-duplicates\" data-toc-modified-id=\"Check-for-duplicates-3.1.3\"><span class=\"toc-item-num\">3.1.3&nbsp;&nbsp;</span>Check for duplicates</a></span></li><li><span><a href=\"#Transformation-of-categorical-features-for-the-task-of-classification\" data-toc-modified-id=\"Transformation-of-categorical-features-for-the-task-of-classification-3.1.4\"><span class=\"toc-item-num\">3.1.4&nbsp;&nbsp;</span>Transformation of categorical features for the task of classification</a></span></li><li><span><a href=\"#Samples-formation\" data-toc-modified-id=\"Samples-formation-3.1.5\"><span class=\"toc-item-num\">3.1.5&nbsp;&nbsp;</span>Samples formation</a></span></li><li><span><a href=\"#Feature-Extraction-for-Training\" data-toc-modified-id=\"Feature-Extraction-for-Training-3.1.6\"><span class=\"toc-item-num\">3.1.6&nbsp;&nbsp;</span>Feature Extraction for Training</a></span></li><li><span><a href=\"#Feature-scaling\" data-toc-modified-id=\"Feature-scaling-3.1.7\"><span class=\"toc-item-num\">3.1.7&nbsp;&nbsp;</span>Feature scaling</a></span></li></ul></li></ul></li><li><span><a href=\"#Model-Training\" data-toc-modified-id=\"Model-Training-4\"><span class=\"toc-item-num\">4&nbsp;&nbsp;</span>Model Training</a></span><ul class=\"toc-item\"><li><span><a href=\"#DecisionTreeClassifier\" data-toc-modified-id=\"DecisionTreeClassifier-4.1\"><span class=\"toc-item-num\">4.1&nbsp;&nbsp;</span>DecisionTreeClassifier</a></span></li><li><span><a href=\"#RandomForestClassifier\" data-toc-modified-id=\"RandomForestClassifier-4.2\"><span class=\"toc-item-num\">4.2&nbsp;&nbsp;</span>RandomForestClassifier</a></span></li><li><span><a href=\"#LogisticRegression\" data-toc-modified-id=\"LogisticRegression-4.3\"><span class=\"toc-item-num\">4.3&nbsp;&nbsp;</span>LogisticRegression</a></span></li></ul></li><li><span><a href=\"#Solution-for-Imbalance\" data-toc-modified-id=\"Solution-for-Imbalance-5\"><span class=\"toc-item-num\">5&nbsp;&nbsp;</span>Solution for Imbalance</a></span><ul class=\"toc-item\"><li><span><a href=\"#Balancing-Classes-with-Parameters\" data-toc-modified-id=\"Balancing-Classes-with-Parameters-5.1\"><span class=\"toc-item-num\">5.1&nbsp;&nbsp;</span>Balancing Classes with Parameters</a></span></li><li><span><a href=\"#Upsampling\" data-toc-modified-id=\"Upsampling-5.2\"><span class=\"toc-item-num\">5.2&nbsp;&nbsp;</span>Upsampling</a></span></li><li><span><a href=\"#Downsampling\" data-toc-modified-id=\"Downsampling-5.3\"><span class=\"toc-item-num\">5.3&nbsp;&nbsp;</span>Downsampling</a></span></li></ul></li><li><span><a href=\"#Model-Analysis\" data-toc-modified-id=\"Model-Analysis-6\"><span class=\"toc-item-num\">6&nbsp;&nbsp;</span>Model Analysis</a></span><ul class=\"toc-item\"><li><span><a href=\"#Model-Testing\" data-toc-modified-id=\"Model-Testing-6.1\"><span class=\"toc-item-num\">6.1&nbsp;&nbsp;</span>Model Testing</a></span></li></ul></li><li><span><a href=\"#Conclusions\" data-toc-modified-id=\"Conclusions-7\"><span class=\"toc-item-num\">7&nbsp;&nbsp;</span>Conclusions</a></span></li></ul></div>"
   ]
  },
  {
   "cell_type": "markdown",
   "metadata": {},
   "source": [
    "# Bank Churn Prediction"
   ]
  },
  {
   "cell_type": "markdown",
   "metadata": {},
   "source": [
    "## Project Description"
   ]
  },
  {
   "cell_type": "markdown",
   "metadata": {},
   "source": [
    "Customers has begun to leave Beta-Bank. Every month. A little, but noticeable. Marketing analysts figured it was cheaper to keep current customers than to attract new ones.\n",
    "\n",
    "It is necessary to predict whether the client will leave the bank in the near future or not. You are provided with historical data on customer behavior and termination of agreements with the bank.\n",
    "\n",
    "---\n",
    "\n",
    "**Build a model with an extremely large *F1*-measure. To pass the project successfully, you need to bring the metric to 0.59**. Check the *F1*-measure on the test set yourself.\n",
    "\n",
    "Additionally measure *AUC-ROC*, compare its value with *F1*-measure.\n",
    "\n",
    "Data Source: [https://www.kaggle.com/barelydedicated/bank-customer-churn-modeling](https://www.kaggle.com/barelydedicated/bank-customer-churn-modeling)"
   ]
  },
  {
   "cell_type": "markdown",
   "metadata": {},
   "source": [
    "## Imports"
   ]
  },
  {
   "cell_type": "code",
   "execution_count": null,
   "metadata": {},
   "outputs": [],
   "source": [
    "import pandas as pd\n",
    "from IPython.display import display\n",
    "from sklearn.model_selection import train_test_split\n",
    "from sklearn.preprocessing import StandardScaler\n",
    "from sklearn.tree import DecisionTreeClassifier\n",
    "from sklearn.metrics import f1_score\n",
    "from sklearn.metrics import roc_auc_score\n",
    "from sklearn.ensemble import RandomForestClassifier\n",
    "from sklearn.linear_model import LogisticRegression\n",
    "from sklearn.utils import shuffle\n",
    "\n",
    "import warnings"
   ]
  },
  {
   "cell_type": "markdown",
   "metadata": {},
   "source": [
    "## Dataset Loading & Exploration"
   ]
  },
  {
   "cell_type": "code",
   "execution_count": 1,
   "metadata": {
    "scrolled": true
   },
   "outputs": [
    {
     "data": {
      "text/html": [
       "<div>\n",
       "<style scoped>\n",
       "    .dataframe tbody tr th:only-of-type {\n",
       "        vertical-align: middle;\n",
       "    }\n",
       "\n",
       "    .dataframe tbody tr th {\n",
       "        vertical-align: top;\n",
       "    }\n",
       "\n",
       "    .dataframe thead th {\n",
       "        text-align: right;\n",
       "    }\n",
       "</style>\n",
       "<table border=\"1\" class=\"dataframe\">\n",
       "  <thead>\n",
       "    <tr style=\"text-align: right;\">\n",
       "      <th></th>\n",
       "      <th>RowNumber</th>\n",
       "      <th>CustomerId</th>\n",
       "      <th>Surname</th>\n",
       "      <th>CreditScore</th>\n",
       "      <th>Geography</th>\n",
       "      <th>Gender</th>\n",
       "      <th>Age</th>\n",
       "      <th>Tenure</th>\n",
       "      <th>Balance</th>\n",
       "      <th>NumOfProducts</th>\n",
       "      <th>HasCrCard</th>\n",
       "      <th>IsActiveMember</th>\n",
       "      <th>EstimatedSalary</th>\n",
       "      <th>Exited</th>\n",
       "    </tr>\n",
       "  </thead>\n",
       "  <tbody>\n",
       "    <tr>\n",
       "      <td>0</td>\n",
       "      <td>1</td>\n",
       "      <td>15634602</td>\n",
       "      <td>Hargrave</td>\n",
       "      <td>619</td>\n",
       "      <td>France</td>\n",
       "      <td>Female</td>\n",
       "      <td>42</td>\n",
       "      <td>2.0</td>\n",
       "      <td>0.00</td>\n",
       "      <td>1</td>\n",
       "      <td>1</td>\n",
       "      <td>1</td>\n",
       "      <td>101348.88</td>\n",
       "      <td>1</td>\n",
       "    </tr>\n",
       "    <tr>\n",
       "      <td>1</td>\n",
       "      <td>2</td>\n",
       "      <td>15647311</td>\n",
       "      <td>Hill</td>\n",
       "      <td>608</td>\n",
       "      <td>Spain</td>\n",
       "      <td>Female</td>\n",
       "      <td>41</td>\n",
       "      <td>1.0</td>\n",
       "      <td>83807.86</td>\n",
       "      <td>1</td>\n",
       "      <td>0</td>\n",
       "      <td>1</td>\n",
       "      <td>112542.58</td>\n",
       "      <td>0</td>\n",
       "    </tr>\n",
       "    <tr>\n",
       "      <td>2</td>\n",
       "      <td>3</td>\n",
       "      <td>15619304</td>\n",
       "      <td>Onio</td>\n",
       "      <td>502</td>\n",
       "      <td>France</td>\n",
       "      <td>Female</td>\n",
       "      <td>42</td>\n",
       "      <td>8.0</td>\n",
       "      <td>159660.80</td>\n",
       "      <td>3</td>\n",
       "      <td>1</td>\n",
       "      <td>0</td>\n",
       "      <td>113931.57</td>\n",
       "      <td>1</td>\n",
       "    </tr>\n",
       "    <tr>\n",
       "      <td>3</td>\n",
       "      <td>4</td>\n",
       "      <td>15701354</td>\n",
       "      <td>Boni</td>\n",
       "      <td>699</td>\n",
       "      <td>France</td>\n",
       "      <td>Female</td>\n",
       "      <td>39</td>\n",
       "      <td>1.0</td>\n",
       "      <td>0.00</td>\n",
       "      <td>2</td>\n",
       "      <td>0</td>\n",
       "      <td>0</td>\n",
       "      <td>93826.63</td>\n",
       "      <td>0</td>\n",
       "    </tr>\n",
       "    <tr>\n",
       "      <td>4</td>\n",
       "      <td>5</td>\n",
       "      <td>15737888</td>\n",
       "      <td>Mitchell</td>\n",
       "      <td>850</td>\n",
       "      <td>Spain</td>\n",
       "      <td>Female</td>\n",
       "      <td>43</td>\n",
       "      <td>2.0</td>\n",
       "      <td>125510.82</td>\n",
       "      <td>1</td>\n",
       "      <td>1</td>\n",
       "      <td>1</td>\n",
       "      <td>79084.10</td>\n",
       "      <td>0</td>\n",
       "    </tr>\n",
       "    <tr>\n",
       "      <td>5</td>\n",
       "      <td>6</td>\n",
       "      <td>15574012</td>\n",
       "      <td>Chu</td>\n",
       "      <td>645</td>\n",
       "      <td>Spain</td>\n",
       "      <td>Male</td>\n",
       "      <td>44</td>\n",
       "      <td>8.0</td>\n",
       "      <td>113755.78</td>\n",
       "      <td>2</td>\n",
       "      <td>1</td>\n",
       "      <td>0</td>\n",
       "      <td>149756.71</td>\n",
       "      <td>1</td>\n",
       "    </tr>\n",
       "    <tr>\n",
       "      <td>6</td>\n",
       "      <td>7</td>\n",
       "      <td>15592531</td>\n",
       "      <td>Bartlett</td>\n",
       "      <td>822</td>\n",
       "      <td>France</td>\n",
       "      <td>Male</td>\n",
       "      <td>50</td>\n",
       "      <td>7.0</td>\n",
       "      <td>0.00</td>\n",
       "      <td>2</td>\n",
       "      <td>1</td>\n",
       "      <td>1</td>\n",
       "      <td>10062.80</td>\n",
       "      <td>0</td>\n",
       "    </tr>\n",
       "    <tr>\n",
       "      <td>7</td>\n",
       "      <td>8</td>\n",
       "      <td>15656148</td>\n",
       "      <td>Obinna</td>\n",
       "      <td>376</td>\n",
       "      <td>Germany</td>\n",
       "      <td>Female</td>\n",
       "      <td>29</td>\n",
       "      <td>4.0</td>\n",
       "      <td>115046.74</td>\n",
       "      <td>4</td>\n",
       "      <td>1</td>\n",
       "      <td>0</td>\n",
       "      <td>119346.88</td>\n",
       "      <td>1</td>\n",
       "    </tr>\n",
       "    <tr>\n",
       "      <td>8</td>\n",
       "      <td>9</td>\n",
       "      <td>15792365</td>\n",
       "      <td>He</td>\n",
       "      <td>501</td>\n",
       "      <td>France</td>\n",
       "      <td>Male</td>\n",
       "      <td>44</td>\n",
       "      <td>4.0</td>\n",
       "      <td>142051.07</td>\n",
       "      <td>2</td>\n",
       "      <td>0</td>\n",
       "      <td>1</td>\n",
       "      <td>74940.50</td>\n",
       "      <td>0</td>\n",
       "    </tr>\n",
       "    <tr>\n",
       "      <td>9</td>\n",
       "      <td>10</td>\n",
       "      <td>15592389</td>\n",
       "      <td>H?</td>\n",
       "      <td>684</td>\n",
       "      <td>France</td>\n",
       "      <td>Male</td>\n",
       "      <td>27</td>\n",
       "      <td>2.0</td>\n",
       "      <td>134603.88</td>\n",
       "      <td>1</td>\n",
       "      <td>1</td>\n",
       "      <td>1</td>\n",
       "      <td>71725.73</td>\n",
       "      <td>0</td>\n",
       "    </tr>\n",
       "  </tbody>\n",
       "</table>\n",
       "</div>"
      ],
      "text/plain": [
       "   RowNumber  CustomerId   Surname  CreditScore Geography  Gender  Age  \\\n",
       "0          1    15634602  Hargrave          619    France  Female   42   \n",
       "1          2    15647311      Hill          608     Spain  Female   41   \n",
       "2          3    15619304      Onio          502    France  Female   42   \n",
       "3          4    15701354      Boni          699    France  Female   39   \n",
       "4          5    15737888  Mitchell          850     Spain  Female   43   \n",
       "5          6    15574012       Chu          645     Spain    Male   44   \n",
       "6          7    15592531  Bartlett          822    France    Male   50   \n",
       "7          8    15656148    Obinna          376   Germany  Female   29   \n",
       "8          9    15792365        He          501    France    Male   44   \n",
       "9         10    15592389        H?          684    France    Male   27   \n",
       "\n",
       "   Tenure    Balance  NumOfProducts  HasCrCard  IsActiveMember  \\\n",
       "0     2.0       0.00              1          1               1   \n",
       "1     1.0   83807.86              1          0               1   \n",
       "2     8.0  159660.80              3          1               0   \n",
       "3     1.0       0.00              2          0               0   \n",
       "4     2.0  125510.82              1          1               1   \n",
       "5     8.0  113755.78              2          1               0   \n",
       "6     7.0       0.00              2          1               1   \n",
       "7     4.0  115046.74              4          1               0   \n",
       "8     4.0  142051.07              2          0               1   \n",
       "9     2.0  134603.88              1          1               1   \n",
       "\n",
       "   EstimatedSalary  Exited  \n",
       "0        101348.88       1  \n",
       "1        112542.58       0  \n",
       "2        113931.57       1  \n",
       "3         93826.63       0  \n",
       "4         79084.10       0  \n",
       "5        149756.71       1  \n",
       "6         10062.80       0  \n",
       "7        119346.88       1  \n",
       "8         74940.50       0  \n",
       "9         71725.73       0  "
      ]
     },
     "execution_count": 1,
     "metadata": {},
     "output_type": "execute_result"
    }
   ],
   "source": [
    "df = pd.read_csv('/datasets/Churn.csv')\n",
    "df.name = 'churn'\n",
    "\n",
    "df.head(10)"
   ]
  },
  {
   "cell_type": "code",
   "execution_count": 2,
   "metadata": {
    "scrolled": true
   },
   "outputs": [
    {
     "name": "stdout",
     "output_type": "stream",
     "text": [
      "<class 'pandas.core.frame.DataFrame'>\n",
      "RangeIndex: 10000 entries, 0 to 9999\n",
      "Data columns (total 14 columns):\n",
      "RowNumber          10000 non-null int64\n",
      "CustomerId         10000 non-null int64\n",
      "Surname            10000 non-null object\n",
      "CreditScore        10000 non-null int64\n",
      "Geography          10000 non-null object\n",
      "Gender             10000 non-null object\n",
      "Age                10000 non-null int64\n",
      "Tenure             9091 non-null float64\n",
      "Balance            10000 non-null float64\n",
      "NumOfProducts      10000 non-null int64\n",
      "HasCrCard          10000 non-null int64\n",
      "IsActiveMember     10000 non-null int64\n",
      "EstimatedSalary    10000 non-null float64\n",
      "Exited             10000 non-null int64\n",
      "dtypes: float64(3), int64(8), object(3)\n",
      "memory usage: 1.1+ MB\n"
     ]
    }
   ],
   "source": [
    "df.info()"
   ]
  },
  {
   "cell_type": "code",
   "execution_count": 3,
   "metadata": {
    "scrolled": true
   },
   "outputs": [
    {
     "data": {
      "text/html": [
       "<div>\n",
       "<style scoped>\n",
       "    .dataframe tbody tr th:only-of-type {\n",
       "        vertical-align: middle;\n",
       "    }\n",
       "\n",
       "    .dataframe tbody tr th {\n",
       "        vertical-align: top;\n",
       "    }\n",
       "\n",
       "    .dataframe thead th {\n",
       "        text-align: right;\n",
       "    }\n",
       "</style>\n",
       "<table border=\"1\" class=\"dataframe\">\n",
       "  <thead>\n",
       "    <tr style=\"text-align: right;\">\n",
       "      <th></th>\n",
       "      <th>RowNumber</th>\n",
       "      <th>CustomerId</th>\n",
       "      <th>CreditScore</th>\n",
       "      <th>Age</th>\n",
       "      <th>Tenure</th>\n",
       "      <th>Balance</th>\n",
       "      <th>NumOfProducts</th>\n",
       "      <th>HasCrCard</th>\n",
       "      <th>IsActiveMember</th>\n",
       "      <th>EstimatedSalary</th>\n",
       "      <th>Exited</th>\n",
       "    </tr>\n",
       "  </thead>\n",
       "  <tbody>\n",
       "    <tr>\n",
       "      <td>count</td>\n",
       "      <td>10000.00000</td>\n",
       "      <td>1.000000e+04</td>\n",
       "      <td>10000.000000</td>\n",
       "      <td>10000.000000</td>\n",
       "      <td>9091.000000</td>\n",
       "      <td>10000.000000</td>\n",
       "      <td>10000.000000</td>\n",
       "      <td>10000.00000</td>\n",
       "      <td>10000.000000</td>\n",
       "      <td>10000.000000</td>\n",
       "      <td>10000.000000</td>\n",
       "    </tr>\n",
       "    <tr>\n",
       "      <td>mean</td>\n",
       "      <td>5000.50000</td>\n",
       "      <td>1.569094e+07</td>\n",
       "      <td>650.528800</td>\n",
       "      <td>38.921800</td>\n",
       "      <td>4.997690</td>\n",
       "      <td>76485.889288</td>\n",
       "      <td>1.530200</td>\n",
       "      <td>0.70550</td>\n",
       "      <td>0.515100</td>\n",
       "      <td>100090.239881</td>\n",
       "      <td>0.203700</td>\n",
       "    </tr>\n",
       "    <tr>\n",
       "      <td>std</td>\n",
       "      <td>2886.89568</td>\n",
       "      <td>7.193619e+04</td>\n",
       "      <td>96.653299</td>\n",
       "      <td>10.487806</td>\n",
       "      <td>2.894723</td>\n",
       "      <td>62397.405202</td>\n",
       "      <td>0.581654</td>\n",
       "      <td>0.45584</td>\n",
       "      <td>0.499797</td>\n",
       "      <td>57510.492818</td>\n",
       "      <td>0.402769</td>\n",
       "    </tr>\n",
       "    <tr>\n",
       "      <td>min</td>\n",
       "      <td>1.00000</td>\n",
       "      <td>1.556570e+07</td>\n",
       "      <td>350.000000</td>\n",
       "      <td>18.000000</td>\n",
       "      <td>0.000000</td>\n",
       "      <td>0.000000</td>\n",
       "      <td>1.000000</td>\n",
       "      <td>0.00000</td>\n",
       "      <td>0.000000</td>\n",
       "      <td>11.580000</td>\n",
       "      <td>0.000000</td>\n",
       "    </tr>\n",
       "    <tr>\n",
       "      <td>25%</td>\n",
       "      <td>2500.75000</td>\n",
       "      <td>1.562853e+07</td>\n",
       "      <td>584.000000</td>\n",
       "      <td>32.000000</td>\n",
       "      <td>2.000000</td>\n",
       "      <td>0.000000</td>\n",
       "      <td>1.000000</td>\n",
       "      <td>0.00000</td>\n",
       "      <td>0.000000</td>\n",
       "      <td>51002.110000</td>\n",
       "      <td>0.000000</td>\n",
       "    </tr>\n",
       "    <tr>\n",
       "      <td>50%</td>\n",
       "      <td>5000.50000</td>\n",
       "      <td>1.569074e+07</td>\n",
       "      <td>652.000000</td>\n",
       "      <td>37.000000</td>\n",
       "      <td>5.000000</td>\n",
       "      <td>97198.540000</td>\n",
       "      <td>1.000000</td>\n",
       "      <td>1.00000</td>\n",
       "      <td>1.000000</td>\n",
       "      <td>100193.915000</td>\n",
       "      <td>0.000000</td>\n",
       "    </tr>\n",
       "    <tr>\n",
       "      <td>75%</td>\n",
       "      <td>7500.25000</td>\n",
       "      <td>1.575323e+07</td>\n",
       "      <td>718.000000</td>\n",
       "      <td>44.000000</td>\n",
       "      <td>7.000000</td>\n",
       "      <td>127644.240000</td>\n",
       "      <td>2.000000</td>\n",
       "      <td>1.00000</td>\n",
       "      <td>1.000000</td>\n",
       "      <td>149388.247500</td>\n",
       "      <td>0.000000</td>\n",
       "    </tr>\n",
       "    <tr>\n",
       "      <td>max</td>\n",
       "      <td>10000.00000</td>\n",
       "      <td>1.581569e+07</td>\n",
       "      <td>850.000000</td>\n",
       "      <td>92.000000</td>\n",
       "      <td>10.000000</td>\n",
       "      <td>250898.090000</td>\n",
       "      <td>4.000000</td>\n",
       "      <td>1.00000</td>\n",
       "      <td>1.000000</td>\n",
       "      <td>199992.480000</td>\n",
       "      <td>1.000000</td>\n",
       "    </tr>\n",
       "  </tbody>\n",
       "</table>\n",
       "</div>"
      ],
      "text/plain": [
       "         RowNumber    CustomerId   CreditScore           Age       Tenure  \\\n",
       "count  10000.00000  1.000000e+04  10000.000000  10000.000000  9091.000000   \n",
       "mean    5000.50000  1.569094e+07    650.528800     38.921800     4.997690   \n",
       "std     2886.89568  7.193619e+04     96.653299     10.487806     2.894723   \n",
       "min        1.00000  1.556570e+07    350.000000     18.000000     0.000000   \n",
       "25%     2500.75000  1.562853e+07    584.000000     32.000000     2.000000   \n",
       "50%     5000.50000  1.569074e+07    652.000000     37.000000     5.000000   \n",
       "75%     7500.25000  1.575323e+07    718.000000     44.000000     7.000000   \n",
       "max    10000.00000  1.581569e+07    850.000000     92.000000    10.000000   \n",
       "\n",
       "             Balance  NumOfProducts    HasCrCard  IsActiveMember  \\\n",
       "count   10000.000000   10000.000000  10000.00000    10000.000000   \n",
       "mean    76485.889288       1.530200      0.70550        0.515100   \n",
       "std     62397.405202       0.581654      0.45584        0.499797   \n",
       "min         0.000000       1.000000      0.00000        0.000000   \n",
       "25%         0.000000       1.000000      0.00000        0.000000   \n",
       "50%     97198.540000       1.000000      1.00000        1.000000   \n",
       "75%    127644.240000       2.000000      1.00000        1.000000   \n",
       "max    250898.090000       4.000000      1.00000        1.000000   \n",
       "\n",
       "       EstimatedSalary        Exited  \n",
       "count     10000.000000  10000.000000  \n",
       "mean     100090.239881      0.203700  \n",
       "std       57510.492818      0.402769  \n",
       "min          11.580000      0.000000  \n",
       "25%       51002.110000      0.000000  \n",
       "50%      100193.915000      0.000000  \n",
       "75%      149388.247500      0.000000  \n",
       "max      199992.480000      1.000000  "
      ]
     },
     "execution_count": 3,
     "metadata": {},
     "output_type": "execute_result"
    }
   ],
   "source": [
    "df.describe()"
   ]
  },
  {
   "cell_type": "markdown",
   "metadata": {},
   "source": [
    "### Detected Problems\n",
    "\n",
    "\n",
    "1. Column names: lower case\n",
    "\n",
    "\n",
    "2. Gaps in `tenure` \n",
    "\n",
    "\n",
    "3. Check for duplicates\n",
    "\n",
    "\n",
    "4. Transformation of categorical features for the task of classification\n",
    "\n",
    "\n",
    "5. Split the data into samples before training\n",
    "\n",
    "\n",
    "6. Feature Extraction for Training\n",
    "\n",
    "\n",
    "7. Feature scaling"
   ]
  },
  {
   "cell_type": "markdown",
   "metadata": {},
   "source": [
    "#### Column names"
   ]
  },
  {
   "cell_type": "markdown",
   "metadata": {},
   "source": [
    "Let's bring all the columns of the dataframe to lowercase for ease of use and to prevent potential errors in the process"
   ]
  },
  {
   "cell_type": "code",
   "execution_count": 4,
   "metadata": {},
   "outputs": [
    {
     "data": {
      "text/plain": [
       "Index(['rownumber', 'customerid', 'surname', 'creditscore', 'geography',\n",
       "       'gender', 'age', 'tenure', 'balance', 'numofproducts', 'hascrcard',\n",
       "       'isactivemember', 'estimatedsalary', 'exited'],\n",
       "      dtype='object')"
      ]
     },
     "execution_count": 4,
     "metadata": {},
     "output_type": "execute_result"
    }
   ],
   "source": [
    "df.columns = [x.lower() for x in df.columns]\n",
    "df.columns"
   ]
  },
  {
   "cell_type": "markdown",
   "metadata": {},
   "source": [
    "#### Gaps in tenure"
   ]
  },
  {
   "cell_type": "code",
   "execution_count": 5,
   "metadata": {},
   "outputs": [
    {
     "data": {
      "text/plain": [
       "1.0     952\n",
       "2.0     950\n",
       "8.0     933\n",
       "3.0     928\n",
       "5.0     927\n",
       "7.0     925\n",
       "4.0     885\n",
       "9.0     882\n",
       "6.0     881\n",
       "10.0    446\n",
       "0.0     382\n",
       "Name: tenure, dtype: int64"
      ]
     },
     "execution_count": 5,
     "metadata": {},
     "output_type": "execute_result"
    }
   ],
   "source": [
    "df['tenure'].value_counts()"
   ]
  },
  {
   "cell_type": "code",
   "execution_count": 6,
   "metadata": {
    "scrolled": true
   },
   "outputs": [
    {
     "data": {
      "text/plain": [
       "909"
      ]
     },
     "execution_count": 6,
     "metadata": {},
     "output_type": "execute_result"
    }
   ],
   "source": [
    "df[df['tenure'].isnull()]['rownumber'].count()"
   ]
  },
  {
   "cell_type": "markdown",
   "metadata": {},
   "source": [
    "We are able to see that there are 909 missing values for `tenure`, and there are zero values as well. These gaps must have appeared because of a technical error. \n",
    "Most likely, not for all clients with zero customer service period, there was given the correct value. Therefore, we will fill in all the gaps in this field with 0."
   ]
  },
  {
   "cell_type": "code",
   "execution_count": 7,
   "metadata": {},
   "outputs": [
    {
     "name": "stdout",
     "output_type": "stream",
     "text": [
      "<class 'pandas.core.frame.DataFrame'>\n",
      "RangeIndex: 10000 entries, 0 to 9999\n",
      "Data columns (total 14 columns):\n",
      "rownumber          10000 non-null int64\n",
      "customerid         10000 non-null int64\n",
      "surname            10000 non-null object\n",
      "creditscore        10000 non-null int64\n",
      "geography          10000 non-null object\n",
      "gender             10000 non-null object\n",
      "age                10000 non-null int64\n",
      "tenure             10000 non-null float64\n",
      "balance            10000 non-null float64\n",
      "numofproducts      10000 non-null int64\n",
      "hascrcard          10000 non-null int64\n",
      "isactivemember     10000 non-null int64\n",
      "estimatedsalary    10000 non-null float64\n",
      "exited             10000 non-null int64\n",
      "dtypes: float64(3), int64(8), object(3)\n",
      "memory usage: 1.1+ MB\n"
     ]
    }
   ],
   "source": [
    "df['tenure'] = df['tenure'].fillna(0)\n",
    "\n",
    "df.info()"
   ]
  },
  {
   "cell_type": "markdown",
   "metadata": {},
   "source": [
    "#### Check for duplicates"
   ]
  },
  {
   "cell_type": "code",
   "execution_count": 8,
   "metadata": {},
   "outputs": [
    {
     "data": {
      "text/plain": [
       "0"
      ]
     },
     "execution_count": 8,
     "metadata": {},
     "output_type": "execute_result"
    }
   ],
   "source": [
    "df.duplicated().sum()"
   ]
  },
  {
   "cell_type": "markdown",
   "metadata": {},
   "source": [
    "#### Transformation of categorical features for the task of classification"
   ]
  },
  {
   "cell_type": "markdown",
   "metadata": {},
   "source": [
    "Since there are many categorical features in our data, based on which training and prediction will be carried out, we need to bring them into the right format to work correctly with them. \n",
    "\n",
    "In order to convert categorical features to numerical ones, we are going to use the **OHE** (**_One-Hot Encoding_**) technique"
   ]
  },
  {
   "cell_type": "code",
   "execution_count": 9,
   "metadata": {
    "scrolled": false
   },
   "outputs": [
    {
     "data": {
      "text/plain": [
       "France     5014\n",
       "Germany    2509\n",
       "Spain      2477\n",
       "Name: geography, dtype: int64"
      ]
     },
     "execution_count": 9,
     "metadata": {},
     "output_type": "execute_result"
    }
   ],
   "source": [
    "# But before that, I'd like to take a closer look at the geography field to make sure there aren't too many values,\n",
    "# so as not to create an uncountable number of dummy variables\n",
    "\n",
    "df['geography'].value_counts()"
   ]
  },
  {
   "cell_type": "markdown",
   "metadata": {},
   "source": [
    "There are only 3 countries - OHE will definitely suit our task.\n",
    "\n",
    "We should also take into account the fact that the specificity of this technique is to create dummy variables for all categorical features, therefore, in order to exclude the possibility of falling into the dummy trap, set the parameter **`drop_fisrt=True`**"
   ]
  },
  {
   "cell_type": "code",
   "execution_count": 10,
   "metadata": {},
   "outputs": [],
   "source": [
    "# OHE\n",
    "\n",
    "df_ohe = pd.get_dummies(df, columns=['geography','gender'], drop_first=True)"
   ]
  },
  {
   "cell_type": "code",
   "execution_count": 11,
   "metadata": {
    "scrolled": false
   },
   "outputs": [
    {
     "data": {
      "text/html": [
       "<div>\n",
       "<style scoped>\n",
       "    .dataframe tbody tr th:only-of-type {\n",
       "        vertical-align: middle;\n",
       "    }\n",
       "\n",
       "    .dataframe tbody tr th {\n",
       "        vertical-align: top;\n",
       "    }\n",
       "\n",
       "    .dataframe thead th {\n",
       "        text-align: right;\n",
       "    }\n",
       "</style>\n",
       "<table border=\"1\" class=\"dataframe\">\n",
       "  <thead>\n",
       "    <tr style=\"text-align: right;\">\n",
       "      <th></th>\n",
       "      <th>rownumber</th>\n",
       "      <th>customerid</th>\n",
       "      <th>surname</th>\n",
       "      <th>creditscore</th>\n",
       "      <th>age</th>\n",
       "      <th>tenure</th>\n",
       "      <th>balance</th>\n",
       "      <th>numofproducts</th>\n",
       "      <th>hascrcard</th>\n",
       "      <th>isactivemember</th>\n",
       "      <th>estimatedsalary</th>\n",
       "      <th>exited</th>\n",
       "      <th>geography_Germany</th>\n",
       "      <th>geography_Spain</th>\n",
       "      <th>gender_Male</th>\n",
       "    </tr>\n",
       "  </thead>\n",
       "  <tbody>\n",
       "    <tr>\n",
       "      <td>0</td>\n",
       "      <td>1</td>\n",
       "      <td>15634602</td>\n",
       "      <td>Hargrave</td>\n",
       "      <td>619</td>\n",
       "      <td>42</td>\n",
       "      <td>2.0</td>\n",
       "      <td>0.00</td>\n",
       "      <td>1</td>\n",
       "      <td>1</td>\n",
       "      <td>1</td>\n",
       "      <td>101348.88</td>\n",
       "      <td>1</td>\n",
       "      <td>0</td>\n",
       "      <td>0</td>\n",
       "      <td>0</td>\n",
       "    </tr>\n",
       "    <tr>\n",
       "      <td>1</td>\n",
       "      <td>2</td>\n",
       "      <td>15647311</td>\n",
       "      <td>Hill</td>\n",
       "      <td>608</td>\n",
       "      <td>41</td>\n",
       "      <td>1.0</td>\n",
       "      <td>83807.86</td>\n",
       "      <td>1</td>\n",
       "      <td>0</td>\n",
       "      <td>1</td>\n",
       "      <td>112542.58</td>\n",
       "      <td>0</td>\n",
       "      <td>0</td>\n",
       "      <td>1</td>\n",
       "      <td>0</td>\n",
       "    </tr>\n",
       "    <tr>\n",
       "      <td>2</td>\n",
       "      <td>3</td>\n",
       "      <td>15619304</td>\n",
       "      <td>Onio</td>\n",
       "      <td>502</td>\n",
       "      <td>42</td>\n",
       "      <td>8.0</td>\n",
       "      <td>159660.80</td>\n",
       "      <td>3</td>\n",
       "      <td>1</td>\n",
       "      <td>0</td>\n",
       "      <td>113931.57</td>\n",
       "      <td>1</td>\n",
       "      <td>0</td>\n",
       "      <td>0</td>\n",
       "      <td>0</td>\n",
       "    </tr>\n",
       "    <tr>\n",
       "      <td>3</td>\n",
       "      <td>4</td>\n",
       "      <td>15701354</td>\n",
       "      <td>Boni</td>\n",
       "      <td>699</td>\n",
       "      <td>39</td>\n",
       "      <td>1.0</td>\n",
       "      <td>0.00</td>\n",
       "      <td>2</td>\n",
       "      <td>0</td>\n",
       "      <td>0</td>\n",
       "      <td>93826.63</td>\n",
       "      <td>0</td>\n",
       "      <td>0</td>\n",
       "      <td>0</td>\n",
       "      <td>0</td>\n",
       "    </tr>\n",
       "    <tr>\n",
       "      <td>4</td>\n",
       "      <td>5</td>\n",
       "      <td>15737888</td>\n",
       "      <td>Mitchell</td>\n",
       "      <td>850</td>\n",
       "      <td>43</td>\n",
       "      <td>2.0</td>\n",
       "      <td>125510.82</td>\n",
       "      <td>1</td>\n",
       "      <td>1</td>\n",
       "      <td>1</td>\n",
       "      <td>79084.10</td>\n",
       "      <td>0</td>\n",
       "      <td>0</td>\n",
       "      <td>1</td>\n",
       "      <td>0</td>\n",
       "    </tr>\n",
       "  </tbody>\n",
       "</table>\n",
       "</div>"
      ],
      "text/plain": [
       "   rownumber  customerid   surname  creditscore  age  tenure    balance  \\\n",
       "0          1    15634602  Hargrave          619   42     2.0       0.00   \n",
       "1          2    15647311      Hill          608   41     1.0   83807.86   \n",
       "2          3    15619304      Onio          502   42     8.0  159660.80   \n",
       "3          4    15701354      Boni          699   39     1.0       0.00   \n",
       "4          5    15737888  Mitchell          850   43     2.0  125510.82   \n",
       "\n",
       "   numofproducts  hascrcard  isactivemember  estimatedsalary  exited  \\\n",
       "0              1          1               1        101348.88       1   \n",
       "1              1          0               1        112542.58       0   \n",
       "2              3          1               0        113931.57       1   \n",
       "3              2          0               0         93826.63       0   \n",
       "4              1          1               1         79084.10       0   \n",
       "\n",
       "   geography_Germany  geography_Spain  gender_Male  \n",
       "0                  0                0            0  \n",
       "1                  0                1            0  \n",
       "2                  0                0            0  \n",
       "3                  0                0            0  \n",
       "4                  0                1            0  "
      ]
     },
     "execution_count": 11,
     "metadata": {},
     "output_type": "execute_result"
    }
   ],
   "source": [
    "pd.set_option('display.max_columns', None)\n",
    "\n",
    "df_ohe.head(5)"
   ]
  },
  {
   "cell_type": "markdown",
   "metadata": {},
   "source": [
    "#### Samples formation"
   ]
  },
  {
   "cell_type": "markdown",
   "metadata": {},
   "source": [
    "There is no prepared separate test set. This means that the data needs to be divided into **three parts**: training, validation and test. The sizes of the test and validation sets are usually equal. Let's split the initial data in the ratio **3:1:1**"
   ]
  },
  {
   "cell_type": "code",
   "execution_count": 12,
   "metadata": {},
   "outputs": [],
   "source": [
    "# Let's first divide our initial dataset into a training sample [df_train] \n",
    "# and a sample allocated for test and validation [df2]\n",
    "\n",
    "from sklearn.model_selection import train_test_split\n",
    "\n",
    "df_train, df2 = train_test_split(df_ohe, test_size=0.4, random_state=12345)"
   ]
  },
  {
   "cell_type": "code",
   "execution_count": 13,
   "metadata": {},
   "outputs": [],
   "source": [
    "# Now divide the dataset allocated for test and validation [df2],\n",
    "# validation [df_valid] and test [df_test] samples\n",
    "\n",
    "df_test, df_valid = train_test_split(df2, test_size=0.5, random_state=12345)"
   ]
  },
  {
   "cell_type": "code",
   "execution_count": 14,
   "metadata": {},
   "outputs": [
    {
     "name": "stdout",
     "output_type": "stream",
     "text": [
      "Обучающая выборка : 0.6\n",
      "Тестовая выборка : 0.2\n",
      "Валидационнная выборка : 0.2\n"
     ]
    }
   ],
   "source": [
    "# Check the ratio\n",
    "\n",
    "dataframes = [df_train, df_test, df_valid]\n",
    "df_train.name = 'Обучающая выборка'\n",
    "df_test.name = 'Тестовая выборка'\n",
    "df_valid.name = 'Валидационнная выборка'\n",
    "\n",
    "for d in dataframes:\n",
    "    print(d.name, ': {:2}'.format(round(d.shape[0] / df.shape[0], 2)))"
   ]
  },
  {
   "cell_type": "markdown",
   "metadata": {},
   "source": [
    "#### Feature Extraction for Training"
   ]
  },
  {
   "cell_type": "code",
   "execution_count": 15,
   "metadata": {},
   "outputs": [],
   "source": [
    "# Training\n",
    "features_train = df_train.drop(['exited', 'rownumber', 'customerid', 'surname'], axis=1)\n",
    "target_train = df_train['exited']\n",
    "\n",
    "# Test\n",
    "features_test = df_test.drop(['exited', 'rownumber', 'customerid', 'surname'], axis=1)\n",
    "target_test = df_test['exited']\n",
    "\n",
    "# Validation\n",
    "features_valid = df_valid.drop(['exited', 'rownumber', 'customerid', 'surname'], axis=1)\n",
    "target_valid = df_valid['exited']"
   ]
  },
  {
   "cell_type": "markdown",
   "metadata": {},
   "source": [
    "#### Feature scaling"
   ]
  },
  {
   "cell_type": "markdown",
   "metadata": {},
   "source": [
    "Obviously, the dimensions of such fields as `Age`, `balance`, `numofproducts` and so on. will be very different. Without feature scaling, we might run into a problem - algorithms might decide that higher values might have more effect than smaller values - hence deciding that some features are even more important than others. Although in reality this is not the case at all. Feature scaling can help to avoid this problem.\n",
    "\n",
    "Let's use standardization."
   ]
  },
  {
   "cell_type": "code",
   "execution_count": 16,
   "metadata": {},
   "outputs": [],
   "source": [
    "from sklearn.preprocessing import StandardScaler\n",
    "\n",
    "numeric = ['creditscore', 'age', 'tenure', 'balance', 'numofproducts', 'estimatedsalary']\n",
    "\n",
    "scaler = StandardScaler()\n",
    "scaler.fit(features_train[numeric])\n",
    "\n",
    "features_train[numeric] = scaler.transform(features_train[numeric])\n",
    "features_valid[numeric] = scaler.transform(features_valid[numeric])\n",
    "features_test[numeric] = scaler.transform(features_test[numeric])"
   ]
  },
  {
   "cell_type": "markdown",
   "metadata": {},
   "source": [
    "## Model Training"
   ]
  },
  {
   "cell_type": "markdown",
   "metadata": {},
   "source": [
    "First, let's examine the class frequency in our data."
   ]
  },
  {
   "cell_type": "code",
   "execution_count": 17,
   "metadata": {
    "scrolled": false
   },
   "outputs": [
    {
     "data": {
      "text/plain": [
       "0    0.7963\n",
       "1    0.2037\n",
       "Name: exited, dtype: float64"
      ]
     },
     "metadata": {},
     "output_type": "display_data"
    },
    {
     "data": {
      "text/plain": [
       "<matplotlib.axes._subplots.AxesSubplot at 0x7efd600f2790>"
      ]
     },
     "execution_count": 17,
     "metadata": {},
     "output_type": "execute_result"
    },
    {
     "data": {
      "image/png": "[encoded data removed]",
      "text/plain": [
       "<Figure size 432x288 with 1 Axes>"
      ]
     },
     "metadata": {
      "needs_background": "light"
     },
     "output_type": "display_data"
    }
   ],
   "source": [
    "class_frequency = df_ohe['exited'].value_counts(normalize=True)\n",
    "display(class_frequency)\n",
    "\n",
    "class_frequency.plot(kind='bar')"
   ]
  },
  {
   "cell_type": "markdown",
   "metadata": {},
   "source": [
    "Thus, we can observe a sufficient significant imbalance of classes - negative values exceed positive ones by almost 4 times. Class ratio is far from ideal 1:1"
   ]
  },
  {
   "cell_type": "markdown",
   "metadata": {},
   "source": [
    "We will first study the models without taking into account this imbalance, then we will correct this problem and compare the results"
   ]
  },
  {
   "cell_type": "markdown",
   "metadata": {},
   "source": [
    "### DecisionTreeClassifier"
   ]
  },
  {
   "cell_type": "markdown",
   "metadata": {},
   "source": [
    "To select the best decision tree model - we can affect one of the main parameters - the maximum depth. First, one should select the whole desired area, and then select the best parameter in the best one."
   ]
  },
  {
   "cell_type": "code",
   "execution_count": 18,
   "metadata": {
    "scrolled": true
   },
   "outputs": [
    {
     "name": "stdout",
     "output_type": "stream",
     "text": [
      "F1-мера наилучшей модели на валидационной выборке: 0.5337423312883436\n",
      "Значение AUC-ROC для наилучшего результата F1-меры: 0.8394526219847661\n",
      "Глубина дерева: 6\n",
      "CPU times: user 818 ms, sys: 3.44 ms, total: 822 ms\n",
      "Wall time: 835 ms\n"
     ]
    }
   ],
   "source": [
    "%%time\n",
    "import warnings\n",
    "warnings.filterwarnings('ignore')\n",
    "\n",
    "from sklearn.tree import DecisionTreeClassifier\n",
    "from sklearn.metrics import f1_score\n",
    "from sklearn.metrics import roc_auc_score\n",
    "\n",
    "best_model = None\n",
    "best_depth = 0\n",
    "best_f1_tree = 0\n",
    "best_auc_tree = 0\n",
    "\n",
    "for depth in range(1, 101, 5): \n",
    "    tree_model = DecisionTreeClassifier(random_state=12345, max_depth=depth) \n",
    "    tree_model.fit(features_train, target_train) \n",
    "    \n",
    "    tree_predictions_valid = tree_model.predict(features_valid) \n",
    "    tree_probabilities_valid = tree_model.predict_proba(features_valid)\n",
    "    \n",
    "    tree_f1 = f1_score(target_valid, tree_predictions_valid)\n",
    "    tree_probabilities_one_valid = tree_probabilities_valid[:, 1]\n",
    "    tree_auc_roc = roc_auc_score(target_valid, tree_probabilities_one_valid)\n",
    "    \n",
    "    if tree_f1 > best_f1_tree:\n",
    "        best_model = tree_model\n",
    "        best_depth = depth\n",
    "        best_f1_tree = tree_f1\n",
    "        best_auc_tree = tree_auc_roc\n",
    "        \n",
    "print('F1-мера наилучшей модели на валидационной выборке:', best_f1_tree) \n",
    "print('Значение AUC-ROC для наилучшего результата F1-меры:', best_auc_tree)\n",
    "print('Глубина дерева:', best_depth) "
   ]
  },
  {
   "cell_type": "markdown",
   "metadata": {},
   "source": [
    "Therefore, now we choose the best parameter on the 2nd five"
   ]
  },
  {
   "cell_type": "code",
   "execution_count": 19,
   "metadata": {
    "scrolled": false
   },
   "outputs": [
    {
     "name": "stdout",
     "output_type": "stream",
     "text": [
      "F1-мера наилучшей модели на валидационной выборке: 0.53781512605042\n",
      "Значение AUC-ROC для наилучшего результата F1-меры: 0.7843565377598487\n",
      "Глубина дерева: 9\n",
      "CPU times: user 149 ms, sys: 3.81 ms, total: 153 ms\n",
      "Wall time: 166 ms\n"
     ]
    }
   ],
   "source": [
    "%%time\n",
    "\n",
    "best_model = None\n",
    "best_depth = 0\n",
    "best_f1_tree = 0\n",
    "best_auc_tree = 0\n",
    "\n",
    "for depth in range(6, 11): \n",
    "    tree_model = DecisionTreeClassifier(random_state=12345, max_depth=depth) \n",
    "    tree_model.fit(features_train, target_train) \n",
    "    \n",
    "    tree_predictions_valid = tree_model.predict(features_valid) \n",
    "    tree_probabilities_valid = tree_model.predict_proba(features_valid)\n",
    "    \n",
    "    tree_f1 = f1_score(target_valid, tree_predictions_valid)\n",
    "    tree_probabilities_one_valid = tree_probabilities_valid[:, 1]\n",
    "    tree_auc_roc = roc_auc_score(target_valid, tree_probabilities_one_valid)\n",
    "    \n",
    "    if tree_f1 > best_f1_tree:\n",
    "        best_model = tree_model\n",
    "        best_depth = depth\n",
    "        best_f1_tree = tree_f1\n",
    "        best_auc_tree = tree_auc_roc\n",
    "        \n",
    "print('F1-мера наилучшей модели на валидационной выборке:', best_f1_tree) \n",
    "print('Значение AUC-ROC для наилучшего результата F1-меры:', best_auc_tree)\n",
    "print('Глубина дерева:', best_depth) "
   ]
  },
  {
   "cell_type": "markdown",
   "metadata": {},
   "source": [
    "By examining the first selected model and based on the results obtained for the mainland **F1-score**, we can say that the model performs best when the hyperparameter **max_depth = 9** is set."
   ]
  },
  {
   "cell_type": "markdown",
   "metadata": {},
   "source": [
    "### RandomForestClassifier"
   ]
  },
  {
   "cell_type": "code",
   "execution_count": 20,
   "metadata": {
    "scrolled": true
   },
   "outputs": [
    {
     "name": "stdout",
     "output_type": "stream",
     "text": [
      "F1-мера наилучшей модели на валидационной выборке: 0.5508982035928144\n",
      "Значение AUC-ROC для наилучшего результата F1-меры: 0.8476316613973627\n",
      "Количество деревьев: 51\n",
      "Максимальная глубина: 31\n",
      "CPU times: user 41.8 s, sys: 141 ms, total: 41.9 s\n",
      "Wall time: 42 s\n"
     ]
    }
   ],
   "source": [
    "%%time\n",
    "\n",
    "from sklearn.ensemble import RandomForestClassifier\n",
    "\n",
    "best_model = None\n",
    "best_est = 0\n",
    "best_depth = 0\n",
    "best_f1_forest = 0\n",
    "best_auc_forest = 0\n",
    "\n",
    "for est in range(1, 101, 10):\n",
    "    for depth in range (1, 101, 10):\n",
    "        forest_model = RandomForestClassifier(random_state=12345, n_estimators=est, max_depth=depth) \n",
    "        forest_model.fit(features_train, target_train) \n",
    "        \n",
    "        forest_predictions_valid = forest_model.predict(features_valid)\n",
    "        forest_probabilities_valid = forest_model.predict_proba(features_valid)\n",
    "        \n",
    "        forest_f1 = f1_score(target_valid, forest_predictions_valid)\n",
    "        forest_probabilities_one_valid = forest_probabilities_valid[:, 1]\n",
    "        forest_auc_roc = roc_auc_score(target_valid, forest_probabilities_one_valid)\n",
    "    \n",
    "        if forest_f1 > best_f1_forest:\n",
    "            best_model = forest_model\n",
    "            best_f1_forest = forest_f1\n",
    "            best_est = est\n",
    "            best_depth = depth\n",
    "            best_auc_forest = forest_auc_roc\n",
    "\n",
    "print(\"F1-мера наилучшей модели на валидационной выборке:\", best_f1_forest)\n",
    "print('Значение AUC-ROC для наилучшего результата F1-меры:', best_auc_forest)\n",
    "print('Количество деревьев:', best_est)\n",
    "print('Максимальная глубина:', best_depth)"
   ]
  },
  {
   "cell_type": "markdown",
   "metadata": {},
   "source": [
    "Thus, we conclude that the optimal number of trees is in the interval [51;60], while the optimal depth value lies in [31;40]. Let's choose the best values on the intervals."
   ]
  },
  {
   "cell_type": "code",
   "execution_count": 21,
   "metadata": {},
   "outputs": [
    {
     "name": "stdout",
     "output_type": "stream",
     "text": [
      "F1-мера наилучшей модели на валидационной выборке: 0.5568862275449102\n",
      "Значение AUC-ROC для наилучшего результата F1-меры: 0.8480251727327375\n",
      "Количество деревьев: 55\n",
      "Максимальная глубина: 31\n",
      "CPU times: user 54.8 s, sys: 72.1 ms, total: 54.8 s\n",
      "Wall time: 54.9 s\n"
     ]
    }
   ],
   "source": [
    "%%time\n",
    "\n",
    "from sklearn.ensemble import RandomForestClassifier\n",
    "\n",
    "best_model = None\n",
    "best_est = 0\n",
    "best_depth = 0\n",
    "best_f1_forest = 0\n",
    "best_auc_forest = 0\n",
    "\n",
    "for est in range(51, 61):\n",
    "    for depth in range(31, 41):\n",
    "        forest_model = RandomForestClassifier(random_state=12345, n_estimators=est, max_depth=depth) \n",
    "        forest_model.fit(features_train, target_train) \n",
    "        \n",
    "        forest_predictions_valid = forest_model.predict(features_valid)\n",
    "        forest_probabilities_valid = forest_model.predict_proba(features_valid)\n",
    "        \n",
    "        forest_f1 = f1_score(target_valid, forest_predictions_valid)\n",
    "        forest_probabilities_one_valid = forest_probabilities_valid[:, 1]\n",
    "        forest_auc_roc = roc_auc_score(target_valid, forest_probabilities_one_valid)\n",
    "    \n",
    "        if forest_f1 > best_f1_forest:\n",
    "            best_model = forest_model\n",
    "            best_f1_forest = forest_f1\n",
    "            best_est = est\n",
    "            best_depth = depth\n",
    "            best_auc_forest = forest_auc_roc\n",
    "\n",
    "print(\"F1-мера наилучшей модели на валидационной выборке:\", best_f1_forest)\n",
    "print('Значение AUC-ROC для наилучшего результата F1-меры:', best_auc_forest)\n",
    "print('Количество деревьев:', best_est)\n",
    "print('Максимальная глубина:', best_depth)"
   ]
  },
  {
   "cell_type": "markdown",
   "metadata": {},
   "source": [
    "The Random Forest model showed the best result of the F1-measure when applying the following parameters:\n",
    "\n",
    "- Number of trees: **55**\n",
    "\n",
    "\n",
    "- Maximum tree depth: **31**"
   ]
  },
  {
   "cell_type": "markdown",
   "metadata": {},
   "source": [
    "### LogisticRegression"
   ]
  },
  {
   "cell_type": "code",
   "execution_count": 22,
   "metadata": {
    "scrolled": true
   },
   "outputs": [
    {
     "name": "stdout",
     "output_type": "stream",
     "text": [
      "F1-мера наилучшей модели на валидационной выборке: 0.2743055555555555\n",
      "Значение AUC-ROC для наилучшего результата F1-меры: 0.738656005132887\n",
      "CPU times: user 54.4 ms, sys: 44 ms, total: 98.4 ms\n",
      "Wall time: 48 ms\n"
     ]
    }
   ],
   "source": [
    "%%time\n",
    "\n",
    "from sklearn.linear_model import LogisticRegression\n",
    "\n",
    "logit_model = LogisticRegression(random_state=12345)\n",
    "logit_model.fit(features_train, target_train) \n",
    "\n",
    "logit_predictions_valid = logit_model.predict(features_valid)\n",
    "logit_probabilities_valid = logit_model.predict_proba(features_valid)\n",
    "        \n",
    "logit_f1 = f1_score(target_valid, logit_predictions_valid)\n",
    "logit_probabilities_one_valid = logit_probabilities_valid[:, 1]\n",
    "logit_auc_roc = roc_auc_score(target_valid, logit_probabilities_one_valid)\n",
    "\n",
    "print(\"F1-мера наилучшей модели на валидационной выборке:\", logit_f1)\n",
    "print('Значение AUC-ROC для наилучшего результата F1-меры:', logit_auc_roc)"
   ]
  },
  {
   "cell_type": "code",
   "execution_count": 23,
   "metadata": {
    "scrolled": true
   },
   "outputs": [
    {
     "data": {
      "text/html": [
       "<div>\n",
       "<style scoped>\n",
       "    .dataframe tbody tr th:only-of-type {\n",
       "        vertical-align: middle;\n",
       "    }\n",
       "\n",
       "    .dataframe tbody tr th {\n",
       "        vertical-align: top;\n",
       "    }\n",
       "\n",
       "    .dataframe thead th {\n",
       "        text-align: right;\n",
       "    }\n",
       "</style>\n",
       "<table border=\"1\" class=\"dataframe\">\n",
       "  <thead>\n",
       "    <tr style=\"text-align: right;\">\n",
       "      <th></th>\n",
       "      <th>Решающее дерево</th>\n",
       "      <th>Случайный лес</th>\n",
       "      <th>Логистическая регрессия</th>\n",
       "    </tr>\n",
       "  </thead>\n",
       "  <tbody>\n",
       "    <tr>\n",
       "      <td>F1-score</td>\n",
       "      <td>0.537815</td>\n",
       "      <td>0.556886</td>\n",
       "      <td>0.274306</td>\n",
       "    </tr>\n",
       "    <tr>\n",
       "      <td>AUC-ROC</td>\n",
       "      <td>0.784357</td>\n",
       "      <td>0.848025</td>\n",
       "      <td>0.738656</td>\n",
       "    </tr>\n",
       "  </tbody>\n",
       "</table>\n",
       "</div>"
      ],
      "text/plain": [
       "          Решающее дерево  Случайный лес  Логистическая регрессия\n",
       "F1-score         0.537815       0.556886                 0.274306\n",
       "AUC-ROC          0.784357       0.848025                 0.738656"
      ]
     },
     "execution_count": 23,
     "metadata": {},
     "output_type": "execute_result"
    }
   ],
   "source": [
    "best_results_prior = [[best_f1_tree, best_f1_forest, logit_f1], [best_auc_tree, best_auc_forest, logit_auc_roc]]\n",
    "models = ['Решающее дерево', 'Случайный лес', 'Логистическая регрессия']\n",
    "\n",
    "research_result = pd.DataFrame(data = best_results_prior, columns = models)\n",
    "research_result.rename({0: 'F1-score', 1: 'AUC-ROC'}, axis='index')"
   ]
  },
  {
   "cell_type": "markdown",
   "metadata": {},
   "source": [
    "Thus, the **Random Forest** model with the number of trees = 55 and the maximum tree depth = 31 won has shown the best result for predicting customer churn on the validation sample. **The results were obtained without taking into account the existing class imbalance**."
   ]
  },
  {
   "cell_type": "markdown",
   "metadata": {},
   "source": [
    "## Solution for Imbalance"
   ]
  },
  {
   "cell_type": "markdown",
   "metadata": {},
   "source": [
    "According to our results, the random forest turned out to be the best model. Therefore, we will take the forest further in order to select new parameters, but now taking into account the imbalance of classes.\n",
    "We will use new parameters and improve the quality of our model."
   ]
  },
  {
   "cell_type": "markdown",
   "metadata": {},
   "source": [
    "### Balancing Classes with Parameters"
   ]
  },
  {
   "cell_type": "markdown",
   "metadata": {},
   "source": [
    "Let's give objects of a rare class bigger weight."
   ]
  },
  {
   "cell_type": "code",
   "execution_count": 24,
   "metadata": {
    "scrolled": true
   },
   "outputs": [
    {
     "name": "stdout",
     "output_type": "stream",
     "text": [
      "F1-мера наилучшей модели на валидационной выборке: 0.604890604890605\n",
      "Значение AUC-ROC для наилучшего результата F1-меры: 0.8545492159005563\n",
      "Количество деревьев: 61\n",
      "Максимальная глубина: 11\n",
      "CPU times: user 41.2 s, sys: 348 ms, total: 41.5 s\n",
      "Wall time: 41.7 s\n"
     ]
    }
   ],
   "source": [
    "%%time\n",
    "\n",
    "best_model_wh = None\n",
    "best_est_wh = 0\n",
    "best_depth_wh = 0\n",
    "best_f1_forest_wh = 0\n",
    "best_auc_forest_wh = 0\n",
    "\n",
    "for est in range(1, 101, 10):\n",
    "    for depth in range (1, 101, 10):\n",
    "        forest_model_wh = RandomForestClassifier(random_state=12345, n_estimators=est, max_depth=depth,\\\n",
    "                                              class_weight='balanced') \n",
    "        forest_model_wh.fit(features_train, target_train) \n",
    "        \n",
    "        forest_predictions_valid_wh = forest_model_wh.predict(features_valid)\n",
    "        forest_probabilities_valid_wh = forest_model_wh.predict_proba(features_valid)\n",
    "        \n",
    "        forest_f1_wh = f1_score(target_valid, forest_predictions_valid_wh)\n",
    "        forest_probabilities_one_valid_wh = forest_probabilities_valid_wh[:, 1]\n",
    "        forest_auc_roc_wh = roc_auc_score(target_valid, forest_probabilities_one_valid_wh)\n",
    "    \n",
    "        if forest_f1_wh > best_f1_forest_wh:\n",
    "            best_model_wh = forest_model_wh\n",
    "            best_f1_forest_wh = forest_f1_wh\n",
    "            best_est_wh = est\n",
    "            best_depth_wh = depth\n",
    "            best_auc_forest_wh = forest_auc_roc_wh\n",
    "\n",
    "print(\"F1-мера наилучшей модели на валидационной выборке:\", best_f1_forest_wh)\n",
    "print('Значение AUC-ROC для наилучшего результата F1-меры:', best_auc_forest_wh)\n",
    "print('Количество деревьев:', best_est_wh)\n",
    "print('Максимальная глубина:', best_depth_wh)"
   ]
  },
  {
   "cell_type": "markdown",
   "metadata": {},
   "source": [
    "The optimal value of the number of trees lies on the interval [61;70], the optimal maximum tree depth lies on the interval [11;20]. Let's choose the best values."
   ]
  },
  {
   "cell_type": "code",
   "execution_count": 25,
   "metadata": {},
   "outputs": [
    {
     "name": "stdout",
     "output_type": "stream",
     "text": [
      "F1-мера наилучшей модели на валидационной выборке: 0.604890604890605\n",
      "Значение AUC-ROC для наилучшего результата F1-меры: 0.8545492159005563\n",
      "Количество деревьев: 61\n",
      "Максимальная глубина: 11\n",
      "CPU times: user 1min 1s, sys: 99.9 ms, total: 1min 1s\n",
      "Wall time: 1min 1s\n"
     ]
    }
   ],
   "source": [
    "%%time\n",
    "\n",
    "best_model_wh = None\n",
    "best_est_wh = 0\n",
    "best_depth_wh = 0\n",
    "best_f1_forest_wh = 0\n",
    "best_auc_forest_wh = 0\n",
    "\n",
    "for est in range(61, 71):\n",
    "    for depth in range (11, 21):\n",
    "        forest_model_wh = RandomForestClassifier(random_state=12345, n_estimators=est, max_depth=depth,\\\n",
    "                                              class_weight='balanced') \n",
    "        forest_model_wh.fit(features_train, target_train) \n",
    "        \n",
    "        forest_predictions_valid_wh = forest_model_wh.predict(features_valid)\n",
    "        forest_probabilities_valid_wh = forest_model_wh.predict_proba(features_valid)\n",
    "        \n",
    "        forest_f1_wh = f1_score(target_valid, forest_predictions_valid_wh)\n",
    "        forest_probabilities_one_valid_wh = forest_probabilities_valid_wh[:, 1]\n",
    "        forest_auc_roc_wh = roc_auc_score(target_valid, forest_probabilities_one_valid_wh)\n",
    "    \n",
    "        if forest_f1_wh > best_f1_forest_wh:\n",
    "            best_model_wh = forest_model_wh\n",
    "            best_f1_forest_wh = forest_f1_wh\n",
    "            best_est_wh = est\n",
    "            best_depth_wh = depth\n",
    "            best_auc_forest_wh = forest_auc_roc_wh\n",
    "\n",
    "print(\"F1-мера наилучшей модели на валидационной выборке:\", best_f1_forest_wh)\n",
    "print('Значение AUC-ROC для наилучшего результата F1-меры:', best_auc_forest_wh)\n",
    "print('Количество деревьев:', best_est_wh)\n",
    "print('Максимальная глубина:', best_depth_wh)"
   ]
  },
  {
   "cell_type": "markdown",
   "metadata": {},
   "source": [
    "After taking into account the class imbalance, the Random Forest model showed the best result of the F1-measure when applying the parameters:\n",
    "\n",
    "- Number of trees: **61**\n",
    "\n",
    "\n",
    "- Maximum tree depth: **11**\n",
    "\n",
    "\n",
    "AUC-ROC also increased"
   ]
  },
  {
   "cell_type": "markdown",
   "metadata": {},
   "source": [
    "### Upsampling"
   ]
  },
  {
   "cell_type": "markdown",
   "metadata": {},
   "source": [
    "Let's also try out an additional way to deal with class imbalance called **Upsampling** - perhaps this way can lead us to even better f1-score and auc-roc score.\n",
    "\n",
    "At this stage, we will try 2 things at once - **upsampling** and specify the parameter **class_weight='balanced'**"
   ]
  },
  {
   "cell_type": "code",
   "execution_count": 26,
   "metadata": {},
   "outputs": [
    {
     "name": "stdout",
     "output_type": "stream",
     "text": [
      "Распределение перед Upsampling\n",
      "0    4804\n",
      "1    1196\n",
      "Name: exited, dtype: int64\n",
      "\n",
      "Распределение после Upsampling\n",
      "0    4804\n",
      "1    2392\n",
      "Name: exited, dtype: int64\n"
     ]
    }
   ],
   "source": [
    "# Upsampling \n",
    "\n",
    "from sklearn.utils import shuffle\n",
    "\n",
    "def upsample(features, target, repeat):\n",
    "    features_zeros = features[target == 0]\n",
    "    features_ones = features[target == 1]\n",
    "    target_zeros = target[target == 0]\n",
    "    target_ones = target[target == 1]\n",
    "\n",
    "    features_upsampled = pd.concat([features_zeros] + [features_ones] * repeat)\n",
    "    target_upsampled = pd.concat([target_zeros] + [target_ones] * repeat)\n",
    "    \n",
    "    features_upsampled, target_upsampled = shuffle(\n",
    "        features_upsampled, target_upsampled, random_state=12345)\n",
    "    \n",
    "    return features_upsampled, target_upsampled\n",
    "\n",
    "features_upsampled, target_upsampled = upsample(features_train, target_train, 2)\n",
    "\n",
    "print('Распределение перед Upsampling')\n",
    "print(target_train.value_counts())\n",
    "print('')\n",
    "print('Распределение после Upsampling')\n",
    "print(target_upsampled.value_counts())"
   ]
  },
  {
   "cell_type": "code",
   "execution_count": 27,
   "metadata": {
    "scrolled": false
   },
   "outputs": [
    {
     "name": "stdout",
     "output_type": "stream",
     "text": [
      "F1-мера наилучшей модели на валидационной выборке: 0.6180555555555557\n",
      "Значение AUC-ROC для наилучшего результата F1-меры: 0.8555123817404744\n",
      "Количество деревьев: 31\n",
      "Максимальная глубина: 11\n",
      "CPU times: user 48.1 s, sys: 124 ms, total: 48.2 s\n",
      "Wall time: 48.4 s\n"
     ]
    }
   ],
   "source": [
    "%%time\n",
    "\n",
    "best_model_up = None\n",
    "best_est_up = 0\n",
    "best_depth_up = 0\n",
    "best_f1_forest_up = 0\n",
    "best_auc_forest_up = 0\n",
    "\n",
    "for est in range(1, 101, 10):\n",
    "    for depth in range (1, 101, 10):\n",
    "        forest_model_up = RandomForestClassifier(random_state=12345, n_estimators=est, max_depth=depth,\\\n",
    "                                                 class_weight='balanced') \n",
    "        forest_model_up.fit(features_upsampled, target_upsampled) \n",
    "        \n",
    "        forest_predictions_valid_up = forest_model_up.predict(features_valid)\n",
    "        forest_probabilities_valid_up = forest_model_up.predict_proba(features_valid)\n",
    "        \n",
    "        forest_f1_up = f1_score(target_valid, forest_predictions_valid_up)\n",
    "        forest_probabilities_one_valid_up = forest_probabilities_valid_up[:, 1]\n",
    "        forest_auc_roc_up = roc_auc_score(target_valid, forest_probabilities_one_valid_up)\n",
    "    \n",
    "        if forest_f1_up > best_f1_forest_up:\n",
    "            best_model_up = forest_model_up\n",
    "            best_f1_forest_up = forest_f1_up\n",
    "            best_est_up = est\n",
    "            best_depth_up = depth\n",
    "            best_auc_forest_up = forest_auc_roc_up\n",
    "\n",
    "print(\"F1-мера наилучшей модели на валидационной выборке:\", best_f1_forest_up)\n",
    "print('Значение AUC-ROC для наилучшего результата F1-меры:', best_auc_forest_up)\n",
    "print('Количество деревьев:', best_est_up)\n",
    "print('Максимальная глубина:', best_depth_up)"
   ]
  },
  {
   "cell_type": "markdown",
   "metadata": {},
   "source": [
    "Thus, we conclude that the optimal number of trees is in the interval [61;70], while the optimal depth value lies in [11;20]. Let's choose the best values on the intervals."
   ]
  },
  {
   "cell_type": "code",
   "execution_count": 28,
   "metadata": {
    "scrolled": true
   },
   "outputs": [
    {
     "name": "stdout",
     "output_type": "stream",
     "text": [
      "F1-мера наилучшей модели на валидационной выборке: 0.6191588785046729\n",
      "Значение AUC-ROC для наилучшего результата F1-меры: 0.8554471712906123\n",
      "Количество деревьев: 37\n",
      "Максимальная глубина: 11\n",
      "CPU times: user 39.4 s, sys: 51.9 ms, total: 39.4 s\n",
      "Wall time: 39.6 s\n"
     ]
    }
   ],
   "source": [
    "%%time\n",
    "\n",
    "best_model_up = None\n",
    "best_est_up = 0\n",
    "best_depth_up = 0\n",
    "best_f1_forest_up = 0\n",
    "best_auc_forest_up = 0\n",
    "\n",
    "for est in range(31, 41, 1):\n",
    "    for depth in range (11, 21, 1):\n",
    "        forest_model_up = RandomForestClassifier(random_state=12345, n_estimators=est, max_depth=depth,\\\n",
    "                                                 class_weight='balanced') \n",
    "        forest_model_up.fit(features_upsampled, target_upsampled) \n",
    "        \n",
    "        forest_predictions_valid_up = forest_model_up.predict(features_valid)\n",
    "        forest_probabilities_valid_up = forest_model_up.predict_proba(features_valid)\n",
    "        \n",
    "        forest_f1_up = f1_score(target_valid, forest_predictions_valid_up)\n",
    "        forest_probabilities_one_valid_up = forest_probabilities_valid_up[:, 1]\n",
    "        forest_auc_roc_up = roc_auc_score(target_valid, forest_probabilities_one_valid_up)\n",
    "    \n",
    "        if forest_f1_up > best_f1_forest_up:\n",
    "            best_model_up = forest_model_up\n",
    "            best_f1_forest_up = forest_f1_up\n",
    "            best_est_up = est\n",
    "            best_depth_up = depth\n",
    "            best_auc_forest_up = forest_auc_roc_up\n",
    "\n",
    "print(\"F1-мера наилучшей модели на валидационной выборке:\", best_f1_forest_up)\n",
    "print('Значение AUC-ROC для наилучшего результата F1-меры:', best_auc_forest_up)\n",
    "print('Количество деревьев:', best_est_up)\n",
    "print('Максимальная глубина:', best_depth_up)"
   ]
  },
  {
   "cell_type": "markdown",
   "metadata": {},
   "source": [
    "After taking into account the class imbalance using the **Upsampling** method, the Random Forest model showed the best result of the F1-measure when applying the parameters:\n",
    "\n",
    "- Number of trees: **37**\n",
    "\n",
    "\n",
    "- Maximum tree depth: **11**\n",
    "\n",
    "\n",
    "AUC-ROC also increased"
   ]
  },
  {
   "cell_type": "markdown",
   "metadata": {},
   "source": [
    "### Downsampling"
   ]
  },
  {
   "cell_type": "markdown",
   "metadata": {},
   "source": [
    "Let's also try out an additional way to deal with class imbalance called Downsampling - perhaps this way can lead us to even better f1-score and auc-roc score.\n",
    "\n",
    "At this stage, we will try 2 things at once - **downsampling** and specify the parameter **class_weight='balanced'**"
   ]
  },
  {
   "cell_type": "code",
   "execution_count": 29,
   "metadata": {},
   "outputs": [
    {
     "name": "stdout",
     "output_type": "stream",
     "text": [
      "Распределение перед Downsampling\n",
      "0    4804\n",
      "1    1196\n",
      "Name: exited, dtype: int64\n",
      "\n",
      "Распределение после Downsampling\n",
      "0    1201\n",
      "1    1196\n",
      "Name: exited, dtype: int64\n"
     ]
    }
   ],
   "source": [
    "# Downsampling\n",
    "\n",
    "def downsample(features, target, fraction):\n",
    "    features_zeros = features[target == 0]\n",
    "    features_ones = features[target == 1]\n",
    "    target_zeros = target[target == 0]\n",
    "    target_ones = target[target == 1]\n",
    "\n",
    "    features_downsampled = pd.concat(\n",
    "        [features_zeros.sample(frac=fraction, random_state=12345)] + [features_ones])\n",
    "    target_downsampled = pd.concat(\n",
    "        [target_zeros.sample(frac=fraction, random_state=12345)] + [target_ones])\n",
    "    \n",
    "    features_downsampled, target_downsampled = shuffle(\n",
    "        features_downsampled, target_downsampled, random_state=12345)\n",
    "    \n",
    "    return features_downsampled, target_downsampled\n",
    "\n",
    "features_downsampled, target_downsampled = downsample(features_train, target_train, 0.25)\n",
    "\n",
    "print('Распределение перед Downsampling')\n",
    "print(target_train.value_counts())\n",
    "print('')\n",
    "print('Распределение после Downsampling')\n",
    "print(target_downsampled.value_counts())"
   ]
  },
  {
   "cell_type": "code",
   "execution_count": 30,
   "metadata": {},
   "outputs": [
    {
     "name": "stdout",
     "output_type": "stream",
     "text": [
      "F1-мера наилучшей модели на валидационной выборке: 0.5962962962962962\n",
      "Значение AUC-ROC для наилучшего результата F1-меры: 0.8477778227505018\n",
      "Количество деревьев: 61\n",
      "Максимальная глубина: 11\n",
      "CPU times: user 23.4 s, sys: 116 ms, total: 23.5 s\n",
      "Wall time: 23.7 s\n"
     ]
    }
   ],
   "source": [
    "%%time\n",
    "\n",
    "best_model_do = None\n",
    "best_est_do = 0\n",
    "best_depth_do = 0\n",
    "best_f1_forest_do = 0\n",
    "best_auc_forest_do = 0\n",
    "\n",
    "for est in range(1, 101, 10):\n",
    "    for depth in range (1, 101, 10):\n",
    "        forest_model_do = RandomForestClassifier(random_state=12345, n_estimators=est, max_depth=depth,\\\n",
    "                                                 class_weight='balanced') \n",
    "        forest_model_do.fit(features_downsampled, target_downsampled) \n",
    "        \n",
    "        forest_predictions_valid_do = forest_model_do.predict(features_valid)\n",
    "        forest_probabilities_valid_do = forest_model_do.predict_proba(features_valid)\n",
    "        \n",
    "        forest_f1_do = f1_score(target_valid, forest_predictions_valid_do)\n",
    "        forest_probabilities_one_valid_do = forest_probabilities_valid_do[:, 1]\n",
    "        forest_auc_roc_do = roc_auc_score(target_valid, forest_probabilities_one_valid_do)\n",
    "    \n",
    "        if forest_f1_do > best_f1_forest_do:\n",
    "            best_model_do = forest_model_do\n",
    "            best_f1_forest_do = forest_f1_do\n",
    "            best_est_do = est\n",
    "            best_depth_do = depth\n",
    "            best_auc_forest_do = forest_auc_roc_do\n",
    "\n",
    "print(\"F1-мера наилучшей модели на валидационной выборке:\", best_f1_forest_do)\n",
    "print('Значение AUC-ROC для наилучшего результата F1-меры:', best_auc_forest_do)\n",
    "print('Количество деревьев:', best_est_do)\n",
    "print('Максимальная глубина:', best_depth_do)"
   ]
  },
  {
   "cell_type": "code",
   "execution_count": 31,
   "metadata": {
    "scrolled": true
   },
   "outputs": [
    {
     "name": "stdout",
     "output_type": "stream",
     "text": [
      "F1-мера наилучшей модели на валидационной выборке: 0.5968489341983317\n",
      "Значение AUC-ROC для наилучшего результата F1-меры: 0.8477838191137076\n",
      "Количество деревьев: 62\n",
      "Максимальная глубина: 11\n",
      "CPU times: user 33.5 s, sys: 124 ms, total: 33.7 s\n",
      "Wall time: 33.7 s\n"
     ]
    }
   ],
   "source": [
    "%%time\n",
    "\n",
    "best_model_do = None\n",
    "best_est_do = 0\n",
    "best_depth_do = 0\n",
    "best_f1_forest_do = 0\n",
    "best_auc_forest_do = 0\n",
    "\n",
    "for est in range(61, 71, 1):\n",
    "    for depth in range (11, 21, 1):\n",
    "        forest_model_do = RandomForestClassifier(random_state=12345, n_estimators=est, max_depth=depth,\\\n",
    "                                                 class_weight='balanced') \n",
    "        forest_model_do.fit(features_downsampled, target_downsampled) \n",
    "        \n",
    "        forest_predictions_valid_do = forest_model_do.predict(features_valid)\n",
    "        forest_probabilities_valid_do = forest_model_do.predict_proba(features_valid)\n",
    "        \n",
    "        forest_f1_do = f1_score(target_valid, forest_predictions_valid_do)\n",
    "        forest_probabilities_one_valid_do = forest_probabilities_valid_do[:, 1]\n",
    "        forest_auc_roc_do = roc_auc_score(target_valid, forest_probabilities_one_valid_do)\n",
    "    \n",
    "        if forest_f1_do > best_f1_forest_do:\n",
    "            best_model_do = forest_model_do\n",
    "            best_f1_forest_do = forest_f1_do\n",
    "            best_est_do = est\n",
    "            best_depth_do = depth\n",
    "            best_auc_forest_do = forest_auc_roc_do\n",
    "\n",
    "print(\"F1-мера наилучшей модели на валидационной выборке:\", best_f1_forest_do)\n",
    "print('Значение AUC-ROC для наилучшего результата F1-меры:', best_auc_forest_do)\n",
    "print('Количество деревьев:', best_est_do)\n",
    "print('Максимальная глубина:', best_depth_do)"
   ]
  },
  {
   "cell_type": "markdown",
   "metadata": {},
   "source": [
    "After taking into account the class imbalance using the **Downsampling** method, the Random Forest model showed the best result of the F1-measure when applying the parameters:\n",
    "\n",
    "- Number of trees: **62**\n",
    "\n",
    "\n",
    "- Maximum tree depth: **11**\n",
    "\n",
    "\n",
    "The AUC-ROC value approximately remained at the same level"
   ]
  },
  {
   "cell_type": "markdown",
   "metadata": {},
   "source": [
    "##  Model Analysis"
   ]
  },
  {
   "cell_type": "code",
   "execution_count": 32,
   "metadata": {
    "scrolled": true
   },
   "outputs": [
    {
     "name": "stdout",
     "output_type": "stream",
     "text": [
      "\u001b[1mРезультаты без учета дисбаланса классов:\u001b[0m\n",
      "F1-score: 0.5568862275449102\n",
      "AUC-ROC: 0.8480251727327375\n",
      "\n",
      "--------------------------------\n",
      "\n",
      "\u001b[1mРезультаты с учетом дисбаланса классов:\u001b[0m\n"
     ]
    },
    {
     "data": {
      "text/html": [
       "<div>\n",
       "<style scoped>\n",
       "    .dataframe tbody tr th:only-of-type {\n",
       "        vertical-align: middle;\n",
       "    }\n",
       "\n",
       "    .dataframe tbody tr th {\n",
       "        vertical-align: top;\n",
       "    }\n",
       "\n",
       "    .dataframe thead th {\n",
       "        text-align: right;\n",
       "    }\n",
       "</style>\n",
       "<table border=\"1\" class=\"dataframe\">\n",
       "  <thead>\n",
       "    <tr style=\"text-align: right;\">\n",
       "      <th></th>\n",
       "      <th>Изменение параметра</th>\n",
       "      <th>Upsampling</th>\n",
       "      <th>Downsampling</th>\n",
       "    </tr>\n",
       "  </thead>\n",
       "  <tbody>\n",
       "    <tr>\n",
       "      <td>F1-score</td>\n",
       "      <td>0.604891</td>\n",
       "      <td>0.619159</td>\n",
       "      <td>0.596849</td>\n",
       "    </tr>\n",
       "    <tr>\n",
       "      <td>AUC-ROC</td>\n",
       "      <td>0.854549</td>\n",
       "      <td>0.855447</td>\n",
       "      <td>0.847784</td>\n",
       "    </tr>\n",
       "  </tbody>\n",
       "</table>\n",
       "</div>"
      ],
      "text/plain": [
       "          Изменение параметра  Upsampling  Downsampling\n",
       "F1-score             0.604891    0.619159      0.596849\n",
       "AUC-ROC              0.854549    0.855447      0.847784"
      ]
     },
     "execution_count": 32,
     "metadata": {},
     "output_type": "execute_result"
    }
   ],
   "source": [
    "best_results_post = [[best_f1_forest_wh, best_f1_forest_up, best_f1_forest_do], [best_auc_forest_wh, \\\n",
    "                                                                                 best_auc_forest_up, \\\n",
    "                                                                                 best_auc_forest_do]]\n",
    "methods = ['Изменение параметра', 'Upsampling', 'Downsampling']\n",
    "\n",
    "research_result_post = pd.DataFrame(data = best_results_post, columns = methods)\n",
    "\n",
    "print('\\033[1m' + 'Результаты без учета дисбаланса классов:' + '\\033[0m')\n",
    "print('F1-score:', best_f1_forest) \n",
    "print('AUC-ROC:', best_auc_forest) \n",
    "print()\n",
    "print('--------------------------------')\n",
    "print()\n",
    "print('\\033[1m' + 'Результаты с учетом дисбаланса классов:' + '\\033[0m')\n",
    "research_result_post.rename({0: 'F1-score', 1: 'AUC-ROC'}, axis='index')"
   ]
  },
  {
   "cell_type": "markdown",
   "metadata": {},
   "source": [
    "* Thus, we can see that the values of each of the metrics increased after taking into account and solving for the existing class imbalance compared to the values of the same metrics before taking into account the problem. Except for the AUC-ROC value for the downsampling method\n",
    "\n",
    "\n",
    "* It should also be noted that when using the Downsampling method, the value increased less, in contrast to the upsampling methods and a simple change in model parameters. This fact is completely logical, since when using downsampling, our test set decreases, therefore there is less data for the model to train. In general, it is always better to use upsampling, but we should not forget about downsampling, as we are interested in all sorts of ways in order to improve the quality of our model."
   ]
  },
  {
   "cell_type": "markdown",
   "metadata": {},
   "source": [
    "### Model Testing"
   ]
  },
  {
   "cell_type": "code",
   "execution_count": 33,
   "metadata": {
    "scrolled": true
   },
   "outputs": [
    {
     "name": "stdout",
     "output_type": "stream",
     "text": [
      "F1-score наилучшей модели на тестовой выборке: 0.59\n",
      "AUC-ROC наилучшей модели на тестовой выборке: 0.84\n"
     ]
    }
   ],
   "source": [
    "predictions_test = forest_model_up.predict(features_test) \n",
    "forest_probabilities_test_up = forest_model_up.predict_proba(features_test)\n",
    "\n",
    "forest_f1_up_test = f1_score(target_test, predictions_test)\n",
    "forest_probabilities_one_test_up = forest_probabilities_test_up[:, 1]\n",
    "forest_auc_roc_up_test = roc_auc_score(target_test, forest_probabilities_one_test_up)\n",
    "\n",
    "print(\"F1-score наилучшей модели на тестовой выборке: {:2}\".format(round(forest_f1_up_test, 2)))\n",
    "print(\"AUC-ROC наилучшей модели на тестовой выборке: {:2}\".format(round(forest_auc_roc_up_test, 2)))"
   ]
  },
  {
   "cell_type": "markdown",
   "metadata": {},
   "source": [
    "F1-score of the best model on the test set: 0.59\n",
    "\n",
    "Thus, on the test sample, we got the value of the F1-score metric that satisfies our conditions"
   ]
  },
  {
   "cell_type": "markdown",
   "metadata": {},
   "source": [
    "## Conclusions"
   ]
  },
  {
   "cell_type": "markdown",
   "metadata": {},
   "source": [
    "* In this project, we studied the data on the churn of customers from the bank and trained a model that can predict whether the customer will leave the bank in the near future or not\n",
    "\n",
    "\n",
    "* The problem of class imbalance was discovered - therefore, the study and training of models took place at first without taking into account this problem, and after that this problem was solved and the models were trained on more \"clean\" data\n",
    "\n",
    "\n",
    "* In the course of dealing with class imbalance, methods such as a simple change in the settings of the model itself, as well as methods **upsampling** and **downsampling** were used\n",
    "\n",
    "\n",
    "* Models were compared based on 2 metrics: **F1-score** and **AUC-ROC**. The best results were shown by the random forest algorithm using upsampling\n",
    "\n",
    "\n",
    "* During the study, it was possible to achieve an F1-score value of at least 0.59. The model was also tested on an additional test set"
   ]
  }
 ],
 "metadata": {
  "ExecuteTimeLog": [
   {
    "duration": 753,
    "start_time": "2021-06-26T08:48:25.410Z"
   },
   {
    "duration": 13,
    "start_time": "2021-06-26T08:49:14.853Z"
   },
   {
    "duration": 7,
    "start_time": "2021-06-26T08:50:06.942Z"
   },
   {
    "duration": 6,
    "start_time": "2021-06-26T08:50:12.475Z"
   },
   {
    "duration": 33,
    "start_time": "2021-06-26T08:50:23.815Z"
   },
   {
    "duration": 34,
    "start_time": "2021-06-26T08:50:42.093Z"
   },
   {
    "duration": 50,
    "start_time": "2021-06-26T08:50:56.017Z"
   },
   {
    "duration": 369,
    "start_time": "2021-06-26T08:51:58.952Z"
   },
   {
    "duration": 284,
    "start_time": "2021-06-26T08:52:03.123Z"
   },
   {
    "duration": 8,
    "start_time": "2021-06-26T08:52:20.017Z"
   },
   {
    "duration": 293,
    "start_time": "2021-06-26T08:54:09.478Z"
   },
   {
    "duration": 10,
    "start_time": "2021-06-26T08:54:22.368Z"
   },
   {
    "duration": 20,
    "start_time": "2021-06-26T08:54:41.375Z"
   },
   {
    "duration": 41,
    "start_time": "2021-06-26T08:54:45.437Z"
   },
   {
    "duration": 11,
    "start_time": "2021-06-26T08:54:58.110Z"
   },
   {
    "duration": 86,
    "start_time": "2021-06-26T08:55:33.092Z"
   },
   {
    "duration": 11,
    "start_time": "2021-06-26T08:55:36.634Z"
   },
   {
    "duration": 9,
    "start_time": "2021-06-26T08:55:56.921Z"
   },
   {
    "duration": 8,
    "start_time": "2021-06-26T08:56:01.915Z"
   },
   {
    "duration": 8,
    "start_time": "2021-06-26T08:56:07.027Z"
   },
   {
    "duration": 9,
    "start_time": "2021-06-26T08:56:16.660Z"
   },
   {
    "duration": 288,
    "start_time": "2021-06-26T08:56:58.502Z"
   },
   {
    "duration": 269,
    "start_time": "2021-06-26T08:57:03.626Z"
   },
   {
    "duration": 13,
    "start_time": "2021-06-26T08:57:11.863Z"
   },
   {
    "duration": 12,
    "start_time": "2021-06-26T08:57:35.997Z"
   },
   {
    "duration": 57,
    "start_time": "2021-06-26T08:58:46.938Z"
   },
   {
    "duration": 7,
    "start_time": "2021-06-26T10:27:06.673Z"
   },
   {
    "duration": 277,
    "start_time": "2021-06-26T10:27:52.393Z"
   },
   {
    "duration": 9,
    "start_time": "2021-06-26T10:28:51.769Z"
   },
   {
    "duration": 1333,
    "start_time": "2021-06-26T10:29:16.352Z"
   },
   {
    "duration": 12,
    "start_time": "2021-06-26T10:29:21.376Z"
   },
   {
    "duration": 7,
    "start_time": "2021-06-26T10:29:31.868Z"
   },
   {
    "duration": 7,
    "start_time": "2021-06-26T10:29:48.097Z"
   },
   {
    "duration": 13,
    "start_time": "2021-06-26T10:30:11.173Z"
   },
   {
    "duration": 8,
    "start_time": "2021-06-26T10:30:25.917Z"
   },
   {
    "duration": 7,
    "start_time": "2021-06-26T10:30:35.444Z"
   },
   {
    "duration": 13,
    "start_time": "2021-06-26T10:35:48.134Z"
   },
   {
    "duration": 16,
    "start_time": "2021-06-26T10:37:22.380Z"
   },
   {
    "duration": 3,
    "start_time": "2021-06-26T10:49:17.242Z"
   },
   {
    "duration": 9,
    "start_time": "2021-06-26T10:50:13.122Z"
   },
   {
    "duration": 297,
    "start_time": "2021-06-26T10:53:02.188Z"
   },
   {
    "duration": 399,
    "start_time": "2021-06-26T10:53:21.089Z"
   },
   {
    "duration": 33,
    "start_time": "2021-06-26T10:53:24.904Z"
   },
   {
    "duration": 4,
    "start_time": "2021-06-26T10:54:44.506Z"
   },
   {
    "duration": 31,
    "start_time": "2021-06-26T10:54:45.602Z"
   },
   {
    "duration": 1818,
    "start_time": "2021-06-26T10:54:53.024Z"
   },
   {
    "duration": 16,
    "start_time": "2021-06-26T10:58:39.308Z"
   },
   {
    "duration": 30,
    "start_time": "2021-06-26T10:58:41.667Z"
   },
   {
    "duration": 559,
    "start_time": "2021-06-26T11:30:16.475Z"
   },
   {
    "duration": 8,
    "start_time": "2021-06-26T11:30:43.715Z"
   },
   {
    "duration": 7,
    "start_time": "2021-06-26T11:31:02.572Z"
   },
   {
    "duration": 44,
    "start_time": "2021-06-26T11:35:55.114Z"
   },
   {
    "duration": 20,
    "start_time": "2021-06-26T11:35:58.789Z"
   },
   {
    "duration": 12,
    "start_time": "2021-06-26T11:38:55.789Z"
   },
   {
    "duration": 25,
    "start_time": "2021-06-26T11:39:04.238Z"
   },
   {
    "duration": 17,
    "start_time": "2021-06-26T11:41:10.719Z"
   },
   {
    "duration": 8,
    "start_time": "2021-06-26T11:42:32.562Z"
   },
   {
    "duration": 8,
    "start_time": "2021-06-26T11:42:40.054Z"
   },
   {
    "duration": 35,
    "start_time": "2021-06-26T11:49:44.344Z"
   },
   {
    "duration": 20,
    "start_time": "2021-06-26T11:51:24.805Z"
   },
   {
    "duration": 18,
    "start_time": "2021-06-26T11:53:05.961Z"
   },
   {
    "duration": 18,
    "start_time": "2021-06-26T11:53:29.885Z"
   },
   {
    "duration": 320,
    "start_time": "2021-06-26T18:59:15.090Z"
   },
   {
    "duration": 211,
    "start_time": "2021-06-26T19:02:14.658Z"
   },
   {
    "duration": 302,
    "start_time": "2021-06-26T19:20:52.999Z"
   },
   {
    "duration": 226,
    "start_time": "2021-06-26T19:22:35.125Z"
   },
   {
    "duration": 968,
    "start_time": "2021-06-26T19:24:10.826Z"
   },
   {
    "duration": 790,
    "start_time": "2021-06-26T19:24:30.162Z"
   },
   {
    "duration": 164,
    "start_time": "2021-06-26T19:31:37.396Z"
   },
   {
    "duration": 20680,
    "start_time": "2021-06-26T19:38:45.129Z"
   },
   {
    "duration": 32698,
    "start_time": "2021-06-26T19:40:17.772Z"
   },
   {
    "duration": 7,
    "start_time": "2021-06-26T19:42:57.145Z"
   },
   {
    "duration": 26949,
    "start_time": "2021-06-26T19:44:02.376Z"
   },
   {
    "duration": 41,
    "start_time": "2021-06-26T19:52:10.370Z"
   },
   {
    "duration": 37,
    "start_time": "2021-06-26T20:22:18.817Z"
   },
   {
    "duration": 40,
    "start_time": "2021-06-26T20:23:55.369Z"
   },
   {
    "duration": 41,
    "start_time": "2021-06-26T20:23:58.802Z"
   },
   {
    "duration": 39,
    "start_time": "2021-06-26T20:24:03.675Z"
   },
   {
    "duration": 845,
    "start_time": "2021-06-26T20:27:53.902Z"
   },
   {
    "duration": 53,
    "start_time": "2021-06-26T20:42:31.332Z"
   },
   {
    "duration": 11,
    "start_time": "2021-06-26T20:42:31.388Z"
   },
   {
    "duration": 59,
    "start_time": "2021-06-26T20:42:31.402Z"
   },
   {
    "duration": 7,
    "start_time": "2021-06-26T20:42:31.465Z"
   },
   {
    "duration": 35,
    "start_time": "2021-06-26T20:42:31.475Z"
   },
   {
    "duration": 18,
    "start_time": "2021-06-26T20:42:31.513Z"
   },
   {
    "duration": 14,
    "start_time": "2021-06-26T20:42:31.534Z"
   },
   {
    "duration": 56,
    "start_time": "2021-06-26T20:42:31.554Z"
   },
   {
    "duration": 12,
    "start_time": "2021-06-26T20:42:31.614Z"
   },
   {
    "duration": 16,
    "start_time": "2021-06-26T20:42:31.628Z"
   },
   {
    "duration": 18,
    "start_time": "2021-06-26T20:42:31.646Z"
   },
   {
    "duration": 42,
    "start_time": "2021-06-26T20:42:31.667Z"
   },
   {
    "duration": 12,
    "start_time": "2021-06-26T20:42:31.712Z"
   },
   {
    "duration": 10,
    "start_time": "2021-06-26T20:42:31.726Z"
   },
   {
    "duration": 12,
    "start_time": "2021-06-26T20:42:31.738Z"
   },
   {
    "duration": 62,
    "start_time": "2021-06-26T20:42:31.753Z"
   },
   {
    "duration": 236,
    "start_time": "2021-06-26T20:42:31.817Z"
   },
   {
    "duration": 190,
    "start_time": "2021-06-26T20:42:36.464Z"
   },
   {
    "duration": 770,
    "start_time": "2021-06-26T20:43:32.461Z"
   },
   {
    "duration": 158,
    "start_time": "2021-06-26T20:43:43.761Z"
   },
   {
    "duration": 32371,
    "start_time": "2021-06-26T20:43:55.729Z"
   },
   {
    "duration": 7,
    "start_time": "2021-06-26T20:44:53.515Z"
   },
   {
    "duration": 21295,
    "start_time": "2021-06-26T20:46:41.530Z"
   },
   {
    "duration": 7,
    "start_time": "2021-06-26T20:48:16.401Z"
   },
   {
    "duration": 48,
    "start_time": "2021-06-26T20:49:41.595Z"
   },
   {
    "duration": 11,
    "start_time": "2021-06-26T20:49:41.646Z"
   },
   {
    "duration": 79,
    "start_time": "2021-06-26T20:49:41.660Z"
   },
   {
    "duration": 5,
    "start_time": "2021-06-26T20:49:41.742Z"
   },
   {
    "duration": 12,
    "start_time": "2021-06-26T20:49:41.749Z"
   },
   {
    "duration": 37,
    "start_time": "2021-06-26T20:49:41.763Z"
   },
   {
    "duration": 12,
    "start_time": "2021-06-26T20:49:41.803Z"
   },
   {
    "duration": 15,
    "start_time": "2021-06-26T20:49:41.818Z"
   },
   {
    "duration": 8,
    "start_time": "2021-06-26T20:49:41.836Z"
   },
   {
    "duration": 54,
    "start_time": "2021-06-26T20:49:41.846Z"
   },
   {
    "duration": 19,
    "start_time": "2021-06-26T20:49:41.903Z"
   },
   {
    "duration": 9,
    "start_time": "2021-06-26T20:49:41.925Z"
   },
   {
    "duration": 7,
    "start_time": "2021-06-26T20:49:41.936Z"
   },
   {
    "duration": 8,
    "start_time": "2021-06-26T20:49:41.945Z"
   },
   {
    "duration": 50,
    "start_time": "2021-06-26T20:49:41.955Z"
   },
   {
    "duration": 37,
    "start_time": "2021-06-26T20:49:42.007Z"
   },
   {
    "duration": 253,
    "start_time": "2021-06-26T20:49:42.046Z"
   },
   {
    "duration": 15925,
    "start_time": "2021-06-26T20:50:35.765Z"
   },
   {
    "duration": 373408,
    "start_time": "2021-06-26T20:51:05.192Z"
   },
   {
    "duration": 405359,
    "start_time": "2021-06-26T20:57:25.405Z"
   },
   {
    "duration": 17681,
    "start_time": "2021-06-26T21:04:15.324Z"
   },
   {
    "duration": 50499,
    "start_time": "2021-06-26T21:04:37.645Z"
   },
   {
    "duration": 7,
    "start_time": "2021-06-26T21:05:58.811Z"
   },
   {
    "duration": 7,
    "start_time": "2021-06-26T21:07:04.395Z"
   },
   {
    "duration": 7,
    "start_time": "2021-06-26T21:07:09.060Z"
   },
   {
    "duration": 7,
    "start_time": "2021-06-26T21:07:16.198Z"
   },
   {
    "duration": 5200,
    "start_time": "2021-06-26T21:07:20.485Z"
   },
   {
    "duration": 48,
    "start_time": "2021-06-26T21:07:47.944Z"
   },
   {
    "duration": 11,
    "start_time": "2021-06-26T21:07:47.994Z"
   },
   {
    "duration": 57,
    "start_time": "2021-06-26T21:07:48.008Z"
   },
   {
    "duration": 6,
    "start_time": "2021-06-26T21:07:48.068Z"
   },
   {
    "duration": 30,
    "start_time": "2021-06-26T21:07:48.077Z"
   },
   {
    "duration": 10,
    "start_time": "2021-06-26T21:07:48.110Z"
   },
   {
    "duration": 13,
    "start_time": "2021-06-26T21:07:48.123Z"
   },
   {
    "duration": 61,
    "start_time": "2021-06-26T21:07:48.142Z"
   },
   {
    "duration": 10,
    "start_time": "2021-06-26T21:07:48.206Z"
   },
   {
    "duration": 23,
    "start_time": "2021-06-26T21:07:48.219Z"
   },
   {
    "duration": 22,
    "start_time": "2021-06-26T21:07:48.244Z"
   },
   {
    "duration": 12,
    "start_time": "2021-06-26T21:07:48.301Z"
   },
   {
    "duration": 8,
    "start_time": "2021-06-26T21:07:48.316Z"
   },
   {
    "duration": 11,
    "start_time": "2021-06-26T21:07:48.326Z"
   },
   {
    "duration": 11,
    "start_time": "2021-06-26T21:07:48.339Z"
   },
   {
    "duration": 69,
    "start_time": "2021-06-26T21:07:48.352Z"
   },
   {
    "duration": 228,
    "start_time": "2021-06-26T21:07:48.424Z"
   },
   {
    "duration": 42129,
    "start_time": "2021-06-26T21:08:02.629Z"
   },
   {
    "duration": 6,
    "start_time": "2021-06-26T21:09:17.104Z"
   },
   {
    "duration": 54133,
    "start_time": "2021-06-26T21:09:48.370Z"
   },
   {
    "duration": 8,
    "start_time": "2021-06-27T12:10:07.022Z"
   },
   {
    "duration": 855,
    "start_time": "2021-06-27T12:10:23.904Z"
   },
   {
    "duration": 11,
    "start_time": "2021-06-27T12:10:24.762Z"
   },
   {
    "duration": 66,
    "start_time": "2021-06-27T12:10:24.776Z"
   },
   {
    "duration": 7,
    "start_time": "2021-06-27T12:10:24.845Z"
   },
   {
    "duration": 34,
    "start_time": "2021-06-27T12:10:24.854Z"
   },
   {
    "duration": 9,
    "start_time": "2021-06-27T12:10:24.890Z"
   },
   {
    "duration": 15,
    "start_time": "2021-06-27T12:10:24.901Z"
   },
   {
    "duration": 16,
    "start_time": "2021-06-27T12:10:24.920Z"
   },
   {
    "duration": 8,
    "start_time": "2021-06-27T12:10:24.939Z"
   },
   {
    "duration": 50,
    "start_time": "2021-06-27T12:10:24.950Z"
   },
   {
    "duration": 29,
    "start_time": "2021-06-27T12:10:25.003Z"
   },
   {
    "duration": 642,
    "start_time": "2021-06-27T12:10:25.035Z"
   },
   {
    "duration": 11,
    "start_time": "2021-06-27T12:10:25.680Z"
   },
   {
    "duration": 11,
    "start_time": "2021-06-27T12:10:25.694Z"
   },
   {
    "duration": 27,
    "start_time": "2021-06-27T12:10:25.707Z"
   },
   {
    "duration": 51,
    "start_time": "2021-06-27T12:10:25.737Z"
   },
   {
    "duration": 325,
    "start_time": "2021-06-27T12:10:25.790Z"
   },
   {
    "duration": 7,
    "start_time": "2021-06-27T12:10:26.118Z"
   },
   {
    "duration": 829,
    "start_time": "2021-06-27T12:10:43.830Z"
   },
   {
    "duration": 158,
    "start_time": "2021-06-27T12:10:56.717Z"
   },
   {
    "duration": 42708,
    "start_time": "2021-06-27T12:14:39.932Z"
   },
   {
    "duration": 57671,
    "start_time": "2021-06-27T12:17:08.608Z"
   },
   {
    "duration": 97,
    "start_time": "2021-06-27T12:23:12.594Z"
   },
   {
    "duration": 21,
    "start_time": "2021-06-27T12:29:44.639Z"
   },
   {
    "duration": 53,
    "start_time": "2021-06-27T12:30:01.002Z"
   },
   {
    "duration": 11,
    "start_time": "2021-06-27T12:30:01.058Z"
   },
   {
    "duration": 67,
    "start_time": "2021-06-27T12:30:01.072Z"
   },
   {
    "duration": 6,
    "start_time": "2021-06-27T12:30:01.142Z"
   },
   {
    "duration": 38,
    "start_time": "2021-06-27T12:30:01.150Z"
   },
   {
    "duration": 9,
    "start_time": "2021-06-27T12:30:01.190Z"
   },
   {
    "duration": 23,
    "start_time": "2021-06-27T12:30:01.201Z"
   },
   {
    "duration": 23,
    "start_time": "2021-06-27T12:30:01.228Z"
   },
   {
    "duration": 8,
    "start_time": "2021-06-27T12:30:01.254Z"
   },
   {
    "duration": 14,
    "start_time": "2021-06-27T12:30:01.287Z"
   },
   {
    "duration": 29,
    "start_time": "2021-06-27T12:30:01.303Z"
   },
   {
    "duration": 9,
    "start_time": "2021-06-27T12:30:01.334Z"
   },
   {
    "duration": 18,
    "start_time": "2021-06-27T12:30:01.346Z"
   },
   {
    "duration": 7,
    "start_time": "2021-06-27T12:30:01.387Z"
   },
   {
    "duration": 21,
    "start_time": "2021-06-27T12:30:01.396Z"
   },
   {
    "duration": 69,
    "start_time": "2021-06-27T12:30:01.419Z"
   },
   {
    "duration": 249,
    "start_time": "2021-06-27T12:30:01.491Z"
   },
   {
    "duration": 8,
    "start_time": "2021-06-27T12:30:01.742Z"
   },
   {
    "duration": 865,
    "start_time": "2021-06-27T12:30:01.753Z"
   },
   {
    "duration": 181,
    "start_time": "2021-06-27T12:30:02.621Z"
   },
   {
    "duration": 45353,
    "start_time": "2021-06-27T12:30:02.805Z"
   },
   {
    "duration": 58987,
    "start_time": "2021-06-27T12:30:48.160Z"
   },
   {
    "duration": 134,
    "start_time": "2021-06-27T12:31:47.152Z"
   },
   {
    "duration": 15,
    "start_time": "2021-06-27T12:32:02.655Z"
   },
   {
    "duration": 14,
    "start_time": "2021-06-27T12:32:09.720Z"
   },
   {
    "duration": 14,
    "start_time": "2021-06-27T12:33:56.265Z"
   },
   {
    "duration": 14,
    "start_time": "2021-06-27T12:34:57.660Z"
   },
   {
    "duration": 51,
    "start_time": "2021-06-27T12:37:39.364Z"
   },
   {
    "duration": 13,
    "start_time": "2021-06-27T12:37:39.417Z"
   },
   {
    "duration": 85,
    "start_time": "2021-06-27T12:37:39.432Z"
   },
   {
    "duration": 6,
    "start_time": "2021-06-27T12:37:39.520Z"
   },
   {
    "duration": 14,
    "start_time": "2021-06-27T12:37:39.529Z"
   },
   {
    "duration": 8,
    "start_time": "2021-06-27T12:37:39.545Z"
   },
   {
    "duration": 41,
    "start_time": "2021-06-27T12:37:39.555Z"
   },
   {
    "duration": 16,
    "start_time": "2021-06-27T12:37:39.600Z"
   },
   {
    "duration": 9,
    "start_time": "2021-06-27T12:37:39.619Z"
   },
   {
    "duration": 55,
    "start_time": "2021-06-27T12:37:39.630Z"
   },
   {
    "duration": 19,
    "start_time": "2021-06-27T12:37:39.688Z"
   },
   {
    "duration": 17,
    "start_time": "2021-06-27T12:37:39.709Z"
   },
   {
    "duration": 8,
    "start_time": "2021-06-27T12:37:39.728Z"
   },
   {
    "duration": 7,
    "start_time": "2021-06-27T12:37:39.738Z"
   },
   {
    "duration": 42,
    "start_time": "2021-06-27T12:37:39.747Z"
   },
   {
    "duration": 35,
    "start_time": "2021-06-27T12:37:39.792Z"
   },
   {
    "duration": 273,
    "start_time": "2021-06-27T12:37:39.830Z"
   },
   {
    "duration": 52,
    "start_time": "2021-06-27T12:37:46.646Z"
   },
   {
    "duration": 11,
    "start_time": "2021-06-27T12:37:46.701Z"
   },
   {
    "duration": 85,
    "start_time": "2021-06-27T12:37:46.715Z"
   },
   {
    "duration": 6,
    "start_time": "2021-06-27T12:37:46.804Z"
   },
   {
    "duration": 15,
    "start_time": "2021-06-27T12:37:46.812Z"
   },
   {
    "duration": 8,
    "start_time": "2021-06-27T12:37:46.830Z"
   },
   {
    "duration": 45,
    "start_time": "2021-06-27T12:37:46.840Z"
   },
   {
    "duration": 18,
    "start_time": "2021-06-27T12:37:46.889Z"
   },
   {
    "duration": 10,
    "start_time": "2021-06-27T12:37:46.910Z"
   },
   {
    "duration": 21,
    "start_time": "2021-06-27T12:37:46.923Z"
   },
   {
    "duration": 55,
    "start_time": "2021-06-27T12:37:46.947Z"
   },
   {
    "duration": 12,
    "start_time": "2021-06-27T12:37:47.005Z"
   },
   {
    "duration": 10,
    "start_time": "2021-06-27T12:37:47.020Z"
   },
   {
    "duration": 54,
    "start_time": "2021-06-27T12:37:47.032Z"
   },
   {
    "duration": 11,
    "start_time": "2021-06-27T12:37:47.089Z"
   },
   {
    "duration": 39,
    "start_time": "2021-06-27T12:37:47.103Z"
   },
   {
    "duration": 254,
    "start_time": "2021-06-27T12:37:47.145Z"
   },
   {
    "duration": 826,
    "start_time": "2021-06-27T12:37:47.402Z"
   },
   {
    "duration": 178,
    "start_time": "2021-06-27T12:37:48.231Z"
   },
   {
    "duration": 54,
    "start_time": "2021-06-27T12:41:30.139Z"
   },
   {
    "duration": 12,
    "start_time": "2021-06-27T12:41:30.196Z"
   },
   {
    "duration": 91,
    "start_time": "2021-06-27T12:41:30.211Z"
   },
   {
    "duration": 6,
    "start_time": "2021-06-27T12:41:30.305Z"
   },
   {
    "duration": 20,
    "start_time": "2021-06-27T12:41:30.313Z"
   },
   {
    "duration": 8,
    "start_time": "2021-06-27T12:41:30.336Z"
   },
   {
    "duration": 41,
    "start_time": "2021-06-27T12:41:30.346Z"
   },
   {
    "duration": 18,
    "start_time": "2021-06-27T12:41:30.391Z"
   },
   {
    "duration": 10,
    "start_time": "2021-06-27T12:41:30.411Z"
   },
   {
    "duration": 118,
    "start_time": "2021-06-27T12:41:30.424Z"
   },
   {
    "duration": 19,
    "start_time": "2021-06-27T12:41:30.545Z"
   },
   {
    "duration": 28,
    "start_time": "2021-06-27T12:41:30.568Z"
   },
   {
    "duration": 15,
    "start_time": "2021-06-27T12:41:30.598Z"
   },
   {
    "duration": 15,
    "start_time": "2021-06-27T12:41:30.615Z"
   },
   {
    "duration": 25,
    "start_time": "2021-06-27T12:41:30.632Z"
   },
   {
    "duration": 62,
    "start_time": "2021-06-27T12:41:30.660Z"
   },
   {
    "duration": 252,
    "start_time": "2021-06-27T12:41:30.725Z"
   },
   {
    "duration": 841,
    "start_time": "2021-06-27T12:41:30.984Z"
   },
   {
    "duration": 175,
    "start_time": "2021-06-27T12:41:31.827Z"
   },
   {
    "duration": 44182,
    "start_time": "2021-06-27T12:41:32.004Z"
   },
   {
    "duration": 56715,
    "start_time": "2021-06-27T12:42:16.188Z"
   },
   {
    "duration": 181,
    "start_time": "2021-06-27T12:43:12.906Z"
   },
   {
    "duration": 15,
    "start_time": "2021-06-27T12:43:28.155Z"
   },
   {
    "duration": 9,
    "start_time": "2021-06-27T12:55:56.740Z"
   },
   {
    "duration": 800,
    "start_time": "2021-06-27T13:03:56.199Z"
   },
   {
    "duration": 234,
    "start_time": "2021-06-27T13:04:25.117Z"
   },
   {
    "duration": 54,
    "start_time": "2021-06-27T13:05:04.775Z"
   },
   {
    "duration": 13,
    "start_time": "2021-06-27T13:05:04.831Z"
   },
   {
    "duration": 87,
    "start_time": "2021-06-27T13:05:04.847Z"
   },
   {
    "duration": 6,
    "start_time": "2021-06-27T13:05:04.937Z"
   },
   {
    "duration": 11,
    "start_time": "2021-06-27T13:05:04.946Z"
   },
   {
    "duration": 33,
    "start_time": "2021-06-27T13:05:04.959Z"
   },
   {
    "duration": 13,
    "start_time": "2021-06-27T13:05:04.994Z"
   },
   {
    "duration": 17,
    "start_time": "2021-06-27T13:05:05.010Z"
   },
   {
    "duration": 9,
    "start_time": "2021-06-27T13:05:05.029Z"
   },
   {
    "duration": 57,
    "start_time": "2021-06-27T13:05:05.041Z"
   },
   {
    "duration": 20,
    "start_time": "2021-06-27T13:05:05.100Z"
   },
   {
    "duration": 12,
    "start_time": "2021-06-27T13:05:05.123Z"
   },
   {
    "duration": 51,
    "start_time": "2021-06-27T13:05:05.137Z"
   },
   {
    "duration": 7,
    "start_time": "2021-06-27T13:05:05.191Z"
   },
   {
    "duration": 14,
    "start_time": "2021-06-27T13:05:05.202Z"
   },
   {
    "duration": 71,
    "start_time": "2021-06-27T13:05:05.218Z"
   },
   {
    "duration": 242,
    "start_time": "2021-06-27T13:05:05.291Z"
   },
   {
    "duration": 796,
    "start_time": "2021-06-27T13:05:15.971Z"
   },
   {
    "duration": 174,
    "start_time": "2021-06-27T13:05:18.994Z"
   },
   {
    "duration": 152,
    "start_time": "2021-06-27T13:06:19.903Z"
   },
   {
    "duration": 4553,
    "start_time": "2021-06-27T13:07:16.788Z"
   },
   {
    "duration": 44439,
    "start_time": "2021-06-27T13:15:58.429Z"
   },
   {
    "duration": 67354,
    "start_time": "2021-06-27T13:17:28.363Z"
   },
   {
    "duration": 47,
    "start_time": "2021-06-27T13:42:22.045Z"
   },
   {
    "duration": 56,
    "start_time": "2021-06-27T16:24:04.969Z"
   },
   {
    "duration": 11,
    "start_time": "2021-06-27T16:24:05.028Z"
   },
   {
    "duration": 82,
    "start_time": "2021-06-27T16:24:05.043Z"
   },
   {
    "duration": 6,
    "start_time": "2021-06-27T16:24:05.128Z"
   },
   {
    "duration": 14,
    "start_time": "2021-06-27T16:24:05.136Z"
   },
   {
    "duration": 39,
    "start_time": "2021-06-27T16:24:05.153Z"
   },
   {
    "duration": 21,
    "start_time": "2021-06-27T16:24:05.195Z"
   },
   {
    "duration": 18,
    "start_time": "2021-06-27T16:24:05.221Z"
   },
   {
    "duration": 42,
    "start_time": "2021-06-27T16:24:05.244Z"
   },
   {
    "duration": 17,
    "start_time": "2021-06-27T16:24:05.289Z"
   },
   {
    "duration": 20,
    "start_time": "2021-06-27T16:24:05.309Z"
   },
   {
    "duration": 11,
    "start_time": "2021-06-27T16:24:05.333Z"
   },
   {
    "duration": 47,
    "start_time": "2021-06-27T16:24:05.346Z"
   },
   {
    "duration": 10,
    "start_time": "2021-06-27T16:24:05.396Z"
   },
   {
    "duration": 17,
    "start_time": "2021-06-27T16:24:05.408Z"
   },
   {
    "duration": 76,
    "start_time": "2021-06-27T16:24:05.427Z"
   },
   {
    "duration": 251,
    "start_time": "2021-06-27T16:24:05.506Z"
   },
   {
    "duration": 908,
    "start_time": "2021-06-27T16:24:05.760Z"
   },
   {
    "duration": 175,
    "start_time": "2021-06-27T16:24:06.672Z"
   },
   {
    "duration": 43816,
    "start_time": "2021-06-27T16:24:06.850Z"
   },
   {
    "duration": 57852,
    "start_time": "2021-06-27T16:24:50.668Z"
   },
   {
    "duration": 164,
    "start_time": "2021-06-27T16:25:48.522Z"
   },
   {
    "duration": 15,
    "start_time": "2021-06-27T16:25:48.690Z"
   },
   {
    "duration": 42672,
    "start_time": "2021-06-27T16:27:50.446Z"
   },
   {
    "duration": 64778,
    "start_time": "2021-06-27T16:28:40.540Z"
   },
   {
    "duration": 604,
    "start_time": "2021-06-27T16:47:10.861Z"
   },
   {
    "duration": 99457,
    "start_time": "2021-06-27T16:47:30.100Z"
   },
   {
    "duration": 7764,
    "start_time": "2021-06-27T16:51:28.238Z"
   },
   {
    "duration": 4950,
    "start_time": "2021-06-27T16:51:48.102Z"
   },
   {
    "duration": 23,
    "start_time": "2021-06-27T16:51:59.881Z"
   },
   {
    "duration": 7,
    "start_time": "2021-06-27T16:52:04.826Z"
   },
   {
    "duration": 203,
    "start_time": "2021-06-27T16:52:12.637Z"
   },
   {
    "duration": 55,
    "start_time": "2021-06-27T16:52:58.658Z"
   },
   {
    "duration": 10,
    "start_time": "2021-06-27T16:52:58.716Z"
   },
   {
    "duration": 96,
    "start_time": "2021-06-27T16:52:58.729Z"
   },
   {
    "duration": 6,
    "start_time": "2021-06-27T16:52:58.828Z"
   },
   {
    "duration": 19,
    "start_time": "2021-06-27T16:52:58.836Z"
   },
   {
    "duration": 30,
    "start_time": "2021-06-27T16:52:58.857Z"
   },
   {
    "duration": 13,
    "start_time": "2021-06-27T16:52:58.889Z"
   },
   {
    "duration": 18,
    "start_time": "2021-06-27T16:52:58.906Z"
   },
   {
    "duration": 10,
    "start_time": "2021-06-27T16:52:58.927Z"
   },
   {
    "duration": 52,
    "start_time": "2021-06-27T16:52:58.939Z"
   },
   {
    "duration": 21,
    "start_time": "2021-06-27T16:52:58.993Z"
   },
   {
    "duration": 15,
    "start_time": "2021-06-27T16:52:59.017Z"
   },
   {
    "duration": 8,
    "start_time": "2021-06-27T16:52:59.035Z"
   },
   {
    "duration": 45,
    "start_time": "2021-06-27T16:52:59.045Z"
   },
   {
    "duration": 13,
    "start_time": "2021-06-27T16:52:59.093Z"
   },
   {
    "duration": 35,
    "start_time": "2021-06-27T16:52:59.109Z"
   },
   {
    "duration": 251,
    "start_time": "2021-06-27T16:52:59.147Z"
   },
   {
    "duration": 848,
    "start_time": "2021-06-27T16:52:59.400Z"
   },
   {
    "duration": 211,
    "start_time": "2021-06-27T16:53:00.251Z"
   },
   {
    "duration": 43345,
    "start_time": "2021-06-27T16:53:00.465Z"
   },
   {
    "duration": 56947,
    "start_time": "2021-06-27T16:53:43.813Z"
   },
   {
    "duration": 126,
    "start_time": "2021-06-27T16:54:40.762Z"
   },
   {
    "duration": 101,
    "start_time": "2021-06-27T16:54:40.895Z"
   },
   {
    "duration": 43766,
    "start_time": "2021-06-27T16:54:41.000Z"
   },
   {
    "duration": 61850,
    "start_time": "2021-06-27T16:55:24.769Z"
   },
   {
    "duration": 145970,
    "start_time": "2021-06-27T16:56:45.376Z"
   },
   {
    "duration": 216,
    "start_time": "2021-06-27T16:59:53.976Z"
   },
   {
    "duration": 400516,
    "start_time": "2021-06-27T17:03:40.237Z"
   },
   {
    "duration": 53,
    "start_time": "2021-06-27T17:10:26.993Z"
   },
   {
    "duration": 12,
    "start_time": "2021-06-27T17:10:27.049Z"
   },
   {
    "duration": 76,
    "start_time": "2021-06-27T17:10:27.063Z"
   },
   {
    "duration": 7,
    "start_time": "2021-06-27T17:10:27.141Z"
   },
   {
    "duration": 38,
    "start_time": "2021-06-27T17:10:27.150Z"
   },
   {
    "duration": 8,
    "start_time": "2021-06-27T17:10:27.191Z"
   },
   {
    "duration": 13,
    "start_time": "2021-06-27T17:10:27.202Z"
   },
   {
    "duration": 16,
    "start_time": "2021-06-27T17:10:27.219Z"
   },
   {
    "duration": 49,
    "start_time": "2021-06-27T17:10:27.238Z"
   },
   {
    "duration": 15,
    "start_time": "2021-06-27T17:10:27.289Z"
   },
   {
    "duration": 20,
    "start_time": "2021-06-27T17:10:27.306Z"
   },
   {
    "duration": 16,
    "start_time": "2021-06-27T17:10:27.328Z"
   },
   {
    "duration": 45,
    "start_time": "2021-06-27T17:10:27.346Z"
   },
   {
    "duration": 12,
    "start_time": "2021-06-27T17:10:27.393Z"
   },
   {
    "duration": 16,
    "start_time": "2021-06-27T17:10:27.408Z"
   },
   {
    "duration": 38,
    "start_time": "2021-06-27T17:10:27.427Z"
   },
   {
    "duration": 334,
    "start_time": "2021-06-27T17:10:27.468Z"
   },
   {
    "duration": 846,
    "start_time": "2021-06-27T17:10:27.805Z"
   },
   {
    "duration": 177,
    "start_time": "2021-06-27T17:10:28.653Z"
   },
   {
    "duration": 43191,
    "start_time": "2021-06-27T17:10:28.833Z"
   },
   {
    "duration": 56063,
    "start_time": "2021-06-27T17:11:12.027Z"
   },
   {
    "duration": 101,
    "start_time": "2021-06-27T17:12:08.092Z"
   },
   {
    "duration": 16,
    "start_time": "2021-06-27T17:12:08.287Z"
   },
   {
    "duration": 42980,
    "start_time": "2021-06-27T17:12:08.305Z"
   },
   {
    "duration": 62987,
    "start_time": "2021-06-27T17:12:51.288Z"
   },
   {
    "duration": 293882,
    "start_time": "2021-06-27T17:15:25.390Z"
   },
   {
    "duration": 202,
    "start_time": "2021-06-27T17:20:30.255Z"
   },
   {
    "duration": 47,
    "start_time": "2021-06-27T17:21:35.698Z"
   },
   {
    "duration": 206,
    "start_time": "2021-06-27T17:21:43.365Z"
   },
   {
    "duration": 27,
    "start_time": "2021-06-27T17:22:07.603Z"
   },
   {
    "duration": 212,
    "start_time": "2021-06-27T17:22:11.407Z"
   },
   {
    "duration": 61864,
    "start_time": "2021-06-27T17:22:30.067Z"
   },
   {
    "duration": 52,
    "start_time": "2021-06-27T17:23:48.896Z"
   },
   {
    "duration": 13,
    "start_time": "2021-06-27T17:23:48.951Z"
   },
   {
    "duration": 77,
    "start_time": "2021-06-27T17:23:48.967Z"
   },
   {
    "duration": 6,
    "start_time": "2021-06-27T17:23:49.046Z"
   },
   {
    "duration": 36,
    "start_time": "2021-06-27T17:23:49.055Z"
   },
   {
    "duration": 8,
    "start_time": "2021-06-27T17:23:49.094Z"
   },
   {
    "duration": 12,
    "start_time": "2021-06-27T17:23:49.104Z"
   },
   {
    "duration": 18,
    "start_time": "2021-06-27T17:23:49.120Z"
   },
   {
    "duration": 46,
    "start_time": "2021-06-27T17:23:49.141Z"
   },
   {
    "duration": 17,
    "start_time": "2021-06-27T17:23:49.190Z"
   },
   {
    "duration": 20,
    "start_time": "2021-06-27T17:23:49.209Z"
   },
   {
    "duration": 9,
    "start_time": "2021-06-27T17:23:49.232Z"
   },
   {
    "duration": 46,
    "start_time": "2021-06-27T17:23:49.244Z"
   },
   {
    "duration": 7,
    "start_time": "2021-06-27T17:23:49.293Z"
   },
   {
    "duration": 13,
    "start_time": "2021-06-27T17:23:49.303Z"
   },
   {
    "duration": 42,
    "start_time": "2021-06-27T17:23:49.318Z"
   },
   {
    "duration": 266,
    "start_time": "2021-06-27T17:23:49.362Z"
   },
   {
    "duration": 809,
    "start_time": "2021-06-27T17:23:49.631Z"
   },
   {
    "duration": 169,
    "start_time": "2021-06-27T17:23:50.442Z"
   },
   {
    "duration": 44094,
    "start_time": "2021-06-27T17:23:50.614Z"
   },
   {
    "duration": 56174,
    "start_time": "2021-06-27T17:24:34.711Z"
   },
   {
    "duration": 102,
    "start_time": "2021-06-27T17:25:30.888Z"
   },
   {
    "duration": 104,
    "start_time": "2021-06-27T17:25:30.996Z"
   },
   {
    "duration": 44931,
    "start_time": "2021-06-27T17:25:31.103Z"
   },
   {
    "duration": 64097,
    "start_time": "2021-06-27T17:26:16.036Z"
   },
   {
    "duration": 28,
    "start_time": "2021-06-27T17:27:20.135Z"
   },
   {
    "duration": 234,
    "start_time": "2021-06-27T17:27:53.982Z"
   },
   {
    "duration": 159822,
    "start_time": "2021-06-27T17:28:03.385Z"
   },
   {
    "duration": 163059,
    "start_time": "2021-06-27T17:33:29.937Z"
   },
   {
    "duration": 23,
    "start_time": "2021-06-27T17:37:07.340Z"
   },
   {
    "duration": 52,
    "start_time": "2021-06-27T17:37:17.746Z"
   },
   {
    "duration": 11,
    "start_time": "2021-06-27T17:37:17.801Z"
   },
   {
    "duration": 91,
    "start_time": "2021-06-27T17:37:17.816Z"
   },
   {
    "duration": 7,
    "start_time": "2021-06-27T17:37:17.910Z"
   },
   {
    "duration": 13,
    "start_time": "2021-06-27T17:37:17.919Z"
   },
   {
    "duration": 7,
    "start_time": "2021-06-27T17:37:17.935Z"
   },
   {
    "duration": 49,
    "start_time": "2021-06-27T17:37:17.945Z"
   },
   {
    "duration": 16,
    "start_time": "2021-06-27T17:37:17.997Z"
   },
   {
    "duration": 9,
    "start_time": "2021-06-27T17:37:18.015Z"
   },
   {
    "duration": 16,
    "start_time": "2021-06-27T17:37:18.026Z"
   },
   {
    "duration": 52,
    "start_time": "2021-06-27T17:37:18.044Z"
   },
   {
    "duration": 12,
    "start_time": "2021-06-27T17:37:18.099Z"
   },
   {
    "duration": 9,
    "start_time": "2021-06-27T17:37:18.114Z"
   },
   {
    "duration": 13,
    "start_time": "2021-06-27T17:37:18.126Z"
   },
   {
    "duration": 12,
    "start_time": "2021-06-27T17:37:18.142Z"
   },
   {
    "duration": 62,
    "start_time": "2021-06-27T17:37:18.157Z"
   },
   {
    "duration": 244,
    "start_time": "2021-06-27T17:37:18.221Z"
   },
   {
    "duration": 924,
    "start_time": "2021-06-27T17:37:18.468Z"
   },
   {
    "duration": 177,
    "start_time": "2021-06-27T17:37:19.395Z"
   },
   {
    "duration": 22,
    "start_time": "2021-06-27T17:37:26.406Z"
   },
   {
    "duration": 13,
    "start_time": "2021-06-27T17:37:52.759Z"
   },
   {
    "duration": 258546,
    "start_time": "2021-06-27T17:38:00.662Z"
   },
   {
    "duration": 93358,
    "start_time": "2021-06-27T17:42:24.103Z"
   },
   {
    "duration": 56119,
    "start_time": "2021-06-27T17:45:08.631Z"
   },
   {
    "duration": 53,
    "start_time": "2021-06-27T17:47:34.958Z"
   },
   {
    "duration": 12,
    "start_time": "2021-06-27T17:47:35.013Z"
   },
   {
    "duration": 82,
    "start_time": "2021-06-27T17:47:35.028Z"
   },
   {
    "duration": 6,
    "start_time": "2021-06-27T17:47:35.113Z"
   },
   {
    "duration": 11,
    "start_time": "2021-06-27T17:47:35.121Z"
   },
   {
    "duration": 8,
    "start_time": "2021-06-27T17:47:35.134Z"
   },
   {
    "duration": 46,
    "start_time": "2021-06-27T17:47:35.144Z"
   },
   {
    "duration": 17,
    "start_time": "2021-06-27T17:47:35.192Z"
   },
   {
    "duration": 8,
    "start_time": "2021-06-27T17:47:35.213Z"
   },
   {
    "duration": 23,
    "start_time": "2021-06-27T17:47:35.224Z"
   },
   {
    "duration": 51,
    "start_time": "2021-06-27T17:47:35.249Z"
   },
   {
    "duration": 9,
    "start_time": "2021-06-27T17:47:35.303Z"
   },
   {
    "duration": 10,
    "start_time": "2021-06-27T17:47:35.315Z"
   },
   {
    "duration": 9,
    "start_time": "2021-06-27T17:47:35.327Z"
   },
   {
    "duration": 20,
    "start_time": "2021-06-27T17:47:35.338Z"
   },
   {
    "duration": 34,
    "start_time": "2021-06-27T17:47:35.386Z"
   },
   {
    "duration": 251,
    "start_time": "2021-06-27T17:47:35.423Z"
   },
   {
    "duration": 885203,
    "start_time": "2021-06-27T17:48:00.437Z"
   },
   {
    "duration": 2401,
    "start_time": "2021-06-27T18:03:32.962Z"
   },
   {
    "duration": 4036,
    "start_time": "2021-06-27T18:03:35.365Z"
   },
   {
    "duration": 1251,
    "start_time": "2021-06-27T18:03:39.404Z"
   },
   {
    "duration": -53,
    "start_time": "2021-06-27T18:03:40.711Z"
   },
   {
    "duration": -56,
    "start_time": "2021-06-27T18:03:40.715Z"
   },
   {
    "duration": -59,
    "start_time": "2021-06-27T18:03:40.719Z"
   },
   {
    "duration": -60,
    "start_time": "2021-06-27T18:03:40.722Z"
   },
   {
    "duration": 53,
    "start_time": "2021-06-27T18:03:59.298Z"
   },
   {
    "duration": 11,
    "start_time": "2021-06-27T18:03:59.354Z"
   },
   {
    "duration": 72,
    "start_time": "2021-06-27T18:03:59.367Z"
   },
   {
    "duration": 6,
    "start_time": "2021-06-27T18:03:59.442Z"
   },
   {
    "duration": 11,
    "start_time": "2021-06-27T18:03:59.451Z"
   },
   {
    "duration": 13,
    "start_time": "2021-06-27T18:03:59.486Z"
   },
   {
    "duration": 17,
    "start_time": "2021-06-27T18:03:59.501Z"
   },
   {
    "duration": 15,
    "start_time": "2021-06-27T18:03:59.522Z"
   },
   {
    "duration": 9,
    "start_time": "2021-06-27T18:03:59.540Z"
   },
   {
    "duration": 51,
    "start_time": "2021-06-27T18:03:59.551Z"
   },
   {
    "duration": 19,
    "start_time": "2021-06-27T18:03:59.604Z"
   },
   {
    "duration": 11,
    "start_time": "2021-06-27T18:03:59.626Z"
   },
   {
    "duration": 7,
    "start_time": "2021-06-27T18:03:59.639Z"
   },
   {
    "duration": 41,
    "start_time": "2021-06-27T18:03:59.648Z"
   },
   {
    "duration": 11,
    "start_time": "2021-06-27T18:03:59.692Z"
   },
   {
    "duration": 37,
    "start_time": "2021-06-27T18:03:59.706Z"
   },
   {
    "duration": 259,
    "start_time": "2021-06-27T18:03:59.746Z"
   },
   {
    "duration": 838,
    "start_time": "2021-06-27T18:04:00.008Z"
   },
   {
    "duration": 180,
    "start_time": "2021-06-27T18:04:00.849Z"
   },
   {
    "duration": 46935,
    "start_time": "2021-06-27T18:04:01.032Z"
   },
   {
    "duration": 58585,
    "start_time": "2021-06-27T18:04:47.970Z"
   },
   {
    "duration": 130,
    "start_time": "2021-06-27T18:05:46.558Z"
   },
   {
    "duration": 104,
    "start_time": "2021-06-27T18:05:46.694Z"
   },
   {
    "duration": 44186,
    "start_time": "2021-06-27T18:05:46.801Z"
   },
   {
    "duration": 63305,
    "start_time": "2021-06-27T18:06:30.990Z"
   },
   {
    "duration": 22,
    "start_time": "2021-06-27T18:07:34.297Z"
   },
   {
    "duration": 23,
    "start_time": "2021-06-27T18:07:54.499Z"
   },
   {
    "duration": 103166,
    "start_time": "2021-06-27T18:09:06.562Z"
   },
   {
    "duration": 141143,
    "start_time": "2021-06-27T18:12:33.414Z"
   },
   {
    "duration": 53,
    "start_time": "2021-06-27T18:15:49.919Z"
   },
   {
    "duration": 15,
    "start_time": "2021-06-27T18:15:49.975Z"
   },
   {
    "duration": 64,
    "start_time": "2021-06-27T18:15:49.994Z"
   },
   {
    "duration": 29,
    "start_time": "2021-06-27T18:15:50.061Z"
   },
   {
    "duration": 17,
    "start_time": "2021-06-27T18:15:50.093Z"
   },
   {
    "duration": 11,
    "start_time": "2021-06-27T18:15:50.113Z"
   },
   {
    "duration": 14,
    "start_time": "2021-06-27T18:15:50.127Z"
   },
   {
    "duration": 16,
    "start_time": "2021-06-27T18:15:50.188Z"
   },
   {
    "duration": 10,
    "start_time": "2021-06-27T18:15:50.207Z"
   },
   {
    "duration": 23,
    "start_time": "2021-06-27T18:15:50.220Z"
   },
   {
    "duration": 58,
    "start_time": "2021-06-27T18:15:50.247Z"
   },
   {
    "duration": 11,
    "start_time": "2021-06-27T18:15:50.308Z"
   },
   {
    "duration": 14,
    "start_time": "2021-06-27T18:15:50.323Z"
   },
   {
    "duration": 45,
    "start_time": "2021-06-27T18:15:50.340Z"
   },
   {
    "duration": 16,
    "start_time": "2021-06-27T18:15:50.388Z"
   },
   {
    "duration": 43,
    "start_time": "2021-06-27T18:15:50.407Z"
   },
   {
    "duration": 27,
    "start_time": "2021-06-27T18:15:59.901Z"
   },
   {
    "duration": 146261,
    "start_time": "2021-06-27T18:16:28.377Z"
   },
   {
    "duration": 328130,
    "start_time": "2021-06-27T18:19:58.521Z"
   },
   {
    "duration": 18,
    "start_time": "2021-06-27T18:36:04.417Z"
   },
   {
    "duration": 18669,
    "start_time": "2021-06-27T18:36:15.323Z"
   },
   {
    "duration": 208,
    "start_time": "2021-06-27T18:38:27.257Z"
   },
   {
    "duration": 19694,
    "start_time": "2021-06-27T18:39:57.843Z"
   },
   {
    "duration": 5,
    "start_time": "2021-06-27T18:48:57.032Z"
   },
   {
    "duration": 3846,
    "start_time": "2021-06-27T18:51:41.938Z"
   },
   {
    "duration": 8,
    "start_time": "2021-06-27T18:52:12.165Z"
   },
   {
    "duration": 6,
    "start_time": "2021-06-27T18:54:34.609Z"
   },
   {
    "duration": 5094,
    "start_time": "2021-06-27T18:54:37.603Z"
   },
   {
    "duration": 8,
    "start_time": "2021-06-27T18:54:45.487Z"
   },
   {
    "duration": 8,
    "start_time": "2021-06-27T18:56:26.228Z"
   },
   {
    "duration": 8,
    "start_time": "2021-06-27T18:56:52.822Z"
   },
   {
    "duration": 25,
    "start_time": "2021-06-27T18:59:18.531Z"
   },
   {
    "duration": 7,
    "start_time": "2021-06-27T18:59:49.661Z"
   },
   {
    "duration": 9,
    "start_time": "2021-06-27T18:59:56.961Z"
   },
   {
    "duration": 22,
    "start_time": "2021-06-27T19:00:48.978Z"
   },
   {
    "duration": 302,
    "start_time": "2021-06-27T19:00:50.286Z"
   },
   {
    "duration": 23,
    "start_time": "2021-06-27T19:02:12.738Z"
   },
   {
    "duration": 333,
    "start_time": "2021-06-27T19:02:13.679Z"
   },
   {
    "duration": 7,
    "start_time": "2021-06-27T19:02:18.890Z"
   },
   {
    "duration": 296,
    "start_time": "2021-06-27T19:02:37.439Z"
   },
   {
    "duration": 17,
    "start_time": "2021-06-27T19:03:20.271Z"
   },
   {
    "duration": 7,
    "start_time": "2021-06-27T19:03:21.096Z"
   },
   {
    "duration": 8,
    "start_time": "2021-06-27T19:03:21.917Z"
   },
   {
    "duration": 18,
    "start_time": "2021-06-27T19:04:36.294Z"
   },
   {
    "duration": 7,
    "start_time": "2021-06-27T19:04:37.715Z"
   },
   {
    "duration": 8,
    "start_time": "2021-06-27T19:04:38.408Z"
   },
   {
    "duration": 17,
    "start_time": "2021-06-27T19:04:49.030Z"
   },
   {
    "duration": 7,
    "start_time": "2021-06-27T19:04:49.490Z"
   },
   {
    "duration": 8,
    "start_time": "2021-06-27T19:04:49.906Z"
   },
   {
    "duration": 17,
    "start_time": "2021-06-27T19:04:56.236Z"
   },
   {
    "duration": 7,
    "start_time": "2021-06-27T19:04:58.200Z"
   },
   {
    "duration": 8,
    "start_time": "2021-06-27T19:04:58.466Z"
   },
   {
    "duration": 23530,
    "start_time": "2021-06-27T19:05:16.430Z"
   },
   {
    "duration": 45076,
    "start_time": "2021-06-27T19:06:39.493Z"
   },
   {
    "duration": 23768,
    "start_time": "2021-06-27T19:09:17.226Z"
   },
   {
    "duration": 33934,
    "start_time": "2021-06-27T19:10:15.254Z"
   },
   {
    "duration": 27,
    "start_time": "2021-06-27T19:12:41.342Z"
   },
   {
    "duration": 26,
    "start_time": "2021-06-27T19:12:51.781Z"
   },
   {
    "duration": 22,
    "start_time": "2021-06-27T19:13:12.127Z"
   },
   {
    "duration": 25,
    "start_time": "2021-06-27T19:13:18.048Z"
   },
   {
    "duration": 235,
    "start_time": "2021-06-27T19:14:43.289Z"
   },
   {
    "duration": 32,
    "start_time": "2021-06-27T19:16:00.162Z"
   },
   {
    "duration": 25,
    "start_time": "2021-06-27T19:17:17.613Z"
   },
   {
    "duration": 11,
    "start_time": "2021-06-27T19:17:38.353Z"
   },
   {
    "duration": 51278,
    "start_time": "2021-06-27T19:17:51.051Z"
   },
   {
    "duration": 39897,
    "start_time": "2021-06-27T19:23:53.090Z"
   },
   {
    "duration": 26,
    "start_time": "2021-06-27T19:25:16.387Z"
   },
   {
    "duration": 56952,
    "start_time": "2021-06-27T19:25:18.982Z"
   },
   {
    "duration": 46884,
    "start_time": "2021-06-27T19:27:14.119Z"
   },
   {
    "duration": 15,
    "start_time": "2021-06-27T19:31:57.558Z"
   },
   {
    "duration": 307,
    "start_time": "2021-06-27T19:34:40.537Z"
   },
   {
    "duration": 17,
    "start_time": "2021-06-27T19:35:09.314Z"
   },
   {
    "duration": 19,
    "start_time": "2021-06-27T19:36:14.725Z"
   },
   {
    "duration": 20,
    "start_time": "2021-06-27T19:36:23.961Z"
   },
   {
    "duration": 78,
    "start_time": "2021-06-27T19:42:28.812Z"
   },
   {
    "duration": 829,
    "start_time": "2021-06-27T19:44:37.047Z"
   },
   {
    "duration": 12,
    "start_time": "2021-06-27T19:44:37.879Z"
   },
   {
    "duration": 64,
    "start_time": "2021-06-27T19:44:37.894Z"
   },
   {
    "duration": 27,
    "start_time": "2021-06-27T19:44:37.962Z"
   },
   {
    "duration": 10,
    "start_time": "2021-06-27T19:44:37.992Z"
   },
   {
    "duration": 9,
    "start_time": "2021-06-27T19:44:38.005Z"
   },
   {
    "duration": 16,
    "start_time": "2021-06-27T19:44:38.017Z"
   },
   {
    "duration": 58,
    "start_time": "2021-06-27T19:44:38.037Z"
   },
   {
    "duration": 10,
    "start_time": "2021-06-27T19:44:38.098Z"
   },
   {
    "duration": 19,
    "start_time": "2021-06-27T19:44:38.111Z"
   },
   {
    "duration": 20,
    "start_time": "2021-06-27T19:44:38.133Z"
   },
   {
    "duration": 621,
    "start_time": "2021-06-27T19:44:38.156Z"
   },
   {
    "duration": 11,
    "start_time": "2021-06-27T19:44:38.780Z"
   },
   {
    "duration": 9,
    "start_time": "2021-06-27T19:44:38.794Z"
   },
   {
    "duration": 10,
    "start_time": "2021-06-27T19:44:38.806Z"
   },
   {
    "duration": 76,
    "start_time": "2021-06-27T19:44:38.819Z"
   },
   {
    "duration": 342,
    "start_time": "2021-06-27T19:44:38.898Z"
   },
   {
    "duration": 977,
    "start_time": "2021-06-27T19:44:39.243Z"
   },
   {
    "duration": 187,
    "start_time": "2021-06-27T19:44:40.224Z"
   },
   {
    "duration": 44045,
    "start_time": "2021-06-27T19:44:40.413Z"
   },
   {
    "duration": 57330,
    "start_time": "2021-06-27T19:45:24.461Z"
   },
   {
    "duration": 97,
    "start_time": "2021-06-27T19:46:21.794Z"
   },
   {
    "duration": 102,
    "start_time": "2021-06-27T19:46:21.899Z"
   },
   {
    "duration": 58808,
    "start_time": "2021-06-27T19:46:22.005Z"
   },
   {
    "duration": 98905,
    "start_time": "2021-06-27T19:47:20.816Z"
   },
   {
    "duration": 36,
    "start_time": "2021-06-27T19:48:59.724Z"
   },
   {
    "duration": 78376,
    "start_time": "2021-06-27T19:48:59.763Z"
   },
   {
    "duration": 64504,
    "start_time": "2021-06-27T19:50:18.142Z"
   },
   {
    "duration": 49,
    "start_time": "2021-06-27T19:51:22.650Z"
   },
   {
    "duration": 36473,
    "start_time": "2021-06-27T19:51:22.702Z"
   },
   {
    "duration": 35056,
    "start_time": "2021-06-27T19:51:59.178Z"
   },
   {
    "duration": 19,
    "start_time": "2021-06-27T19:52:34.236Z"
   },
   {
    "duration": 57,
    "start_time": "2021-06-27T19:55:21.102Z"
   },
   {
    "duration": 58,
    "start_time": "2021-06-27T19:55:47.002Z"
   },
   {
    "duration": 19,
    "start_time": "2021-06-27T20:04:35.860Z"
   },
   {
    "duration": 19,
    "start_time": "2021-06-27T20:05:57.333Z"
   },
   {
    "duration": 17,
    "start_time": "2021-06-27T20:06:10.636Z"
   },
   {
    "duration": 824,
    "start_time": "2021-06-27T20:25:07.975Z"
   },
   {
    "duration": 13,
    "start_time": "2021-06-27T20:25:08.802Z"
   },
   {
    "duration": 86,
    "start_time": "2021-06-27T20:25:08.819Z"
   },
   {
    "duration": 7,
    "start_time": "2021-06-27T20:25:08.908Z"
   },
   {
    "duration": 13,
    "start_time": "2021-06-27T20:25:08.917Z"
   },
   {
    "duration": 9,
    "start_time": "2021-06-27T20:25:08.933Z"
   },
   {
    "duration": 50,
    "start_time": "2021-06-27T20:25:08.945Z"
   },
   {
    "duration": 19,
    "start_time": "2021-06-27T20:25:09.001Z"
   },
   {
    "duration": 10,
    "start_time": "2021-06-27T20:25:09.024Z"
   },
   {
    "duration": 57,
    "start_time": "2021-06-27T20:25:09.037Z"
   },
   {
    "duration": 20,
    "start_time": "2021-06-27T20:25:09.097Z"
   },
   {
    "duration": 571,
    "start_time": "2021-06-27T20:25:09.120Z"
   },
   {
    "duration": 7,
    "start_time": "2021-06-27T20:25:09.694Z"
   },
   {
    "duration": 8,
    "start_time": "2021-06-27T20:25:09.704Z"
   },
   {
    "duration": 10,
    "start_time": "2021-06-27T20:25:09.715Z"
   },
   {
    "duration": 69,
    "start_time": "2021-06-27T20:25:09.728Z"
   },
   {
    "duration": 351,
    "start_time": "2021-06-27T20:25:09.799Z"
   },
   {
    "duration": 844,
    "start_time": "2021-06-27T20:25:10.154Z"
   },
   {
    "duration": 173,
    "start_time": "2021-06-27T20:25:11.001Z"
   },
   {
    "duration": 41966,
    "start_time": "2021-06-27T20:25:11.177Z"
   },
   {
    "duration": 54896,
    "start_time": "2021-06-27T20:25:53.145Z"
   },
   {
    "duration": 147,
    "start_time": "2021-06-27T20:26:48.043Z"
   },
   {
    "duration": 101,
    "start_time": "2021-06-27T20:26:48.196Z"
   },
   {
    "duration": 41740,
    "start_time": "2021-06-27T20:26:48.301Z"
   },
   {
    "duration": 61486,
    "start_time": "2021-06-27T20:27:30.043Z"
   },
   {
    "duration": 24,
    "start_time": "2021-06-27T20:28:31.531Z"
   },
   {
    "duration": 48423,
    "start_time": "2021-06-27T20:28:31.558Z"
   },
   {
    "duration": 39570,
    "start_time": "2021-06-27T20:29:19.987Z"
   },
   {
    "duration": 40,
    "start_time": "2021-06-27T20:29:59.560Z"
   },
   {
    "duration": 23716,
    "start_time": "2021-06-27T20:29:59.603Z"
   },
   {
    "duration": 33710,
    "start_time": "2021-06-27T20:30:23.322Z"
   },
   {
    "duration": 17,
    "start_time": "2021-06-27T20:30:57.035Z"
   },
   {
    "duration": 78,
    "start_time": "2021-06-27T20:30:57.055Z"
   }
  ],
  "kernelspec": {
   "display_name": "Python 3 (ipykernel)",
   "language": "python",
   "name": "python3"
  },
  "language_info": {
   "codemirror_mode": {
    "name": "ipython",
    "version": 3
   },
   "file_extension": ".py",
   "mimetype": "text/x-python",
   "name": "python",
   "nbconvert_exporter": "python",
   "pygments_lexer": "ipython3",
   "version": "3.9.5"
  },
  "toc": {
   "base_numbering": 1,
   "nav_menu": {},
   "number_sections": true,
   "sideBar": true,
   "skip_h1_title": true,
   "title_cell": "Table of Contents",
   "title_sidebar": "Contents",
   "toc_cell": true,
   "toc_position": {
    "height": "calc(100% - 180px)",
    "left": "10px",
    "top": "150px",
    "width": "201px"
   },
   "toc_section_display": true,
   "toc_window_display": true
  }
 },
 "nbformat": 4,
 "nbformat_minor": 2
}
