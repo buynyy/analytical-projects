{
 "cells": [
  {
   "cell_type": "markdown",
   "metadata": {
    "toc": true
   },
   "source": [
    "<h1>Table of Contents<span class=\"tocSkip\"></span></h1>\n",
    "<div class=\"toc\"><ul class=\"toc-item\"><li><span><a href=\"#Project-Description\" data-toc-modified-id=\"Project-Description-1\"><span class=\"toc-item-num\">1&nbsp;&nbsp;</span>Project Description</a></span></li><li><span><a href=\"#Imports\" data-toc-modified-id=\"Imports-2\"><span class=\"toc-item-num\">2&nbsp;&nbsp;</span>Imports</a></span></li><li><span><a href=\"#Dataset-Loading-&amp;-Exploration\" data-toc-modified-id=\"Dataset-Loading-&amp;-Exploration-3\"><span class=\"toc-item-num\">3&nbsp;&nbsp;</span>Dataset Loading &amp; Exploration</a></span><ul class=\"toc-item\"><li><span><a href=\"#Detected-problems\" data-toc-modified-id=\"Detected-problems-3.1\"><span class=\"toc-item-num\">3.1&nbsp;&nbsp;</span>Detected problems</a></span></li><li><span><a href=\"#Data-Preprocessing\" data-toc-modified-id=\"Data-Preprocessing-3.2\"><span class=\"toc-item-num\">3.2&nbsp;&nbsp;</span>Data Preprocessing</a></span><ul class=\"toc-item\"><li><span><a href=\"#Change-of-Formats\" data-toc-modified-id=\"Change-of-Formats-3.2.1\"><span class=\"toc-item-num\">3.2.1&nbsp;&nbsp;</span>Change of Formats</a></span></li><li><span><a href=\"#Index-Setting\" data-toc-modified-id=\"Index-Setting-3.2.2\"><span class=\"toc-item-num\">3.2.2&nbsp;&nbsp;</span>Index Setting</a></span></li><li><span><a href=\"#Chronological-Order\" data-toc-modified-id=\"Chronological-Order-3.2.3\"><span class=\"toc-item-num\">3.2.3&nbsp;&nbsp;</span>Chronological Order</a></span></li><li><span><a href=\"#Resampling\" data-toc-modified-id=\"Resampling-3.2.4\"><span class=\"toc-item-num\">3.2.4&nbsp;&nbsp;</span>Resampling</a></span></li></ul></li></ul></li><li><span><a href=\"#Exploratory-Data-Analysis\" data-toc-modified-id=\"Exploratory-Data-Analysis-4\"><span class=\"toc-item-num\">4&nbsp;&nbsp;</span>Exploratory Data Analysis</a></span></li><li><span><a href=\"#Model-Training\" data-toc-modified-id=\"Model-Training-5\"><span class=\"toc-item-num\">5&nbsp;&nbsp;</span>Model Training</a></span><ul class=\"toc-item\"><li><span><a href=\"#Data-Preparation\" data-toc-modified-id=\"Data-Preparation-5.1\"><span class=\"toc-item-num\">5.1&nbsp;&nbsp;</span>Data Preparation</a></span><ul class=\"toc-item\"><li><span><a href=\"#Samples-Formation\" data-toc-modified-id=\"Samples-Formation-5.1.1\"><span class=\"toc-item-num\">5.1.1&nbsp;&nbsp;</span>Samples Formation</a></span></li><li><span><a href=\"#Benchmark-Setting\" data-toc-modified-id=\"Benchmark-Setting-5.1.2\"><span class=\"toc-item-num\">5.1.2&nbsp;&nbsp;</span>Benchmark Setting</a></span></li><li><span><a href=\"#Window-Size-Value\" data-toc-modified-id=\"Window-Size-Value-5.1.3\"><span class=\"toc-item-num\">5.1.3&nbsp;&nbsp;</span>Window Size Value</a></span></li><li><span><a href=\"#Features-Generation\" data-toc-modified-id=\"Features-Generation-5.1.4\"><span class=\"toc-item-num\">5.1.4&nbsp;&nbsp;</span>Features Generation</a></span></li><li><span><a href=\"#Samples-Formation\" data-toc-modified-id=\"Samples-Formation-5.1.5\"><span class=\"toc-item-num\">5.1.5&nbsp;&nbsp;</span>Samples Formation</a></span></li></ul></li><li><span><a href=\"#Linear-Regression\" data-toc-modified-id=\"Linear-Regression-5.2\"><span class=\"toc-item-num\">5.2&nbsp;&nbsp;</span>Linear Regression</a></span></li><li><span><a href=\"#LGBMRegressor\" data-toc-modified-id=\"LGBMRegressor-5.3\"><span class=\"toc-item-num\">5.3&nbsp;&nbsp;</span>LGBMRegressor</a></span></li></ul></li><li><span><a href=\"#Models-Analysis\" data-toc-modified-id=\"Models-Analysis-6\"><span class=\"toc-item-num\">6&nbsp;&nbsp;</span>Models Analysis</a></span></li><li><span><a href=\"#Conclusions\" data-toc-modified-id=\"Conclusions-7\"><span class=\"toc-item-num\">7&nbsp;&nbsp;</span>Conclusions</a></span></li></ul></div>"
   ]
  },
  {
   "cell_type": "markdown",
   "metadata": {},
   "source": [
    "#  Taxi Orders Forecast"
   ]
  },
  {
   "cell_type": "markdown",
   "metadata": {},
   "source": [
    "## Project Description"
   ]
  },
  {
   "cell_type": "markdown",
   "metadata": {},
   "source": [
    "\"*Chetenkoe Taxi*\" company has collected historical data on taxi orders at airports. To attract more drivers during the peak period, it is required to predict the number of taxi orders for the next hour. The task is to build a model for such a prediction.\n",
    "\n",
    "**The value of the *RMSE* metric on the test set should not exceed 48.**\n",
    "\n",
    "Requirements:\n",
    "\n",
    "1. Load the data and resample it for one hour\n",
    "2. Analyze the data\n",
    "3. Train different models with different hyperparameters. Make a test sample of 10% of the original data.\n",
    "4. Check the data on the test sample and draw conclusions.\n",
    "\n",
    "\n",
    "The data is in the `taxi.csv` file. The number of orders is in the `num_orders` column."
   ]
  },
  {
   "cell_type": "markdown",
   "metadata": {},
   "source": [
    "## Imports"
   ]
  },
  {
   "cell_type": "code",
   "execution_count": 6,
   "metadata": {},
   "outputs": [],
   "source": [
    "import pandas as pd\n",
    "import numpy as np\n",
    "from statsmodels.tsa.seasonal import seasonal_decompose\n",
    "import matplotlib.pyplot as plt\n",
    "from sklearn.model_selection import train_test_split, GridSearchCV\n",
    "from sklearn.metrics import mean_squared_error\n",
    "from sklearn.linear_model import LinearRegression\n",
    "from lightgbm import LGBMRegressor"
   ]
  },
  {
   "cell_type": "markdown",
   "metadata": {},
   "source": [
    "## Dataset Loading & Exploration"
   ]
  },
  {
   "cell_type": "code",
   "execution_count": 7,
   "metadata": {
    "scrolled": false
   },
   "outputs": [
    {
     "data": {
      "text/html": [
       "<div>\n",
       "<style scoped>\n",
       "    .dataframe tbody tr th:only-of-type {\n",
       "        vertical-align: middle;\n",
       "    }\n",
       "\n",
       "    .dataframe tbody tr th {\n",
       "        vertical-align: top;\n",
       "    }\n",
       "\n",
       "    .dataframe thead th {\n",
       "        text-align: right;\n",
       "    }\n",
       "</style>\n",
       "<table border=\"1\" class=\"dataframe\">\n",
       "  <thead>\n",
       "    <tr style=\"text-align: right;\">\n",
       "      <th></th>\n",
       "      <th>datetime</th>\n",
       "      <th>num_orders</th>\n",
       "    </tr>\n",
       "  </thead>\n",
       "  <tbody>\n",
       "    <tr>\n",
       "      <th>0</th>\n",
       "      <td>2018-03-01 00:00:00</td>\n",
       "      <td>9</td>\n",
       "    </tr>\n",
       "    <tr>\n",
       "      <th>1</th>\n",
       "      <td>2018-03-01 00:10:00</td>\n",
       "      <td>14</td>\n",
       "    </tr>\n",
       "    <tr>\n",
       "      <th>2</th>\n",
       "      <td>2018-03-01 00:20:00</td>\n",
       "      <td>28</td>\n",
       "    </tr>\n",
       "    <tr>\n",
       "      <th>3</th>\n",
       "      <td>2018-03-01 00:30:00</td>\n",
       "      <td>20</td>\n",
       "    </tr>\n",
       "    <tr>\n",
       "      <th>4</th>\n",
       "      <td>2018-03-01 00:40:00</td>\n",
       "      <td>32</td>\n",
       "    </tr>\n",
       "    <tr>\n",
       "      <th>5</th>\n",
       "      <td>2018-03-01 00:50:00</td>\n",
       "      <td>21</td>\n",
       "    </tr>\n",
       "    <tr>\n",
       "      <th>6</th>\n",
       "      <td>2018-03-01 01:00:00</td>\n",
       "      <td>7</td>\n",
       "    </tr>\n",
       "    <tr>\n",
       "      <th>7</th>\n",
       "      <td>2018-03-01 01:10:00</td>\n",
       "      <td>5</td>\n",
       "    </tr>\n",
       "    <tr>\n",
       "      <th>8</th>\n",
       "      <td>2018-03-01 01:20:00</td>\n",
       "      <td>17</td>\n",
       "    </tr>\n",
       "    <tr>\n",
       "      <th>9</th>\n",
       "      <td>2018-03-01 01:30:00</td>\n",
       "      <td>12</td>\n",
       "    </tr>\n",
       "  </tbody>\n",
       "</table>\n",
       "</div>"
      ],
      "text/plain": [
       "              datetime  num_orders\n",
       "0  2018-03-01 00:00:00           9\n",
       "1  2018-03-01 00:10:00          14\n",
       "2  2018-03-01 00:20:00          28\n",
       "3  2018-03-01 00:30:00          20\n",
       "4  2018-03-01 00:40:00          32\n",
       "5  2018-03-01 00:50:00          21\n",
       "6  2018-03-01 01:00:00           7\n",
       "7  2018-03-01 01:10:00           5\n",
       "8  2018-03-01 01:20:00          17\n",
       "9  2018-03-01 01:30:00          12"
      ]
     },
     "metadata": {},
     "output_type": "display_data"
    },
    {
     "name": "stdout",
     "output_type": "stream",
     "text": [
      "<class 'pandas.core.frame.DataFrame'>\n",
      "RangeIndex: 26496 entries, 0 to 26495\n",
      "Data columns (total 2 columns):\n",
      " #   Column      Non-Null Count  Dtype \n",
      "---  ------      --------------  ----- \n",
      " 0   datetime    26496 non-null  object\n",
      " 1   num_orders  26496 non-null  int64 \n",
      "dtypes: int64(1), object(1)\n",
      "memory usage: 414.1+ KB\n"
     ]
    },
    {
     "data": {
      "text/plain": [
       "None"
      ]
     },
     "metadata": {},
     "output_type": "display_data"
    },
    {
     "data": {
      "text/html": [
       "<div>\n",
       "<style scoped>\n",
       "    .dataframe tbody tr th:only-of-type {\n",
       "        vertical-align: middle;\n",
       "    }\n",
       "\n",
       "    .dataframe tbody tr th {\n",
       "        vertical-align: top;\n",
       "    }\n",
       "\n",
       "    .dataframe thead th {\n",
       "        text-align: right;\n",
       "    }\n",
       "</style>\n",
       "<table border=\"1\" class=\"dataframe\">\n",
       "  <thead>\n",
       "    <tr style=\"text-align: right;\">\n",
       "      <th></th>\n",
       "      <th>num_orders</th>\n",
       "    </tr>\n",
       "  </thead>\n",
       "  <tbody>\n",
       "    <tr>\n",
       "      <th>count</th>\n",
       "      <td>26496.000000</td>\n",
       "    </tr>\n",
       "    <tr>\n",
       "      <th>mean</th>\n",
       "      <td>14.070463</td>\n",
       "    </tr>\n",
       "    <tr>\n",
       "      <th>std</th>\n",
       "      <td>9.211330</td>\n",
       "    </tr>\n",
       "    <tr>\n",
       "      <th>min</th>\n",
       "      <td>0.000000</td>\n",
       "    </tr>\n",
       "    <tr>\n",
       "      <th>25%</th>\n",
       "      <td>8.000000</td>\n",
       "    </tr>\n",
       "    <tr>\n",
       "      <th>50%</th>\n",
       "      <td>13.000000</td>\n",
       "    </tr>\n",
       "    <tr>\n",
       "      <th>75%</th>\n",
       "      <td>19.000000</td>\n",
       "    </tr>\n",
       "    <tr>\n",
       "      <th>max</th>\n",
       "      <td>119.000000</td>\n",
       "    </tr>\n",
       "  </tbody>\n",
       "</table>\n",
       "</div>"
      ],
      "text/plain": [
       "         num_orders\n",
       "count  26496.000000\n",
       "mean      14.070463\n",
       "std        9.211330\n",
       "min        0.000000\n",
       "25%        8.000000\n",
       "50%       13.000000\n",
       "75%       19.000000\n",
       "max      119.000000"
      ]
     },
     "metadata": {},
     "output_type": "display_data"
    }
   ],
   "source": [
    "df = pd.read_csv('/datasets/taxi.csv')\n",
    "\n",
    "display(df.head(10))\n",
    "display(df.info())\n",
    "display(df.describe())"
   ]
  },
  {
   "cell_type": "code",
   "execution_count": 8,
   "metadata": {},
   "outputs": [
    {
     "data": {
      "text/html": [
       "<div>\n",
       "<style scoped>\n",
       "    .dataframe tbody tr th:only-of-type {\n",
       "        vertical-align: middle;\n",
       "    }\n",
       "\n",
       "    .dataframe tbody tr th {\n",
       "        vertical-align: top;\n",
       "    }\n",
       "\n",
       "    .dataframe thead th {\n",
       "        text-align: right;\n",
       "    }\n",
       "</style>\n",
       "<table border=\"1\" class=\"dataframe\">\n",
       "  <thead>\n",
       "    <tr style=\"text-align: right;\">\n",
       "      <th></th>\n",
       "      <th>datetime</th>\n",
       "      <th>num_orders</th>\n",
       "    </tr>\n",
       "  </thead>\n",
       "  <tbody>\n",
       "    <tr>\n",
       "      <th>0</th>\n",
       "      <td>2018-03-01 00:00:00</td>\n",
       "      <td>9</td>\n",
       "    </tr>\n",
       "    <tr>\n",
       "      <th>1</th>\n",
       "      <td>2018-03-01 00:10:00</td>\n",
       "      <td>14</td>\n",
       "    </tr>\n",
       "    <tr>\n",
       "      <th>2</th>\n",
       "      <td>2018-03-01 00:20:00</td>\n",
       "      <td>28</td>\n",
       "    </tr>\n",
       "    <tr>\n",
       "      <th>3</th>\n",
       "      <td>2018-03-01 00:30:00</td>\n",
       "      <td>20</td>\n",
       "    </tr>\n",
       "    <tr>\n",
       "      <th>4</th>\n",
       "      <td>2018-03-01 00:40:00</td>\n",
       "      <td>32</td>\n",
       "    </tr>\n",
       "    <tr>\n",
       "      <th>5</th>\n",
       "      <td>2018-03-01 00:50:00</td>\n",
       "      <td>21</td>\n",
       "    </tr>\n",
       "    <tr>\n",
       "      <th>6</th>\n",
       "      <td>2018-03-01 01:00:00</td>\n",
       "      <td>7</td>\n",
       "    </tr>\n",
       "    <tr>\n",
       "      <th>7</th>\n",
       "      <td>2018-03-01 01:10:00</td>\n",
       "      <td>5</td>\n",
       "    </tr>\n",
       "    <tr>\n",
       "      <th>8</th>\n",
       "      <td>2018-03-01 01:20:00</td>\n",
       "      <td>17</td>\n",
       "    </tr>\n",
       "    <tr>\n",
       "      <th>9</th>\n",
       "      <td>2018-03-01 01:30:00</td>\n",
       "      <td>12</td>\n",
       "    </tr>\n",
       "  </tbody>\n",
       "</table>\n",
       "</div>"
      ],
      "text/plain": [
       "              datetime  num_orders\n",
       "0  2018-03-01 00:00:00           9\n",
       "1  2018-03-01 00:10:00          14\n",
       "2  2018-03-01 00:20:00          28\n",
       "3  2018-03-01 00:30:00          20\n",
       "4  2018-03-01 00:40:00          32\n",
       "5  2018-03-01 00:50:00          21\n",
       "6  2018-03-01 01:00:00           7\n",
       "7  2018-03-01 01:10:00           5\n",
       "8  2018-03-01 01:20:00          17\n",
       "9  2018-03-01 01:30:00          12"
      ]
     },
     "execution_count": 8,
     "metadata": {},
     "output_type": "execute_result"
    }
   ],
   "source": [
    "df.head(10)"
   ]
  },
  {
   "cell_type": "markdown",
   "metadata": {},
   "source": [
    "### Detected problems"
   ]
  },
  {
   "cell_type": "markdown",
   "metadata": {},
   "source": [
    "- It is required to convert `datetime` field from **object** to **datetime64** format\n",
    "\n",
    "\n",
    "- It is required to set the table index equal to the `datetime` field in order to work correctly with a time series\n",
    "\n",
    "\n",
    "- Check if dates and time are in chronological order\n",
    "\n",
    "\n",
    "- It looks like taxi orders are available for every 10 minutes in the original dataframe (we'll check this later). Resampling is going to be performed in such way so that the number of orders is displayed for each hour for each date"
   ]
  },
  {
   "cell_type": "markdown",
   "metadata": {},
   "source": [
    "### Data Preprocessing"
   ]
  },
  {
   "cell_type": "markdown",
   "metadata": {},
   "source": [
    "#### Change of Formats"
   ]
  },
  {
   "cell_type": "code",
   "execution_count": 9,
   "metadata": {},
   "outputs": [
    {
     "name": "stdout",
     "output_type": "stream",
     "text": [
      "<class 'pandas.core.frame.DataFrame'>\n",
      "RangeIndex: 26496 entries, 0 to 26495\n",
      "Data columns (total 2 columns):\n",
      " #   Column      Non-Null Count  Dtype         \n",
      "---  ------      --------------  -----         \n",
      " 0   datetime    26496 non-null  datetime64[ns]\n",
      " 1   num_orders  26496 non-null  int64         \n",
      "dtypes: datetime64[ns](1), int64(1)\n",
      "memory usage: 414.1 KB\n"
     ]
    }
   ],
   "source": [
    "df['datetime'] = df['datetime'].astype('datetime64') \n",
    "\n",
    "df.info()"
   ]
  },
  {
   "cell_type": "markdown",
   "metadata": {},
   "source": [
    "#### Index Setting"
   ]
  },
  {
   "cell_type": "code",
   "execution_count": 10,
   "metadata": {
    "scrolled": false
   },
   "outputs": [
    {
     "data": {
      "text/html": [
       "<div>\n",
       "<style scoped>\n",
       "    .dataframe tbody tr th:only-of-type {\n",
       "        vertical-align: middle;\n",
       "    }\n",
       "\n",
       "    .dataframe tbody tr th {\n",
       "        vertical-align: top;\n",
       "    }\n",
       "\n",
       "    .dataframe thead th {\n",
       "        text-align: right;\n",
       "    }\n",
       "</style>\n",
       "<table border=\"1\" class=\"dataframe\">\n",
       "  <thead>\n",
       "    <tr style=\"text-align: right;\">\n",
       "      <th></th>\n",
       "      <th>num_orders</th>\n",
       "    </tr>\n",
       "    <tr>\n",
       "      <th>datetime</th>\n",
       "      <th></th>\n",
       "    </tr>\n",
       "  </thead>\n",
       "  <tbody>\n",
       "    <tr>\n",
       "      <th>2018-03-01 00:00:00</th>\n",
       "      <td>9</td>\n",
       "    </tr>\n",
       "    <tr>\n",
       "      <th>2018-03-01 00:10:00</th>\n",
       "      <td>14</td>\n",
       "    </tr>\n",
       "    <tr>\n",
       "      <th>2018-03-01 00:20:00</th>\n",
       "      <td>28</td>\n",
       "    </tr>\n",
       "    <tr>\n",
       "      <th>2018-03-01 00:30:00</th>\n",
       "      <td>20</td>\n",
       "    </tr>\n",
       "    <tr>\n",
       "      <th>2018-03-01 00:40:00</th>\n",
       "      <td>32</td>\n",
       "    </tr>\n",
       "  </tbody>\n",
       "</table>\n",
       "</div>"
      ],
      "text/plain": [
       "                     num_orders\n",
       "datetime                       \n",
       "2018-03-01 00:00:00           9\n",
       "2018-03-01 00:10:00          14\n",
       "2018-03-01 00:20:00          28\n",
       "2018-03-01 00:30:00          20\n",
       "2018-03-01 00:40:00          32"
      ]
     },
     "execution_count": 10,
     "metadata": {},
     "output_type": "execute_result"
    }
   ],
   "source": [
    "df.set_index('datetime', inplace=True)\n",
    "\n",
    "df.head(5)"
   ]
  },
  {
   "cell_type": "markdown",
   "metadata": {},
   "source": [
    "#### Chronological Order"
   ]
  },
  {
   "cell_type": "code",
   "execution_count": 11,
   "metadata": {
    "scrolled": true
   },
   "outputs": [
    {
     "name": "stdout",
     "output_type": "stream",
     "text": [
      "Sorting is not required\n"
     ]
    }
   ],
   "source": [
    "if df.index.is_monotonic == False:\n",
    "    df.sort_index(inplace=True)\n",
    "    print('Indexes are sorted out')\n",
    "    \n",
    "else:\n",
    "    print('Sorting is not required')    "
   ]
  },
  {
   "cell_type": "markdown",
   "metadata": {},
   "source": [
    "#### Resampling"
   ]
  },
  {
   "cell_type": "code",
   "execution_count": 12,
   "metadata": {},
   "outputs": [
    {
     "name": "stdout",
     "output_type": "stream",
     "text": [
      "0 days 00:10:00    26495\n",
      "Name: datetime, dtype: int64\n"
     ]
    }
   ],
   "source": [
    "print(df.index.to_series().diff().value_counts())"
   ]
  },
  {
   "cell_type": "markdown",
   "metadata": {},
   "source": [
    "Therefore, we see that the data is actually available for 10 minutes on each of the dates. Let's resample:"
   ]
  },
  {
   "cell_type": "code",
   "execution_count": 13,
   "metadata": {},
   "outputs": [
    {
     "name": "stdout",
     "output_type": "stream",
     "text": [
      "0 days 01:00:00    4415\n",
      "Name: datetime, dtype: int64\n"
     ]
    }
   ],
   "source": [
    "df = df.resample('1H').sum()\n",
    "\n",
    "print(df.index.to_series().diff().value_counts())"
   ]
  },
  {
   "cell_type": "markdown",
   "metadata": {},
   "source": [
    "Resampling and initial data preparation of the time series were successfully performed"
   ]
  },
  {
   "cell_type": "markdown",
   "metadata": {},
   "source": [
    "## Exploratory Data Analysis"
   ]
  },
  {
   "cell_type": "markdown",
   "metadata": {},
   "source": [
    "We will break the resampled dataset into trend, seasonality and random part in order to understand what it consists of"
   ]
  },
  {
   "cell_type": "code",
   "execution_count": 14,
   "metadata": {},
   "outputs": [],
   "source": [
    "def ts_analysis(data, elements):\n",
    "    \n",
    "    decomposed = seasonal_decompose(data)\n",
    "    \n",
    "    if elements == 0:\n",
    "        plt.rcParams['figure.figsize'] = [17,18]\n",
    "        plt.subplot(311)\n",
    "        decomposed.trend.plot(ax=plt.gca())\n",
    "        plt.title('Trend')\n",
    "\n",
    "        plt.subplot(312)\n",
    "        decomposed.seasonal.plot(ax=plt.gca()) \n",
    "        plt.title('Seasonality')\n",
    "\n",
    "        plt.subplot(313)\n",
    "        decomposed.resid.plot (ax=plt.gca())\n",
    "        plt.title('Residuals')\n",
    "\n",
    "        plt.tight_layout()\n",
    "    \n",
    "    elif elements == 1:\n",
    "        plt.rcParams['figure.figsize'] = [17,5]\n",
    "        decomposed.trend.plot()\n",
    "        plt.title('Trend')\n",
    "        \n",
    "    elif elements == 2:\n",
    "        plt.rcParams['figure.figsize'] = [17,5]\n",
    "        decomposed.seasonal.plot() \n",
    "        plt.title('Seasonality')\n",
    "        \n",
    "    elif elements == 3:\n",
    "        plt.rcParams['figure.figsize'] = [17,5]\n",
    "        decomposed.resid.plot ()\n",
    "        plt.title('Residuals')\n",
    "    \n",
    "    else:\n",
    "        print('Invalid input. Enter an integer [0;3]')"
   ]
  },
  {
   "cell_type": "code",
   "execution_count": 15,
   "metadata": {
    "scrolled": false
   },
   "outputs": [
    {
     "data": {
      "image/png": "[encoded data removed]",
      "text/plain": [
       "<Figure size 1224x1296 with 3 Axes>"
      ]
     },
     "metadata": {
      "needs_background": "light"
     },
     "output_type": "display_data"
    }
   ],
   "source": [
    "ts_analysis(df, 0)"
   ]
  },
  {
   "cell_type": "markdown",
   "metadata": {},
   "source": [
    "* Looking at the trend, in general, everything is quite transparent - we can see that the number of orders per hour increases over time\n",
    "\n",
    "\n",
    "* With seasonality nothing is clear at all, based on the constructed graph. We should take a shorter period (for example, the first 10 days of 2018-03, in order to study it in more detail\n",
    "\n",
    "\n",
    "* The random part looks quite stationary - its distribution hardly changes over time. At some time intervals, change in the standard deviation  can be spotted - this is most noticeable for the period 2018-08"
   ]
  },
  {
   "cell_type": "code",
   "execution_count": 16,
   "metadata": {},
   "outputs": [
    {
     "data": {
      "image/png": "[encoded data removed]",
      "text/plain": [
       "<Figure size 1224x360 with 1 Axes>"
      ]
     },
     "metadata": {
      "needs_background": "light"
     },
     "output_type": "display_data"
    }
   ],
   "source": [
    "ts_analysis(df['2018-03-01':'2018-03-10'], 2)"
   ]
  },
  {
   "cell_type": "markdown",
   "metadata": {},
   "source": [
    "After taking a shorter period for the seasonality, it is possible to see its presence within one day. It is clear that by the evening the demand for taxi orders is growing equally. As a result, the number of orders is increasing."
   ]
  },
  {
   "cell_type": "markdown",
   "metadata": {},
   "source": [
    "## Model Training "
   ]
  },
  {
   "cell_type": "markdown",
   "metadata": {},
   "source": [
    "We will take several models for training:\n",
    "\n",
    "- LinearRegression\n",
    "\n",
    "- LGBMRegressor\n",
    "\n",
    "---\n",
    "Let's try different hyperparameters for each of the models. As the **main metric** for the prediction of the next hour number of taxi orders, we are going to use **RMSE**. \n",
    "\n",
    "The critical requirement for this project is the RMSE value, which should be no more than 48 on the test sample."
   ]
  },
  {
   "cell_type": "markdown",
   "metadata": {},
   "source": [
    "### Data Preparation"
   ]
  },
  {
   "cell_type": "markdown",
   "metadata": {},
   "source": [
    "#### Samples Formation"
   ]
  },
  {
   "cell_type": "markdown",
   "metadata": {},
   "source": [
    "*This stage was introduced in order to calculate the prediction **WITHOUT** direct model training. For the models themselves, samples & features will be created using functions.*"
   ]
  },
  {
   "cell_type": "markdown",
   "metadata": {},
   "source": [
    "Let's divide the dataset into training and test samples in a ratio of 9:1"
   ]
  },
  {
   "cell_type": "code",
   "execution_count": 17,
   "metadata": {},
   "outputs": [
    {
     "name": "stdout",
     "output_type": "stream",
     "text": [
      "2018-03-01 00:00:00 2018-08-13 13:00:00\n",
      "2018-08-13 14:00:00 2018-08-31 23:00:00 \n",
      "\n",
      "Обучающая выборка : 0.9\n",
      "Тестовая выборка : 0.1\n"
     ]
    }
   ],
   "source": [
    "train, test = train_test_split(df, shuffle=False, test_size=0.1)\n",
    "\n",
    "# check the division\n",
    "print(train.index.min(), train.index.max())\n",
    "print(test.index.min(), test.index.max(), '\\n')\n",
    "\n",
    "\n",
    "# check the ratio\n",
    "dfs = [train, test]\n",
    "train.name = 'Обучающая выборка'\n",
    "test.name = 'Тестовая выборка'\n",
    "\n",
    "for d in dfs:\n",
    "    print(d.name, ': {:2}'.format(round(d.shape[0] / df.shape[0], 2)))"
   ]
  },
  {
   "cell_type": "markdown",
   "metadata": {},
   "source": [
    "#### Benchmark Setting"
   ]
  },
  {
   "cell_type": "markdown",
   "metadata": {},
   "source": [
    "To check the time series model for adequacy, we will create a forecast without training using the previous value of the series, i.e. $ X_{(t-1)} $."
   ]
  },
  {
   "cell_type": "code",
   "execution_count": 18,
   "metadata": {},
   "outputs": [
    {
     "name": "stdout",
     "output_type": "stream",
     "text": [
      "RMSE: 58.856486242815066\n"
     ]
    }
   ],
   "source": [
    "pred_previous = np.ones(test.shape) * test.shift(fill_value=train.iloc[-1]['num_orders'])\n",
    "rmse_bench = mean_squared_error(test['num_orders'], pred_previous) ** 0.5\n",
    "\n",
    "print(\"RMSE:\", rmse_bench)"
   ]
  },
  {
   "cell_type": "markdown",
   "metadata": {},
   "source": [
    "Now we will be able to understand if our to be trained model is going be reasonable"
   ]
  },
  {
   "cell_type": "markdown",
   "metadata": {},
   "source": [
    "#### Window Size Value"
   ]
  },
  {
   "cell_type": "markdown",
   "metadata": {},
   "source": [
    "The time series analysis has showed the presence of intraday seasonality. Therefore, the maximum value of the window size for determining the moving average must be less than the number of days for the training sample. Let's calculate this value:"
   ]
  },
  {
   "cell_type": "code",
   "execution_count": 19,
   "metadata": {},
   "outputs": [
    {
     "name": "stdout",
     "output_type": "stream",
     "text": [
      "165\n"
     ]
    }
   ],
   "source": [
    "delta = train.index.max() - train.index.min()\n",
    "print(delta.days)"
   ]
  },
  {
   "cell_type": "markdown",
   "metadata": {},
   "source": [
    "#### Features Generation"
   ]
  },
  {
   "cell_type": "markdown",
   "metadata": {},
   "source": [
    "We will need:\n",
    "\n",
    "* time features (year, month, etc.)\n",
    "\n",
    "* lags\n",
    "\n",
    "* moving average"
   ]
  },
  {
   "cell_type": "code",
   "execution_count": 20,
   "metadata": {},
   "outputs": [],
   "source": [
    "# Function for features generation:\n",
    "\n",
    "def make_features(data, max_lag, rolling_mean_size):\n",
    "#     data['year'] = data.index.year\n",
    "#     data['month'] = data.index.month\n",
    "#     data['day'] = data.index.day\n",
    "    data['dayofweek'] = data.index.dayofweek\n",
    "    data['hour'] = data.index.hour\n",
    "    \n",
    "    for lag in range(1, max_lag + 1):\n",
    "        data['lag_{}'.format(lag)] = data['num_orders'].shift(lag)\n",
    "\n",
    "    data['rolling_mean'] = data['num_orders'].shift().rolling(rolling_mean_size).mean()\n",
    "    \n",
    "    return data"
   ]
  },
  {
   "cell_type": "markdown",
   "metadata": {},
   "source": [
    "#### Samples Formation"
   ]
  },
  {
   "cell_type": "code",
   "execution_count": 21,
   "metadata": {},
   "outputs": [],
   "source": [
    "# Function for samples formation\n",
    "\n",
    "def features(data):\n",
    "    \n",
    "    train, test = train_test_split(df, shuffle=False, test_size=0.1)\n",
    "    train = train.dropna()\n",
    "    \n",
    "    # Training set\n",
    "    features_train = train.drop(['num_orders'], axis=1)\n",
    "    target_train = train['num_orders']\n",
    "\n",
    "    # Test set\n",
    "    features_test = test.drop(['num_orders'], axis=1)\n",
    "    target_test = test['num_orders']\n",
    "    \n",
    "    return (features_train, target_train, features_test, target_test)"
   ]
  },
  {
   "cell_type": "markdown",
   "metadata": {},
   "source": [
    "### Linear Regression"
   ]
  },
  {
   "cell_type": "markdown",
   "metadata": {},
   "source": [
    "As parameters for linear regression - take the maximum number of lags and the window size for the moving average to find the best value of RMSE"
   ]
  },
  {
   "cell_type": "code",
   "execution_count": 22,
   "metadata": {
    "scrolled": true
   },
   "outputs": [
    {
     "name": "stdout",
     "output_type": "stream",
     "text": [
      "Linear Regression RMSE: 40.51123078192567\n",
      "lags number: 91\n",
      "window size: 40.51123078192567\n",
      "CPU times: user 25.8 s, sys: 46.1 s, total: 1min 11s\n",
      "Wall time: 1min 17s\n"
     ]
    }
   ],
   "source": [
    "%%time\n",
    "\n",
    "best_model_reg = None\n",
    "best_lag_reg = 0\n",
    "best_window_reg = 0\n",
    "best_rmse_reg = rmse_bench\n",
    "\n",
    "for lag in range(1, 101, 10):\n",
    "    for win in range(1, delta.days + 1, 5):\n",
    "        \n",
    "        df_reg = make_features(df, lag, win)\n",
    "        \n",
    "        (features_train_reg, target_train_reg, features_test_reg, target_test_reg) = features(df_reg)\n",
    "        \n",
    "        model_reg = LinearRegression()\n",
    "        model_reg.fit(features_train_reg, target_train_reg)\n",
    "\n",
    "        predicted_test_reg = model_reg.predict(features_test_reg)\n",
    "\n",
    "        rmse_reg = mean_squared_error(target_test_reg, predicted_test_reg) ** 0.5\n",
    "        \n",
    "        if rmse_reg < best_rmse_reg:\n",
    "            best_model_reg = model_reg\n",
    "            best_lag_reg = lag\n",
    "            best_window_reg = win\n",
    "            best_rmse_reg = rmse_reg\n",
    "\n",
    "print('Linear Regression RMSE: {:}'.format(best_rmse_reg))\n",
    "print('lags number:', best_lag_reg)\n",
    "print('window size:', best_rmse_reg)"
   ]
  },
  {
   "cell_type": "markdown",
   "metadata": {},
   "source": [
    "### LGBMRegressor"
   ]
  },
  {
   "cell_type": "code",
   "execution_count": 24,
   "metadata": {
    "scrolled": true
   },
   "outputs": [
    {
     "name": "stdout",
     "output_type": "stream",
     "text": [
      "LGBM Regressor RMSE: 38.014161957762134\n",
      "n_estimators: 81\n",
      "learning_rate: 0.2\n",
      "CPU times: user 2min 29s, sys: 0 ns, total: 2min 29s\n",
      "Wall time: 2min 35s\n"
     ]
    }
   ],
   "source": [
    "%%time\n",
    "\n",
    "best_model_lgbm = None\n",
    "best_est_lgbm = 0\n",
    "best_rate_lgbm = 0\n",
    "best_rmse_lgbm = rmse_bench\n",
    "\n",
    "for rate in np.arange(0.1, 0.51, 0.1):\n",
    "    for est in range(1, 201, 20):\n",
    "\n",
    "        df_lgbm = make_features(df, 20, 20)\n",
    "\n",
    "        (features_train_lgmb, target_train_lgmb, features_test_lgmb, target_test_lgmb) = features(df_lgbm)\n",
    "\n",
    "        model_lgbm = LGBMRegressor(n_estimators=est, learning_rate = rate, objective='rmse', random_state=12345)\n",
    "        model_lgbm.fit(features_train_lgmb, target_train_lgmb)               \n",
    "\n",
    "        predicted_test_lgbm = model_lgbm.predict(features_test_lgmb)\n",
    "\n",
    "        rmse_lgbm = mean_squared_error(target_test_lgmb, predicted_test_lgbm) ** 0.5\n",
    "\n",
    "        if rmse_lgbm < best_rmse_lgbm:\n",
    "            best_model_lgbm = model_lgbm\n",
    "            best_est_lgbm = est\n",
    "            best_rate_lgbm = rate\n",
    "            best_rmse_lgbm = rmse_lgbm\n",
    "            \n",
    "print('LGBM Regressor RMSE: {:}'.format(best_rmse_lgbm))\n",
    "print('n_estimators:', best_est_lgbm)\n",
    "print('learning_rate:', best_rate_lgbm)"
   ]
  },
  {
   "cell_type": "markdown",
   "metadata": {},
   "source": [
    "## Models Analysis"
   ]
  },
  {
   "cell_type": "code",
   "execution_count": 25,
   "metadata": {
    "scrolled": true
   },
   "outputs": [
    {
     "data": {
      "text/html": [
       "<div>\n",
       "<style scoped>\n",
       "    .dataframe tbody tr th:only-of-type {\n",
       "        vertical-align: middle;\n",
       "    }\n",
       "\n",
       "    .dataframe tbody tr th {\n",
       "        vertical-align: top;\n",
       "    }\n",
       "\n",
       "    .dataframe thead th {\n",
       "        text-align: right;\n",
       "    }\n",
       "</style>\n",
       "<table border=\"1\" class=\"dataframe\">\n",
       "  <thead>\n",
       "    <tr style=\"text-align: right;\">\n",
       "      <th></th>\n",
       "      <th>Model</th>\n",
       "      <th>RMSE</th>\n",
       "    </tr>\n",
       "  </thead>\n",
       "  <tbody>\n",
       "    <tr>\n",
       "      <th>1</th>\n",
       "      <td>LGBMRegressor</td>\n",
       "      <td>38.014162</td>\n",
       "    </tr>\n",
       "    <tr>\n",
       "      <th>0</th>\n",
       "      <td>LinearRegression</td>\n",
       "      <td>40.511231</td>\n",
       "    </tr>\n",
       "  </tbody>\n",
       "</table>\n",
       "</div>"
      ],
      "text/plain": [
       "              Model       RMSE\n",
       "1     LGBMRegressor  38.014162\n",
       "0  LinearRegression  40.511231"
      ]
     },
     "execution_count": 25,
     "metadata": {},
     "output_type": "execute_result"
    }
   ],
   "source": [
    "models = ['LinearRegression', 'LGBMRegressor']\n",
    "rmse_results = [best_rmse_reg, best_rmse_lgbm]\n",
    "\n",
    "\n",
    "pd.DataFrame({'Model': models, \\\n",
    "              'RMSE': rmse_results}).sort_values(by='RMSE')"
   ]
  },
  {
   "cell_type": "code",
   "execution_count": 30,
   "metadata": {},
   "outputs": [
    {
     "data": {
      "text/plain": [
       "<matplotlib.legend.Legend at 0x7efbd2688670>"
      ]
     },
     "execution_count": 30,
     "metadata": {},
     "output_type": "execute_result"
    },
    {
     "data": {
      "image/png": "[encoded data removed]",
      "text/plain": [
       "<Figure size 1296x360 with 1 Axes>"
      ]
     },
     "metadata": {
      "needs_background": "light"
     },
     "output_type": "display_data"
    }
   ],
   "source": [
    "predicted_test_reg_df = pd.DataFrame(data=predicted_test_reg, index=target_test_reg.index)\n",
    "target_predicted = pd.concat([target_test_reg, predicted_test_reg_df], axis=1)\n",
    "\n",
    "target_predicted.columns = ['target', 'predicted']\n",
    "\n",
    "plt.rcParams['figure.figsize'] = [18,5]\n",
    "\n",
    "target_predicted['2018-08-13':'2018-08-20'].plot()\n",
    "plt.title('Target VS. Predicted | LinearRegression', fontsize=14)\n",
    "plt.ylabel('num_orders')\n",
    "plt.legend(fontsize=12)"
   ]
  },
  {
   "cell_type": "code",
   "execution_count": 31,
   "metadata": {},
   "outputs": [
    {
     "data": {
      "text/plain": [
       "<matplotlib.legend.Legend at 0x7efbdfde2130>"
      ]
     },
     "execution_count": 31,
     "metadata": {},
     "output_type": "execute_result"
    },
    {
     "data": {
      "image/png": "[encoded data removed]",
      "text/plain": [
       "<Figure size 1296x360 with 1 Axes>"
      ]
     },
     "metadata": {
      "needs_background": "light"
     },
     "output_type": "display_data"
    }
   ],
   "source": [
    "predicted_test_lgbm_df = pd.DataFrame(data=predicted_test_lgbm, index=target_test_reg.index)\n",
    "target_predicted_lgbm = pd.concat([target_test_reg, predicted_test_lgbm_df], axis=1)\n",
    "\n",
    "target_predicted_lgbm.columns = ['target', 'predicted']\n",
    "\n",
    "plt.rcParams['figure.figsize'] = [18,5]\n",
    "\n",
    "target_predicted_lgbm['2018-08-13':'2018-08-20'].plot()\n",
    "plt.title('Target VS. Predicted | LGBMRegressor', fontsize=14)\n",
    "plt.ylabel('num_orders')\n",
    "plt.legend(fontsize=12)"
   ]
  },
  {
   "cell_type": "markdown",
   "metadata": {},
   "source": [
    "## Conclusions"
   ]
  },
  {
   "cell_type": "markdown",
   "metadata": {},
   "source": [
    "* The **Linear regression** model has showed the best result in terms of loss function value (RMSE) when the moving average window was set to ~41 and the number of lags was set to 81\n",
    "\n",
    "\n",
    "* The **LGBM Regressor** model showed the best result in terms of lost function value (RMSE) with learning rate = 0.2 and number of estimators = 81\n",
    "\n",
    "\n",
    "* One should not ignore using gradient boosting method. In order to save time for training and prediction, the parameters of the window size and the number of lags were fixed at the level (20, 20), respectively. At the next step, these parameters should also be included in the task of optimizing the RMSE metric. **Potentially LGBMRegressor could give a better result** (while sacrificing time resource)\n",
    "\n",
    "\n",
    "* Both trained models on the test set showed the result of **RMSE less than 48**, which satisfies the requirement\n",
    "\n",
    "\n",
    "* From the graphs, we can also see that the models quite adequately catch intraday seasonality.\n",
    "\n",
    "\n",
    "* Sanity check was also passed be every trained model"
   ]
  }
 ],
 "metadata": {
  "ExecuteTimeLog": [
   {
    "duration": 333,
    "start_time": "2021-09-01T21:13:23.339Z"
   },
   {
    "duration": 587,
    "start_time": "2021-09-01T21:13:29.074Z"
   },
   {
    "duration": 55,
    "start_time": "2021-09-01T21:13:30.722Z"
   },
   {
    "duration": 6,
    "start_time": "2021-09-01T21:16:17.360Z"
   },
   {
    "duration": 9,
    "start_time": "2021-09-01T21:16:31.373Z"
   },
   {
    "duration": 8,
    "start_time": "2021-09-01T21:16:43.064Z"
   },
   {
    "duration": 456,
    "start_time": "2021-09-01T21:16:58.644Z"
   },
   {
    "duration": 8033,
    "start_time": "2021-09-01T21:25:55.595Z"
   },
   {
    "duration": 10,
    "start_time": "2021-09-01T21:26:16.607Z"
   },
   {
    "duration": 324,
    "start_time": "2021-09-01T21:26:24.721Z"
   },
   {
    "duration": 7,
    "start_time": "2021-09-01T21:26:28.571Z"
   },
   {
    "duration": 3,
    "start_time": "2021-09-01T21:27:18.105Z"
   },
   {
    "duration": 7,
    "start_time": "2021-09-01T21:27:20.697Z"
   },
   {
    "duration": 7,
    "start_time": "2021-09-01T21:29:40.268Z"
   },
   {
    "duration": 507,
    "start_time": "2021-09-01T21:32:28.147Z"
   },
   {
    "duration": 4,
    "start_time": "2021-09-01T21:32:35.236Z"
   },
   {
    "duration": 3,
    "start_time": "2021-09-01T21:32:48.978Z"
   },
   {
    "duration": 49,
    "start_time": "2021-09-01T21:32:48.990Z"
   },
   {
    "duration": 6,
    "start_time": "2021-09-01T21:32:49.040Z"
   },
   {
    "duration": 15,
    "start_time": "2021-09-01T21:32:49.048Z"
   },
   {
    "duration": 6,
    "start_time": "2021-09-01T21:32:49.065Z"
   },
   {
    "duration": 300,
    "start_time": "2021-09-01T21:33:09.208Z"
   },
   {
    "duration": 4,
    "start_time": "2021-09-01T21:33:12.095Z"
   },
   {
    "duration": 5,
    "start_time": "2021-09-01T21:35:50.322Z"
   },
   {
    "duration": 5,
    "start_time": "2021-09-01T21:36:04.452Z"
   },
   {
    "duration": 7,
    "start_time": "2021-09-01T21:36:14.818Z"
   },
   {
    "duration": 6,
    "start_time": "2021-09-01T21:36:34.751Z"
   },
   {
    "duration": 6,
    "start_time": "2021-09-01T21:36:44.770Z"
   },
   {
    "duration": 8,
    "start_time": "2021-09-01T21:36:56.296Z"
   },
   {
    "duration": 12,
    "start_time": "2021-09-01T21:39:05.181Z"
   },
   {
    "duration": 14,
    "start_time": "2021-09-01T21:39:41.083Z"
   },
   {
    "duration": 11,
    "start_time": "2021-09-01T21:40:16.634Z"
   },
   {
    "duration": 6,
    "start_time": "2021-09-01T21:40:35.277Z"
   },
   {
    "duration": 99,
    "start_time": "2021-09-01T21:41:02.333Z"
   },
   {
    "duration": 324,
    "start_time": "2021-09-01T21:53:02.005Z"
   },
   {
    "duration": 118,
    "start_time": "2021-09-01T21:53:59.450Z"
   },
   {
    "duration": 330,
    "start_time": "2021-09-01T21:56:12.130Z"
   },
   {
    "duration": 311,
    "start_time": "2021-09-01T21:56:21.805Z"
   },
   {
    "duration": 1331,
    "start_time": "2021-09-01T21:56:34.286Z"
   },
   {
    "duration": 4,
    "start_time": "2021-09-01T21:57:30.664Z"
   },
   {
    "duration": 56,
    "start_time": "2021-09-01T21:57:30.672Z"
   },
   {
    "duration": 6,
    "start_time": "2021-09-01T21:57:30.730Z"
   },
   {
    "duration": 15,
    "start_time": "2021-09-01T21:57:30.738Z"
   },
   {
    "duration": 9,
    "start_time": "2021-09-01T21:57:30.755Z"
   },
   {
    "duration": 19,
    "start_time": "2021-09-01T21:57:30.765Z"
   },
   {
    "duration": 7,
    "start_time": "2021-09-01T21:57:33.739Z"
   },
   {
    "duration": 12,
    "start_time": "2021-09-01T21:57:36.597Z"
   },
   {
    "duration": 11,
    "start_time": "2021-09-01T21:57:41.844Z"
   },
   {
    "duration": 1357,
    "start_time": "2021-09-01T21:57:48.271Z"
   },
   {
    "duration": 1274,
    "start_time": "2021-09-01T21:58:00.349Z"
   },
   {
    "duration": 4,
    "start_time": "2021-09-01T21:59:06.248Z"
   },
   {
    "duration": 1290,
    "start_time": "2021-09-01T21:59:15.264Z"
   },
   {
    "duration": 1369,
    "start_time": "2021-09-01T21:59:22.135Z"
   },
   {
    "duration": 1297,
    "start_time": "2021-09-01T22:07:45.682Z"
   },
   {
    "duration": 12,
    "start_time": "2021-09-01T22:08:07.314Z"
   },
   {
    "duration": 5,
    "start_time": "2021-09-01T22:09:25.049Z"
   },
   {
    "duration": 1302,
    "start_time": "2021-09-01T22:09:33.593Z"
   },
   {
    "duration": 1421,
    "start_time": "2021-09-01T22:09:41.586Z"
   },
   {
    "duration": 3,
    "start_time": "2021-09-01T22:09:55.870Z"
   },
   {
    "duration": 53,
    "start_time": "2021-09-01T22:09:55.876Z"
   },
   {
    "duration": 6,
    "start_time": "2021-09-01T22:09:55.930Z"
   },
   {
    "duration": 11,
    "start_time": "2021-09-01T22:09:55.938Z"
   },
   {
    "duration": 6,
    "start_time": "2021-09-01T22:09:55.951Z"
   },
   {
    "duration": 4,
    "start_time": "2021-09-01T22:09:55.959Z"
   },
   {
    "duration": 26,
    "start_time": "2021-09-01T22:09:55.964Z"
   },
   {
    "duration": 10,
    "start_time": "2021-09-01T22:09:55.992Z"
   },
   {
    "duration": 5,
    "start_time": "2021-09-01T22:10:30.191Z"
   },
   {
    "duration": 1275,
    "start_time": "2021-09-01T22:10:33.843Z"
   },
   {
    "duration": 1212,
    "start_time": "2021-09-01T22:10:39.973Z"
   },
   {
    "duration": 620,
    "start_time": "2021-09-01T22:11:41.038Z"
   },
   {
    "duration": 1230,
    "start_time": "2021-09-01T22:12:12.408Z"
   },
   {
    "duration": 615,
    "start_time": "2021-09-01T22:12:21.277Z"
   },
   {
    "duration": 12,
    "start_time": "2021-09-01T22:12:33.320Z"
   },
   {
    "duration": 4,
    "start_time": "2021-09-01T22:18:05.721Z"
   },
   {
    "duration": 1118,
    "start_time": "2021-09-01T22:18:06.165Z"
   },
   {
    "duration": 4,
    "start_time": "2021-09-01T22:18:12.997Z"
   },
   {
    "duration": 1283,
    "start_time": "2021-09-01T22:18:13.397Z"
   },
   {
    "duration": 6,
    "start_time": "2021-09-01T22:18:20.865Z"
   },
   {
    "duration": 1249,
    "start_time": "2021-09-01T22:18:23.992Z"
   },
   {
    "duration": 6,
    "start_time": "2021-09-01T22:18:29.936Z"
   },
   {
    "duration": 1056,
    "start_time": "2021-09-01T22:18:31.808Z"
   },
   {
    "duration": 4,
    "start_time": "2021-09-01T22:19:36.479Z"
   },
   {
    "duration": 1038,
    "start_time": "2021-09-01T22:19:36.749Z"
   },
   {
    "duration": 5,
    "start_time": "2021-09-01T22:19:41.943Z"
   },
   {
    "duration": 1141,
    "start_time": "2021-09-01T22:19:44.586Z"
   },
   {
    "duration": 4,
    "start_time": "2021-09-01T22:19:56.298Z"
   },
   {
    "duration": 1418,
    "start_time": "2021-09-01T22:19:57.926Z"
   },
   {
    "duration": 5,
    "start_time": "2021-09-01T22:20:08.101Z"
   },
   {
    "duration": 1229,
    "start_time": "2021-09-01T22:20:12.134Z"
   },
   {
    "duration": 4,
    "start_time": "2021-09-01T22:20:19.756Z"
   },
   {
    "duration": 1756,
    "start_time": "2021-09-01T22:20:20.000Z"
   },
   {
    "duration": 6,
    "start_time": "2021-09-01T22:20:28.647Z"
   },
   {
    "duration": 1515,
    "start_time": "2021-09-01T22:20:28.852Z"
   },
   {
    "duration": 5,
    "start_time": "2021-09-01T22:20:36.293Z"
   },
   {
    "duration": 2198,
    "start_time": "2021-09-01T22:20:36.551Z"
   },
   {
    "duration": 4,
    "start_time": "2021-09-01T22:20:45.501Z"
   },
   {
    "duration": 920,
    "start_time": "2021-09-01T22:20:45.887Z"
   },
   {
    "duration": 4,
    "start_time": "2021-09-01T22:20:52.487Z"
   },
   {
    "duration": 1018,
    "start_time": "2021-09-01T22:20:52.744Z"
   },
   {
    "duration": 4,
    "start_time": "2021-09-01T22:20:58.317Z"
   },
   {
    "duration": 1255,
    "start_time": "2021-09-01T22:21:01.179Z"
   },
   {
    "duration": 3,
    "start_time": "2021-09-01T22:21:15.265Z"
   },
   {
    "duration": 1339,
    "start_time": "2021-09-01T22:21:15.865Z"
   },
   {
    "duration": 4,
    "start_time": "2021-09-01T22:21:26.142Z"
   },
   {
    "duration": 1478,
    "start_time": "2021-09-01T22:21:26.878Z"
   },
   {
    "duration": 6,
    "start_time": "2021-09-01T22:21:34.768Z"
   },
   {
    "duration": 1494,
    "start_time": "2021-09-01T22:21:36.362Z"
   },
   {
    "duration": 4,
    "start_time": "2021-09-01T22:21:51.635Z"
   },
   {
    "duration": 1657,
    "start_time": "2021-09-01T22:21:51.918Z"
   },
   {
    "duration": 5,
    "start_time": "2021-09-01T22:21:58.086Z"
   },
   {
    "duration": 1583,
    "start_time": "2021-09-01T22:21:58.333Z"
   },
   {
    "duration": 1372,
    "start_time": "2021-09-01T22:22:07.839Z"
   },
   {
    "duration": 5,
    "start_time": "2021-09-01T22:22:18.928Z"
   },
   {
    "duration": 1576,
    "start_time": "2021-09-01T22:22:22.187Z"
   },
   {
    "duration": 3,
    "start_time": "2021-09-01T22:22:35.084Z"
   },
   {
    "duration": 4,
    "start_time": "2021-09-01T22:22:55.092Z"
   },
   {
    "duration": 2,
    "start_time": "2021-09-01T22:22:55.458Z"
   },
   {
    "duration": 1865,
    "start_time": "2021-09-01T22:22:56.338Z"
   },
   {
    "duration": 4,
    "start_time": "2021-09-01T22:23:10.832Z"
   },
   {
    "duration": 2,
    "start_time": "2021-09-01T22:23:11.247Z"
   },
   {
    "duration": 2095,
    "start_time": "2021-09-01T22:23:11.968Z"
   },
   {
    "duration": 609,
    "start_time": "2021-09-01T22:23:29.702Z"
   },
   {
    "duration": 1621,
    "start_time": "2021-09-01T22:24:08.564Z"
   },
   {
    "duration": 659,
    "start_time": "2021-09-01T22:24:10.187Z"
   },
   {
    "duration": 4,
    "start_time": "2021-09-01T22:24:22.281Z"
   },
   {
    "duration": 3,
    "start_time": "2021-09-01T22:24:22.649Z"
   },
   {
    "duration": 987,
    "start_time": "2021-09-01T22:24:23.367Z"
   },
   {
    "duration": 976,
    "start_time": "2021-09-01T22:24:44.227Z"
   },
   {
    "duration": 603,
    "start_time": "2021-09-01T22:24:45.205Z"
   },
   {
    "duration": 6,
    "start_time": "2021-09-01T22:32:30.021Z"
   },
   {
    "duration": 939,
    "start_time": "2021-09-01T22:32:37.449Z"
   },
   {
    "duration": 278,
    "start_time": "2021-09-01T22:32:43.041Z"
   },
   {
    "duration": 5,
    "start_time": "2021-09-01T22:33:12.517Z"
   },
   {
    "duration": 3,
    "start_time": "2021-09-01T22:33:13.079Z"
   },
   {
    "duration": 197,
    "start_time": "2021-09-01T22:33:14.514Z"
   },
   {
    "duration": 6,
    "start_time": "2021-09-01T22:33:26.042Z"
   },
   {
    "duration": 210,
    "start_time": "2021-09-01T22:33:27.924Z"
   },
   {
    "duration": 198,
    "start_time": "2021-09-01T22:33:31.790Z"
   },
   {
    "duration": 5,
    "start_time": "2021-09-01T22:37:02.250Z"
   },
   {
    "duration": 3,
    "start_time": "2021-09-01T22:37:02.891Z"
   },
   {
    "duration": 358,
    "start_time": "2021-09-01T22:37:04.148Z"
   },
   {
    "duration": 860,
    "start_time": "2021-09-01T22:37:12.179Z"
   },
   {
    "duration": 5,
    "start_time": "2021-09-01T22:37:27.273Z"
   },
   {
    "duration": 2,
    "start_time": "2021-09-01T22:37:28.432Z"
   },
   {
    "duration": 981,
    "start_time": "2021-09-01T22:37:29.091Z"
   },
   {
    "duration": 468,
    "start_time": "2021-09-01T22:37:37.021Z"
   },
   {
    "duration": 6,
    "start_time": "2021-09-01T22:37:49.997Z"
   },
   {
    "duration": 2,
    "start_time": "2021-09-01T22:37:50.469Z"
   },
   {
    "duration": 414,
    "start_time": "2021-09-01T22:37:51.553Z"
   },
   {
    "duration": 5,
    "start_time": "2021-09-01T22:37:59.589Z"
   },
   {
    "duration": 2,
    "start_time": "2021-09-01T22:37:59.950Z"
   },
   {
    "duration": 481,
    "start_time": "2021-09-01T22:38:00.685Z"
   },
   {
    "duration": 865,
    "start_time": "2021-09-01T22:38:09.127Z"
   },
   {
    "duration": 398,
    "start_time": "2021-09-01T22:38:40.017Z"
   },
   {
    "duration": 5,
    "start_time": "2021-09-01T22:38:47.445Z"
   },
   {
    "duration": 3,
    "start_time": "2021-09-01T22:38:48.098Z"
   },
   {
    "duration": 456,
    "start_time": "2021-09-01T22:38:48.604Z"
   },
   {
    "duration": 455,
    "start_time": "2021-09-01T22:38:53.144Z"
   },
   {
    "duration": 2,
    "start_time": "2021-09-01T22:39:03.089Z"
   },
   {
    "duration": 45,
    "start_time": "2021-09-01T22:39:03.096Z"
   },
   {
    "duration": 6,
    "start_time": "2021-09-01T22:39:03.142Z"
   },
   {
    "duration": 13,
    "start_time": "2021-09-01T22:39:03.150Z"
   },
   {
    "duration": 9,
    "start_time": "2021-09-01T22:39:03.164Z"
   },
   {
    "duration": 4,
    "start_time": "2021-09-01T22:39:03.175Z"
   },
   {
    "duration": 9,
    "start_time": "2021-09-01T22:39:03.185Z"
   },
   {
    "duration": 10,
    "start_time": "2021-09-01T22:39:03.196Z"
   },
   {
    "duration": 6,
    "start_time": "2021-09-01T22:39:13.841Z"
   },
   {
    "duration": 451,
    "start_time": "2021-09-01T22:39:15.877Z"
   },
   {
    "duration": 962,
    "start_time": "2021-09-01T22:39:21.099Z"
   },
   {
    "duration": 6,
    "start_time": "2021-09-01T22:39:29.926Z"
   },
   {
    "duration": 3,
    "start_time": "2021-09-01T22:39:30.361Z"
   },
   {
    "duration": 835,
    "start_time": "2021-09-01T22:39:31.607Z"
   },
   {
    "duration": 430,
    "start_time": "2021-09-01T22:39:36.889Z"
   },
   {
    "duration": 6,
    "start_time": "2021-09-01T22:40:22.886Z"
   },
   {
    "duration": 2,
    "start_time": "2021-09-01T22:40:23.273Z"
   },
   {
    "duration": 363,
    "start_time": "2021-09-01T22:40:24.959Z"
   },
   {
    "duration": 854,
    "start_time": "2021-09-01T22:40:32.779Z"
   },
   {
    "duration": 841,
    "start_time": "2021-09-01T22:40:46.196Z"
   },
   {
    "duration": 5,
    "start_time": "2021-09-01T22:41:03.693Z"
   },
   {
    "duration": 2,
    "start_time": "2021-09-01T22:41:04.373Z"
   },
   {
    "duration": 628,
    "start_time": "2021-09-01T22:41:05.198Z"
   },
   {
    "duration": 369,
    "start_time": "2021-09-01T22:41:11.018Z"
   },
   {
    "duration": 6,
    "start_time": "2021-09-01T22:41:22.130Z"
   },
   {
    "duration": 2,
    "start_time": "2021-09-01T22:41:22.676Z"
   },
   {
    "duration": 764,
    "start_time": "2021-09-01T22:41:23.761Z"
   },
   {
    "duration": 5,
    "start_time": "2021-09-01T22:41:34.699Z"
   },
   {
    "duration": 3,
    "start_time": "2021-09-01T22:41:35.140Z"
   },
   {
    "duration": 738,
    "start_time": "2021-09-01T22:41:36.529Z"
   },
   {
    "duration": 1049,
    "start_time": "2021-09-01T22:41:41.799Z"
   },
   {
    "duration": 6,
    "start_time": "2021-09-01T22:41:51.020Z"
   },
   {
    "duration": 3,
    "start_time": "2021-09-01T22:41:51.425Z"
   },
   {
    "duration": 1256,
    "start_time": "2021-09-01T22:41:52.545Z"
   },
   {
    "duration": 6,
    "start_time": "2021-09-01T22:42:09.166Z"
   },
   {
    "duration": 3,
    "start_time": "2021-09-01T22:42:09.603Z"
   },
   {
    "duration": 1033,
    "start_time": "2021-09-01T22:42:10.264Z"
   },
   {
    "duration": 6,
    "start_time": "2021-09-01T22:42:21.096Z"
   },
   {
    "duration": 2,
    "start_time": "2021-09-01T22:42:21.450Z"
   },
   {
    "duration": 813,
    "start_time": "2021-09-01T22:42:22.173Z"
   },
   {
    "duration": 5,
    "start_time": "2021-09-01T22:42:32.859Z"
   },
   {
    "duration": 2,
    "start_time": "2021-09-01T22:42:33.760Z"
   },
   {
    "duration": 790,
    "start_time": "2021-09-01T22:42:34.912Z"
   },
   {
    "duration": 328,
    "start_time": "2021-09-01T22:42:39.886Z"
   },
   {
    "duration": 84,
    "start_time": "2021-09-01T22:42:49.193Z"
   },
   {
    "duration": 6,
    "start_time": "2021-09-01T22:42:56.819Z"
   },
   {
    "duration": 3,
    "start_time": "2021-09-01T22:42:57.290Z"
   },
   {
    "duration": 330,
    "start_time": "2021-09-01T22:42:58.085Z"
   },
   {
    "duration": 5,
    "start_time": "2021-09-01T22:43:08.963Z"
   },
   {
    "duration": 6,
    "start_time": "2021-09-01T22:43:11.789Z"
   },
   {
    "duration": 2,
    "start_time": "2021-09-01T22:43:12.216Z"
   },
   {
    "duration": 323,
    "start_time": "2021-09-01T22:43:13.270Z"
   },
   {
    "duration": 5,
    "start_time": "2021-09-01T22:43:19.042Z"
   },
   {
    "duration": 2,
    "start_time": "2021-09-01T22:43:19.457Z"
   },
   {
    "duration": 317,
    "start_time": "2021-09-01T22:43:20.497Z"
   },
   {
    "duration": 6,
    "start_time": "2021-09-01T22:43:27.591Z"
   },
   {
    "duration": 3,
    "start_time": "2021-09-01T22:43:27.877Z"
   },
   {
    "duration": 320,
    "start_time": "2021-09-01T22:43:28.805Z"
   },
   {
    "duration": 5,
    "start_time": "2021-09-01T22:43:40.814Z"
   },
   {
    "duration": 2,
    "start_time": "2021-09-01T22:43:41.180Z"
   },
   {
    "duration": 384,
    "start_time": "2021-09-01T22:43:42.742Z"
   },
   {
    "duration": 873,
    "start_time": "2021-09-01T22:43:48.231Z"
   },
   {
    "duration": 5,
    "start_time": "2021-09-01T22:44:27.703Z"
   },
   {
    "duration": 2,
    "start_time": "2021-09-01T22:44:28.037Z"
   },
   {
    "duration": 237,
    "start_time": "2021-09-01T22:44:28.939Z"
   },
   {
    "duration": 6,
    "start_time": "2021-09-01T22:44:44.508Z"
   },
   {
    "duration": 2,
    "start_time": "2021-09-01T22:44:44.978Z"
   },
   {
    "duration": 271,
    "start_time": "2021-09-01T22:44:45.782Z"
   },
   {
    "duration": 673,
    "start_time": "2021-09-01T22:44:50.337Z"
   },
   {
    "duration": 83,
    "start_time": "2021-09-01T22:45:00.730Z"
   },
   {
    "duration": 3,
    "start_time": "2021-09-01T22:45:01.128Z"
   },
   {
    "duration": 739,
    "start_time": "2021-09-01T22:45:01.958Z"
   },
   {
    "duration": 314,
    "start_time": "2021-09-01T22:45:07.493Z"
   },
   {
    "duration": 6,
    "start_time": "2021-09-01T22:45:23.571Z"
   },
   {
    "duration": 2,
    "start_time": "2021-09-01T22:45:24.240Z"
   },
   {
    "duration": 530,
    "start_time": "2021-09-01T22:45:25.006Z"
   },
   {
    "duration": 5,
    "start_time": "2021-09-01T22:45:31.131Z"
   },
   {
    "duration": 3,
    "start_time": "2021-09-01T22:45:31.376Z"
   },
   {
    "duration": 289,
    "start_time": "2021-09-01T22:45:32.375Z"
   },
   {
    "duration": 709,
    "start_time": "2021-09-01T22:45:37.421Z"
   },
   {
    "duration": 6,
    "start_time": "2021-09-01T22:45:49.261Z"
   },
   {
    "duration": 2,
    "start_time": "2021-09-01T22:45:49.577Z"
   },
   {
    "duration": 265,
    "start_time": "2021-09-01T22:45:52.281Z"
   },
   {
    "duration": 6,
    "start_time": "2021-09-01T22:46:32.738Z"
   },
   {
    "duration": 2,
    "start_time": "2021-09-01T22:46:33.432Z"
   },
   {
    "duration": 258,
    "start_time": "2021-09-01T22:46:34.407Z"
   },
   {
    "duration": 808,
    "start_time": "2021-09-01T22:46:37.644Z"
   },
   {
    "duration": 80,
    "start_time": "2021-09-01T22:47:19.390Z"
   },
   {
    "duration": 8,
    "start_time": "2021-09-01T22:47:23.673Z"
   },
   {
    "duration": 246,
    "start_time": "2021-09-01T22:47:31.188Z"
   },
   {
    "duration": 583,
    "start_time": "2021-09-01T22:47:45.830Z"
   },
   {
    "duration": 2,
    "start_time": "2021-09-01T22:48:01.794Z"
   },
   {
    "duration": 68,
    "start_time": "2021-09-01T22:48:01.803Z"
   },
   {
    "duration": 5,
    "start_time": "2021-09-01T22:48:01.873Z"
   },
   {
    "duration": 23,
    "start_time": "2021-09-01T22:48:01.880Z"
   },
   {
    "duration": 10,
    "start_time": "2021-09-01T22:48:01.904Z"
   },
   {
    "duration": 10,
    "start_time": "2021-09-01T22:48:01.915Z"
   },
   {
    "duration": 6,
    "start_time": "2021-09-01T22:48:05.480Z"
   },
   {
    "duration": 10,
    "start_time": "2021-09-01T22:48:06.412Z"
   },
   {
    "duration": 6,
    "start_time": "2021-09-01T22:48:11.147Z"
   },
   {
    "duration": 1190,
    "start_time": "2021-09-01T22:48:18.781Z"
   },
   {
    "duration": 262,
    "start_time": "2021-09-01T22:49:07.109Z"
   },
   {
    "duration": 5,
    "start_time": "2021-09-01T22:51:36.358Z"
   },
   {
    "duration": 1268,
    "start_time": "2021-09-01T22:51:37.366Z"
   },
   {
    "duration": 6,
    "start_time": "2021-09-01T22:51:50.785Z"
   },
   {
    "duration": 1395,
    "start_time": "2021-09-01T22:51:51.273Z"
   },
   {
    "duration": 6,
    "start_time": "2021-09-01T22:51:59.973Z"
   },
   {
    "duration": 1344,
    "start_time": "2021-09-01T22:52:00.473Z"
   },
   {
    "duration": 5,
    "start_time": "2021-09-01T22:52:09.161Z"
   },
   {
    "duration": 1159,
    "start_time": "2021-09-01T22:52:09.522Z"
   },
   {
    "duration": 86,
    "start_time": "2021-09-01T22:52:20.654Z"
   },
   {
    "duration": 1368,
    "start_time": "2021-09-01T22:52:21.039Z"
   },
   {
    "duration": 252,
    "start_time": "2021-09-01T22:52:32.451Z"
   },
   {
    "duration": 1314,
    "start_time": "2021-09-02T21:02:50.132Z"
   },
   {
    "duration": 74,
    "start_time": "2021-09-02T21:02:51.449Z"
   },
   {
    "duration": 10,
    "start_time": "2021-09-02T21:02:51.527Z"
   },
   {
    "duration": 17,
    "start_time": "2021-09-02T21:02:51.555Z"
   },
   {
    "duration": 12,
    "start_time": "2021-09-02T21:02:51.574Z"
   },
   {
    "duration": 8,
    "start_time": "2021-09-02T21:02:51.588Z"
   },
   {
    "duration": 11,
    "start_time": "2021-09-02T21:02:51.598Z"
   },
   {
    "duration": 56,
    "start_time": "2021-09-02T21:02:51.613Z"
   },
   {
    "duration": 9,
    "start_time": "2021-09-02T21:02:51.672Z"
   },
   {
    "duration": 2323,
    "start_time": "2021-09-02T21:02:51.685Z"
   },
   {
    "duration": 382,
    "start_time": "2021-09-02T21:02:54.010Z"
   },
   {
    "duration": 415,
    "start_time": "2021-09-02T21:03:17.928Z"
   },
   {
    "duration": 9,
    "start_time": "2021-09-02T21:07:20.346Z"
   },
   {
    "duration": 264,
    "start_time": "2021-09-02T21:17:07.366Z"
   },
   {
    "duration": 77,
    "start_time": "2021-09-02T21:17:21.758Z"
   },
   {
    "duration": 8,
    "start_time": "2021-09-02T21:17:25.329Z"
   },
   {
    "duration": 11,
    "start_time": "2021-09-02T21:20:04.266Z"
   },
   {
    "duration": 11,
    "start_time": "2021-09-02T21:20:12.313Z"
   },
   {
    "duration": 11,
    "start_time": "2021-09-02T21:20:16.265Z"
   },
   {
    "duration": 264,
    "start_time": "2021-09-02T21:24:59.756Z"
   },
   {
    "duration": 9,
    "start_time": "2021-09-02T21:25:03.331Z"
   },
   {
    "duration": 4,
    "start_time": "2021-09-02T21:25:27.491Z"
   },
   {
    "duration": 261,
    "start_time": "2021-09-02T21:26:29.013Z"
   },
   {
    "duration": 5,
    "start_time": "2021-09-02T21:26:42.112Z"
   },
   {
    "duration": 9,
    "start_time": "2021-09-02T21:26:45.403Z"
   },
   {
    "duration": 6,
    "start_time": "2021-09-02T21:36:27.904Z"
   },
   {
    "duration": 13,
    "start_time": "2021-09-02T21:40:01.316Z"
   },
   {
    "duration": 17,
    "start_time": "2021-09-02T21:40:12.829Z"
   },
   {
    "duration": 11,
    "start_time": "2021-09-02T21:41:14.403Z"
   },
   {
    "duration": 12,
    "start_time": "2021-09-02T21:42:57.615Z"
   },
   {
    "duration": 10,
    "start_time": "2021-09-02T21:47:53.846Z"
   },
   {
    "duration": 10,
    "start_time": "2021-09-02T21:47:56.841Z"
   },
   {
    "duration": 10,
    "start_time": "2021-09-02T21:47:57.882Z"
   },
   {
    "duration": 10,
    "start_time": "2021-09-02T21:47:59.335Z"
   },
   {
    "duration": 4,
    "start_time": "2021-09-02T21:53:26.176Z"
   },
   {
    "duration": 96,
    "start_time": "2021-09-02T21:54:33.468Z"
   },
   {
    "duration": 5,
    "start_time": "2021-09-02T21:54:55.867Z"
   },
   {
    "duration": 5,
    "start_time": "2021-09-02T21:55:03.491Z"
   },
   {
    "duration": 5,
    "start_time": "2021-09-02T21:55:12.695Z"
   },
   {
    "duration": 5,
    "start_time": "2021-09-02T21:55:15.859Z"
   },
   {
    "duration": 5,
    "start_time": "2021-09-02T21:55:30.728Z"
   },
   {
    "duration": 5,
    "start_time": "2021-09-02T22:00:27.067Z"
   },
   {
    "duration": 5,
    "start_time": "2021-09-02T22:11:28.729Z"
   },
   {
    "duration": 23,
    "start_time": "2021-09-02T22:26:52.872Z"
   },
   {
    "duration": 192,
    "start_time": "2021-09-02T22:27:07.402Z"
   },
   {
    "duration": 6,
    "start_time": "2021-09-02T22:27:34.090Z"
   },
   {
    "duration": 96,
    "start_time": "2021-09-02T22:27:44.772Z"
   },
   {
    "duration": 5,
    "start_time": "2021-09-02T22:27:47.854Z"
   },
   {
    "duration": 5,
    "start_time": "2021-09-02T22:27:53.902Z"
   },
   {
    "duration": 204,
    "start_time": "2021-09-02T22:28:02.017Z"
   },
   {
    "duration": 184,
    "start_time": "2021-09-02T22:28:23.884Z"
   },
   {
    "duration": 200,
    "start_time": "2021-09-02T22:29:32.770Z"
   },
   {
    "duration": 9,
    "start_time": "2021-09-02T22:30:03.589Z"
   },
   {
    "duration": 39,
    "start_time": "2021-09-02T22:30:43.174Z"
   },
   {
    "duration": 270,
    "start_time": "2021-09-02T22:32:20.671Z"
   },
   {
    "duration": 6,
    "start_time": "2021-09-02T22:33:08.629Z"
   },
   {
    "duration": 21,
    "start_time": "2021-09-02T22:33:12.140Z"
   },
   {
    "duration": 29,
    "start_time": "2021-09-02T22:33:13.466Z"
   },
   {
    "duration": 248,
    "start_time": "2021-09-02T22:33:31.017Z"
   },
   {
    "duration": 102988,
    "start_time": "2021-09-02T22:33:48.526Z"
   },
   {
    "duration": 102493,
    "start_time": "2021-09-02T22:40:24.367Z"
   },
   {
    "duration": 4,
    "start_time": "2021-09-02T22:42:45.041Z"
   },
   {
    "duration": 65,
    "start_time": "2021-09-02T22:42:45.053Z"
   },
   {
    "duration": 10,
    "start_time": "2021-09-02T22:42:45.121Z"
   },
   {
    "duration": 35,
    "start_time": "2021-09-02T22:42:45.134Z"
   },
   {
    "duration": 10,
    "start_time": "2021-09-02T22:42:45.172Z"
   },
   {
    "duration": 16,
    "start_time": "2021-09-02T22:42:45.184Z"
   },
   {
    "duration": 20,
    "start_time": "2021-09-02T22:42:45.203Z"
   },
   {
    "duration": 40,
    "start_time": "2021-09-02T22:42:45.225Z"
   },
   {
    "duration": 10,
    "start_time": "2021-09-02T22:42:45.269Z"
   },
   {
    "duration": 2323,
    "start_time": "2021-09-02T22:42:45.281Z"
   },
   {
    "duration": 440,
    "start_time": "2021-09-02T22:42:47.607Z"
   },
   {
    "duration": 13,
    "start_time": "2021-09-02T22:42:48.049Z"
   },
   {
    "duration": 18,
    "start_time": "2021-09-02T22:42:48.064Z"
   },
   {
    "duration": 17,
    "start_time": "2021-09-02T22:42:48.084Z"
   },
   {
    "duration": 22,
    "start_time": "2021-09-02T22:42:48.103Z"
   },
   {
    "duration": 26,
    "start_time": "2021-09-02T22:42:48.128Z"
   },
   {
    "duration": 36,
    "start_time": "2021-09-02T22:42:48.156Z"
   },
   {
    "duration": 430982,
    "start_time": "2021-09-02T22:43:15.462Z"
   },
   {
    "duration": 4,
    "start_time": "2021-09-02T22:50:30.174Z"
   },
   {
    "duration": 68,
    "start_time": "2021-09-02T22:50:30.185Z"
   },
   {
    "duration": 10,
    "start_time": "2021-09-02T22:50:30.257Z"
   },
   {
    "duration": 21,
    "start_time": "2021-09-02T22:50:30.270Z"
   },
   {
    "duration": 12,
    "start_time": "2021-09-02T22:50:30.294Z"
   },
   {
    "duration": 18,
    "start_time": "2021-09-02T22:50:30.309Z"
   },
   {
    "duration": 28,
    "start_time": "2021-09-02T22:50:30.330Z"
   },
   {
    "duration": 26,
    "start_time": "2021-09-02T22:50:30.361Z"
   },
   {
    "duration": 12,
    "start_time": "2021-09-02T22:50:30.389Z"
   },
   {
    "duration": 2344,
    "start_time": "2021-09-02T22:50:30.404Z"
   },
   {
    "duration": 442,
    "start_time": "2021-09-02T22:50:32.754Z"
   },
   {
    "duration": 10,
    "start_time": "2021-09-02T22:50:33.198Z"
   },
   {
    "duration": 24,
    "start_time": "2021-09-02T22:50:33.210Z"
   },
   {
    "duration": 21,
    "start_time": "2021-09-02T22:50:33.236Z"
   },
   {
    "duration": 11,
    "start_time": "2021-09-02T22:50:33.260Z"
   },
   {
    "duration": 6,
    "start_time": "2021-09-02T22:50:33.273Z"
   },
   {
    "duration": 16,
    "start_time": "2021-09-02T22:50:33.282Z"
   },
   {
    "duration": 82198,
    "start_time": "2021-09-02T22:50:48.565Z"
   },
   {
    "duration": 29,
    "start_time": "2021-09-02T22:57:45.781Z"
   },
   {
    "duration": 34,
    "start_time": "2021-09-02T22:57:52.521Z"
   },
   {
    "duration": 37,
    "start_time": "2021-09-02T22:58:01.264Z"
   },
   {
    "duration": 35,
    "start_time": "2021-09-02T22:58:27.271Z"
   },
   {
    "duration": 5,
    "start_time": "2021-09-02T23:03:54.303Z"
   },
   {
    "duration": 3,
    "start_time": "2021-09-02T23:05:48.003Z"
   },
   {
    "duration": 5,
    "start_time": "2021-09-02T23:06:47.566Z"
   },
   {
    "duration": 14,
    "start_time": "2021-09-02T23:07:04.860Z"
   },
   {
    "duration": 39,
    "start_time": "2021-09-02T23:07:10.344Z"
   },
   {
    "duration": 39,
    "start_time": "2021-09-02T23:07:29.713Z"
   },
   {
    "duration": 6,
    "start_time": "2021-09-02T23:07:52.187Z"
   },
   {
    "duration": 67,
    "start_time": "2021-09-02T23:07:52.201Z"
   },
   {
    "duration": 10,
    "start_time": "2021-09-02T23:07:52.270Z"
   },
   {
    "duration": 18,
    "start_time": "2021-09-02T23:07:52.283Z"
   },
   {
    "duration": 13,
    "start_time": "2021-09-02T23:07:52.304Z"
   },
   {
    "duration": 35,
    "start_time": "2021-09-02T23:07:52.320Z"
   },
   {
    "duration": 9,
    "start_time": "2021-09-02T23:07:52.358Z"
   },
   {
    "duration": 16,
    "start_time": "2021-09-02T23:07:52.369Z"
   },
   {
    "duration": 9,
    "start_time": "2021-09-02T23:07:52.387Z"
   },
   {
    "duration": 2394,
    "start_time": "2021-09-02T23:07:52.399Z"
   },
   {
    "duration": 446,
    "start_time": "2021-09-02T23:07:54.796Z"
   },
   {
    "duration": 5,
    "start_time": "2021-09-02T23:07:59.660Z"
   },
   {
    "duration": 13,
    "start_time": "2021-09-02T23:08:01.032Z"
   },
   {
    "duration": 15,
    "start_time": "2021-09-02T23:08:04.950Z"
   },
   {
    "duration": 7,
    "start_time": "2021-09-02T23:08:21.614Z"
   },
   {
    "duration": 12,
    "start_time": "2021-09-02T23:08:35.010Z"
   },
   {
    "duration": 5,
    "start_time": "2021-09-02T23:11:46.136Z"
   },
   {
    "duration": 77,
    "start_time": "2021-09-02T23:11:46.150Z"
   },
   {
    "duration": 9,
    "start_time": "2021-09-02T23:11:46.230Z"
   },
   {
    "duration": 41,
    "start_time": "2021-09-02T23:11:46.242Z"
   },
   {
    "duration": 18,
    "start_time": "2021-09-02T23:11:46.286Z"
   },
   {
    "duration": 25,
    "start_time": "2021-09-02T23:11:46.306Z"
   },
   {
    "duration": 37,
    "start_time": "2021-09-02T23:11:46.333Z"
   },
   {
    "duration": 29,
    "start_time": "2021-09-02T23:11:46.373Z"
   },
   {
    "duration": 14,
    "start_time": "2021-09-02T23:11:46.405Z"
   },
   {
    "duration": 2353,
    "start_time": "2021-09-02T23:11:46.423Z"
   },
   {
    "duration": 559,
    "start_time": "2021-09-02T23:11:48.779Z"
   },
   {
    "duration": 16,
    "start_time": "2021-09-02T23:11:49.340Z"
   },
   {
    "duration": 36,
    "start_time": "2021-09-02T23:11:49.358Z"
   },
   {
    "duration": 28,
    "start_time": "2021-09-02T23:11:49.397Z"
   },
   {
    "duration": 17,
    "start_time": "2021-09-02T23:11:49.428Z"
   },
   {
    "duration": 32,
    "start_time": "2021-09-02T23:11:49.448Z"
   },
   {
    "duration": 26,
    "start_time": "2021-09-02T23:11:49.482Z"
   },
   {
    "duration": 25,
    "start_time": "2021-09-02T23:11:49.511Z"
   },
   {
    "duration": 3,
    "start_time": "2021-09-02T23:11:54.715Z"
   },
   {
    "duration": 89428,
    "start_time": "2021-09-02T23:11:59.442Z"
   },
   {
    "duration": 19,
    "start_time": "2021-09-02T23:20:03.615Z"
   },
   {
    "duration": 5,
    "start_time": "2021-09-02T23:21:11.779Z"
   },
   {
    "duration": 77,
    "start_time": "2021-09-02T23:21:11.787Z"
   },
   {
    "duration": 9,
    "start_time": "2021-09-02T23:21:11.867Z"
   },
   {
    "duration": 19,
    "start_time": "2021-09-02T23:21:11.879Z"
   },
   {
    "duration": 11,
    "start_time": "2021-09-02T23:21:11.900Z"
   },
   {
    "duration": 40,
    "start_time": "2021-09-02T23:21:11.914Z"
   },
   {
    "duration": 14,
    "start_time": "2021-09-02T23:21:11.957Z"
   },
   {
    "duration": 14,
    "start_time": "2021-09-02T23:21:11.973Z"
   },
   {
    "duration": 8,
    "start_time": "2021-09-02T23:21:11.991Z"
   },
   {
    "duration": 2300,
    "start_time": "2021-09-02T23:21:12.002Z"
   },
   {
    "duration": 444,
    "start_time": "2021-09-02T23:21:14.305Z"
   },
   {
    "duration": 10,
    "start_time": "2021-09-02T23:21:14.755Z"
   },
   {
    "duration": 30,
    "start_time": "2021-09-02T23:21:14.768Z"
   },
   {
    "duration": 13,
    "start_time": "2021-09-02T23:21:14.800Z"
   },
   {
    "duration": 23,
    "start_time": "2021-09-02T23:21:14.815Z"
   },
   {
    "duration": 26,
    "start_time": "2021-09-02T23:21:14.841Z"
   },
   {
    "duration": 16,
    "start_time": "2021-09-02T23:21:14.870Z"
   },
   {
    "duration": 26,
    "start_time": "2021-09-02T23:21:14.889Z"
   },
   {
    "duration": 86717,
    "start_time": "2021-09-02T23:21:19.039Z"
   },
   {
    "duration": 2660838,
    "start_time": "2021-09-02T23:22:58.627Z"
   },
   {
    "duration": 840584,
    "start_time": "2021-09-03T00:08:21.275Z"
   },
   {
    "duration": 5,
    "start_time": "2021-09-03T00:23:02.924Z"
   },
   {
    "duration": 93,
    "start_time": "2021-09-03T00:27:32.223Z"
   },
   {
    "duration": 44903,
    "start_time": "2021-09-03T00:28:05.776Z"
   },
   {
    "duration": 4,
    "start_time": "2021-09-03T00:29:19.580Z"
   },
   {
    "duration": 64,
    "start_time": "2021-09-03T00:29:19.596Z"
   },
   {
    "duration": 10,
    "start_time": "2021-09-03T00:29:19.662Z"
   },
   {
    "duration": 18,
    "start_time": "2021-09-03T00:29:19.675Z"
   },
   {
    "duration": 9,
    "start_time": "2021-09-03T00:29:19.696Z"
   },
   {
    "duration": 15,
    "start_time": "2021-09-03T00:29:19.708Z"
   },
   {
    "duration": 47,
    "start_time": "2021-09-03T00:29:19.725Z"
   },
   {
    "duration": 22,
    "start_time": "2021-09-03T00:29:19.774Z"
   },
   {
    "duration": 9,
    "start_time": "2021-09-03T00:29:19.798Z"
   },
   {
    "duration": 2452,
    "start_time": "2021-09-03T00:29:19.810Z"
   },
   {
    "duration": 438,
    "start_time": "2021-09-03T00:29:22.264Z"
   },
   {
    "duration": 11,
    "start_time": "2021-09-03T00:29:22.704Z"
   },
   {
    "duration": 11,
    "start_time": "2021-09-03T00:29:22.717Z"
   },
   {
    "duration": 5,
    "start_time": "2021-09-03T00:29:22.755Z"
   },
   {
    "duration": 9,
    "start_time": "2021-09-03T00:29:22.762Z"
   },
   {
    "duration": 14,
    "start_time": "2021-09-03T00:29:22.773Z"
   },
   {
    "duration": 15,
    "start_time": "2021-09-03T00:29:22.789Z"
   },
   {
    "duration": 13,
    "start_time": "2021-09-03T00:29:22.806Z"
   },
   {
    "duration": 69901,
    "start_time": "2021-09-03T00:29:30.966Z"
   },
   {
    "duration": 13,
    "start_time": "2021-09-03T00:34:08.052Z"
   },
   {
    "duration": 5,
    "start_time": "2021-09-03T00:51:03.157Z"
   },
   {
    "duration": 64,
    "start_time": "2021-09-03T00:51:03.169Z"
   },
   {
    "duration": 25,
    "start_time": "2021-09-03T00:51:03.236Z"
   },
   {
    "duration": 19,
    "start_time": "2021-09-03T00:51:03.264Z"
   },
   {
    "duration": 9,
    "start_time": "2021-09-03T00:51:03.286Z"
   },
   {
    "duration": 7,
    "start_time": "2021-09-03T00:51:03.298Z"
   },
   {
    "duration": 52,
    "start_time": "2021-09-03T00:51:03.307Z"
   },
   {
    "duration": 15,
    "start_time": "2021-09-03T00:51:03.361Z"
   },
   {
    "duration": 9,
    "start_time": "2021-09-03T00:51:03.378Z"
   },
   {
    "duration": 2272,
    "start_time": "2021-09-03T00:51:03.391Z"
   },
   {
    "duration": 441,
    "start_time": "2021-09-03T00:51:05.666Z"
   },
   {
    "duration": 13,
    "start_time": "2021-09-03T00:51:06.109Z"
   },
   {
    "duration": 35,
    "start_time": "2021-09-03T00:51:06.125Z"
   },
   {
    "duration": 14,
    "start_time": "2021-09-03T00:51:06.163Z"
   },
   {
    "duration": 6,
    "start_time": "2021-09-03T00:51:06.180Z"
   },
   {
    "duration": 8,
    "start_time": "2021-09-03T00:51:06.188Z"
   },
   {
    "duration": 83959,
    "start_time": "2021-09-03T00:51:06.198Z"
   },
   {
    "duration": 177706,
    "start_time": "2021-09-03T00:52:30.159Z"
   },
   {
    "duration": 12,
    "start_time": "2021-09-03T00:55:27.868Z"
   },
   {
    "duration": 5,
    "start_time": "2021-09-03T00:57:37.710Z"
   },
   {
    "duration": 61,
    "start_time": "2021-09-03T00:57:37.724Z"
   },
   {
    "duration": 9,
    "start_time": "2021-09-03T00:57:37.788Z"
   },
   {
    "duration": 20,
    "start_time": "2021-09-03T00:57:37.800Z"
   },
   {
    "duration": 36,
    "start_time": "2021-09-03T00:57:37.823Z"
   },
   {
    "duration": 6,
    "start_time": "2021-09-03T00:57:37.862Z"
   },
   {
    "duration": 10,
    "start_time": "2021-09-03T00:57:37.871Z"
   },
   {
    "duration": 15,
    "start_time": "2021-09-03T00:57:37.883Z"
   },
   {
    "duration": 10,
    "start_time": "2021-09-03T00:57:37.900Z"
   },
   {
    "duration": 2505,
    "start_time": "2021-09-03T00:57:37.913Z"
   },
   {
    "duration": 447,
    "start_time": "2021-09-03T00:57:40.421Z"
   },
   {
    "duration": 11,
    "start_time": "2021-09-03T00:57:40.870Z"
   },
   {
    "duration": 16,
    "start_time": "2021-09-03T00:57:40.884Z"
   },
   {
    "duration": 7,
    "start_time": "2021-09-03T00:57:40.902Z"
   },
   {
    "duration": 8,
    "start_time": "2021-09-03T00:57:40.911Z"
   },
   {
    "duration": 35,
    "start_time": "2021-09-03T00:57:40.921Z"
   },
   {
    "duration": 71544,
    "start_time": "2021-09-03T00:57:54.025Z"
   },
   {
    "duration": 12,
    "start_time": "2021-09-03T00:59:17.074Z"
   },
   {
    "duration": 1583,
    "start_time": "2021-09-03T05:02:28.502Z"
   },
   {
    "duration": 71,
    "start_time": "2021-09-03T05:02:30.087Z"
   },
   {
    "duration": 10,
    "start_time": "2021-09-03T05:02:30.167Z"
   },
   {
    "duration": 18,
    "start_time": "2021-09-03T05:03:28.269Z"
   },
   {
    "duration": 10,
    "start_time": "2021-09-03T05:03:29.838Z"
   },
   {
    "duration": 5,
    "start_time": "2021-09-03T05:03:31.727Z"
   },
   {
    "duration": 14,
    "start_time": "2021-09-03T05:03:33.046Z"
   },
   {
    "duration": 18,
    "start_time": "2021-09-03T05:03:34.399Z"
   },
   {
    "duration": 9,
    "start_time": "2021-09-03T05:03:59.839Z"
   },
   {
    "duration": 2423,
    "start_time": "2021-09-03T05:04:01.239Z"
   },
   {
    "duration": 465,
    "start_time": "2021-09-03T05:04:03.668Z"
   },
   {
    "duration": 13,
    "start_time": "2021-09-03T05:04:50.550Z"
   },
   {
    "duration": 10,
    "start_time": "2021-09-03T05:05:01.311Z"
   },
   {
    "duration": 5,
    "start_time": "2021-09-03T05:05:43.358Z"
   },
   {
    "duration": 5,
    "start_time": "2021-09-03T05:06:14.935Z"
   },
   {
    "duration": 5,
    "start_time": "2021-09-03T05:07:13.232Z"
   },
   {
    "duration": 86451,
    "start_time": "2021-09-03T05:07:17.719Z"
   },
   {
    "duration": 195716,
    "start_time": "2021-09-03T05:08:44.173Z"
   },
   {
    "duration": 12,
    "start_time": "2021-09-03T05:11:59.892Z"
   },
   {
    "duration": 1203,
    "start_time": "2021-09-03T09:27:10.640Z"
   },
   {
    "duration": 57,
    "start_time": "2021-09-03T09:27:11.845Z"
   },
   {
    "duration": 7,
    "start_time": "2021-09-03T09:27:11.904Z"
   },
   {
    "duration": 17,
    "start_time": "2021-09-03T09:27:11.913Z"
   },
   {
    "duration": 10,
    "start_time": "2021-09-03T09:27:11.932Z"
   },
   {
    "duration": 8,
    "start_time": "2021-09-03T09:27:11.944Z"
   },
   {
    "duration": 12,
    "start_time": "2021-09-03T09:27:11.954Z"
   },
   {
    "duration": 13,
    "start_time": "2021-09-03T09:27:11.992Z"
   },
   {
    "duration": 7,
    "start_time": "2021-09-03T09:27:12.008Z"
   },
   {
    "duration": 1598,
    "start_time": "2021-09-03T09:27:12.017Z"
   },
   {
    "duration": 303,
    "start_time": "2021-09-03T09:27:13.617Z"
   },
   {
    "duration": 8,
    "start_time": "2021-09-03T09:27:13.921Z"
   },
   {
    "duration": 13,
    "start_time": "2021-09-03T09:27:13.930Z"
   },
   {
    "duration": 5,
    "start_time": "2021-09-03T09:27:13.945Z"
   },
   {
    "duration": 5,
    "start_time": "2021-09-03T09:32:04.556Z"
   },
   {
    "duration": 3,
    "start_time": "2021-09-03T09:35:54.079Z"
   },
   {
    "duration": 51,
    "start_time": "2021-09-03T09:35:54.090Z"
   },
   {
    "duration": 8,
    "start_time": "2021-09-03T09:35:54.142Z"
   },
   {
    "duration": 13,
    "start_time": "2021-09-03T09:35:54.152Z"
   },
   {
    "duration": 30,
    "start_time": "2021-09-03T09:35:54.168Z"
   },
   {
    "duration": 9,
    "start_time": "2021-09-03T09:35:54.200Z"
   },
   {
    "duration": 11,
    "start_time": "2021-09-03T09:35:54.211Z"
   },
   {
    "duration": 12,
    "start_time": "2021-09-03T09:35:54.224Z"
   },
   {
    "duration": 7,
    "start_time": "2021-09-03T09:35:54.237Z"
   },
   {
    "duration": 1460,
    "start_time": "2021-09-03T09:35:54.247Z"
   },
   {
    "duration": 264,
    "start_time": "2021-09-03T09:35:55.709Z"
   },
   {
    "duration": 19,
    "start_time": "2021-09-03T09:35:55.975Z"
   },
   {
    "duration": 9,
    "start_time": "2021-09-03T09:35:55.996Z"
   },
   {
    "duration": 10,
    "start_time": "2021-09-03T09:35:56.006Z"
   },
   {
    "duration": 4,
    "start_time": "2021-09-03T09:35:56.018Z"
   },
   {
    "duration": 7,
    "start_time": "2021-09-03T09:35:56.024Z"
   },
   {
    "duration": 71353,
    "start_time": "2021-09-03T09:36:04.942Z"
   },
   {
    "duration": 325,
    "start_time": "2021-09-03T09:38:15.937Z"
   },
   {
    "duration": 8,
    "start_time": "2021-09-03T09:38:30.483Z"
   },
   {
    "duration": 241,
    "start_time": "2021-09-03T09:40:46.957Z"
   },
   {
    "duration": 239,
    "start_time": "2021-09-03T09:41:05.381Z"
   },
   {
    "duration": 5,
    "start_time": "2021-09-03T09:43:09.394Z"
   },
   {
    "duration": 8,
    "start_time": "2021-09-03T09:43:33.465Z"
   },
   {
    "duration": 6,
    "start_time": "2021-09-03T09:45:56.284Z"
   },
   {
    "duration": 9,
    "start_time": "2021-09-03T09:46:05.601Z"
   },
   {
    "duration": 10,
    "start_time": "2021-09-03T09:46:09.237Z"
   },
   {
    "duration": 9,
    "start_time": "2021-09-03T09:49:03.324Z"
   },
   {
    "duration": 248,
    "start_time": "2021-09-03T09:49:20.029Z"
   },
   {
    "duration": 293,
    "start_time": "2021-09-03T09:49:28.325Z"
   },
   {
    "duration": 362,
    "start_time": "2021-09-03T09:49:37.529Z"
   },
   {
    "duration": 337,
    "start_time": "2021-09-03T09:49:43.558Z"
   },
   {
    "duration": 346,
    "start_time": "2021-09-03T09:49:48.110Z"
   },
   {
    "duration": 334,
    "start_time": "2021-09-03T09:49:52.248Z"
   },
   {
    "duration": 301,
    "start_time": "2021-09-03T09:49:55.624Z"
   },
   {
    "duration": 317,
    "start_time": "2021-09-03T09:50:47.473Z"
   },
   {
    "duration": 250,
    "start_time": "2021-09-03T09:51:35.491Z"
   },
   {
    "duration": 242,
    "start_time": "2021-09-03T09:52:02.627Z"
   },
   {
    "duration": 250,
    "start_time": "2021-09-03T09:53:51.118Z"
   },
   {
    "duration": 131972,
    "start_time": "2021-09-03T09:54:50.333Z"
   },
   {
    "duration": 9,
    "start_time": "2021-09-03T09:57:11.569Z"
   },
   {
    "duration": 259,
    "start_time": "2021-09-03T10:01:25.977Z"
   },
   {
    "duration": 386,
    "start_time": "2021-09-03T10:01:41.898Z"
   },
   {
    "duration": 1499,
    "start_time": "2022-11-13T21:38:11.064Z"
   },
   {
    "duration": 147,
    "start_time": "2022-11-13T21:38:14.011Z"
   },
   {
    "duration": 15,
    "start_time": "2022-11-13T21:38:18.972Z"
   },
   {
    "duration": 7,
    "start_time": "2022-11-13T21:38:21.043Z"
   },
   {
    "duration": 5,
    "start_time": "2022-11-13T21:38:23.304Z"
   },
   {
    "duration": 4,
    "start_time": "2022-11-13T22:22:19.231Z"
   },
   {
    "duration": 78,
    "start_time": "2022-11-13T22:22:19.237Z"
   },
   {
    "duration": 7,
    "start_time": "2022-11-13T22:22:19.317Z"
   },
   {
    "duration": 21,
    "start_time": "2022-11-13T22:22:19.326Z"
   },
   {
    "duration": 7,
    "start_time": "2022-11-13T22:22:19.349Z"
   },
   {
    "duration": 7,
    "start_time": "2022-11-13T22:22:19.358Z"
   },
   {
    "duration": 11,
    "start_time": "2022-11-13T22:22:19.366Z"
   },
   {
    "duration": 11,
    "start_time": "2022-11-13T22:22:19.379Z"
   },
   {
    "duration": 30,
    "start_time": "2022-11-13T22:22:19.391Z"
   },
   {
    "duration": 1164,
    "start_time": "2022-11-13T22:22:19.423Z"
   },
   {
    "duration": 255,
    "start_time": "2022-11-13T22:22:20.588Z"
   },
   {
    "duration": 7,
    "start_time": "2022-11-13T22:22:20.845Z"
   },
   {
    "duration": 11,
    "start_time": "2022-11-13T22:22:20.855Z"
   },
   {
    "duration": 23,
    "start_time": "2022-11-13T22:22:20.868Z"
   },
   {
    "duration": 14,
    "start_time": "2022-11-13T22:22:20.892Z"
   },
   {
    "duration": 14,
    "start_time": "2022-11-13T22:22:20.908Z"
   },
   {
    "duration": 77296,
    "start_time": "2022-11-13T22:22:20.924Z"
   },
   {
    "duration": 504,
    "start_time": "2022-11-13T22:23:38.222Z"
   },
   {
    "duration": 155393,
    "start_time": "2022-11-13T22:23:38.727Z"
   },
   {
    "duration": 9,
    "start_time": "2022-11-13T22:26:14.122Z"
   },
   {
    "duration": 237,
    "start_time": "2022-11-13T22:26:14.132Z"
   },
   {
    "duration": 228,
    "start_time": "2022-11-13T22:26:14.371Z"
   },
   {
    "duration": 229,
    "start_time": "2022-11-13T22:26:14.601Z"
   },
   {
    "duration": 219,
    "start_time": "2022-11-13T22:28:14.146Z"
   },
   {
    "duration": 226,
    "start_time": "2022-11-13T22:28:46.847Z"
   },
   {
    "duration": 216,
    "start_time": "2022-11-13T22:29:02.790Z"
   }
  ],
  "kernelspec": {
   "display_name": "Python 3 (ipykernel)",
   "language": "python",
   "name": "python3"
  },
  "language_info": {
   "codemirror_mode": {
    "name": "ipython",
    "version": 3
   },
   "file_extension": ".py",
   "mimetype": "text/x-python",
   "name": "python",
   "nbconvert_exporter": "python",
   "pygments_lexer": "ipython3",
   "version": "3.9.5"
  },
  "toc": {
   "base_numbering": "1",
   "nav_menu": {},
   "number_sections": true,
   "sideBar": true,
   "skip_h1_title": true,
   "title_cell": "Table of Contents",
   "title_sidebar": "Contents",
   "toc_cell": true,
   "toc_position": {
    "height": "calc(100% - 180px)",
    "left": "10px",
    "top": "150px",
    "width": "286px"
   },
   "toc_section_display": true,
   "toc_window_display": true
  }
 },
 "nbformat": 4,
 "nbformat_minor": 2
}
